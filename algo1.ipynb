{
 "cells": [
  {
   "cell_type": "code",
   "execution_count": 33,
   "metadata": {},
   "outputs": [],
   "source": [
    "# -*- coding: utf-8 -*-\n",
    "import yfinance as yf\n",
    "import pandas as pd\n",
    "import math"
   ]
  },
  {
   "cell_type": "markdown",
   "metadata": {},
   "source": [
    "# First Trading-Bot"
   ]
  },
  {
   "cell_type": "markdown",
   "metadata": {
    "jp-MarkdownHeadingCollapsed": true
   },
   "source": [
    "## Logic behind the algorithm"
   ]
  },
  {
   "cell_type": "code",
   "execution_count": 17,
   "metadata": {},
   "outputs": [],
   "source": [
    "# Portfolio tickers: List of stocks and bonds\n",
    "portfolio_tickers = [\"AAPL\", \"MSFT\", \"TLT\", \"SPY\"]  # Example tickers\n",
    "\n",
    "def signal_generator(df):\n",
    "    # Extract scalar values (ensure they're floats, not Series)\n",
    "    open_price = float(df.iloc[1][\"Open\"])\n",
    "    close_price = float(df.iloc[1][\"Close\"])\n",
    "    previous_open = float(df.iloc[0][\"Open\"])\n",
    "    previous_close = float(df.iloc[0][\"Close\"])\n",
    "\n",
    "    # Bearish Pattern\n",
    "    if open_price > close_price and previous_open < previous_close and close_price < previous_open and open_price >= previous_close:\n",
    "        return 1  # Bearish (Sell signal)\n",
    "\n",
    "    # Bullish Pattern\n",
    "    elif open_price < close_price and previous_open > previous_close and close_price > previous_open and open_price <= previous_close:\n",
    "        return 2  # Bullish (Buy signal)\n",
    "\n",
    "    # No clear pattern\n",
    "    else:\n",
    "        return 0\n",
    "\n",
    "\n",
    "# Fetch data for all portfolio assets\n",
    "def fetch_data(ticker, start_date, end_date):\n",
    "    print(f\"Fetching data for {ticker}...\")\n",
    "    data = yf.download(ticker, start=start_date, end=end_date)\n",
    "    return data\n",
    "\n",
    "def evaluate_algorithm():\n",
    "    start_date = \"2022-10-07\"\n",
    "    end_date = \"2022-12-05\"\n",
    "\n",
    "    # Results storage\n",
    "    evaluation_results = []\n",
    "\n",
    "    for ticker in portfolio_tickers:\n",
    "        # Fetch data for the asset\n",
    "        dataF = fetch_data(ticker, start_date, end_date)\n",
    "        if dataF.empty or len(dataF) < 2:\n",
    "            print(f\"Not enough data for {ticker}. Skipping.\")\n",
    "            continue\n",
    "\n",
    "        # Generate signals for all candles\n",
    "        signals = []\n",
    "        signals.append(0)  # First candle cannot have a signal\n",
    "        for i in range(1, len(dataF)):\n",
    "            df_slice = dataF.iloc[i - 1:i + 1]  # Two rows for signal calculation\n",
    "            signals.append(signal_generator(df_slice))\n",
    "        \n",
    "        # Add signals to the dataframe\n",
    "        dataF[\"Signal\"] = signals\n",
    "\n",
    "        # Analyze signal distribution\n",
    "        signal_counts = dataF[\"Signal\"].value_counts()\n",
    "        print(f\"{ticker} Signal Distribution:\")\n",
    "        print(signal_counts)\n",
    "\n",
    "        # Save results for the evaluation\n",
    "        evaluation_results.append({\n",
    "            \"Ticker\": ticker,\n",
    "            \"Signal Distribution\": signal_counts.to_dict()\n",
    "        })\n",
    "\n",
    "    # Return evaluation results\n",
    "    return evaluation_results\n",
    "\n"
   ]
  },
  {
   "cell_type": "code",
   "execution_count": 18,
   "metadata": {},
   "outputs": [
    {
     "name": "stderr",
     "output_type": "stream",
     "text": [
      "[*********************100%***********************]  1 of 1 completed"
     ]
    },
    {
     "name": "stdout",
     "output_type": "stream",
     "text": [
      "Fetching data for AAPL...\n"
     ]
    },
    {
     "name": "stderr",
     "output_type": "stream",
     "text": [
      "\n",
      "C:\\Users\\diego\\AppData\\Local\\Temp\\ipykernel_10760\\4194218566.py:6: FutureWarning: Calling float on a single element Series is deprecated and will raise a TypeError in the future. Use float(ser.iloc[0]) instead\n",
      "  open_price = float(df.iloc[1][\"Open\"])\n",
      "C:\\Users\\diego\\AppData\\Local\\Temp\\ipykernel_10760\\4194218566.py:7: FutureWarning: Calling float on a single element Series is deprecated and will raise a TypeError in the future. Use float(ser.iloc[0]) instead\n",
      "  close_price = float(df.iloc[1][\"Close\"])\n",
      "C:\\Users\\diego\\AppData\\Local\\Temp\\ipykernel_10760\\4194218566.py:8: FutureWarning: Calling float on a single element Series is deprecated and will raise a TypeError in the future. Use float(ser.iloc[0]) instead\n",
      "  previous_open = float(df.iloc[0][\"Open\"])\n",
      "C:\\Users\\diego\\AppData\\Local\\Temp\\ipykernel_10760\\4194218566.py:9: FutureWarning: Calling float on a single element Series is deprecated and will raise a TypeError in the future. Use float(ser.iloc[0]) instead\n",
      "  previous_close = float(df.iloc[0][\"Close\"])\n"
     ]
    },
    {
     "name": "stdout",
     "output_type": "stream",
     "text": [
      "AAPL Signal Distribution:\n",
      "Signal\n",
      "0    37\n",
      "2     2\n",
      "1     1\n",
      "Name: count, dtype: int64\n",
      "Fetching data for MSFT...\n"
     ]
    },
    {
     "name": "stderr",
     "output_type": "stream",
     "text": [
      "[*********************100%***********************]  1 of 1 completed\n",
      "C:\\Users\\diego\\AppData\\Local\\Temp\\ipykernel_10760\\4194218566.py:6: FutureWarning: Calling float on a single element Series is deprecated and will raise a TypeError in the future. Use float(ser.iloc[0]) instead\n",
      "  open_price = float(df.iloc[1][\"Open\"])\n",
      "C:\\Users\\diego\\AppData\\Local\\Temp\\ipykernel_10760\\4194218566.py:7: FutureWarning: Calling float on a single element Series is deprecated and will raise a TypeError in the future. Use float(ser.iloc[0]) instead\n",
      "  close_price = float(df.iloc[1][\"Close\"])\n",
      "C:\\Users\\diego\\AppData\\Local\\Temp\\ipykernel_10760\\4194218566.py:8: FutureWarning: Calling float on a single element Series is deprecated and will raise a TypeError in the future. Use float(ser.iloc[0]) instead\n",
      "  previous_open = float(df.iloc[0][\"Open\"])\n",
      "C:\\Users\\diego\\AppData\\Local\\Temp\\ipykernel_10760\\4194218566.py:9: FutureWarning: Calling float on a single element Series is deprecated and will raise a TypeError in the future. Use float(ser.iloc[0]) instead\n",
      "  previous_close = float(df.iloc[0][\"Close\"])\n"
     ]
    },
    {
     "name": "stdout",
     "output_type": "stream",
     "text": [
      "MSFT Signal Distribution:\n",
      "Signal\n",
      "0    39\n",
      "2     1\n",
      "Name: count, dtype: int64\n",
      "Fetching data for TLT...\n"
     ]
    },
    {
     "name": "stderr",
     "output_type": "stream",
     "text": [
      "[*********************100%***********************]  1 of 1 completed\n",
      "C:\\Users\\diego\\AppData\\Local\\Temp\\ipykernel_10760\\4194218566.py:6: FutureWarning: Calling float on a single element Series is deprecated and will raise a TypeError in the future. Use float(ser.iloc[0]) instead\n",
      "  open_price = float(df.iloc[1][\"Open\"])\n",
      "C:\\Users\\diego\\AppData\\Local\\Temp\\ipykernel_10760\\4194218566.py:7: FutureWarning: Calling float on a single element Series is deprecated and will raise a TypeError in the future. Use float(ser.iloc[0]) instead\n",
      "  close_price = float(df.iloc[1][\"Close\"])\n",
      "C:\\Users\\diego\\AppData\\Local\\Temp\\ipykernel_10760\\4194218566.py:8: FutureWarning: Calling float on a single element Series is deprecated and will raise a TypeError in the future. Use float(ser.iloc[0]) instead\n",
      "  previous_open = float(df.iloc[0][\"Open\"])\n",
      "C:\\Users\\diego\\AppData\\Local\\Temp\\ipykernel_10760\\4194218566.py:9: FutureWarning: Calling float on a single element Series is deprecated and will raise a TypeError in the future. Use float(ser.iloc[0]) instead\n",
      "  previous_close = float(df.iloc[0][\"Close\"])\n"
     ]
    },
    {
     "name": "stdout",
     "output_type": "stream",
     "text": [
      "TLT Signal Distribution:\n",
      "Signal\n",
      "0    38\n",
      "1     1\n",
      "2     1\n",
      "Name: count, dtype: int64\n",
      "Fetching data for SPY...\n"
     ]
    },
    {
     "name": "stderr",
     "output_type": "stream",
     "text": [
      "[*********************100%***********************]  1 of 1 completed\n",
      "C:\\Users\\diego\\AppData\\Local\\Temp\\ipykernel_10760\\4194218566.py:6: FutureWarning: Calling float on a single element Series is deprecated and will raise a TypeError in the future. Use float(ser.iloc[0]) instead\n",
      "  open_price = float(df.iloc[1][\"Open\"])\n",
      "C:\\Users\\diego\\AppData\\Local\\Temp\\ipykernel_10760\\4194218566.py:7: FutureWarning: Calling float on a single element Series is deprecated and will raise a TypeError in the future. Use float(ser.iloc[0]) instead\n",
      "  close_price = float(df.iloc[1][\"Close\"])\n",
      "C:\\Users\\diego\\AppData\\Local\\Temp\\ipykernel_10760\\4194218566.py:8: FutureWarning: Calling float on a single element Series is deprecated and will raise a TypeError in the future. Use float(ser.iloc[0]) instead\n",
      "  previous_open = float(df.iloc[0][\"Open\"])\n",
      "C:\\Users\\diego\\AppData\\Local\\Temp\\ipykernel_10760\\4194218566.py:9: FutureWarning: Calling float on a single element Series is deprecated and will raise a TypeError in the future. Use float(ser.iloc[0]) instead\n",
      "  previous_close = float(df.iloc[0][\"Close\"])\n"
     ]
    },
    {
     "name": "stdout",
     "output_type": "stream",
     "text": [
      "SPY Signal Distribution:\n",
      "Signal\n",
      "0    36\n",
      "2     3\n",
      "1     1\n",
      "Name: count, dtype: int64\n",
      "\n",
      "Evaluation for AAPL:\n",
      "Signal Distribution: {0: 37, 2: 2, 1: 1}\n",
      "\n",
      "Evaluation for MSFT:\n",
      "Signal Distribution: {0: 39, 2: 1}\n",
      "\n",
      "Evaluation for TLT:\n",
      "Signal Distribution: {0: 38, 1: 1, 2: 1}\n",
      "\n",
      "Evaluation for SPY:\n",
      "Signal Distribution: {0: 36, 2: 3, 1: 1}\n"
     ]
    }
   ],
   "source": [
    "# Run the evaluation\n",
    "results = evaluate_algorithm()\n",
    "\n",
    "# Display results\n",
    "for result in results:\n",
    "    print(f\"\\nEvaluation for {result['Ticker']}:\")\n",
    "    print(f\"Signal Distribution: {result['Signal Distribution']}\")"
   ]
  },
  {
   "cell_type": "markdown",
   "metadata": {
    "jp-MarkdownHeadingCollapsed": true
   },
   "source": [
    "## Sample"
   ]
  },
  {
   "cell_type": "code",
   "execution_count": 36,
   "metadata": {},
   "outputs": [
    {
     "name": "stderr",
     "output_type": "stream",
     "text": [
      "[*********************100%***********************]  1 of 1 completed"
     ]
    },
    {
     "name": "stdout",
     "output_type": "stream",
     "text": [
      "Fetching data for AAPL...\n"
     ]
    },
    {
     "name": "stderr",
     "output_type": "stream",
     "text": [
      "\n",
      "C:\\Users\\diego\\AppData\\Local\\Temp\\ipykernel_10760\\3817118178.py:9: FutureWarning: Calling float on a single element Series is deprecated and will raise a TypeError in the future. Use float(ser.iloc[0]) instead\n",
      "  open_price = float(df.iloc[1][\"Open\"])\n",
      "C:\\Users\\diego\\AppData\\Local\\Temp\\ipykernel_10760\\3817118178.py:10: FutureWarning: Calling float on a single element Series is deprecated and will raise a TypeError in the future. Use float(ser.iloc[0]) instead\n",
      "  close_price = float(df.iloc[1][\"Close\"])\n",
      "C:\\Users\\diego\\AppData\\Local\\Temp\\ipykernel_10760\\3817118178.py:11: FutureWarning: Calling float on a single element Series is deprecated and will raise a TypeError in the future. Use float(ser.iloc[0]) instead\n",
      "  previous_open = float(df.iloc[0][\"Open\"])\n",
      "C:\\Users\\diego\\AppData\\Local\\Temp\\ipykernel_10760\\3817118178.py:12: FutureWarning: Calling float on a single element Series is deprecated and will raise a TypeError in the future. Use float(ser.iloc[0]) instead\n",
      "  previous_close = float(df.iloc[0][\"Close\"])\n",
      "C:\\Users\\diego\\AppData\\Local\\Temp\\ipykernel_10760\\3817118178.py:66: FutureWarning: The default fill_method='pad' in DataFrame.pct_change is deprecated and will be removed in a future version. Either fill in any non-leading NA values prior to calling pct_change or specify 'fill_method=None' to not fill NA values.\n",
      "  price_pct_change = dataF[\"Close\"].pct_change().squeeze()\n",
      "[*********************100%***********************]  1 of 1 completed\n",
      "C:\\Users\\diego\\AppData\\Local\\Temp\\ipykernel_10760\\3817118178.py:9: FutureWarning: Calling float on a single element Series is deprecated and will raise a TypeError in the future. Use float(ser.iloc[0]) instead\n",
      "  open_price = float(df.iloc[1][\"Open\"])\n",
      "C:\\Users\\diego\\AppData\\Local\\Temp\\ipykernel_10760\\3817118178.py:10: FutureWarning: Calling float on a single element Series is deprecated and will raise a TypeError in the future. Use float(ser.iloc[0]) instead\n",
      "  close_price = float(df.iloc[1][\"Close\"])\n",
      "C:\\Users\\diego\\AppData\\Local\\Temp\\ipykernel_10760\\3817118178.py:11: FutureWarning: Calling float on a single element Series is deprecated and will raise a TypeError in the future. Use float(ser.iloc[0]) instead\n",
      "  previous_open = float(df.iloc[0][\"Open\"])\n",
      "C:\\Users\\diego\\AppData\\Local\\Temp\\ipykernel_10760\\3817118178.py:12: FutureWarning: Calling float on a single element Series is deprecated and will raise a TypeError in the future. Use float(ser.iloc[0]) instead\n",
      "  previous_close = float(df.iloc[0][\"Close\"])\n"
     ]
    },
    {
     "name": "stdout",
     "output_type": "stream",
     "text": [
      "Signal Column:\n",
      "Signal\n",
      "0.0    1170\n",
      "1.0      51\n",
      "2.0      37\n",
      "Name: count, dtype: int64\n",
      "Shifted Position (Series):\n",
      "Date\n",
      "2019-01-02 00:00:00+00:00    NaN\n",
      "2019-01-03 00:00:00+00:00    0.0\n",
      "2019-01-04 00:00:00+00:00    0.0\n",
      "2019-01-07 00:00:00+00:00    0.0\n",
      "2019-01-08 00:00:00+00:00    0.0\n",
      "Name: Position, dtype: float64\n",
      "Price Percentage Change (Series):\n",
      "Date\n",
      "2019-01-02 00:00:00+00:00         NaN\n",
      "2019-01-03 00:00:00+00:00   -0.099607\n",
      "2019-01-04 00:00:00+00:00    0.042689\n",
      "2019-01-07 00:00:00+00:00   -0.002226\n",
      "2019-01-08 00:00:00+00:00    0.019063\n",
      "Name: AAPL, dtype: float64\n",
      "daily returns:\n",
      "Date\n",
      "2019-01-02 00:00:00+00:00    NaN\n",
      "2019-01-03 00:00:00+00:00   -0.0\n",
      "2019-01-04 00:00:00+00:00    0.0\n",
      "2019-01-07 00:00:00+00:00   -0.0\n",
      "2019-01-08 00:00:00+00:00    0.0\n",
      "Name: Daily Return, dtype: float64\n",
      "Fetching data for MSFT...\n",
      "Signal Column:\n",
      "Signal\n",
      "0.0    1166\n",
      "1.0      52\n",
      "2.0      40\n",
      "Name: count, dtype: int64\n",
      "Shifted Position (Series):\n",
      "Date\n",
      "2019-01-02 00:00:00+00:00    NaN\n",
      "2019-01-03 00:00:00+00:00    0.0\n",
      "2019-01-04 00:00:00+00:00    0.0\n",
      "2019-01-07 00:00:00+00:00    0.0\n",
      "2019-01-08 00:00:00+00:00    0.0\n",
      "Name: Position, dtype: float64\n",
      "Price Percentage Change (Series):\n",
      "Date\n",
      "2019-01-02 00:00:00+00:00         NaN\n",
      "2019-01-03 00:00:00+00:00   -0.036788\n",
      "2019-01-04 00:00:00+00:00    0.046509\n",
      "2019-01-07 00:00:00+00:00    0.001275\n",
      "2019-01-08 00:00:00+00:00    0.007251\n",
      "Name: MSFT, dtype: float64\n",
      "daily returns:\n",
      "Date\n",
      "2019-01-02 00:00:00+00:00    NaN\n",
      "2019-01-03 00:00:00+00:00   -0.0\n",
      "2019-01-04 00:00:00+00:00    0.0\n",
      "2019-01-07 00:00:00+00:00    0.0\n",
      "2019-01-08 00:00:00+00:00    0.0\n",
      "Name: Daily Return, dtype: float64\n"
     ]
    },
    {
     "name": "stderr",
     "output_type": "stream",
     "text": [
      "C:\\Users\\diego\\AppData\\Local\\Temp\\ipykernel_10760\\3817118178.py:66: FutureWarning: The default fill_method='pad' in DataFrame.pct_change is deprecated and will be removed in a future version. Either fill in any non-leading NA values prior to calling pct_change or specify 'fill_method=None' to not fill NA values.\n",
      "  price_pct_change = dataF[\"Close\"].pct_change().squeeze()\n"
     ]
    },
    {
     "ename": "ValueError",
     "evalue": "('Lengths must match to compare', (1346,), (0,))",
     "output_type": "error",
     "traceback": [
      "\u001b[1;31m---------------------------------------------------------------------------\u001b[0m",
      "\u001b[1;31mValueError\u001b[0m                                Traceback (most recent call last)",
      "Cell \u001b[1;32mIn[36], line 126\u001b[0m\n\u001b[0;32m    124\u001b[0m \u001b[38;5;66;03m# Main function\u001b[39;00m\n\u001b[0;32m    125\u001b[0m initial_capital \u001b[38;5;241m=\u001b[39m \u001b[38;5;241m10000\u001b[39m\n\u001b[1;32m--> 126\u001b[0m final_value, portfolio_history, daily_returns \u001b[38;5;241m=\u001b[39m simulate_portfolio(initial_capital)\n\u001b[0;32m    128\u001b[0m \u001b[38;5;28mprint\u001b[39m(\u001b[38;5;124mf\u001b[39m\u001b[38;5;124m\"\u001b[39m\u001b[38;5;124mInitial Portfolio Value: $\u001b[39m\u001b[38;5;132;01m{\u001b[39;00minitial_capital\u001b[38;5;132;01m:\u001b[39;00m\u001b[38;5;124m.2f\u001b[39m\u001b[38;5;132;01m}\u001b[39;00m\u001b[38;5;124m\"\u001b[39m)\n\u001b[0;32m    129\u001b[0m \u001b[38;5;28mprint\u001b[39m(\u001b[38;5;124mf\u001b[39m\u001b[38;5;124m\"\u001b[39m\u001b[38;5;124mFinal Portfolio Value: $\u001b[39m\u001b[38;5;132;01m{\u001b[39;00mfinal_value\u001b[38;5;132;01m:\u001b[39;00m\u001b[38;5;124m.2f\u001b[39m\u001b[38;5;132;01m}\u001b[39;00m\u001b[38;5;124m\"\u001b[39m)\n",
      "Cell \u001b[1;32mIn[36], line 91\u001b[0m, in \u001b[0;36msimulate_portfolio\u001b[1;34m(initial_capital, start_date, end_date, interval)\u001b[0m\n\u001b[0;32m     88\u001b[0m     portfolio_history \u001b[38;5;241m+\u001b[39m\u001b[38;5;241m=\u001b[39m dataF[\u001b[38;5;124m\"\u001b[39m\u001b[38;5;124mWeighted Return\u001b[39m\u001b[38;5;124m\"\u001b[39m]\u001b[38;5;241m.\u001b[39mcumsum()\n\u001b[0;32m     90\u001b[0m \u001b[38;5;66;03m# Combine daily returns\u001b[39;00m\n\u001b[1;32m---> 91\u001b[0m \u001b[38;5;28;01mif\u001b[39;00m daily_returns \u001b[38;5;241m==\u001b[39m []:\n\u001b[0;32m     92\u001b[0m     daily_returns \u001b[38;5;241m=\u001b[39m dataF[\u001b[38;5;124m\"\u001b[39m\u001b[38;5;124mWeighted Return\u001b[39m\u001b[38;5;124m\"\u001b[39m]\u001b[38;5;241m.\u001b[39mfillna(\u001b[38;5;241m0\u001b[39m)\n\u001b[0;32m     93\u001b[0m \u001b[38;5;28;01melse\u001b[39;00m:\n",
      "File \u001b[1;32mc:\\Users\\diego\\anaconda3\\Lib\\site-packages\\pandas\\core\\ops\\common.py:76\u001b[0m, in \u001b[0;36m_unpack_zerodim_and_defer.<locals>.new_method\u001b[1;34m(self, other)\u001b[0m\n\u001b[0;32m     72\u001b[0m             \u001b[38;5;28;01mreturn\u001b[39;00m \u001b[38;5;28mNotImplemented\u001b[39m\n\u001b[0;32m     74\u001b[0m other \u001b[38;5;241m=\u001b[39m item_from_zerodim(other)\n\u001b[1;32m---> 76\u001b[0m \u001b[38;5;28;01mreturn\u001b[39;00m method(\u001b[38;5;28mself\u001b[39m, other)\n",
      "File \u001b[1;32mc:\\Users\\diego\\anaconda3\\Lib\\site-packages\\pandas\\core\\arraylike.py:40\u001b[0m, in \u001b[0;36mOpsMixin.__eq__\u001b[1;34m(self, other)\u001b[0m\n\u001b[0;32m     38\u001b[0m \u001b[38;5;129m@unpack_zerodim_and_defer\u001b[39m(\u001b[38;5;124m\"\u001b[39m\u001b[38;5;124m__eq__\u001b[39m\u001b[38;5;124m\"\u001b[39m)\n\u001b[0;32m     39\u001b[0m \u001b[38;5;28;01mdef\u001b[39;00m \u001b[38;5;21m__eq__\u001b[39m(\u001b[38;5;28mself\u001b[39m, other):\n\u001b[1;32m---> 40\u001b[0m     \u001b[38;5;28;01mreturn\u001b[39;00m \u001b[38;5;28mself\u001b[39m\u001b[38;5;241m.\u001b[39m_cmp_method(other, operator\u001b[38;5;241m.\u001b[39meq)\n",
      "File \u001b[1;32mc:\\Users\\diego\\anaconda3\\Lib\\site-packages\\pandas\\core\\series.py:5803\u001b[0m, in \u001b[0;36mSeries._cmp_method\u001b[1;34m(self, other, op)\u001b[0m\n\u001b[0;32m   5800\u001b[0m lvalues \u001b[38;5;241m=\u001b[39m \u001b[38;5;28mself\u001b[39m\u001b[38;5;241m.\u001b[39m_values\n\u001b[0;32m   5801\u001b[0m rvalues \u001b[38;5;241m=\u001b[39m extract_array(other, extract_numpy\u001b[38;5;241m=\u001b[39m\u001b[38;5;28;01mTrue\u001b[39;00m, extract_range\u001b[38;5;241m=\u001b[39m\u001b[38;5;28;01mTrue\u001b[39;00m)\n\u001b[1;32m-> 5803\u001b[0m res_values \u001b[38;5;241m=\u001b[39m ops\u001b[38;5;241m.\u001b[39mcomparison_op(lvalues, rvalues, op)\n\u001b[0;32m   5805\u001b[0m \u001b[38;5;28;01mreturn\u001b[39;00m \u001b[38;5;28mself\u001b[39m\u001b[38;5;241m.\u001b[39m_construct_result(res_values, name\u001b[38;5;241m=\u001b[39mres_name)\n",
      "File \u001b[1;32mc:\\Users\\diego\\anaconda3\\Lib\\site-packages\\pandas\\core\\ops\\array_ops.py:323\u001b[0m, in \u001b[0;36mcomparison_op\u001b[1;34m(left, right, op)\u001b[0m\n\u001b[0;32m    318\u001b[0m \u001b[38;5;28;01mif\u001b[39;00m \u001b[38;5;28misinstance\u001b[39m(rvalues, (np\u001b[38;5;241m.\u001b[39mndarray, ABCExtensionArray)):\n\u001b[0;32m    319\u001b[0m     \u001b[38;5;66;03m# TODO: make this treatment consistent across ops and classes.\u001b[39;00m\n\u001b[0;32m    320\u001b[0m     \u001b[38;5;66;03m#  We are not catching all listlikes here (e.g. frozenset, tuple)\u001b[39;00m\n\u001b[0;32m    321\u001b[0m     \u001b[38;5;66;03m#  The ambiguous case is object-dtype.  See GH#27803\u001b[39;00m\n\u001b[0;32m    322\u001b[0m     \u001b[38;5;28;01mif\u001b[39;00m \u001b[38;5;28mlen\u001b[39m(lvalues) \u001b[38;5;241m!=\u001b[39m \u001b[38;5;28mlen\u001b[39m(rvalues):\n\u001b[1;32m--> 323\u001b[0m         \u001b[38;5;28;01mraise\u001b[39;00m \u001b[38;5;167;01mValueError\u001b[39;00m(\n\u001b[0;32m    324\u001b[0m             \u001b[38;5;124m\"\u001b[39m\u001b[38;5;124mLengths must match to compare\u001b[39m\u001b[38;5;124m\"\u001b[39m, lvalues\u001b[38;5;241m.\u001b[39mshape, rvalues\u001b[38;5;241m.\u001b[39mshape\n\u001b[0;32m    325\u001b[0m         )\n\u001b[0;32m    327\u001b[0m \u001b[38;5;28;01mif\u001b[39;00m should_extension_dispatch(lvalues, rvalues) \u001b[38;5;129;01mor\u001b[39;00m (\n\u001b[0;32m    328\u001b[0m     (\u001b[38;5;28misinstance\u001b[39m(rvalues, (Timedelta, BaseOffset, Timestamp)) \u001b[38;5;129;01mor\u001b[39;00m right \u001b[38;5;129;01mis\u001b[39;00m NaT)\n\u001b[0;32m    329\u001b[0m     \u001b[38;5;129;01mand\u001b[39;00m lvalues\u001b[38;5;241m.\u001b[39mdtype \u001b[38;5;241m!=\u001b[39m \u001b[38;5;28mobject\u001b[39m\n\u001b[0;32m    330\u001b[0m ):\n\u001b[0;32m    331\u001b[0m     \u001b[38;5;66;03m# Call the method on lvalues\u001b[39;00m\n\u001b[0;32m    332\u001b[0m     res_values \u001b[38;5;241m=\u001b[39m op(lvalues, rvalues)\n",
      "\u001b[1;31mValueError\u001b[0m: ('Lengths must match to compare', (1346,), (0,))"
     ]
    }
   ],
   "source": [
    "import matplotlib.pyplot as plt\n",
    "import numpy as np\n",
    "\n",
    "# Portfolio tickers\n",
    "portfolio_tickers = [\"AAPL\", \"MSFT\", \"TLT\", \"SPY\"]\n",
    "\n",
    "# Signal generator function (unchanged)\n",
    "def signal_generator(df):\n",
    "    open_price = float(df.iloc[1][\"Open\"])\n",
    "    close_price = float(df.iloc[1][\"Close\"])\n",
    "    previous_open = float(df.iloc[0][\"Open\"])\n",
    "    previous_close = float(df.iloc[0][\"Close\"])\n",
    "\n",
    "    # Bearish Pattern\n",
    "    if open_price > close_price and previous_open < previous_close and close_price < previous_open and open_price >= previous_close:\n",
    "        return 1  # Bearish (Sell signal)\n",
    "\n",
    "    # Bullish Pattern\n",
    "    elif open_price < close_price and previous_open > previous_close and close_price > previous_open and open_price <= previous_close:\n",
    "        return 2  # Bullish (Buy signal)\n",
    "\n",
    "    # No clear pattern\n",
    "    else:\n",
    "        return 0\n",
    "\n",
    "# Fetch data for all portfolio assets\n",
    "def fetch_data(ticker, start_date, end_date, interval='1d'):\n",
    "    print(f\"Fetching data for {ticker}...\")\n",
    "    data = yf.download(ticker, start=start_date, end=end_date, interval=interval)\n",
    "    return data\n",
    "\n",
    "# Simulate portfolio performance\n",
    "def simulate_portfolio(initial_capital=10000, start_date=\"2019-01-01\", end_date=\"2023-12-31\", interval='1d'):\n",
    "    portfolio_value = initial_capital\n",
    "    portfolio_history = []  # To track portfolio value over time\n",
    "    daily_returns = []  # To track daily returns\n",
    "    allocation = {}  # To track position size for each asset\n",
    "\n",
    "    for ticker in portfolio_tickers:\n",
    "        # Fetch data\n",
    "        dataF = fetch_data(ticker, start_date, end_date, interval)\n",
    "        if dataF.empty or len(dataF) < 2:\n",
    "            print(f\"Not enough data for {ticker}. Skipping.\")\n",
    "            continue\n",
    "\n",
    "        # Generate signals\n",
    "        signals = [0]  # No signal for the first row\n",
    "        for i in range(1, len(dataF)):\n",
    "            df_slice = dataF.iloc[i - 1:i + 1]\n",
    "            signals.append(signal_generator(df_slice))\n",
    "        dataF[\"Signal\"] = signals\n",
    "\n",
    "        # Simulate trades based on signals\n",
    "        dataF[\"Position\"] = 0  # Position in the asset (positive for buy, negative for sell)\n",
    "        for i in range(1, len(dataF)):\n",
    "            if dataF[\"Signal\"].iloc[i] == 2:  # Buy signal\n",
    "                dataF.at[i, \"Position\"] = 1  # Long 1 unit\n",
    "            elif dataF[\"Signal\"].iloc[i] == 1:  # Sell signal\n",
    "                dataF.at[i, \"Position\"] = -1  # Short 1 unit\n",
    "\n",
    "        # Calculate daily returns for this asset\n",
    "        # Ensure 'Position' is numeric and properly shifted\n",
    "        shifted_position = dataF[\"Position\"].shift(1).squeeze()\n",
    "\n",
    "        # Ensure 'Close' percentage change is a single-column numeric Series\n",
    "        price_pct_change = dataF[\"Close\"].pct_change().squeeze()\n",
    "\n",
    "        # Calculate daily return as the product (element-wise)\n",
    "        dataF[\"Daily Return\"] = shifted_position * price_pct_change\n",
    "\n",
    "        # Add asset returns to portfolio\n",
    "        allocation[ticker] = portfolio_value / len(portfolio_tickers)  # Equal allocation\n",
    "        dataF[\"Weighted Return\"] = allocation[ticker] * dataF[\"Daily Return\"]\n",
    "\n",
    "        # Track portfolio history\n",
    "        if \"Portfolio Value\" not in locals():\n",
    "            portfolio_history = dataF[\"Weighted Return\"].cumsum() + portfolio_value\n",
    "        else:\n",
    "            portfolio_history += dataF[\"Weighted Return\"].cumsum()\n",
    "\n",
    "        # Combine daily returns\n",
    "        if daily_returns == []:\n",
    "            daily_returns = dataF[\"Weighted Return\"].fillna(0)\n",
    "        else:\n",
    "            daily_returns += dataF[\"Weighted Return\"].fillna(0)\n",
    "\n",
    "    # Final portfolio value\n",
    "    final_value = portfolio_value + daily_returns.sum()\n",
    "\n",
    "    return final_value, portfolio_history, daily_returns\n",
    "\n",
    "# Visualization\n",
    "def visualize_performance(portfolio_history, daily_returns):    \n",
    "    # Plot portfolio value over time\n",
    "    plt.figure(figsize=(12, 6))\n",
    "    plt.plot(portfolio_history, label=\"Portfolio Value\")\n",
    "    plt.title(\"Portfolio Value Over Time\")\n",
    "    plt.xlabel(\"Time\")\n",
    "    plt.ylabel(\"Portfolio Value ($)\")\n",
    "    plt.legend()\n",
    "    plt.grid()\n",
    "    plt.show()\n",
    "\n",
    "    # Plot daily returns\n",
    "    plt.figure(figsize=(12, 6))\n",
    "    plt.plot(daily_returns, label=\"Daily Returns\")\n",
    "    plt.title(\"Daily Returns Over Time\")\n",
    "    plt.xlabel(\"Time\")\n",
    "    plt.ylabel(\"Daily Returns\")\n",
    "    plt.axhline(y=0, color='red', linestyle='--', linewidth=1)\n",
    "    plt.legend()\n",
    "    plt.grid()\n",
    "    plt.show()\n",
    "\n",
    "# Main function\n",
    "initial_capital = 10000\n",
    "final_value, portfolio_history, daily_returns = simulate_portfolio(initial_capital)\n",
    "\n",
    "print(f\"Initial Portfolio Value: ${initial_capital:.2f}\")\n",
    "print(f\"Final Portfolio Value: ${final_value:.2f}\")\n",
    "\n",
    "visualize_performance(portfolio_history, daily_returns)\n"
   ]
  },
  {
   "cell_type": "code",
   "execution_count": 27,
   "metadata": {},
   "outputs": [
    {
     "ename": "NameError",
     "evalue": "name 'dataF' is not defined",
     "output_type": "error",
     "traceback": [
      "\u001b[1;31m---------------------------------------------------------------------------\u001b[0m",
      "\u001b[1;31mNameError\u001b[0m                                 Traceback (most recent call last)",
      "Cell \u001b[1;32mIn[27], line 1\u001b[0m\n\u001b[1;32m----> 1\u001b[0m \u001b[38;5;28mprint\u001b[39m(dataF\u001b[38;5;241m.\u001b[39mcolumns)  \u001b[38;5;66;03m# Check for 'Position' and 'Close'\u001b[39;00m\n\u001b[0;32m      2\u001b[0m \u001b[38;5;28mprint\u001b[39m(dataF\u001b[38;5;241m.\u001b[39mhead())\n",
      "\u001b[1;31mNameError\u001b[0m: name 'dataF' is not defined"
     ]
    }
   ],
   "source": [
    "print(dataF.columns)  # Check for 'Position' and 'Close'\n",
    "print(dataF.head())  # Inspect the first few rows\n"
   ]
  },
  {
   "cell_type": "code",
   "execution_count": 3,
   "metadata": {},
   "outputs": [
    {
     "ename": "NameError",
     "evalue": "name 'ticker' is not defined",
     "output_type": "error",
     "traceback": [
      "\u001b[0;31m---------------------------------------------------------------------------\u001b[0m",
      "\u001b[0;31mNameError\u001b[0m                                 Traceback (most recent call last)",
      "Cell \u001b[0;32mIn[3], line 1\u001b[0m\n\u001b[0;32m----> 1\u001b[0m data \u001b[38;5;241m=\u001b[39m yf\u001b[38;5;241m.\u001b[39mdownload(ticker, start\u001b[38;5;241m=\u001b[39mstart_date, end\u001b[38;5;241m=\u001b[39mend_date, interval\u001b[38;5;241m=\u001b[39minterval)\n",
      "\u001b[0;31mNameError\u001b[0m: name 'ticker' is not defined"
     ]
    }
   ],
   "source": [
    "data = yf.download(ticker, start=start_date, end=end_date, interval=interval)"
   ]
  },
  {
   "cell_type": "markdown",
   "metadata": {
    "jp-MarkdownHeadingCollapsed": true
   },
   "source": [
    "## Sample 2"
   ]
  },
  {
   "cell_type": "code",
   "execution_count": null,
   "metadata": {},
   "outputs": [],
   "source": [
    "# Example data\n",
    "tickles = [\"AAPL\", \"MSFT\", \"TSLA\"]\n",
    "prices = [130.36, 270.17, 722.25]\n",
    "\n",
    "# Create a DataFrame\n",
    "df = pd.DataFrame({\n",
    "    \"tickle\": tickles,\n",
    "    \"Price\": prices\n",
    "})\n",
    "\n",
    "def get_portfolio_size():\n",
    "    \"\"\"\n",
    "    Prompt user for a portfolio size and convert it to float.\n",
    "    Retries if user does not provide a valid number.\n",
    "    \"\"\"\n",
    "    while True:\n",
    "        try:\n",
    "            val = float(input(\"Enter the value of your portfolio: \"))\n",
    "            return val\n",
    "        except ValueError:\n",
    "            print(\"That's not a number! Try again.\\n\")\n",
    "\n",
    "# Get the total portfolio value from the user\n",
    "portfolio_size = get_portfolio_size()\n",
    "\n",
    "# Divide the total portfolio evenly by the number of stocks\n",
    "position_size = portfolio_size / len(df.index)\n",
    "\n",
    "# Calculate the number of whole shares you can buy in each\n",
    "# (i.e., position_size ÷ stock price, rounded down).\n",
    "df[\"Number of Actions\"] = df[\"Price\"].apply(\n",
    "    lambda price: math.floor(position_size / price)\n",
    ")\n",
    "\n",
    "print(df)"
   ]
  },
  {
   "cell_type": "code",
   "execution_count": 2,
   "metadata": {},
   "outputs": [],
   "source": [
    "# Example data\n",
    "tickles = [\"AAPL\", \"MSFT\", \"TSLA\", \"SYP\"]\n",
    "prices = [130.36, 270.17, 722.25]\n",
    "\n",
    "# Create a DataFrame\n",
    "df = pd.DataFrame({\n",
    "    \"tickle\": tickles,\n",
    "    \"Price\": prices\n",
    "})\n"
   ]
  },
  {
   "cell_type": "code",
   "execution_count": 3,
   "metadata": {},
   "outputs": [],
   "source": [
    "def get_portfolio_size():\n",
    "    \"\"\"\n",
    "    Prompt user for a portfolio size and convert it to float.\n",
    "    Retries if user does not provide a valid number.\n",
    "    \"\"\"\n",
    "    while True:\n",
    "        try:\n",
    "            val = float(input(\"Enter the value of your portfolio: \"))\n",
    "            return val\n",
    "        except ValueError:\n",
    "            print(\"That's not a number! Try again.\\n\")\n"
   ]
  },
  {
   "cell_type": "code",
   "execution_count": 5,
   "metadata": {},
   "outputs": [
    {
     "name": "stdout",
     "output_type": "stream",
     "text": [
      "Enter the value of your portfolio:  10000\n"
     ]
    }
   ],
   "source": [
    "# Get the total portfolio value from the user\n",
    "portfolio_size = get_portfolio_size()\n",
    "\n",
    "# Divide the total portfolio evenly by the number of stocks\n",
    "position_size = portfolio_size / len(df.index)"
   ]
  },
  {
   "cell_type": "code",
   "execution_count": 6,
   "metadata": {},
   "outputs": [
    {
     "name": "stdout",
     "output_type": "stream",
     "text": [
      "  tickle   Price  Number of Actions\n",
      "0   AAPL  130.36                 25\n",
      "1   MSFT  270.17                 12\n",
      "2   TSLA  722.25                  4\n"
     ]
    }
   ],
   "source": [
    "# Calculate the number of whole shares you can buy in each\n",
    "# (i.e., position_size ÷ stock price, rounded down).\n",
    "df[\"Number of Actions\"] = df[\"Price\"].apply(\n",
    "    lambda price: math.floor(position_size / price)\n",
    ")\n",
    "\n",
    "print(df)"
   ]
  },
  {
   "cell_type": "markdown",
   "metadata": {
    "jp-MarkdownHeadingCollapsed": true
   },
   "source": [
    "## Porfolio trading algorithm"
   ]
  },
  {
   "cell_type": "code",
   "execution_count": 25,
   "metadata": {},
   "outputs": [],
   "source": [
    "# ------------------------------------\n",
    "# 1) Define your portfolio tickers\n",
    "# ------------------------------------\n",
    "portfolio_tickers = [\"AAPL\", \"MSFT\", \"TLT\", \"SPY\"]  # Example tickers"
   ]
  },
  {
   "cell_type": "code",
   "execution_count": 26,
   "metadata": {},
   "outputs": [],
   "source": [
    "# ------------------------------------\n",
    "# 2) Signal generation function\n",
    "# ------------------------------------\n",
    "def signal_generator(df):\n",
    "    \"\"\"\n",
    "    Given two consecutive rows (df.iloc[0] and df.iloc[1]),\n",
    "    return:\n",
    "        1 for a Bearish pattern  (Sell),\n",
    "        2 for a Bullish pattern (Buy),\n",
    "        0 otherwise.\n",
    "    \"\"\"\n",
    "    # Extract scalar values (ensure they're floats)\n",
    "    open_price     = float(df.iloc[1][\"Open\"])\n",
    "    close_price    = float(df.iloc[1][\"Close\"])\n",
    "    previous_open  = float(df.iloc[0][\"Open\"])\n",
    "    previous_close = float(df.iloc[0][\"Close\"])\n",
    "\n",
    "    # Bearish Pattern\n",
    "    if (open_price > close_price\n",
    "        and previous_open < previous_close\n",
    "        and close_price < previous_open\n",
    "        and open_price >= previous_close):\n",
    "        return 1  # Bearish (Sell signal)\n",
    "\n",
    "    # Bullish Pattern\n",
    "    elif (open_price < close_price\n",
    "          and previous_open > previous_close\n",
    "          and close_price > previous_open\n",
    "          and open_price <= previous_close):\n",
    "        return 2  # Bullish (Buy signal)\n",
    "\n",
    "    # No clear pattern\n",
    "    else:\n",
    "        return 0\n"
   ]
  },
  {
   "cell_type": "code",
   "execution_count": 27,
   "metadata": {},
   "outputs": [],
   "source": [
    "# 3) Fetch data for a given ticker\n",
    "# ------------------------------------\n",
    "def fetch_data(ticker, start_date, end_date):\n",
    "    print(f\"Fetching data for {ticker}...\")\n",
    "    data = yf.download(ticker, start=start_date, end=end_date)\n",
    "    return data\n"
   ]
  },
  {
   "cell_type": "code",
   "execution_count": 20,
   "metadata": {},
   "outputs": [],
   "source": [
    "# ------------------------------------\n",
    "# 4) Evaluate signals for all tickers\n",
    "# ------------------------------------\n",
    "def evaluate_algorithm(start_date=\"2019-10-07\", end_date=\"2023-12-05\"):\n",
    "    \"\"\"\n",
    "    For each ticker, fetch data and generate signals.\n",
    "    Return a list of dictionaries with:\n",
    "        - \"Ticker\"\n",
    "        - \"Signal Distribution\" (counts)\n",
    "        - \"Latest Close\" (float)\n",
    "    \"\"\"\n",
    "    evaluation_results = []\n",
    "\n",
    "    for ticker in portfolio_tickers:\n",
    "        # Fetch data for the asset\n",
    "        dataF = fetch_data(ticker, start_date, end_date)\n",
    "        if dataF.empty or len(dataF) < 2:\n",
    "            print(f\"Not enough data for {ticker}. Skipping.\")\n",
    "            continue\n",
    "\n",
    "        # Generate signals for all candles\n",
    "        signals = [0]  # First candle cannot have a signal\n",
    "        for i in range(1, len(dataF)):\n",
    "            df_slice = dataF.iloc[i - 1 : i + 1]  # Two rows for signal calculation\n",
    "            signals.append(signal_generator(df_slice))\n",
    "\n",
    "        # Insert signals into the dataframe\n",
    "        dataF[\"Signal\"] = signals\n",
    "\n",
    "        # Analyze signal distribution\n",
    "        signal_counts = dataF[\"Signal\"].value_counts()\n",
    "        print(f\"\\n{ticker} Signal Distribution:\")\n",
    "        print(signal_counts)\n",
    "\n",
    "        # Get the last close for potential \"buy\" calculations\n",
    "        latest_close = dataF[\"Close\"].iloc[-1]\n",
    "\n",
    "        # Save results for the evaluation\n",
    "        evaluation_results.append({\n",
    "            \"Ticker\": ticker,\n",
    "            \"Signal Distribution\": signal_counts.to_dict(),\n",
    "            \"Latest Close\": latest_close\n",
    "        })\n",
    "\n",
    "    return evaluation_results"
   ]
  },
  {
   "cell_type": "code",
   "execution_count": 29,
   "metadata": {},
   "outputs": [],
   "source": [
    "# ------------------------------------\n",
    "# 5) Prompt for portfolio size\n",
    "# ------------------------------------\n",
    "def get_portfolio_size():\n",
    "    \"\"\"\n",
    "    Prompt user for a portfolio size and convert it to float.\n",
    "    Retries if user does not provide a valid number.\n",
    "    \"\"\"\n",
    "    while True:\n",
    "        try:\n",
    "            val = float(input(\"Enter the value of your portfolio: \"))\n",
    "            return val\n",
    "        except ValueError:\n",
    "            print(\"That's not a number! Try again.\\n\")\n"
   ]
  },
  {
   "cell_type": "code",
   "execution_count": 22,
   "metadata": {},
   "outputs": [],
   "source": [
    "# ------------------------------------\n",
    "# 6) MAIN: Run everything and build final DataFrame\n",
    "# ------------------------------------\n",
    "def main():\n",
    "    # Evaluate signals (all tickers)\n",
    "    results = evaluate_algorithm()\n",
    "\n",
    "    # Ask user for the total portfolio size\n",
    "    total_portfolio = get_portfolio_size()\n",
    "\n",
    "    # We'll split the portfolio evenly among all *successfully fetched* tickers\n",
    "    number_of_valid_tickers = len(results)\n",
    "    if number_of_valid_tickers == 0:\n",
    "        print(\"No valid tickers found—nothing to do.\")\n",
    "        return\n",
    "\n",
    "    position_size = total_portfolio / number_of_valid_tickers\n",
    "\n",
    "    # Build a new DataFrame with columns: \"tickle\", \"Price\", \"Number of Actions\"\n",
    "    final_rows = []\n",
    "    for r in results:\n",
    "        ticker       = r[\"Ticker\"]\n",
    "        latest_price = r[\"Latest Close\"]\n",
    "        # Number of shares (round down to nearest whole share)\n",
    "        number_of_shares = math.floor(position_size / latest_price)\n",
    "\n",
    "        final_rows.append({\n",
    "            \"Ticker\": ticker,\n",
    "            \"Price\": latest_price,\n",
    "            \"Number of Actions\": number_of_shares\n",
    "        })\n",
    "\n",
    "    final_df = pd.DataFrame(final_rows)\n",
    "    # Optional: remove the index, just to print \"cleanly.\"\n",
    "    final_df.reset_index(drop=True, inplace=True)\n",
    "\n",
    "    print(\"\\nFINAL ALLOCATION DATAFRAME:\")\n",
    "    print(final_df.to_string(index=False))\n",
    "    \n",
    "    return final_df\n"
   ]
  },
  {
   "cell_type": "code",
   "execution_count": 32,
   "metadata": {},
   "outputs": [
    {
     "name": "stderr",
     "output_type": "stream",
     "text": [
      "[*********************100%***********************]  1 of 1 completed"
     ]
    },
    {
     "name": "stdout",
     "output_type": "stream",
     "text": [
      "Fetching data for AAPL...\n"
     ]
    },
    {
     "name": "stderr",
     "output_type": "stream",
     "text": [
      "\n",
      "C:\\Users\\diego\\AppData\\Local\\Temp\\ipykernel_52484\\3006703877.py:13: FutureWarning: Calling float on a single element Series is deprecated and will raise a TypeError in the future. Use float(ser.iloc[0]) instead\n",
      "  open_price     = float(df.iloc[1][\"Open\"])\n",
      "C:\\Users\\diego\\AppData\\Local\\Temp\\ipykernel_52484\\3006703877.py:14: FutureWarning: Calling float on a single element Series is deprecated and will raise a TypeError in the future. Use float(ser.iloc[0]) instead\n",
      "  close_price    = float(df.iloc[1][\"Close\"])\n",
      "C:\\Users\\diego\\AppData\\Local\\Temp\\ipykernel_52484\\3006703877.py:15: FutureWarning: Calling float on a single element Series is deprecated and will raise a TypeError in the future. Use float(ser.iloc[0]) instead\n",
      "  previous_open  = float(df.iloc[0][\"Open\"])\n",
      "C:\\Users\\diego\\AppData\\Local\\Temp\\ipykernel_52484\\3006703877.py:16: FutureWarning: Calling float on a single element Series is deprecated and will raise a TypeError in the future. Use float(ser.iloc[0]) instead\n",
      "  previous_close = float(df.iloc[0][\"Close\"])\n",
      "[*********************100%***********************]  1 of 1 completed"
     ]
    },
    {
     "name": "stdout",
     "output_type": "stream",
     "text": [
      "Fetching data for MSFT...\n"
     ]
    },
    {
     "name": "stderr",
     "output_type": "stream",
     "text": [
      "\n",
      "C:\\Users\\diego\\AppData\\Local\\Temp\\ipykernel_52484\\3006703877.py:13: FutureWarning: Calling float on a single element Series is deprecated and will raise a TypeError in the future. Use float(ser.iloc[0]) instead\n",
      "  open_price     = float(df.iloc[1][\"Open\"])\n",
      "C:\\Users\\diego\\AppData\\Local\\Temp\\ipykernel_52484\\3006703877.py:14: FutureWarning: Calling float on a single element Series is deprecated and will raise a TypeError in the future. Use float(ser.iloc[0]) instead\n",
      "  close_price    = float(df.iloc[1][\"Close\"])\n",
      "C:\\Users\\diego\\AppData\\Local\\Temp\\ipykernel_52484\\3006703877.py:15: FutureWarning: Calling float on a single element Series is deprecated and will raise a TypeError in the future. Use float(ser.iloc[0]) instead\n",
      "  previous_open  = float(df.iloc[0][\"Open\"])\n",
      "C:\\Users\\diego\\AppData\\Local\\Temp\\ipykernel_52484\\3006703877.py:16: FutureWarning: Calling float on a single element Series is deprecated and will raise a TypeError in the future. Use float(ser.iloc[0]) instead\n",
      "  previous_close = float(df.iloc[0][\"Close\"])\n",
      "[*********************100%***********************]  1 of 1 completed"
     ]
    },
    {
     "name": "stdout",
     "output_type": "stream",
     "text": [
      "Fetching data for TLT...\n"
     ]
    },
    {
     "name": "stderr",
     "output_type": "stream",
     "text": [
      "\n",
      "C:\\Users\\diego\\AppData\\Local\\Temp\\ipykernel_52484\\3006703877.py:13: FutureWarning: Calling float on a single element Series is deprecated and will raise a TypeError in the future. Use float(ser.iloc[0]) instead\n",
      "  open_price     = float(df.iloc[1][\"Open\"])\n",
      "C:\\Users\\diego\\AppData\\Local\\Temp\\ipykernel_52484\\3006703877.py:14: FutureWarning: Calling float on a single element Series is deprecated and will raise a TypeError in the future. Use float(ser.iloc[0]) instead\n",
      "  close_price    = float(df.iloc[1][\"Close\"])\n",
      "C:\\Users\\diego\\AppData\\Local\\Temp\\ipykernel_52484\\3006703877.py:15: FutureWarning: Calling float on a single element Series is deprecated and will raise a TypeError in the future. Use float(ser.iloc[0]) instead\n",
      "  previous_open  = float(df.iloc[0][\"Open\"])\n",
      "C:\\Users\\diego\\AppData\\Local\\Temp\\ipykernel_52484\\3006703877.py:16: FutureWarning: Calling float on a single element Series is deprecated and will raise a TypeError in the future. Use float(ser.iloc[0]) instead\n",
      "  previous_close = float(df.iloc[0][\"Close\"])\n",
      "[*********************100%***********************]  1 of 1 completed"
     ]
    },
    {
     "name": "stdout",
     "output_type": "stream",
     "text": [
      "Fetching data for SPY...\n"
     ]
    },
    {
     "name": "stderr",
     "output_type": "stream",
     "text": [
      "\n",
      "C:\\Users\\diego\\AppData\\Local\\Temp\\ipykernel_52484\\3006703877.py:13: FutureWarning: Calling float on a single element Series is deprecated and will raise a TypeError in the future. Use float(ser.iloc[0]) instead\n",
      "  open_price     = float(df.iloc[1][\"Open\"])\n",
      "C:\\Users\\diego\\AppData\\Local\\Temp\\ipykernel_52484\\3006703877.py:14: FutureWarning: Calling float on a single element Series is deprecated and will raise a TypeError in the future. Use float(ser.iloc[0]) instead\n",
      "  close_price    = float(df.iloc[1][\"Close\"])\n",
      "C:\\Users\\diego\\AppData\\Local\\Temp\\ipykernel_52484\\3006703877.py:15: FutureWarning: Calling float on a single element Series is deprecated and will raise a TypeError in the future. Use float(ser.iloc[0]) instead\n",
      "  previous_open  = float(df.iloc[0][\"Open\"])\n",
      "C:\\Users\\diego\\AppData\\Local\\Temp\\ipykernel_52484\\3006703877.py:16: FutureWarning: Calling float on a single element Series is deprecated and will raise a TypeError in the future. Use float(ser.iloc[0]) instead\n",
      "  previous_close = float(df.iloc[0][\"Close\"])\n"
     ]
    },
    {
     "ename": "ValueError",
     "evalue": "The truth value of a Series is ambiguous. Use a.empty, a.bool(), a.item(), a.any() or a.all().",
     "output_type": "error",
     "traceback": [
      "\u001b[1;31m---------------------------------------------------------------------------\u001b[0m",
      "\u001b[1;31mValueError\u001b[0m                                Traceback (most recent call last)",
      "\u001b[1;32m~\\AppData\\Local\\Temp\\ipykernel_52484\\1759737772.py\u001b[0m in \u001b[0;36m?\u001b[1;34m()\u001b[0m\n\u001b[1;32m----> 1\u001b[1;33m \u001b[0mmain\u001b[0m\u001b[1;33m(\u001b[0m\u001b[1;33m)\u001b[0m\u001b[1;33m\u001b[0m\u001b[1;33m\u001b[0m\u001b[0m\n\u001b[0m",
      "\u001b[1;32m~\\AppData\\Local\\Temp\\ipykernel_52484\\2229980626.py\u001b[0m in \u001b[0;36m?\u001b[1;34m()\u001b[0m\n\u001b[0;32m      5\u001b[0m     \u001b[1;31m# Step 2: Get user-defined portfolio size\u001b[0m\u001b[1;33m\u001b[0m\u001b[1;33m\u001b[0m\u001b[0m\n\u001b[0;32m      6\u001b[0m     \u001b[0mtotal_portfolio\u001b[0m \u001b[1;33m=\u001b[0m \u001b[0mget_portfolio_size\u001b[0m\u001b[1;33m(\u001b[0m\u001b[1;33m)\u001b[0m\u001b[1;33m\u001b[0m\u001b[1;33m\u001b[0m\u001b[0m\n\u001b[0;32m      7\u001b[0m \u001b[1;33m\u001b[0m\u001b[0m\n\u001b[0;32m      8\u001b[0m     \u001b[1;31m# Step 3: Backtest the portfolio with the selected tickers\u001b[0m\u001b[1;33m\u001b[0m\u001b[1;33m\u001b[0m\u001b[0m\n\u001b[1;32m----> 9\u001b[1;33m     \u001b[0mportfolio_df\u001b[0m \u001b[1;33m=\u001b[0m \u001b[0mbacktest_portfolio\u001b[0m\u001b[1;33m(\u001b[0m\u001b[0mevaluation_results\u001b[0m\u001b[1;33m,\u001b[0m \u001b[0minitial_cash\u001b[0m\u001b[1;33m=\u001b[0m\u001b[0mtotal_portfolio\u001b[0m\u001b[1;33m)\u001b[0m\u001b[1;33m\u001b[0m\u001b[1;33m\u001b[0m\u001b[0m\n\u001b[0m\u001b[0;32m     10\u001b[0m \u001b[1;33m\u001b[0m\u001b[0m\n\u001b[0;32m     11\u001b[0m     \u001b[1;31m# Step 4: Show results\u001b[0m\u001b[1;33m\u001b[0m\u001b[1;33m\u001b[0m\u001b[0m\n\u001b[0;32m     12\u001b[0m     \u001b[0mprint\u001b[0m\u001b[1;33m(\u001b[0m\u001b[1;34m\"\\nFinal Portfolio Performance:\"\u001b[0m\u001b[1;33m)\u001b[0m\u001b[1;33m\u001b[0m\u001b[1;33m\u001b[0m\u001b[0m\n",
      "\u001b[1;32m~\\AppData\\Local\\Temp\\ipykernel_52484\\4135806443.py\u001b[0m in \u001b[0;36m?\u001b[1;34m(evaluation_results, initial_cash)\u001b[0m\n\u001b[0;32m     30\u001b[0m             \u001b[0msignal\u001b[0m \u001b[1;33m=\u001b[0m \u001b[0mrow\u001b[0m\u001b[1;33m[\u001b[0m\u001b[1;34m\"Signal\"\u001b[0m\u001b[1;33m]\u001b[0m\u001b[1;33m\u001b[0m\u001b[1;33m\u001b[0m\u001b[0m\n\u001b[0;32m     31\u001b[0m             \u001b[0mprice\u001b[0m \u001b[1;33m=\u001b[0m \u001b[0mrow\u001b[0m\u001b[1;33m[\u001b[0m\u001b[1;34m\"Close\"\u001b[0m\u001b[1;33m]\u001b[0m\u001b[1;33m\u001b[0m\u001b[1;33m\u001b[0m\u001b[0m\n\u001b[0;32m     32\u001b[0m \u001b[1;33m\u001b[0m\u001b[0m\n\u001b[0;32m     33\u001b[0m             \u001b[1;31m# Execute Buy Signal (2)\u001b[0m\u001b[1;33m\u001b[0m\u001b[1;33m\u001b[0m\u001b[0m\n\u001b[1;32m---> 34\u001b[1;33m             \u001b[1;32mif\u001b[0m \u001b[0msignal\u001b[0m \u001b[1;33m==\u001b[0m \u001b[1;36m2\u001b[0m \u001b[1;32mand\u001b[0m \u001b[0mcash\u001b[0m \u001b[1;33m>=\u001b[0m \u001b[0mprice\u001b[0m\u001b[1;33m:\u001b[0m\u001b[1;33m\u001b[0m\u001b[1;33m\u001b[0m\u001b[0m\n\u001b[0m\u001b[0;32m     35\u001b[0m                 \u001b[0mshares_to_buy\u001b[0m \u001b[1;33m=\u001b[0m \u001b[0mint\u001b[0m\u001b[1;33m(\u001b[0m\u001b[0mcash\u001b[0m \u001b[1;33m/\u001b[0m \u001b[0mprice\u001b[0m\u001b[1;33m)\u001b[0m  \u001b[1;31m# Buy as many as possible\u001b[0m\u001b[1;33m\u001b[0m\u001b[1;33m\u001b[0m\u001b[0m\n\u001b[0;32m     36\u001b[0m                 \u001b[0mcash\u001b[0m \u001b[1;33m-=\u001b[0m \u001b[0mshares_to_buy\u001b[0m \u001b[1;33m*\u001b[0m \u001b[0mprice\u001b[0m\u001b[1;33m\u001b[0m\u001b[1;33m\u001b[0m\u001b[0m\n\u001b[0;32m     37\u001b[0m                 \u001b[0mholdings\u001b[0m\u001b[1;33m[\u001b[0m\u001b[0mticker\u001b[0m\u001b[1;33m]\u001b[0m \u001b[1;33m+=\u001b[0m \u001b[0mshares_to_buy\u001b[0m\u001b[1;33m\u001b[0m\u001b[1;33m\u001b[0m\u001b[0m\n",
      "\u001b[1;32mc:\\Users\\diego\\anaconda3\\Lib\\site-packages\\pandas\\core\\generic.py\u001b[0m in \u001b[0;36m?\u001b[1;34m(self)\u001b[0m\n\u001b[0;32m   1517\u001b[0m     \u001b[1;33m@\u001b[0m\u001b[0mfinal\u001b[0m\u001b[1;33m\u001b[0m\u001b[1;33m\u001b[0m\u001b[0m\n\u001b[0;32m   1518\u001b[0m     \u001b[1;32mdef\u001b[0m \u001b[0m__nonzero__\u001b[0m\u001b[1;33m(\u001b[0m\u001b[0mself\u001b[0m\u001b[1;33m)\u001b[0m \u001b[1;33m->\u001b[0m \u001b[0mNoReturn\u001b[0m\u001b[1;33m:\u001b[0m\u001b[1;33m\u001b[0m\u001b[1;33m\u001b[0m\u001b[0m\n\u001b[1;32m-> 1519\u001b[1;33m         raise ValueError(\n\u001b[0m\u001b[0;32m   1520\u001b[0m             \u001b[1;33mf\"\u001b[0m\u001b[1;33mThe truth value of a \u001b[0m\u001b[1;33m{\u001b[0m\u001b[0mtype\u001b[0m\u001b[1;33m(\u001b[0m\u001b[0mself\u001b[0m\u001b[1;33m)\u001b[0m\u001b[1;33m.\u001b[0m\u001b[0m__name__\u001b[0m\u001b[1;33m}\u001b[0m\u001b[1;33m is ambiguous. \u001b[0m\u001b[1;33m\"\u001b[0m\u001b[1;33m\u001b[0m\u001b[1;33m\u001b[0m\u001b[0m\n\u001b[0;32m   1521\u001b[0m             \u001b[1;34m\"Use a.empty, a.bool(), a.item(), a.any() or a.all().\"\u001b[0m\u001b[1;33m\u001b[0m\u001b[1;33m\u001b[0m\u001b[0m\n\u001b[0;32m   1522\u001b[0m         \u001b[1;33m)\u001b[0m\u001b[1;33m\u001b[0m\u001b[1;33m\u001b[0m\u001b[0m\n",
      "\u001b[1;31mValueError\u001b[0m: The truth value of a Series is ambiguous. Use a.empty, a.bool(), a.item(), a.any() or a.all()."
     ]
    }
   ],
   "source": [
    "main()\n"
   ]
  },
  {
   "cell_type": "markdown",
   "metadata": {},
   "source": [
    "## Portfolio algorithm 2.0"
   ]
  },
  {
   "cell_type": "code",
   "execution_count": 1,
   "metadata": {},
   "outputs": [],
   "source": [
    "import pandas as pd\n",
    "import numpy as np\n",
    "import yfinance as yf\n",
    "import matplotlib.pyplot as plt\n",
    "from datetime import datetime\n"
   ]
  },
  {
   "cell_type": "code",
   "execution_count": 11,
   "metadata": {},
   "outputs": [],
   "source": [
    "# ------------------------------------\n",
    "# 1) Define your portfolio tickers\n",
    "# ------------------------------------\n",
    "\n",
    "# URL for the S&P 500 constituent list\n",
    "sp500_url = \"https://en.wikipedia.org/wiki/List_of_S%26P_500_companies\"\n",
    "\n",
    "# Get the S&P 500 stock list from Wikipedia\n",
    "sp500_table = pd.read_html(sp500_url)\n",
    "sp500_df = sp500_table[0]\n",
    "# Extract ticker symbols and fix formatting issues\n",
    "portfolio_ticker = [t.replace('.', '-') for t in sp500_df['Symbol'].tolist()]\n"
   ]
  },
  {
   "cell_type": "code",
   "execution_count": 12,
   "metadata": {},
   "outputs": [],
   "source": [
    "# ------------------------------------\n",
    "# 2) Signal generation function\n",
    "# ------------------------------------\n",
    "def signal_generator(df):\n",
    "    \"\"\"\n",
    "    Given two consecutive rows (df.iloc[0] and df.iloc[1]),\n",
    "    return:\n",
    "        1 for a Bearish pattern  (Sell),\n",
    "        2 for a Bullish pattern (Buy),\n",
    "        0 otherwise.\n",
    "    \"\"\"\n",
    "    # Extract scalar values (ensure they're floats)\n",
    "    open_price     = float(df.iloc[1][\"Open\"])\n",
    "    close_price    = float(df.iloc[1][\"Close\"])\n",
    "    previous_open  = float(df.iloc[0][\"Open\"])\n",
    "    previous_close = float(df.iloc[0][\"Close\"])\n",
    "\n",
    "    # Bearish Pattern\n",
    "    if (open_price > close_price\n",
    "        and previous_open < previous_close\n",
    "        and close_price < previous_open\n",
    "        and open_price >= previous_close):\n",
    "        return 1  # Bearish (Sell signal)\n",
    "\n",
    "    # Bullish Pattern\n",
    "    elif (open_price < close_price\n",
    "          and previous_open > previous_close\n",
    "          and close_price > previous_open\n",
    "          and open_price <= previous_close):\n",
    "        return 2  # Bullish (Buy signal)\n",
    "\n",
    "    # No clear pattern\n",
    "    else:\n",
    "        return 0"
   ]
  },
  {
   "cell_type": "code",
   "execution_count": 13,
   "metadata": {},
   "outputs": [],
   "source": [
    "# ------------------------------------\n",
    "# 3) Fetch data from yfinance\n",
    "# ------------------------------------\n",
    "def fetch_data(ticker, start_date, end_date):\n",
    "    \"\"\"\n",
    "    Fetch historical stock data for a given ticker using Yahoo Finance.\n",
    "    \"\"\"\n",
    "    try:\n",
    "        print(f\"Fetching historical data for {ticker}...\")\n",
    "        data = yf.download(ticker, start=start_date, end=end_date)\n",
    "\n",
    "        if data.empty:\n",
    "            print(f\"No data found for {ticker}.\")\n",
    "            return None\n",
    "        return data\n",
    "\n",
    "    except Exception as e:\n",
    "        print(f\"Could not fetch data for {ticker}: {e}\")\n",
    "        return None\n"
   ]
  },
  {
   "cell_type": "code",
   "execution_count": 14,
   "metadata": {},
   "outputs": [],
   "source": [
    "# ------------------------------------\n",
    "# 1) Define your portfolio tickers\n",
    "# ------------------------------------\n",
    "#portfolio_ticker = [\"AAPL\", \"MSFT\", \"TLT\", \"SPY\"]  # Example tickers\n",
    "\n",
    "# 3) Fetch data for a given ticker\n",
    "# ------------------------------------\n",
    "def fetch_data(ticker, start_date, end_date):\n",
    "    print(f\"Fetching data for {ticker}...\")\n",
    "    data = yf.download(ticker, start=start_date, end=end_date)\n",
    "    return data\n"
   ]
  },
  {
   "cell_type": "code",
   "execution_count": 15,
   "metadata": {},
   "outputs": [],
   "source": [
    "# ------------------------------------\n",
    "# 4) Generate and recive signals from the data\n",
    "# ------------------------------------\n",
    "def evaluate_algorithm(start_date=\"2019-10-07\", end_date=\"2023-12-05\"):\n",
    "    failed_tickers = []\n",
    "    evaluation_results = []\n",
    "    price_data = {}\n",
    "\n",
    "    for ticker in portfolio_ticker:\n",
    "        dataF = fetch_data(ticker, start_date, end_date)\n",
    "\n",
    "        # ✅ FIX: Check if `dataF` is None before accessing `.empty`\n",
    "        if dataF is None or dataF.empty or len(dataF) < 2:\n",
    "            print(f\"Not enough data for {ticker}. Skipping.\")\n",
    "            failed_tickers.append(ticker)\n",
    "            print(f\"Failed tickers: {failed_tickers}\")\n",
    "            continue\n",
    "\n",
    "        # Generate signals\n",
    "        signals = [0]  # First row can't have a signal\n",
    "        for i in range(1, len(dataF)):\n",
    "            df_slice = dataF.iloc[i - 1: i + 1]\n",
    "            signals.append(signal_generator(df_slice))\n",
    "        \n",
    "        dataF[\"Signal\"] = signals\n",
    "\n",
    "        # Save daily data for later tracking\n",
    "        price_data[ticker] = dataF[[\"Close\", \"Signal\"]]\n",
    "\n",
    "    return price_data  # Dictionary with ticker-wise time series\n",
    "\n",
    "\n"
   ]
  },
  {
   "cell_type": "code",
   "execution_count": 16,
   "metadata": {},
   "outputs": [],
   "source": [
    "# ------------------------------------\n",
    "# 5) Prompt for portfolio size\n",
    "# ------------------------------------\n",
    "def get_portfolio_size():\n",
    "    \"\"\"\n",
    "    Prompt user for a portfolio size and convert it to float.\n",
    "    Retries if user does not provide a valid number.\n",
    "    \"\"\"\n",
    "    while True:\n",
    "        try:\n",
    "            val = float(input(\"Enter the value of your portfolio: \"))\n",
    "            return val\n",
    "        except ValueError:\n",
    "            print(\"That's not a number! Try again.\\n\")"
   ]
  },
  {
   "cell_type": "code",
   "execution_count": 17,
   "metadata": {},
   "outputs": [],
   "source": [
    "# ------------------------------------\n",
    "# 6) Dynamic portfolio alocation following\n",
    "# the long or short signals for every stock \n",
    "# ------------------------------------\n",
    "\n",
    "def track_portfolio_over_time(price_data, initial_capital):\n",
    "    \"\"\"\n",
    "    Simulates portfolio performance over time.\n",
    "    - Tracks daily portfolio value and composition separately.\n",
    "    - Adjusts holdings based on buy/sell signals.\n",
    "    - Logs changes in cash balance, asset allocation, and asset value.\n",
    "    \"\"\"\n",
    "    portfolio_value_data = []\n",
    "    portfolio_composition_data = []\n",
    "    asset_value_data = []  # New table to track total value of each asset\n",
    "    \n",
    "    cash_balance = float(initial_capital)  # Ensure cash is a float\n",
    "    holdings = {ticker: 0 for ticker in price_data.keys()}  # Start with 0 shares\n",
    "\n",
    "    # Get all unique dates from all assets\n",
    "    all_dates = sorted(set(date for data in price_data.values() for date in data.index))\n",
    "\n",
    "    for date in all_dates:\n",
    "        date = pd.Timestamp(date)  # Ensure the date is a pandas Timestamp\n",
    "        total_value = cash_balance  # Start with available cash\n",
    "\n",
    "        # Track daily holdings and asset values\n",
    "        daily_holdings = {ticker: 0 for ticker in price_data.keys()}\n",
    "        daily_asset_values = {ticker: 0 for ticker in price_data.keys()}\n",
    "\n",
    "        for ticker, data in price_data.items():\n",
    "            if date not in data.index:\n",
    "                continue  # Skip missing data\n",
    "\n",
    "            close_price = float(data.loc[date, \"Close\"])  # Ensure a float value\n",
    "\n",
    "            # Ensure \"Signal\" is a single scalar value\n",
    "            signal_value = data.loc[date, \"Signal\"]\n",
    "            if isinstance(signal_value, pd.Series):  \n",
    "                signal_value = signal_value.iloc[0]\n",
    "            signal = int(signal_value)  # Convert to integer\n",
    "\n",
    "            # Execute trades based on signals\n",
    "            if signal == 2:  # Buy Signal\n",
    "                if cash_balance > 0:\n",
    "                    shares_to_buy = (cash_balance / len(price_data)) / close_price\n",
    "                    holdings[ticker] += shares_to_buy\n",
    "                    cash_balance -= shares_to_buy * close_price\n",
    "            \n",
    "            elif signal == 1:  # Sell Signal\n",
    "                cash_balance += holdings[ticker] * close_price\n",
    "                holdings[ticker] = 0  # Fully sell position\n",
    "\n",
    "            # Compute total portfolio value\n",
    "            total_value += holdings[ticker] * close_price\n",
    "            daily_holdings[ticker] = holdings[ticker]  # Track number of shares\n",
    "            daily_asset_values[ticker] = holdings[ticker] * close_price  # Track asset value\n",
    "\n",
    "        # Compute percentage allocation\n",
    "        allocation = {\n",
    "            ticker: (holdings[ticker] * price_data[ticker].loc[date, \"Close\"]) / total_value \n",
    "            if total_value > 0 else 0\n",
    "            for ticker in holdings\n",
    "        }\n",
    "\n",
    "        # Store daily portfolio value\n",
    "        portfolio_value_data.append({\n",
    "            \"Date\": date,\n",
    "            \"Portfolio Value\": total_value,\n",
    "            \"Cash Balance\": cash_balance\n",
    "        })\n",
    "\n",
    "        # Store daily portfolio composition\n",
    "        portfolio_composition_data.append({\n",
    "            \"Date\": date,\n",
    "            **daily_holdings,  # Number of shares per asset\n",
    "            **{f\"Alloc_{ticker}\": round(alloc, 4) for ticker, alloc in allocation.items()}  # Clean % Allocation\n",
    "        })\n",
    "\n",
    "        # Store daily asset value\n",
    "        asset_value_data.append({\n",
    "            \"Date\": date,\n",
    "            **daily_asset_values  # Total value of each asset\n",
    "        })\n",
    "\n",
    "    # Convert lists to DataFrames\n",
    "    portfolio_value_df = pd.DataFrame(portfolio_value_data).set_index(\"Date\")\n",
    "    portfolio_composition_df = pd.DataFrame(portfolio_composition_data).set_index(\"Date\")\n",
    "    asset_value_df = pd.DataFrame(asset_value_data).set_index(\"Date\")  # New table\n",
    "\n",
    "    return portfolio_value_df, portfolio_composition_df, asset_value_df  # Return three tables\n",
    "\n",
    "\n"
   ]
  },
  {
   "cell_type": "code",
   "execution_count": 18,
   "metadata": {},
   "outputs": [],
   "source": [
    "# ------------------------------------\n",
    "# 7) Run everything and build the portfolio value frame\n",
    "# ------------------------------------\n",
    "\n",
    "def main():\n",
    "    # Fetch signals and price data\n",
    "    price_data = evaluate_algorithm()\n",
    "\n",
    "    # Ask user for initial capital\n",
    "    initial_capital = get_portfolio_size()\n",
    "\n",
    "    # Track portfolio performance over time\n",
    "    portfolio_value_df, portfolio_composition_df, asset_value_df = track_portfolio_over_time(price_data, initial_capital)\n",
    "\n",
    "    # Calculate returns\n",
    "    portfolio_value_df[\"Daily Return\"] = portfolio_value_df[\"Portfolio Value\"].pct_change()\n",
    "    portfolio_value_df[\"Cumulative Return\"] = (1 + portfolio_value_df[\"Daily Return\"]).cumprod()\n",
    "\n",
    "    print(\"\\n📊 Portfolio Value Evolution:\")\n",
    "    print(portfolio_value_df.tail())  # Show last few days of total portfolio value\n",
    "\n",
    "    print(\"\\n📈 Portfolio Composition Over Time:\")\n",
    "    print(portfolio_composition_df.tail())  # Show last few days of portfolio allocation\n",
    "\n",
    "    print(\"\\n💰 Asset Value Over Time:\")\n",
    "    print(asset_value_df.tail())  # Show last few days of asset values\n",
    "\n",
    "    return portfolio_value_df, portfolio_composition_df, asset_value_df  # Return all three tables\n",
    "\n",
    "\n"
   ]
  },
  {
   "cell_type": "code",
   "execution_count": 19,
   "metadata": {},
   "outputs": [
    {
     "name": "stdout",
     "output_type": "stream",
     "text": [
      "Fetching data for MMM...\n"
     ]
    },
    {
     "name": "stderr",
     "output_type": "stream",
     "text": [
      "[*********************100%***********************]  1 of 1 completed\n",
      "C:\\Users\\diego\\AppData\\Local\\Temp\\ipykernel_50852\\430125842.py:13: FutureWarning: Calling float on a single element Series is deprecated and will raise a TypeError in the future. Use float(ser.iloc[0]) instead\n",
      "  open_price     = float(df.iloc[1][\"Open\"])\n",
      "C:\\Users\\diego\\AppData\\Local\\Temp\\ipykernel_50852\\430125842.py:14: FutureWarning: Calling float on a single element Series is deprecated and will raise a TypeError in the future. Use float(ser.iloc[0]) instead\n",
      "  close_price    = float(df.iloc[1][\"Close\"])\n",
      "C:\\Users\\diego\\AppData\\Local\\Temp\\ipykernel_50852\\430125842.py:15: FutureWarning: Calling float on a single element Series is deprecated and will raise a TypeError in the future. Use float(ser.iloc[0]) instead\n",
      "  previous_open  = float(df.iloc[0][\"Open\"])\n",
      "C:\\Users\\diego\\AppData\\Local\\Temp\\ipykernel_50852\\430125842.py:16: FutureWarning: Calling float on a single element Series is deprecated and will raise a TypeError in the future. Use float(ser.iloc[0]) instead\n",
      "  previous_close = float(df.iloc[0][\"Close\"])\n"
     ]
    },
    {
     "name": "stdout",
     "output_type": "stream",
     "text": [
      "Fetching data for AOS...\n"
     ]
    },
    {
     "name": "stderr",
     "output_type": "stream",
     "text": [
      "[*********************100%***********************]  1 of 1 completed\n",
      "C:\\Users\\diego\\AppData\\Local\\Temp\\ipykernel_50852\\430125842.py:13: FutureWarning: Calling float on a single element Series is deprecated and will raise a TypeError in the future. Use float(ser.iloc[0]) instead\n",
      "  open_price     = float(df.iloc[1][\"Open\"])\n",
      "C:\\Users\\diego\\AppData\\Local\\Temp\\ipykernel_50852\\430125842.py:14: FutureWarning: Calling float on a single element Series is deprecated and will raise a TypeError in the future. Use float(ser.iloc[0]) instead\n",
      "  close_price    = float(df.iloc[1][\"Close\"])\n",
      "C:\\Users\\diego\\AppData\\Local\\Temp\\ipykernel_50852\\430125842.py:15: FutureWarning: Calling float on a single element Series is deprecated and will raise a TypeError in the future. Use float(ser.iloc[0]) instead\n",
      "  previous_open  = float(df.iloc[0][\"Open\"])\n",
      "C:\\Users\\diego\\AppData\\Local\\Temp\\ipykernel_50852\\430125842.py:16: FutureWarning: Calling float on a single element Series is deprecated and will raise a TypeError in the future. Use float(ser.iloc[0]) instead\n",
      "  previous_close = float(df.iloc[0][\"Close\"])\n"
     ]
    },
    {
     "name": "stdout",
     "output_type": "stream",
     "text": [
      "Fetching data for ABT...\n"
     ]
    },
    {
     "name": "stderr",
     "output_type": "stream",
     "text": [
      "[*********************100%***********************]  1 of 1 completed\n",
      "C:\\Users\\diego\\AppData\\Local\\Temp\\ipykernel_50852\\430125842.py:13: FutureWarning: Calling float on a single element Series is deprecated and will raise a TypeError in the future. Use float(ser.iloc[0]) instead\n",
      "  open_price     = float(df.iloc[1][\"Open\"])\n",
      "C:\\Users\\diego\\AppData\\Local\\Temp\\ipykernel_50852\\430125842.py:14: FutureWarning: Calling float on a single element Series is deprecated and will raise a TypeError in the future. Use float(ser.iloc[0]) instead\n",
      "  close_price    = float(df.iloc[1][\"Close\"])\n",
      "C:\\Users\\diego\\AppData\\Local\\Temp\\ipykernel_50852\\430125842.py:15: FutureWarning: Calling float on a single element Series is deprecated and will raise a TypeError in the future. Use float(ser.iloc[0]) instead\n",
      "  previous_open  = float(df.iloc[0][\"Open\"])\n",
      "C:\\Users\\diego\\AppData\\Local\\Temp\\ipykernel_50852\\430125842.py:16: FutureWarning: Calling float on a single element Series is deprecated and will raise a TypeError in the future. Use float(ser.iloc[0]) instead\n",
      "  previous_close = float(df.iloc[0][\"Close\"])\n"
     ]
    },
    {
     "name": "stdout",
     "output_type": "stream",
     "text": [
      "Fetching data for ABBV...\n"
     ]
    },
    {
     "name": "stderr",
     "output_type": "stream",
     "text": [
      "[*********************100%***********************]  1 of 1 completed\n",
      "C:\\Users\\diego\\AppData\\Local\\Temp\\ipykernel_50852\\430125842.py:13: FutureWarning: Calling float on a single element Series is deprecated and will raise a TypeError in the future. Use float(ser.iloc[0]) instead\n",
      "  open_price     = float(df.iloc[1][\"Open\"])\n",
      "C:\\Users\\diego\\AppData\\Local\\Temp\\ipykernel_50852\\430125842.py:14: FutureWarning: Calling float on a single element Series is deprecated and will raise a TypeError in the future. Use float(ser.iloc[0]) instead\n",
      "  close_price    = float(df.iloc[1][\"Close\"])\n",
      "C:\\Users\\diego\\AppData\\Local\\Temp\\ipykernel_50852\\430125842.py:15: FutureWarning: Calling float on a single element Series is deprecated and will raise a TypeError in the future. Use float(ser.iloc[0]) instead\n",
      "  previous_open  = float(df.iloc[0][\"Open\"])\n",
      "C:\\Users\\diego\\AppData\\Local\\Temp\\ipykernel_50852\\430125842.py:16: FutureWarning: Calling float on a single element Series is deprecated and will raise a TypeError in the future. Use float(ser.iloc[0]) instead\n",
      "  previous_close = float(df.iloc[0][\"Close\"])\n"
     ]
    },
    {
     "name": "stdout",
     "output_type": "stream",
     "text": [
      "Fetching data for ACN...\n"
     ]
    },
    {
     "name": "stderr",
     "output_type": "stream",
     "text": [
      "[*********************100%***********************]  1 of 1 completed\n",
      "C:\\Users\\diego\\AppData\\Local\\Temp\\ipykernel_50852\\430125842.py:13: FutureWarning: Calling float on a single element Series is deprecated and will raise a TypeError in the future. Use float(ser.iloc[0]) instead\n",
      "  open_price     = float(df.iloc[1][\"Open\"])\n",
      "C:\\Users\\diego\\AppData\\Local\\Temp\\ipykernel_50852\\430125842.py:14: FutureWarning: Calling float on a single element Series is deprecated and will raise a TypeError in the future. Use float(ser.iloc[0]) instead\n",
      "  close_price    = float(df.iloc[1][\"Close\"])\n",
      "C:\\Users\\diego\\AppData\\Local\\Temp\\ipykernel_50852\\430125842.py:15: FutureWarning: Calling float on a single element Series is deprecated and will raise a TypeError in the future. Use float(ser.iloc[0]) instead\n",
      "  previous_open  = float(df.iloc[0][\"Open\"])\n",
      "C:\\Users\\diego\\AppData\\Local\\Temp\\ipykernel_50852\\430125842.py:16: FutureWarning: Calling float on a single element Series is deprecated and will raise a TypeError in the future. Use float(ser.iloc[0]) instead\n",
      "  previous_close = float(df.iloc[0][\"Close\"])\n"
     ]
    },
    {
     "name": "stdout",
     "output_type": "stream",
     "text": [
      "Fetching data for ADBE...\n"
     ]
    },
    {
     "name": "stderr",
     "output_type": "stream",
     "text": [
      "[*********************100%***********************]  1 of 1 completed\n",
      "C:\\Users\\diego\\AppData\\Local\\Temp\\ipykernel_50852\\430125842.py:13: FutureWarning: Calling float on a single element Series is deprecated and will raise a TypeError in the future. Use float(ser.iloc[0]) instead\n",
      "  open_price     = float(df.iloc[1][\"Open\"])\n",
      "C:\\Users\\diego\\AppData\\Local\\Temp\\ipykernel_50852\\430125842.py:14: FutureWarning: Calling float on a single element Series is deprecated and will raise a TypeError in the future. Use float(ser.iloc[0]) instead\n",
      "  close_price    = float(df.iloc[1][\"Close\"])\n",
      "C:\\Users\\diego\\AppData\\Local\\Temp\\ipykernel_50852\\430125842.py:15: FutureWarning: Calling float on a single element Series is deprecated and will raise a TypeError in the future. Use float(ser.iloc[0]) instead\n",
      "  previous_open  = float(df.iloc[0][\"Open\"])\n",
      "C:\\Users\\diego\\AppData\\Local\\Temp\\ipykernel_50852\\430125842.py:16: FutureWarning: Calling float on a single element Series is deprecated and will raise a TypeError in the future. Use float(ser.iloc[0]) instead\n",
      "  previous_close = float(df.iloc[0][\"Close\"])\n"
     ]
    },
    {
     "name": "stdout",
     "output_type": "stream",
     "text": [
      "Fetching data for AMD...\n"
     ]
    },
    {
     "name": "stderr",
     "output_type": "stream",
     "text": [
      "[*********************100%***********************]  1 of 1 completed\n",
      "C:\\Users\\diego\\AppData\\Local\\Temp\\ipykernel_50852\\430125842.py:13: FutureWarning: Calling float on a single element Series is deprecated and will raise a TypeError in the future. Use float(ser.iloc[0]) instead\n",
      "  open_price     = float(df.iloc[1][\"Open\"])\n",
      "C:\\Users\\diego\\AppData\\Local\\Temp\\ipykernel_50852\\430125842.py:14: FutureWarning: Calling float on a single element Series is deprecated and will raise a TypeError in the future. Use float(ser.iloc[0]) instead\n",
      "  close_price    = float(df.iloc[1][\"Close\"])\n",
      "C:\\Users\\diego\\AppData\\Local\\Temp\\ipykernel_50852\\430125842.py:15: FutureWarning: Calling float on a single element Series is deprecated and will raise a TypeError in the future. Use float(ser.iloc[0]) instead\n",
      "  previous_open  = float(df.iloc[0][\"Open\"])\n",
      "C:\\Users\\diego\\AppData\\Local\\Temp\\ipykernel_50852\\430125842.py:16: FutureWarning: Calling float on a single element Series is deprecated and will raise a TypeError in the future. Use float(ser.iloc[0]) instead\n",
      "  previous_close = float(df.iloc[0][\"Close\"])\n"
     ]
    },
    {
     "name": "stdout",
     "output_type": "stream",
     "text": [
      "Fetching data for AES...\n"
     ]
    },
    {
     "name": "stderr",
     "output_type": "stream",
     "text": [
      "[*********************100%***********************]  1 of 1 completed\n",
      "C:\\Users\\diego\\AppData\\Local\\Temp\\ipykernel_50852\\430125842.py:13: FutureWarning: Calling float on a single element Series is deprecated and will raise a TypeError in the future. Use float(ser.iloc[0]) instead\n",
      "  open_price     = float(df.iloc[1][\"Open\"])\n",
      "C:\\Users\\diego\\AppData\\Local\\Temp\\ipykernel_50852\\430125842.py:14: FutureWarning: Calling float on a single element Series is deprecated and will raise a TypeError in the future. Use float(ser.iloc[0]) instead\n",
      "  close_price    = float(df.iloc[1][\"Close\"])\n",
      "C:\\Users\\diego\\AppData\\Local\\Temp\\ipykernel_50852\\430125842.py:15: FutureWarning: Calling float on a single element Series is deprecated and will raise a TypeError in the future. Use float(ser.iloc[0]) instead\n",
      "  previous_open  = float(df.iloc[0][\"Open\"])\n",
      "C:\\Users\\diego\\AppData\\Local\\Temp\\ipykernel_50852\\430125842.py:16: FutureWarning: Calling float on a single element Series is deprecated and will raise a TypeError in the future. Use float(ser.iloc[0]) instead\n",
      "  previous_close = float(df.iloc[0][\"Close\"])\n"
     ]
    },
    {
     "name": "stdout",
     "output_type": "stream",
     "text": [
      "Fetching data for AFL...\n"
     ]
    },
    {
     "name": "stderr",
     "output_type": "stream",
     "text": [
      "[*********************100%***********************]  1 of 1 completed\n",
      "C:\\Users\\diego\\AppData\\Local\\Temp\\ipykernel_50852\\430125842.py:13: FutureWarning: Calling float on a single element Series is deprecated and will raise a TypeError in the future. Use float(ser.iloc[0]) instead\n",
      "  open_price     = float(df.iloc[1][\"Open\"])\n",
      "C:\\Users\\diego\\AppData\\Local\\Temp\\ipykernel_50852\\430125842.py:14: FutureWarning: Calling float on a single element Series is deprecated and will raise a TypeError in the future. Use float(ser.iloc[0]) instead\n",
      "  close_price    = float(df.iloc[1][\"Close\"])\n",
      "C:\\Users\\diego\\AppData\\Local\\Temp\\ipykernel_50852\\430125842.py:15: FutureWarning: Calling float on a single element Series is deprecated and will raise a TypeError in the future. Use float(ser.iloc[0]) instead\n",
      "  previous_open  = float(df.iloc[0][\"Open\"])\n",
      "C:\\Users\\diego\\AppData\\Local\\Temp\\ipykernel_50852\\430125842.py:16: FutureWarning: Calling float on a single element Series is deprecated and will raise a TypeError in the future. Use float(ser.iloc[0]) instead\n",
      "  previous_close = float(df.iloc[0][\"Close\"])\n"
     ]
    },
    {
     "name": "stdout",
     "output_type": "stream",
     "text": [
      "Fetching data for A...\n"
     ]
    },
    {
     "name": "stderr",
     "output_type": "stream",
     "text": [
      "[*********************100%***********************]  1 of 1 completed\n",
      "C:\\Users\\diego\\AppData\\Local\\Temp\\ipykernel_50852\\430125842.py:13: FutureWarning: Calling float on a single element Series is deprecated and will raise a TypeError in the future. Use float(ser.iloc[0]) instead\n",
      "  open_price     = float(df.iloc[1][\"Open\"])\n",
      "C:\\Users\\diego\\AppData\\Local\\Temp\\ipykernel_50852\\430125842.py:14: FutureWarning: Calling float on a single element Series is deprecated and will raise a TypeError in the future. Use float(ser.iloc[0]) instead\n",
      "  close_price    = float(df.iloc[1][\"Close\"])\n",
      "C:\\Users\\diego\\AppData\\Local\\Temp\\ipykernel_50852\\430125842.py:15: FutureWarning: Calling float on a single element Series is deprecated and will raise a TypeError in the future. Use float(ser.iloc[0]) instead\n",
      "  previous_open  = float(df.iloc[0][\"Open\"])\n",
      "C:\\Users\\diego\\AppData\\Local\\Temp\\ipykernel_50852\\430125842.py:16: FutureWarning: Calling float on a single element Series is deprecated and will raise a TypeError in the future. Use float(ser.iloc[0]) instead\n",
      "  previous_close = float(df.iloc[0][\"Close\"])\n"
     ]
    },
    {
     "name": "stdout",
     "output_type": "stream",
     "text": [
      "Fetching data for APD...\n"
     ]
    },
    {
     "name": "stderr",
     "output_type": "stream",
     "text": [
      "[*********************100%***********************]  1 of 1 completed\n",
      "C:\\Users\\diego\\AppData\\Local\\Temp\\ipykernel_50852\\430125842.py:13: FutureWarning: Calling float on a single element Series is deprecated and will raise a TypeError in the future. Use float(ser.iloc[0]) instead\n",
      "  open_price     = float(df.iloc[1][\"Open\"])\n",
      "C:\\Users\\diego\\AppData\\Local\\Temp\\ipykernel_50852\\430125842.py:14: FutureWarning: Calling float on a single element Series is deprecated and will raise a TypeError in the future. Use float(ser.iloc[0]) instead\n",
      "  close_price    = float(df.iloc[1][\"Close\"])\n",
      "C:\\Users\\diego\\AppData\\Local\\Temp\\ipykernel_50852\\430125842.py:15: FutureWarning: Calling float on a single element Series is deprecated and will raise a TypeError in the future. Use float(ser.iloc[0]) instead\n",
      "  previous_open  = float(df.iloc[0][\"Open\"])\n",
      "C:\\Users\\diego\\AppData\\Local\\Temp\\ipykernel_50852\\430125842.py:16: FutureWarning: Calling float on a single element Series is deprecated and will raise a TypeError in the future. Use float(ser.iloc[0]) instead\n",
      "  previous_close = float(df.iloc[0][\"Close\"])\n"
     ]
    },
    {
     "name": "stdout",
     "output_type": "stream",
     "text": [
      "Fetching data for ABNB...\n"
     ]
    },
    {
     "name": "stderr",
     "output_type": "stream",
     "text": [
      "[*********************100%***********************]  1 of 1 completed\n",
      "C:\\Users\\diego\\AppData\\Local\\Temp\\ipykernel_50852\\430125842.py:13: FutureWarning: Calling float on a single element Series is deprecated and will raise a TypeError in the future. Use float(ser.iloc[0]) instead\n",
      "  open_price     = float(df.iloc[1][\"Open\"])\n",
      "C:\\Users\\diego\\AppData\\Local\\Temp\\ipykernel_50852\\430125842.py:14: FutureWarning: Calling float on a single element Series is deprecated and will raise a TypeError in the future. Use float(ser.iloc[0]) instead\n",
      "  close_price    = float(df.iloc[1][\"Close\"])\n",
      "C:\\Users\\diego\\AppData\\Local\\Temp\\ipykernel_50852\\430125842.py:15: FutureWarning: Calling float on a single element Series is deprecated and will raise a TypeError in the future. Use float(ser.iloc[0]) instead\n",
      "  previous_open  = float(df.iloc[0][\"Open\"])\n",
      "C:\\Users\\diego\\AppData\\Local\\Temp\\ipykernel_50852\\430125842.py:16: FutureWarning: Calling float on a single element Series is deprecated and will raise a TypeError in the future. Use float(ser.iloc[0]) instead\n",
      "  previous_close = float(df.iloc[0][\"Close\"])\n"
     ]
    },
    {
     "name": "stdout",
     "output_type": "stream",
     "text": [
      "Fetching data for AKAM...\n"
     ]
    },
    {
     "name": "stderr",
     "output_type": "stream",
     "text": [
      "[*********************100%***********************]  1 of 1 completed\n",
      "C:\\Users\\diego\\AppData\\Local\\Temp\\ipykernel_50852\\430125842.py:13: FutureWarning: Calling float on a single element Series is deprecated and will raise a TypeError in the future. Use float(ser.iloc[0]) instead\n",
      "  open_price     = float(df.iloc[1][\"Open\"])\n",
      "C:\\Users\\diego\\AppData\\Local\\Temp\\ipykernel_50852\\430125842.py:14: FutureWarning: Calling float on a single element Series is deprecated and will raise a TypeError in the future. Use float(ser.iloc[0]) instead\n",
      "  close_price    = float(df.iloc[1][\"Close\"])\n",
      "C:\\Users\\diego\\AppData\\Local\\Temp\\ipykernel_50852\\430125842.py:15: FutureWarning: Calling float on a single element Series is deprecated and will raise a TypeError in the future. Use float(ser.iloc[0]) instead\n",
      "  previous_open  = float(df.iloc[0][\"Open\"])\n",
      "C:\\Users\\diego\\AppData\\Local\\Temp\\ipykernel_50852\\430125842.py:16: FutureWarning: Calling float on a single element Series is deprecated and will raise a TypeError in the future. Use float(ser.iloc[0]) instead\n",
      "  previous_close = float(df.iloc[0][\"Close\"])\n"
     ]
    },
    {
     "name": "stdout",
     "output_type": "stream",
     "text": [
      "Fetching data for ALB...\n"
     ]
    },
    {
     "name": "stderr",
     "output_type": "stream",
     "text": [
      "[*********************100%***********************]  1 of 1 completed\n",
      "C:\\Users\\diego\\AppData\\Local\\Temp\\ipykernel_50852\\430125842.py:13: FutureWarning: Calling float on a single element Series is deprecated and will raise a TypeError in the future. Use float(ser.iloc[0]) instead\n",
      "  open_price     = float(df.iloc[1][\"Open\"])\n",
      "C:\\Users\\diego\\AppData\\Local\\Temp\\ipykernel_50852\\430125842.py:14: FutureWarning: Calling float on a single element Series is deprecated and will raise a TypeError in the future. Use float(ser.iloc[0]) instead\n",
      "  close_price    = float(df.iloc[1][\"Close\"])\n",
      "C:\\Users\\diego\\AppData\\Local\\Temp\\ipykernel_50852\\430125842.py:15: FutureWarning: Calling float on a single element Series is deprecated and will raise a TypeError in the future. Use float(ser.iloc[0]) instead\n",
      "  previous_open  = float(df.iloc[0][\"Open\"])\n",
      "C:\\Users\\diego\\AppData\\Local\\Temp\\ipykernel_50852\\430125842.py:16: FutureWarning: Calling float on a single element Series is deprecated and will raise a TypeError in the future. Use float(ser.iloc[0]) instead\n",
      "  previous_close = float(df.iloc[0][\"Close\"])\n"
     ]
    },
    {
     "name": "stdout",
     "output_type": "stream",
     "text": [
      "Fetching data for ARE...\n"
     ]
    },
    {
     "name": "stderr",
     "output_type": "stream",
     "text": [
      "[*********************100%***********************]  1 of 1 completed\n",
      "C:\\Users\\diego\\AppData\\Local\\Temp\\ipykernel_50852\\430125842.py:13: FutureWarning: Calling float on a single element Series is deprecated and will raise a TypeError in the future. Use float(ser.iloc[0]) instead\n",
      "  open_price     = float(df.iloc[1][\"Open\"])\n",
      "C:\\Users\\diego\\AppData\\Local\\Temp\\ipykernel_50852\\430125842.py:14: FutureWarning: Calling float on a single element Series is deprecated and will raise a TypeError in the future. Use float(ser.iloc[0]) instead\n",
      "  close_price    = float(df.iloc[1][\"Close\"])\n",
      "C:\\Users\\diego\\AppData\\Local\\Temp\\ipykernel_50852\\430125842.py:15: FutureWarning: Calling float on a single element Series is deprecated and will raise a TypeError in the future. Use float(ser.iloc[0]) instead\n",
      "  previous_open  = float(df.iloc[0][\"Open\"])\n",
      "C:\\Users\\diego\\AppData\\Local\\Temp\\ipykernel_50852\\430125842.py:16: FutureWarning: Calling float on a single element Series is deprecated and will raise a TypeError in the future. Use float(ser.iloc[0]) instead\n",
      "  previous_close = float(df.iloc[0][\"Close\"])\n"
     ]
    },
    {
     "name": "stdout",
     "output_type": "stream",
     "text": [
      "Fetching data for ALGN...\n"
     ]
    },
    {
     "name": "stderr",
     "output_type": "stream",
     "text": [
      "[*********************100%***********************]  1 of 1 completed\n",
      "C:\\Users\\diego\\AppData\\Local\\Temp\\ipykernel_50852\\430125842.py:13: FutureWarning: Calling float on a single element Series is deprecated and will raise a TypeError in the future. Use float(ser.iloc[0]) instead\n",
      "  open_price     = float(df.iloc[1][\"Open\"])\n",
      "C:\\Users\\diego\\AppData\\Local\\Temp\\ipykernel_50852\\430125842.py:14: FutureWarning: Calling float on a single element Series is deprecated and will raise a TypeError in the future. Use float(ser.iloc[0]) instead\n",
      "  close_price    = float(df.iloc[1][\"Close\"])\n",
      "C:\\Users\\diego\\AppData\\Local\\Temp\\ipykernel_50852\\430125842.py:15: FutureWarning: Calling float on a single element Series is deprecated and will raise a TypeError in the future. Use float(ser.iloc[0]) instead\n",
      "  previous_open  = float(df.iloc[0][\"Open\"])\n",
      "C:\\Users\\diego\\AppData\\Local\\Temp\\ipykernel_50852\\430125842.py:16: FutureWarning: Calling float on a single element Series is deprecated and will raise a TypeError in the future. Use float(ser.iloc[0]) instead\n",
      "  previous_close = float(df.iloc[0][\"Close\"])\n"
     ]
    },
    {
     "name": "stdout",
     "output_type": "stream",
     "text": [
      "Fetching data for ALLE...\n"
     ]
    },
    {
     "name": "stderr",
     "output_type": "stream",
     "text": [
      "[*********************100%***********************]  1 of 1 completed\n",
      "C:\\Users\\diego\\AppData\\Local\\Temp\\ipykernel_50852\\430125842.py:13: FutureWarning: Calling float on a single element Series is deprecated and will raise a TypeError in the future. Use float(ser.iloc[0]) instead\n",
      "  open_price     = float(df.iloc[1][\"Open\"])\n",
      "C:\\Users\\diego\\AppData\\Local\\Temp\\ipykernel_50852\\430125842.py:14: FutureWarning: Calling float on a single element Series is deprecated and will raise a TypeError in the future. Use float(ser.iloc[0]) instead\n",
      "  close_price    = float(df.iloc[1][\"Close\"])\n",
      "C:\\Users\\diego\\AppData\\Local\\Temp\\ipykernel_50852\\430125842.py:15: FutureWarning: Calling float on a single element Series is deprecated and will raise a TypeError in the future. Use float(ser.iloc[0]) instead\n",
      "  previous_open  = float(df.iloc[0][\"Open\"])\n",
      "C:\\Users\\diego\\AppData\\Local\\Temp\\ipykernel_50852\\430125842.py:16: FutureWarning: Calling float on a single element Series is deprecated and will raise a TypeError in the future. Use float(ser.iloc[0]) instead\n",
      "  previous_close = float(df.iloc[0][\"Close\"])\n"
     ]
    },
    {
     "name": "stdout",
     "output_type": "stream",
     "text": [
      "Fetching data for LNT...\n"
     ]
    },
    {
     "name": "stderr",
     "output_type": "stream",
     "text": [
      "[*********************100%***********************]  1 of 1 completed\n",
      "C:\\Users\\diego\\AppData\\Local\\Temp\\ipykernel_50852\\430125842.py:13: FutureWarning: Calling float on a single element Series is deprecated and will raise a TypeError in the future. Use float(ser.iloc[0]) instead\n",
      "  open_price     = float(df.iloc[1][\"Open\"])\n",
      "C:\\Users\\diego\\AppData\\Local\\Temp\\ipykernel_50852\\430125842.py:14: FutureWarning: Calling float on a single element Series is deprecated and will raise a TypeError in the future. Use float(ser.iloc[0]) instead\n",
      "  close_price    = float(df.iloc[1][\"Close\"])\n",
      "C:\\Users\\diego\\AppData\\Local\\Temp\\ipykernel_50852\\430125842.py:15: FutureWarning: Calling float on a single element Series is deprecated and will raise a TypeError in the future. Use float(ser.iloc[0]) instead\n",
      "  previous_open  = float(df.iloc[0][\"Open\"])\n",
      "C:\\Users\\diego\\AppData\\Local\\Temp\\ipykernel_50852\\430125842.py:16: FutureWarning: Calling float on a single element Series is deprecated and will raise a TypeError in the future. Use float(ser.iloc[0]) instead\n",
      "  previous_close = float(df.iloc[0][\"Close\"])\n"
     ]
    },
    {
     "name": "stdout",
     "output_type": "stream",
     "text": [
      "Fetching data for ALL...\n"
     ]
    },
    {
     "name": "stderr",
     "output_type": "stream",
     "text": [
      "[*********************100%***********************]  1 of 1 completed\n",
      "C:\\Users\\diego\\AppData\\Local\\Temp\\ipykernel_50852\\430125842.py:13: FutureWarning: Calling float on a single element Series is deprecated and will raise a TypeError in the future. Use float(ser.iloc[0]) instead\n",
      "  open_price     = float(df.iloc[1][\"Open\"])\n",
      "C:\\Users\\diego\\AppData\\Local\\Temp\\ipykernel_50852\\430125842.py:14: FutureWarning: Calling float on a single element Series is deprecated and will raise a TypeError in the future. Use float(ser.iloc[0]) instead\n",
      "  close_price    = float(df.iloc[1][\"Close\"])\n",
      "C:\\Users\\diego\\AppData\\Local\\Temp\\ipykernel_50852\\430125842.py:15: FutureWarning: Calling float on a single element Series is deprecated and will raise a TypeError in the future. Use float(ser.iloc[0]) instead\n",
      "  previous_open  = float(df.iloc[0][\"Open\"])\n",
      "C:\\Users\\diego\\AppData\\Local\\Temp\\ipykernel_50852\\430125842.py:16: FutureWarning: Calling float on a single element Series is deprecated and will raise a TypeError in the future. Use float(ser.iloc[0]) instead\n",
      "  previous_close = float(df.iloc[0][\"Close\"])\n"
     ]
    },
    {
     "name": "stdout",
     "output_type": "stream",
     "text": [
      "Fetching data for GOOGL...\n"
     ]
    },
    {
     "name": "stderr",
     "output_type": "stream",
     "text": [
      "[*********************100%***********************]  1 of 1 completed\n",
      "C:\\Users\\diego\\AppData\\Local\\Temp\\ipykernel_50852\\430125842.py:13: FutureWarning: Calling float on a single element Series is deprecated and will raise a TypeError in the future. Use float(ser.iloc[0]) instead\n",
      "  open_price     = float(df.iloc[1][\"Open\"])\n",
      "C:\\Users\\diego\\AppData\\Local\\Temp\\ipykernel_50852\\430125842.py:14: FutureWarning: Calling float on a single element Series is deprecated and will raise a TypeError in the future. Use float(ser.iloc[0]) instead\n",
      "  close_price    = float(df.iloc[1][\"Close\"])\n",
      "C:\\Users\\diego\\AppData\\Local\\Temp\\ipykernel_50852\\430125842.py:15: FutureWarning: Calling float on a single element Series is deprecated and will raise a TypeError in the future. Use float(ser.iloc[0]) instead\n",
      "  previous_open  = float(df.iloc[0][\"Open\"])\n",
      "C:\\Users\\diego\\AppData\\Local\\Temp\\ipykernel_50852\\430125842.py:16: FutureWarning: Calling float on a single element Series is deprecated and will raise a TypeError in the future. Use float(ser.iloc[0]) instead\n",
      "  previous_close = float(df.iloc[0][\"Close\"])\n"
     ]
    },
    {
     "name": "stdout",
     "output_type": "stream",
     "text": [
      "Fetching data for GOOG...\n"
     ]
    },
    {
     "name": "stderr",
     "output_type": "stream",
     "text": [
      "[*********************100%***********************]  1 of 1 completed\n",
      "C:\\Users\\diego\\AppData\\Local\\Temp\\ipykernel_50852\\430125842.py:13: FutureWarning: Calling float on a single element Series is deprecated and will raise a TypeError in the future. Use float(ser.iloc[0]) instead\n",
      "  open_price     = float(df.iloc[1][\"Open\"])\n",
      "C:\\Users\\diego\\AppData\\Local\\Temp\\ipykernel_50852\\430125842.py:14: FutureWarning: Calling float on a single element Series is deprecated and will raise a TypeError in the future. Use float(ser.iloc[0]) instead\n",
      "  close_price    = float(df.iloc[1][\"Close\"])\n",
      "C:\\Users\\diego\\AppData\\Local\\Temp\\ipykernel_50852\\430125842.py:15: FutureWarning: Calling float on a single element Series is deprecated and will raise a TypeError in the future. Use float(ser.iloc[0]) instead\n",
      "  previous_open  = float(df.iloc[0][\"Open\"])\n",
      "C:\\Users\\diego\\AppData\\Local\\Temp\\ipykernel_50852\\430125842.py:16: FutureWarning: Calling float on a single element Series is deprecated and will raise a TypeError in the future. Use float(ser.iloc[0]) instead\n",
      "  previous_close = float(df.iloc[0][\"Close\"])\n"
     ]
    },
    {
     "name": "stdout",
     "output_type": "stream",
     "text": [
      "Fetching data for MO...\n"
     ]
    },
    {
     "name": "stderr",
     "output_type": "stream",
     "text": [
      "[*********************100%***********************]  1 of 1 completed\n",
      "C:\\Users\\diego\\AppData\\Local\\Temp\\ipykernel_50852\\430125842.py:13: FutureWarning: Calling float on a single element Series is deprecated and will raise a TypeError in the future. Use float(ser.iloc[0]) instead\n",
      "  open_price     = float(df.iloc[1][\"Open\"])\n",
      "C:\\Users\\diego\\AppData\\Local\\Temp\\ipykernel_50852\\430125842.py:14: FutureWarning: Calling float on a single element Series is deprecated and will raise a TypeError in the future. Use float(ser.iloc[0]) instead\n",
      "  close_price    = float(df.iloc[1][\"Close\"])\n",
      "C:\\Users\\diego\\AppData\\Local\\Temp\\ipykernel_50852\\430125842.py:15: FutureWarning: Calling float on a single element Series is deprecated and will raise a TypeError in the future. Use float(ser.iloc[0]) instead\n",
      "  previous_open  = float(df.iloc[0][\"Open\"])\n",
      "C:\\Users\\diego\\AppData\\Local\\Temp\\ipykernel_50852\\430125842.py:16: FutureWarning: Calling float on a single element Series is deprecated and will raise a TypeError in the future. Use float(ser.iloc[0]) instead\n",
      "  previous_close = float(df.iloc[0][\"Close\"])\n"
     ]
    },
    {
     "name": "stdout",
     "output_type": "stream",
     "text": [
      "Fetching data for AMZN...\n"
     ]
    },
    {
     "name": "stderr",
     "output_type": "stream",
     "text": [
      "[*********************100%***********************]  1 of 1 completed\n",
      "C:\\Users\\diego\\AppData\\Local\\Temp\\ipykernel_50852\\430125842.py:13: FutureWarning: Calling float on a single element Series is deprecated and will raise a TypeError in the future. Use float(ser.iloc[0]) instead\n",
      "  open_price     = float(df.iloc[1][\"Open\"])\n",
      "C:\\Users\\diego\\AppData\\Local\\Temp\\ipykernel_50852\\430125842.py:14: FutureWarning: Calling float on a single element Series is deprecated and will raise a TypeError in the future. Use float(ser.iloc[0]) instead\n",
      "  close_price    = float(df.iloc[1][\"Close\"])\n",
      "C:\\Users\\diego\\AppData\\Local\\Temp\\ipykernel_50852\\430125842.py:15: FutureWarning: Calling float on a single element Series is deprecated and will raise a TypeError in the future. Use float(ser.iloc[0]) instead\n",
      "  previous_open  = float(df.iloc[0][\"Open\"])\n",
      "C:\\Users\\diego\\AppData\\Local\\Temp\\ipykernel_50852\\430125842.py:16: FutureWarning: Calling float on a single element Series is deprecated and will raise a TypeError in the future. Use float(ser.iloc[0]) instead\n",
      "  previous_close = float(df.iloc[0][\"Close\"])\n"
     ]
    },
    {
     "name": "stdout",
     "output_type": "stream",
     "text": [
      "Fetching data for AMCR...\n"
     ]
    },
    {
     "name": "stderr",
     "output_type": "stream",
     "text": [
      "[*********************100%***********************]  1 of 1 completed\n",
      "C:\\Users\\diego\\AppData\\Local\\Temp\\ipykernel_50852\\430125842.py:13: FutureWarning: Calling float on a single element Series is deprecated and will raise a TypeError in the future. Use float(ser.iloc[0]) instead\n",
      "  open_price     = float(df.iloc[1][\"Open\"])\n",
      "C:\\Users\\diego\\AppData\\Local\\Temp\\ipykernel_50852\\430125842.py:14: FutureWarning: Calling float on a single element Series is deprecated and will raise a TypeError in the future. Use float(ser.iloc[0]) instead\n",
      "  close_price    = float(df.iloc[1][\"Close\"])\n",
      "C:\\Users\\diego\\AppData\\Local\\Temp\\ipykernel_50852\\430125842.py:15: FutureWarning: Calling float on a single element Series is deprecated and will raise a TypeError in the future. Use float(ser.iloc[0]) instead\n",
      "  previous_open  = float(df.iloc[0][\"Open\"])\n",
      "C:\\Users\\diego\\AppData\\Local\\Temp\\ipykernel_50852\\430125842.py:16: FutureWarning: Calling float on a single element Series is deprecated and will raise a TypeError in the future. Use float(ser.iloc[0]) instead\n",
      "  previous_close = float(df.iloc[0][\"Close\"])\n"
     ]
    },
    {
     "name": "stdout",
     "output_type": "stream",
     "text": [
      "Fetching data for AEE...\n"
     ]
    },
    {
     "name": "stderr",
     "output_type": "stream",
     "text": [
      "[*********************100%***********************]  1 of 1 completed\n",
      "C:\\Users\\diego\\AppData\\Local\\Temp\\ipykernel_50852\\430125842.py:13: FutureWarning: Calling float on a single element Series is deprecated and will raise a TypeError in the future. Use float(ser.iloc[0]) instead\n",
      "  open_price     = float(df.iloc[1][\"Open\"])\n",
      "C:\\Users\\diego\\AppData\\Local\\Temp\\ipykernel_50852\\430125842.py:14: FutureWarning: Calling float on a single element Series is deprecated and will raise a TypeError in the future. Use float(ser.iloc[0]) instead\n",
      "  close_price    = float(df.iloc[1][\"Close\"])\n",
      "C:\\Users\\diego\\AppData\\Local\\Temp\\ipykernel_50852\\430125842.py:15: FutureWarning: Calling float on a single element Series is deprecated and will raise a TypeError in the future. Use float(ser.iloc[0]) instead\n",
      "  previous_open  = float(df.iloc[0][\"Open\"])\n",
      "C:\\Users\\diego\\AppData\\Local\\Temp\\ipykernel_50852\\430125842.py:16: FutureWarning: Calling float on a single element Series is deprecated and will raise a TypeError in the future. Use float(ser.iloc[0]) instead\n",
      "  previous_close = float(df.iloc[0][\"Close\"])\n"
     ]
    },
    {
     "name": "stdout",
     "output_type": "stream",
     "text": [
      "Fetching data for AEP...\n"
     ]
    },
    {
     "name": "stderr",
     "output_type": "stream",
     "text": [
      "[*********************100%***********************]  1 of 1 completed\n",
      "C:\\Users\\diego\\AppData\\Local\\Temp\\ipykernel_50852\\430125842.py:13: FutureWarning: Calling float on a single element Series is deprecated and will raise a TypeError in the future. Use float(ser.iloc[0]) instead\n",
      "  open_price     = float(df.iloc[1][\"Open\"])\n",
      "C:\\Users\\diego\\AppData\\Local\\Temp\\ipykernel_50852\\430125842.py:14: FutureWarning: Calling float on a single element Series is deprecated and will raise a TypeError in the future. Use float(ser.iloc[0]) instead\n",
      "  close_price    = float(df.iloc[1][\"Close\"])\n",
      "C:\\Users\\diego\\AppData\\Local\\Temp\\ipykernel_50852\\430125842.py:15: FutureWarning: Calling float on a single element Series is deprecated and will raise a TypeError in the future. Use float(ser.iloc[0]) instead\n",
      "  previous_open  = float(df.iloc[0][\"Open\"])\n",
      "C:\\Users\\diego\\AppData\\Local\\Temp\\ipykernel_50852\\430125842.py:16: FutureWarning: Calling float on a single element Series is deprecated and will raise a TypeError in the future. Use float(ser.iloc[0]) instead\n",
      "  previous_close = float(df.iloc[0][\"Close\"])\n"
     ]
    },
    {
     "name": "stdout",
     "output_type": "stream",
     "text": [
      "Fetching data for AXP...\n"
     ]
    },
    {
     "name": "stderr",
     "output_type": "stream",
     "text": [
      "[*********************100%***********************]  1 of 1 completed\n",
      "C:\\Users\\diego\\AppData\\Local\\Temp\\ipykernel_50852\\430125842.py:13: FutureWarning: Calling float on a single element Series is deprecated and will raise a TypeError in the future. Use float(ser.iloc[0]) instead\n",
      "  open_price     = float(df.iloc[1][\"Open\"])\n",
      "C:\\Users\\diego\\AppData\\Local\\Temp\\ipykernel_50852\\430125842.py:14: FutureWarning: Calling float on a single element Series is deprecated and will raise a TypeError in the future. Use float(ser.iloc[0]) instead\n",
      "  close_price    = float(df.iloc[1][\"Close\"])\n",
      "C:\\Users\\diego\\AppData\\Local\\Temp\\ipykernel_50852\\430125842.py:15: FutureWarning: Calling float on a single element Series is deprecated and will raise a TypeError in the future. Use float(ser.iloc[0]) instead\n",
      "  previous_open  = float(df.iloc[0][\"Open\"])\n",
      "C:\\Users\\diego\\AppData\\Local\\Temp\\ipykernel_50852\\430125842.py:16: FutureWarning: Calling float on a single element Series is deprecated and will raise a TypeError in the future. Use float(ser.iloc[0]) instead\n",
      "  previous_close = float(df.iloc[0][\"Close\"])\n"
     ]
    },
    {
     "name": "stdout",
     "output_type": "stream",
     "text": [
      "Fetching data for AIG...\n"
     ]
    },
    {
     "name": "stderr",
     "output_type": "stream",
     "text": [
      "[*********************100%***********************]  1 of 1 completed\n",
      "C:\\Users\\diego\\AppData\\Local\\Temp\\ipykernel_50852\\430125842.py:13: FutureWarning: Calling float on a single element Series is deprecated and will raise a TypeError in the future. Use float(ser.iloc[0]) instead\n",
      "  open_price     = float(df.iloc[1][\"Open\"])\n",
      "C:\\Users\\diego\\AppData\\Local\\Temp\\ipykernel_50852\\430125842.py:14: FutureWarning: Calling float on a single element Series is deprecated and will raise a TypeError in the future. Use float(ser.iloc[0]) instead\n",
      "  close_price    = float(df.iloc[1][\"Close\"])\n",
      "C:\\Users\\diego\\AppData\\Local\\Temp\\ipykernel_50852\\430125842.py:15: FutureWarning: Calling float on a single element Series is deprecated and will raise a TypeError in the future. Use float(ser.iloc[0]) instead\n",
      "  previous_open  = float(df.iloc[0][\"Open\"])\n",
      "C:\\Users\\diego\\AppData\\Local\\Temp\\ipykernel_50852\\430125842.py:16: FutureWarning: Calling float on a single element Series is deprecated and will raise a TypeError in the future. Use float(ser.iloc[0]) instead\n",
      "  previous_close = float(df.iloc[0][\"Close\"])\n"
     ]
    },
    {
     "name": "stdout",
     "output_type": "stream",
     "text": [
      "Fetching data for AMT...\n"
     ]
    },
    {
     "name": "stderr",
     "output_type": "stream",
     "text": [
      "[*********************100%***********************]  1 of 1 completed\n",
      "C:\\Users\\diego\\AppData\\Local\\Temp\\ipykernel_50852\\430125842.py:13: FutureWarning: Calling float on a single element Series is deprecated and will raise a TypeError in the future. Use float(ser.iloc[0]) instead\n",
      "  open_price     = float(df.iloc[1][\"Open\"])\n",
      "C:\\Users\\diego\\AppData\\Local\\Temp\\ipykernel_50852\\430125842.py:14: FutureWarning: Calling float on a single element Series is deprecated and will raise a TypeError in the future. Use float(ser.iloc[0]) instead\n",
      "  close_price    = float(df.iloc[1][\"Close\"])\n",
      "C:\\Users\\diego\\AppData\\Local\\Temp\\ipykernel_50852\\430125842.py:15: FutureWarning: Calling float on a single element Series is deprecated and will raise a TypeError in the future. Use float(ser.iloc[0]) instead\n",
      "  previous_open  = float(df.iloc[0][\"Open\"])\n",
      "C:\\Users\\diego\\AppData\\Local\\Temp\\ipykernel_50852\\430125842.py:16: FutureWarning: Calling float on a single element Series is deprecated and will raise a TypeError in the future. Use float(ser.iloc[0]) instead\n",
      "  previous_close = float(df.iloc[0][\"Close\"])\n"
     ]
    },
    {
     "name": "stdout",
     "output_type": "stream",
     "text": [
      "Fetching data for AWK...\n"
     ]
    },
    {
     "name": "stderr",
     "output_type": "stream",
     "text": [
      "[*********************100%***********************]  1 of 1 completed\n",
      "C:\\Users\\diego\\AppData\\Local\\Temp\\ipykernel_50852\\430125842.py:13: FutureWarning: Calling float on a single element Series is deprecated and will raise a TypeError in the future. Use float(ser.iloc[0]) instead\n",
      "  open_price     = float(df.iloc[1][\"Open\"])\n",
      "C:\\Users\\diego\\AppData\\Local\\Temp\\ipykernel_50852\\430125842.py:14: FutureWarning: Calling float on a single element Series is deprecated and will raise a TypeError in the future. Use float(ser.iloc[0]) instead\n",
      "  close_price    = float(df.iloc[1][\"Close\"])\n",
      "C:\\Users\\diego\\AppData\\Local\\Temp\\ipykernel_50852\\430125842.py:15: FutureWarning: Calling float on a single element Series is deprecated and will raise a TypeError in the future. Use float(ser.iloc[0]) instead\n",
      "  previous_open  = float(df.iloc[0][\"Open\"])\n",
      "C:\\Users\\diego\\AppData\\Local\\Temp\\ipykernel_50852\\430125842.py:16: FutureWarning: Calling float on a single element Series is deprecated and will raise a TypeError in the future. Use float(ser.iloc[0]) instead\n",
      "  previous_close = float(df.iloc[0][\"Close\"])\n"
     ]
    },
    {
     "name": "stdout",
     "output_type": "stream",
     "text": [
      "Fetching data for AMP...\n"
     ]
    },
    {
     "name": "stderr",
     "output_type": "stream",
     "text": [
      "[*********************100%***********************]  1 of 1 completed\n",
      "C:\\Users\\diego\\AppData\\Local\\Temp\\ipykernel_50852\\430125842.py:13: FutureWarning: Calling float on a single element Series is deprecated and will raise a TypeError in the future. Use float(ser.iloc[0]) instead\n",
      "  open_price     = float(df.iloc[1][\"Open\"])\n",
      "C:\\Users\\diego\\AppData\\Local\\Temp\\ipykernel_50852\\430125842.py:14: FutureWarning: Calling float on a single element Series is deprecated and will raise a TypeError in the future. Use float(ser.iloc[0]) instead\n",
      "  close_price    = float(df.iloc[1][\"Close\"])\n",
      "C:\\Users\\diego\\AppData\\Local\\Temp\\ipykernel_50852\\430125842.py:15: FutureWarning: Calling float on a single element Series is deprecated and will raise a TypeError in the future. Use float(ser.iloc[0]) instead\n",
      "  previous_open  = float(df.iloc[0][\"Open\"])\n",
      "C:\\Users\\diego\\AppData\\Local\\Temp\\ipykernel_50852\\430125842.py:16: FutureWarning: Calling float on a single element Series is deprecated and will raise a TypeError in the future. Use float(ser.iloc[0]) instead\n",
      "  previous_close = float(df.iloc[0][\"Close\"])\n"
     ]
    },
    {
     "name": "stdout",
     "output_type": "stream",
     "text": [
      "Fetching data for AME...\n"
     ]
    },
    {
     "name": "stderr",
     "output_type": "stream",
     "text": [
      "[*********************100%***********************]  1 of 1 completed\n",
      "C:\\Users\\diego\\AppData\\Local\\Temp\\ipykernel_50852\\430125842.py:13: FutureWarning: Calling float on a single element Series is deprecated and will raise a TypeError in the future. Use float(ser.iloc[0]) instead\n",
      "  open_price     = float(df.iloc[1][\"Open\"])\n",
      "C:\\Users\\diego\\AppData\\Local\\Temp\\ipykernel_50852\\430125842.py:14: FutureWarning: Calling float on a single element Series is deprecated and will raise a TypeError in the future. Use float(ser.iloc[0]) instead\n",
      "  close_price    = float(df.iloc[1][\"Close\"])\n",
      "C:\\Users\\diego\\AppData\\Local\\Temp\\ipykernel_50852\\430125842.py:15: FutureWarning: Calling float on a single element Series is deprecated and will raise a TypeError in the future. Use float(ser.iloc[0]) instead\n",
      "  previous_open  = float(df.iloc[0][\"Open\"])\n",
      "C:\\Users\\diego\\AppData\\Local\\Temp\\ipykernel_50852\\430125842.py:16: FutureWarning: Calling float on a single element Series is deprecated and will raise a TypeError in the future. Use float(ser.iloc[0]) instead\n",
      "  previous_close = float(df.iloc[0][\"Close\"])\n"
     ]
    },
    {
     "name": "stdout",
     "output_type": "stream",
     "text": [
      "Fetching data for AMGN...\n"
     ]
    },
    {
     "name": "stderr",
     "output_type": "stream",
     "text": [
      "[*********************100%***********************]  1 of 1 completed\n",
      "C:\\Users\\diego\\AppData\\Local\\Temp\\ipykernel_50852\\430125842.py:13: FutureWarning: Calling float on a single element Series is deprecated and will raise a TypeError in the future. Use float(ser.iloc[0]) instead\n",
      "  open_price     = float(df.iloc[1][\"Open\"])\n",
      "C:\\Users\\diego\\AppData\\Local\\Temp\\ipykernel_50852\\430125842.py:14: FutureWarning: Calling float on a single element Series is deprecated and will raise a TypeError in the future. Use float(ser.iloc[0]) instead\n",
      "  close_price    = float(df.iloc[1][\"Close\"])\n",
      "C:\\Users\\diego\\AppData\\Local\\Temp\\ipykernel_50852\\430125842.py:15: FutureWarning: Calling float on a single element Series is deprecated and will raise a TypeError in the future. Use float(ser.iloc[0]) instead\n",
      "  previous_open  = float(df.iloc[0][\"Open\"])\n",
      "C:\\Users\\diego\\AppData\\Local\\Temp\\ipykernel_50852\\430125842.py:16: FutureWarning: Calling float on a single element Series is deprecated and will raise a TypeError in the future. Use float(ser.iloc[0]) instead\n",
      "  previous_close = float(df.iloc[0][\"Close\"])\n"
     ]
    },
    {
     "name": "stdout",
     "output_type": "stream",
     "text": [
      "Fetching data for APH...\n"
     ]
    },
    {
     "name": "stderr",
     "output_type": "stream",
     "text": [
      "[*********************100%***********************]  1 of 1 completed\n",
      "C:\\Users\\diego\\AppData\\Local\\Temp\\ipykernel_50852\\430125842.py:13: FutureWarning: Calling float on a single element Series is deprecated and will raise a TypeError in the future. Use float(ser.iloc[0]) instead\n",
      "  open_price     = float(df.iloc[1][\"Open\"])\n",
      "C:\\Users\\diego\\AppData\\Local\\Temp\\ipykernel_50852\\430125842.py:14: FutureWarning: Calling float on a single element Series is deprecated and will raise a TypeError in the future. Use float(ser.iloc[0]) instead\n",
      "  close_price    = float(df.iloc[1][\"Close\"])\n",
      "C:\\Users\\diego\\AppData\\Local\\Temp\\ipykernel_50852\\430125842.py:15: FutureWarning: Calling float on a single element Series is deprecated and will raise a TypeError in the future. Use float(ser.iloc[0]) instead\n",
      "  previous_open  = float(df.iloc[0][\"Open\"])\n",
      "C:\\Users\\diego\\AppData\\Local\\Temp\\ipykernel_50852\\430125842.py:16: FutureWarning: Calling float on a single element Series is deprecated and will raise a TypeError in the future. Use float(ser.iloc[0]) instead\n",
      "  previous_close = float(df.iloc[0][\"Close\"])\n"
     ]
    },
    {
     "name": "stdout",
     "output_type": "stream",
     "text": [
      "Fetching data for ADI...\n"
     ]
    },
    {
     "name": "stderr",
     "output_type": "stream",
     "text": [
      "[*********************100%***********************]  1 of 1 completed\n",
      "C:\\Users\\diego\\AppData\\Local\\Temp\\ipykernel_50852\\430125842.py:13: FutureWarning: Calling float on a single element Series is deprecated and will raise a TypeError in the future. Use float(ser.iloc[0]) instead\n",
      "  open_price     = float(df.iloc[1][\"Open\"])\n",
      "C:\\Users\\diego\\AppData\\Local\\Temp\\ipykernel_50852\\430125842.py:14: FutureWarning: Calling float on a single element Series is deprecated and will raise a TypeError in the future. Use float(ser.iloc[0]) instead\n",
      "  close_price    = float(df.iloc[1][\"Close\"])\n",
      "C:\\Users\\diego\\AppData\\Local\\Temp\\ipykernel_50852\\430125842.py:15: FutureWarning: Calling float on a single element Series is deprecated and will raise a TypeError in the future. Use float(ser.iloc[0]) instead\n",
      "  previous_open  = float(df.iloc[0][\"Open\"])\n",
      "C:\\Users\\diego\\AppData\\Local\\Temp\\ipykernel_50852\\430125842.py:16: FutureWarning: Calling float on a single element Series is deprecated and will raise a TypeError in the future. Use float(ser.iloc[0]) instead\n",
      "  previous_close = float(df.iloc[0][\"Close\"])\n"
     ]
    },
    {
     "name": "stdout",
     "output_type": "stream",
     "text": [
      "Fetching data for ANSS...\n"
     ]
    },
    {
     "name": "stderr",
     "output_type": "stream",
     "text": [
      "[*********************100%***********************]  1 of 1 completed\n",
      "C:\\Users\\diego\\AppData\\Local\\Temp\\ipykernel_50852\\430125842.py:13: FutureWarning: Calling float on a single element Series is deprecated and will raise a TypeError in the future. Use float(ser.iloc[0]) instead\n",
      "  open_price     = float(df.iloc[1][\"Open\"])\n",
      "C:\\Users\\diego\\AppData\\Local\\Temp\\ipykernel_50852\\430125842.py:14: FutureWarning: Calling float on a single element Series is deprecated and will raise a TypeError in the future. Use float(ser.iloc[0]) instead\n",
      "  close_price    = float(df.iloc[1][\"Close\"])\n",
      "C:\\Users\\diego\\AppData\\Local\\Temp\\ipykernel_50852\\430125842.py:15: FutureWarning: Calling float on a single element Series is deprecated and will raise a TypeError in the future. Use float(ser.iloc[0]) instead\n",
      "  previous_open  = float(df.iloc[0][\"Open\"])\n",
      "C:\\Users\\diego\\AppData\\Local\\Temp\\ipykernel_50852\\430125842.py:16: FutureWarning: Calling float on a single element Series is deprecated and will raise a TypeError in the future. Use float(ser.iloc[0]) instead\n",
      "  previous_close = float(df.iloc[0][\"Close\"])\n"
     ]
    },
    {
     "name": "stdout",
     "output_type": "stream",
     "text": [
      "Fetching data for AON...\n"
     ]
    },
    {
     "name": "stderr",
     "output_type": "stream",
     "text": [
      "[*********************100%***********************]  1 of 1 completed\n",
      "C:\\Users\\diego\\AppData\\Local\\Temp\\ipykernel_50852\\430125842.py:13: FutureWarning: Calling float on a single element Series is deprecated and will raise a TypeError in the future. Use float(ser.iloc[0]) instead\n",
      "  open_price     = float(df.iloc[1][\"Open\"])\n",
      "C:\\Users\\diego\\AppData\\Local\\Temp\\ipykernel_50852\\430125842.py:14: FutureWarning: Calling float on a single element Series is deprecated and will raise a TypeError in the future. Use float(ser.iloc[0]) instead\n",
      "  close_price    = float(df.iloc[1][\"Close\"])\n",
      "C:\\Users\\diego\\AppData\\Local\\Temp\\ipykernel_50852\\430125842.py:15: FutureWarning: Calling float on a single element Series is deprecated and will raise a TypeError in the future. Use float(ser.iloc[0]) instead\n",
      "  previous_open  = float(df.iloc[0][\"Open\"])\n",
      "C:\\Users\\diego\\AppData\\Local\\Temp\\ipykernel_50852\\430125842.py:16: FutureWarning: Calling float on a single element Series is deprecated and will raise a TypeError in the future. Use float(ser.iloc[0]) instead\n",
      "  previous_close = float(df.iloc[0][\"Close\"])\n"
     ]
    },
    {
     "name": "stdout",
     "output_type": "stream",
     "text": [
      "Fetching data for APA...\n"
     ]
    },
    {
     "name": "stderr",
     "output_type": "stream",
     "text": [
      "[*********************100%***********************]  1 of 1 completed\n",
      "C:\\Users\\diego\\AppData\\Local\\Temp\\ipykernel_50852\\430125842.py:13: FutureWarning: Calling float on a single element Series is deprecated and will raise a TypeError in the future. Use float(ser.iloc[0]) instead\n",
      "  open_price     = float(df.iloc[1][\"Open\"])\n",
      "C:\\Users\\diego\\AppData\\Local\\Temp\\ipykernel_50852\\430125842.py:14: FutureWarning: Calling float on a single element Series is deprecated and will raise a TypeError in the future. Use float(ser.iloc[0]) instead\n",
      "  close_price    = float(df.iloc[1][\"Close\"])\n",
      "C:\\Users\\diego\\AppData\\Local\\Temp\\ipykernel_50852\\430125842.py:15: FutureWarning: Calling float on a single element Series is deprecated and will raise a TypeError in the future. Use float(ser.iloc[0]) instead\n",
      "  previous_open  = float(df.iloc[0][\"Open\"])\n",
      "C:\\Users\\diego\\AppData\\Local\\Temp\\ipykernel_50852\\430125842.py:16: FutureWarning: Calling float on a single element Series is deprecated and will raise a TypeError in the future. Use float(ser.iloc[0]) instead\n",
      "  previous_close = float(df.iloc[0][\"Close\"])\n"
     ]
    },
    {
     "name": "stdout",
     "output_type": "stream",
     "text": [
      "Fetching data for APO...\n"
     ]
    },
    {
     "name": "stderr",
     "output_type": "stream",
     "text": [
      "[*********************100%***********************]  1 of 1 completed\n",
      "C:\\Users\\diego\\AppData\\Local\\Temp\\ipykernel_50852\\430125842.py:13: FutureWarning: Calling float on a single element Series is deprecated and will raise a TypeError in the future. Use float(ser.iloc[0]) instead\n",
      "  open_price     = float(df.iloc[1][\"Open\"])\n",
      "C:\\Users\\diego\\AppData\\Local\\Temp\\ipykernel_50852\\430125842.py:14: FutureWarning: Calling float on a single element Series is deprecated and will raise a TypeError in the future. Use float(ser.iloc[0]) instead\n",
      "  close_price    = float(df.iloc[1][\"Close\"])\n",
      "C:\\Users\\diego\\AppData\\Local\\Temp\\ipykernel_50852\\430125842.py:15: FutureWarning: Calling float on a single element Series is deprecated and will raise a TypeError in the future. Use float(ser.iloc[0]) instead\n",
      "  previous_open  = float(df.iloc[0][\"Open\"])\n",
      "C:\\Users\\diego\\AppData\\Local\\Temp\\ipykernel_50852\\430125842.py:16: FutureWarning: Calling float on a single element Series is deprecated and will raise a TypeError in the future. Use float(ser.iloc[0]) instead\n",
      "  previous_close = float(df.iloc[0][\"Close\"])\n",
      "[*********************100%***********************]  1 of 1 completed"
     ]
    },
    {
     "name": "stdout",
     "output_type": "stream",
     "text": [
      "Fetching data for AAPL...\n"
     ]
    },
    {
     "name": "stderr",
     "output_type": "stream",
     "text": [
      "\n",
      "C:\\Users\\diego\\AppData\\Local\\Temp\\ipykernel_50852\\430125842.py:13: FutureWarning: Calling float on a single element Series is deprecated and will raise a TypeError in the future. Use float(ser.iloc[0]) instead\n",
      "  open_price     = float(df.iloc[1][\"Open\"])\n",
      "C:\\Users\\diego\\AppData\\Local\\Temp\\ipykernel_50852\\430125842.py:14: FutureWarning: Calling float on a single element Series is deprecated and will raise a TypeError in the future. Use float(ser.iloc[0]) instead\n",
      "  close_price    = float(df.iloc[1][\"Close\"])\n",
      "C:\\Users\\diego\\AppData\\Local\\Temp\\ipykernel_50852\\430125842.py:15: FutureWarning: Calling float on a single element Series is deprecated and will raise a TypeError in the future. Use float(ser.iloc[0]) instead\n",
      "  previous_open  = float(df.iloc[0][\"Open\"])\n",
      "C:\\Users\\diego\\AppData\\Local\\Temp\\ipykernel_50852\\430125842.py:16: FutureWarning: Calling float on a single element Series is deprecated and will raise a TypeError in the future. Use float(ser.iloc[0]) instead\n",
      "  previous_close = float(df.iloc[0][\"Close\"])\n"
     ]
    },
    {
     "name": "stdout",
     "output_type": "stream",
     "text": [
      "Fetching data for AMAT...\n"
     ]
    },
    {
     "name": "stderr",
     "output_type": "stream",
     "text": [
      "[*********************100%***********************]  1 of 1 completed\n",
      "C:\\Users\\diego\\AppData\\Local\\Temp\\ipykernel_50852\\430125842.py:13: FutureWarning: Calling float on a single element Series is deprecated and will raise a TypeError in the future. Use float(ser.iloc[0]) instead\n",
      "  open_price     = float(df.iloc[1][\"Open\"])\n",
      "C:\\Users\\diego\\AppData\\Local\\Temp\\ipykernel_50852\\430125842.py:14: FutureWarning: Calling float on a single element Series is deprecated and will raise a TypeError in the future. Use float(ser.iloc[0]) instead\n",
      "  close_price    = float(df.iloc[1][\"Close\"])\n",
      "C:\\Users\\diego\\AppData\\Local\\Temp\\ipykernel_50852\\430125842.py:15: FutureWarning: Calling float on a single element Series is deprecated and will raise a TypeError in the future. Use float(ser.iloc[0]) instead\n",
      "  previous_open  = float(df.iloc[0][\"Open\"])\n",
      "C:\\Users\\diego\\AppData\\Local\\Temp\\ipykernel_50852\\430125842.py:16: FutureWarning: Calling float on a single element Series is deprecated and will raise a TypeError in the future. Use float(ser.iloc[0]) instead\n",
      "  previous_close = float(df.iloc[0][\"Close\"])\n"
     ]
    },
    {
     "name": "stdout",
     "output_type": "stream",
     "text": [
      "Fetching data for APTV...\n"
     ]
    },
    {
     "name": "stderr",
     "output_type": "stream",
     "text": [
      "[*********************100%***********************]  1 of 1 completed\n",
      "C:\\Users\\diego\\AppData\\Local\\Temp\\ipykernel_50852\\430125842.py:13: FutureWarning: Calling float on a single element Series is deprecated and will raise a TypeError in the future. Use float(ser.iloc[0]) instead\n",
      "  open_price     = float(df.iloc[1][\"Open\"])\n",
      "C:\\Users\\diego\\AppData\\Local\\Temp\\ipykernel_50852\\430125842.py:14: FutureWarning: Calling float on a single element Series is deprecated and will raise a TypeError in the future. Use float(ser.iloc[0]) instead\n",
      "  close_price    = float(df.iloc[1][\"Close\"])\n",
      "C:\\Users\\diego\\AppData\\Local\\Temp\\ipykernel_50852\\430125842.py:15: FutureWarning: Calling float on a single element Series is deprecated and will raise a TypeError in the future. Use float(ser.iloc[0]) instead\n",
      "  previous_open  = float(df.iloc[0][\"Open\"])\n",
      "C:\\Users\\diego\\AppData\\Local\\Temp\\ipykernel_50852\\430125842.py:16: FutureWarning: Calling float on a single element Series is deprecated and will raise a TypeError in the future. Use float(ser.iloc[0]) instead\n",
      "  previous_close = float(df.iloc[0][\"Close\"])\n"
     ]
    },
    {
     "name": "stdout",
     "output_type": "stream",
     "text": [
      "Fetching data for ACGL...\n"
     ]
    },
    {
     "name": "stderr",
     "output_type": "stream",
     "text": [
      "[*********************100%***********************]  1 of 1 completed\n",
      "C:\\Users\\diego\\AppData\\Local\\Temp\\ipykernel_50852\\430125842.py:13: FutureWarning: Calling float on a single element Series is deprecated and will raise a TypeError in the future. Use float(ser.iloc[0]) instead\n",
      "  open_price     = float(df.iloc[1][\"Open\"])\n",
      "C:\\Users\\diego\\AppData\\Local\\Temp\\ipykernel_50852\\430125842.py:14: FutureWarning: Calling float on a single element Series is deprecated and will raise a TypeError in the future. Use float(ser.iloc[0]) instead\n",
      "  close_price    = float(df.iloc[1][\"Close\"])\n",
      "C:\\Users\\diego\\AppData\\Local\\Temp\\ipykernel_50852\\430125842.py:15: FutureWarning: Calling float on a single element Series is deprecated and will raise a TypeError in the future. Use float(ser.iloc[0]) instead\n",
      "  previous_open  = float(df.iloc[0][\"Open\"])\n",
      "C:\\Users\\diego\\AppData\\Local\\Temp\\ipykernel_50852\\430125842.py:16: FutureWarning: Calling float on a single element Series is deprecated and will raise a TypeError in the future. Use float(ser.iloc[0]) instead\n",
      "  previous_close = float(df.iloc[0][\"Close\"])\n"
     ]
    },
    {
     "name": "stdout",
     "output_type": "stream",
     "text": [
      "Fetching data for ADM...\n"
     ]
    },
    {
     "name": "stderr",
     "output_type": "stream",
     "text": [
      "[*********************100%***********************]  1 of 1 completed\n",
      "C:\\Users\\diego\\AppData\\Local\\Temp\\ipykernel_50852\\430125842.py:13: FutureWarning: Calling float on a single element Series is deprecated and will raise a TypeError in the future. Use float(ser.iloc[0]) instead\n",
      "  open_price     = float(df.iloc[1][\"Open\"])\n",
      "C:\\Users\\diego\\AppData\\Local\\Temp\\ipykernel_50852\\430125842.py:14: FutureWarning: Calling float on a single element Series is deprecated and will raise a TypeError in the future. Use float(ser.iloc[0]) instead\n",
      "  close_price    = float(df.iloc[1][\"Close\"])\n",
      "C:\\Users\\diego\\AppData\\Local\\Temp\\ipykernel_50852\\430125842.py:15: FutureWarning: Calling float on a single element Series is deprecated and will raise a TypeError in the future. Use float(ser.iloc[0]) instead\n",
      "  previous_open  = float(df.iloc[0][\"Open\"])\n",
      "C:\\Users\\diego\\AppData\\Local\\Temp\\ipykernel_50852\\430125842.py:16: FutureWarning: Calling float on a single element Series is deprecated and will raise a TypeError in the future. Use float(ser.iloc[0]) instead\n",
      "  previous_close = float(df.iloc[0][\"Close\"])\n"
     ]
    },
    {
     "name": "stdout",
     "output_type": "stream",
     "text": [
      "Fetching data for ANET...\n"
     ]
    },
    {
     "name": "stderr",
     "output_type": "stream",
     "text": [
      "[*********************100%***********************]  1 of 1 completed\n",
      "C:\\Users\\diego\\AppData\\Local\\Temp\\ipykernel_50852\\430125842.py:13: FutureWarning: Calling float on a single element Series is deprecated and will raise a TypeError in the future. Use float(ser.iloc[0]) instead\n",
      "  open_price     = float(df.iloc[1][\"Open\"])\n",
      "C:\\Users\\diego\\AppData\\Local\\Temp\\ipykernel_50852\\430125842.py:14: FutureWarning: Calling float on a single element Series is deprecated and will raise a TypeError in the future. Use float(ser.iloc[0]) instead\n",
      "  close_price    = float(df.iloc[1][\"Close\"])\n",
      "C:\\Users\\diego\\AppData\\Local\\Temp\\ipykernel_50852\\430125842.py:15: FutureWarning: Calling float on a single element Series is deprecated and will raise a TypeError in the future. Use float(ser.iloc[0]) instead\n",
      "  previous_open  = float(df.iloc[0][\"Open\"])\n",
      "C:\\Users\\diego\\AppData\\Local\\Temp\\ipykernel_50852\\430125842.py:16: FutureWarning: Calling float on a single element Series is deprecated and will raise a TypeError in the future. Use float(ser.iloc[0]) instead\n",
      "  previous_close = float(df.iloc[0][\"Close\"])\n"
     ]
    },
    {
     "name": "stdout",
     "output_type": "stream",
     "text": [
      "Fetching data for AJG...\n"
     ]
    },
    {
     "name": "stderr",
     "output_type": "stream",
     "text": [
      "[*********************100%***********************]  1 of 1 completed\n",
      "C:\\Users\\diego\\AppData\\Local\\Temp\\ipykernel_50852\\430125842.py:13: FutureWarning: Calling float on a single element Series is deprecated and will raise a TypeError in the future. Use float(ser.iloc[0]) instead\n",
      "  open_price     = float(df.iloc[1][\"Open\"])\n",
      "C:\\Users\\diego\\AppData\\Local\\Temp\\ipykernel_50852\\430125842.py:14: FutureWarning: Calling float on a single element Series is deprecated and will raise a TypeError in the future. Use float(ser.iloc[0]) instead\n",
      "  close_price    = float(df.iloc[1][\"Close\"])\n",
      "C:\\Users\\diego\\AppData\\Local\\Temp\\ipykernel_50852\\430125842.py:15: FutureWarning: Calling float on a single element Series is deprecated and will raise a TypeError in the future. Use float(ser.iloc[0]) instead\n",
      "  previous_open  = float(df.iloc[0][\"Open\"])\n",
      "C:\\Users\\diego\\AppData\\Local\\Temp\\ipykernel_50852\\430125842.py:16: FutureWarning: Calling float on a single element Series is deprecated and will raise a TypeError in the future. Use float(ser.iloc[0]) instead\n",
      "  previous_close = float(df.iloc[0][\"Close\"])\n"
     ]
    },
    {
     "name": "stdout",
     "output_type": "stream",
     "text": [
      "Fetching data for AIZ...\n"
     ]
    },
    {
     "name": "stderr",
     "output_type": "stream",
     "text": [
      "[*********************100%***********************]  1 of 1 completed\n",
      "C:\\Users\\diego\\AppData\\Local\\Temp\\ipykernel_50852\\430125842.py:13: FutureWarning: Calling float on a single element Series is deprecated and will raise a TypeError in the future. Use float(ser.iloc[0]) instead\n",
      "  open_price     = float(df.iloc[1][\"Open\"])\n",
      "C:\\Users\\diego\\AppData\\Local\\Temp\\ipykernel_50852\\430125842.py:14: FutureWarning: Calling float on a single element Series is deprecated and will raise a TypeError in the future. Use float(ser.iloc[0]) instead\n",
      "  close_price    = float(df.iloc[1][\"Close\"])\n",
      "C:\\Users\\diego\\AppData\\Local\\Temp\\ipykernel_50852\\430125842.py:15: FutureWarning: Calling float on a single element Series is deprecated and will raise a TypeError in the future. Use float(ser.iloc[0]) instead\n",
      "  previous_open  = float(df.iloc[0][\"Open\"])\n",
      "C:\\Users\\diego\\AppData\\Local\\Temp\\ipykernel_50852\\430125842.py:16: FutureWarning: Calling float on a single element Series is deprecated and will raise a TypeError in the future. Use float(ser.iloc[0]) instead\n",
      "  previous_close = float(df.iloc[0][\"Close\"])\n"
     ]
    },
    {
     "name": "stdout",
     "output_type": "stream",
     "text": [
      "Fetching data for T...\n"
     ]
    },
    {
     "name": "stderr",
     "output_type": "stream",
     "text": [
      "[*********************100%***********************]  1 of 1 completed\n",
      "C:\\Users\\diego\\AppData\\Local\\Temp\\ipykernel_50852\\430125842.py:13: FutureWarning: Calling float on a single element Series is deprecated and will raise a TypeError in the future. Use float(ser.iloc[0]) instead\n",
      "  open_price     = float(df.iloc[1][\"Open\"])\n",
      "C:\\Users\\diego\\AppData\\Local\\Temp\\ipykernel_50852\\430125842.py:14: FutureWarning: Calling float on a single element Series is deprecated and will raise a TypeError in the future. Use float(ser.iloc[0]) instead\n",
      "  close_price    = float(df.iloc[1][\"Close\"])\n",
      "C:\\Users\\diego\\AppData\\Local\\Temp\\ipykernel_50852\\430125842.py:15: FutureWarning: Calling float on a single element Series is deprecated and will raise a TypeError in the future. Use float(ser.iloc[0]) instead\n",
      "  previous_open  = float(df.iloc[0][\"Open\"])\n",
      "C:\\Users\\diego\\AppData\\Local\\Temp\\ipykernel_50852\\430125842.py:16: FutureWarning: Calling float on a single element Series is deprecated and will raise a TypeError in the future. Use float(ser.iloc[0]) instead\n",
      "  previous_close = float(df.iloc[0][\"Close\"])\n"
     ]
    },
    {
     "name": "stdout",
     "output_type": "stream",
     "text": [
      "Fetching data for ATO...\n"
     ]
    },
    {
     "name": "stderr",
     "output_type": "stream",
     "text": [
      "[*********************100%***********************]  1 of 1 completed\n",
      "C:\\Users\\diego\\AppData\\Local\\Temp\\ipykernel_50852\\430125842.py:13: FutureWarning: Calling float on a single element Series is deprecated and will raise a TypeError in the future. Use float(ser.iloc[0]) instead\n",
      "  open_price     = float(df.iloc[1][\"Open\"])\n",
      "C:\\Users\\diego\\AppData\\Local\\Temp\\ipykernel_50852\\430125842.py:14: FutureWarning: Calling float on a single element Series is deprecated and will raise a TypeError in the future. Use float(ser.iloc[0]) instead\n",
      "  close_price    = float(df.iloc[1][\"Close\"])\n",
      "C:\\Users\\diego\\AppData\\Local\\Temp\\ipykernel_50852\\430125842.py:15: FutureWarning: Calling float on a single element Series is deprecated and will raise a TypeError in the future. Use float(ser.iloc[0]) instead\n",
      "  previous_open  = float(df.iloc[0][\"Open\"])\n",
      "C:\\Users\\diego\\AppData\\Local\\Temp\\ipykernel_50852\\430125842.py:16: FutureWarning: Calling float on a single element Series is deprecated and will raise a TypeError in the future. Use float(ser.iloc[0]) instead\n",
      "  previous_close = float(df.iloc[0][\"Close\"])\n"
     ]
    },
    {
     "name": "stdout",
     "output_type": "stream",
     "text": [
      "Fetching data for ADSK...\n"
     ]
    },
    {
     "name": "stderr",
     "output_type": "stream",
     "text": [
      "[*********************100%***********************]  1 of 1 completed\n",
      "C:\\Users\\diego\\AppData\\Local\\Temp\\ipykernel_50852\\430125842.py:13: FutureWarning: Calling float on a single element Series is deprecated and will raise a TypeError in the future. Use float(ser.iloc[0]) instead\n",
      "  open_price     = float(df.iloc[1][\"Open\"])\n",
      "C:\\Users\\diego\\AppData\\Local\\Temp\\ipykernel_50852\\430125842.py:14: FutureWarning: Calling float on a single element Series is deprecated and will raise a TypeError in the future. Use float(ser.iloc[0]) instead\n",
      "  close_price    = float(df.iloc[1][\"Close\"])\n",
      "C:\\Users\\diego\\AppData\\Local\\Temp\\ipykernel_50852\\430125842.py:15: FutureWarning: Calling float on a single element Series is deprecated and will raise a TypeError in the future. Use float(ser.iloc[0]) instead\n",
      "  previous_open  = float(df.iloc[0][\"Open\"])\n",
      "C:\\Users\\diego\\AppData\\Local\\Temp\\ipykernel_50852\\430125842.py:16: FutureWarning: Calling float on a single element Series is deprecated and will raise a TypeError in the future. Use float(ser.iloc[0]) instead\n",
      "  previous_close = float(df.iloc[0][\"Close\"])\n"
     ]
    },
    {
     "name": "stdout",
     "output_type": "stream",
     "text": [
      "Fetching data for ADP...\n"
     ]
    },
    {
     "name": "stderr",
     "output_type": "stream",
     "text": [
      "[*********************100%***********************]  1 of 1 completed\n",
      "C:\\Users\\diego\\AppData\\Local\\Temp\\ipykernel_50852\\430125842.py:13: FutureWarning: Calling float on a single element Series is deprecated and will raise a TypeError in the future. Use float(ser.iloc[0]) instead\n",
      "  open_price     = float(df.iloc[1][\"Open\"])\n",
      "C:\\Users\\diego\\AppData\\Local\\Temp\\ipykernel_50852\\430125842.py:14: FutureWarning: Calling float on a single element Series is deprecated and will raise a TypeError in the future. Use float(ser.iloc[0]) instead\n",
      "  close_price    = float(df.iloc[1][\"Close\"])\n",
      "C:\\Users\\diego\\AppData\\Local\\Temp\\ipykernel_50852\\430125842.py:15: FutureWarning: Calling float on a single element Series is deprecated and will raise a TypeError in the future. Use float(ser.iloc[0]) instead\n",
      "  previous_open  = float(df.iloc[0][\"Open\"])\n",
      "C:\\Users\\diego\\AppData\\Local\\Temp\\ipykernel_50852\\430125842.py:16: FutureWarning: Calling float on a single element Series is deprecated and will raise a TypeError in the future. Use float(ser.iloc[0]) instead\n",
      "  previous_close = float(df.iloc[0][\"Close\"])\n"
     ]
    },
    {
     "name": "stdout",
     "output_type": "stream",
     "text": [
      "Fetching data for AZO...\n"
     ]
    },
    {
     "name": "stderr",
     "output_type": "stream",
     "text": [
      "[*********************100%***********************]  1 of 1 completed\n",
      "C:\\Users\\diego\\AppData\\Local\\Temp\\ipykernel_50852\\430125842.py:13: FutureWarning: Calling float on a single element Series is deprecated and will raise a TypeError in the future. Use float(ser.iloc[0]) instead\n",
      "  open_price     = float(df.iloc[1][\"Open\"])\n",
      "C:\\Users\\diego\\AppData\\Local\\Temp\\ipykernel_50852\\430125842.py:14: FutureWarning: Calling float on a single element Series is deprecated and will raise a TypeError in the future. Use float(ser.iloc[0]) instead\n",
      "  close_price    = float(df.iloc[1][\"Close\"])\n",
      "C:\\Users\\diego\\AppData\\Local\\Temp\\ipykernel_50852\\430125842.py:15: FutureWarning: Calling float on a single element Series is deprecated and will raise a TypeError in the future. Use float(ser.iloc[0]) instead\n",
      "  previous_open  = float(df.iloc[0][\"Open\"])\n",
      "C:\\Users\\diego\\AppData\\Local\\Temp\\ipykernel_50852\\430125842.py:16: FutureWarning: Calling float on a single element Series is deprecated and will raise a TypeError in the future. Use float(ser.iloc[0]) instead\n",
      "  previous_close = float(df.iloc[0][\"Close\"])\n"
     ]
    },
    {
     "name": "stdout",
     "output_type": "stream",
     "text": [
      "Fetching data for AVB...\n"
     ]
    },
    {
     "name": "stderr",
     "output_type": "stream",
     "text": [
      "[*********************100%***********************]  1 of 1 completed\n",
      "C:\\Users\\diego\\AppData\\Local\\Temp\\ipykernel_50852\\430125842.py:13: FutureWarning: Calling float on a single element Series is deprecated and will raise a TypeError in the future. Use float(ser.iloc[0]) instead\n",
      "  open_price     = float(df.iloc[1][\"Open\"])\n",
      "C:\\Users\\diego\\AppData\\Local\\Temp\\ipykernel_50852\\430125842.py:14: FutureWarning: Calling float on a single element Series is deprecated and will raise a TypeError in the future. Use float(ser.iloc[0]) instead\n",
      "  close_price    = float(df.iloc[1][\"Close\"])\n",
      "C:\\Users\\diego\\AppData\\Local\\Temp\\ipykernel_50852\\430125842.py:15: FutureWarning: Calling float on a single element Series is deprecated and will raise a TypeError in the future. Use float(ser.iloc[0]) instead\n",
      "  previous_open  = float(df.iloc[0][\"Open\"])\n",
      "C:\\Users\\diego\\AppData\\Local\\Temp\\ipykernel_50852\\430125842.py:16: FutureWarning: Calling float on a single element Series is deprecated and will raise a TypeError in the future. Use float(ser.iloc[0]) instead\n",
      "  previous_close = float(df.iloc[0][\"Close\"])\n"
     ]
    },
    {
     "name": "stdout",
     "output_type": "stream",
     "text": [
      "Fetching data for AVY...\n"
     ]
    },
    {
     "name": "stderr",
     "output_type": "stream",
     "text": [
      "[*********************100%***********************]  1 of 1 completed\n",
      "C:\\Users\\diego\\AppData\\Local\\Temp\\ipykernel_50852\\430125842.py:13: FutureWarning: Calling float on a single element Series is deprecated and will raise a TypeError in the future. Use float(ser.iloc[0]) instead\n",
      "  open_price     = float(df.iloc[1][\"Open\"])\n",
      "C:\\Users\\diego\\AppData\\Local\\Temp\\ipykernel_50852\\430125842.py:14: FutureWarning: Calling float on a single element Series is deprecated and will raise a TypeError in the future. Use float(ser.iloc[0]) instead\n",
      "  close_price    = float(df.iloc[1][\"Close\"])\n",
      "C:\\Users\\diego\\AppData\\Local\\Temp\\ipykernel_50852\\430125842.py:15: FutureWarning: Calling float on a single element Series is deprecated and will raise a TypeError in the future. Use float(ser.iloc[0]) instead\n",
      "  previous_open  = float(df.iloc[0][\"Open\"])\n",
      "C:\\Users\\diego\\AppData\\Local\\Temp\\ipykernel_50852\\430125842.py:16: FutureWarning: Calling float on a single element Series is deprecated and will raise a TypeError in the future. Use float(ser.iloc[0]) instead\n",
      "  previous_close = float(df.iloc[0][\"Close\"])\n"
     ]
    },
    {
     "name": "stdout",
     "output_type": "stream",
     "text": [
      "Fetching data for AXON...\n"
     ]
    },
    {
     "name": "stderr",
     "output_type": "stream",
     "text": [
      "[*********************100%***********************]  1 of 1 completed\n",
      "C:\\Users\\diego\\AppData\\Local\\Temp\\ipykernel_50852\\430125842.py:13: FutureWarning: Calling float on a single element Series is deprecated and will raise a TypeError in the future. Use float(ser.iloc[0]) instead\n",
      "  open_price     = float(df.iloc[1][\"Open\"])\n",
      "C:\\Users\\diego\\AppData\\Local\\Temp\\ipykernel_50852\\430125842.py:14: FutureWarning: Calling float on a single element Series is deprecated and will raise a TypeError in the future. Use float(ser.iloc[0]) instead\n",
      "  close_price    = float(df.iloc[1][\"Close\"])\n",
      "C:\\Users\\diego\\AppData\\Local\\Temp\\ipykernel_50852\\430125842.py:15: FutureWarning: Calling float on a single element Series is deprecated and will raise a TypeError in the future. Use float(ser.iloc[0]) instead\n",
      "  previous_open  = float(df.iloc[0][\"Open\"])\n",
      "C:\\Users\\diego\\AppData\\Local\\Temp\\ipykernel_50852\\430125842.py:16: FutureWarning: Calling float on a single element Series is deprecated and will raise a TypeError in the future. Use float(ser.iloc[0]) instead\n",
      "  previous_close = float(df.iloc[0][\"Close\"])\n"
     ]
    },
    {
     "name": "stdout",
     "output_type": "stream",
     "text": [
      "Fetching data for BKR...\n"
     ]
    },
    {
     "name": "stderr",
     "output_type": "stream",
     "text": [
      "[*********************100%***********************]  1 of 1 completed\n",
      "C:\\Users\\diego\\AppData\\Local\\Temp\\ipykernel_50852\\430125842.py:13: FutureWarning: Calling float on a single element Series is deprecated and will raise a TypeError in the future. Use float(ser.iloc[0]) instead\n",
      "  open_price     = float(df.iloc[1][\"Open\"])\n",
      "C:\\Users\\diego\\AppData\\Local\\Temp\\ipykernel_50852\\430125842.py:14: FutureWarning: Calling float on a single element Series is deprecated and will raise a TypeError in the future. Use float(ser.iloc[0]) instead\n",
      "  close_price    = float(df.iloc[1][\"Close\"])\n",
      "C:\\Users\\diego\\AppData\\Local\\Temp\\ipykernel_50852\\430125842.py:15: FutureWarning: Calling float on a single element Series is deprecated and will raise a TypeError in the future. Use float(ser.iloc[0]) instead\n",
      "  previous_open  = float(df.iloc[0][\"Open\"])\n",
      "C:\\Users\\diego\\AppData\\Local\\Temp\\ipykernel_50852\\430125842.py:16: FutureWarning: Calling float on a single element Series is deprecated and will raise a TypeError in the future. Use float(ser.iloc[0]) instead\n",
      "  previous_close = float(df.iloc[0][\"Close\"])\n"
     ]
    },
    {
     "name": "stdout",
     "output_type": "stream",
     "text": [
      "Fetching data for BALL...\n"
     ]
    },
    {
     "name": "stderr",
     "output_type": "stream",
     "text": [
      "[*********************100%***********************]  1 of 1 completed\n",
      "C:\\Users\\diego\\AppData\\Local\\Temp\\ipykernel_50852\\430125842.py:13: FutureWarning: Calling float on a single element Series is deprecated and will raise a TypeError in the future. Use float(ser.iloc[0]) instead\n",
      "  open_price     = float(df.iloc[1][\"Open\"])\n",
      "C:\\Users\\diego\\AppData\\Local\\Temp\\ipykernel_50852\\430125842.py:14: FutureWarning: Calling float on a single element Series is deprecated and will raise a TypeError in the future. Use float(ser.iloc[0]) instead\n",
      "  close_price    = float(df.iloc[1][\"Close\"])\n",
      "C:\\Users\\diego\\AppData\\Local\\Temp\\ipykernel_50852\\430125842.py:15: FutureWarning: Calling float on a single element Series is deprecated and will raise a TypeError in the future. Use float(ser.iloc[0]) instead\n",
      "  previous_open  = float(df.iloc[0][\"Open\"])\n",
      "C:\\Users\\diego\\AppData\\Local\\Temp\\ipykernel_50852\\430125842.py:16: FutureWarning: Calling float on a single element Series is deprecated and will raise a TypeError in the future. Use float(ser.iloc[0]) instead\n",
      "  previous_close = float(df.iloc[0][\"Close\"])\n"
     ]
    },
    {
     "name": "stdout",
     "output_type": "stream",
     "text": [
      "Fetching data for BAC...\n"
     ]
    },
    {
     "name": "stderr",
     "output_type": "stream",
     "text": [
      "[*********************100%***********************]  1 of 1 completed\n",
      "C:\\Users\\diego\\AppData\\Local\\Temp\\ipykernel_50852\\430125842.py:13: FutureWarning: Calling float on a single element Series is deprecated and will raise a TypeError in the future. Use float(ser.iloc[0]) instead\n",
      "  open_price     = float(df.iloc[1][\"Open\"])\n",
      "C:\\Users\\diego\\AppData\\Local\\Temp\\ipykernel_50852\\430125842.py:14: FutureWarning: Calling float on a single element Series is deprecated and will raise a TypeError in the future. Use float(ser.iloc[0]) instead\n",
      "  close_price    = float(df.iloc[1][\"Close\"])\n",
      "C:\\Users\\diego\\AppData\\Local\\Temp\\ipykernel_50852\\430125842.py:15: FutureWarning: Calling float on a single element Series is deprecated and will raise a TypeError in the future. Use float(ser.iloc[0]) instead\n",
      "  previous_open  = float(df.iloc[0][\"Open\"])\n",
      "C:\\Users\\diego\\AppData\\Local\\Temp\\ipykernel_50852\\430125842.py:16: FutureWarning: Calling float on a single element Series is deprecated and will raise a TypeError in the future. Use float(ser.iloc[0]) instead\n",
      "  previous_close = float(df.iloc[0][\"Close\"])\n"
     ]
    },
    {
     "name": "stdout",
     "output_type": "stream",
     "text": [
      "Fetching data for BAX...\n"
     ]
    },
    {
     "name": "stderr",
     "output_type": "stream",
     "text": [
      "[*********************100%***********************]  1 of 1 completed\n",
      "C:\\Users\\diego\\AppData\\Local\\Temp\\ipykernel_50852\\430125842.py:13: FutureWarning: Calling float on a single element Series is deprecated and will raise a TypeError in the future. Use float(ser.iloc[0]) instead\n",
      "  open_price     = float(df.iloc[1][\"Open\"])\n",
      "C:\\Users\\diego\\AppData\\Local\\Temp\\ipykernel_50852\\430125842.py:14: FutureWarning: Calling float on a single element Series is deprecated and will raise a TypeError in the future. Use float(ser.iloc[0]) instead\n",
      "  close_price    = float(df.iloc[1][\"Close\"])\n",
      "C:\\Users\\diego\\AppData\\Local\\Temp\\ipykernel_50852\\430125842.py:15: FutureWarning: Calling float on a single element Series is deprecated and will raise a TypeError in the future. Use float(ser.iloc[0]) instead\n",
      "  previous_open  = float(df.iloc[0][\"Open\"])\n",
      "C:\\Users\\diego\\AppData\\Local\\Temp\\ipykernel_50852\\430125842.py:16: FutureWarning: Calling float on a single element Series is deprecated and will raise a TypeError in the future. Use float(ser.iloc[0]) instead\n",
      "  previous_close = float(df.iloc[0][\"Close\"])\n"
     ]
    },
    {
     "name": "stdout",
     "output_type": "stream",
     "text": [
      "Fetching data for BDX...\n"
     ]
    },
    {
     "name": "stderr",
     "output_type": "stream",
     "text": [
      "[*********************100%***********************]  1 of 1 completed\n",
      "C:\\Users\\diego\\AppData\\Local\\Temp\\ipykernel_50852\\430125842.py:13: FutureWarning: Calling float on a single element Series is deprecated and will raise a TypeError in the future. Use float(ser.iloc[0]) instead\n",
      "  open_price     = float(df.iloc[1][\"Open\"])\n",
      "C:\\Users\\diego\\AppData\\Local\\Temp\\ipykernel_50852\\430125842.py:14: FutureWarning: Calling float on a single element Series is deprecated and will raise a TypeError in the future. Use float(ser.iloc[0]) instead\n",
      "  close_price    = float(df.iloc[1][\"Close\"])\n",
      "C:\\Users\\diego\\AppData\\Local\\Temp\\ipykernel_50852\\430125842.py:15: FutureWarning: Calling float on a single element Series is deprecated and will raise a TypeError in the future. Use float(ser.iloc[0]) instead\n",
      "  previous_open  = float(df.iloc[0][\"Open\"])\n",
      "C:\\Users\\diego\\AppData\\Local\\Temp\\ipykernel_50852\\430125842.py:16: FutureWarning: Calling float on a single element Series is deprecated and will raise a TypeError in the future. Use float(ser.iloc[0]) instead\n",
      "  previous_close = float(df.iloc[0][\"Close\"])\n"
     ]
    },
    {
     "name": "stdout",
     "output_type": "stream",
     "text": [
      "Fetching data for BRK-B...\n"
     ]
    },
    {
     "name": "stderr",
     "output_type": "stream",
     "text": [
      "[*********************100%***********************]  1 of 1 completed\n",
      "C:\\Users\\diego\\AppData\\Local\\Temp\\ipykernel_50852\\430125842.py:13: FutureWarning: Calling float on a single element Series is deprecated and will raise a TypeError in the future. Use float(ser.iloc[0]) instead\n",
      "  open_price     = float(df.iloc[1][\"Open\"])\n",
      "C:\\Users\\diego\\AppData\\Local\\Temp\\ipykernel_50852\\430125842.py:14: FutureWarning: Calling float on a single element Series is deprecated and will raise a TypeError in the future. Use float(ser.iloc[0]) instead\n",
      "  close_price    = float(df.iloc[1][\"Close\"])\n",
      "C:\\Users\\diego\\AppData\\Local\\Temp\\ipykernel_50852\\430125842.py:15: FutureWarning: Calling float on a single element Series is deprecated and will raise a TypeError in the future. Use float(ser.iloc[0]) instead\n",
      "  previous_open  = float(df.iloc[0][\"Open\"])\n",
      "C:\\Users\\diego\\AppData\\Local\\Temp\\ipykernel_50852\\430125842.py:16: FutureWarning: Calling float on a single element Series is deprecated and will raise a TypeError in the future. Use float(ser.iloc[0]) instead\n",
      "  previous_close = float(df.iloc[0][\"Close\"])\n"
     ]
    },
    {
     "name": "stdout",
     "output_type": "stream",
     "text": [
      "Fetching data for BBY...\n"
     ]
    },
    {
     "name": "stderr",
     "output_type": "stream",
     "text": [
      "[*********************100%***********************]  1 of 1 completed\n",
      "C:\\Users\\diego\\AppData\\Local\\Temp\\ipykernel_50852\\430125842.py:13: FutureWarning: Calling float on a single element Series is deprecated and will raise a TypeError in the future. Use float(ser.iloc[0]) instead\n",
      "  open_price     = float(df.iloc[1][\"Open\"])\n",
      "C:\\Users\\diego\\AppData\\Local\\Temp\\ipykernel_50852\\430125842.py:14: FutureWarning: Calling float on a single element Series is deprecated and will raise a TypeError in the future. Use float(ser.iloc[0]) instead\n",
      "  close_price    = float(df.iloc[1][\"Close\"])\n",
      "C:\\Users\\diego\\AppData\\Local\\Temp\\ipykernel_50852\\430125842.py:15: FutureWarning: Calling float on a single element Series is deprecated and will raise a TypeError in the future. Use float(ser.iloc[0]) instead\n",
      "  previous_open  = float(df.iloc[0][\"Open\"])\n",
      "C:\\Users\\diego\\AppData\\Local\\Temp\\ipykernel_50852\\430125842.py:16: FutureWarning: Calling float on a single element Series is deprecated and will raise a TypeError in the future. Use float(ser.iloc[0]) instead\n",
      "  previous_close = float(df.iloc[0][\"Close\"])\n"
     ]
    },
    {
     "name": "stdout",
     "output_type": "stream",
     "text": [
      "Fetching data for TECH...\n"
     ]
    },
    {
     "name": "stderr",
     "output_type": "stream",
     "text": [
      "[*********************100%***********************]  1 of 1 completed\n",
      "C:\\Users\\diego\\AppData\\Local\\Temp\\ipykernel_50852\\430125842.py:13: FutureWarning: Calling float on a single element Series is deprecated and will raise a TypeError in the future. Use float(ser.iloc[0]) instead\n",
      "  open_price     = float(df.iloc[1][\"Open\"])\n",
      "C:\\Users\\diego\\AppData\\Local\\Temp\\ipykernel_50852\\430125842.py:14: FutureWarning: Calling float on a single element Series is deprecated and will raise a TypeError in the future. Use float(ser.iloc[0]) instead\n",
      "  close_price    = float(df.iloc[1][\"Close\"])\n",
      "C:\\Users\\diego\\AppData\\Local\\Temp\\ipykernel_50852\\430125842.py:15: FutureWarning: Calling float on a single element Series is deprecated and will raise a TypeError in the future. Use float(ser.iloc[0]) instead\n",
      "  previous_open  = float(df.iloc[0][\"Open\"])\n",
      "C:\\Users\\diego\\AppData\\Local\\Temp\\ipykernel_50852\\430125842.py:16: FutureWarning: Calling float on a single element Series is deprecated and will raise a TypeError in the future. Use float(ser.iloc[0]) instead\n",
      "  previous_close = float(df.iloc[0][\"Close\"])\n"
     ]
    },
    {
     "name": "stdout",
     "output_type": "stream",
     "text": [
      "Fetching data for BIIB...\n"
     ]
    },
    {
     "name": "stderr",
     "output_type": "stream",
     "text": [
      "[*********************100%***********************]  1 of 1 completed\n",
      "C:\\Users\\diego\\AppData\\Local\\Temp\\ipykernel_50852\\430125842.py:13: FutureWarning: Calling float on a single element Series is deprecated and will raise a TypeError in the future. Use float(ser.iloc[0]) instead\n",
      "  open_price     = float(df.iloc[1][\"Open\"])\n",
      "C:\\Users\\diego\\AppData\\Local\\Temp\\ipykernel_50852\\430125842.py:14: FutureWarning: Calling float on a single element Series is deprecated and will raise a TypeError in the future. Use float(ser.iloc[0]) instead\n",
      "  close_price    = float(df.iloc[1][\"Close\"])\n",
      "C:\\Users\\diego\\AppData\\Local\\Temp\\ipykernel_50852\\430125842.py:15: FutureWarning: Calling float on a single element Series is deprecated and will raise a TypeError in the future. Use float(ser.iloc[0]) instead\n",
      "  previous_open  = float(df.iloc[0][\"Open\"])\n",
      "C:\\Users\\diego\\AppData\\Local\\Temp\\ipykernel_50852\\430125842.py:16: FutureWarning: Calling float on a single element Series is deprecated and will raise a TypeError in the future. Use float(ser.iloc[0]) instead\n",
      "  previous_close = float(df.iloc[0][\"Close\"])\n"
     ]
    },
    {
     "name": "stdout",
     "output_type": "stream",
     "text": [
      "Fetching data for BLK...\n"
     ]
    },
    {
     "name": "stderr",
     "output_type": "stream",
     "text": [
      "[*********************100%***********************]  1 of 1 completed\n",
      "C:\\Users\\diego\\AppData\\Local\\Temp\\ipykernel_50852\\430125842.py:13: FutureWarning: Calling float on a single element Series is deprecated and will raise a TypeError in the future. Use float(ser.iloc[0]) instead\n",
      "  open_price     = float(df.iloc[1][\"Open\"])\n",
      "C:\\Users\\diego\\AppData\\Local\\Temp\\ipykernel_50852\\430125842.py:14: FutureWarning: Calling float on a single element Series is deprecated and will raise a TypeError in the future. Use float(ser.iloc[0]) instead\n",
      "  close_price    = float(df.iloc[1][\"Close\"])\n",
      "C:\\Users\\diego\\AppData\\Local\\Temp\\ipykernel_50852\\430125842.py:15: FutureWarning: Calling float on a single element Series is deprecated and will raise a TypeError in the future. Use float(ser.iloc[0]) instead\n",
      "  previous_open  = float(df.iloc[0][\"Open\"])\n",
      "C:\\Users\\diego\\AppData\\Local\\Temp\\ipykernel_50852\\430125842.py:16: FutureWarning: Calling float on a single element Series is deprecated and will raise a TypeError in the future. Use float(ser.iloc[0]) instead\n",
      "  previous_close = float(df.iloc[0][\"Close\"])\n"
     ]
    },
    {
     "name": "stdout",
     "output_type": "stream",
     "text": [
      "Fetching data for BX...\n"
     ]
    },
    {
     "name": "stderr",
     "output_type": "stream",
     "text": [
      "[*********************100%***********************]  1 of 1 completed\n",
      "C:\\Users\\diego\\AppData\\Local\\Temp\\ipykernel_50852\\430125842.py:13: FutureWarning: Calling float on a single element Series is deprecated and will raise a TypeError in the future. Use float(ser.iloc[0]) instead\n",
      "  open_price     = float(df.iloc[1][\"Open\"])\n",
      "C:\\Users\\diego\\AppData\\Local\\Temp\\ipykernel_50852\\430125842.py:14: FutureWarning: Calling float on a single element Series is deprecated and will raise a TypeError in the future. Use float(ser.iloc[0]) instead\n",
      "  close_price    = float(df.iloc[1][\"Close\"])\n",
      "C:\\Users\\diego\\AppData\\Local\\Temp\\ipykernel_50852\\430125842.py:15: FutureWarning: Calling float on a single element Series is deprecated and will raise a TypeError in the future. Use float(ser.iloc[0]) instead\n",
      "  previous_open  = float(df.iloc[0][\"Open\"])\n",
      "C:\\Users\\diego\\AppData\\Local\\Temp\\ipykernel_50852\\430125842.py:16: FutureWarning: Calling float on a single element Series is deprecated and will raise a TypeError in the future. Use float(ser.iloc[0]) instead\n",
      "  previous_close = float(df.iloc[0][\"Close\"])\n"
     ]
    },
    {
     "name": "stdout",
     "output_type": "stream",
     "text": [
      "Fetching data for BK...\n"
     ]
    },
    {
     "name": "stderr",
     "output_type": "stream",
     "text": [
      "[*********************100%***********************]  1 of 1 completed\n",
      "C:\\Users\\diego\\AppData\\Local\\Temp\\ipykernel_50852\\430125842.py:13: FutureWarning: Calling float on a single element Series is deprecated and will raise a TypeError in the future. Use float(ser.iloc[0]) instead\n",
      "  open_price     = float(df.iloc[1][\"Open\"])\n",
      "C:\\Users\\diego\\AppData\\Local\\Temp\\ipykernel_50852\\430125842.py:14: FutureWarning: Calling float on a single element Series is deprecated and will raise a TypeError in the future. Use float(ser.iloc[0]) instead\n",
      "  close_price    = float(df.iloc[1][\"Close\"])\n",
      "C:\\Users\\diego\\AppData\\Local\\Temp\\ipykernel_50852\\430125842.py:15: FutureWarning: Calling float on a single element Series is deprecated and will raise a TypeError in the future. Use float(ser.iloc[0]) instead\n",
      "  previous_open  = float(df.iloc[0][\"Open\"])\n",
      "C:\\Users\\diego\\AppData\\Local\\Temp\\ipykernel_50852\\430125842.py:16: FutureWarning: Calling float on a single element Series is deprecated and will raise a TypeError in the future. Use float(ser.iloc[0]) instead\n",
      "  previous_close = float(df.iloc[0][\"Close\"])\n"
     ]
    },
    {
     "name": "stdout",
     "output_type": "stream",
     "text": [
      "Fetching data for BA...\n"
     ]
    },
    {
     "name": "stderr",
     "output_type": "stream",
     "text": [
      "[*********************100%***********************]  1 of 1 completed\n",
      "C:\\Users\\diego\\AppData\\Local\\Temp\\ipykernel_50852\\430125842.py:13: FutureWarning: Calling float on a single element Series is deprecated and will raise a TypeError in the future. Use float(ser.iloc[0]) instead\n",
      "  open_price     = float(df.iloc[1][\"Open\"])\n",
      "C:\\Users\\diego\\AppData\\Local\\Temp\\ipykernel_50852\\430125842.py:14: FutureWarning: Calling float on a single element Series is deprecated and will raise a TypeError in the future. Use float(ser.iloc[0]) instead\n",
      "  close_price    = float(df.iloc[1][\"Close\"])\n",
      "C:\\Users\\diego\\AppData\\Local\\Temp\\ipykernel_50852\\430125842.py:15: FutureWarning: Calling float on a single element Series is deprecated and will raise a TypeError in the future. Use float(ser.iloc[0]) instead\n",
      "  previous_open  = float(df.iloc[0][\"Open\"])\n",
      "C:\\Users\\diego\\AppData\\Local\\Temp\\ipykernel_50852\\430125842.py:16: FutureWarning: Calling float on a single element Series is deprecated and will raise a TypeError in the future. Use float(ser.iloc[0]) instead\n",
      "  previous_close = float(df.iloc[0][\"Close\"])\n"
     ]
    },
    {
     "name": "stdout",
     "output_type": "stream",
     "text": [
      "Fetching data for BKNG...\n"
     ]
    },
    {
     "name": "stderr",
     "output_type": "stream",
     "text": [
      "[*********************100%***********************]  1 of 1 completed\n",
      "C:\\Users\\diego\\AppData\\Local\\Temp\\ipykernel_50852\\430125842.py:13: FutureWarning: Calling float on a single element Series is deprecated and will raise a TypeError in the future. Use float(ser.iloc[0]) instead\n",
      "  open_price     = float(df.iloc[1][\"Open\"])\n",
      "C:\\Users\\diego\\AppData\\Local\\Temp\\ipykernel_50852\\430125842.py:14: FutureWarning: Calling float on a single element Series is deprecated and will raise a TypeError in the future. Use float(ser.iloc[0]) instead\n",
      "  close_price    = float(df.iloc[1][\"Close\"])\n",
      "C:\\Users\\diego\\AppData\\Local\\Temp\\ipykernel_50852\\430125842.py:15: FutureWarning: Calling float on a single element Series is deprecated and will raise a TypeError in the future. Use float(ser.iloc[0]) instead\n",
      "  previous_open  = float(df.iloc[0][\"Open\"])\n",
      "C:\\Users\\diego\\AppData\\Local\\Temp\\ipykernel_50852\\430125842.py:16: FutureWarning: Calling float on a single element Series is deprecated and will raise a TypeError in the future. Use float(ser.iloc[0]) instead\n",
      "  previous_close = float(df.iloc[0][\"Close\"])\n"
     ]
    },
    {
     "name": "stdout",
     "output_type": "stream",
     "text": [
      "Fetching data for BWA...\n"
     ]
    },
    {
     "name": "stderr",
     "output_type": "stream",
     "text": [
      "[*********************100%***********************]  1 of 1 completed\n",
      "C:\\Users\\diego\\AppData\\Local\\Temp\\ipykernel_50852\\430125842.py:13: FutureWarning: Calling float on a single element Series is deprecated and will raise a TypeError in the future. Use float(ser.iloc[0]) instead\n",
      "  open_price     = float(df.iloc[1][\"Open\"])\n",
      "C:\\Users\\diego\\AppData\\Local\\Temp\\ipykernel_50852\\430125842.py:14: FutureWarning: Calling float on a single element Series is deprecated and will raise a TypeError in the future. Use float(ser.iloc[0]) instead\n",
      "  close_price    = float(df.iloc[1][\"Close\"])\n",
      "C:\\Users\\diego\\AppData\\Local\\Temp\\ipykernel_50852\\430125842.py:15: FutureWarning: Calling float on a single element Series is deprecated and will raise a TypeError in the future. Use float(ser.iloc[0]) instead\n",
      "  previous_open  = float(df.iloc[0][\"Open\"])\n",
      "C:\\Users\\diego\\AppData\\Local\\Temp\\ipykernel_50852\\430125842.py:16: FutureWarning: Calling float on a single element Series is deprecated and will raise a TypeError in the future. Use float(ser.iloc[0]) instead\n",
      "  previous_close = float(df.iloc[0][\"Close\"])\n"
     ]
    },
    {
     "name": "stdout",
     "output_type": "stream",
     "text": [
      "Fetching data for BSX...\n"
     ]
    },
    {
     "name": "stderr",
     "output_type": "stream",
     "text": [
      "[*********************100%***********************]  1 of 1 completed\n",
      "C:\\Users\\diego\\AppData\\Local\\Temp\\ipykernel_50852\\430125842.py:13: FutureWarning: Calling float on a single element Series is deprecated and will raise a TypeError in the future. Use float(ser.iloc[0]) instead\n",
      "  open_price     = float(df.iloc[1][\"Open\"])\n",
      "C:\\Users\\diego\\AppData\\Local\\Temp\\ipykernel_50852\\430125842.py:14: FutureWarning: Calling float on a single element Series is deprecated and will raise a TypeError in the future. Use float(ser.iloc[0]) instead\n",
      "  close_price    = float(df.iloc[1][\"Close\"])\n",
      "C:\\Users\\diego\\AppData\\Local\\Temp\\ipykernel_50852\\430125842.py:15: FutureWarning: Calling float on a single element Series is deprecated and will raise a TypeError in the future. Use float(ser.iloc[0]) instead\n",
      "  previous_open  = float(df.iloc[0][\"Open\"])\n",
      "C:\\Users\\diego\\AppData\\Local\\Temp\\ipykernel_50852\\430125842.py:16: FutureWarning: Calling float on a single element Series is deprecated and will raise a TypeError in the future. Use float(ser.iloc[0]) instead\n",
      "  previous_close = float(df.iloc[0][\"Close\"])\n"
     ]
    },
    {
     "name": "stdout",
     "output_type": "stream",
     "text": [
      "Fetching data for BMY...\n"
     ]
    },
    {
     "name": "stderr",
     "output_type": "stream",
     "text": [
      "[*********************100%***********************]  1 of 1 completed\n",
      "C:\\Users\\diego\\AppData\\Local\\Temp\\ipykernel_50852\\430125842.py:13: FutureWarning: Calling float on a single element Series is deprecated and will raise a TypeError in the future. Use float(ser.iloc[0]) instead\n",
      "  open_price     = float(df.iloc[1][\"Open\"])\n",
      "C:\\Users\\diego\\AppData\\Local\\Temp\\ipykernel_50852\\430125842.py:14: FutureWarning: Calling float on a single element Series is deprecated and will raise a TypeError in the future. Use float(ser.iloc[0]) instead\n",
      "  close_price    = float(df.iloc[1][\"Close\"])\n",
      "C:\\Users\\diego\\AppData\\Local\\Temp\\ipykernel_50852\\430125842.py:15: FutureWarning: Calling float on a single element Series is deprecated and will raise a TypeError in the future. Use float(ser.iloc[0]) instead\n",
      "  previous_open  = float(df.iloc[0][\"Open\"])\n",
      "C:\\Users\\diego\\AppData\\Local\\Temp\\ipykernel_50852\\430125842.py:16: FutureWarning: Calling float on a single element Series is deprecated and will raise a TypeError in the future. Use float(ser.iloc[0]) instead\n",
      "  previous_close = float(df.iloc[0][\"Close\"])\n"
     ]
    },
    {
     "name": "stdout",
     "output_type": "stream",
     "text": [
      "Fetching data for AVGO...\n"
     ]
    },
    {
     "name": "stderr",
     "output_type": "stream",
     "text": [
      "[*********************100%***********************]  1 of 1 completed\n",
      "C:\\Users\\diego\\AppData\\Local\\Temp\\ipykernel_50852\\430125842.py:13: FutureWarning: Calling float on a single element Series is deprecated and will raise a TypeError in the future. Use float(ser.iloc[0]) instead\n",
      "  open_price     = float(df.iloc[1][\"Open\"])\n",
      "C:\\Users\\diego\\AppData\\Local\\Temp\\ipykernel_50852\\430125842.py:14: FutureWarning: Calling float on a single element Series is deprecated and will raise a TypeError in the future. Use float(ser.iloc[0]) instead\n",
      "  close_price    = float(df.iloc[1][\"Close\"])\n",
      "C:\\Users\\diego\\AppData\\Local\\Temp\\ipykernel_50852\\430125842.py:15: FutureWarning: Calling float on a single element Series is deprecated and will raise a TypeError in the future. Use float(ser.iloc[0]) instead\n",
      "  previous_open  = float(df.iloc[0][\"Open\"])\n",
      "C:\\Users\\diego\\AppData\\Local\\Temp\\ipykernel_50852\\430125842.py:16: FutureWarning: Calling float on a single element Series is deprecated and will raise a TypeError in the future. Use float(ser.iloc[0]) instead\n",
      "  previous_close = float(df.iloc[0][\"Close\"])\n"
     ]
    },
    {
     "name": "stdout",
     "output_type": "stream",
     "text": [
      "Fetching data for BR...\n"
     ]
    },
    {
     "name": "stderr",
     "output_type": "stream",
     "text": [
      "[*********************100%***********************]  1 of 1 completed\n",
      "C:\\Users\\diego\\AppData\\Local\\Temp\\ipykernel_50852\\430125842.py:13: FutureWarning: Calling float on a single element Series is deprecated and will raise a TypeError in the future. Use float(ser.iloc[0]) instead\n",
      "  open_price     = float(df.iloc[1][\"Open\"])\n",
      "C:\\Users\\diego\\AppData\\Local\\Temp\\ipykernel_50852\\430125842.py:14: FutureWarning: Calling float on a single element Series is deprecated and will raise a TypeError in the future. Use float(ser.iloc[0]) instead\n",
      "  close_price    = float(df.iloc[1][\"Close\"])\n",
      "C:\\Users\\diego\\AppData\\Local\\Temp\\ipykernel_50852\\430125842.py:15: FutureWarning: Calling float on a single element Series is deprecated and will raise a TypeError in the future. Use float(ser.iloc[0]) instead\n",
      "  previous_open  = float(df.iloc[0][\"Open\"])\n",
      "C:\\Users\\diego\\AppData\\Local\\Temp\\ipykernel_50852\\430125842.py:16: FutureWarning: Calling float on a single element Series is deprecated and will raise a TypeError in the future. Use float(ser.iloc[0]) instead\n",
      "  previous_close = float(df.iloc[0][\"Close\"])\n"
     ]
    },
    {
     "name": "stdout",
     "output_type": "stream",
     "text": [
      "Fetching data for BRO...\n"
     ]
    },
    {
     "name": "stderr",
     "output_type": "stream",
     "text": [
      "[*********************100%***********************]  1 of 1 completed\n",
      "C:\\Users\\diego\\AppData\\Local\\Temp\\ipykernel_50852\\430125842.py:13: FutureWarning: Calling float on a single element Series is deprecated and will raise a TypeError in the future. Use float(ser.iloc[0]) instead\n",
      "  open_price     = float(df.iloc[1][\"Open\"])\n",
      "C:\\Users\\diego\\AppData\\Local\\Temp\\ipykernel_50852\\430125842.py:14: FutureWarning: Calling float on a single element Series is deprecated and will raise a TypeError in the future. Use float(ser.iloc[0]) instead\n",
      "  close_price    = float(df.iloc[1][\"Close\"])\n",
      "C:\\Users\\diego\\AppData\\Local\\Temp\\ipykernel_50852\\430125842.py:15: FutureWarning: Calling float on a single element Series is deprecated and will raise a TypeError in the future. Use float(ser.iloc[0]) instead\n",
      "  previous_open  = float(df.iloc[0][\"Open\"])\n",
      "C:\\Users\\diego\\AppData\\Local\\Temp\\ipykernel_50852\\430125842.py:16: FutureWarning: Calling float on a single element Series is deprecated and will raise a TypeError in the future. Use float(ser.iloc[0]) instead\n",
      "  previous_close = float(df.iloc[0][\"Close\"])\n"
     ]
    },
    {
     "name": "stdout",
     "output_type": "stream",
     "text": [
      "Fetching data for BF-B...\n"
     ]
    },
    {
     "name": "stderr",
     "output_type": "stream",
     "text": [
      "[*********************100%***********************]  1 of 1 completed\n",
      "C:\\Users\\diego\\AppData\\Local\\Temp\\ipykernel_50852\\430125842.py:13: FutureWarning: Calling float on a single element Series is deprecated and will raise a TypeError in the future. Use float(ser.iloc[0]) instead\n",
      "  open_price     = float(df.iloc[1][\"Open\"])\n",
      "C:\\Users\\diego\\AppData\\Local\\Temp\\ipykernel_50852\\430125842.py:14: FutureWarning: Calling float on a single element Series is deprecated and will raise a TypeError in the future. Use float(ser.iloc[0]) instead\n",
      "  close_price    = float(df.iloc[1][\"Close\"])\n",
      "C:\\Users\\diego\\AppData\\Local\\Temp\\ipykernel_50852\\430125842.py:15: FutureWarning: Calling float on a single element Series is deprecated and will raise a TypeError in the future. Use float(ser.iloc[0]) instead\n",
      "  previous_open  = float(df.iloc[0][\"Open\"])\n",
      "C:\\Users\\diego\\AppData\\Local\\Temp\\ipykernel_50852\\430125842.py:16: FutureWarning: Calling float on a single element Series is deprecated and will raise a TypeError in the future. Use float(ser.iloc[0]) instead\n",
      "  previous_close = float(df.iloc[0][\"Close\"])\n"
     ]
    },
    {
     "name": "stdout",
     "output_type": "stream",
     "text": [
      "Fetching data for BLDR...\n"
     ]
    },
    {
     "name": "stderr",
     "output_type": "stream",
     "text": [
      "[*********************100%***********************]  1 of 1 completed\n",
      "C:\\Users\\diego\\AppData\\Local\\Temp\\ipykernel_50852\\430125842.py:13: FutureWarning: Calling float on a single element Series is deprecated and will raise a TypeError in the future. Use float(ser.iloc[0]) instead\n",
      "  open_price     = float(df.iloc[1][\"Open\"])\n",
      "C:\\Users\\diego\\AppData\\Local\\Temp\\ipykernel_50852\\430125842.py:14: FutureWarning: Calling float on a single element Series is deprecated and will raise a TypeError in the future. Use float(ser.iloc[0]) instead\n",
      "  close_price    = float(df.iloc[1][\"Close\"])\n",
      "C:\\Users\\diego\\AppData\\Local\\Temp\\ipykernel_50852\\430125842.py:15: FutureWarning: Calling float on a single element Series is deprecated and will raise a TypeError in the future. Use float(ser.iloc[0]) instead\n",
      "  previous_open  = float(df.iloc[0][\"Open\"])\n",
      "C:\\Users\\diego\\AppData\\Local\\Temp\\ipykernel_50852\\430125842.py:16: FutureWarning: Calling float on a single element Series is deprecated and will raise a TypeError in the future. Use float(ser.iloc[0]) instead\n",
      "  previous_close = float(df.iloc[0][\"Close\"])\n"
     ]
    },
    {
     "name": "stdout",
     "output_type": "stream",
     "text": [
      "Fetching data for BG...\n"
     ]
    },
    {
     "name": "stderr",
     "output_type": "stream",
     "text": [
      "[*********************100%***********************]  1 of 1 completed\n",
      "C:\\Users\\diego\\AppData\\Local\\Temp\\ipykernel_50852\\430125842.py:13: FutureWarning: Calling float on a single element Series is deprecated and will raise a TypeError in the future. Use float(ser.iloc[0]) instead\n",
      "  open_price     = float(df.iloc[1][\"Open\"])\n",
      "C:\\Users\\diego\\AppData\\Local\\Temp\\ipykernel_50852\\430125842.py:14: FutureWarning: Calling float on a single element Series is deprecated and will raise a TypeError in the future. Use float(ser.iloc[0]) instead\n",
      "  close_price    = float(df.iloc[1][\"Close\"])\n",
      "C:\\Users\\diego\\AppData\\Local\\Temp\\ipykernel_50852\\430125842.py:15: FutureWarning: Calling float on a single element Series is deprecated and will raise a TypeError in the future. Use float(ser.iloc[0]) instead\n",
      "  previous_open  = float(df.iloc[0][\"Open\"])\n",
      "C:\\Users\\diego\\AppData\\Local\\Temp\\ipykernel_50852\\430125842.py:16: FutureWarning: Calling float on a single element Series is deprecated and will raise a TypeError in the future. Use float(ser.iloc[0]) instead\n",
      "  previous_close = float(df.iloc[0][\"Close\"])\n"
     ]
    },
    {
     "name": "stdout",
     "output_type": "stream",
     "text": [
      "Fetching data for BXP...\n"
     ]
    },
    {
     "name": "stderr",
     "output_type": "stream",
     "text": [
      "[*********************100%***********************]  1 of 1 completed\n",
      "C:\\Users\\diego\\AppData\\Local\\Temp\\ipykernel_50852\\430125842.py:13: FutureWarning: Calling float on a single element Series is deprecated and will raise a TypeError in the future. Use float(ser.iloc[0]) instead\n",
      "  open_price     = float(df.iloc[1][\"Open\"])\n",
      "C:\\Users\\diego\\AppData\\Local\\Temp\\ipykernel_50852\\430125842.py:14: FutureWarning: Calling float on a single element Series is deprecated and will raise a TypeError in the future. Use float(ser.iloc[0]) instead\n",
      "  close_price    = float(df.iloc[1][\"Close\"])\n",
      "C:\\Users\\diego\\AppData\\Local\\Temp\\ipykernel_50852\\430125842.py:15: FutureWarning: Calling float on a single element Series is deprecated and will raise a TypeError in the future. Use float(ser.iloc[0]) instead\n",
      "  previous_open  = float(df.iloc[0][\"Open\"])\n",
      "C:\\Users\\diego\\AppData\\Local\\Temp\\ipykernel_50852\\430125842.py:16: FutureWarning: Calling float on a single element Series is deprecated and will raise a TypeError in the future. Use float(ser.iloc[0]) instead\n",
      "  previous_close = float(df.iloc[0][\"Close\"])\n"
     ]
    },
    {
     "name": "stdout",
     "output_type": "stream",
     "text": [
      "Fetching data for CHRW...\n"
     ]
    },
    {
     "name": "stderr",
     "output_type": "stream",
     "text": [
      "[*********************100%***********************]  1 of 1 completed\n",
      "C:\\Users\\diego\\AppData\\Local\\Temp\\ipykernel_50852\\430125842.py:13: FutureWarning: Calling float on a single element Series is deprecated and will raise a TypeError in the future. Use float(ser.iloc[0]) instead\n",
      "  open_price     = float(df.iloc[1][\"Open\"])\n",
      "C:\\Users\\diego\\AppData\\Local\\Temp\\ipykernel_50852\\430125842.py:14: FutureWarning: Calling float on a single element Series is deprecated and will raise a TypeError in the future. Use float(ser.iloc[0]) instead\n",
      "  close_price    = float(df.iloc[1][\"Close\"])\n",
      "C:\\Users\\diego\\AppData\\Local\\Temp\\ipykernel_50852\\430125842.py:15: FutureWarning: Calling float on a single element Series is deprecated and will raise a TypeError in the future. Use float(ser.iloc[0]) instead\n",
      "  previous_open  = float(df.iloc[0][\"Open\"])\n",
      "C:\\Users\\diego\\AppData\\Local\\Temp\\ipykernel_50852\\430125842.py:16: FutureWarning: Calling float on a single element Series is deprecated and will raise a TypeError in the future. Use float(ser.iloc[0]) instead\n",
      "  previous_close = float(df.iloc[0][\"Close\"])\n"
     ]
    },
    {
     "name": "stdout",
     "output_type": "stream",
     "text": [
      "Fetching data for CDNS...\n"
     ]
    },
    {
     "name": "stderr",
     "output_type": "stream",
     "text": [
      "[*********************100%***********************]  1 of 1 completed\n",
      "C:\\Users\\diego\\AppData\\Local\\Temp\\ipykernel_50852\\430125842.py:13: FutureWarning: Calling float on a single element Series is deprecated and will raise a TypeError in the future. Use float(ser.iloc[0]) instead\n",
      "  open_price     = float(df.iloc[1][\"Open\"])\n",
      "C:\\Users\\diego\\AppData\\Local\\Temp\\ipykernel_50852\\430125842.py:14: FutureWarning: Calling float on a single element Series is deprecated and will raise a TypeError in the future. Use float(ser.iloc[0]) instead\n",
      "  close_price    = float(df.iloc[1][\"Close\"])\n",
      "C:\\Users\\diego\\AppData\\Local\\Temp\\ipykernel_50852\\430125842.py:15: FutureWarning: Calling float on a single element Series is deprecated and will raise a TypeError in the future. Use float(ser.iloc[0]) instead\n",
      "  previous_open  = float(df.iloc[0][\"Open\"])\n",
      "C:\\Users\\diego\\AppData\\Local\\Temp\\ipykernel_50852\\430125842.py:16: FutureWarning: Calling float on a single element Series is deprecated and will raise a TypeError in the future. Use float(ser.iloc[0]) instead\n",
      "  previous_close = float(df.iloc[0][\"Close\"])\n"
     ]
    },
    {
     "name": "stdout",
     "output_type": "stream",
     "text": [
      "Fetching data for CZR...\n"
     ]
    },
    {
     "name": "stderr",
     "output_type": "stream",
     "text": [
      "[*********************100%***********************]  1 of 1 completed\n",
      "C:\\Users\\diego\\AppData\\Local\\Temp\\ipykernel_50852\\430125842.py:13: FutureWarning: Calling float on a single element Series is deprecated and will raise a TypeError in the future. Use float(ser.iloc[0]) instead\n",
      "  open_price     = float(df.iloc[1][\"Open\"])\n",
      "C:\\Users\\diego\\AppData\\Local\\Temp\\ipykernel_50852\\430125842.py:14: FutureWarning: Calling float on a single element Series is deprecated and will raise a TypeError in the future. Use float(ser.iloc[0]) instead\n",
      "  close_price    = float(df.iloc[1][\"Close\"])\n",
      "C:\\Users\\diego\\AppData\\Local\\Temp\\ipykernel_50852\\430125842.py:15: FutureWarning: Calling float on a single element Series is deprecated and will raise a TypeError in the future. Use float(ser.iloc[0]) instead\n",
      "  previous_open  = float(df.iloc[0][\"Open\"])\n",
      "C:\\Users\\diego\\AppData\\Local\\Temp\\ipykernel_50852\\430125842.py:16: FutureWarning: Calling float on a single element Series is deprecated and will raise a TypeError in the future. Use float(ser.iloc[0]) instead\n",
      "  previous_close = float(df.iloc[0][\"Close\"])\n"
     ]
    },
    {
     "name": "stdout",
     "output_type": "stream",
     "text": [
      "Fetching data for CPT...\n"
     ]
    },
    {
     "name": "stderr",
     "output_type": "stream",
     "text": [
      "[*********************100%***********************]  1 of 1 completed\n",
      "C:\\Users\\diego\\AppData\\Local\\Temp\\ipykernel_50852\\430125842.py:13: FutureWarning: Calling float on a single element Series is deprecated and will raise a TypeError in the future. Use float(ser.iloc[0]) instead\n",
      "  open_price     = float(df.iloc[1][\"Open\"])\n",
      "C:\\Users\\diego\\AppData\\Local\\Temp\\ipykernel_50852\\430125842.py:14: FutureWarning: Calling float on a single element Series is deprecated and will raise a TypeError in the future. Use float(ser.iloc[0]) instead\n",
      "  close_price    = float(df.iloc[1][\"Close\"])\n",
      "C:\\Users\\diego\\AppData\\Local\\Temp\\ipykernel_50852\\430125842.py:15: FutureWarning: Calling float on a single element Series is deprecated and will raise a TypeError in the future. Use float(ser.iloc[0]) instead\n",
      "  previous_open  = float(df.iloc[0][\"Open\"])\n",
      "C:\\Users\\diego\\AppData\\Local\\Temp\\ipykernel_50852\\430125842.py:16: FutureWarning: Calling float on a single element Series is deprecated and will raise a TypeError in the future. Use float(ser.iloc[0]) instead\n",
      "  previous_close = float(df.iloc[0][\"Close\"])\n"
     ]
    },
    {
     "name": "stdout",
     "output_type": "stream",
     "text": [
      "Fetching data for CPB...\n"
     ]
    },
    {
     "name": "stderr",
     "output_type": "stream",
     "text": [
      "[*********************100%***********************]  1 of 1 completed\n",
      "C:\\Users\\diego\\AppData\\Local\\Temp\\ipykernel_50852\\430125842.py:13: FutureWarning: Calling float on a single element Series is deprecated and will raise a TypeError in the future. Use float(ser.iloc[0]) instead\n",
      "  open_price     = float(df.iloc[1][\"Open\"])\n",
      "C:\\Users\\diego\\AppData\\Local\\Temp\\ipykernel_50852\\430125842.py:14: FutureWarning: Calling float on a single element Series is deprecated and will raise a TypeError in the future. Use float(ser.iloc[0]) instead\n",
      "  close_price    = float(df.iloc[1][\"Close\"])\n",
      "C:\\Users\\diego\\AppData\\Local\\Temp\\ipykernel_50852\\430125842.py:15: FutureWarning: Calling float on a single element Series is deprecated and will raise a TypeError in the future. Use float(ser.iloc[0]) instead\n",
      "  previous_open  = float(df.iloc[0][\"Open\"])\n",
      "C:\\Users\\diego\\AppData\\Local\\Temp\\ipykernel_50852\\430125842.py:16: FutureWarning: Calling float on a single element Series is deprecated and will raise a TypeError in the future. Use float(ser.iloc[0]) instead\n",
      "  previous_close = float(df.iloc[0][\"Close\"])\n"
     ]
    },
    {
     "name": "stdout",
     "output_type": "stream",
     "text": [
      "Fetching data for COF...\n"
     ]
    },
    {
     "name": "stderr",
     "output_type": "stream",
     "text": [
      "[*********************100%***********************]  1 of 1 completed\n",
      "C:\\Users\\diego\\AppData\\Local\\Temp\\ipykernel_50852\\430125842.py:13: FutureWarning: Calling float on a single element Series is deprecated and will raise a TypeError in the future. Use float(ser.iloc[0]) instead\n",
      "  open_price     = float(df.iloc[1][\"Open\"])\n",
      "C:\\Users\\diego\\AppData\\Local\\Temp\\ipykernel_50852\\430125842.py:14: FutureWarning: Calling float on a single element Series is deprecated and will raise a TypeError in the future. Use float(ser.iloc[0]) instead\n",
      "  close_price    = float(df.iloc[1][\"Close\"])\n",
      "C:\\Users\\diego\\AppData\\Local\\Temp\\ipykernel_50852\\430125842.py:15: FutureWarning: Calling float on a single element Series is deprecated and will raise a TypeError in the future. Use float(ser.iloc[0]) instead\n",
      "  previous_open  = float(df.iloc[0][\"Open\"])\n",
      "C:\\Users\\diego\\AppData\\Local\\Temp\\ipykernel_50852\\430125842.py:16: FutureWarning: Calling float on a single element Series is deprecated and will raise a TypeError in the future. Use float(ser.iloc[0]) instead\n",
      "  previous_close = float(df.iloc[0][\"Close\"])\n"
     ]
    },
    {
     "name": "stdout",
     "output_type": "stream",
     "text": [
      "Fetching data for CAH...\n"
     ]
    },
    {
     "name": "stderr",
     "output_type": "stream",
     "text": [
      "[*********************100%***********************]  1 of 1 completed\n",
      "C:\\Users\\diego\\AppData\\Local\\Temp\\ipykernel_50852\\430125842.py:13: FutureWarning: Calling float on a single element Series is deprecated and will raise a TypeError in the future. Use float(ser.iloc[0]) instead\n",
      "  open_price     = float(df.iloc[1][\"Open\"])\n",
      "C:\\Users\\diego\\AppData\\Local\\Temp\\ipykernel_50852\\430125842.py:14: FutureWarning: Calling float on a single element Series is deprecated and will raise a TypeError in the future. Use float(ser.iloc[0]) instead\n",
      "  close_price    = float(df.iloc[1][\"Close\"])\n",
      "C:\\Users\\diego\\AppData\\Local\\Temp\\ipykernel_50852\\430125842.py:15: FutureWarning: Calling float on a single element Series is deprecated and will raise a TypeError in the future. Use float(ser.iloc[0]) instead\n",
      "  previous_open  = float(df.iloc[0][\"Open\"])\n",
      "C:\\Users\\diego\\AppData\\Local\\Temp\\ipykernel_50852\\430125842.py:16: FutureWarning: Calling float on a single element Series is deprecated and will raise a TypeError in the future. Use float(ser.iloc[0]) instead\n",
      "  previous_close = float(df.iloc[0][\"Close\"])\n"
     ]
    },
    {
     "name": "stdout",
     "output_type": "stream",
     "text": [
      "Fetching data for KMX...\n"
     ]
    },
    {
     "name": "stderr",
     "output_type": "stream",
     "text": [
      "[*********************100%***********************]  1 of 1 completed\n",
      "C:\\Users\\diego\\AppData\\Local\\Temp\\ipykernel_50852\\430125842.py:13: FutureWarning: Calling float on a single element Series is deprecated and will raise a TypeError in the future. Use float(ser.iloc[0]) instead\n",
      "  open_price     = float(df.iloc[1][\"Open\"])\n",
      "C:\\Users\\diego\\AppData\\Local\\Temp\\ipykernel_50852\\430125842.py:14: FutureWarning: Calling float on a single element Series is deprecated and will raise a TypeError in the future. Use float(ser.iloc[0]) instead\n",
      "  close_price    = float(df.iloc[1][\"Close\"])\n",
      "C:\\Users\\diego\\AppData\\Local\\Temp\\ipykernel_50852\\430125842.py:15: FutureWarning: Calling float on a single element Series is deprecated and will raise a TypeError in the future. Use float(ser.iloc[0]) instead\n",
      "  previous_open  = float(df.iloc[0][\"Open\"])\n",
      "C:\\Users\\diego\\AppData\\Local\\Temp\\ipykernel_50852\\430125842.py:16: FutureWarning: Calling float on a single element Series is deprecated and will raise a TypeError in the future. Use float(ser.iloc[0]) instead\n",
      "  previous_close = float(df.iloc[0][\"Close\"])\n"
     ]
    },
    {
     "name": "stdout",
     "output_type": "stream",
     "text": [
      "Fetching data for CCL...\n"
     ]
    },
    {
     "name": "stderr",
     "output_type": "stream",
     "text": [
      "[*********************100%***********************]  1 of 1 completed\n",
      "C:\\Users\\diego\\AppData\\Local\\Temp\\ipykernel_50852\\430125842.py:13: FutureWarning: Calling float on a single element Series is deprecated and will raise a TypeError in the future. Use float(ser.iloc[0]) instead\n",
      "  open_price     = float(df.iloc[1][\"Open\"])\n",
      "C:\\Users\\diego\\AppData\\Local\\Temp\\ipykernel_50852\\430125842.py:14: FutureWarning: Calling float on a single element Series is deprecated and will raise a TypeError in the future. Use float(ser.iloc[0]) instead\n",
      "  close_price    = float(df.iloc[1][\"Close\"])\n",
      "C:\\Users\\diego\\AppData\\Local\\Temp\\ipykernel_50852\\430125842.py:15: FutureWarning: Calling float on a single element Series is deprecated and will raise a TypeError in the future. Use float(ser.iloc[0]) instead\n",
      "  previous_open  = float(df.iloc[0][\"Open\"])\n",
      "C:\\Users\\diego\\AppData\\Local\\Temp\\ipykernel_50852\\430125842.py:16: FutureWarning: Calling float on a single element Series is deprecated and will raise a TypeError in the future. Use float(ser.iloc[0]) instead\n",
      "  previous_close = float(df.iloc[0][\"Close\"])\n"
     ]
    },
    {
     "name": "stdout",
     "output_type": "stream",
     "text": [
      "Fetching data for CARR...\n"
     ]
    },
    {
     "name": "stderr",
     "output_type": "stream",
     "text": [
      "[*********************100%***********************]  1 of 1 completed\n",
      "C:\\Users\\diego\\AppData\\Local\\Temp\\ipykernel_50852\\430125842.py:13: FutureWarning: Calling float on a single element Series is deprecated and will raise a TypeError in the future. Use float(ser.iloc[0]) instead\n",
      "  open_price     = float(df.iloc[1][\"Open\"])\n",
      "C:\\Users\\diego\\AppData\\Local\\Temp\\ipykernel_50852\\430125842.py:14: FutureWarning: Calling float on a single element Series is deprecated and will raise a TypeError in the future. Use float(ser.iloc[0]) instead\n",
      "  close_price    = float(df.iloc[1][\"Close\"])\n",
      "C:\\Users\\diego\\AppData\\Local\\Temp\\ipykernel_50852\\430125842.py:15: FutureWarning: Calling float on a single element Series is deprecated and will raise a TypeError in the future. Use float(ser.iloc[0]) instead\n",
      "  previous_open  = float(df.iloc[0][\"Open\"])\n",
      "C:\\Users\\diego\\AppData\\Local\\Temp\\ipykernel_50852\\430125842.py:16: FutureWarning: Calling float on a single element Series is deprecated and will raise a TypeError in the future. Use float(ser.iloc[0]) instead\n",
      "  previous_close = float(df.iloc[0][\"Close\"])\n"
     ]
    },
    {
     "name": "stdout",
     "output_type": "stream",
     "text": [
      "Fetching data for CAT...\n"
     ]
    },
    {
     "name": "stderr",
     "output_type": "stream",
     "text": [
      "[*********************100%***********************]  1 of 1 completed\n",
      "C:\\Users\\diego\\AppData\\Local\\Temp\\ipykernel_50852\\430125842.py:13: FutureWarning: Calling float on a single element Series is deprecated and will raise a TypeError in the future. Use float(ser.iloc[0]) instead\n",
      "  open_price     = float(df.iloc[1][\"Open\"])\n",
      "C:\\Users\\diego\\AppData\\Local\\Temp\\ipykernel_50852\\430125842.py:14: FutureWarning: Calling float on a single element Series is deprecated and will raise a TypeError in the future. Use float(ser.iloc[0]) instead\n",
      "  close_price    = float(df.iloc[1][\"Close\"])\n",
      "C:\\Users\\diego\\AppData\\Local\\Temp\\ipykernel_50852\\430125842.py:15: FutureWarning: Calling float on a single element Series is deprecated and will raise a TypeError in the future. Use float(ser.iloc[0]) instead\n",
      "  previous_open  = float(df.iloc[0][\"Open\"])\n",
      "C:\\Users\\diego\\AppData\\Local\\Temp\\ipykernel_50852\\430125842.py:16: FutureWarning: Calling float on a single element Series is deprecated and will raise a TypeError in the future. Use float(ser.iloc[0]) instead\n",
      "  previous_close = float(df.iloc[0][\"Close\"])\n"
     ]
    },
    {
     "name": "stdout",
     "output_type": "stream",
     "text": [
      "Fetching data for CBOE...\n"
     ]
    },
    {
     "name": "stderr",
     "output_type": "stream",
     "text": [
      "[*********************100%***********************]  1 of 1 completed\n",
      "C:\\Users\\diego\\AppData\\Local\\Temp\\ipykernel_50852\\430125842.py:13: FutureWarning: Calling float on a single element Series is deprecated and will raise a TypeError in the future. Use float(ser.iloc[0]) instead\n",
      "  open_price     = float(df.iloc[1][\"Open\"])\n",
      "C:\\Users\\diego\\AppData\\Local\\Temp\\ipykernel_50852\\430125842.py:14: FutureWarning: Calling float on a single element Series is deprecated and will raise a TypeError in the future. Use float(ser.iloc[0]) instead\n",
      "  close_price    = float(df.iloc[1][\"Close\"])\n",
      "C:\\Users\\diego\\AppData\\Local\\Temp\\ipykernel_50852\\430125842.py:15: FutureWarning: Calling float on a single element Series is deprecated and will raise a TypeError in the future. Use float(ser.iloc[0]) instead\n",
      "  previous_open  = float(df.iloc[0][\"Open\"])\n",
      "C:\\Users\\diego\\AppData\\Local\\Temp\\ipykernel_50852\\430125842.py:16: FutureWarning: Calling float on a single element Series is deprecated and will raise a TypeError in the future. Use float(ser.iloc[0]) instead\n",
      "  previous_close = float(df.iloc[0][\"Close\"])\n"
     ]
    },
    {
     "name": "stdout",
     "output_type": "stream",
     "text": [
      "Fetching data for CBRE...\n"
     ]
    },
    {
     "name": "stderr",
     "output_type": "stream",
     "text": [
      "[*********************100%***********************]  1 of 1 completed\n",
      "C:\\Users\\diego\\AppData\\Local\\Temp\\ipykernel_50852\\430125842.py:13: FutureWarning: Calling float on a single element Series is deprecated and will raise a TypeError in the future. Use float(ser.iloc[0]) instead\n",
      "  open_price     = float(df.iloc[1][\"Open\"])\n",
      "C:\\Users\\diego\\AppData\\Local\\Temp\\ipykernel_50852\\430125842.py:14: FutureWarning: Calling float on a single element Series is deprecated and will raise a TypeError in the future. Use float(ser.iloc[0]) instead\n",
      "  close_price    = float(df.iloc[1][\"Close\"])\n",
      "C:\\Users\\diego\\AppData\\Local\\Temp\\ipykernel_50852\\430125842.py:15: FutureWarning: Calling float on a single element Series is deprecated and will raise a TypeError in the future. Use float(ser.iloc[0]) instead\n",
      "  previous_open  = float(df.iloc[0][\"Open\"])\n",
      "C:\\Users\\diego\\AppData\\Local\\Temp\\ipykernel_50852\\430125842.py:16: FutureWarning: Calling float on a single element Series is deprecated and will raise a TypeError in the future. Use float(ser.iloc[0]) instead\n",
      "  previous_close = float(df.iloc[0][\"Close\"])\n"
     ]
    },
    {
     "name": "stdout",
     "output_type": "stream",
     "text": [
      "Fetching data for CDW...\n"
     ]
    },
    {
     "name": "stderr",
     "output_type": "stream",
     "text": [
      "[*********************100%***********************]  1 of 1 completed\n",
      "C:\\Users\\diego\\AppData\\Local\\Temp\\ipykernel_50852\\430125842.py:13: FutureWarning: Calling float on a single element Series is deprecated and will raise a TypeError in the future. Use float(ser.iloc[0]) instead\n",
      "  open_price     = float(df.iloc[1][\"Open\"])\n",
      "C:\\Users\\diego\\AppData\\Local\\Temp\\ipykernel_50852\\430125842.py:14: FutureWarning: Calling float on a single element Series is deprecated and will raise a TypeError in the future. Use float(ser.iloc[0]) instead\n",
      "  close_price    = float(df.iloc[1][\"Close\"])\n",
      "C:\\Users\\diego\\AppData\\Local\\Temp\\ipykernel_50852\\430125842.py:15: FutureWarning: Calling float on a single element Series is deprecated and will raise a TypeError in the future. Use float(ser.iloc[0]) instead\n",
      "  previous_open  = float(df.iloc[0][\"Open\"])\n",
      "C:\\Users\\diego\\AppData\\Local\\Temp\\ipykernel_50852\\430125842.py:16: FutureWarning: Calling float on a single element Series is deprecated and will raise a TypeError in the future. Use float(ser.iloc[0]) instead\n",
      "  previous_close = float(df.iloc[0][\"Close\"])\n"
     ]
    },
    {
     "name": "stdout",
     "output_type": "stream",
     "text": [
      "Fetching data for CE...\n"
     ]
    },
    {
     "name": "stderr",
     "output_type": "stream",
     "text": [
      "[*********************100%***********************]  1 of 1 completed\n",
      "C:\\Users\\diego\\AppData\\Local\\Temp\\ipykernel_50852\\430125842.py:13: FutureWarning: Calling float on a single element Series is deprecated and will raise a TypeError in the future. Use float(ser.iloc[0]) instead\n",
      "  open_price     = float(df.iloc[1][\"Open\"])\n",
      "C:\\Users\\diego\\AppData\\Local\\Temp\\ipykernel_50852\\430125842.py:14: FutureWarning: Calling float on a single element Series is deprecated and will raise a TypeError in the future. Use float(ser.iloc[0]) instead\n",
      "  close_price    = float(df.iloc[1][\"Close\"])\n",
      "C:\\Users\\diego\\AppData\\Local\\Temp\\ipykernel_50852\\430125842.py:15: FutureWarning: Calling float on a single element Series is deprecated and will raise a TypeError in the future. Use float(ser.iloc[0]) instead\n",
      "  previous_open  = float(df.iloc[0][\"Open\"])\n",
      "C:\\Users\\diego\\AppData\\Local\\Temp\\ipykernel_50852\\430125842.py:16: FutureWarning: Calling float on a single element Series is deprecated and will raise a TypeError in the future. Use float(ser.iloc[0]) instead\n",
      "  previous_close = float(df.iloc[0][\"Close\"])\n"
     ]
    },
    {
     "name": "stdout",
     "output_type": "stream",
     "text": [
      "Fetching data for COR...\n"
     ]
    },
    {
     "name": "stderr",
     "output_type": "stream",
     "text": [
      "[*********************100%***********************]  1 of 1 completed\n",
      "C:\\Users\\diego\\AppData\\Local\\Temp\\ipykernel_50852\\430125842.py:13: FutureWarning: Calling float on a single element Series is deprecated and will raise a TypeError in the future. Use float(ser.iloc[0]) instead\n",
      "  open_price     = float(df.iloc[1][\"Open\"])\n",
      "C:\\Users\\diego\\AppData\\Local\\Temp\\ipykernel_50852\\430125842.py:14: FutureWarning: Calling float on a single element Series is deprecated and will raise a TypeError in the future. Use float(ser.iloc[0]) instead\n",
      "  close_price    = float(df.iloc[1][\"Close\"])\n",
      "C:\\Users\\diego\\AppData\\Local\\Temp\\ipykernel_50852\\430125842.py:15: FutureWarning: Calling float on a single element Series is deprecated and will raise a TypeError in the future. Use float(ser.iloc[0]) instead\n",
      "  previous_open  = float(df.iloc[0][\"Open\"])\n",
      "C:\\Users\\diego\\AppData\\Local\\Temp\\ipykernel_50852\\430125842.py:16: FutureWarning: Calling float on a single element Series is deprecated and will raise a TypeError in the future. Use float(ser.iloc[0]) instead\n",
      "  previous_close = float(df.iloc[0][\"Close\"])\n"
     ]
    },
    {
     "name": "stdout",
     "output_type": "stream",
     "text": [
      "Fetching data for CNC...\n"
     ]
    },
    {
     "name": "stderr",
     "output_type": "stream",
     "text": [
      "[*********************100%***********************]  1 of 1 completed\n",
      "C:\\Users\\diego\\AppData\\Local\\Temp\\ipykernel_50852\\430125842.py:13: FutureWarning: Calling float on a single element Series is deprecated and will raise a TypeError in the future. Use float(ser.iloc[0]) instead\n",
      "  open_price     = float(df.iloc[1][\"Open\"])\n",
      "C:\\Users\\diego\\AppData\\Local\\Temp\\ipykernel_50852\\430125842.py:14: FutureWarning: Calling float on a single element Series is deprecated and will raise a TypeError in the future. Use float(ser.iloc[0]) instead\n",
      "  close_price    = float(df.iloc[1][\"Close\"])\n",
      "C:\\Users\\diego\\AppData\\Local\\Temp\\ipykernel_50852\\430125842.py:15: FutureWarning: Calling float on a single element Series is deprecated and will raise a TypeError in the future. Use float(ser.iloc[0]) instead\n",
      "  previous_open  = float(df.iloc[0][\"Open\"])\n",
      "C:\\Users\\diego\\AppData\\Local\\Temp\\ipykernel_50852\\430125842.py:16: FutureWarning: Calling float on a single element Series is deprecated and will raise a TypeError in the future. Use float(ser.iloc[0]) instead\n",
      "  previous_close = float(df.iloc[0][\"Close\"])\n"
     ]
    },
    {
     "name": "stdout",
     "output_type": "stream",
     "text": [
      "Fetching data for CNP...\n"
     ]
    },
    {
     "name": "stderr",
     "output_type": "stream",
     "text": [
      "[*********************100%***********************]  1 of 1 completed\n",
      "C:\\Users\\diego\\AppData\\Local\\Temp\\ipykernel_50852\\430125842.py:13: FutureWarning: Calling float on a single element Series is deprecated and will raise a TypeError in the future. Use float(ser.iloc[0]) instead\n",
      "  open_price     = float(df.iloc[1][\"Open\"])\n",
      "C:\\Users\\diego\\AppData\\Local\\Temp\\ipykernel_50852\\430125842.py:14: FutureWarning: Calling float on a single element Series is deprecated and will raise a TypeError in the future. Use float(ser.iloc[0]) instead\n",
      "  close_price    = float(df.iloc[1][\"Close\"])\n",
      "C:\\Users\\diego\\AppData\\Local\\Temp\\ipykernel_50852\\430125842.py:15: FutureWarning: Calling float on a single element Series is deprecated and will raise a TypeError in the future. Use float(ser.iloc[0]) instead\n",
      "  previous_open  = float(df.iloc[0][\"Open\"])\n",
      "C:\\Users\\diego\\AppData\\Local\\Temp\\ipykernel_50852\\430125842.py:16: FutureWarning: Calling float on a single element Series is deprecated and will raise a TypeError in the future. Use float(ser.iloc[0]) instead\n",
      "  previous_close = float(df.iloc[0][\"Close\"])\n"
     ]
    },
    {
     "name": "stdout",
     "output_type": "stream",
     "text": [
      "Fetching data for CF...\n"
     ]
    },
    {
     "name": "stderr",
     "output_type": "stream",
     "text": [
      "[*********************100%***********************]  1 of 1 completed\n",
      "C:\\Users\\diego\\AppData\\Local\\Temp\\ipykernel_50852\\430125842.py:13: FutureWarning: Calling float on a single element Series is deprecated and will raise a TypeError in the future. Use float(ser.iloc[0]) instead\n",
      "  open_price     = float(df.iloc[1][\"Open\"])\n",
      "C:\\Users\\diego\\AppData\\Local\\Temp\\ipykernel_50852\\430125842.py:14: FutureWarning: Calling float on a single element Series is deprecated and will raise a TypeError in the future. Use float(ser.iloc[0]) instead\n",
      "  close_price    = float(df.iloc[1][\"Close\"])\n",
      "C:\\Users\\diego\\AppData\\Local\\Temp\\ipykernel_50852\\430125842.py:15: FutureWarning: Calling float on a single element Series is deprecated and will raise a TypeError in the future. Use float(ser.iloc[0]) instead\n",
      "  previous_open  = float(df.iloc[0][\"Open\"])\n",
      "C:\\Users\\diego\\AppData\\Local\\Temp\\ipykernel_50852\\430125842.py:16: FutureWarning: Calling float on a single element Series is deprecated and will raise a TypeError in the future. Use float(ser.iloc[0]) instead\n",
      "  previous_close = float(df.iloc[0][\"Close\"])\n"
     ]
    },
    {
     "name": "stdout",
     "output_type": "stream",
     "text": [
      "Fetching data for CRL...\n"
     ]
    },
    {
     "name": "stderr",
     "output_type": "stream",
     "text": [
      "[*********************100%***********************]  1 of 1 completed\n",
      "C:\\Users\\diego\\AppData\\Local\\Temp\\ipykernel_50852\\430125842.py:13: FutureWarning: Calling float on a single element Series is deprecated and will raise a TypeError in the future. Use float(ser.iloc[0]) instead\n",
      "  open_price     = float(df.iloc[1][\"Open\"])\n",
      "C:\\Users\\diego\\AppData\\Local\\Temp\\ipykernel_50852\\430125842.py:14: FutureWarning: Calling float on a single element Series is deprecated and will raise a TypeError in the future. Use float(ser.iloc[0]) instead\n",
      "  close_price    = float(df.iloc[1][\"Close\"])\n",
      "C:\\Users\\diego\\AppData\\Local\\Temp\\ipykernel_50852\\430125842.py:15: FutureWarning: Calling float on a single element Series is deprecated and will raise a TypeError in the future. Use float(ser.iloc[0]) instead\n",
      "  previous_open  = float(df.iloc[0][\"Open\"])\n",
      "C:\\Users\\diego\\AppData\\Local\\Temp\\ipykernel_50852\\430125842.py:16: FutureWarning: Calling float on a single element Series is deprecated and will raise a TypeError in the future. Use float(ser.iloc[0]) instead\n",
      "  previous_close = float(df.iloc[0][\"Close\"])\n"
     ]
    },
    {
     "name": "stdout",
     "output_type": "stream",
     "text": [
      "Fetching data for SCHW...\n"
     ]
    },
    {
     "name": "stderr",
     "output_type": "stream",
     "text": [
      "[*********************100%***********************]  1 of 1 completed\n",
      "C:\\Users\\diego\\AppData\\Local\\Temp\\ipykernel_50852\\430125842.py:13: FutureWarning: Calling float on a single element Series is deprecated and will raise a TypeError in the future. Use float(ser.iloc[0]) instead\n",
      "  open_price     = float(df.iloc[1][\"Open\"])\n",
      "C:\\Users\\diego\\AppData\\Local\\Temp\\ipykernel_50852\\430125842.py:14: FutureWarning: Calling float on a single element Series is deprecated and will raise a TypeError in the future. Use float(ser.iloc[0]) instead\n",
      "  close_price    = float(df.iloc[1][\"Close\"])\n",
      "C:\\Users\\diego\\AppData\\Local\\Temp\\ipykernel_50852\\430125842.py:15: FutureWarning: Calling float on a single element Series is deprecated and will raise a TypeError in the future. Use float(ser.iloc[0]) instead\n",
      "  previous_open  = float(df.iloc[0][\"Open\"])\n",
      "C:\\Users\\diego\\AppData\\Local\\Temp\\ipykernel_50852\\430125842.py:16: FutureWarning: Calling float on a single element Series is deprecated and will raise a TypeError in the future. Use float(ser.iloc[0]) instead\n",
      "  previous_close = float(df.iloc[0][\"Close\"])\n"
     ]
    },
    {
     "name": "stdout",
     "output_type": "stream",
     "text": [
      "Fetching data for CHTR...\n"
     ]
    },
    {
     "name": "stderr",
     "output_type": "stream",
     "text": [
      "[*********************100%***********************]  1 of 1 completed\n",
      "C:\\Users\\diego\\AppData\\Local\\Temp\\ipykernel_50852\\430125842.py:13: FutureWarning: Calling float on a single element Series is deprecated and will raise a TypeError in the future. Use float(ser.iloc[0]) instead\n",
      "  open_price     = float(df.iloc[1][\"Open\"])\n",
      "C:\\Users\\diego\\AppData\\Local\\Temp\\ipykernel_50852\\430125842.py:14: FutureWarning: Calling float on a single element Series is deprecated and will raise a TypeError in the future. Use float(ser.iloc[0]) instead\n",
      "  close_price    = float(df.iloc[1][\"Close\"])\n",
      "C:\\Users\\diego\\AppData\\Local\\Temp\\ipykernel_50852\\430125842.py:15: FutureWarning: Calling float on a single element Series is deprecated and will raise a TypeError in the future. Use float(ser.iloc[0]) instead\n",
      "  previous_open  = float(df.iloc[0][\"Open\"])\n",
      "C:\\Users\\diego\\AppData\\Local\\Temp\\ipykernel_50852\\430125842.py:16: FutureWarning: Calling float on a single element Series is deprecated and will raise a TypeError in the future. Use float(ser.iloc[0]) instead\n",
      "  previous_close = float(df.iloc[0][\"Close\"])\n"
     ]
    },
    {
     "name": "stdout",
     "output_type": "stream",
     "text": [
      "Fetching data for CVX...\n"
     ]
    },
    {
     "name": "stderr",
     "output_type": "stream",
     "text": [
      "[*********************100%***********************]  1 of 1 completed\n",
      "C:\\Users\\diego\\AppData\\Local\\Temp\\ipykernel_50852\\430125842.py:13: FutureWarning: Calling float on a single element Series is deprecated and will raise a TypeError in the future. Use float(ser.iloc[0]) instead\n",
      "  open_price     = float(df.iloc[1][\"Open\"])\n",
      "C:\\Users\\diego\\AppData\\Local\\Temp\\ipykernel_50852\\430125842.py:14: FutureWarning: Calling float on a single element Series is deprecated and will raise a TypeError in the future. Use float(ser.iloc[0]) instead\n",
      "  close_price    = float(df.iloc[1][\"Close\"])\n",
      "C:\\Users\\diego\\AppData\\Local\\Temp\\ipykernel_50852\\430125842.py:15: FutureWarning: Calling float on a single element Series is deprecated and will raise a TypeError in the future. Use float(ser.iloc[0]) instead\n",
      "  previous_open  = float(df.iloc[0][\"Open\"])\n",
      "C:\\Users\\diego\\AppData\\Local\\Temp\\ipykernel_50852\\430125842.py:16: FutureWarning: Calling float on a single element Series is deprecated and will raise a TypeError in the future. Use float(ser.iloc[0]) instead\n",
      "  previous_close = float(df.iloc[0][\"Close\"])\n"
     ]
    },
    {
     "name": "stdout",
     "output_type": "stream",
     "text": [
      "Fetching data for CMG...\n"
     ]
    },
    {
     "name": "stderr",
     "output_type": "stream",
     "text": [
      "[*********************100%***********************]  1 of 1 completed\n",
      "C:\\Users\\diego\\AppData\\Local\\Temp\\ipykernel_50852\\430125842.py:13: FutureWarning: Calling float on a single element Series is deprecated and will raise a TypeError in the future. Use float(ser.iloc[0]) instead\n",
      "  open_price     = float(df.iloc[1][\"Open\"])\n",
      "C:\\Users\\diego\\AppData\\Local\\Temp\\ipykernel_50852\\430125842.py:14: FutureWarning: Calling float on a single element Series is deprecated and will raise a TypeError in the future. Use float(ser.iloc[0]) instead\n",
      "  close_price    = float(df.iloc[1][\"Close\"])\n",
      "C:\\Users\\diego\\AppData\\Local\\Temp\\ipykernel_50852\\430125842.py:15: FutureWarning: Calling float on a single element Series is deprecated and will raise a TypeError in the future. Use float(ser.iloc[0]) instead\n",
      "  previous_open  = float(df.iloc[0][\"Open\"])\n",
      "C:\\Users\\diego\\AppData\\Local\\Temp\\ipykernel_50852\\430125842.py:16: FutureWarning: Calling float on a single element Series is deprecated and will raise a TypeError in the future. Use float(ser.iloc[0]) instead\n",
      "  previous_close = float(df.iloc[0][\"Close\"])\n"
     ]
    },
    {
     "name": "stdout",
     "output_type": "stream",
     "text": [
      "Fetching data for CB...\n"
     ]
    },
    {
     "name": "stderr",
     "output_type": "stream",
     "text": [
      "[*********************100%***********************]  1 of 1 completed\n",
      "C:\\Users\\diego\\AppData\\Local\\Temp\\ipykernel_50852\\430125842.py:13: FutureWarning: Calling float on a single element Series is deprecated and will raise a TypeError in the future. Use float(ser.iloc[0]) instead\n",
      "  open_price     = float(df.iloc[1][\"Open\"])\n",
      "C:\\Users\\diego\\AppData\\Local\\Temp\\ipykernel_50852\\430125842.py:14: FutureWarning: Calling float on a single element Series is deprecated and will raise a TypeError in the future. Use float(ser.iloc[0]) instead\n",
      "  close_price    = float(df.iloc[1][\"Close\"])\n",
      "C:\\Users\\diego\\AppData\\Local\\Temp\\ipykernel_50852\\430125842.py:15: FutureWarning: Calling float on a single element Series is deprecated and will raise a TypeError in the future. Use float(ser.iloc[0]) instead\n",
      "  previous_open  = float(df.iloc[0][\"Open\"])\n",
      "C:\\Users\\diego\\AppData\\Local\\Temp\\ipykernel_50852\\430125842.py:16: FutureWarning: Calling float on a single element Series is deprecated and will raise a TypeError in the future. Use float(ser.iloc[0]) instead\n",
      "  previous_close = float(df.iloc[0][\"Close\"])\n"
     ]
    },
    {
     "name": "stdout",
     "output_type": "stream",
     "text": [
      "Fetching data for CHD...\n"
     ]
    },
    {
     "name": "stderr",
     "output_type": "stream",
     "text": [
      "[*********************100%***********************]  1 of 1 completed\n",
      "C:\\Users\\diego\\AppData\\Local\\Temp\\ipykernel_50852\\430125842.py:13: FutureWarning: Calling float on a single element Series is deprecated and will raise a TypeError in the future. Use float(ser.iloc[0]) instead\n",
      "  open_price     = float(df.iloc[1][\"Open\"])\n",
      "C:\\Users\\diego\\AppData\\Local\\Temp\\ipykernel_50852\\430125842.py:14: FutureWarning: Calling float on a single element Series is deprecated and will raise a TypeError in the future. Use float(ser.iloc[0]) instead\n",
      "  close_price    = float(df.iloc[1][\"Close\"])\n",
      "C:\\Users\\diego\\AppData\\Local\\Temp\\ipykernel_50852\\430125842.py:15: FutureWarning: Calling float on a single element Series is deprecated and will raise a TypeError in the future. Use float(ser.iloc[0]) instead\n",
      "  previous_open  = float(df.iloc[0][\"Open\"])\n",
      "C:\\Users\\diego\\AppData\\Local\\Temp\\ipykernel_50852\\430125842.py:16: FutureWarning: Calling float on a single element Series is deprecated and will raise a TypeError in the future. Use float(ser.iloc[0]) instead\n",
      "  previous_close = float(df.iloc[0][\"Close\"])\n"
     ]
    },
    {
     "name": "stdout",
     "output_type": "stream",
     "text": [
      "Fetching data for CI...\n"
     ]
    },
    {
     "name": "stderr",
     "output_type": "stream",
     "text": [
      "[*********************100%***********************]  1 of 1 completed\n",
      "C:\\Users\\diego\\AppData\\Local\\Temp\\ipykernel_50852\\430125842.py:13: FutureWarning: Calling float on a single element Series is deprecated and will raise a TypeError in the future. Use float(ser.iloc[0]) instead\n",
      "  open_price     = float(df.iloc[1][\"Open\"])\n",
      "C:\\Users\\diego\\AppData\\Local\\Temp\\ipykernel_50852\\430125842.py:14: FutureWarning: Calling float on a single element Series is deprecated and will raise a TypeError in the future. Use float(ser.iloc[0]) instead\n",
      "  close_price    = float(df.iloc[1][\"Close\"])\n",
      "C:\\Users\\diego\\AppData\\Local\\Temp\\ipykernel_50852\\430125842.py:15: FutureWarning: Calling float on a single element Series is deprecated and will raise a TypeError in the future. Use float(ser.iloc[0]) instead\n",
      "  previous_open  = float(df.iloc[0][\"Open\"])\n",
      "C:\\Users\\diego\\AppData\\Local\\Temp\\ipykernel_50852\\430125842.py:16: FutureWarning: Calling float on a single element Series is deprecated and will raise a TypeError in the future. Use float(ser.iloc[0]) instead\n",
      "  previous_close = float(df.iloc[0][\"Close\"])\n"
     ]
    },
    {
     "name": "stdout",
     "output_type": "stream",
     "text": [
      "Fetching data for CINF...\n"
     ]
    },
    {
     "name": "stderr",
     "output_type": "stream",
     "text": [
      "[*********************100%***********************]  1 of 1 completed\n",
      "C:\\Users\\diego\\AppData\\Local\\Temp\\ipykernel_50852\\430125842.py:13: FutureWarning: Calling float on a single element Series is deprecated and will raise a TypeError in the future. Use float(ser.iloc[0]) instead\n",
      "  open_price     = float(df.iloc[1][\"Open\"])\n",
      "C:\\Users\\diego\\AppData\\Local\\Temp\\ipykernel_50852\\430125842.py:14: FutureWarning: Calling float on a single element Series is deprecated and will raise a TypeError in the future. Use float(ser.iloc[0]) instead\n",
      "  close_price    = float(df.iloc[1][\"Close\"])\n",
      "C:\\Users\\diego\\AppData\\Local\\Temp\\ipykernel_50852\\430125842.py:15: FutureWarning: Calling float on a single element Series is deprecated and will raise a TypeError in the future. Use float(ser.iloc[0]) instead\n",
      "  previous_open  = float(df.iloc[0][\"Open\"])\n",
      "C:\\Users\\diego\\AppData\\Local\\Temp\\ipykernel_50852\\430125842.py:16: FutureWarning: Calling float on a single element Series is deprecated and will raise a TypeError in the future. Use float(ser.iloc[0]) instead\n",
      "  previous_close = float(df.iloc[0][\"Close\"])\n"
     ]
    },
    {
     "name": "stdout",
     "output_type": "stream",
     "text": [
      "Fetching data for CTAS...\n"
     ]
    },
    {
     "name": "stderr",
     "output_type": "stream",
     "text": [
      "[*********************100%***********************]  1 of 1 completed\n",
      "C:\\Users\\diego\\AppData\\Local\\Temp\\ipykernel_50852\\430125842.py:13: FutureWarning: Calling float on a single element Series is deprecated and will raise a TypeError in the future. Use float(ser.iloc[0]) instead\n",
      "  open_price     = float(df.iloc[1][\"Open\"])\n",
      "C:\\Users\\diego\\AppData\\Local\\Temp\\ipykernel_50852\\430125842.py:14: FutureWarning: Calling float on a single element Series is deprecated and will raise a TypeError in the future. Use float(ser.iloc[0]) instead\n",
      "  close_price    = float(df.iloc[1][\"Close\"])\n",
      "C:\\Users\\diego\\AppData\\Local\\Temp\\ipykernel_50852\\430125842.py:15: FutureWarning: Calling float on a single element Series is deprecated and will raise a TypeError in the future. Use float(ser.iloc[0]) instead\n",
      "  previous_open  = float(df.iloc[0][\"Open\"])\n",
      "C:\\Users\\diego\\AppData\\Local\\Temp\\ipykernel_50852\\430125842.py:16: FutureWarning: Calling float on a single element Series is deprecated and will raise a TypeError in the future. Use float(ser.iloc[0]) instead\n",
      "  previous_close = float(df.iloc[0][\"Close\"])\n"
     ]
    },
    {
     "name": "stdout",
     "output_type": "stream",
     "text": [
      "Fetching data for CSCO...\n"
     ]
    },
    {
     "name": "stderr",
     "output_type": "stream",
     "text": [
      "[*********************100%***********************]  1 of 1 completed\n",
      "C:\\Users\\diego\\AppData\\Local\\Temp\\ipykernel_50852\\430125842.py:13: FutureWarning: Calling float on a single element Series is deprecated and will raise a TypeError in the future. Use float(ser.iloc[0]) instead\n",
      "  open_price     = float(df.iloc[1][\"Open\"])\n",
      "C:\\Users\\diego\\AppData\\Local\\Temp\\ipykernel_50852\\430125842.py:14: FutureWarning: Calling float on a single element Series is deprecated and will raise a TypeError in the future. Use float(ser.iloc[0]) instead\n",
      "  close_price    = float(df.iloc[1][\"Close\"])\n",
      "C:\\Users\\diego\\AppData\\Local\\Temp\\ipykernel_50852\\430125842.py:15: FutureWarning: Calling float on a single element Series is deprecated and will raise a TypeError in the future. Use float(ser.iloc[0]) instead\n",
      "  previous_open  = float(df.iloc[0][\"Open\"])\n",
      "C:\\Users\\diego\\AppData\\Local\\Temp\\ipykernel_50852\\430125842.py:16: FutureWarning: Calling float on a single element Series is deprecated and will raise a TypeError in the future. Use float(ser.iloc[0]) instead\n",
      "  previous_close = float(df.iloc[0][\"Close\"])\n"
     ]
    },
    {
     "name": "stdout",
     "output_type": "stream",
     "text": [
      "Fetching data for C...\n"
     ]
    },
    {
     "name": "stderr",
     "output_type": "stream",
     "text": [
      "[*********************100%***********************]  1 of 1 completed\n",
      "C:\\Users\\diego\\AppData\\Local\\Temp\\ipykernel_50852\\430125842.py:13: FutureWarning: Calling float on a single element Series is deprecated and will raise a TypeError in the future. Use float(ser.iloc[0]) instead\n",
      "  open_price     = float(df.iloc[1][\"Open\"])\n",
      "C:\\Users\\diego\\AppData\\Local\\Temp\\ipykernel_50852\\430125842.py:14: FutureWarning: Calling float on a single element Series is deprecated and will raise a TypeError in the future. Use float(ser.iloc[0]) instead\n",
      "  close_price    = float(df.iloc[1][\"Close\"])\n",
      "C:\\Users\\diego\\AppData\\Local\\Temp\\ipykernel_50852\\430125842.py:15: FutureWarning: Calling float on a single element Series is deprecated and will raise a TypeError in the future. Use float(ser.iloc[0]) instead\n",
      "  previous_open  = float(df.iloc[0][\"Open\"])\n",
      "C:\\Users\\diego\\AppData\\Local\\Temp\\ipykernel_50852\\430125842.py:16: FutureWarning: Calling float on a single element Series is deprecated and will raise a TypeError in the future. Use float(ser.iloc[0]) instead\n",
      "  previous_close = float(df.iloc[0][\"Close\"])\n"
     ]
    },
    {
     "name": "stdout",
     "output_type": "stream",
     "text": [
      "Fetching data for CFG...\n"
     ]
    },
    {
     "name": "stderr",
     "output_type": "stream",
     "text": [
      "[*********************100%***********************]  1 of 1 completed\n",
      "C:\\Users\\diego\\AppData\\Local\\Temp\\ipykernel_50852\\430125842.py:13: FutureWarning: Calling float on a single element Series is deprecated and will raise a TypeError in the future. Use float(ser.iloc[0]) instead\n",
      "  open_price     = float(df.iloc[1][\"Open\"])\n",
      "C:\\Users\\diego\\AppData\\Local\\Temp\\ipykernel_50852\\430125842.py:14: FutureWarning: Calling float on a single element Series is deprecated and will raise a TypeError in the future. Use float(ser.iloc[0]) instead\n",
      "  close_price    = float(df.iloc[1][\"Close\"])\n",
      "C:\\Users\\diego\\AppData\\Local\\Temp\\ipykernel_50852\\430125842.py:15: FutureWarning: Calling float on a single element Series is deprecated and will raise a TypeError in the future. Use float(ser.iloc[0]) instead\n",
      "  previous_open  = float(df.iloc[0][\"Open\"])\n",
      "C:\\Users\\diego\\AppData\\Local\\Temp\\ipykernel_50852\\430125842.py:16: FutureWarning: Calling float on a single element Series is deprecated and will raise a TypeError in the future. Use float(ser.iloc[0]) instead\n",
      "  previous_close = float(df.iloc[0][\"Close\"])\n"
     ]
    },
    {
     "name": "stdout",
     "output_type": "stream",
     "text": [
      "Fetching data for CLX...\n"
     ]
    },
    {
     "name": "stderr",
     "output_type": "stream",
     "text": [
      "[*********************100%***********************]  1 of 1 completed\n",
      "C:\\Users\\diego\\AppData\\Local\\Temp\\ipykernel_50852\\430125842.py:13: FutureWarning: Calling float on a single element Series is deprecated and will raise a TypeError in the future. Use float(ser.iloc[0]) instead\n",
      "  open_price     = float(df.iloc[1][\"Open\"])\n",
      "C:\\Users\\diego\\AppData\\Local\\Temp\\ipykernel_50852\\430125842.py:14: FutureWarning: Calling float on a single element Series is deprecated and will raise a TypeError in the future. Use float(ser.iloc[0]) instead\n",
      "  close_price    = float(df.iloc[1][\"Close\"])\n",
      "C:\\Users\\diego\\AppData\\Local\\Temp\\ipykernel_50852\\430125842.py:15: FutureWarning: Calling float on a single element Series is deprecated and will raise a TypeError in the future. Use float(ser.iloc[0]) instead\n",
      "  previous_open  = float(df.iloc[0][\"Open\"])\n",
      "C:\\Users\\diego\\AppData\\Local\\Temp\\ipykernel_50852\\430125842.py:16: FutureWarning: Calling float on a single element Series is deprecated and will raise a TypeError in the future. Use float(ser.iloc[0]) instead\n",
      "  previous_close = float(df.iloc[0][\"Close\"])\n"
     ]
    },
    {
     "name": "stdout",
     "output_type": "stream",
     "text": [
      "Fetching data for CME...\n"
     ]
    },
    {
     "name": "stderr",
     "output_type": "stream",
     "text": [
      "[*********************100%***********************]  1 of 1 completed\n",
      "C:\\Users\\diego\\AppData\\Local\\Temp\\ipykernel_50852\\430125842.py:13: FutureWarning: Calling float on a single element Series is deprecated and will raise a TypeError in the future. Use float(ser.iloc[0]) instead\n",
      "  open_price     = float(df.iloc[1][\"Open\"])\n",
      "C:\\Users\\diego\\AppData\\Local\\Temp\\ipykernel_50852\\430125842.py:14: FutureWarning: Calling float on a single element Series is deprecated and will raise a TypeError in the future. Use float(ser.iloc[0]) instead\n",
      "  close_price    = float(df.iloc[1][\"Close\"])\n",
      "C:\\Users\\diego\\AppData\\Local\\Temp\\ipykernel_50852\\430125842.py:15: FutureWarning: Calling float on a single element Series is deprecated and will raise a TypeError in the future. Use float(ser.iloc[0]) instead\n",
      "  previous_open  = float(df.iloc[0][\"Open\"])\n",
      "C:\\Users\\diego\\AppData\\Local\\Temp\\ipykernel_50852\\430125842.py:16: FutureWarning: Calling float on a single element Series is deprecated and will raise a TypeError in the future. Use float(ser.iloc[0]) instead\n",
      "  previous_close = float(df.iloc[0][\"Close\"])\n"
     ]
    },
    {
     "name": "stdout",
     "output_type": "stream",
     "text": [
      "Fetching data for CMS...\n"
     ]
    },
    {
     "name": "stderr",
     "output_type": "stream",
     "text": [
      "[*********************100%***********************]  1 of 1 completed\n",
      "C:\\Users\\diego\\AppData\\Local\\Temp\\ipykernel_50852\\430125842.py:13: FutureWarning: Calling float on a single element Series is deprecated and will raise a TypeError in the future. Use float(ser.iloc[0]) instead\n",
      "  open_price     = float(df.iloc[1][\"Open\"])\n",
      "C:\\Users\\diego\\AppData\\Local\\Temp\\ipykernel_50852\\430125842.py:14: FutureWarning: Calling float on a single element Series is deprecated and will raise a TypeError in the future. Use float(ser.iloc[0]) instead\n",
      "  close_price    = float(df.iloc[1][\"Close\"])\n",
      "C:\\Users\\diego\\AppData\\Local\\Temp\\ipykernel_50852\\430125842.py:15: FutureWarning: Calling float on a single element Series is deprecated and will raise a TypeError in the future. Use float(ser.iloc[0]) instead\n",
      "  previous_open  = float(df.iloc[0][\"Open\"])\n",
      "C:\\Users\\diego\\AppData\\Local\\Temp\\ipykernel_50852\\430125842.py:16: FutureWarning: Calling float on a single element Series is deprecated and will raise a TypeError in the future. Use float(ser.iloc[0]) instead\n",
      "  previous_close = float(df.iloc[0][\"Close\"])\n"
     ]
    },
    {
     "name": "stdout",
     "output_type": "stream",
     "text": [
      "Fetching data for KO...\n"
     ]
    },
    {
     "name": "stderr",
     "output_type": "stream",
     "text": [
      "[*********************100%***********************]  1 of 1 completed\n",
      "C:\\Users\\diego\\AppData\\Local\\Temp\\ipykernel_50852\\430125842.py:13: FutureWarning: Calling float on a single element Series is deprecated and will raise a TypeError in the future. Use float(ser.iloc[0]) instead\n",
      "  open_price     = float(df.iloc[1][\"Open\"])\n",
      "C:\\Users\\diego\\AppData\\Local\\Temp\\ipykernel_50852\\430125842.py:14: FutureWarning: Calling float on a single element Series is deprecated and will raise a TypeError in the future. Use float(ser.iloc[0]) instead\n",
      "  close_price    = float(df.iloc[1][\"Close\"])\n",
      "C:\\Users\\diego\\AppData\\Local\\Temp\\ipykernel_50852\\430125842.py:15: FutureWarning: Calling float on a single element Series is deprecated and will raise a TypeError in the future. Use float(ser.iloc[0]) instead\n",
      "  previous_open  = float(df.iloc[0][\"Open\"])\n",
      "C:\\Users\\diego\\AppData\\Local\\Temp\\ipykernel_50852\\430125842.py:16: FutureWarning: Calling float on a single element Series is deprecated and will raise a TypeError in the future. Use float(ser.iloc[0]) instead\n",
      "  previous_close = float(df.iloc[0][\"Close\"])\n"
     ]
    },
    {
     "name": "stdout",
     "output_type": "stream",
     "text": [
      "Fetching data for CTSH...\n"
     ]
    },
    {
     "name": "stderr",
     "output_type": "stream",
     "text": [
      "[*********************100%***********************]  1 of 1 completed\n",
      "C:\\Users\\diego\\AppData\\Local\\Temp\\ipykernel_50852\\430125842.py:13: FutureWarning: Calling float on a single element Series is deprecated and will raise a TypeError in the future. Use float(ser.iloc[0]) instead\n",
      "  open_price     = float(df.iloc[1][\"Open\"])\n",
      "C:\\Users\\diego\\AppData\\Local\\Temp\\ipykernel_50852\\430125842.py:14: FutureWarning: Calling float on a single element Series is deprecated and will raise a TypeError in the future. Use float(ser.iloc[0]) instead\n",
      "  close_price    = float(df.iloc[1][\"Close\"])\n",
      "C:\\Users\\diego\\AppData\\Local\\Temp\\ipykernel_50852\\430125842.py:15: FutureWarning: Calling float on a single element Series is deprecated and will raise a TypeError in the future. Use float(ser.iloc[0]) instead\n",
      "  previous_open  = float(df.iloc[0][\"Open\"])\n",
      "C:\\Users\\diego\\AppData\\Local\\Temp\\ipykernel_50852\\430125842.py:16: FutureWarning: Calling float on a single element Series is deprecated and will raise a TypeError in the future. Use float(ser.iloc[0]) instead\n",
      "  previous_close = float(df.iloc[0][\"Close\"])\n"
     ]
    },
    {
     "name": "stdout",
     "output_type": "stream",
     "text": [
      "Fetching data for CL...\n"
     ]
    },
    {
     "name": "stderr",
     "output_type": "stream",
     "text": [
      "[*********************100%***********************]  1 of 1 completed\n",
      "C:\\Users\\diego\\AppData\\Local\\Temp\\ipykernel_50852\\430125842.py:13: FutureWarning: Calling float on a single element Series is deprecated and will raise a TypeError in the future. Use float(ser.iloc[0]) instead\n",
      "  open_price     = float(df.iloc[1][\"Open\"])\n",
      "C:\\Users\\diego\\AppData\\Local\\Temp\\ipykernel_50852\\430125842.py:14: FutureWarning: Calling float on a single element Series is deprecated and will raise a TypeError in the future. Use float(ser.iloc[0]) instead\n",
      "  close_price    = float(df.iloc[1][\"Close\"])\n",
      "C:\\Users\\diego\\AppData\\Local\\Temp\\ipykernel_50852\\430125842.py:15: FutureWarning: Calling float on a single element Series is deprecated and will raise a TypeError in the future. Use float(ser.iloc[0]) instead\n",
      "  previous_open  = float(df.iloc[0][\"Open\"])\n",
      "C:\\Users\\diego\\AppData\\Local\\Temp\\ipykernel_50852\\430125842.py:16: FutureWarning: Calling float on a single element Series is deprecated and will raise a TypeError in the future. Use float(ser.iloc[0]) instead\n",
      "  previous_close = float(df.iloc[0][\"Close\"])\n"
     ]
    },
    {
     "name": "stdout",
     "output_type": "stream",
     "text": [
      "Fetching data for CMCSA...\n"
     ]
    },
    {
     "name": "stderr",
     "output_type": "stream",
     "text": [
      "[*********************100%***********************]  1 of 1 completed\n",
      "C:\\Users\\diego\\AppData\\Local\\Temp\\ipykernel_50852\\430125842.py:13: FutureWarning: Calling float on a single element Series is deprecated and will raise a TypeError in the future. Use float(ser.iloc[0]) instead\n",
      "  open_price     = float(df.iloc[1][\"Open\"])\n",
      "C:\\Users\\diego\\AppData\\Local\\Temp\\ipykernel_50852\\430125842.py:14: FutureWarning: Calling float on a single element Series is deprecated and will raise a TypeError in the future. Use float(ser.iloc[0]) instead\n",
      "  close_price    = float(df.iloc[1][\"Close\"])\n",
      "C:\\Users\\diego\\AppData\\Local\\Temp\\ipykernel_50852\\430125842.py:15: FutureWarning: Calling float on a single element Series is deprecated and will raise a TypeError in the future. Use float(ser.iloc[0]) instead\n",
      "  previous_open  = float(df.iloc[0][\"Open\"])\n",
      "C:\\Users\\diego\\AppData\\Local\\Temp\\ipykernel_50852\\430125842.py:16: FutureWarning: Calling float on a single element Series is deprecated and will raise a TypeError in the future. Use float(ser.iloc[0]) instead\n",
      "  previous_close = float(df.iloc[0][\"Close\"])\n"
     ]
    },
    {
     "name": "stdout",
     "output_type": "stream",
     "text": [
      "Fetching data for CAG...\n"
     ]
    },
    {
     "name": "stderr",
     "output_type": "stream",
     "text": [
      "[*********************100%***********************]  1 of 1 completed\n",
      "C:\\Users\\diego\\AppData\\Local\\Temp\\ipykernel_50852\\430125842.py:13: FutureWarning: Calling float on a single element Series is deprecated and will raise a TypeError in the future. Use float(ser.iloc[0]) instead\n",
      "  open_price     = float(df.iloc[1][\"Open\"])\n",
      "C:\\Users\\diego\\AppData\\Local\\Temp\\ipykernel_50852\\430125842.py:14: FutureWarning: Calling float on a single element Series is deprecated and will raise a TypeError in the future. Use float(ser.iloc[0]) instead\n",
      "  close_price    = float(df.iloc[1][\"Close\"])\n",
      "C:\\Users\\diego\\AppData\\Local\\Temp\\ipykernel_50852\\430125842.py:15: FutureWarning: Calling float on a single element Series is deprecated and will raise a TypeError in the future. Use float(ser.iloc[0]) instead\n",
      "  previous_open  = float(df.iloc[0][\"Open\"])\n",
      "C:\\Users\\diego\\AppData\\Local\\Temp\\ipykernel_50852\\430125842.py:16: FutureWarning: Calling float on a single element Series is deprecated and will raise a TypeError in the future. Use float(ser.iloc[0]) instead\n",
      "  previous_close = float(df.iloc[0][\"Close\"])\n"
     ]
    },
    {
     "name": "stdout",
     "output_type": "stream",
     "text": [
      "Fetching data for COP...\n"
     ]
    },
    {
     "name": "stderr",
     "output_type": "stream",
     "text": [
      "[*********************100%***********************]  1 of 1 completed\n",
      "C:\\Users\\diego\\AppData\\Local\\Temp\\ipykernel_50852\\430125842.py:13: FutureWarning: Calling float on a single element Series is deprecated and will raise a TypeError in the future. Use float(ser.iloc[0]) instead\n",
      "  open_price     = float(df.iloc[1][\"Open\"])\n",
      "C:\\Users\\diego\\AppData\\Local\\Temp\\ipykernel_50852\\430125842.py:14: FutureWarning: Calling float on a single element Series is deprecated and will raise a TypeError in the future. Use float(ser.iloc[0]) instead\n",
      "  close_price    = float(df.iloc[1][\"Close\"])\n",
      "C:\\Users\\diego\\AppData\\Local\\Temp\\ipykernel_50852\\430125842.py:15: FutureWarning: Calling float on a single element Series is deprecated and will raise a TypeError in the future. Use float(ser.iloc[0]) instead\n",
      "  previous_open  = float(df.iloc[0][\"Open\"])\n",
      "C:\\Users\\diego\\AppData\\Local\\Temp\\ipykernel_50852\\430125842.py:16: FutureWarning: Calling float on a single element Series is deprecated and will raise a TypeError in the future. Use float(ser.iloc[0]) instead\n",
      "  previous_close = float(df.iloc[0][\"Close\"])\n"
     ]
    },
    {
     "name": "stdout",
     "output_type": "stream",
     "text": [
      "Fetching data for ED...\n"
     ]
    },
    {
     "name": "stderr",
     "output_type": "stream",
     "text": [
      "[*********************100%***********************]  1 of 1 completed\n",
      "C:\\Users\\diego\\AppData\\Local\\Temp\\ipykernel_50852\\430125842.py:13: FutureWarning: Calling float on a single element Series is deprecated and will raise a TypeError in the future. Use float(ser.iloc[0]) instead\n",
      "  open_price     = float(df.iloc[1][\"Open\"])\n",
      "C:\\Users\\diego\\AppData\\Local\\Temp\\ipykernel_50852\\430125842.py:14: FutureWarning: Calling float on a single element Series is deprecated and will raise a TypeError in the future. Use float(ser.iloc[0]) instead\n",
      "  close_price    = float(df.iloc[1][\"Close\"])\n",
      "C:\\Users\\diego\\AppData\\Local\\Temp\\ipykernel_50852\\430125842.py:15: FutureWarning: Calling float on a single element Series is deprecated and will raise a TypeError in the future. Use float(ser.iloc[0]) instead\n",
      "  previous_open  = float(df.iloc[0][\"Open\"])\n",
      "C:\\Users\\diego\\AppData\\Local\\Temp\\ipykernel_50852\\430125842.py:16: FutureWarning: Calling float on a single element Series is deprecated and will raise a TypeError in the future. Use float(ser.iloc[0]) instead\n",
      "  previous_close = float(df.iloc[0][\"Close\"])\n"
     ]
    },
    {
     "name": "stdout",
     "output_type": "stream",
     "text": [
      "Fetching data for STZ...\n"
     ]
    },
    {
     "name": "stderr",
     "output_type": "stream",
     "text": [
      "[*********************100%***********************]  1 of 1 completed\n",
      "C:\\Users\\diego\\AppData\\Local\\Temp\\ipykernel_50852\\430125842.py:13: FutureWarning: Calling float on a single element Series is deprecated and will raise a TypeError in the future. Use float(ser.iloc[0]) instead\n",
      "  open_price     = float(df.iloc[1][\"Open\"])\n",
      "C:\\Users\\diego\\AppData\\Local\\Temp\\ipykernel_50852\\430125842.py:14: FutureWarning: Calling float on a single element Series is deprecated and will raise a TypeError in the future. Use float(ser.iloc[0]) instead\n",
      "  close_price    = float(df.iloc[1][\"Close\"])\n",
      "C:\\Users\\diego\\AppData\\Local\\Temp\\ipykernel_50852\\430125842.py:15: FutureWarning: Calling float on a single element Series is deprecated and will raise a TypeError in the future. Use float(ser.iloc[0]) instead\n",
      "  previous_open  = float(df.iloc[0][\"Open\"])\n",
      "C:\\Users\\diego\\AppData\\Local\\Temp\\ipykernel_50852\\430125842.py:16: FutureWarning: Calling float on a single element Series is deprecated and will raise a TypeError in the future. Use float(ser.iloc[0]) instead\n",
      "  previous_close = float(df.iloc[0][\"Close\"])\n"
     ]
    },
    {
     "name": "stdout",
     "output_type": "stream",
     "text": [
      "Fetching data for CEG...\n"
     ]
    },
    {
     "name": "stderr",
     "output_type": "stream",
     "text": [
      "[*********************100%***********************]  1 of 1 completed\n",
      "C:\\Users\\diego\\AppData\\Local\\Temp\\ipykernel_50852\\430125842.py:13: FutureWarning: Calling float on a single element Series is deprecated and will raise a TypeError in the future. Use float(ser.iloc[0]) instead\n",
      "  open_price     = float(df.iloc[1][\"Open\"])\n",
      "C:\\Users\\diego\\AppData\\Local\\Temp\\ipykernel_50852\\430125842.py:14: FutureWarning: Calling float on a single element Series is deprecated and will raise a TypeError in the future. Use float(ser.iloc[0]) instead\n",
      "  close_price    = float(df.iloc[1][\"Close\"])\n",
      "C:\\Users\\diego\\AppData\\Local\\Temp\\ipykernel_50852\\430125842.py:15: FutureWarning: Calling float on a single element Series is deprecated and will raise a TypeError in the future. Use float(ser.iloc[0]) instead\n",
      "  previous_open  = float(df.iloc[0][\"Open\"])\n",
      "C:\\Users\\diego\\AppData\\Local\\Temp\\ipykernel_50852\\430125842.py:16: FutureWarning: Calling float on a single element Series is deprecated and will raise a TypeError in the future. Use float(ser.iloc[0]) instead\n",
      "  previous_close = float(df.iloc[0][\"Close\"])\n"
     ]
    },
    {
     "name": "stdout",
     "output_type": "stream",
     "text": [
      "Fetching data for COO...\n"
     ]
    },
    {
     "name": "stderr",
     "output_type": "stream",
     "text": [
      "[*********************100%***********************]  1 of 1 completed\n",
      "C:\\Users\\diego\\AppData\\Local\\Temp\\ipykernel_50852\\430125842.py:13: FutureWarning: Calling float on a single element Series is deprecated and will raise a TypeError in the future. Use float(ser.iloc[0]) instead\n",
      "  open_price     = float(df.iloc[1][\"Open\"])\n",
      "C:\\Users\\diego\\AppData\\Local\\Temp\\ipykernel_50852\\430125842.py:14: FutureWarning: Calling float on a single element Series is deprecated and will raise a TypeError in the future. Use float(ser.iloc[0]) instead\n",
      "  close_price    = float(df.iloc[1][\"Close\"])\n",
      "C:\\Users\\diego\\AppData\\Local\\Temp\\ipykernel_50852\\430125842.py:15: FutureWarning: Calling float on a single element Series is deprecated and will raise a TypeError in the future. Use float(ser.iloc[0]) instead\n",
      "  previous_open  = float(df.iloc[0][\"Open\"])\n",
      "C:\\Users\\diego\\AppData\\Local\\Temp\\ipykernel_50852\\430125842.py:16: FutureWarning: Calling float on a single element Series is deprecated and will raise a TypeError in the future. Use float(ser.iloc[0]) instead\n",
      "  previous_close = float(df.iloc[0][\"Close\"])\n"
     ]
    },
    {
     "name": "stdout",
     "output_type": "stream",
     "text": [
      "Fetching data for CPRT...\n"
     ]
    },
    {
     "name": "stderr",
     "output_type": "stream",
     "text": [
      "[*********************100%***********************]  1 of 1 completed\n",
      "C:\\Users\\diego\\AppData\\Local\\Temp\\ipykernel_50852\\430125842.py:13: FutureWarning: Calling float on a single element Series is deprecated and will raise a TypeError in the future. Use float(ser.iloc[0]) instead\n",
      "  open_price     = float(df.iloc[1][\"Open\"])\n",
      "C:\\Users\\diego\\AppData\\Local\\Temp\\ipykernel_50852\\430125842.py:14: FutureWarning: Calling float on a single element Series is deprecated and will raise a TypeError in the future. Use float(ser.iloc[0]) instead\n",
      "  close_price    = float(df.iloc[1][\"Close\"])\n",
      "C:\\Users\\diego\\AppData\\Local\\Temp\\ipykernel_50852\\430125842.py:15: FutureWarning: Calling float on a single element Series is deprecated and will raise a TypeError in the future. Use float(ser.iloc[0]) instead\n",
      "  previous_open  = float(df.iloc[0][\"Open\"])\n",
      "C:\\Users\\diego\\AppData\\Local\\Temp\\ipykernel_50852\\430125842.py:16: FutureWarning: Calling float on a single element Series is deprecated and will raise a TypeError in the future. Use float(ser.iloc[0]) instead\n",
      "  previous_close = float(df.iloc[0][\"Close\"])\n"
     ]
    },
    {
     "name": "stdout",
     "output_type": "stream",
     "text": [
      "Fetching data for GLW...\n"
     ]
    },
    {
     "name": "stderr",
     "output_type": "stream",
     "text": [
      "[*********************100%***********************]  1 of 1 completed\n",
      "C:\\Users\\diego\\AppData\\Local\\Temp\\ipykernel_50852\\430125842.py:13: FutureWarning: Calling float on a single element Series is deprecated and will raise a TypeError in the future. Use float(ser.iloc[0]) instead\n",
      "  open_price     = float(df.iloc[1][\"Open\"])\n",
      "C:\\Users\\diego\\AppData\\Local\\Temp\\ipykernel_50852\\430125842.py:14: FutureWarning: Calling float on a single element Series is deprecated and will raise a TypeError in the future. Use float(ser.iloc[0]) instead\n",
      "  close_price    = float(df.iloc[1][\"Close\"])\n",
      "C:\\Users\\diego\\AppData\\Local\\Temp\\ipykernel_50852\\430125842.py:15: FutureWarning: Calling float on a single element Series is deprecated and will raise a TypeError in the future. Use float(ser.iloc[0]) instead\n",
      "  previous_open  = float(df.iloc[0][\"Open\"])\n",
      "C:\\Users\\diego\\AppData\\Local\\Temp\\ipykernel_50852\\430125842.py:16: FutureWarning: Calling float on a single element Series is deprecated and will raise a TypeError in the future. Use float(ser.iloc[0]) instead\n",
      "  previous_close = float(df.iloc[0][\"Close\"])\n"
     ]
    },
    {
     "name": "stdout",
     "output_type": "stream",
     "text": [
      "Fetching data for CPAY...\n"
     ]
    },
    {
     "name": "stderr",
     "output_type": "stream",
     "text": [
      "[*********************100%***********************]  1 of 1 completed\n",
      "C:\\Users\\diego\\AppData\\Local\\Temp\\ipykernel_50852\\430125842.py:13: FutureWarning: Calling float on a single element Series is deprecated and will raise a TypeError in the future. Use float(ser.iloc[0]) instead\n",
      "  open_price     = float(df.iloc[1][\"Open\"])\n",
      "C:\\Users\\diego\\AppData\\Local\\Temp\\ipykernel_50852\\430125842.py:14: FutureWarning: Calling float on a single element Series is deprecated and will raise a TypeError in the future. Use float(ser.iloc[0]) instead\n",
      "  close_price    = float(df.iloc[1][\"Close\"])\n",
      "C:\\Users\\diego\\AppData\\Local\\Temp\\ipykernel_50852\\430125842.py:15: FutureWarning: Calling float on a single element Series is deprecated and will raise a TypeError in the future. Use float(ser.iloc[0]) instead\n",
      "  previous_open  = float(df.iloc[0][\"Open\"])\n",
      "C:\\Users\\diego\\AppData\\Local\\Temp\\ipykernel_50852\\430125842.py:16: FutureWarning: Calling float on a single element Series is deprecated and will raise a TypeError in the future. Use float(ser.iloc[0]) instead\n",
      "  previous_close = float(df.iloc[0][\"Close\"])\n"
     ]
    },
    {
     "name": "stdout",
     "output_type": "stream",
     "text": [
      "Fetching data for CTVA...\n"
     ]
    },
    {
     "name": "stderr",
     "output_type": "stream",
     "text": [
      "[*********************100%***********************]  1 of 1 completed\n",
      "C:\\Users\\diego\\AppData\\Local\\Temp\\ipykernel_50852\\430125842.py:13: FutureWarning: Calling float on a single element Series is deprecated and will raise a TypeError in the future. Use float(ser.iloc[0]) instead\n",
      "  open_price     = float(df.iloc[1][\"Open\"])\n",
      "C:\\Users\\diego\\AppData\\Local\\Temp\\ipykernel_50852\\430125842.py:14: FutureWarning: Calling float on a single element Series is deprecated and will raise a TypeError in the future. Use float(ser.iloc[0]) instead\n",
      "  close_price    = float(df.iloc[1][\"Close\"])\n",
      "C:\\Users\\diego\\AppData\\Local\\Temp\\ipykernel_50852\\430125842.py:15: FutureWarning: Calling float on a single element Series is deprecated and will raise a TypeError in the future. Use float(ser.iloc[0]) instead\n",
      "  previous_open  = float(df.iloc[0][\"Open\"])\n",
      "C:\\Users\\diego\\AppData\\Local\\Temp\\ipykernel_50852\\430125842.py:16: FutureWarning: Calling float on a single element Series is deprecated and will raise a TypeError in the future. Use float(ser.iloc[0]) instead\n",
      "  previous_close = float(df.iloc[0][\"Close\"])\n"
     ]
    },
    {
     "name": "stdout",
     "output_type": "stream",
     "text": [
      "Fetching data for CSGP...\n"
     ]
    },
    {
     "name": "stderr",
     "output_type": "stream",
     "text": [
      "[*********************100%***********************]  1 of 1 completed\n",
      "C:\\Users\\diego\\AppData\\Local\\Temp\\ipykernel_50852\\430125842.py:13: FutureWarning: Calling float on a single element Series is deprecated and will raise a TypeError in the future. Use float(ser.iloc[0]) instead\n",
      "  open_price     = float(df.iloc[1][\"Open\"])\n",
      "C:\\Users\\diego\\AppData\\Local\\Temp\\ipykernel_50852\\430125842.py:14: FutureWarning: Calling float on a single element Series is deprecated and will raise a TypeError in the future. Use float(ser.iloc[0]) instead\n",
      "  close_price    = float(df.iloc[1][\"Close\"])\n",
      "C:\\Users\\diego\\AppData\\Local\\Temp\\ipykernel_50852\\430125842.py:15: FutureWarning: Calling float on a single element Series is deprecated and will raise a TypeError in the future. Use float(ser.iloc[0]) instead\n",
      "  previous_open  = float(df.iloc[0][\"Open\"])\n",
      "C:\\Users\\diego\\AppData\\Local\\Temp\\ipykernel_50852\\430125842.py:16: FutureWarning: Calling float on a single element Series is deprecated and will raise a TypeError in the future. Use float(ser.iloc[0]) instead\n",
      "  previous_close = float(df.iloc[0][\"Close\"])\n"
     ]
    },
    {
     "name": "stdout",
     "output_type": "stream",
     "text": [
      "Fetching data for COST...\n"
     ]
    },
    {
     "name": "stderr",
     "output_type": "stream",
     "text": [
      "[*********************100%***********************]  1 of 1 completed\n",
      "C:\\Users\\diego\\AppData\\Local\\Temp\\ipykernel_50852\\430125842.py:13: FutureWarning: Calling float on a single element Series is deprecated and will raise a TypeError in the future. Use float(ser.iloc[0]) instead\n",
      "  open_price     = float(df.iloc[1][\"Open\"])\n",
      "C:\\Users\\diego\\AppData\\Local\\Temp\\ipykernel_50852\\430125842.py:14: FutureWarning: Calling float on a single element Series is deprecated and will raise a TypeError in the future. Use float(ser.iloc[0]) instead\n",
      "  close_price    = float(df.iloc[1][\"Close\"])\n",
      "C:\\Users\\diego\\AppData\\Local\\Temp\\ipykernel_50852\\430125842.py:15: FutureWarning: Calling float on a single element Series is deprecated and will raise a TypeError in the future. Use float(ser.iloc[0]) instead\n",
      "  previous_open  = float(df.iloc[0][\"Open\"])\n",
      "C:\\Users\\diego\\AppData\\Local\\Temp\\ipykernel_50852\\430125842.py:16: FutureWarning: Calling float on a single element Series is deprecated and will raise a TypeError in the future. Use float(ser.iloc[0]) instead\n",
      "  previous_close = float(df.iloc[0][\"Close\"])\n"
     ]
    },
    {
     "name": "stdout",
     "output_type": "stream",
     "text": [
      "Fetching data for CTRA...\n"
     ]
    },
    {
     "name": "stderr",
     "output_type": "stream",
     "text": [
      "[*********************100%***********************]  1 of 1 completed\n",
      "C:\\Users\\diego\\AppData\\Local\\Temp\\ipykernel_50852\\430125842.py:13: FutureWarning: Calling float on a single element Series is deprecated and will raise a TypeError in the future. Use float(ser.iloc[0]) instead\n",
      "  open_price     = float(df.iloc[1][\"Open\"])\n",
      "C:\\Users\\diego\\AppData\\Local\\Temp\\ipykernel_50852\\430125842.py:14: FutureWarning: Calling float on a single element Series is deprecated and will raise a TypeError in the future. Use float(ser.iloc[0]) instead\n",
      "  close_price    = float(df.iloc[1][\"Close\"])\n",
      "C:\\Users\\diego\\AppData\\Local\\Temp\\ipykernel_50852\\430125842.py:15: FutureWarning: Calling float on a single element Series is deprecated and will raise a TypeError in the future. Use float(ser.iloc[0]) instead\n",
      "  previous_open  = float(df.iloc[0][\"Open\"])\n",
      "C:\\Users\\diego\\AppData\\Local\\Temp\\ipykernel_50852\\430125842.py:16: FutureWarning: Calling float on a single element Series is deprecated and will raise a TypeError in the future. Use float(ser.iloc[0]) instead\n",
      "  previous_close = float(df.iloc[0][\"Close\"])\n"
     ]
    },
    {
     "name": "stdout",
     "output_type": "stream",
     "text": [
      "Fetching data for CRWD...\n"
     ]
    },
    {
     "name": "stderr",
     "output_type": "stream",
     "text": [
      "[*********************100%***********************]  1 of 1 completed\n",
      "C:\\Users\\diego\\AppData\\Local\\Temp\\ipykernel_50852\\430125842.py:13: FutureWarning: Calling float on a single element Series is deprecated and will raise a TypeError in the future. Use float(ser.iloc[0]) instead\n",
      "  open_price     = float(df.iloc[1][\"Open\"])\n",
      "C:\\Users\\diego\\AppData\\Local\\Temp\\ipykernel_50852\\430125842.py:14: FutureWarning: Calling float on a single element Series is deprecated and will raise a TypeError in the future. Use float(ser.iloc[0]) instead\n",
      "  close_price    = float(df.iloc[1][\"Close\"])\n",
      "C:\\Users\\diego\\AppData\\Local\\Temp\\ipykernel_50852\\430125842.py:15: FutureWarning: Calling float on a single element Series is deprecated and will raise a TypeError in the future. Use float(ser.iloc[0]) instead\n",
      "  previous_open  = float(df.iloc[0][\"Open\"])\n",
      "C:\\Users\\diego\\AppData\\Local\\Temp\\ipykernel_50852\\430125842.py:16: FutureWarning: Calling float on a single element Series is deprecated and will raise a TypeError in the future. Use float(ser.iloc[0]) instead\n",
      "  previous_close = float(df.iloc[0][\"Close\"])\n"
     ]
    },
    {
     "name": "stdout",
     "output_type": "stream",
     "text": [
      "Fetching data for CCI...\n"
     ]
    },
    {
     "name": "stderr",
     "output_type": "stream",
     "text": [
      "[*********************100%***********************]  1 of 1 completed\n",
      "C:\\Users\\diego\\AppData\\Local\\Temp\\ipykernel_50852\\430125842.py:13: FutureWarning: Calling float on a single element Series is deprecated and will raise a TypeError in the future. Use float(ser.iloc[0]) instead\n",
      "  open_price     = float(df.iloc[1][\"Open\"])\n",
      "C:\\Users\\diego\\AppData\\Local\\Temp\\ipykernel_50852\\430125842.py:14: FutureWarning: Calling float on a single element Series is deprecated and will raise a TypeError in the future. Use float(ser.iloc[0]) instead\n",
      "  close_price    = float(df.iloc[1][\"Close\"])\n",
      "C:\\Users\\diego\\AppData\\Local\\Temp\\ipykernel_50852\\430125842.py:15: FutureWarning: Calling float on a single element Series is deprecated and will raise a TypeError in the future. Use float(ser.iloc[0]) instead\n",
      "  previous_open  = float(df.iloc[0][\"Open\"])\n",
      "C:\\Users\\diego\\AppData\\Local\\Temp\\ipykernel_50852\\430125842.py:16: FutureWarning: Calling float on a single element Series is deprecated and will raise a TypeError in the future. Use float(ser.iloc[0]) instead\n",
      "  previous_close = float(df.iloc[0][\"Close\"])\n"
     ]
    },
    {
     "name": "stdout",
     "output_type": "stream",
     "text": [
      "Fetching data for CSX...\n"
     ]
    },
    {
     "name": "stderr",
     "output_type": "stream",
     "text": [
      "[*********************100%***********************]  1 of 1 completed\n",
      "C:\\Users\\diego\\AppData\\Local\\Temp\\ipykernel_50852\\430125842.py:13: FutureWarning: Calling float on a single element Series is deprecated and will raise a TypeError in the future. Use float(ser.iloc[0]) instead\n",
      "  open_price     = float(df.iloc[1][\"Open\"])\n",
      "C:\\Users\\diego\\AppData\\Local\\Temp\\ipykernel_50852\\430125842.py:14: FutureWarning: Calling float on a single element Series is deprecated and will raise a TypeError in the future. Use float(ser.iloc[0]) instead\n",
      "  close_price    = float(df.iloc[1][\"Close\"])\n",
      "C:\\Users\\diego\\AppData\\Local\\Temp\\ipykernel_50852\\430125842.py:15: FutureWarning: Calling float on a single element Series is deprecated and will raise a TypeError in the future. Use float(ser.iloc[0]) instead\n",
      "  previous_open  = float(df.iloc[0][\"Open\"])\n",
      "C:\\Users\\diego\\AppData\\Local\\Temp\\ipykernel_50852\\430125842.py:16: FutureWarning: Calling float on a single element Series is deprecated and will raise a TypeError in the future. Use float(ser.iloc[0]) instead\n",
      "  previous_close = float(df.iloc[0][\"Close\"])\n"
     ]
    },
    {
     "name": "stdout",
     "output_type": "stream",
     "text": [
      "Fetching data for CMI...\n"
     ]
    },
    {
     "name": "stderr",
     "output_type": "stream",
     "text": [
      "[*********************100%***********************]  1 of 1 completed\n",
      "C:\\Users\\diego\\AppData\\Local\\Temp\\ipykernel_50852\\430125842.py:13: FutureWarning: Calling float on a single element Series is deprecated and will raise a TypeError in the future. Use float(ser.iloc[0]) instead\n",
      "  open_price     = float(df.iloc[1][\"Open\"])\n",
      "C:\\Users\\diego\\AppData\\Local\\Temp\\ipykernel_50852\\430125842.py:14: FutureWarning: Calling float on a single element Series is deprecated and will raise a TypeError in the future. Use float(ser.iloc[0]) instead\n",
      "  close_price    = float(df.iloc[1][\"Close\"])\n",
      "C:\\Users\\diego\\AppData\\Local\\Temp\\ipykernel_50852\\430125842.py:15: FutureWarning: Calling float on a single element Series is deprecated and will raise a TypeError in the future. Use float(ser.iloc[0]) instead\n",
      "  previous_open  = float(df.iloc[0][\"Open\"])\n",
      "C:\\Users\\diego\\AppData\\Local\\Temp\\ipykernel_50852\\430125842.py:16: FutureWarning: Calling float on a single element Series is deprecated and will raise a TypeError in the future. Use float(ser.iloc[0]) instead\n",
      "  previous_close = float(df.iloc[0][\"Close\"])\n"
     ]
    },
    {
     "name": "stdout",
     "output_type": "stream",
     "text": [
      "Fetching data for CVS...\n"
     ]
    },
    {
     "name": "stderr",
     "output_type": "stream",
     "text": [
      "[*********************100%***********************]  1 of 1 completed\n",
      "C:\\Users\\diego\\AppData\\Local\\Temp\\ipykernel_50852\\430125842.py:13: FutureWarning: Calling float on a single element Series is deprecated and will raise a TypeError in the future. Use float(ser.iloc[0]) instead\n",
      "  open_price     = float(df.iloc[1][\"Open\"])\n",
      "C:\\Users\\diego\\AppData\\Local\\Temp\\ipykernel_50852\\430125842.py:14: FutureWarning: Calling float on a single element Series is deprecated and will raise a TypeError in the future. Use float(ser.iloc[0]) instead\n",
      "  close_price    = float(df.iloc[1][\"Close\"])\n",
      "C:\\Users\\diego\\AppData\\Local\\Temp\\ipykernel_50852\\430125842.py:15: FutureWarning: Calling float on a single element Series is deprecated and will raise a TypeError in the future. Use float(ser.iloc[0]) instead\n",
      "  previous_open  = float(df.iloc[0][\"Open\"])\n",
      "C:\\Users\\diego\\AppData\\Local\\Temp\\ipykernel_50852\\430125842.py:16: FutureWarning: Calling float on a single element Series is deprecated and will raise a TypeError in the future. Use float(ser.iloc[0]) instead\n",
      "  previous_close = float(df.iloc[0][\"Close\"])\n"
     ]
    },
    {
     "name": "stdout",
     "output_type": "stream",
     "text": [
      "Fetching data for DHR...\n"
     ]
    },
    {
     "name": "stderr",
     "output_type": "stream",
     "text": [
      "[*********************100%***********************]  1 of 1 completed\n",
      "C:\\Users\\diego\\AppData\\Local\\Temp\\ipykernel_50852\\430125842.py:13: FutureWarning: Calling float on a single element Series is deprecated and will raise a TypeError in the future. Use float(ser.iloc[0]) instead\n",
      "  open_price     = float(df.iloc[1][\"Open\"])\n",
      "C:\\Users\\diego\\AppData\\Local\\Temp\\ipykernel_50852\\430125842.py:14: FutureWarning: Calling float on a single element Series is deprecated and will raise a TypeError in the future. Use float(ser.iloc[0]) instead\n",
      "  close_price    = float(df.iloc[1][\"Close\"])\n",
      "C:\\Users\\diego\\AppData\\Local\\Temp\\ipykernel_50852\\430125842.py:15: FutureWarning: Calling float on a single element Series is deprecated and will raise a TypeError in the future. Use float(ser.iloc[0]) instead\n",
      "  previous_open  = float(df.iloc[0][\"Open\"])\n",
      "C:\\Users\\diego\\AppData\\Local\\Temp\\ipykernel_50852\\430125842.py:16: FutureWarning: Calling float on a single element Series is deprecated and will raise a TypeError in the future. Use float(ser.iloc[0]) instead\n",
      "  previous_close = float(df.iloc[0][\"Close\"])\n"
     ]
    },
    {
     "name": "stdout",
     "output_type": "stream",
     "text": [
      "Fetching data for DRI...\n"
     ]
    },
    {
     "name": "stderr",
     "output_type": "stream",
     "text": [
      "[*********************100%***********************]  1 of 1 completed\n",
      "C:\\Users\\diego\\AppData\\Local\\Temp\\ipykernel_50852\\430125842.py:13: FutureWarning: Calling float on a single element Series is deprecated and will raise a TypeError in the future. Use float(ser.iloc[0]) instead\n",
      "  open_price     = float(df.iloc[1][\"Open\"])\n",
      "C:\\Users\\diego\\AppData\\Local\\Temp\\ipykernel_50852\\430125842.py:14: FutureWarning: Calling float on a single element Series is deprecated and will raise a TypeError in the future. Use float(ser.iloc[0]) instead\n",
      "  close_price    = float(df.iloc[1][\"Close\"])\n",
      "C:\\Users\\diego\\AppData\\Local\\Temp\\ipykernel_50852\\430125842.py:15: FutureWarning: Calling float on a single element Series is deprecated and will raise a TypeError in the future. Use float(ser.iloc[0]) instead\n",
      "  previous_open  = float(df.iloc[0][\"Open\"])\n",
      "C:\\Users\\diego\\AppData\\Local\\Temp\\ipykernel_50852\\430125842.py:16: FutureWarning: Calling float on a single element Series is deprecated and will raise a TypeError in the future. Use float(ser.iloc[0]) instead\n",
      "  previous_close = float(df.iloc[0][\"Close\"])\n"
     ]
    },
    {
     "name": "stdout",
     "output_type": "stream",
     "text": [
      "Fetching data for DVA...\n"
     ]
    },
    {
     "name": "stderr",
     "output_type": "stream",
     "text": [
      "[*********************100%***********************]  1 of 1 completed\n",
      "C:\\Users\\diego\\AppData\\Local\\Temp\\ipykernel_50852\\430125842.py:13: FutureWarning: Calling float on a single element Series is deprecated and will raise a TypeError in the future. Use float(ser.iloc[0]) instead\n",
      "  open_price     = float(df.iloc[1][\"Open\"])\n",
      "C:\\Users\\diego\\AppData\\Local\\Temp\\ipykernel_50852\\430125842.py:14: FutureWarning: Calling float on a single element Series is deprecated and will raise a TypeError in the future. Use float(ser.iloc[0]) instead\n",
      "  close_price    = float(df.iloc[1][\"Close\"])\n",
      "C:\\Users\\diego\\AppData\\Local\\Temp\\ipykernel_50852\\430125842.py:15: FutureWarning: Calling float on a single element Series is deprecated and will raise a TypeError in the future. Use float(ser.iloc[0]) instead\n",
      "  previous_open  = float(df.iloc[0][\"Open\"])\n",
      "C:\\Users\\diego\\AppData\\Local\\Temp\\ipykernel_50852\\430125842.py:16: FutureWarning: Calling float on a single element Series is deprecated and will raise a TypeError in the future. Use float(ser.iloc[0]) instead\n",
      "  previous_close = float(df.iloc[0][\"Close\"])\n"
     ]
    },
    {
     "name": "stdout",
     "output_type": "stream",
     "text": [
      "Fetching data for DAY...\n"
     ]
    },
    {
     "name": "stderr",
     "output_type": "stream",
     "text": [
      "[*********************100%***********************]  1 of 1 completed\n",
      "C:\\Users\\diego\\AppData\\Local\\Temp\\ipykernel_50852\\430125842.py:13: FutureWarning: Calling float on a single element Series is deprecated and will raise a TypeError in the future. Use float(ser.iloc[0]) instead\n",
      "  open_price     = float(df.iloc[1][\"Open\"])\n",
      "C:\\Users\\diego\\AppData\\Local\\Temp\\ipykernel_50852\\430125842.py:14: FutureWarning: Calling float on a single element Series is deprecated and will raise a TypeError in the future. Use float(ser.iloc[0]) instead\n",
      "  close_price    = float(df.iloc[1][\"Close\"])\n",
      "C:\\Users\\diego\\AppData\\Local\\Temp\\ipykernel_50852\\430125842.py:15: FutureWarning: Calling float on a single element Series is deprecated and will raise a TypeError in the future. Use float(ser.iloc[0]) instead\n",
      "  previous_open  = float(df.iloc[0][\"Open\"])\n",
      "C:\\Users\\diego\\AppData\\Local\\Temp\\ipykernel_50852\\430125842.py:16: FutureWarning: Calling float on a single element Series is deprecated and will raise a TypeError in the future. Use float(ser.iloc[0]) instead\n",
      "  previous_close = float(df.iloc[0][\"Close\"])\n"
     ]
    },
    {
     "name": "stdout",
     "output_type": "stream",
     "text": [
      "Fetching data for DECK...\n"
     ]
    },
    {
     "name": "stderr",
     "output_type": "stream",
     "text": [
      "[*********************100%***********************]  1 of 1 completed\n",
      "C:\\Users\\diego\\AppData\\Local\\Temp\\ipykernel_50852\\430125842.py:13: FutureWarning: Calling float on a single element Series is deprecated and will raise a TypeError in the future. Use float(ser.iloc[0]) instead\n",
      "  open_price     = float(df.iloc[1][\"Open\"])\n",
      "C:\\Users\\diego\\AppData\\Local\\Temp\\ipykernel_50852\\430125842.py:14: FutureWarning: Calling float on a single element Series is deprecated and will raise a TypeError in the future. Use float(ser.iloc[0]) instead\n",
      "  close_price    = float(df.iloc[1][\"Close\"])\n",
      "C:\\Users\\diego\\AppData\\Local\\Temp\\ipykernel_50852\\430125842.py:15: FutureWarning: Calling float on a single element Series is deprecated and will raise a TypeError in the future. Use float(ser.iloc[0]) instead\n",
      "  previous_open  = float(df.iloc[0][\"Open\"])\n",
      "C:\\Users\\diego\\AppData\\Local\\Temp\\ipykernel_50852\\430125842.py:16: FutureWarning: Calling float on a single element Series is deprecated and will raise a TypeError in the future. Use float(ser.iloc[0]) instead\n",
      "  previous_close = float(df.iloc[0][\"Close\"])\n"
     ]
    },
    {
     "name": "stdout",
     "output_type": "stream",
     "text": [
      "Fetching data for DE...\n"
     ]
    },
    {
     "name": "stderr",
     "output_type": "stream",
     "text": [
      "[*********************100%***********************]  1 of 1 completed\n",
      "C:\\Users\\diego\\AppData\\Local\\Temp\\ipykernel_50852\\430125842.py:13: FutureWarning: Calling float on a single element Series is deprecated and will raise a TypeError in the future. Use float(ser.iloc[0]) instead\n",
      "  open_price     = float(df.iloc[1][\"Open\"])\n",
      "C:\\Users\\diego\\AppData\\Local\\Temp\\ipykernel_50852\\430125842.py:14: FutureWarning: Calling float on a single element Series is deprecated and will raise a TypeError in the future. Use float(ser.iloc[0]) instead\n",
      "  close_price    = float(df.iloc[1][\"Close\"])\n",
      "C:\\Users\\diego\\AppData\\Local\\Temp\\ipykernel_50852\\430125842.py:15: FutureWarning: Calling float on a single element Series is deprecated and will raise a TypeError in the future. Use float(ser.iloc[0]) instead\n",
      "  previous_open  = float(df.iloc[0][\"Open\"])\n",
      "C:\\Users\\diego\\AppData\\Local\\Temp\\ipykernel_50852\\430125842.py:16: FutureWarning: Calling float on a single element Series is deprecated and will raise a TypeError in the future. Use float(ser.iloc[0]) instead\n",
      "  previous_close = float(df.iloc[0][\"Close\"])\n"
     ]
    },
    {
     "name": "stdout",
     "output_type": "stream",
     "text": [
      "Fetching data for DELL...\n"
     ]
    },
    {
     "name": "stderr",
     "output_type": "stream",
     "text": [
      "[*********************100%***********************]  1 of 1 completed\n",
      "C:\\Users\\diego\\AppData\\Local\\Temp\\ipykernel_50852\\430125842.py:13: FutureWarning: Calling float on a single element Series is deprecated and will raise a TypeError in the future. Use float(ser.iloc[0]) instead\n",
      "  open_price     = float(df.iloc[1][\"Open\"])\n",
      "C:\\Users\\diego\\AppData\\Local\\Temp\\ipykernel_50852\\430125842.py:14: FutureWarning: Calling float on a single element Series is deprecated and will raise a TypeError in the future. Use float(ser.iloc[0]) instead\n",
      "  close_price    = float(df.iloc[1][\"Close\"])\n",
      "C:\\Users\\diego\\AppData\\Local\\Temp\\ipykernel_50852\\430125842.py:15: FutureWarning: Calling float on a single element Series is deprecated and will raise a TypeError in the future. Use float(ser.iloc[0]) instead\n",
      "  previous_open  = float(df.iloc[0][\"Open\"])\n",
      "C:\\Users\\diego\\AppData\\Local\\Temp\\ipykernel_50852\\430125842.py:16: FutureWarning: Calling float on a single element Series is deprecated and will raise a TypeError in the future. Use float(ser.iloc[0]) instead\n",
      "  previous_close = float(df.iloc[0][\"Close\"])\n"
     ]
    },
    {
     "name": "stdout",
     "output_type": "stream",
     "text": [
      "Fetching data for DAL...\n"
     ]
    },
    {
     "name": "stderr",
     "output_type": "stream",
     "text": [
      "[*********************100%***********************]  1 of 1 completed\n",
      "C:\\Users\\diego\\AppData\\Local\\Temp\\ipykernel_50852\\430125842.py:13: FutureWarning: Calling float on a single element Series is deprecated and will raise a TypeError in the future. Use float(ser.iloc[0]) instead\n",
      "  open_price     = float(df.iloc[1][\"Open\"])\n",
      "C:\\Users\\diego\\AppData\\Local\\Temp\\ipykernel_50852\\430125842.py:14: FutureWarning: Calling float on a single element Series is deprecated and will raise a TypeError in the future. Use float(ser.iloc[0]) instead\n",
      "  close_price    = float(df.iloc[1][\"Close\"])\n",
      "C:\\Users\\diego\\AppData\\Local\\Temp\\ipykernel_50852\\430125842.py:15: FutureWarning: Calling float on a single element Series is deprecated and will raise a TypeError in the future. Use float(ser.iloc[0]) instead\n",
      "  previous_open  = float(df.iloc[0][\"Open\"])\n",
      "C:\\Users\\diego\\AppData\\Local\\Temp\\ipykernel_50852\\430125842.py:16: FutureWarning: Calling float on a single element Series is deprecated and will raise a TypeError in the future. Use float(ser.iloc[0]) instead\n",
      "  previous_close = float(df.iloc[0][\"Close\"])\n"
     ]
    },
    {
     "name": "stdout",
     "output_type": "stream",
     "text": [
      "Fetching data for DVN...\n"
     ]
    },
    {
     "name": "stderr",
     "output_type": "stream",
     "text": [
      "[*********************100%***********************]  1 of 1 completed\n",
      "C:\\Users\\diego\\AppData\\Local\\Temp\\ipykernel_50852\\430125842.py:13: FutureWarning: Calling float on a single element Series is deprecated and will raise a TypeError in the future. Use float(ser.iloc[0]) instead\n",
      "  open_price     = float(df.iloc[1][\"Open\"])\n",
      "C:\\Users\\diego\\AppData\\Local\\Temp\\ipykernel_50852\\430125842.py:14: FutureWarning: Calling float on a single element Series is deprecated and will raise a TypeError in the future. Use float(ser.iloc[0]) instead\n",
      "  close_price    = float(df.iloc[1][\"Close\"])\n",
      "C:\\Users\\diego\\AppData\\Local\\Temp\\ipykernel_50852\\430125842.py:15: FutureWarning: Calling float on a single element Series is deprecated and will raise a TypeError in the future. Use float(ser.iloc[0]) instead\n",
      "  previous_open  = float(df.iloc[0][\"Open\"])\n",
      "C:\\Users\\diego\\AppData\\Local\\Temp\\ipykernel_50852\\430125842.py:16: FutureWarning: Calling float on a single element Series is deprecated and will raise a TypeError in the future. Use float(ser.iloc[0]) instead\n",
      "  previous_close = float(df.iloc[0][\"Close\"])\n"
     ]
    },
    {
     "name": "stdout",
     "output_type": "stream",
     "text": [
      "Fetching data for DXCM...\n"
     ]
    },
    {
     "name": "stderr",
     "output_type": "stream",
     "text": [
      "[*********************100%***********************]  1 of 1 completed\n",
      "C:\\Users\\diego\\AppData\\Local\\Temp\\ipykernel_50852\\430125842.py:13: FutureWarning: Calling float on a single element Series is deprecated and will raise a TypeError in the future. Use float(ser.iloc[0]) instead\n",
      "  open_price     = float(df.iloc[1][\"Open\"])\n",
      "C:\\Users\\diego\\AppData\\Local\\Temp\\ipykernel_50852\\430125842.py:14: FutureWarning: Calling float on a single element Series is deprecated and will raise a TypeError in the future. Use float(ser.iloc[0]) instead\n",
      "  close_price    = float(df.iloc[1][\"Close\"])\n",
      "C:\\Users\\diego\\AppData\\Local\\Temp\\ipykernel_50852\\430125842.py:15: FutureWarning: Calling float on a single element Series is deprecated and will raise a TypeError in the future. Use float(ser.iloc[0]) instead\n",
      "  previous_open  = float(df.iloc[0][\"Open\"])\n",
      "C:\\Users\\diego\\AppData\\Local\\Temp\\ipykernel_50852\\430125842.py:16: FutureWarning: Calling float on a single element Series is deprecated and will raise a TypeError in the future. Use float(ser.iloc[0]) instead\n",
      "  previous_close = float(df.iloc[0][\"Close\"])\n"
     ]
    },
    {
     "name": "stdout",
     "output_type": "stream",
     "text": [
      "Fetching data for FANG...\n"
     ]
    },
    {
     "name": "stderr",
     "output_type": "stream",
     "text": [
      "[*********************100%***********************]  1 of 1 completed\n",
      "C:\\Users\\diego\\AppData\\Local\\Temp\\ipykernel_50852\\430125842.py:13: FutureWarning: Calling float on a single element Series is deprecated and will raise a TypeError in the future. Use float(ser.iloc[0]) instead\n",
      "  open_price     = float(df.iloc[1][\"Open\"])\n",
      "C:\\Users\\diego\\AppData\\Local\\Temp\\ipykernel_50852\\430125842.py:14: FutureWarning: Calling float on a single element Series is deprecated and will raise a TypeError in the future. Use float(ser.iloc[0]) instead\n",
      "  close_price    = float(df.iloc[1][\"Close\"])\n",
      "C:\\Users\\diego\\AppData\\Local\\Temp\\ipykernel_50852\\430125842.py:15: FutureWarning: Calling float on a single element Series is deprecated and will raise a TypeError in the future. Use float(ser.iloc[0]) instead\n",
      "  previous_open  = float(df.iloc[0][\"Open\"])\n",
      "C:\\Users\\diego\\AppData\\Local\\Temp\\ipykernel_50852\\430125842.py:16: FutureWarning: Calling float on a single element Series is deprecated and will raise a TypeError in the future. Use float(ser.iloc[0]) instead\n",
      "  previous_close = float(df.iloc[0][\"Close\"])\n"
     ]
    },
    {
     "name": "stdout",
     "output_type": "stream",
     "text": [
      "Fetching data for DLR...\n"
     ]
    },
    {
     "name": "stderr",
     "output_type": "stream",
     "text": [
      "[*********************100%***********************]  1 of 1 completed\n",
      "C:\\Users\\diego\\AppData\\Local\\Temp\\ipykernel_50852\\430125842.py:13: FutureWarning: Calling float on a single element Series is deprecated and will raise a TypeError in the future. Use float(ser.iloc[0]) instead\n",
      "  open_price     = float(df.iloc[1][\"Open\"])\n",
      "C:\\Users\\diego\\AppData\\Local\\Temp\\ipykernel_50852\\430125842.py:14: FutureWarning: Calling float on a single element Series is deprecated and will raise a TypeError in the future. Use float(ser.iloc[0]) instead\n",
      "  close_price    = float(df.iloc[1][\"Close\"])\n",
      "C:\\Users\\diego\\AppData\\Local\\Temp\\ipykernel_50852\\430125842.py:15: FutureWarning: Calling float on a single element Series is deprecated and will raise a TypeError in the future. Use float(ser.iloc[0]) instead\n",
      "  previous_open  = float(df.iloc[0][\"Open\"])\n",
      "C:\\Users\\diego\\AppData\\Local\\Temp\\ipykernel_50852\\430125842.py:16: FutureWarning: Calling float on a single element Series is deprecated and will raise a TypeError in the future. Use float(ser.iloc[0]) instead\n",
      "  previous_close = float(df.iloc[0][\"Close\"])\n"
     ]
    },
    {
     "name": "stdout",
     "output_type": "stream",
     "text": [
      "Fetching data for DFS...\n"
     ]
    },
    {
     "name": "stderr",
     "output_type": "stream",
     "text": [
      "[*********************100%***********************]  1 of 1 completed\n",
      "C:\\Users\\diego\\AppData\\Local\\Temp\\ipykernel_50852\\430125842.py:13: FutureWarning: Calling float on a single element Series is deprecated and will raise a TypeError in the future. Use float(ser.iloc[0]) instead\n",
      "  open_price     = float(df.iloc[1][\"Open\"])\n",
      "C:\\Users\\diego\\AppData\\Local\\Temp\\ipykernel_50852\\430125842.py:14: FutureWarning: Calling float on a single element Series is deprecated and will raise a TypeError in the future. Use float(ser.iloc[0]) instead\n",
      "  close_price    = float(df.iloc[1][\"Close\"])\n",
      "C:\\Users\\diego\\AppData\\Local\\Temp\\ipykernel_50852\\430125842.py:15: FutureWarning: Calling float on a single element Series is deprecated and will raise a TypeError in the future. Use float(ser.iloc[0]) instead\n",
      "  previous_open  = float(df.iloc[0][\"Open\"])\n",
      "C:\\Users\\diego\\AppData\\Local\\Temp\\ipykernel_50852\\430125842.py:16: FutureWarning: Calling float on a single element Series is deprecated and will raise a TypeError in the future. Use float(ser.iloc[0]) instead\n",
      "  previous_close = float(df.iloc[0][\"Close\"])\n"
     ]
    },
    {
     "name": "stdout",
     "output_type": "stream",
     "text": [
      "Fetching data for DG...\n"
     ]
    },
    {
     "name": "stderr",
     "output_type": "stream",
     "text": [
      "[*********************100%***********************]  1 of 1 completed\n",
      "C:\\Users\\diego\\AppData\\Local\\Temp\\ipykernel_50852\\430125842.py:13: FutureWarning: Calling float on a single element Series is deprecated and will raise a TypeError in the future. Use float(ser.iloc[0]) instead\n",
      "  open_price     = float(df.iloc[1][\"Open\"])\n",
      "C:\\Users\\diego\\AppData\\Local\\Temp\\ipykernel_50852\\430125842.py:14: FutureWarning: Calling float on a single element Series is deprecated and will raise a TypeError in the future. Use float(ser.iloc[0]) instead\n",
      "  close_price    = float(df.iloc[1][\"Close\"])\n",
      "C:\\Users\\diego\\AppData\\Local\\Temp\\ipykernel_50852\\430125842.py:15: FutureWarning: Calling float on a single element Series is deprecated and will raise a TypeError in the future. Use float(ser.iloc[0]) instead\n",
      "  previous_open  = float(df.iloc[0][\"Open\"])\n",
      "C:\\Users\\diego\\AppData\\Local\\Temp\\ipykernel_50852\\430125842.py:16: FutureWarning: Calling float on a single element Series is deprecated and will raise a TypeError in the future. Use float(ser.iloc[0]) instead\n",
      "  previous_close = float(df.iloc[0][\"Close\"])\n"
     ]
    },
    {
     "name": "stdout",
     "output_type": "stream",
     "text": [
      "Fetching data for DLTR...\n"
     ]
    },
    {
     "name": "stderr",
     "output_type": "stream",
     "text": [
      "[*********************100%***********************]  1 of 1 completed\n",
      "C:\\Users\\diego\\AppData\\Local\\Temp\\ipykernel_50852\\430125842.py:13: FutureWarning: Calling float on a single element Series is deprecated and will raise a TypeError in the future. Use float(ser.iloc[0]) instead\n",
      "  open_price     = float(df.iloc[1][\"Open\"])\n",
      "C:\\Users\\diego\\AppData\\Local\\Temp\\ipykernel_50852\\430125842.py:14: FutureWarning: Calling float on a single element Series is deprecated and will raise a TypeError in the future. Use float(ser.iloc[0]) instead\n",
      "  close_price    = float(df.iloc[1][\"Close\"])\n",
      "C:\\Users\\diego\\AppData\\Local\\Temp\\ipykernel_50852\\430125842.py:15: FutureWarning: Calling float on a single element Series is deprecated and will raise a TypeError in the future. Use float(ser.iloc[0]) instead\n",
      "  previous_open  = float(df.iloc[0][\"Open\"])\n",
      "C:\\Users\\diego\\AppData\\Local\\Temp\\ipykernel_50852\\430125842.py:16: FutureWarning: Calling float on a single element Series is deprecated and will raise a TypeError in the future. Use float(ser.iloc[0]) instead\n",
      "  previous_close = float(df.iloc[0][\"Close\"])\n"
     ]
    },
    {
     "name": "stdout",
     "output_type": "stream",
     "text": [
      "Fetching data for D...\n"
     ]
    },
    {
     "name": "stderr",
     "output_type": "stream",
     "text": [
      "[*********************100%***********************]  1 of 1 completed\n",
      "C:\\Users\\diego\\AppData\\Local\\Temp\\ipykernel_50852\\430125842.py:13: FutureWarning: Calling float on a single element Series is deprecated and will raise a TypeError in the future. Use float(ser.iloc[0]) instead\n",
      "  open_price     = float(df.iloc[1][\"Open\"])\n",
      "C:\\Users\\diego\\AppData\\Local\\Temp\\ipykernel_50852\\430125842.py:14: FutureWarning: Calling float on a single element Series is deprecated and will raise a TypeError in the future. Use float(ser.iloc[0]) instead\n",
      "  close_price    = float(df.iloc[1][\"Close\"])\n",
      "C:\\Users\\diego\\AppData\\Local\\Temp\\ipykernel_50852\\430125842.py:15: FutureWarning: Calling float on a single element Series is deprecated and will raise a TypeError in the future. Use float(ser.iloc[0]) instead\n",
      "  previous_open  = float(df.iloc[0][\"Open\"])\n",
      "C:\\Users\\diego\\AppData\\Local\\Temp\\ipykernel_50852\\430125842.py:16: FutureWarning: Calling float on a single element Series is deprecated and will raise a TypeError in the future. Use float(ser.iloc[0]) instead\n",
      "  previous_close = float(df.iloc[0][\"Close\"])\n"
     ]
    },
    {
     "name": "stdout",
     "output_type": "stream",
     "text": [
      "Fetching data for DPZ...\n"
     ]
    },
    {
     "name": "stderr",
     "output_type": "stream",
     "text": [
      "[*********************100%***********************]  1 of 1 completed\n",
      "C:\\Users\\diego\\AppData\\Local\\Temp\\ipykernel_50852\\430125842.py:13: FutureWarning: Calling float on a single element Series is deprecated and will raise a TypeError in the future. Use float(ser.iloc[0]) instead\n",
      "  open_price     = float(df.iloc[1][\"Open\"])\n",
      "C:\\Users\\diego\\AppData\\Local\\Temp\\ipykernel_50852\\430125842.py:14: FutureWarning: Calling float on a single element Series is deprecated and will raise a TypeError in the future. Use float(ser.iloc[0]) instead\n",
      "  close_price    = float(df.iloc[1][\"Close\"])\n",
      "C:\\Users\\diego\\AppData\\Local\\Temp\\ipykernel_50852\\430125842.py:15: FutureWarning: Calling float on a single element Series is deprecated and will raise a TypeError in the future. Use float(ser.iloc[0]) instead\n",
      "  previous_open  = float(df.iloc[0][\"Open\"])\n",
      "C:\\Users\\diego\\AppData\\Local\\Temp\\ipykernel_50852\\430125842.py:16: FutureWarning: Calling float on a single element Series is deprecated and will raise a TypeError in the future. Use float(ser.iloc[0]) instead\n",
      "  previous_close = float(df.iloc[0][\"Close\"])\n"
     ]
    },
    {
     "name": "stdout",
     "output_type": "stream",
     "text": [
      "Fetching data for DOV...\n"
     ]
    },
    {
     "name": "stderr",
     "output_type": "stream",
     "text": [
      "[*********************100%***********************]  1 of 1 completed\n",
      "C:\\Users\\diego\\AppData\\Local\\Temp\\ipykernel_50852\\430125842.py:13: FutureWarning: Calling float on a single element Series is deprecated and will raise a TypeError in the future. Use float(ser.iloc[0]) instead\n",
      "  open_price     = float(df.iloc[1][\"Open\"])\n",
      "C:\\Users\\diego\\AppData\\Local\\Temp\\ipykernel_50852\\430125842.py:14: FutureWarning: Calling float on a single element Series is deprecated and will raise a TypeError in the future. Use float(ser.iloc[0]) instead\n",
      "  close_price    = float(df.iloc[1][\"Close\"])\n",
      "C:\\Users\\diego\\AppData\\Local\\Temp\\ipykernel_50852\\430125842.py:15: FutureWarning: Calling float on a single element Series is deprecated and will raise a TypeError in the future. Use float(ser.iloc[0]) instead\n",
      "  previous_open  = float(df.iloc[0][\"Open\"])\n",
      "C:\\Users\\diego\\AppData\\Local\\Temp\\ipykernel_50852\\430125842.py:16: FutureWarning: Calling float on a single element Series is deprecated and will raise a TypeError in the future. Use float(ser.iloc[0]) instead\n",
      "  previous_close = float(df.iloc[0][\"Close\"])\n"
     ]
    },
    {
     "name": "stdout",
     "output_type": "stream",
     "text": [
      "Fetching data for DOW...\n"
     ]
    },
    {
     "name": "stderr",
     "output_type": "stream",
     "text": [
      "[*********************100%***********************]  1 of 1 completed\n",
      "C:\\Users\\diego\\AppData\\Local\\Temp\\ipykernel_50852\\430125842.py:13: FutureWarning: Calling float on a single element Series is deprecated and will raise a TypeError in the future. Use float(ser.iloc[0]) instead\n",
      "  open_price     = float(df.iloc[1][\"Open\"])\n",
      "C:\\Users\\diego\\AppData\\Local\\Temp\\ipykernel_50852\\430125842.py:14: FutureWarning: Calling float on a single element Series is deprecated and will raise a TypeError in the future. Use float(ser.iloc[0]) instead\n",
      "  close_price    = float(df.iloc[1][\"Close\"])\n",
      "C:\\Users\\diego\\AppData\\Local\\Temp\\ipykernel_50852\\430125842.py:15: FutureWarning: Calling float on a single element Series is deprecated and will raise a TypeError in the future. Use float(ser.iloc[0]) instead\n",
      "  previous_open  = float(df.iloc[0][\"Open\"])\n",
      "C:\\Users\\diego\\AppData\\Local\\Temp\\ipykernel_50852\\430125842.py:16: FutureWarning: Calling float on a single element Series is deprecated and will raise a TypeError in the future. Use float(ser.iloc[0]) instead\n",
      "  previous_close = float(df.iloc[0][\"Close\"])\n"
     ]
    },
    {
     "name": "stdout",
     "output_type": "stream",
     "text": [
      "Fetching data for DHI...\n"
     ]
    },
    {
     "name": "stderr",
     "output_type": "stream",
     "text": [
      "[*********************100%***********************]  1 of 1 completed\n",
      "C:\\Users\\diego\\AppData\\Local\\Temp\\ipykernel_50852\\430125842.py:13: FutureWarning: Calling float on a single element Series is deprecated and will raise a TypeError in the future. Use float(ser.iloc[0]) instead\n",
      "  open_price     = float(df.iloc[1][\"Open\"])\n",
      "C:\\Users\\diego\\AppData\\Local\\Temp\\ipykernel_50852\\430125842.py:14: FutureWarning: Calling float on a single element Series is deprecated and will raise a TypeError in the future. Use float(ser.iloc[0]) instead\n",
      "  close_price    = float(df.iloc[1][\"Close\"])\n",
      "C:\\Users\\diego\\AppData\\Local\\Temp\\ipykernel_50852\\430125842.py:15: FutureWarning: Calling float on a single element Series is deprecated and will raise a TypeError in the future. Use float(ser.iloc[0]) instead\n",
      "  previous_open  = float(df.iloc[0][\"Open\"])\n",
      "C:\\Users\\diego\\AppData\\Local\\Temp\\ipykernel_50852\\430125842.py:16: FutureWarning: Calling float on a single element Series is deprecated and will raise a TypeError in the future. Use float(ser.iloc[0]) instead\n",
      "  previous_close = float(df.iloc[0][\"Close\"])\n"
     ]
    },
    {
     "name": "stdout",
     "output_type": "stream",
     "text": [
      "Fetching data for DTE...\n"
     ]
    },
    {
     "name": "stderr",
     "output_type": "stream",
     "text": [
      "[*********************100%***********************]  1 of 1 completed\n",
      "C:\\Users\\diego\\AppData\\Local\\Temp\\ipykernel_50852\\430125842.py:13: FutureWarning: Calling float on a single element Series is deprecated and will raise a TypeError in the future. Use float(ser.iloc[0]) instead\n",
      "  open_price     = float(df.iloc[1][\"Open\"])\n",
      "C:\\Users\\diego\\AppData\\Local\\Temp\\ipykernel_50852\\430125842.py:14: FutureWarning: Calling float on a single element Series is deprecated and will raise a TypeError in the future. Use float(ser.iloc[0]) instead\n",
      "  close_price    = float(df.iloc[1][\"Close\"])\n",
      "C:\\Users\\diego\\AppData\\Local\\Temp\\ipykernel_50852\\430125842.py:15: FutureWarning: Calling float on a single element Series is deprecated and will raise a TypeError in the future. Use float(ser.iloc[0]) instead\n",
      "  previous_open  = float(df.iloc[0][\"Open\"])\n",
      "C:\\Users\\diego\\AppData\\Local\\Temp\\ipykernel_50852\\430125842.py:16: FutureWarning: Calling float on a single element Series is deprecated and will raise a TypeError in the future. Use float(ser.iloc[0]) instead\n",
      "  previous_close = float(df.iloc[0][\"Close\"])\n"
     ]
    },
    {
     "name": "stdout",
     "output_type": "stream",
     "text": [
      "Fetching data for DUK...\n"
     ]
    },
    {
     "name": "stderr",
     "output_type": "stream",
     "text": [
      "[*********************100%***********************]  1 of 1 completed\n",
      "C:\\Users\\diego\\AppData\\Local\\Temp\\ipykernel_50852\\430125842.py:13: FutureWarning: Calling float on a single element Series is deprecated and will raise a TypeError in the future. Use float(ser.iloc[0]) instead\n",
      "  open_price     = float(df.iloc[1][\"Open\"])\n",
      "C:\\Users\\diego\\AppData\\Local\\Temp\\ipykernel_50852\\430125842.py:14: FutureWarning: Calling float on a single element Series is deprecated and will raise a TypeError in the future. Use float(ser.iloc[0]) instead\n",
      "  close_price    = float(df.iloc[1][\"Close\"])\n",
      "C:\\Users\\diego\\AppData\\Local\\Temp\\ipykernel_50852\\430125842.py:15: FutureWarning: Calling float on a single element Series is deprecated and will raise a TypeError in the future. Use float(ser.iloc[0]) instead\n",
      "  previous_open  = float(df.iloc[0][\"Open\"])\n",
      "C:\\Users\\diego\\AppData\\Local\\Temp\\ipykernel_50852\\430125842.py:16: FutureWarning: Calling float on a single element Series is deprecated and will raise a TypeError in the future. Use float(ser.iloc[0]) instead\n",
      "  previous_close = float(df.iloc[0][\"Close\"])\n"
     ]
    },
    {
     "name": "stdout",
     "output_type": "stream",
     "text": [
      "Fetching data for DD...\n"
     ]
    },
    {
     "name": "stderr",
     "output_type": "stream",
     "text": [
      "[*********************100%***********************]  1 of 1 completed\n",
      "C:\\Users\\diego\\AppData\\Local\\Temp\\ipykernel_50852\\430125842.py:13: FutureWarning: Calling float on a single element Series is deprecated and will raise a TypeError in the future. Use float(ser.iloc[0]) instead\n",
      "  open_price     = float(df.iloc[1][\"Open\"])\n",
      "C:\\Users\\diego\\AppData\\Local\\Temp\\ipykernel_50852\\430125842.py:14: FutureWarning: Calling float on a single element Series is deprecated and will raise a TypeError in the future. Use float(ser.iloc[0]) instead\n",
      "  close_price    = float(df.iloc[1][\"Close\"])\n",
      "C:\\Users\\diego\\AppData\\Local\\Temp\\ipykernel_50852\\430125842.py:15: FutureWarning: Calling float on a single element Series is deprecated and will raise a TypeError in the future. Use float(ser.iloc[0]) instead\n",
      "  previous_open  = float(df.iloc[0][\"Open\"])\n",
      "C:\\Users\\diego\\AppData\\Local\\Temp\\ipykernel_50852\\430125842.py:16: FutureWarning: Calling float on a single element Series is deprecated and will raise a TypeError in the future. Use float(ser.iloc[0]) instead\n",
      "  previous_close = float(df.iloc[0][\"Close\"])\n"
     ]
    },
    {
     "name": "stdout",
     "output_type": "stream",
     "text": [
      "Fetching data for EMN...\n"
     ]
    },
    {
     "name": "stderr",
     "output_type": "stream",
     "text": [
      "[*********************100%***********************]  1 of 1 completed\n",
      "C:\\Users\\diego\\AppData\\Local\\Temp\\ipykernel_50852\\430125842.py:13: FutureWarning: Calling float on a single element Series is deprecated and will raise a TypeError in the future. Use float(ser.iloc[0]) instead\n",
      "  open_price     = float(df.iloc[1][\"Open\"])\n",
      "C:\\Users\\diego\\AppData\\Local\\Temp\\ipykernel_50852\\430125842.py:14: FutureWarning: Calling float on a single element Series is deprecated and will raise a TypeError in the future. Use float(ser.iloc[0]) instead\n",
      "  close_price    = float(df.iloc[1][\"Close\"])\n",
      "C:\\Users\\diego\\AppData\\Local\\Temp\\ipykernel_50852\\430125842.py:15: FutureWarning: Calling float on a single element Series is deprecated and will raise a TypeError in the future. Use float(ser.iloc[0]) instead\n",
      "  previous_open  = float(df.iloc[0][\"Open\"])\n",
      "C:\\Users\\diego\\AppData\\Local\\Temp\\ipykernel_50852\\430125842.py:16: FutureWarning: Calling float on a single element Series is deprecated and will raise a TypeError in the future. Use float(ser.iloc[0]) instead\n",
      "  previous_close = float(df.iloc[0][\"Close\"])\n"
     ]
    },
    {
     "name": "stdout",
     "output_type": "stream",
     "text": [
      "Fetching data for ETN...\n"
     ]
    },
    {
     "name": "stderr",
     "output_type": "stream",
     "text": [
      "[*********************100%***********************]  1 of 1 completed\n",
      "C:\\Users\\diego\\AppData\\Local\\Temp\\ipykernel_50852\\430125842.py:13: FutureWarning: Calling float on a single element Series is deprecated and will raise a TypeError in the future. Use float(ser.iloc[0]) instead\n",
      "  open_price     = float(df.iloc[1][\"Open\"])\n",
      "C:\\Users\\diego\\AppData\\Local\\Temp\\ipykernel_50852\\430125842.py:14: FutureWarning: Calling float on a single element Series is deprecated and will raise a TypeError in the future. Use float(ser.iloc[0]) instead\n",
      "  close_price    = float(df.iloc[1][\"Close\"])\n",
      "C:\\Users\\diego\\AppData\\Local\\Temp\\ipykernel_50852\\430125842.py:15: FutureWarning: Calling float on a single element Series is deprecated and will raise a TypeError in the future. Use float(ser.iloc[0]) instead\n",
      "  previous_open  = float(df.iloc[0][\"Open\"])\n",
      "C:\\Users\\diego\\AppData\\Local\\Temp\\ipykernel_50852\\430125842.py:16: FutureWarning: Calling float on a single element Series is deprecated and will raise a TypeError in the future. Use float(ser.iloc[0]) instead\n",
      "  previous_close = float(df.iloc[0][\"Close\"])\n"
     ]
    },
    {
     "name": "stdout",
     "output_type": "stream",
     "text": [
      "Fetching data for EBAY...\n"
     ]
    },
    {
     "name": "stderr",
     "output_type": "stream",
     "text": [
      "[*********************100%***********************]  1 of 1 completed\n",
      "C:\\Users\\diego\\AppData\\Local\\Temp\\ipykernel_50852\\430125842.py:13: FutureWarning: Calling float on a single element Series is deprecated and will raise a TypeError in the future. Use float(ser.iloc[0]) instead\n",
      "  open_price     = float(df.iloc[1][\"Open\"])\n",
      "C:\\Users\\diego\\AppData\\Local\\Temp\\ipykernel_50852\\430125842.py:14: FutureWarning: Calling float on a single element Series is deprecated and will raise a TypeError in the future. Use float(ser.iloc[0]) instead\n",
      "  close_price    = float(df.iloc[1][\"Close\"])\n",
      "C:\\Users\\diego\\AppData\\Local\\Temp\\ipykernel_50852\\430125842.py:15: FutureWarning: Calling float on a single element Series is deprecated and will raise a TypeError in the future. Use float(ser.iloc[0]) instead\n",
      "  previous_open  = float(df.iloc[0][\"Open\"])\n",
      "C:\\Users\\diego\\AppData\\Local\\Temp\\ipykernel_50852\\430125842.py:16: FutureWarning: Calling float on a single element Series is deprecated and will raise a TypeError in the future. Use float(ser.iloc[0]) instead\n",
      "  previous_close = float(df.iloc[0][\"Close\"])\n"
     ]
    },
    {
     "name": "stdout",
     "output_type": "stream",
     "text": [
      "Fetching data for ECL...\n"
     ]
    },
    {
     "name": "stderr",
     "output_type": "stream",
     "text": [
      "[*********************100%***********************]  1 of 1 completed\n",
      "C:\\Users\\diego\\AppData\\Local\\Temp\\ipykernel_50852\\430125842.py:13: FutureWarning: Calling float on a single element Series is deprecated and will raise a TypeError in the future. Use float(ser.iloc[0]) instead\n",
      "  open_price     = float(df.iloc[1][\"Open\"])\n",
      "C:\\Users\\diego\\AppData\\Local\\Temp\\ipykernel_50852\\430125842.py:14: FutureWarning: Calling float on a single element Series is deprecated and will raise a TypeError in the future. Use float(ser.iloc[0]) instead\n",
      "  close_price    = float(df.iloc[1][\"Close\"])\n",
      "C:\\Users\\diego\\AppData\\Local\\Temp\\ipykernel_50852\\430125842.py:15: FutureWarning: Calling float on a single element Series is deprecated and will raise a TypeError in the future. Use float(ser.iloc[0]) instead\n",
      "  previous_open  = float(df.iloc[0][\"Open\"])\n",
      "C:\\Users\\diego\\AppData\\Local\\Temp\\ipykernel_50852\\430125842.py:16: FutureWarning: Calling float on a single element Series is deprecated and will raise a TypeError in the future. Use float(ser.iloc[0]) instead\n",
      "  previous_close = float(df.iloc[0][\"Close\"])\n"
     ]
    },
    {
     "name": "stdout",
     "output_type": "stream",
     "text": [
      "Fetching data for EIX...\n"
     ]
    },
    {
     "name": "stderr",
     "output_type": "stream",
     "text": [
      "[*********************100%***********************]  1 of 1 completed\n",
      "C:\\Users\\diego\\AppData\\Local\\Temp\\ipykernel_50852\\430125842.py:13: FutureWarning: Calling float on a single element Series is deprecated and will raise a TypeError in the future. Use float(ser.iloc[0]) instead\n",
      "  open_price     = float(df.iloc[1][\"Open\"])\n",
      "C:\\Users\\diego\\AppData\\Local\\Temp\\ipykernel_50852\\430125842.py:14: FutureWarning: Calling float on a single element Series is deprecated and will raise a TypeError in the future. Use float(ser.iloc[0]) instead\n",
      "  close_price    = float(df.iloc[1][\"Close\"])\n",
      "C:\\Users\\diego\\AppData\\Local\\Temp\\ipykernel_50852\\430125842.py:15: FutureWarning: Calling float on a single element Series is deprecated and will raise a TypeError in the future. Use float(ser.iloc[0]) instead\n",
      "  previous_open  = float(df.iloc[0][\"Open\"])\n",
      "C:\\Users\\diego\\AppData\\Local\\Temp\\ipykernel_50852\\430125842.py:16: FutureWarning: Calling float on a single element Series is deprecated and will raise a TypeError in the future. Use float(ser.iloc[0]) instead\n",
      "  previous_close = float(df.iloc[0][\"Close\"])\n"
     ]
    },
    {
     "name": "stdout",
     "output_type": "stream",
     "text": [
      "Fetching data for EW...\n"
     ]
    },
    {
     "name": "stderr",
     "output_type": "stream",
     "text": [
      "[*********************100%***********************]  1 of 1 completed\n",
      "C:\\Users\\diego\\AppData\\Local\\Temp\\ipykernel_50852\\430125842.py:13: FutureWarning: Calling float on a single element Series is deprecated and will raise a TypeError in the future. Use float(ser.iloc[0]) instead\n",
      "  open_price     = float(df.iloc[1][\"Open\"])\n",
      "C:\\Users\\diego\\AppData\\Local\\Temp\\ipykernel_50852\\430125842.py:14: FutureWarning: Calling float on a single element Series is deprecated and will raise a TypeError in the future. Use float(ser.iloc[0]) instead\n",
      "  close_price    = float(df.iloc[1][\"Close\"])\n",
      "C:\\Users\\diego\\AppData\\Local\\Temp\\ipykernel_50852\\430125842.py:15: FutureWarning: Calling float on a single element Series is deprecated and will raise a TypeError in the future. Use float(ser.iloc[0]) instead\n",
      "  previous_open  = float(df.iloc[0][\"Open\"])\n",
      "C:\\Users\\diego\\AppData\\Local\\Temp\\ipykernel_50852\\430125842.py:16: FutureWarning: Calling float on a single element Series is deprecated and will raise a TypeError in the future. Use float(ser.iloc[0]) instead\n",
      "  previous_close = float(df.iloc[0][\"Close\"])\n"
     ]
    },
    {
     "name": "stdout",
     "output_type": "stream",
     "text": [
      "Fetching data for EA...\n"
     ]
    },
    {
     "name": "stderr",
     "output_type": "stream",
     "text": [
      "[*********************100%***********************]  1 of 1 completed\n",
      "C:\\Users\\diego\\AppData\\Local\\Temp\\ipykernel_50852\\430125842.py:13: FutureWarning: Calling float on a single element Series is deprecated and will raise a TypeError in the future. Use float(ser.iloc[0]) instead\n",
      "  open_price     = float(df.iloc[1][\"Open\"])\n",
      "C:\\Users\\diego\\AppData\\Local\\Temp\\ipykernel_50852\\430125842.py:14: FutureWarning: Calling float on a single element Series is deprecated and will raise a TypeError in the future. Use float(ser.iloc[0]) instead\n",
      "  close_price    = float(df.iloc[1][\"Close\"])\n",
      "C:\\Users\\diego\\AppData\\Local\\Temp\\ipykernel_50852\\430125842.py:15: FutureWarning: Calling float on a single element Series is deprecated and will raise a TypeError in the future. Use float(ser.iloc[0]) instead\n",
      "  previous_open  = float(df.iloc[0][\"Open\"])\n",
      "C:\\Users\\diego\\AppData\\Local\\Temp\\ipykernel_50852\\430125842.py:16: FutureWarning: Calling float on a single element Series is deprecated and will raise a TypeError in the future. Use float(ser.iloc[0]) instead\n",
      "  previous_close = float(df.iloc[0][\"Close\"])\n"
     ]
    },
    {
     "name": "stdout",
     "output_type": "stream",
     "text": [
      "Fetching data for ELV...\n"
     ]
    },
    {
     "name": "stderr",
     "output_type": "stream",
     "text": [
      "[*********************100%***********************]  1 of 1 completed\n",
      "C:\\Users\\diego\\AppData\\Local\\Temp\\ipykernel_50852\\430125842.py:13: FutureWarning: Calling float on a single element Series is deprecated and will raise a TypeError in the future. Use float(ser.iloc[0]) instead\n",
      "  open_price     = float(df.iloc[1][\"Open\"])\n",
      "C:\\Users\\diego\\AppData\\Local\\Temp\\ipykernel_50852\\430125842.py:14: FutureWarning: Calling float on a single element Series is deprecated and will raise a TypeError in the future. Use float(ser.iloc[0]) instead\n",
      "  close_price    = float(df.iloc[1][\"Close\"])\n",
      "C:\\Users\\diego\\AppData\\Local\\Temp\\ipykernel_50852\\430125842.py:15: FutureWarning: Calling float on a single element Series is deprecated and will raise a TypeError in the future. Use float(ser.iloc[0]) instead\n",
      "  previous_open  = float(df.iloc[0][\"Open\"])\n",
      "C:\\Users\\diego\\AppData\\Local\\Temp\\ipykernel_50852\\430125842.py:16: FutureWarning: Calling float on a single element Series is deprecated and will raise a TypeError in the future. Use float(ser.iloc[0]) instead\n",
      "  previous_close = float(df.iloc[0][\"Close\"])\n"
     ]
    },
    {
     "name": "stdout",
     "output_type": "stream",
     "text": [
      "Fetching data for EMR...\n"
     ]
    },
    {
     "name": "stderr",
     "output_type": "stream",
     "text": [
      "[*********************100%***********************]  1 of 1 completed\n",
      "C:\\Users\\diego\\AppData\\Local\\Temp\\ipykernel_50852\\430125842.py:13: FutureWarning: Calling float on a single element Series is deprecated and will raise a TypeError in the future. Use float(ser.iloc[0]) instead\n",
      "  open_price     = float(df.iloc[1][\"Open\"])\n",
      "C:\\Users\\diego\\AppData\\Local\\Temp\\ipykernel_50852\\430125842.py:14: FutureWarning: Calling float on a single element Series is deprecated and will raise a TypeError in the future. Use float(ser.iloc[0]) instead\n",
      "  close_price    = float(df.iloc[1][\"Close\"])\n",
      "C:\\Users\\diego\\AppData\\Local\\Temp\\ipykernel_50852\\430125842.py:15: FutureWarning: Calling float on a single element Series is deprecated and will raise a TypeError in the future. Use float(ser.iloc[0]) instead\n",
      "  previous_open  = float(df.iloc[0][\"Open\"])\n",
      "C:\\Users\\diego\\AppData\\Local\\Temp\\ipykernel_50852\\430125842.py:16: FutureWarning: Calling float on a single element Series is deprecated and will raise a TypeError in the future. Use float(ser.iloc[0]) instead\n",
      "  previous_close = float(df.iloc[0][\"Close\"])\n"
     ]
    },
    {
     "name": "stdout",
     "output_type": "stream",
     "text": [
      "Fetching data for ENPH...\n"
     ]
    },
    {
     "name": "stderr",
     "output_type": "stream",
     "text": [
      "[*********************100%***********************]  1 of 1 completed\n",
      "C:\\Users\\diego\\AppData\\Local\\Temp\\ipykernel_50852\\430125842.py:13: FutureWarning: Calling float on a single element Series is deprecated and will raise a TypeError in the future. Use float(ser.iloc[0]) instead\n",
      "  open_price     = float(df.iloc[1][\"Open\"])\n",
      "C:\\Users\\diego\\AppData\\Local\\Temp\\ipykernel_50852\\430125842.py:14: FutureWarning: Calling float on a single element Series is deprecated and will raise a TypeError in the future. Use float(ser.iloc[0]) instead\n",
      "  close_price    = float(df.iloc[1][\"Close\"])\n",
      "C:\\Users\\diego\\AppData\\Local\\Temp\\ipykernel_50852\\430125842.py:15: FutureWarning: Calling float on a single element Series is deprecated and will raise a TypeError in the future. Use float(ser.iloc[0]) instead\n",
      "  previous_open  = float(df.iloc[0][\"Open\"])\n",
      "C:\\Users\\diego\\AppData\\Local\\Temp\\ipykernel_50852\\430125842.py:16: FutureWarning: Calling float on a single element Series is deprecated and will raise a TypeError in the future. Use float(ser.iloc[0]) instead\n",
      "  previous_close = float(df.iloc[0][\"Close\"])\n"
     ]
    },
    {
     "name": "stdout",
     "output_type": "stream",
     "text": [
      "Fetching data for ETR...\n"
     ]
    },
    {
     "name": "stderr",
     "output_type": "stream",
     "text": [
      "[*********************100%***********************]  1 of 1 completed\n",
      "C:\\Users\\diego\\AppData\\Local\\Temp\\ipykernel_50852\\430125842.py:13: FutureWarning: Calling float on a single element Series is deprecated and will raise a TypeError in the future. Use float(ser.iloc[0]) instead\n",
      "  open_price     = float(df.iloc[1][\"Open\"])\n",
      "C:\\Users\\diego\\AppData\\Local\\Temp\\ipykernel_50852\\430125842.py:14: FutureWarning: Calling float on a single element Series is deprecated and will raise a TypeError in the future. Use float(ser.iloc[0]) instead\n",
      "  close_price    = float(df.iloc[1][\"Close\"])\n",
      "C:\\Users\\diego\\AppData\\Local\\Temp\\ipykernel_50852\\430125842.py:15: FutureWarning: Calling float on a single element Series is deprecated and will raise a TypeError in the future. Use float(ser.iloc[0]) instead\n",
      "  previous_open  = float(df.iloc[0][\"Open\"])\n",
      "C:\\Users\\diego\\AppData\\Local\\Temp\\ipykernel_50852\\430125842.py:16: FutureWarning: Calling float on a single element Series is deprecated and will raise a TypeError in the future. Use float(ser.iloc[0]) instead\n",
      "  previous_close = float(df.iloc[0][\"Close\"])\n"
     ]
    },
    {
     "name": "stdout",
     "output_type": "stream",
     "text": [
      "Fetching data for EOG...\n"
     ]
    },
    {
     "name": "stderr",
     "output_type": "stream",
     "text": [
      "[*********************100%***********************]  1 of 1 completed\n",
      "C:\\Users\\diego\\AppData\\Local\\Temp\\ipykernel_50852\\430125842.py:13: FutureWarning: Calling float on a single element Series is deprecated and will raise a TypeError in the future. Use float(ser.iloc[0]) instead\n",
      "  open_price     = float(df.iloc[1][\"Open\"])\n",
      "C:\\Users\\diego\\AppData\\Local\\Temp\\ipykernel_50852\\430125842.py:14: FutureWarning: Calling float on a single element Series is deprecated and will raise a TypeError in the future. Use float(ser.iloc[0]) instead\n",
      "  close_price    = float(df.iloc[1][\"Close\"])\n",
      "C:\\Users\\diego\\AppData\\Local\\Temp\\ipykernel_50852\\430125842.py:15: FutureWarning: Calling float on a single element Series is deprecated and will raise a TypeError in the future. Use float(ser.iloc[0]) instead\n",
      "  previous_open  = float(df.iloc[0][\"Open\"])\n",
      "C:\\Users\\diego\\AppData\\Local\\Temp\\ipykernel_50852\\430125842.py:16: FutureWarning: Calling float on a single element Series is deprecated and will raise a TypeError in the future. Use float(ser.iloc[0]) instead\n",
      "  previous_close = float(df.iloc[0][\"Close\"])\n"
     ]
    },
    {
     "name": "stdout",
     "output_type": "stream",
     "text": [
      "Fetching data for EPAM...\n"
     ]
    },
    {
     "name": "stderr",
     "output_type": "stream",
     "text": [
      "[*********************100%***********************]  1 of 1 completed\n",
      "C:\\Users\\diego\\AppData\\Local\\Temp\\ipykernel_50852\\430125842.py:13: FutureWarning: Calling float on a single element Series is deprecated and will raise a TypeError in the future. Use float(ser.iloc[0]) instead\n",
      "  open_price     = float(df.iloc[1][\"Open\"])\n",
      "C:\\Users\\diego\\AppData\\Local\\Temp\\ipykernel_50852\\430125842.py:14: FutureWarning: Calling float on a single element Series is deprecated and will raise a TypeError in the future. Use float(ser.iloc[0]) instead\n",
      "  close_price    = float(df.iloc[1][\"Close\"])\n",
      "C:\\Users\\diego\\AppData\\Local\\Temp\\ipykernel_50852\\430125842.py:15: FutureWarning: Calling float on a single element Series is deprecated and will raise a TypeError in the future. Use float(ser.iloc[0]) instead\n",
      "  previous_open  = float(df.iloc[0][\"Open\"])\n",
      "C:\\Users\\diego\\AppData\\Local\\Temp\\ipykernel_50852\\430125842.py:16: FutureWarning: Calling float on a single element Series is deprecated and will raise a TypeError in the future. Use float(ser.iloc[0]) instead\n",
      "  previous_close = float(df.iloc[0][\"Close\"])\n"
     ]
    },
    {
     "name": "stdout",
     "output_type": "stream",
     "text": [
      "Fetching data for EQT...\n"
     ]
    },
    {
     "name": "stderr",
     "output_type": "stream",
     "text": [
      "[*********************100%***********************]  1 of 1 completed\n",
      "C:\\Users\\diego\\AppData\\Local\\Temp\\ipykernel_50852\\430125842.py:13: FutureWarning: Calling float on a single element Series is deprecated and will raise a TypeError in the future. Use float(ser.iloc[0]) instead\n",
      "  open_price     = float(df.iloc[1][\"Open\"])\n",
      "C:\\Users\\diego\\AppData\\Local\\Temp\\ipykernel_50852\\430125842.py:14: FutureWarning: Calling float on a single element Series is deprecated and will raise a TypeError in the future. Use float(ser.iloc[0]) instead\n",
      "  close_price    = float(df.iloc[1][\"Close\"])\n",
      "C:\\Users\\diego\\AppData\\Local\\Temp\\ipykernel_50852\\430125842.py:15: FutureWarning: Calling float on a single element Series is deprecated and will raise a TypeError in the future. Use float(ser.iloc[0]) instead\n",
      "  previous_open  = float(df.iloc[0][\"Open\"])\n",
      "C:\\Users\\diego\\AppData\\Local\\Temp\\ipykernel_50852\\430125842.py:16: FutureWarning: Calling float on a single element Series is deprecated and will raise a TypeError in the future. Use float(ser.iloc[0]) instead\n",
      "  previous_close = float(df.iloc[0][\"Close\"])\n"
     ]
    },
    {
     "name": "stdout",
     "output_type": "stream",
     "text": [
      "Fetching data for EFX...\n"
     ]
    },
    {
     "name": "stderr",
     "output_type": "stream",
     "text": [
      "[*********************100%***********************]  1 of 1 completed\n",
      "C:\\Users\\diego\\AppData\\Local\\Temp\\ipykernel_50852\\430125842.py:13: FutureWarning: Calling float on a single element Series is deprecated and will raise a TypeError in the future. Use float(ser.iloc[0]) instead\n",
      "  open_price     = float(df.iloc[1][\"Open\"])\n",
      "C:\\Users\\diego\\AppData\\Local\\Temp\\ipykernel_50852\\430125842.py:14: FutureWarning: Calling float on a single element Series is deprecated and will raise a TypeError in the future. Use float(ser.iloc[0]) instead\n",
      "  close_price    = float(df.iloc[1][\"Close\"])\n",
      "C:\\Users\\diego\\AppData\\Local\\Temp\\ipykernel_50852\\430125842.py:15: FutureWarning: Calling float on a single element Series is deprecated and will raise a TypeError in the future. Use float(ser.iloc[0]) instead\n",
      "  previous_open  = float(df.iloc[0][\"Open\"])\n",
      "C:\\Users\\diego\\AppData\\Local\\Temp\\ipykernel_50852\\430125842.py:16: FutureWarning: Calling float on a single element Series is deprecated and will raise a TypeError in the future. Use float(ser.iloc[0]) instead\n",
      "  previous_close = float(df.iloc[0][\"Close\"])\n"
     ]
    },
    {
     "name": "stdout",
     "output_type": "stream",
     "text": [
      "Fetching data for EQIX...\n"
     ]
    },
    {
     "name": "stderr",
     "output_type": "stream",
     "text": [
      "[*********************100%***********************]  1 of 1 completed\n",
      "C:\\Users\\diego\\AppData\\Local\\Temp\\ipykernel_50852\\430125842.py:13: FutureWarning: Calling float on a single element Series is deprecated and will raise a TypeError in the future. Use float(ser.iloc[0]) instead\n",
      "  open_price     = float(df.iloc[1][\"Open\"])\n",
      "C:\\Users\\diego\\AppData\\Local\\Temp\\ipykernel_50852\\430125842.py:14: FutureWarning: Calling float on a single element Series is deprecated and will raise a TypeError in the future. Use float(ser.iloc[0]) instead\n",
      "  close_price    = float(df.iloc[1][\"Close\"])\n",
      "C:\\Users\\diego\\AppData\\Local\\Temp\\ipykernel_50852\\430125842.py:15: FutureWarning: Calling float on a single element Series is deprecated and will raise a TypeError in the future. Use float(ser.iloc[0]) instead\n",
      "  previous_open  = float(df.iloc[0][\"Open\"])\n",
      "C:\\Users\\diego\\AppData\\Local\\Temp\\ipykernel_50852\\430125842.py:16: FutureWarning: Calling float on a single element Series is deprecated and will raise a TypeError in the future. Use float(ser.iloc[0]) instead\n",
      "  previous_close = float(df.iloc[0][\"Close\"])\n"
     ]
    },
    {
     "name": "stdout",
     "output_type": "stream",
     "text": [
      "Fetching data for EQR...\n"
     ]
    },
    {
     "name": "stderr",
     "output_type": "stream",
     "text": [
      "[*********************100%***********************]  1 of 1 completed\n",
      "C:\\Users\\diego\\AppData\\Local\\Temp\\ipykernel_50852\\430125842.py:13: FutureWarning: Calling float on a single element Series is deprecated and will raise a TypeError in the future. Use float(ser.iloc[0]) instead\n",
      "  open_price     = float(df.iloc[1][\"Open\"])\n",
      "C:\\Users\\diego\\AppData\\Local\\Temp\\ipykernel_50852\\430125842.py:14: FutureWarning: Calling float on a single element Series is deprecated and will raise a TypeError in the future. Use float(ser.iloc[0]) instead\n",
      "  close_price    = float(df.iloc[1][\"Close\"])\n",
      "C:\\Users\\diego\\AppData\\Local\\Temp\\ipykernel_50852\\430125842.py:15: FutureWarning: Calling float on a single element Series is deprecated and will raise a TypeError in the future. Use float(ser.iloc[0]) instead\n",
      "  previous_open  = float(df.iloc[0][\"Open\"])\n",
      "C:\\Users\\diego\\AppData\\Local\\Temp\\ipykernel_50852\\430125842.py:16: FutureWarning: Calling float on a single element Series is deprecated and will raise a TypeError in the future. Use float(ser.iloc[0]) instead\n",
      "  previous_close = float(df.iloc[0][\"Close\"])\n"
     ]
    },
    {
     "name": "stdout",
     "output_type": "stream",
     "text": [
      "Fetching data for ERIE...\n"
     ]
    },
    {
     "name": "stderr",
     "output_type": "stream",
     "text": [
      "[*********************100%***********************]  1 of 1 completed\n",
      "C:\\Users\\diego\\AppData\\Local\\Temp\\ipykernel_50852\\430125842.py:13: FutureWarning: Calling float on a single element Series is deprecated and will raise a TypeError in the future. Use float(ser.iloc[0]) instead\n",
      "  open_price     = float(df.iloc[1][\"Open\"])\n",
      "C:\\Users\\diego\\AppData\\Local\\Temp\\ipykernel_50852\\430125842.py:14: FutureWarning: Calling float on a single element Series is deprecated and will raise a TypeError in the future. Use float(ser.iloc[0]) instead\n",
      "  close_price    = float(df.iloc[1][\"Close\"])\n",
      "C:\\Users\\diego\\AppData\\Local\\Temp\\ipykernel_50852\\430125842.py:15: FutureWarning: Calling float on a single element Series is deprecated and will raise a TypeError in the future. Use float(ser.iloc[0]) instead\n",
      "  previous_open  = float(df.iloc[0][\"Open\"])\n",
      "C:\\Users\\diego\\AppData\\Local\\Temp\\ipykernel_50852\\430125842.py:16: FutureWarning: Calling float on a single element Series is deprecated and will raise a TypeError in the future. Use float(ser.iloc[0]) instead\n",
      "  previous_close = float(df.iloc[0][\"Close\"])\n"
     ]
    },
    {
     "name": "stdout",
     "output_type": "stream",
     "text": [
      "Fetching data for ESS...\n"
     ]
    },
    {
     "name": "stderr",
     "output_type": "stream",
     "text": [
      "[*********************100%***********************]  1 of 1 completed\n",
      "C:\\Users\\diego\\AppData\\Local\\Temp\\ipykernel_50852\\430125842.py:13: FutureWarning: Calling float on a single element Series is deprecated and will raise a TypeError in the future. Use float(ser.iloc[0]) instead\n",
      "  open_price     = float(df.iloc[1][\"Open\"])\n",
      "C:\\Users\\diego\\AppData\\Local\\Temp\\ipykernel_50852\\430125842.py:14: FutureWarning: Calling float on a single element Series is deprecated and will raise a TypeError in the future. Use float(ser.iloc[0]) instead\n",
      "  close_price    = float(df.iloc[1][\"Close\"])\n",
      "C:\\Users\\diego\\AppData\\Local\\Temp\\ipykernel_50852\\430125842.py:15: FutureWarning: Calling float on a single element Series is deprecated and will raise a TypeError in the future. Use float(ser.iloc[0]) instead\n",
      "  previous_open  = float(df.iloc[0][\"Open\"])\n",
      "C:\\Users\\diego\\AppData\\Local\\Temp\\ipykernel_50852\\430125842.py:16: FutureWarning: Calling float on a single element Series is deprecated and will raise a TypeError in the future. Use float(ser.iloc[0]) instead\n",
      "  previous_close = float(df.iloc[0][\"Close\"])\n"
     ]
    },
    {
     "name": "stdout",
     "output_type": "stream",
     "text": [
      "Fetching data for EL...\n"
     ]
    },
    {
     "name": "stderr",
     "output_type": "stream",
     "text": [
      "[*********************100%***********************]  1 of 1 completed\n",
      "C:\\Users\\diego\\AppData\\Local\\Temp\\ipykernel_50852\\430125842.py:13: FutureWarning: Calling float on a single element Series is deprecated and will raise a TypeError in the future. Use float(ser.iloc[0]) instead\n",
      "  open_price     = float(df.iloc[1][\"Open\"])\n",
      "C:\\Users\\diego\\AppData\\Local\\Temp\\ipykernel_50852\\430125842.py:14: FutureWarning: Calling float on a single element Series is deprecated and will raise a TypeError in the future. Use float(ser.iloc[0]) instead\n",
      "  close_price    = float(df.iloc[1][\"Close\"])\n",
      "C:\\Users\\diego\\AppData\\Local\\Temp\\ipykernel_50852\\430125842.py:15: FutureWarning: Calling float on a single element Series is deprecated and will raise a TypeError in the future. Use float(ser.iloc[0]) instead\n",
      "  previous_open  = float(df.iloc[0][\"Open\"])\n",
      "C:\\Users\\diego\\AppData\\Local\\Temp\\ipykernel_50852\\430125842.py:16: FutureWarning: Calling float on a single element Series is deprecated and will raise a TypeError in the future. Use float(ser.iloc[0]) instead\n",
      "  previous_close = float(df.iloc[0][\"Close\"])\n"
     ]
    },
    {
     "name": "stdout",
     "output_type": "stream",
     "text": [
      "Fetching data for EG...\n"
     ]
    },
    {
     "name": "stderr",
     "output_type": "stream",
     "text": [
      "[*********************100%***********************]  1 of 1 completed\n",
      "C:\\Users\\diego\\AppData\\Local\\Temp\\ipykernel_50852\\430125842.py:13: FutureWarning: Calling float on a single element Series is deprecated and will raise a TypeError in the future. Use float(ser.iloc[0]) instead\n",
      "  open_price     = float(df.iloc[1][\"Open\"])\n",
      "C:\\Users\\diego\\AppData\\Local\\Temp\\ipykernel_50852\\430125842.py:14: FutureWarning: Calling float on a single element Series is deprecated and will raise a TypeError in the future. Use float(ser.iloc[0]) instead\n",
      "  close_price    = float(df.iloc[1][\"Close\"])\n",
      "C:\\Users\\diego\\AppData\\Local\\Temp\\ipykernel_50852\\430125842.py:15: FutureWarning: Calling float on a single element Series is deprecated and will raise a TypeError in the future. Use float(ser.iloc[0]) instead\n",
      "  previous_open  = float(df.iloc[0][\"Open\"])\n",
      "C:\\Users\\diego\\AppData\\Local\\Temp\\ipykernel_50852\\430125842.py:16: FutureWarning: Calling float on a single element Series is deprecated and will raise a TypeError in the future. Use float(ser.iloc[0]) instead\n",
      "  previous_close = float(df.iloc[0][\"Close\"])\n"
     ]
    },
    {
     "name": "stdout",
     "output_type": "stream",
     "text": [
      "Fetching data for EVRG...\n"
     ]
    },
    {
     "name": "stderr",
     "output_type": "stream",
     "text": [
      "[*********************100%***********************]  1 of 1 completed\n",
      "C:\\Users\\diego\\AppData\\Local\\Temp\\ipykernel_50852\\430125842.py:13: FutureWarning: Calling float on a single element Series is deprecated and will raise a TypeError in the future. Use float(ser.iloc[0]) instead\n",
      "  open_price     = float(df.iloc[1][\"Open\"])\n",
      "C:\\Users\\diego\\AppData\\Local\\Temp\\ipykernel_50852\\430125842.py:14: FutureWarning: Calling float on a single element Series is deprecated and will raise a TypeError in the future. Use float(ser.iloc[0]) instead\n",
      "  close_price    = float(df.iloc[1][\"Close\"])\n",
      "C:\\Users\\diego\\AppData\\Local\\Temp\\ipykernel_50852\\430125842.py:15: FutureWarning: Calling float on a single element Series is deprecated and will raise a TypeError in the future. Use float(ser.iloc[0]) instead\n",
      "  previous_open  = float(df.iloc[0][\"Open\"])\n",
      "C:\\Users\\diego\\AppData\\Local\\Temp\\ipykernel_50852\\430125842.py:16: FutureWarning: Calling float on a single element Series is deprecated and will raise a TypeError in the future. Use float(ser.iloc[0]) instead\n",
      "  previous_close = float(df.iloc[0][\"Close\"])\n"
     ]
    },
    {
     "name": "stdout",
     "output_type": "stream",
     "text": [
      "Fetching data for ES...\n"
     ]
    },
    {
     "name": "stderr",
     "output_type": "stream",
     "text": [
      "[*********************100%***********************]  1 of 1 completed\n",
      "C:\\Users\\diego\\AppData\\Local\\Temp\\ipykernel_50852\\430125842.py:13: FutureWarning: Calling float on a single element Series is deprecated and will raise a TypeError in the future. Use float(ser.iloc[0]) instead\n",
      "  open_price     = float(df.iloc[1][\"Open\"])\n",
      "C:\\Users\\diego\\AppData\\Local\\Temp\\ipykernel_50852\\430125842.py:14: FutureWarning: Calling float on a single element Series is deprecated and will raise a TypeError in the future. Use float(ser.iloc[0]) instead\n",
      "  close_price    = float(df.iloc[1][\"Close\"])\n",
      "C:\\Users\\diego\\AppData\\Local\\Temp\\ipykernel_50852\\430125842.py:15: FutureWarning: Calling float on a single element Series is deprecated and will raise a TypeError in the future. Use float(ser.iloc[0]) instead\n",
      "  previous_open  = float(df.iloc[0][\"Open\"])\n",
      "C:\\Users\\diego\\AppData\\Local\\Temp\\ipykernel_50852\\430125842.py:16: FutureWarning: Calling float on a single element Series is deprecated and will raise a TypeError in the future. Use float(ser.iloc[0]) instead\n",
      "  previous_close = float(df.iloc[0][\"Close\"])\n"
     ]
    },
    {
     "name": "stdout",
     "output_type": "stream",
     "text": [
      "Fetching data for EXC...\n"
     ]
    },
    {
     "name": "stderr",
     "output_type": "stream",
     "text": [
      "[*********************100%***********************]  1 of 1 completed\n",
      "C:\\Users\\diego\\AppData\\Local\\Temp\\ipykernel_50852\\430125842.py:13: FutureWarning: Calling float on a single element Series is deprecated and will raise a TypeError in the future. Use float(ser.iloc[0]) instead\n",
      "  open_price     = float(df.iloc[1][\"Open\"])\n",
      "C:\\Users\\diego\\AppData\\Local\\Temp\\ipykernel_50852\\430125842.py:14: FutureWarning: Calling float on a single element Series is deprecated and will raise a TypeError in the future. Use float(ser.iloc[0]) instead\n",
      "  close_price    = float(df.iloc[1][\"Close\"])\n",
      "C:\\Users\\diego\\AppData\\Local\\Temp\\ipykernel_50852\\430125842.py:15: FutureWarning: Calling float on a single element Series is deprecated and will raise a TypeError in the future. Use float(ser.iloc[0]) instead\n",
      "  previous_open  = float(df.iloc[0][\"Open\"])\n",
      "C:\\Users\\diego\\AppData\\Local\\Temp\\ipykernel_50852\\430125842.py:16: FutureWarning: Calling float on a single element Series is deprecated and will raise a TypeError in the future. Use float(ser.iloc[0]) instead\n",
      "  previous_close = float(df.iloc[0][\"Close\"])\n"
     ]
    },
    {
     "name": "stdout",
     "output_type": "stream",
     "text": [
      "Fetching data for EXPE...\n"
     ]
    },
    {
     "name": "stderr",
     "output_type": "stream",
     "text": [
      "[*********************100%***********************]  1 of 1 completed\n",
      "C:\\Users\\diego\\AppData\\Local\\Temp\\ipykernel_50852\\430125842.py:13: FutureWarning: Calling float on a single element Series is deprecated and will raise a TypeError in the future. Use float(ser.iloc[0]) instead\n",
      "  open_price     = float(df.iloc[1][\"Open\"])\n",
      "C:\\Users\\diego\\AppData\\Local\\Temp\\ipykernel_50852\\430125842.py:14: FutureWarning: Calling float on a single element Series is deprecated and will raise a TypeError in the future. Use float(ser.iloc[0]) instead\n",
      "  close_price    = float(df.iloc[1][\"Close\"])\n",
      "C:\\Users\\diego\\AppData\\Local\\Temp\\ipykernel_50852\\430125842.py:15: FutureWarning: Calling float on a single element Series is deprecated and will raise a TypeError in the future. Use float(ser.iloc[0]) instead\n",
      "  previous_open  = float(df.iloc[0][\"Open\"])\n",
      "C:\\Users\\diego\\AppData\\Local\\Temp\\ipykernel_50852\\430125842.py:16: FutureWarning: Calling float on a single element Series is deprecated and will raise a TypeError in the future. Use float(ser.iloc[0]) instead\n",
      "  previous_close = float(df.iloc[0][\"Close\"])\n"
     ]
    },
    {
     "name": "stdout",
     "output_type": "stream",
     "text": [
      "Fetching data for EXPD...\n"
     ]
    },
    {
     "name": "stderr",
     "output_type": "stream",
     "text": [
      "[*********************100%***********************]  1 of 1 completed\n",
      "C:\\Users\\diego\\AppData\\Local\\Temp\\ipykernel_50852\\430125842.py:13: FutureWarning: Calling float on a single element Series is deprecated and will raise a TypeError in the future. Use float(ser.iloc[0]) instead\n",
      "  open_price     = float(df.iloc[1][\"Open\"])\n",
      "C:\\Users\\diego\\AppData\\Local\\Temp\\ipykernel_50852\\430125842.py:14: FutureWarning: Calling float on a single element Series is deprecated and will raise a TypeError in the future. Use float(ser.iloc[0]) instead\n",
      "  close_price    = float(df.iloc[1][\"Close\"])\n",
      "C:\\Users\\diego\\AppData\\Local\\Temp\\ipykernel_50852\\430125842.py:15: FutureWarning: Calling float on a single element Series is deprecated and will raise a TypeError in the future. Use float(ser.iloc[0]) instead\n",
      "  previous_open  = float(df.iloc[0][\"Open\"])\n",
      "C:\\Users\\diego\\AppData\\Local\\Temp\\ipykernel_50852\\430125842.py:16: FutureWarning: Calling float on a single element Series is deprecated and will raise a TypeError in the future. Use float(ser.iloc[0]) instead\n",
      "  previous_close = float(df.iloc[0][\"Close\"])\n"
     ]
    },
    {
     "name": "stdout",
     "output_type": "stream",
     "text": [
      "Fetching data for EXR...\n"
     ]
    },
    {
     "name": "stderr",
     "output_type": "stream",
     "text": [
      "[*********************100%***********************]  1 of 1 completed\n",
      "C:\\Users\\diego\\AppData\\Local\\Temp\\ipykernel_50852\\430125842.py:13: FutureWarning: Calling float on a single element Series is deprecated and will raise a TypeError in the future. Use float(ser.iloc[0]) instead\n",
      "  open_price     = float(df.iloc[1][\"Open\"])\n",
      "C:\\Users\\diego\\AppData\\Local\\Temp\\ipykernel_50852\\430125842.py:14: FutureWarning: Calling float on a single element Series is deprecated and will raise a TypeError in the future. Use float(ser.iloc[0]) instead\n",
      "  close_price    = float(df.iloc[1][\"Close\"])\n",
      "C:\\Users\\diego\\AppData\\Local\\Temp\\ipykernel_50852\\430125842.py:15: FutureWarning: Calling float on a single element Series is deprecated and will raise a TypeError in the future. Use float(ser.iloc[0]) instead\n",
      "  previous_open  = float(df.iloc[0][\"Open\"])\n",
      "C:\\Users\\diego\\AppData\\Local\\Temp\\ipykernel_50852\\430125842.py:16: FutureWarning: Calling float on a single element Series is deprecated and will raise a TypeError in the future. Use float(ser.iloc[0]) instead\n",
      "  previous_close = float(df.iloc[0][\"Close\"])\n"
     ]
    },
    {
     "name": "stdout",
     "output_type": "stream",
     "text": [
      "Fetching data for XOM...\n"
     ]
    },
    {
     "name": "stderr",
     "output_type": "stream",
     "text": [
      "[*********************100%***********************]  1 of 1 completed\n",
      "C:\\Users\\diego\\AppData\\Local\\Temp\\ipykernel_50852\\430125842.py:13: FutureWarning: Calling float on a single element Series is deprecated and will raise a TypeError in the future. Use float(ser.iloc[0]) instead\n",
      "  open_price     = float(df.iloc[1][\"Open\"])\n",
      "C:\\Users\\diego\\AppData\\Local\\Temp\\ipykernel_50852\\430125842.py:14: FutureWarning: Calling float on a single element Series is deprecated and will raise a TypeError in the future. Use float(ser.iloc[0]) instead\n",
      "  close_price    = float(df.iloc[1][\"Close\"])\n",
      "C:\\Users\\diego\\AppData\\Local\\Temp\\ipykernel_50852\\430125842.py:15: FutureWarning: Calling float on a single element Series is deprecated and will raise a TypeError in the future. Use float(ser.iloc[0]) instead\n",
      "  previous_open  = float(df.iloc[0][\"Open\"])\n",
      "C:\\Users\\diego\\AppData\\Local\\Temp\\ipykernel_50852\\430125842.py:16: FutureWarning: Calling float on a single element Series is deprecated and will raise a TypeError in the future. Use float(ser.iloc[0]) instead\n",
      "  previous_close = float(df.iloc[0][\"Close\"])\n"
     ]
    },
    {
     "name": "stdout",
     "output_type": "stream",
     "text": [
      "Fetching data for FFIV...\n"
     ]
    },
    {
     "name": "stderr",
     "output_type": "stream",
     "text": [
      "[*********************100%***********************]  1 of 1 completed\n",
      "C:\\Users\\diego\\AppData\\Local\\Temp\\ipykernel_50852\\430125842.py:13: FutureWarning: Calling float on a single element Series is deprecated and will raise a TypeError in the future. Use float(ser.iloc[0]) instead\n",
      "  open_price     = float(df.iloc[1][\"Open\"])\n",
      "C:\\Users\\diego\\AppData\\Local\\Temp\\ipykernel_50852\\430125842.py:14: FutureWarning: Calling float on a single element Series is deprecated and will raise a TypeError in the future. Use float(ser.iloc[0]) instead\n",
      "  close_price    = float(df.iloc[1][\"Close\"])\n",
      "C:\\Users\\diego\\AppData\\Local\\Temp\\ipykernel_50852\\430125842.py:15: FutureWarning: Calling float on a single element Series is deprecated and will raise a TypeError in the future. Use float(ser.iloc[0]) instead\n",
      "  previous_open  = float(df.iloc[0][\"Open\"])\n",
      "C:\\Users\\diego\\AppData\\Local\\Temp\\ipykernel_50852\\430125842.py:16: FutureWarning: Calling float on a single element Series is deprecated and will raise a TypeError in the future. Use float(ser.iloc[0]) instead\n",
      "  previous_close = float(df.iloc[0][\"Close\"])\n"
     ]
    },
    {
     "name": "stdout",
     "output_type": "stream",
     "text": [
      "Fetching data for FDS...\n"
     ]
    },
    {
     "name": "stderr",
     "output_type": "stream",
     "text": [
      "[*********************100%***********************]  1 of 1 completed\n",
      "C:\\Users\\diego\\AppData\\Local\\Temp\\ipykernel_50852\\430125842.py:13: FutureWarning: Calling float on a single element Series is deprecated and will raise a TypeError in the future. Use float(ser.iloc[0]) instead\n",
      "  open_price     = float(df.iloc[1][\"Open\"])\n",
      "C:\\Users\\diego\\AppData\\Local\\Temp\\ipykernel_50852\\430125842.py:14: FutureWarning: Calling float on a single element Series is deprecated and will raise a TypeError in the future. Use float(ser.iloc[0]) instead\n",
      "  close_price    = float(df.iloc[1][\"Close\"])\n",
      "C:\\Users\\diego\\AppData\\Local\\Temp\\ipykernel_50852\\430125842.py:15: FutureWarning: Calling float on a single element Series is deprecated and will raise a TypeError in the future. Use float(ser.iloc[0]) instead\n",
      "  previous_open  = float(df.iloc[0][\"Open\"])\n",
      "C:\\Users\\diego\\AppData\\Local\\Temp\\ipykernel_50852\\430125842.py:16: FutureWarning: Calling float on a single element Series is deprecated and will raise a TypeError in the future. Use float(ser.iloc[0]) instead\n",
      "  previous_close = float(df.iloc[0][\"Close\"])\n"
     ]
    },
    {
     "name": "stdout",
     "output_type": "stream",
     "text": [
      "Fetching data for FICO...\n"
     ]
    },
    {
     "name": "stderr",
     "output_type": "stream",
     "text": [
      "[*********************100%***********************]  1 of 1 completed\n",
      "C:\\Users\\diego\\AppData\\Local\\Temp\\ipykernel_50852\\430125842.py:13: FutureWarning: Calling float on a single element Series is deprecated and will raise a TypeError in the future. Use float(ser.iloc[0]) instead\n",
      "  open_price     = float(df.iloc[1][\"Open\"])\n",
      "C:\\Users\\diego\\AppData\\Local\\Temp\\ipykernel_50852\\430125842.py:14: FutureWarning: Calling float on a single element Series is deprecated and will raise a TypeError in the future. Use float(ser.iloc[0]) instead\n",
      "  close_price    = float(df.iloc[1][\"Close\"])\n",
      "C:\\Users\\diego\\AppData\\Local\\Temp\\ipykernel_50852\\430125842.py:15: FutureWarning: Calling float on a single element Series is deprecated and will raise a TypeError in the future. Use float(ser.iloc[0]) instead\n",
      "  previous_open  = float(df.iloc[0][\"Open\"])\n",
      "C:\\Users\\diego\\AppData\\Local\\Temp\\ipykernel_50852\\430125842.py:16: FutureWarning: Calling float on a single element Series is deprecated and will raise a TypeError in the future. Use float(ser.iloc[0]) instead\n",
      "  previous_close = float(df.iloc[0][\"Close\"])\n"
     ]
    },
    {
     "name": "stdout",
     "output_type": "stream",
     "text": [
      "Fetching data for FAST...\n"
     ]
    },
    {
     "name": "stderr",
     "output_type": "stream",
     "text": [
      "[*********************100%***********************]  1 of 1 completed\n",
      "C:\\Users\\diego\\AppData\\Local\\Temp\\ipykernel_50852\\430125842.py:13: FutureWarning: Calling float on a single element Series is deprecated and will raise a TypeError in the future. Use float(ser.iloc[0]) instead\n",
      "  open_price     = float(df.iloc[1][\"Open\"])\n",
      "C:\\Users\\diego\\AppData\\Local\\Temp\\ipykernel_50852\\430125842.py:14: FutureWarning: Calling float on a single element Series is deprecated and will raise a TypeError in the future. Use float(ser.iloc[0]) instead\n",
      "  close_price    = float(df.iloc[1][\"Close\"])\n",
      "C:\\Users\\diego\\AppData\\Local\\Temp\\ipykernel_50852\\430125842.py:15: FutureWarning: Calling float on a single element Series is deprecated and will raise a TypeError in the future. Use float(ser.iloc[0]) instead\n",
      "  previous_open  = float(df.iloc[0][\"Open\"])\n",
      "C:\\Users\\diego\\AppData\\Local\\Temp\\ipykernel_50852\\430125842.py:16: FutureWarning: Calling float on a single element Series is deprecated and will raise a TypeError in the future. Use float(ser.iloc[0]) instead\n",
      "  previous_close = float(df.iloc[0][\"Close\"])\n"
     ]
    },
    {
     "name": "stdout",
     "output_type": "stream",
     "text": [
      "Fetching data for FRT...\n"
     ]
    },
    {
     "name": "stderr",
     "output_type": "stream",
     "text": [
      "[*********************100%***********************]  1 of 1 completed\n",
      "C:\\Users\\diego\\AppData\\Local\\Temp\\ipykernel_50852\\430125842.py:13: FutureWarning: Calling float on a single element Series is deprecated and will raise a TypeError in the future. Use float(ser.iloc[0]) instead\n",
      "  open_price     = float(df.iloc[1][\"Open\"])\n",
      "C:\\Users\\diego\\AppData\\Local\\Temp\\ipykernel_50852\\430125842.py:14: FutureWarning: Calling float on a single element Series is deprecated and will raise a TypeError in the future. Use float(ser.iloc[0]) instead\n",
      "  close_price    = float(df.iloc[1][\"Close\"])\n",
      "C:\\Users\\diego\\AppData\\Local\\Temp\\ipykernel_50852\\430125842.py:15: FutureWarning: Calling float on a single element Series is deprecated and will raise a TypeError in the future. Use float(ser.iloc[0]) instead\n",
      "  previous_open  = float(df.iloc[0][\"Open\"])\n",
      "C:\\Users\\diego\\AppData\\Local\\Temp\\ipykernel_50852\\430125842.py:16: FutureWarning: Calling float on a single element Series is deprecated and will raise a TypeError in the future. Use float(ser.iloc[0]) instead\n",
      "  previous_close = float(df.iloc[0][\"Close\"])\n"
     ]
    },
    {
     "name": "stdout",
     "output_type": "stream",
     "text": [
      "Fetching data for FDX...\n"
     ]
    },
    {
     "name": "stderr",
     "output_type": "stream",
     "text": [
      "[*********************100%***********************]  1 of 1 completed\n",
      "C:\\Users\\diego\\AppData\\Local\\Temp\\ipykernel_50852\\430125842.py:13: FutureWarning: Calling float on a single element Series is deprecated and will raise a TypeError in the future. Use float(ser.iloc[0]) instead\n",
      "  open_price     = float(df.iloc[1][\"Open\"])\n",
      "C:\\Users\\diego\\AppData\\Local\\Temp\\ipykernel_50852\\430125842.py:14: FutureWarning: Calling float on a single element Series is deprecated and will raise a TypeError in the future. Use float(ser.iloc[0]) instead\n",
      "  close_price    = float(df.iloc[1][\"Close\"])\n",
      "C:\\Users\\diego\\AppData\\Local\\Temp\\ipykernel_50852\\430125842.py:15: FutureWarning: Calling float on a single element Series is deprecated and will raise a TypeError in the future. Use float(ser.iloc[0]) instead\n",
      "  previous_open  = float(df.iloc[0][\"Open\"])\n",
      "C:\\Users\\diego\\AppData\\Local\\Temp\\ipykernel_50852\\430125842.py:16: FutureWarning: Calling float on a single element Series is deprecated and will raise a TypeError in the future. Use float(ser.iloc[0]) instead\n",
      "  previous_close = float(df.iloc[0][\"Close\"])\n"
     ]
    },
    {
     "name": "stdout",
     "output_type": "stream",
     "text": [
      "Fetching data for FIS...\n"
     ]
    },
    {
     "name": "stderr",
     "output_type": "stream",
     "text": [
      "[*********************100%***********************]  1 of 1 completed\n",
      "C:\\Users\\diego\\AppData\\Local\\Temp\\ipykernel_50852\\430125842.py:13: FutureWarning: Calling float on a single element Series is deprecated and will raise a TypeError in the future. Use float(ser.iloc[0]) instead\n",
      "  open_price     = float(df.iloc[1][\"Open\"])\n",
      "C:\\Users\\diego\\AppData\\Local\\Temp\\ipykernel_50852\\430125842.py:14: FutureWarning: Calling float on a single element Series is deprecated and will raise a TypeError in the future. Use float(ser.iloc[0]) instead\n",
      "  close_price    = float(df.iloc[1][\"Close\"])\n",
      "C:\\Users\\diego\\AppData\\Local\\Temp\\ipykernel_50852\\430125842.py:15: FutureWarning: Calling float on a single element Series is deprecated and will raise a TypeError in the future. Use float(ser.iloc[0]) instead\n",
      "  previous_open  = float(df.iloc[0][\"Open\"])\n",
      "C:\\Users\\diego\\AppData\\Local\\Temp\\ipykernel_50852\\430125842.py:16: FutureWarning: Calling float on a single element Series is deprecated and will raise a TypeError in the future. Use float(ser.iloc[0]) instead\n",
      "  previous_close = float(df.iloc[0][\"Close\"])\n"
     ]
    },
    {
     "name": "stdout",
     "output_type": "stream",
     "text": [
      "Fetching data for FITB...\n"
     ]
    },
    {
     "name": "stderr",
     "output_type": "stream",
     "text": [
      "[*********************100%***********************]  1 of 1 completed\n",
      "C:\\Users\\diego\\AppData\\Local\\Temp\\ipykernel_50852\\430125842.py:13: FutureWarning: Calling float on a single element Series is deprecated and will raise a TypeError in the future. Use float(ser.iloc[0]) instead\n",
      "  open_price     = float(df.iloc[1][\"Open\"])\n",
      "C:\\Users\\diego\\AppData\\Local\\Temp\\ipykernel_50852\\430125842.py:14: FutureWarning: Calling float on a single element Series is deprecated and will raise a TypeError in the future. Use float(ser.iloc[0]) instead\n",
      "  close_price    = float(df.iloc[1][\"Close\"])\n",
      "C:\\Users\\diego\\AppData\\Local\\Temp\\ipykernel_50852\\430125842.py:15: FutureWarning: Calling float on a single element Series is deprecated and will raise a TypeError in the future. Use float(ser.iloc[0]) instead\n",
      "  previous_open  = float(df.iloc[0][\"Open\"])\n",
      "C:\\Users\\diego\\AppData\\Local\\Temp\\ipykernel_50852\\430125842.py:16: FutureWarning: Calling float on a single element Series is deprecated and will raise a TypeError in the future. Use float(ser.iloc[0]) instead\n",
      "  previous_close = float(df.iloc[0][\"Close\"])\n"
     ]
    },
    {
     "name": "stdout",
     "output_type": "stream",
     "text": [
      "Fetching data for FSLR...\n"
     ]
    },
    {
     "name": "stderr",
     "output_type": "stream",
     "text": [
      "[*********************100%***********************]  1 of 1 completed\n",
      "C:\\Users\\diego\\AppData\\Local\\Temp\\ipykernel_50852\\430125842.py:13: FutureWarning: Calling float on a single element Series is deprecated and will raise a TypeError in the future. Use float(ser.iloc[0]) instead\n",
      "  open_price     = float(df.iloc[1][\"Open\"])\n",
      "C:\\Users\\diego\\AppData\\Local\\Temp\\ipykernel_50852\\430125842.py:14: FutureWarning: Calling float on a single element Series is deprecated and will raise a TypeError in the future. Use float(ser.iloc[0]) instead\n",
      "  close_price    = float(df.iloc[1][\"Close\"])\n",
      "C:\\Users\\diego\\AppData\\Local\\Temp\\ipykernel_50852\\430125842.py:15: FutureWarning: Calling float on a single element Series is deprecated and will raise a TypeError in the future. Use float(ser.iloc[0]) instead\n",
      "  previous_open  = float(df.iloc[0][\"Open\"])\n",
      "C:\\Users\\diego\\AppData\\Local\\Temp\\ipykernel_50852\\430125842.py:16: FutureWarning: Calling float on a single element Series is deprecated and will raise a TypeError in the future. Use float(ser.iloc[0]) instead\n",
      "  previous_close = float(df.iloc[0][\"Close\"])\n"
     ]
    },
    {
     "name": "stdout",
     "output_type": "stream",
     "text": [
      "Fetching data for FE...\n"
     ]
    },
    {
     "name": "stderr",
     "output_type": "stream",
     "text": [
      "[*********************100%***********************]  1 of 1 completed\n",
      "C:\\Users\\diego\\AppData\\Local\\Temp\\ipykernel_50852\\430125842.py:13: FutureWarning: Calling float on a single element Series is deprecated and will raise a TypeError in the future. Use float(ser.iloc[0]) instead\n",
      "  open_price     = float(df.iloc[1][\"Open\"])\n",
      "C:\\Users\\diego\\AppData\\Local\\Temp\\ipykernel_50852\\430125842.py:14: FutureWarning: Calling float on a single element Series is deprecated and will raise a TypeError in the future. Use float(ser.iloc[0]) instead\n",
      "  close_price    = float(df.iloc[1][\"Close\"])\n",
      "C:\\Users\\diego\\AppData\\Local\\Temp\\ipykernel_50852\\430125842.py:15: FutureWarning: Calling float on a single element Series is deprecated and will raise a TypeError in the future. Use float(ser.iloc[0]) instead\n",
      "  previous_open  = float(df.iloc[0][\"Open\"])\n",
      "C:\\Users\\diego\\AppData\\Local\\Temp\\ipykernel_50852\\430125842.py:16: FutureWarning: Calling float on a single element Series is deprecated and will raise a TypeError in the future. Use float(ser.iloc[0]) instead\n",
      "  previous_close = float(df.iloc[0][\"Close\"])\n"
     ]
    },
    {
     "name": "stdout",
     "output_type": "stream",
     "text": [
      "Fetching data for FI...\n"
     ]
    },
    {
     "name": "stderr",
     "output_type": "stream",
     "text": [
      "[*********************100%***********************]  1 of 1 completed\n",
      "C:\\Users\\diego\\AppData\\Local\\Temp\\ipykernel_50852\\430125842.py:13: FutureWarning: Calling float on a single element Series is deprecated and will raise a TypeError in the future. Use float(ser.iloc[0]) instead\n",
      "  open_price     = float(df.iloc[1][\"Open\"])\n",
      "C:\\Users\\diego\\AppData\\Local\\Temp\\ipykernel_50852\\430125842.py:14: FutureWarning: Calling float on a single element Series is deprecated and will raise a TypeError in the future. Use float(ser.iloc[0]) instead\n",
      "  close_price    = float(df.iloc[1][\"Close\"])\n",
      "C:\\Users\\diego\\AppData\\Local\\Temp\\ipykernel_50852\\430125842.py:15: FutureWarning: Calling float on a single element Series is deprecated and will raise a TypeError in the future. Use float(ser.iloc[0]) instead\n",
      "  previous_open  = float(df.iloc[0][\"Open\"])\n",
      "C:\\Users\\diego\\AppData\\Local\\Temp\\ipykernel_50852\\430125842.py:16: FutureWarning: Calling float on a single element Series is deprecated and will raise a TypeError in the future. Use float(ser.iloc[0]) instead\n",
      "  previous_close = float(df.iloc[0][\"Close\"])\n"
     ]
    },
    {
     "name": "stdout",
     "output_type": "stream",
     "text": [
      "Fetching data for FMC...\n"
     ]
    },
    {
     "name": "stderr",
     "output_type": "stream",
     "text": [
      "[*********************100%***********************]  1 of 1 completed\n",
      "C:\\Users\\diego\\AppData\\Local\\Temp\\ipykernel_50852\\430125842.py:13: FutureWarning: Calling float on a single element Series is deprecated and will raise a TypeError in the future. Use float(ser.iloc[0]) instead\n",
      "  open_price     = float(df.iloc[1][\"Open\"])\n",
      "C:\\Users\\diego\\AppData\\Local\\Temp\\ipykernel_50852\\430125842.py:14: FutureWarning: Calling float on a single element Series is deprecated and will raise a TypeError in the future. Use float(ser.iloc[0]) instead\n",
      "  close_price    = float(df.iloc[1][\"Close\"])\n",
      "C:\\Users\\diego\\AppData\\Local\\Temp\\ipykernel_50852\\430125842.py:15: FutureWarning: Calling float on a single element Series is deprecated and will raise a TypeError in the future. Use float(ser.iloc[0]) instead\n",
      "  previous_open  = float(df.iloc[0][\"Open\"])\n",
      "C:\\Users\\diego\\AppData\\Local\\Temp\\ipykernel_50852\\430125842.py:16: FutureWarning: Calling float on a single element Series is deprecated and will raise a TypeError in the future. Use float(ser.iloc[0]) instead\n",
      "  previous_close = float(df.iloc[0][\"Close\"])\n"
     ]
    },
    {
     "name": "stdout",
     "output_type": "stream",
     "text": [
      "Fetching data for F...\n"
     ]
    },
    {
     "name": "stderr",
     "output_type": "stream",
     "text": [
      "[*********************100%***********************]  1 of 1 completed\n",
      "C:\\Users\\diego\\AppData\\Local\\Temp\\ipykernel_50852\\430125842.py:13: FutureWarning: Calling float on a single element Series is deprecated and will raise a TypeError in the future. Use float(ser.iloc[0]) instead\n",
      "  open_price     = float(df.iloc[1][\"Open\"])\n",
      "C:\\Users\\diego\\AppData\\Local\\Temp\\ipykernel_50852\\430125842.py:14: FutureWarning: Calling float on a single element Series is deprecated and will raise a TypeError in the future. Use float(ser.iloc[0]) instead\n",
      "  close_price    = float(df.iloc[1][\"Close\"])\n",
      "C:\\Users\\diego\\AppData\\Local\\Temp\\ipykernel_50852\\430125842.py:15: FutureWarning: Calling float on a single element Series is deprecated and will raise a TypeError in the future. Use float(ser.iloc[0]) instead\n",
      "  previous_open  = float(df.iloc[0][\"Open\"])\n",
      "C:\\Users\\diego\\AppData\\Local\\Temp\\ipykernel_50852\\430125842.py:16: FutureWarning: Calling float on a single element Series is deprecated and will raise a TypeError in the future. Use float(ser.iloc[0]) instead\n",
      "  previous_close = float(df.iloc[0][\"Close\"])\n"
     ]
    },
    {
     "name": "stdout",
     "output_type": "stream",
     "text": [
      "Fetching data for FTNT...\n"
     ]
    },
    {
     "name": "stderr",
     "output_type": "stream",
     "text": [
      "[*********************100%***********************]  1 of 1 completed\n",
      "C:\\Users\\diego\\AppData\\Local\\Temp\\ipykernel_50852\\430125842.py:13: FutureWarning: Calling float on a single element Series is deprecated and will raise a TypeError in the future. Use float(ser.iloc[0]) instead\n",
      "  open_price     = float(df.iloc[1][\"Open\"])\n",
      "C:\\Users\\diego\\AppData\\Local\\Temp\\ipykernel_50852\\430125842.py:14: FutureWarning: Calling float on a single element Series is deprecated and will raise a TypeError in the future. Use float(ser.iloc[0]) instead\n",
      "  close_price    = float(df.iloc[1][\"Close\"])\n",
      "C:\\Users\\diego\\AppData\\Local\\Temp\\ipykernel_50852\\430125842.py:15: FutureWarning: Calling float on a single element Series is deprecated and will raise a TypeError in the future. Use float(ser.iloc[0]) instead\n",
      "  previous_open  = float(df.iloc[0][\"Open\"])\n",
      "C:\\Users\\diego\\AppData\\Local\\Temp\\ipykernel_50852\\430125842.py:16: FutureWarning: Calling float on a single element Series is deprecated and will raise a TypeError in the future. Use float(ser.iloc[0]) instead\n",
      "  previous_close = float(df.iloc[0][\"Close\"])\n"
     ]
    },
    {
     "name": "stdout",
     "output_type": "stream",
     "text": [
      "Fetching data for FTV...\n"
     ]
    },
    {
     "name": "stderr",
     "output_type": "stream",
     "text": [
      "[*********************100%***********************]  1 of 1 completed\n",
      "C:\\Users\\diego\\AppData\\Local\\Temp\\ipykernel_50852\\430125842.py:13: FutureWarning: Calling float on a single element Series is deprecated and will raise a TypeError in the future. Use float(ser.iloc[0]) instead\n",
      "  open_price     = float(df.iloc[1][\"Open\"])\n",
      "C:\\Users\\diego\\AppData\\Local\\Temp\\ipykernel_50852\\430125842.py:14: FutureWarning: Calling float on a single element Series is deprecated and will raise a TypeError in the future. Use float(ser.iloc[0]) instead\n",
      "  close_price    = float(df.iloc[1][\"Close\"])\n",
      "C:\\Users\\diego\\AppData\\Local\\Temp\\ipykernel_50852\\430125842.py:15: FutureWarning: Calling float on a single element Series is deprecated and will raise a TypeError in the future. Use float(ser.iloc[0]) instead\n",
      "  previous_open  = float(df.iloc[0][\"Open\"])\n",
      "C:\\Users\\diego\\AppData\\Local\\Temp\\ipykernel_50852\\430125842.py:16: FutureWarning: Calling float on a single element Series is deprecated and will raise a TypeError in the future. Use float(ser.iloc[0]) instead\n",
      "  previous_close = float(df.iloc[0][\"Close\"])\n"
     ]
    },
    {
     "name": "stdout",
     "output_type": "stream",
     "text": [
      "Fetching data for FOXA...\n"
     ]
    },
    {
     "name": "stderr",
     "output_type": "stream",
     "text": [
      "[*********************100%***********************]  1 of 1 completed\n",
      "C:\\Users\\diego\\AppData\\Local\\Temp\\ipykernel_50852\\430125842.py:13: FutureWarning: Calling float on a single element Series is deprecated and will raise a TypeError in the future. Use float(ser.iloc[0]) instead\n",
      "  open_price     = float(df.iloc[1][\"Open\"])\n",
      "C:\\Users\\diego\\AppData\\Local\\Temp\\ipykernel_50852\\430125842.py:14: FutureWarning: Calling float on a single element Series is deprecated and will raise a TypeError in the future. Use float(ser.iloc[0]) instead\n",
      "  close_price    = float(df.iloc[1][\"Close\"])\n",
      "C:\\Users\\diego\\AppData\\Local\\Temp\\ipykernel_50852\\430125842.py:15: FutureWarning: Calling float on a single element Series is deprecated and will raise a TypeError in the future. Use float(ser.iloc[0]) instead\n",
      "  previous_open  = float(df.iloc[0][\"Open\"])\n",
      "C:\\Users\\diego\\AppData\\Local\\Temp\\ipykernel_50852\\430125842.py:16: FutureWarning: Calling float on a single element Series is deprecated and will raise a TypeError in the future. Use float(ser.iloc[0]) instead\n",
      "  previous_close = float(df.iloc[0][\"Close\"])\n"
     ]
    },
    {
     "name": "stdout",
     "output_type": "stream",
     "text": [
      "Fetching data for FOX...\n"
     ]
    },
    {
     "name": "stderr",
     "output_type": "stream",
     "text": [
      "[*********************100%***********************]  1 of 1 completed\n",
      "C:\\Users\\diego\\AppData\\Local\\Temp\\ipykernel_50852\\430125842.py:13: FutureWarning: Calling float on a single element Series is deprecated and will raise a TypeError in the future. Use float(ser.iloc[0]) instead\n",
      "  open_price     = float(df.iloc[1][\"Open\"])\n",
      "C:\\Users\\diego\\AppData\\Local\\Temp\\ipykernel_50852\\430125842.py:14: FutureWarning: Calling float on a single element Series is deprecated and will raise a TypeError in the future. Use float(ser.iloc[0]) instead\n",
      "  close_price    = float(df.iloc[1][\"Close\"])\n",
      "C:\\Users\\diego\\AppData\\Local\\Temp\\ipykernel_50852\\430125842.py:15: FutureWarning: Calling float on a single element Series is deprecated and will raise a TypeError in the future. Use float(ser.iloc[0]) instead\n",
      "  previous_open  = float(df.iloc[0][\"Open\"])\n",
      "C:\\Users\\diego\\AppData\\Local\\Temp\\ipykernel_50852\\430125842.py:16: FutureWarning: Calling float on a single element Series is deprecated and will raise a TypeError in the future. Use float(ser.iloc[0]) instead\n",
      "  previous_close = float(df.iloc[0][\"Close\"])\n"
     ]
    },
    {
     "name": "stdout",
     "output_type": "stream",
     "text": [
      "Fetching data for BEN...\n"
     ]
    },
    {
     "name": "stderr",
     "output_type": "stream",
     "text": [
      "[*********************100%***********************]  1 of 1 completed\n",
      "C:\\Users\\diego\\AppData\\Local\\Temp\\ipykernel_50852\\430125842.py:13: FutureWarning: Calling float on a single element Series is deprecated and will raise a TypeError in the future. Use float(ser.iloc[0]) instead\n",
      "  open_price     = float(df.iloc[1][\"Open\"])\n",
      "C:\\Users\\diego\\AppData\\Local\\Temp\\ipykernel_50852\\430125842.py:14: FutureWarning: Calling float on a single element Series is deprecated and will raise a TypeError in the future. Use float(ser.iloc[0]) instead\n",
      "  close_price    = float(df.iloc[1][\"Close\"])\n",
      "C:\\Users\\diego\\AppData\\Local\\Temp\\ipykernel_50852\\430125842.py:15: FutureWarning: Calling float on a single element Series is deprecated and will raise a TypeError in the future. Use float(ser.iloc[0]) instead\n",
      "  previous_open  = float(df.iloc[0][\"Open\"])\n",
      "C:\\Users\\diego\\AppData\\Local\\Temp\\ipykernel_50852\\430125842.py:16: FutureWarning: Calling float on a single element Series is deprecated and will raise a TypeError in the future. Use float(ser.iloc[0]) instead\n",
      "  previous_close = float(df.iloc[0][\"Close\"])\n"
     ]
    },
    {
     "name": "stdout",
     "output_type": "stream",
     "text": [
      "Fetching data for FCX...\n"
     ]
    },
    {
     "name": "stderr",
     "output_type": "stream",
     "text": [
      "[*********************100%***********************]  1 of 1 completed\n",
      "C:\\Users\\diego\\AppData\\Local\\Temp\\ipykernel_50852\\430125842.py:13: FutureWarning: Calling float on a single element Series is deprecated and will raise a TypeError in the future. Use float(ser.iloc[0]) instead\n",
      "  open_price     = float(df.iloc[1][\"Open\"])\n",
      "C:\\Users\\diego\\AppData\\Local\\Temp\\ipykernel_50852\\430125842.py:14: FutureWarning: Calling float on a single element Series is deprecated and will raise a TypeError in the future. Use float(ser.iloc[0]) instead\n",
      "  close_price    = float(df.iloc[1][\"Close\"])\n",
      "C:\\Users\\diego\\AppData\\Local\\Temp\\ipykernel_50852\\430125842.py:15: FutureWarning: Calling float on a single element Series is deprecated and will raise a TypeError in the future. Use float(ser.iloc[0]) instead\n",
      "  previous_open  = float(df.iloc[0][\"Open\"])\n",
      "C:\\Users\\diego\\AppData\\Local\\Temp\\ipykernel_50852\\430125842.py:16: FutureWarning: Calling float on a single element Series is deprecated and will raise a TypeError in the future. Use float(ser.iloc[0]) instead\n",
      "  previous_close = float(df.iloc[0][\"Close\"])\n"
     ]
    },
    {
     "name": "stdout",
     "output_type": "stream",
     "text": [
      "Fetching data for GRMN...\n"
     ]
    },
    {
     "name": "stderr",
     "output_type": "stream",
     "text": [
      "[*********************100%***********************]  1 of 1 completed\n",
      "C:\\Users\\diego\\AppData\\Local\\Temp\\ipykernel_50852\\430125842.py:13: FutureWarning: Calling float on a single element Series is deprecated and will raise a TypeError in the future. Use float(ser.iloc[0]) instead\n",
      "  open_price     = float(df.iloc[1][\"Open\"])\n",
      "C:\\Users\\diego\\AppData\\Local\\Temp\\ipykernel_50852\\430125842.py:14: FutureWarning: Calling float on a single element Series is deprecated and will raise a TypeError in the future. Use float(ser.iloc[0]) instead\n",
      "  close_price    = float(df.iloc[1][\"Close\"])\n",
      "C:\\Users\\diego\\AppData\\Local\\Temp\\ipykernel_50852\\430125842.py:15: FutureWarning: Calling float on a single element Series is deprecated and will raise a TypeError in the future. Use float(ser.iloc[0]) instead\n",
      "  previous_open  = float(df.iloc[0][\"Open\"])\n",
      "C:\\Users\\diego\\AppData\\Local\\Temp\\ipykernel_50852\\430125842.py:16: FutureWarning: Calling float on a single element Series is deprecated and will raise a TypeError in the future. Use float(ser.iloc[0]) instead\n",
      "  previous_close = float(df.iloc[0][\"Close\"])\n"
     ]
    },
    {
     "name": "stdout",
     "output_type": "stream",
     "text": [
      "Fetching data for IT...\n"
     ]
    },
    {
     "name": "stderr",
     "output_type": "stream",
     "text": [
      "[*********************100%***********************]  1 of 1 completed\n",
      "C:\\Users\\diego\\AppData\\Local\\Temp\\ipykernel_50852\\430125842.py:13: FutureWarning: Calling float on a single element Series is deprecated and will raise a TypeError in the future. Use float(ser.iloc[0]) instead\n",
      "  open_price     = float(df.iloc[1][\"Open\"])\n",
      "C:\\Users\\diego\\AppData\\Local\\Temp\\ipykernel_50852\\430125842.py:14: FutureWarning: Calling float on a single element Series is deprecated and will raise a TypeError in the future. Use float(ser.iloc[0]) instead\n",
      "  close_price    = float(df.iloc[1][\"Close\"])\n",
      "C:\\Users\\diego\\AppData\\Local\\Temp\\ipykernel_50852\\430125842.py:15: FutureWarning: Calling float on a single element Series is deprecated and will raise a TypeError in the future. Use float(ser.iloc[0]) instead\n",
      "  previous_open  = float(df.iloc[0][\"Open\"])\n",
      "C:\\Users\\diego\\AppData\\Local\\Temp\\ipykernel_50852\\430125842.py:16: FutureWarning: Calling float on a single element Series is deprecated and will raise a TypeError in the future. Use float(ser.iloc[0]) instead\n",
      "  previous_close = float(df.iloc[0][\"Close\"])\n"
     ]
    },
    {
     "name": "stdout",
     "output_type": "stream",
     "text": [
      "Fetching data for GE...\n"
     ]
    },
    {
     "name": "stderr",
     "output_type": "stream",
     "text": [
      "[*********************100%***********************]  1 of 1 completed\n",
      "C:\\Users\\diego\\AppData\\Local\\Temp\\ipykernel_50852\\430125842.py:13: FutureWarning: Calling float on a single element Series is deprecated and will raise a TypeError in the future. Use float(ser.iloc[0]) instead\n",
      "  open_price     = float(df.iloc[1][\"Open\"])\n",
      "C:\\Users\\diego\\AppData\\Local\\Temp\\ipykernel_50852\\430125842.py:14: FutureWarning: Calling float on a single element Series is deprecated and will raise a TypeError in the future. Use float(ser.iloc[0]) instead\n",
      "  close_price    = float(df.iloc[1][\"Close\"])\n",
      "C:\\Users\\diego\\AppData\\Local\\Temp\\ipykernel_50852\\430125842.py:15: FutureWarning: Calling float on a single element Series is deprecated and will raise a TypeError in the future. Use float(ser.iloc[0]) instead\n",
      "  previous_open  = float(df.iloc[0][\"Open\"])\n",
      "C:\\Users\\diego\\AppData\\Local\\Temp\\ipykernel_50852\\430125842.py:16: FutureWarning: Calling float on a single element Series is deprecated and will raise a TypeError in the future. Use float(ser.iloc[0]) instead\n",
      "  previous_close = float(df.iloc[0][\"Close\"])\n"
     ]
    },
    {
     "name": "stdout",
     "output_type": "stream",
     "text": [
      "Fetching data for GEHC...\n"
     ]
    },
    {
     "name": "stderr",
     "output_type": "stream",
     "text": [
      "[*********************100%***********************]  1 of 1 completed\n",
      "C:\\Users\\diego\\AppData\\Local\\Temp\\ipykernel_50852\\430125842.py:13: FutureWarning: Calling float on a single element Series is deprecated and will raise a TypeError in the future. Use float(ser.iloc[0]) instead\n",
      "  open_price     = float(df.iloc[1][\"Open\"])\n",
      "C:\\Users\\diego\\AppData\\Local\\Temp\\ipykernel_50852\\430125842.py:14: FutureWarning: Calling float on a single element Series is deprecated and will raise a TypeError in the future. Use float(ser.iloc[0]) instead\n",
      "  close_price    = float(df.iloc[1][\"Close\"])\n",
      "C:\\Users\\diego\\AppData\\Local\\Temp\\ipykernel_50852\\430125842.py:15: FutureWarning: Calling float on a single element Series is deprecated and will raise a TypeError in the future. Use float(ser.iloc[0]) instead\n",
      "  previous_open  = float(df.iloc[0][\"Open\"])\n",
      "C:\\Users\\diego\\AppData\\Local\\Temp\\ipykernel_50852\\430125842.py:16: FutureWarning: Calling float on a single element Series is deprecated and will raise a TypeError in the future. Use float(ser.iloc[0]) instead\n",
      "  previous_close = float(df.iloc[0][\"Close\"])\n"
     ]
    },
    {
     "name": "stdout",
     "output_type": "stream",
     "text": [
      "Fetching data for GEV...\n"
     ]
    },
    {
     "name": "stderr",
     "output_type": "stream",
     "text": [
      "[*********************100%***********************]  1 of 1 completed\n",
      "\n",
      "1 Failed download:\n",
      "['GEV']: YFPricesMissingError('$%ticker%: possibly delisted; no price data found  (1d 2019-10-07 -> 2023-12-05) (Yahoo error = \"Data doesn\\'t exist for startDate = 1570420800, endDate = 1701752400\")')\n"
     ]
    },
    {
     "name": "stdout",
     "output_type": "stream",
     "text": [
      "Not enough data for GEV. Skipping.\n",
      "Failed tickers: ['GEV']\n",
      "Fetching data for GEN...\n"
     ]
    },
    {
     "name": "stderr",
     "output_type": "stream",
     "text": [
      "[*********************100%***********************]  1 of 1 completed\n",
      "C:\\Users\\diego\\AppData\\Local\\Temp\\ipykernel_50852\\430125842.py:13: FutureWarning: Calling float on a single element Series is deprecated and will raise a TypeError in the future. Use float(ser.iloc[0]) instead\n",
      "  open_price     = float(df.iloc[1][\"Open\"])\n",
      "C:\\Users\\diego\\AppData\\Local\\Temp\\ipykernel_50852\\430125842.py:14: FutureWarning: Calling float on a single element Series is deprecated and will raise a TypeError in the future. Use float(ser.iloc[0]) instead\n",
      "  close_price    = float(df.iloc[1][\"Close\"])\n",
      "C:\\Users\\diego\\AppData\\Local\\Temp\\ipykernel_50852\\430125842.py:15: FutureWarning: Calling float on a single element Series is deprecated and will raise a TypeError in the future. Use float(ser.iloc[0]) instead\n",
      "  previous_open  = float(df.iloc[0][\"Open\"])\n",
      "C:\\Users\\diego\\AppData\\Local\\Temp\\ipykernel_50852\\430125842.py:16: FutureWarning: Calling float on a single element Series is deprecated and will raise a TypeError in the future. Use float(ser.iloc[0]) instead\n",
      "  previous_close = float(df.iloc[0][\"Close\"])\n"
     ]
    },
    {
     "name": "stdout",
     "output_type": "stream",
     "text": [
      "Fetching data for GNRC...\n"
     ]
    },
    {
     "name": "stderr",
     "output_type": "stream",
     "text": [
      "[*********************100%***********************]  1 of 1 completed\n",
      "C:\\Users\\diego\\AppData\\Local\\Temp\\ipykernel_50852\\430125842.py:13: FutureWarning: Calling float on a single element Series is deprecated and will raise a TypeError in the future. Use float(ser.iloc[0]) instead\n",
      "  open_price     = float(df.iloc[1][\"Open\"])\n",
      "C:\\Users\\diego\\AppData\\Local\\Temp\\ipykernel_50852\\430125842.py:14: FutureWarning: Calling float on a single element Series is deprecated and will raise a TypeError in the future. Use float(ser.iloc[0]) instead\n",
      "  close_price    = float(df.iloc[1][\"Close\"])\n",
      "C:\\Users\\diego\\AppData\\Local\\Temp\\ipykernel_50852\\430125842.py:15: FutureWarning: Calling float on a single element Series is deprecated and will raise a TypeError in the future. Use float(ser.iloc[0]) instead\n",
      "  previous_open  = float(df.iloc[0][\"Open\"])\n",
      "C:\\Users\\diego\\AppData\\Local\\Temp\\ipykernel_50852\\430125842.py:16: FutureWarning: Calling float on a single element Series is deprecated and will raise a TypeError in the future. Use float(ser.iloc[0]) instead\n",
      "  previous_close = float(df.iloc[0][\"Close\"])\n"
     ]
    },
    {
     "name": "stdout",
     "output_type": "stream",
     "text": [
      "Fetching data for GD...\n"
     ]
    },
    {
     "name": "stderr",
     "output_type": "stream",
     "text": [
      "[*********************100%***********************]  1 of 1 completed\n",
      "C:\\Users\\diego\\AppData\\Local\\Temp\\ipykernel_50852\\430125842.py:13: FutureWarning: Calling float on a single element Series is deprecated and will raise a TypeError in the future. Use float(ser.iloc[0]) instead\n",
      "  open_price     = float(df.iloc[1][\"Open\"])\n",
      "C:\\Users\\diego\\AppData\\Local\\Temp\\ipykernel_50852\\430125842.py:14: FutureWarning: Calling float on a single element Series is deprecated and will raise a TypeError in the future. Use float(ser.iloc[0]) instead\n",
      "  close_price    = float(df.iloc[1][\"Close\"])\n",
      "C:\\Users\\diego\\AppData\\Local\\Temp\\ipykernel_50852\\430125842.py:15: FutureWarning: Calling float on a single element Series is deprecated and will raise a TypeError in the future. Use float(ser.iloc[0]) instead\n",
      "  previous_open  = float(df.iloc[0][\"Open\"])\n",
      "C:\\Users\\diego\\AppData\\Local\\Temp\\ipykernel_50852\\430125842.py:16: FutureWarning: Calling float on a single element Series is deprecated and will raise a TypeError in the future. Use float(ser.iloc[0]) instead\n",
      "  previous_close = float(df.iloc[0][\"Close\"])\n"
     ]
    },
    {
     "name": "stdout",
     "output_type": "stream",
     "text": [
      "Fetching data for GIS...\n"
     ]
    },
    {
     "name": "stderr",
     "output_type": "stream",
     "text": [
      "[*********************100%***********************]  1 of 1 completed\n",
      "C:\\Users\\diego\\AppData\\Local\\Temp\\ipykernel_50852\\430125842.py:13: FutureWarning: Calling float on a single element Series is deprecated and will raise a TypeError in the future. Use float(ser.iloc[0]) instead\n",
      "  open_price     = float(df.iloc[1][\"Open\"])\n",
      "C:\\Users\\diego\\AppData\\Local\\Temp\\ipykernel_50852\\430125842.py:14: FutureWarning: Calling float on a single element Series is deprecated and will raise a TypeError in the future. Use float(ser.iloc[0]) instead\n",
      "  close_price    = float(df.iloc[1][\"Close\"])\n",
      "C:\\Users\\diego\\AppData\\Local\\Temp\\ipykernel_50852\\430125842.py:15: FutureWarning: Calling float on a single element Series is deprecated and will raise a TypeError in the future. Use float(ser.iloc[0]) instead\n",
      "  previous_open  = float(df.iloc[0][\"Open\"])\n",
      "C:\\Users\\diego\\AppData\\Local\\Temp\\ipykernel_50852\\430125842.py:16: FutureWarning: Calling float on a single element Series is deprecated and will raise a TypeError in the future. Use float(ser.iloc[0]) instead\n",
      "  previous_close = float(df.iloc[0][\"Close\"])\n"
     ]
    },
    {
     "name": "stdout",
     "output_type": "stream",
     "text": [
      "Fetching data for GM...\n"
     ]
    },
    {
     "name": "stderr",
     "output_type": "stream",
     "text": [
      "[*********************100%***********************]  1 of 1 completed\n",
      "C:\\Users\\diego\\AppData\\Local\\Temp\\ipykernel_50852\\430125842.py:13: FutureWarning: Calling float on a single element Series is deprecated and will raise a TypeError in the future. Use float(ser.iloc[0]) instead\n",
      "  open_price     = float(df.iloc[1][\"Open\"])\n",
      "C:\\Users\\diego\\AppData\\Local\\Temp\\ipykernel_50852\\430125842.py:14: FutureWarning: Calling float on a single element Series is deprecated and will raise a TypeError in the future. Use float(ser.iloc[0]) instead\n",
      "  close_price    = float(df.iloc[1][\"Close\"])\n",
      "C:\\Users\\diego\\AppData\\Local\\Temp\\ipykernel_50852\\430125842.py:15: FutureWarning: Calling float on a single element Series is deprecated and will raise a TypeError in the future. Use float(ser.iloc[0]) instead\n",
      "  previous_open  = float(df.iloc[0][\"Open\"])\n",
      "C:\\Users\\diego\\AppData\\Local\\Temp\\ipykernel_50852\\430125842.py:16: FutureWarning: Calling float on a single element Series is deprecated and will raise a TypeError in the future. Use float(ser.iloc[0]) instead\n",
      "  previous_close = float(df.iloc[0][\"Close\"])\n"
     ]
    },
    {
     "name": "stdout",
     "output_type": "stream",
     "text": [
      "Fetching data for GPC...\n"
     ]
    },
    {
     "name": "stderr",
     "output_type": "stream",
     "text": [
      "[*********************100%***********************]  1 of 1 completed\n",
      "C:\\Users\\diego\\AppData\\Local\\Temp\\ipykernel_50852\\430125842.py:13: FutureWarning: Calling float on a single element Series is deprecated and will raise a TypeError in the future. Use float(ser.iloc[0]) instead\n",
      "  open_price     = float(df.iloc[1][\"Open\"])\n",
      "C:\\Users\\diego\\AppData\\Local\\Temp\\ipykernel_50852\\430125842.py:14: FutureWarning: Calling float on a single element Series is deprecated and will raise a TypeError in the future. Use float(ser.iloc[0]) instead\n",
      "  close_price    = float(df.iloc[1][\"Close\"])\n",
      "C:\\Users\\diego\\AppData\\Local\\Temp\\ipykernel_50852\\430125842.py:15: FutureWarning: Calling float on a single element Series is deprecated and will raise a TypeError in the future. Use float(ser.iloc[0]) instead\n",
      "  previous_open  = float(df.iloc[0][\"Open\"])\n",
      "C:\\Users\\diego\\AppData\\Local\\Temp\\ipykernel_50852\\430125842.py:16: FutureWarning: Calling float on a single element Series is deprecated and will raise a TypeError in the future. Use float(ser.iloc[0]) instead\n",
      "  previous_close = float(df.iloc[0][\"Close\"])\n"
     ]
    },
    {
     "name": "stdout",
     "output_type": "stream",
     "text": [
      "Fetching data for GILD...\n"
     ]
    },
    {
     "name": "stderr",
     "output_type": "stream",
     "text": [
      "[*********************100%***********************]  1 of 1 completed\n",
      "C:\\Users\\diego\\AppData\\Local\\Temp\\ipykernel_50852\\430125842.py:13: FutureWarning: Calling float on a single element Series is deprecated and will raise a TypeError in the future. Use float(ser.iloc[0]) instead\n",
      "  open_price     = float(df.iloc[1][\"Open\"])\n",
      "C:\\Users\\diego\\AppData\\Local\\Temp\\ipykernel_50852\\430125842.py:14: FutureWarning: Calling float on a single element Series is deprecated and will raise a TypeError in the future. Use float(ser.iloc[0]) instead\n",
      "  close_price    = float(df.iloc[1][\"Close\"])\n",
      "C:\\Users\\diego\\AppData\\Local\\Temp\\ipykernel_50852\\430125842.py:15: FutureWarning: Calling float on a single element Series is deprecated and will raise a TypeError in the future. Use float(ser.iloc[0]) instead\n",
      "  previous_open  = float(df.iloc[0][\"Open\"])\n",
      "C:\\Users\\diego\\AppData\\Local\\Temp\\ipykernel_50852\\430125842.py:16: FutureWarning: Calling float on a single element Series is deprecated and will raise a TypeError in the future. Use float(ser.iloc[0]) instead\n",
      "  previous_close = float(df.iloc[0][\"Close\"])\n"
     ]
    },
    {
     "name": "stdout",
     "output_type": "stream",
     "text": [
      "Fetching data for GPN...\n"
     ]
    },
    {
     "name": "stderr",
     "output_type": "stream",
     "text": [
      "[*********************100%***********************]  1 of 1 completed\n",
      "C:\\Users\\diego\\AppData\\Local\\Temp\\ipykernel_50852\\430125842.py:13: FutureWarning: Calling float on a single element Series is deprecated and will raise a TypeError in the future. Use float(ser.iloc[0]) instead\n",
      "  open_price     = float(df.iloc[1][\"Open\"])\n",
      "C:\\Users\\diego\\AppData\\Local\\Temp\\ipykernel_50852\\430125842.py:14: FutureWarning: Calling float on a single element Series is deprecated and will raise a TypeError in the future. Use float(ser.iloc[0]) instead\n",
      "  close_price    = float(df.iloc[1][\"Close\"])\n",
      "C:\\Users\\diego\\AppData\\Local\\Temp\\ipykernel_50852\\430125842.py:15: FutureWarning: Calling float on a single element Series is deprecated and will raise a TypeError in the future. Use float(ser.iloc[0]) instead\n",
      "  previous_open  = float(df.iloc[0][\"Open\"])\n",
      "C:\\Users\\diego\\AppData\\Local\\Temp\\ipykernel_50852\\430125842.py:16: FutureWarning: Calling float on a single element Series is deprecated and will raise a TypeError in the future. Use float(ser.iloc[0]) instead\n",
      "  previous_close = float(df.iloc[0][\"Close\"])\n"
     ]
    },
    {
     "name": "stdout",
     "output_type": "stream",
     "text": [
      "Fetching data for GL...\n"
     ]
    },
    {
     "name": "stderr",
     "output_type": "stream",
     "text": [
      "[*********************100%***********************]  1 of 1 completed\n",
      "C:\\Users\\diego\\AppData\\Local\\Temp\\ipykernel_50852\\430125842.py:13: FutureWarning: Calling float on a single element Series is deprecated and will raise a TypeError in the future. Use float(ser.iloc[0]) instead\n",
      "  open_price     = float(df.iloc[1][\"Open\"])\n",
      "C:\\Users\\diego\\AppData\\Local\\Temp\\ipykernel_50852\\430125842.py:14: FutureWarning: Calling float on a single element Series is deprecated and will raise a TypeError in the future. Use float(ser.iloc[0]) instead\n",
      "  close_price    = float(df.iloc[1][\"Close\"])\n",
      "C:\\Users\\diego\\AppData\\Local\\Temp\\ipykernel_50852\\430125842.py:15: FutureWarning: Calling float on a single element Series is deprecated and will raise a TypeError in the future. Use float(ser.iloc[0]) instead\n",
      "  previous_open  = float(df.iloc[0][\"Open\"])\n",
      "C:\\Users\\diego\\AppData\\Local\\Temp\\ipykernel_50852\\430125842.py:16: FutureWarning: Calling float on a single element Series is deprecated and will raise a TypeError in the future. Use float(ser.iloc[0]) instead\n",
      "  previous_close = float(df.iloc[0][\"Close\"])\n"
     ]
    },
    {
     "name": "stdout",
     "output_type": "stream",
     "text": [
      "Fetching data for GDDY...\n"
     ]
    },
    {
     "name": "stderr",
     "output_type": "stream",
     "text": [
      "[*********************100%***********************]  1 of 1 completed\n",
      "C:\\Users\\diego\\AppData\\Local\\Temp\\ipykernel_50852\\430125842.py:13: FutureWarning: Calling float on a single element Series is deprecated and will raise a TypeError in the future. Use float(ser.iloc[0]) instead\n",
      "  open_price     = float(df.iloc[1][\"Open\"])\n",
      "C:\\Users\\diego\\AppData\\Local\\Temp\\ipykernel_50852\\430125842.py:14: FutureWarning: Calling float on a single element Series is deprecated and will raise a TypeError in the future. Use float(ser.iloc[0]) instead\n",
      "  close_price    = float(df.iloc[1][\"Close\"])\n",
      "C:\\Users\\diego\\AppData\\Local\\Temp\\ipykernel_50852\\430125842.py:15: FutureWarning: Calling float on a single element Series is deprecated and will raise a TypeError in the future. Use float(ser.iloc[0]) instead\n",
      "  previous_open  = float(df.iloc[0][\"Open\"])\n",
      "C:\\Users\\diego\\AppData\\Local\\Temp\\ipykernel_50852\\430125842.py:16: FutureWarning: Calling float on a single element Series is deprecated and will raise a TypeError in the future. Use float(ser.iloc[0]) instead\n",
      "  previous_close = float(df.iloc[0][\"Close\"])\n"
     ]
    },
    {
     "name": "stdout",
     "output_type": "stream",
     "text": [
      "Fetching data for GS...\n"
     ]
    },
    {
     "name": "stderr",
     "output_type": "stream",
     "text": [
      "[*********************100%***********************]  1 of 1 completed\n",
      "C:\\Users\\diego\\AppData\\Local\\Temp\\ipykernel_50852\\430125842.py:13: FutureWarning: Calling float on a single element Series is deprecated and will raise a TypeError in the future. Use float(ser.iloc[0]) instead\n",
      "  open_price     = float(df.iloc[1][\"Open\"])\n",
      "C:\\Users\\diego\\AppData\\Local\\Temp\\ipykernel_50852\\430125842.py:14: FutureWarning: Calling float on a single element Series is deprecated and will raise a TypeError in the future. Use float(ser.iloc[0]) instead\n",
      "  close_price    = float(df.iloc[1][\"Close\"])\n",
      "C:\\Users\\diego\\AppData\\Local\\Temp\\ipykernel_50852\\430125842.py:15: FutureWarning: Calling float on a single element Series is deprecated and will raise a TypeError in the future. Use float(ser.iloc[0]) instead\n",
      "  previous_open  = float(df.iloc[0][\"Open\"])\n",
      "C:\\Users\\diego\\AppData\\Local\\Temp\\ipykernel_50852\\430125842.py:16: FutureWarning: Calling float on a single element Series is deprecated and will raise a TypeError in the future. Use float(ser.iloc[0]) instead\n",
      "  previous_close = float(df.iloc[0][\"Close\"])\n"
     ]
    },
    {
     "name": "stdout",
     "output_type": "stream",
     "text": [
      "Fetching data for HAL...\n"
     ]
    },
    {
     "name": "stderr",
     "output_type": "stream",
     "text": [
      "[*********************100%***********************]  1 of 1 completed\n",
      "C:\\Users\\diego\\AppData\\Local\\Temp\\ipykernel_50852\\430125842.py:13: FutureWarning: Calling float on a single element Series is deprecated and will raise a TypeError in the future. Use float(ser.iloc[0]) instead\n",
      "  open_price     = float(df.iloc[1][\"Open\"])\n",
      "C:\\Users\\diego\\AppData\\Local\\Temp\\ipykernel_50852\\430125842.py:14: FutureWarning: Calling float on a single element Series is deprecated and will raise a TypeError in the future. Use float(ser.iloc[0]) instead\n",
      "  close_price    = float(df.iloc[1][\"Close\"])\n",
      "C:\\Users\\diego\\AppData\\Local\\Temp\\ipykernel_50852\\430125842.py:15: FutureWarning: Calling float on a single element Series is deprecated and will raise a TypeError in the future. Use float(ser.iloc[0]) instead\n",
      "  previous_open  = float(df.iloc[0][\"Open\"])\n",
      "C:\\Users\\diego\\AppData\\Local\\Temp\\ipykernel_50852\\430125842.py:16: FutureWarning: Calling float on a single element Series is deprecated and will raise a TypeError in the future. Use float(ser.iloc[0]) instead\n",
      "  previous_close = float(df.iloc[0][\"Close\"])\n"
     ]
    },
    {
     "name": "stdout",
     "output_type": "stream",
     "text": [
      "Fetching data for HIG...\n"
     ]
    },
    {
     "name": "stderr",
     "output_type": "stream",
     "text": [
      "[*********************100%***********************]  1 of 1 completed\n",
      "C:\\Users\\diego\\AppData\\Local\\Temp\\ipykernel_50852\\430125842.py:13: FutureWarning: Calling float on a single element Series is deprecated and will raise a TypeError in the future. Use float(ser.iloc[0]) instead\n",
      "  open_price     = float(df.iloc[1][\"Open\"])\n",
      "C:\\Users\\diego\\AppData\\Local\\Temp\\ipykernel_50852\\430125842.py:14: FutureWarning: Calling float on a single element Series is deprecated and will raise a TypeError in the future. Use float(ser.iloc[0]) instead\n",
      "  close_price    = float(df.iloc[1][\"Close\"])\n",
      "C:\\Users\\diego\\AppData\\Local\\Temp\\ipykernel_50852\\430125842.py:15: FutureWarning: Calling float on a single element Series is deprecated and will raise a TypeError in the future. Use float(ser.iloc[0]) instead\n",
      "  previous_open  = float(df.iloc[0][\"Open\"])\n",
      "C:\\Users\\diego\\AppData\\Local\\Temp\\ipykernel_50852\\430125842.py:16: FutureWarning: Calling float on a single element Series is deprecated and will raise a TypeError in the future. Use float(ser.iloc[0]) instead\n",
      "  previous_close = float(df.iloc[0][\"Close\"])\n"
     ]
    },
    {
     "name": "stdout",
     "output_type": "stream",
     "text": [
      "Fetching data for HAS...\n"
     ]
    },
    {
     "name": "stderr",
     "output_type": "stream",
     "text": [
      "[*********************100%***********************]  1 of 1 completed\n",
      "C:\\Users\\diego\\AppData\\Local\\Temp\\ipykernel_50852\\430125842.py:13: FutureWarning: Calling float on a single element Series is deprecated and will raise a TypeError in the future. Use float(ser.iloc[0]) instead\n",
      "  open_price     = float(df.iloc[1][\"Open\"])\n",
      "C:\\Users\\diego\\AppData\\Local\\Temp\\ipykernel_50852\\430125842.py:14: FutureWarning: Calling float on a single element Series is deprecated and will raise a TypeError in the future. Use float(ser.iloc[0]) instead\n",
      "  close_price    = float(df.iloc[1][\"Close\"])\n",
      "C:\\Users\\diego\\AppData\\Local\\Temp\\ipykernel_50852\\430125842.py:15: FutureWarning: Calling float on a single element Series is deprecated and will raise a TypeError in the future. Use float(ser.iloc[0]) instead\n",
      "  previous_open  = float(df.iloc[0][\"Open\"])\n",
      "C:\\Users\\diego\\AppData\\Local\\Temp\\ipykernel_50852\\430125842.py:16: FutureWarning: Calling float on a single element Series is deprecated and will raise a TypeError in the future. Use float(ser.iloc[0]) instead\n",
      "  previous_close = float(df.iloc[0][\"Close\"])\n"
     ]
    },
    {
     "name": "stdout",
     "output_type": "stream",
     "text": [
      "Fetching data for HCA...\n"
     ]
    },
    {
     "name": "stderr",
     "output_type": "stream",
     "text": [
      "[*********************100%***********************]  1 of 1 completed\n",
      "C:\\Users\\diego\\AppData\\Local\\Temp\\ipykernel_50852\\430125842.py:13: FutureWarning: Calling float on a single element Series is deprecated and will raise a TypeError in the future. Use float(ser.iloc[0]) instead\n",
      "  open_price     = float(df.iloc[1][\"Open\"])\n",
      "C:\\Users\\diego\\AppData\\Local\\Temp\\ipykernel_50852\\430125842.py:14: FutureWarning: Calling float on a single element Series is deprecated and will raise a TypeError in the future. Use float(ser.iloc[0]) instead\n",
      "  close_price    = float(df.iloc[1][\"Close\"])\n",
      "C:\\Users\\diego\\AppData\\Local\\Temp\\ipykernel_50852\\430125842.py:15: FutureWarning: Calling float on a single element Series is deprecated and will raise a TypeError in the future. Use float(ser.iloc[0]) instead\n",
      "  previous_open  = float(df.iloc[0][\"Open\"])\n",
      "C:\\Users\\diego\\AppData\\Local\\Temp\\ipykernel_50852\\430125842.py:16: FutureWarning: Calling float on a single element Series is deprecated and will raise a TypeError in the future. Use float(ser.iloc[0]) instead\n",
      "  previous_close = float(df.iloc[0][\"Close\"])\n"
     ]
    },
    {
     "name": "stdout",
     "output_type": "stream",
     "text": [
      "Fetching data for DOC...\n"
     ]
    },
    {
     "name": "stderr",
     "output_type": "stream",
     "text": [
      "[*********************100%***********************]  1 of 1 completed\n",
      "C:\\Users\\diego\\AppData\\Local\\Temp\\ipykernel_50852\\430125842.py:13: FutureWarning: Calling float on a single element Series is deprecated and will raise a TypeError in the future. Use float(ser.iloc[0]) instead\n",
      "  open_price     = float(df.iloc[1][\"Open\"])\n",
      "C:\\Users\\diego\\AppData\\Local\\Temp\\ipykernel_50852\\430125842.py:14: FutureWarning: Calling float on a single element Series is deprecated and will raise a TypeError in the future. Use float(ser.iloc[0]) instead\n",
      "  close_price    = float(df.iloc[1][\"Close\"])\n",
      "C:\\Users\\diego\\AppData\\Local\\Temp\\ipykernel_50852\\430125842.py:15: FutureWarning: Calling float on a single element Series is deprecated and will raise a TypeError in the future. Use float(ser.iloc[0]) instead\n",
      "  previous_open  = float(df.iloc[0][\"Open\"])\n",
      "C:\\Users\\diego\\AppData\\Local\\Temp\\ipykernel_50852\\430125842.py:16: FutureWarning: Calling float on a single element Series is deprecated and will raise a TypeError in the future. Use float(ser.iloc[0]) instead\n",
      "  previous_close = float(df.iloc[0][\"Close\"])\n"
     ]
    },
    {
     "name": "stdout",
     "output_type": "stream",
     "text": [
      "Fetching data for HSIC...\n"
     ]
    },
    {
     "name": "stderr",
     "output_type": "stream",
     "text": [
      "[*********************100%***********************]  1 of 1 completed\n",
      "C:\\Users\\diego\\AppData\\Local\\Temp\\ipykernel_50852\\430125842.py:13: FutureWarning: Calling float on a single element Series is deprecated and will raise a TypeError in the future. Use float(ser.iloc[0]) instead\n",
      "  open_price     = float(df.iloc[1][\"Open\"])\n",
      "C:\\Users\\diego\\AppData\\Local\\Temp\\ipykernel_50852\\430125842.py:14: FutureWarning: Calling float on a single element Series is deprecated and will raise a TypeError in the future. Use float(ser.iloc[0]) instead\n",
      "  close_price    = float(df.iloc[1][\"Close\"])\n",
      "C:\\Users\\diego\\AppData\\Local\\Temp\\ipykernel_50852\\430125842.py:15: FutureWarning: Calling float on a single element Series is deprecated and will raise a TypeError in the future. Use float(ser.iloc[0]) instead\n",
      "  previous_open  = float(df.iloc[0][\"Open\"])\n",
      "C:\\Users\\diego\\AppData\\Local\\Temp\\ipykernel_50852\\430125842.py:16: FutureWarning: Calling float on a single element Series is deprecated and will raise a TypeError in the future. Use float(ser.iloc[0]) instead\n",
      "  previous_close = float(df.iloc[0][\"Close\"])\n"
     ]
    },
    {
     "name": "stdout",
     "output_type": "stream",
     "text": [
      "Fetching data for HSY...\n"
     ]
    },
    {
     "name": "stderr",
     "output_type": "stream",
     "text": [
      "[*********************100%***********************]  1 of 1 completed\n",
      "C:\\Users\\diego\\AppData\\Local\\Temp\\ipykernel_50852\\430125842.py:13: FutureWarning: Calling float on a single element Series is deprecated and will raise a TypeError in the future. Use float(ser.iloc[0]) instead\n",
      "  open_price     = float(df.iloc[1][\"Open\"])\n",
      "C:\\Users\\diego\\AppData\\Local\\Temp\\ipykernel_50852\\430125842.py:14: FutureWarning: Calling float on a single element Series is deprecated and will raise a TypeError in the future. Use float(ser.iloc[0]) instead\n",
      "  close_price    = float(df.iloc[1][\"Close\"])\n",
      "C:\\Users\\diego\\AppData\\Local\\Temp\\ipykernel_50852\\430125842.py:15: FutureWarning: Calling float on a single element Series is deprecated and will raise a TypeError in the future. Use float(ser.iloc[0]) instead\n",
      "  previous_open  = float(df.iloc[0][\"Open\"])\n",
      "C:\\Users\\diego\\AppData\\Local\\Temp\\ipykernel_50852\\430125842.py:16: FutureWarning: Calling float on a single element Series is deprecated and will raise a TypeError in the future. Use float(ser.iloc[0]) instead\n",
      "  previous_close = float(df.iloc[0][\"Close\"])\n"
     ]
    },
    {
     "name": "stdout",
     "output_type": "stream",
     "text": [
      "Fetching data for HES...\n"
     ]
    },
    {
     "name": "stderr",
     "output_type": "stream",
     "text": [
      "[*********************100%***********************]  1 of 1 completed\n",
      "C:\\Users\\diego\\AppData\\Local\\Temp\\ipykernel_50852\\430125842.py:13: FutureWarning: Calling float on a single element Series is deprecated and will raise a TypeError in the future. Use float(ser.iloc[0]) instead\n",
      "  open_price     = float(df.iloc[1][\"Open\"])\n",
      "C:\\Users\\diego\\AppData\\Local\\Temp\\ipykernel_50852\\430125842.py:14: FutureWarning: Calling float on a single element Series is deprecated and will raise a TypeError in the future. Use float(ser.iloc[0]) instead\n",
      "  close_price    = float(df.iloc[1][\"Close\"])\n",
      "C:\\Users\\diego\\AppData\\Local\\Temp\\ipykernel_50852\\430125842.py:15: FutureWarning: Calling float on a single element Series is deprecated and will raise a TypeError in the future. Use float(ser.iloc[0]) instead\n",
      "  previous_open  = float(df.iloc[0][\"Open\"])\n",
      "C:\\Users\\diego\\AppData\\Local\\Temp\\ipykernel_50852\\430125842.py:16: FutureWarning: Calling float on a single element Series is deprecated and will raise a TypeError in the future. Use float(ser.iloc[0]) instead\n",
      "  previous_close = float(df.iloc[0][\"Close\"])\n"
     ]
    },
    {
     "name": "stdout",
     "output_type": "stream",
     "text": [
      "Fetching data for HPE...\n"
     ]
    },
    {
     "name": "stderr",
     "output_type": "stream",
     "text": [
      "[*********************100%***********************]  1 of 1 completed\n",
      "C:\\Users\\diego\\AppData\\Local\\Temp\\ipykernel_50852\\430125842.py:13: FutureWarning: Calling float on a single element Series is deprecated and will raise a TypeError in the future. Use float(ser.iloc[0]) instead\n",
      "  open_price     = float(df.iloc[1][\"Open\"])\n",
      "C:\\Users\\diego\\AppData\\Local\\Temp\\ipykernel_50852\\430125842.py:14: FutureWarning: Calling float on a single element Series is deprecated and will raise a TypeError in the future. Use float(ser.iloc[0]) instead\n",
      "  close_price    = float(df.iloc[1][\"Close\"])\n",
      "C:\\Users\\diego\\AppData\\Local\\Temp\\ipykernel_50852\\430125842.py:15: FutureWarning: Calling float on a single element Series is deprecated and will raise a TypeError in the future. Use float(ser.iloc[0]) instead\n",
      "  previous_open  = float(df.iloc[0][\"Open\"])\n",
      "C:\\Users\\diego\\AppData\\Local\\Temp\\ipykernel_50852\\430125842.py:16: FutureWarning: Calling float on a single element Series is deprecated and will raise a TypeError in the future. Use float(ser.iloc[0]) instead\n",
      "  previous_close = float(df.iloc[0][\"Close\"])\n"
     ]
    },
    {
     "name": "stdout",
     "output_type": "stream",
     "text": [
      "Fetching data for HLT...\n"
     ]
    },
    {
     "name": "stderr",
     "output_type": "stream",
     "text": [
      "[*********************100%***********************]  1 of 1 completed\n",
      "C:\\Users\\diego\\AppData\\Local\\Temp\\ipykernel_50852\\430125842.py:13: FutureWarning: Calling float on a single element Series is deprecated and will raise a TypeError in the future. Use float(ser.iloc[0]) instead\n",
      "  open_price     = float(df.iloc[1][\"Open\"])\n",
      "C:\\Users\\diego\\AppData\\Local\\Temp\\ipykernel_50852\\430125842.py:14: FutureWarning: Calling float on a single element Series is deprecated and will raise a TypeError in the future. Use float(ser.iloc[0]) instead\n",
      "  close_price    = float(df.iloc[1][\"Close\"])\n",
      "C:\\Users\\diego\\AppData\\Local\\Temp\\ipykernel_50852\\430125842.py:15: FutureWarning: Calling float on a single element Series is deprecated and will raise a TypeError in the future. Use float(ser.iloc[0]) instead\n",
      "  previous_open  = float(df.iloc[0][\"Open\"])\n",
      "C:\\Users\\diego\\AppData\\Local\\Temp\\ipykernel_50852\\430125842.py:16: FutureWarning: Calling float on a single element Series is deprecated and will raise a TypeError in the future. Use float(ser.iloc[0]) instead\n",
      "  previous_close = float(df.iloc[0][\"Close\"])\n"
     ]
    },
    {
     "name": "stdout",
     "output_type": "stream",
     "text": [
      "Fetching data for HOLX...\n"
     ]
    },
    {
     "name": "stderr",
     "output_type": "stream",
     "text": [
      "[*********************100%***********************]  1 of 1 completed\n",
      "C:\\Users\\diego\\AppData\\Local\\Temp\\ipykernel_50852\\430125842.py:13: FutureWarning: Calling float on a single element Series is deprecated and will raise a TypeError in the future. Use float(ser.iloc[0]) instead\n",
      "  open_price     = float(df.iloc[1][\"Open\"])\n",
      "C:\\Users\\diego\\AppData\\Local\\Temp\\ipykernel_50852\\430125842.py:14: FutureWarning: Calling float on a single element Series is deprecated and will raise a TypeError in the future. Use float(ser.iloc[0]) instead\n",
      "  close_price    = float(df.iloc[1][\"Close\"])\n",
      "C:\\Users\\diego\\AppData\\Local\\Temp\\ipykernel_50852\\430125842.py:15: FutureWarning: Calling float on a single element Series is deprecated and will raise a TypeError in the future. Use float(ser.iloc[0]) instead\n",
      "  previous_open  = float(df.iloc[0][\"Open\"])\n",
      "C:\\Users\\diego\\AppData\\Local\\Temp\\ipykernel_50852\\430125842.py:16: FutureWarning: Calling float on a single element Series is deprecated and will raise a TypeError in the future. Use float(ser.iloc[0]) instead\n",
      "  previous_close = float(df.iloc[0][\"Close\"])\n"
     ]
    },
    {
     "name": "stdout",
     "output_type": "stream",
     "text": [
      "Fetching data for HD...\n"
     ]
    },
    {
     "name": "stderr",
     "output_type": "stream",
     "text": [
      "[*********************100%***********************]  1 of 1 completed\n",
      "C:\\Users\\diego\\AppData\\Local\\Temp\\ipykernel_50852\\430125842.py:13: FutureWarning: Calling float on a single element Series is deprecated and will raise a TypeError in the future. Use float(ser.iloc[0]) instead\n",
      "  open_price     = float(df.iloc[1][\"Open\"])\n",
      "C:\\Users\\diego\\AppData\\Local\\Temp\\ipykernel_50852\\430125842.py:14: FutureWarning: Calling float on a single element Series is deprecated and will raise a TypeError in the future. Use float(ser.iloc[0]) instead\n",
      "  close_price    = float(df.iloc[1][\"Close\"])\n",
      "C:\\Users\\diego\\AppData\\Local\\Temp\\ipykernel_50852\\430125842.py:15: FutureWarning: Calling float on a single element Series is deprecated and will raise a TypeError in the future. Use float(ser.iloc[0]) instead\n",
      "  previous_open  = float(df.iloc[0][\"Open\"])\n",
      "C:\\Users\\diego\\AppData\\Local\\Temp\\ipykernel_50852\\430125842.py:16: FutureWarning: Calling float on a single element Series is deprecated and will raise a TypeError in the future. Use float(ser.iloc[0]) instead\n",
      "  previous_close = float(df.iloc[0][\"Close\"])\n"
     ]
    },
    {
     "name": "stdout",
     "output_type": "stream",
     "text": [
      "Fetching data for HON...\n"
     ]
    },
    {
     "name": "stderr",
     "output_type": "stream",
     "text": [
      "[*********************100%***********************]  1 of 1 completed\n",
      "C:\\Users\\diego\\AppData\\Local\\Temp\\ipykernel_50852\\430125842.py:13: FutureWarning: Calling float on a single element Series is deprecated and will raise a TypeError in the future. Use float(ser.iloc[0]) instead\n",
      "  open_price     = float(df.iloc[1][\"Open\"])\n",
      "C:\\Users\\diego\\AppData\\Local\\Temp\\ipykernel_50852\\430125842.py:14: FutureWarning: Calling float on a single element Series is deprecated and will raise a TypeError in the future. Use float(ser.iloc[0]) instead\n",
      "  close_price    = float(df.iloc[1][\"Close\"])\n",
      "C:\\Users\\diego\\AppData\\Local\\Temp\\ipykernel_50852\\430125842.py:15: FutureWarning: Calling float on a single element Series is deprecated and will raise a TypeError in the future. Use float(ser.iloc[0]) instead\n",
      "  previous_open  = float(df.iloc[0][\"Open\"])\n",
      "C:\\Users\\diego\\AppData\\Local\\Temp\\ipykernel_50852\\430125842.py:16: FutureWarning: Calling float on a single element Series is deprecated and will raise a TypeError in the future. Use float(ser.iloc[0]) instead\n",
      "  previous_close = float(df.iloc[0][\"Close\"])\n"
     ]
    },
    {
     "name": "stdout",
     "output_type": "stream",
     "text": [
      "Fetching data for HRL...\n"
     ]
    },
    {
     "name": "stderr",
     "output_type": "stream",
     "text": [
      "[*********************100%***********************]  1 of 1 completed\n",
      "C:\\Users\\diego\\AppData\\Local\\Temp\\ipykernel_50852\\430125842.py:13: FutureWarning: Calling float on a single element Series is deprecated and will raise a TypeError in the future. Use float(ser.iloc[0]) instead\n",
      "  open_price     = float(df.iloc[1][\"Open\"])\n",
      "C:\\Users\\diego\\AppData\\Local\\Temp\\ipykernel_50852\\430125842.py:14: FutureWarning: Calling float on a single element Series is deprecated and will raise a TypeError in the future. Use float(ser.iloc[0]) instead\n",
      "  close_price    = float(df.iloc[1][\"Close\"])\n",
      "C:\\Users\\diego\\AppData\\Local\\Temp\\ipykernel_50852\\430125842.py:15: FutureWarning: Calling float on a single element Series is deprecated and will raise a TypeError in the future. Use float(ser.iloc[0]) instead\n",
      "  previous_open  = float(df.iloc[0][\"Open\"])\n",
      "C:\\Users\\diego\\AppData\\Local\\Temp\\ipykernel_50852\\430125842.py:16: FutureWarning: Calling float on a single element Series is deprecated and will raise a TypeError in the future. Use float(ser.iloc[0]) instead\n",
      "  previous_close = float(df.iloc[0][\"Close\"])\n"
     ]
    },
    {
     "name": "stdout",
     "output_type": "stream",
     "text": [
      "Fetching data for HST...\n"
     ]
    },
    {
     "name": "stderr",
     "output_type": "stream",
     "text": [
      "[*********************100%***********************]  1 of 1 completed\n",
      "C:\\Users\\diego\\AppData\\Local\\Temp\\ipykernel_50852\\430125842.py:13: FutureWarning: Calling float on a single element Series is deprecated and will raise a TypeError in the future. Use float(ser.iloc[0]) instead\n",
      "  open_price     = float(df.iloc[1][\"Open\"])\n",
      "C:\\Users\\diego\\AppData\\Local\\Temp\\ipykernel_50852\\430125842.py:14: FutureWarning: Calling float on a single element Series is deprecated and will raise a TypeError in the future. Use float(ser.iloc[0]) instead\n",
      "  close_price    = float(df.iloc[1][\"Close\"])\n",
      "C:\\Users\\diego\\AppData\\Local\\Temp\\ipykernel_50852\\430125842.py:15: FutureWarning: Calling float on a single element Series is deprecated and will raise a TypeError in the future. Use float(ser.iloc[0]) instead\n",
      "  previous_open  = float(df.iloc[0][\"Open\"])\n",
      "C:\\Users\\diego\\AppData\\Local\\Temp\\ipykernel_50852\\430125842.py:16: FutureWarning: Calling float on a single element Series is deprecated and will raise a TypeError in the future. Use float(ser.iloc[0]) instead\n",
      "  previous_close = float(df.iloc[0][\"Close\"])\n"
     ]
    },
    {
     "name": "stdout",
     "output_type": "stream",
     "text": [
      "Fetching data for HWM...\n"
     ]
    },
    {
     "name": "stderr",
     "output_type": "stream",
     "text": [
      "[*********************100%***********************]  1 of 1 completed\n",
      "C:\\Users\\diego\\AppData\\Local\\Temp\\ipykernel_50852\\430125842.py:13: FutureWarning: Calling float on a single element Series is deprecated and will raise a TypeError in the future. Use float(ser.iloc[0]) instead\n",
      "  open_price     = float(df.iloc[1][\"Open\"])\n",
      "C:\\Users\\diego\\AppData\\Local\\Temp\\ipykernel_50852\\430125842.py:14: FutureWarning: Calling float on a single element Series is deprecated and will raise a TypeError in the future. Use float(ser.iloc[0]) instead\n",
      "  close_price    = float(df.iloc[1][\"Close\"])\n",
      "C:\\Users\\diego\\AppData\\Local\\Temp\\ipykernel_50852\\430125842.py:15: FutureWarning: Calling float on a single element Series is deprecated and will raise a TypeError in the future. Use float(ser.iloc[0]) instead\n",
      "  previous_open  = float(df.iloc[0][\"Open\"])\n",
      "C:\\Users\\diego\\AppData\\Local\\Temp\\ipykernel_50852\\430125842.py:16: FutureWarning: Calling float on a single element Series is deprecated and will raise a TypeError in the future. Use float(ser.iloc[0]) instead\n",
      "  previous_close = float(df.iloc[0][\"Close\"])\n"
     ]
    },
    {
     "name": "stdout",
     "output_type": "stream",
     "text": [
      "Fetching data for HPQ...\n"
     ]
    },
    {
     "name": "stderr",
     "output_type": "stream",
     "text": [
      "[*********************100%***********************]  1 of 1 completed\n",
      "C:\\Users\\diego\\AppData\\Local\\Temp\\ipykernel_50852\\430125842.py:13: FutureWarning: Calling float on a single element Series is deprecated and will raise a TypeError in the future. Use float(ser.iloc[0]) instead\n",
      "  open_price     = float(df.iloc[1][\"Open\"])\n",
      "C:\\Users\\diego\\AppData\\Local\\Temp\\ipykernel_50852\\430125842.py:14: FutureWarning: Calling float on a single element Series is deprecated and will raise a TypeError in the future. Use float(ser.iloc[0]) instead\n",
      "  close_price    = float(df.iloc[1][\"Close\"])\n",
      "C:\\Users\\diego\\AppData\\Local\\Temp\\ipykernel_50852\\430125842.py:15: FutureWarning: Calling float on a single element Series is deprecated and will raise a TypeError in the future. Use float(ser.iloc[0]) instead\n",
      "  previous_open  = float(df.iloc[0][\"Open\"])\n",
      "C:\\Users\\diego\\AppData\\Local\\Temp\\ipykernel_50852\\430125842.py:16: FutureWarning: Calling float on a single element Series is deprecated and will raise a TypeError in the future. Use float(ser.iloc[0]) instead\n",
      "  previous_close = float(df.iloc[0][\"Close\"])\n"
     ]
    },
    {
     "name": "stdout",
     "output_type": "stream",
     "text": [
      "Fetching data for HUBB...\n"
     ]
    },
    {
     "name": "stderr",
     "output_type": "stream",
     "text": [
      "[*********************100%***********************]  1 of 1 completed\n",
      "C:\\Users\\diego\\AppData\\Local\\Temp\\ipykernel_50852\\430125842.py:13: FutureWarning: Calling float on a single element Series is deprecated and will raise a TypeError in the future. Use float(ser.iloc[0]) instead\n",
      "  open_price     = float(df.iloc[1][\"Open\"])\n",
      "C:\\Users\\diego\\AppData\\Local\\Temp\\ipykernel_50852\\430125842.py:14: FutureWarning: Calling float on a single element Series is deprecated and will raise a TypeError in the future. Use float(ser.iloc[0]) instead\n",
      "  close_price    = float(df.iloc[1][\"Close\"])\n",
      "C:\\Users\\diego\\AppData\\Local\\Temp\\ipykernel_50852\\430125842.py:15: FutureWarning: Calling float on a single element Series is deprecated and will raise a TypeError in the future. Use float(ser.iloc[0]) instead\n",
      "  previous_open  = float(df.iloc[0][\"Open\"])\n",
      "C:\\Users\\diego\\AppData\\Local\\Temp\\ipykernel_50852\\430125842.py:16: FutureWarning: Calling float on a single element Series is deprecated and will raise a TypeError in the future. Use float(ser.iloc[0]) instead\n",
      "  previous_close = float(df.iloc[0][\"Close\"])\n"
     ]
    },
    {
     "name": "stdout",
     "output_type": "stream",
     "text": [
      "Fetching data for HUM...\n"
     ]
    },
    {
     "name": "stderr",
     "output_type": "stream",
     "text": [
      "[*********************100%***********************]  1 of 1 completed\n",
      "C:\\Users\\diego\\AppData\\Local\\Temp\\ipykernel_50852\\430125842.py:13: FutureWarning: Calling float on a single element Series is deprecated and will raise a TypeError in the future. Use float(ser.iloc[0]) instead\n",
      "  open_price     = float(df.iloc[1][\"Open\"])\n",
      "C:\\Users\\diego\\AppData\\Local\\Temp\\ipykernel_50852\\430125842.py:14: FutureWarning: Calling float on a single element Series is deprecated and will raise a TypeError in the future. Use float(ser.iloc[0]) instead\n",
      "  close_price    = float(df.iloc[1][\"Close\"])\n",
      "C:\\Users\\diego\\AppData\\Local\\Temp\\ipykernel_50852\\430125842.py:15: FutureWarning: Calling float on a single element Series is deprecated and will raise a TypeError in the future. Use float(ser.iloc[0]) instead\n",
      "  previous_open  = float(df.iloc[0][\"Open\"])\n",
      "C:\\Users\\diego\\AppData\\Local\\Temp\\ipykernel_50852\\430125842.py:16: FutureWarning: Calling float on a single element Series is deprecated and will raise a TypeError in the future. Use float(ser.iloc[0]) instead\n",
      "  previous_close = float(df.iloc[0][\"Close\"])\n"
     ]
    },
    {
     "name": "stdout",
     "output_type": "stream",
     "text": [
      "Fetching data for HBAN...\n"
     ]
    },
    {
     "name": "stderr",
     "output_type": "stream",
     "text": [
      "[*********************100%***********************]  1 of 1 completed\n",
      "C:\\Users\\diego\\AppData\\Local\\Temp\\ipykernel_50852\\430125842.py:13: FutureWarning: Calling float on a single element Series is deprecated and will raise a TypeError in the future. Use float(ser.iloc[0]) instead\n",
      "  open_price     = float(df.iloc[1][\"Open\"])\n",
      "C:\\Users\\diego\\AppData\\Local\\Temp\\ipykernel_50852\\430125842.py:14: FutureWarning: Calling float on a single element Series is deprecated and will raise a TypeError in the future. Use float(ser.iloc[0]) instead\n",
      "  close_price    = float(df.iloc[1][\"Close\"])\n",
      "C:\\Users\\diego\\AppData\\Local\\Temp\\ipykernel_50852\\430125842.py:15: FutureWarning: Calling float on a single element Series is deprecated and will raise a TypeError in the future. Use float(ser.iloc[0]) instead\n",
      "  previous_open  = float(df.iloc[0][\"Open\"])\n",
      "C:\\Users\\diego\\AppData\\Local\\Temp\\ipykernel_50852\\430125842.py:16: FutureWarning: Calling float on a single element Series is deprecated and will raise a TypeError in the future. Use float(ser.iloc[0]) instead\n",
      "  previous_close = float(df.iloc[0][\"Close\"])\n"
     ]
    },
    {
     "name": "stdout",
     "output_type": "stream",
     "text": [
      "Fetching data for HII...\n"
     ]
    },
    {
     "name": "stderr",
     "output_type": "stream",
     "text": [
      "[*********************100%***********************]  1 of 1 completed\n",
      "C:\\Users\\diego\\AppData\\Local\\Temp\\ipykernel_50852\\430125842.py:13: FutureWarning: Calling float on a single element Series is deprecated and will raise a TypeError in the future. Use float(ser.iloc[0]) instead\n",
      "  open_price     = float(df.iloc[1][\"Open\"])\n",
      "C:\\Users\\diego\\AppData\\Local\\Temp\\ipykernel_50852\\430125842.py:14: FutureWarning: Calling float on a single element Series is deprecated and will raise a TypeError in the future. Use float(ser.iloc[0]) instead\n",
      "  close_price    = float(df.iloc[1][\"Close\"])\n",
      "C:\\Users\\diego\\AppData\\Local\\Temp\\ipykernel_50852\\430125842.py:15: FutureWarning: Calling float on a single element Series is deprecated and will raise a TypeError in the future. Use float(ser.iloc[0]) instead\n",
      "  previous_open  = float(df.iloc[0][\"Open\"])\n",
      "C:\\Users\\diego\\AppData\\Local\\Temp\\ipykernel_50852\\430125842.py:16: FutureWarning: Calling float on a single element Series is deprecated and will raise a TypeError in the future. Use float(ser.iloc[0]) instead\n",
      "  previous_close = float(df.iloc[0][\"Close\"])\n"
     ]
    },
    {
     "name": "stdout",
     "output_type": "stream",
     "text": [
      "Fetching data for IBM...\n"
     ]
    },
    {
     "name": "stderr",
     "output_type": "stream",
     "text": [
      "[*********************100%***********************]  1 of 1 completed\n",
      "C:\\Users\\diego\\AppData\\Local\\Temp\\ipykernel_50852\\430125842.py:13: FutureWarning: Calling float on a single element Series is deprecated and will raise a TypeError in the future. Use float(ser.iloc[0]) instead\n",
      "  open_price     = float(df.iloc[1][\"Open\"])\n",
      "C:\\Users\\diego\\AppData\\Local\\Temp\\ipykernel_50852\\430125842.py:14: FutureWarning: Calling float on a single element Series is deprecated and will raise a TypeError in the future. Use float(ser.iloc[0]) instead\n",
      "  close_price    = float(df.iloc[1][\"Close\"])\n",
      "C:\\Users\\diego\\AppData\\Local\\Temp\\ipykernel_50852\\430125842.py:15: FutureWarning: Calling float on a single element Series is deprecated and will raise a TypeError in the future. Use float(ser.iloc[0]) instead\n",
      "  previous_open  = float(df.iloc[0][\"Open\"])\n",
      "C:\\Users\\diego\\AppData\\Local\\Temp\\ipykernel_50852\\430125842.py:16: FutureWarning: Calling float on a single element Series is deprecated and will raise a TypeError in the future. Use float(ser.iloc[0]) instead\n",
      "  previous_close = float(df.iloc[0][\"Close\"])\n"
     ]
    },
    {
     "name": "stdout",
     "output_type": "stream",
     "text": [
      "Fetching data for IEX...\n"
     ]
    },
    {
     "name": "stderr",
     "output_type": "stream",
     "text": [
      "[*********************100%***********************]  1 of 1 completed\n",
      "C:\\Users\\diego\\AppData\\Local\\Temp\\ipykernel_50852\\430125842.py:13: FutureWarning: Calling float on a single element Series is deprecated and will raise a TypeError in the future. Use float(ser.iloc[0]) instead\n",
      "  open_price     = float(df.iloc[1][\"Open\"])\n",
      "C:\\Users\\diego\\AppData\\Local\\Temp\\ipykernel_50852\\430125842.py:14: FutureWarning: Calling float on a single element Series is deprecated and will raise a TypeError in the future. Use float(ser.iloc[0]) instead\n",
      "  close_price    = float(df.iloc[1][\"Close\"])\n",
      "C:\\Users\\diego\\AppData\\Local\\Temp\\ipykernel_50852\\430125842.py:15: FutureWarning: Calling float on a single element Series is deprecated and will raise a TypeError in the future. Use float(ser.iloc[0]) instead\n",
      "  previous_open  = float(df.iloc[0][\"Open\"])\n",
      "C:\\Users\\diego\\AppData\\Local\\Temp\\ipykernel_50852\\430125842.py:16: FutureWarning: Calling float on a single element Series is deprecated and will raise a TypeError in the future. Use float(ser.iloc[0]) instead\n",
      "  previous_close = float(df.iloc[0][\"Close\"])\n"
     ]
    },
    {
     "name": "stdout",
     "output_type": "stream",
     "text": [
      "Fetching data for IDXX...\n"
     ]
    },
    {
     "name": "stderr",
     "output_type": "stream",
     "text": [
      "[*********************100%***********************]  1 of 1 completed\n",
      "C:\\Users\\diego\\AppData\\Local\\Temp\\ipykernel_50852\\430125842.py:13: FutureWarning: Calling float on a single element Series is deprecated and will raise a TypeError in the future. Use float(ser.iloc[0]) instead\n",
      "  open_price     = float(df.iloc[1][\"Open\"])\n",
      "C:\\Users\\diego\\AppData\\Local\\Temp\\ipykernel_50852\\430125842.py:14: FutureWarning: Calling float on a single element Series is deprecated and will raise a TypeError in the future. Use float(ser.iloc[0]) instead\n",
      "  close_price    = float(df.iloc[1][\"Close\"])\n",
      "C:\\Users\\diego\\AppData\\Local\\Temp\\ipykernel_50852\\430125842.py:15: FutureWarning: Calling float on a single element Series is deprecated and will raise a TypeError in the future. Use float(ser.iloc[0]) instead\n",
      "  previous_open  = float(df.iloc[0][\"Open\"])\n",
      "C:\\Users\\diego\\AppData\\Local\\Temp\\ipykernel_50852\\430125842.py:16: FutureWarning: Calling float on a single element Series is deprecated and will raise a TypeError in the future. Use float(ser.iloc[0]) instead\n",
      "  previous_close = float(df.iloc[0][\"Close\"])\n"
     ]
    },
    {
     "name": "stdout",
     "output_type": "stream",
     "text": [
      "Fetching data for ITW...\n"
     ]
    },
    {
     "name": "stderr",
     "output_type": "stream",
     "text": [
      "[*********************100%***********************]  1 of 1 completed\n",
      "C:\\Users\\diego\\AppData\\Local\\Temp\\ipykernel_50852\\430125842.py:13: FutureWarning: Calling float on a single element Series is deprecated and will raise a TypeError in the future. Use float(ser.iloc[0]) instead\n",
      "  open_price     = float(df.iloc[1][\"Open\"])\n",
      "C:\\Users\\diego\\AppData\\Local\\Temp\\ipykernel_50852\\430125842.py:14: FutureWarning: Calling float on a single element Series is deprecated and will raise a TypeError in the future. Use float(ser.iloc[0]) instead\n",
      "  close_price    = float(df.iloc[1][\"Close\"])\n",
      "C:\\Users\\diego\\AppData\\Local\\Temp\\ipykernel_50852\\430125842.py:15: FutureWarning: Calling float on a single element Series is deprecated and will raise a TypeError in the future. Use float(ser.iloc[0]) instead\n",
      "  previous_open  = float(df.iloc[0][\"Open\"])\n",
      "C:\\Users\\diego\\AppData\\Local\\Temp\\ipykernel_50852\\430125842.py:16: FutureWarning: Calling float on a single element Series is deprecated and will raise a TypeError in the future. Use float(ser.iloc[0]) instead\n",
      "  previous_close = float(df.iloc[0][\"Close\"])\n"
     ]
    },
    {
     "name": "stdout",
     "output_type": "stream",
     "text": [
      "Fetching data for INCY...\n"
     ]
    },
    {
     "name": "stderr",
     "output_type": "stream",
     "text": [
      "[*********************100%***********************]  1 of 1 completed\n",
      "C:\\Users\\diego\\AppData\\Local\\Temp\\ipykernel_50852\\430125842.py:13: FutureWarning: Calling float on a single element Series is deprecated and will raise a TypeError in the future. Use float(ser.iloc[0]) instead\n",
      "  open_price     = float(df.iloc[1][\"Open\"])\n",
      "C:\\Users\\diego\\AppData\\Local\\Temp\\ipykernel_50852\\430125842.py:14: FutureWarning: Calling float on a single element Series is deprecated and will raise a TypeError in the future. Use float(ser.iloc[0]) instead\n",
      "  close_price    = float(df.iloc[1][\"Close\"])\n",
      "C:\\Users\\diego\\AppData\\Local\\Temp\\ipykernel_50852\\430125842.py:15: FutureWarning: Calling float on a single element Series is deprecated and will raise a TypeError in the future. Use float(ser.iloc[0]) instead\n",
      "  previous_open  = float(df.iloc[0][\"Open\"])\n",
      "C:\\Users\\diego\\AppData\\Local\\Temp\\ipykernel_50852\\430125842.py:16: FutureWarning: Calling float on a single element Series is deprecated and will raise a TypeError in the future. Use float(ser.iloc[0]) instead\n",
      "  previous_close = float(df.iloc[0][\"Close\"])\n"
     ]
    },
    {
     "name": "stdout",
     "output_type": "stream",
     "text": [
      "Fetching data for IR...\n"
     ]
    },
    {
     "name": "stderr",
     "output_type": "stream",
     "text": [
      "[*********************100%***********************]  1 of 1 completed\n",
      "C:\\Users\\diego\\AppData\\Local\\Temp\\ipykernel_50852\\430125842.py:13: FutureWarning: Calling float on a single element Series is deprecated and will raise a TypeError in the future. Use float(ser.iloc[0]) instead\n",
      "  open_price     = float(df.iloc[1][\"Open\"])\n",
      "C:\\Users\\diego\\AppData\\Local\\Temp\\ipykernel_50852\\430125842.py:14: FutureWarning: Calling float on a single element Series is deprecated and will raise a TypeError in the future. Use float(ser.iloc[0]) instead\n",
      "  close_price    = float(df.iloc[1][\"Close\"])\n",
      "C:\\Users\\diego\\AppData\\Local\\Temp\\ipykernel_50852\\430125842.py:15: FutureWarning: Calling float on a single element Series is deprecated and will raise a TypeError in the future. Use float(ser.iloc[0]) instead\n",
      "  previous_open  = float(df.iloc[0][\"Open\"])\n",
      "C:\\Users\\diego\\AppData\\Local\\Temp\\ipykernel_50852\\430125842.py:16: FutureWarning: Calling float on a single element Series is deprecated and will raise a TypeError in the future. Use float(ser.iloc[0]) instead\n",
      "  previous_close = float(df.iloc[0][\"Close\"])\n"
     ]
    },
    {
     "name": "stdout",
     "output_type": "stream",
     "text": [
      "Fetching data for PODD...\n"
     ]
    },
    {
     "name": "stderr",
     "output_type": "stream",
     "text": [
      "[*********************100%***********************]  1 of 1 completed\n",
      "C:\\Users\\diego\\AppData\\Local\\Temp\\ipykernel_50852\\430125842.py:13: FutureWarning: Calling float on a single element Series is deprecated and will raise a TypeError in the future. Use float(ser.iloc[0]) instead\n",
      "  open_price     = float(df.iloc[1][\"Open\"])\n",
      "C:\\Users\\diego\\AppData\\Local\\Temp\\ipykernel_50852\\430125842.py:14: FutureWarning: Calling float on a single element Series is deprecated and will raise a TypeError in the future. Use float(ser.iloc[0]) instead\n",
      "  close_price    = float(df.iloc[1][\"Close\"])\n",
      "C:\\Users\\diego\\AppData\\Local\\Temp\\ipykernel_50852\\430125842.py:15: FutureWarning: Calling float on a single element Series is deprecated and will raise a TypeError in the future. Use float(ser.iloc[0]) instead\n",
      "  previous_open  = float(df.iloc[0][\"Open\"])\n",
      "C:\\Users\\diego\\AppData\\Local\\Temp\\ipykernel_50852\\430125842.py:16: FutureWarning: Calling float on a single element Series is deprecated and will raise a TypeError in the future. Use float(ser.iloc[0]) instead\n",
      "  previous_close = float(df.iloc[0][\"Close\"])\n"
     ]
    },
    {
     "name": "stdout",
     "output_type": "stream",
     "text": [
      "Fetching data for INTC...\n"
     ]
    },
    {
     "name": "stderr",
     "output_type": "stream",
     "text": [
      "[*********************100%***********************]  1 of 1 completed\n",
      "C:\\Users\\diego\\AppData\\Local\\Temp\\ipykernel_50852\\430125842.py:13: FutureWarning: Calling float on a single element Series is deprecated and will raise a TypeError in the future. Use float(ser.iloc[0]) instead\n",
      "  open_price     = float(df.iloc[1][\"Open\"])\n",
      "C:\\Users\\diego\\AppData\\Local\\Temp\\ipykernel_50852\\430125842.py:14: FutureWarning: Calling float on a single element Series is deprecated and will raise a TypeError in the future. Use float(ser.iloc[0]) instead\n",
      "  close_price    = float(df.iloc[1][\"Close\"])\n",
      "C:\\Users\\diego\\AppData\\Local\\Temp\\ipykernel_50852\\430125842.py:15: FutureWarning: Calling float on a single element Series is deprecated and will raise a TypeError in the future. Use float(ser.iloc[0]) instead\n",
      "  previous_open  = float(df.iloc[0][\"Open\"])\n",
      "C:\\Users\\diego\\AppData\\Local\\Temp\\ipykernel_50852\\430125842.py:16: FutureWarning: Calling float on a single element Series is deprecated and will raise a TypeError in the future. Use float(ser.iloc[0]) instead\n",
      "  previous_close = float(df.iloc[0][\"Close\"])\n"
     ]
    },
    {
     "name": "stdout",
     "output_type": "stream",
     "text": [
      "Fetching data for ICE...\n"
     ]
    },
    {
     "name": "stderr",
     "output_type": "stream",
     "text": [
      "[*********************100%***********************]  1 of 1 completed\n",
      "C:\\Users\\diego\\AppData\\Local\\Temp\\ipykernel_50852\\430125842.py:13: FutureWarning: Calling float on a single element Series is deprecated and will raise a TypeError in the future. Use float(ser.iloc[0]) instead\n",
      "  open_price     = float(df.iloc[1][\"Open\"])\n",
      "C:\\Users\\diego\\AppData\\Local\\Temp\\ipykernel_50852\\430125842.py:14: FutureWarning: Calling float on a single element Series is deprecated and will raise a TypeError in the future. Use float(ser.iloc[0]) instead\n",
      "  close_price    = float(df.iloc[1][\"Close\"])\n",
      "C:\\Users\\diego\\AppData\\Local\\Temp\\ipykernel_50852\\430125842.py:15: FutureWarning: Calling float on a single element Series is deprecated and will raise a TypeError in the future. Use float(ser.iloc[0]) instead\n",
      "  previous_open  = float(df.iloc[0][\"Open\"])\n",
      "C:\\Users\\diego\\AppData\\Local\\Temp\\ipykernel_50852\\430125842.py:16: FutureWarning: Calling float on a single element Series is deprecated and will raise a TypeError in the future. Use float(ser.iloc[0]) instead\n",
      "  previous_close = float(df.iloc[0][\"Close\"])\n"
     ]
    },
    {
     "name": "stdout",
     "output_type": "stream",
     "text": [
      "Fetching data for IFF...\n"
     ]
    },
    {
     "name": "stderr",
     "output_type": "stream",
     "text": [
      "[*********************100%***********************]  1 of 1 completed\n",
      "C:\\Users\\diego\\AppData\\Local\\Temp\\ipykernel_50852\\430125842.py:13: FutureWarning: Calling float on a single element Series is deprecated and will raise a TypeError in the future. Use float(ser.iloc[0]) instead\n",
      "  open_price     = float(df.iloc[1][\"Open\"])\n",
      "C:\\Users\\diego\\AppData\\Local\\Temp\\ipykernel_50852\\430125842.py:14: FutureWarning: Calling float on a single element Series is deprecated and will raise a TypeError in the future. Use float(ser.iloc[0]) instead\n",
      "  close_price    = float(df.iloc[1][\"Close\"])\n",
      "C:\\Users\\diego\\AppData\\Local\\Temp\\ipykernel_50852\\430125842.py:15: FutureWarning: Calling float on a single element Series is deprecated and will raise a TypeError in the future. Use float(ser.iloc[0]) instead\n",
      "  previous_open  = float(df.iloc[0][\"Open\"])\n",
      "C:\\Users\\diego\\AppData\\Local\\Temp\\ipykernel_50852\\430125842.py:16: FutureWarning: Calling float on a single element Series is deprecated and will raise a TypeError in the future. Use float(ser.iloc[0]) instead\n",
      "  previous_close = float(df.iloc[0][\"Close\"])\n"
     ]
    },
    {
     "name": "stdout",
     "output_type": "stream",
     "text": [
      "Fetching data for IP...\n"
     ]
    },
    {
     "name": "stderr",
     "output_type": "stream",
     "text": [
      "[*********************100%***********************]  1 of 1 completed\n",
      "C:\\Users\\diego\\AppData\\Local\\Temp\\ipykernel_50852\\430125842.py:13: FutureWarning: Calling float on a single element Series is deprecated and will raise a TypeError in the future. Use float(ser.iloc[0]) instead\n",
      "  open_price     = float(df.iloc[1][\"Open\"])\n",
      "C:\\Users\\diego\\AppData\\Local\\Temp\\ipykernel_50852\\430125842.py:14: FutureWarning: Calling float on a single element Series is deprecated and will raise a TypeError in the future. Use float(ser.iloc[0]) instead\n",
      "  close_price    = float(df.iloc[1][\"Close\"])\n",
      "C:\\Users\\diego\\AppData\\Local\\Temp\\ipykernel_50852\\430125842.py:15: FutureWarning: Calling float on a single element Series is deprecated and will raise a TypeError in the future. Use float(ser.iloc[0]) instead\n",
      "  previous_open  = float(df.iloc[0][\"Open\"])\n",
      "C:\\Users\\diego\\AppData\\Local\\Temp\\ipykernel_50852\\430125842.py:16: FutureWarning: Calling float on a single element Series is deprecated and will raise a TypeError in the future. Use float(ser.iloc[0]) instead\n",
      "  previous_close = float(df.iloc[0][\"Close\"])\n"
     ]
    },
    {
     "name": "stdout",
     "output_type": "stream",
     "text": [
      "Fetching data for IPG...\n"
     ]
    },
    {
     "name": "stderr",
     "output_type": "stream",
     "text": [
      "[*********************100%***********************]  1 of 1 completed\n",
      "C:\\Users\\diego\\AppData\\Local\\Temp\\ipykernel_50852\\430125842.py:13: FutureWarning: Calling float on a single element Series is deprecated and will raise a TypeError in the future. Use float(ser.iloc[0]) instead\n",
      "  open_price     = float(df.iloc[1][\"Open\"])\n",
      "C:\\Users\\diego\\AppData\\Local\\Temp\\ipykernel_50852\\430125842.py:14: FutureWarning: Calling float on a single element Series is deprecated and will raise a TypeError in the future. Use float(ser.iloc[0]) instead\n",
      "  close_price    = float(df.iloc[1][\"Close\"])\n",
      "C:\\Users\\diego\\AppData\\Local\\Temp\\ipykernel_50852\\430125842.py:15: FutureWarning: Calling float on a single element Series is deprecated and will raise a TypeError in the future. Use float(ser.iloc[0]) instead\n",
      "  previous_open  = float(df.iloc[0][\"Open\"])\n",
      "C:\\Users\\diego\\AppData\\Local\\Temp\\ipykernel_50852\\430125842.py:16: FutureWarning: Calling float on a single element Series is deprecated and will raise a TypeError in the future. Use float(ser.iloc[0]) instead\n",
      "  previous_close = float(df.iloc[0][\"Close\"])\n"
     ]
    },
    {
     "name": "stdout",
     "output_type": "stream",
     "text": [
      "Fetching data for INTU...\n"
     ]
    },
    {
     "name": "stderr",
     "output_type": "stream",
     "text": [
      "[*********************100%***********************]  1 of 1 completed\n",
      "C:\\Users\\diego\\AppData\\Local\\Temp\\ipykernel_50852\\430125842.py:13: FutureWarning: Calling float on a single element Series is deprecated and will raise a TypeError in the future. Use float(ser.iloc[0]) instead\n",
      "  open_price     = float(df.iloc[1][\"Open\"])\n",
      "C:\\Users\\diego\\AppData\\Local\\Temp\\ipykernel_50852\\430125842.py:14: FutureWarning: Calling float on a single element Series is deprecated and will raise a TypeError in the future. Use float(ser.iloc[0]) instead\n",
      "  close_price    = float(df.iloc[1][\"Close\"])\n",
      "C:\\Users\\diego\\AppData\\Local\\Temp\\ipykernel_50852\\430125842.py:15: FutureWarning: Calling float on a single element Series is deprecated and will raise a TypeError in the future. Use float(ser.iloc[0]) instead\n",
      "  previous_open  = float(df.iloc[0][\"Open\"])\n",
      "C:\\Users\\diego\\AppData\\Local\\Temp\\ipykernel_50852\\430125842.py:16: FutureWarning: Calling float on a single element Series is deprecated and will raise a TypeError in the future. Use float(ser.iloc[0]) instead\n",
      "  previous_close = float(df.iloc[0][\"Close\"])\n"
     ]
    },
    {
     "name": "stdout",
     "output_type": "stream",
     "text": [
      "Fetching data for ISRG...\n"
     ]
    },
    {
     "name": "stderr",
     "output_type": "stream",
     "text": [
      "[*********************100%***********************]  1 of 1 completed\n",
      "C:\\Users\\diego\\AppData\\Local\\Temp\\ipykernel_50852\\430125842.py:13: FutureWarning: Calling float on a single element Series is deprecated and will raise a TypeError in the future. Use float(ser.iloc[0]) instead\n",
      "  open_price     = float(df.iloc[1][\"Open\"])\n",
      "C:\\Users\\diego\\AppData\\Local\\Temp\\ipykernel_50852\\430125842.py:14: FutureWarning: Calling float on a single element Series is deprecated and will raise a TypeError in the future. Use float(ser.iloc[0]) instead\n",
      "  close_price    = float(df.iloc[1][\"Close\"])\n",
      "C:\\Users\\diego\\AppData\\Local\\Temp\\ipykernel_50852\\430125842.py:15: FutureWarning: Calling float on a single element Series is deprecated and will raise a TypeError in the future. Use float(ser.iloc[0]) instead\n",
      "  previous_open  = float(df.iloc[0][\"Open\"])\n",
      "C:\\Users\\diego\\AppData\\Local\\Temp\\ipykernel_50852\\430125842.py:16: FutureWarning: Calling float on a single element Series is deprecated and will raise a TypeError in the future. Use float(ser.iloc[0]) instead\n",
      "  previous_close = float(df.iloc[0][\"Close\"])\n"
     ]
    },
    {
     "name": "stdout",
     "output_type": "stream",
     "text": [
      "Fetching data for IVZ...\n"
     ]
    },
    {
     "name": "stderr",
     "output_type": "stream",
     "text": [
      "[*********************100%***********************]  1 of 1 completed\n",
      "C:\\Users\\diego\\AppData\\Local\\Temp\\ipykernel_50852\\430125842.py:13: FutureWarning: Calling float on a single element Series is deprecated and will raise a TypeError in the future. Use float(ser.iloc[0]) instead\n",
      "  open_price     = float(df.iloc[1][\"Open\"])\n",
      "C:\\Users\\diego\\AppData\\Local\\Temp\\ipykernel_50852\\430125842.py:14: FutureWarning: Calling float on a single element Series is deprecated and will raise a TypeError in the future. Use float(ser.iloc[0]) instead\n",
      "  close_price    = float(df.iloc[1][\"Close\"])\n",
      "C:\\Users\\diego\\AppData\\Local\\Temp\\ipykernel_50852\\430125842.py:15: FutureWarning: Calling float on a single element Series is deprecated and will raise a TypeError in the future. Use float(ser.iloc[0]) instead\n",
      "  previous_open  = float(df.iloc[0][\"Open\"])\n",
      "C:\\Users\\diego\\AppData\\Local\\Temp\\ipykernel_50852\\430125842.py:16: FutureWarning: Calling float on a single element Series is deprecated and will raise a TypeError in the future. Use float(ser.iloc[0]) instead\n",
      "  previous_close = float(df.iloc[0][\"Close\"])\n"
     ]
    },
    {
     "name": "stdout",
     "output_type": "stream",
     "text": [
      "Fetching data for INVH...\n"
     ]
    },
    {
     "name": "stderr",
     "output_type": "stream",
     "text": [
      "[*********************100%***********************]  1 of 1 completed\n",
      "C:\\Users\\diego\\AppData\\Local\\Temp\\ipykernel_50852\\430125842.py:13: FutureWarning: Calling float on a single element Series is deprecated and will raise a TypeError in the future. Use float(ser.iloc[0]) instead\n",
      "  open_price     = float(df.iloc[1][\"Open\"])\n",
      "C:\\Users\\diego\\AppData\\Local\\Temp\\ipykernel_50852\\430125842.py:14: FutureWarning: Calling float on a single element Series is deprecated and will raise a TypeError in the future. Use float(ser.iloc[0]) instead\n",
      "  close_price    = float(df.iloc[1][\"Close\"])\n",
      "C:\\Users\\diego\\AppData\\Local\\Temp\\ipykernel_50852\\430125842.py:15: FutureWarning: Calling float on a single element Series is deprecated and will raise a TypeError in the future. Use float(ser.iloc[0]) instead\n",
      "  previous_open  = float(df.iloc[0][\"Open\"])\n",
      "C:\\Users\\diego\\AppData\\Local\\Temp\\ipykernel_50852\\430125842.py:16: FutureWarning: Calling float on a single element Series is deprecated and will raise a TypeError in the future. Use float(ser.iloc[0]) instead\n",
      "  previous_close = float(df.iloc[0][\"Close\"])\n"
     ]
    },
    {
     "name": "stdout",
     "output_type": "stream",
     "text": [
      "Fetching data for IQV...\n"
     ]
    },
    {
     "name": "stderr",
     "output_type": "stream",
     "text": [
      "[*********************100%***********************]  1 of 1 completed\n",
      "C:\\Users\\diego\\AppData\\Local\\Temp\\ipykernel_50852\\430125842.py:13: FutureWarning: Calling float on a single element Series is deprecated and will raise a TypeError in the future. Use float(ser.iloc[0]) instead\n",
      "  open_price     = float(df.iloc[1][\"Open\"])\n",
      "C:\\Users\\diego\\AppData\\Local\\Temp\\ipykernel_50852\\430125842.py:14: FutureWarning: Calling float on a single element Series is deprecated and will raise a TypeError in the future. Use float(ser.iloc[0]) instead\n",
      "  close_price    = float(df.iloc[1][\"Close\"])\n",
      "C:\\Users\\diego\\AppData\\Local\\Temp\\ipykernel_50852\\430125842.py:15: FutureWarning: Calling float on a single element Series is deprecated and will raise a TypeError in the future. Use float(ser.iloc[0]) instead\n",
      "  previous_open  = float(df.iloc[0][\"Open\"])\n",
      "C:\\Users\\diego\\AppData\\Local\\Temp\\ipykernel_50852\\430125842.py:16: FutureWarning: Calling float on a single element Series is deprecated and will raise a TypeError in the future. Use float(ser.iloc[0]) instead\n",
      "  previous_close = float(df.iloc[0][\"Close\"])\n"
     ]
    },
    {
     "name": "stdout",
     "output_type": "stream",
     "text": [
      "Fetching data for IRM...\n"
     ]
    },
    {
     "name": "stderr",
     "output_type": "stream",
     "text": [
      "[*********************100%***********************]  1 of 1 completed\n",
      "C:\\Users\\diego\\AppData\\Local\\Temp\\ipykernel_50852\\430125842.py:13: FutureWarning: Calling float on a single element Series is deprecated and will raise a TypeError in the future. Use float(ser.iloc[0]) instead\n",
      "  open_price     = float(df.iloc[1][\"Open\"])\n",
      "C:\\Users\\diego\\AppData\\Local\\Temp\\ipykernel_50852\\430125842.py:14: FutureWarning: Calling float on a single element Series is deprecated and will raise a TypeError in the future. Use float(ser.iloc[0]) instead\n",
      "  close_price    = float(df.iloc[1][\"Close\"])\n",
      "C:\\Users\\diego\\AppData\\Local\\Temp\\ipykernel_50852\\430125842.py:15: FutureWarning: Calling float on a single element Series is deprecated and will raise a TypeError in the future. Use float(ser.iloc[0]) instead\n",
      "  previous_open  = float(df.iloc[0][\"Open\"])\n",
      "C:\\Users\\diego\\AppData\\Local\\Temp\\ipykernel_50852\\430125842.py:16: FutureWarning: Calling float on a single element Series is deprecated and will raise a TypeError in the future. Use float(ser.iloc[0]) instead\n",
      "  previous_close = float(df.iloc[0][\"Close\"])\n"
     ]
    },
    {
     "name": "stdout",
     "output_type": "stream",
     "text": [
      "Fetching data for JBHT...\n"
     ]
    },
    {
     "name": "stderr",
     "output_type": "stream",
     "text": [
      "[*********************100%***********************]  1 of 1 completed\n",
      "C:\\Users\\diego\\AppData\\Local\\Temp\\ipykernel_50852\\430125842.py:13: FutureWarning: Calling float on a single element Series is deprecated and will raise a TypeError in the future. Use float(ser.iloc[0]) instead\n",
      "  open_price     = float(df.iloc[1][\"Open\"])\n",
      "C:\\Users\\diego\\AppData\\Local\\Temp\\ipykernel_50852\\430125842.py:14: FutureWarning: Calling float on a single element Series is deprecated and will raise a TypeError in the future. Use float(ser.iloc[0]) instead\n",
      "  close_price    = float(df.iloc[1][\"Close\"])\n",
      "C:\\Users\\diego\\AppData\\Local\\Temp\\ipykernel_50852\\430125842.py:15: FutureWarning: Calling float on a single element Series is deprecated and will raise a TypeError in the future. Use float(ser.iloc[0]) instead\n",
      "  previous_open  = float(df.iloc[0][\"Open\"])\n",
      "C:\\Users\\diego\\AppData\\Local\\Temp\\ipykernel_50852\\430125842.py:16: FutureWarning: Calling float on a single element Series is deprecated and will raise a TypeError in the future. Use float(ser.iloc[0]) instead\n",
      "  previous_close = float(df.iloc[0][\"Close\"])\n"
     ]
    },
    {
     "name": "stdout",
     "output_type": "stream",
     "text": [
      "Fetching data for JBL...\n"
     ]
    },
    {
     "name": "stderr",
     "output_type": "stream",
     "text": [
      "[*********************100%***********************]  1 of 1 completed\n",
      "C:\\Users\\diego\\AppData\\Local\\Temp\\ipykernel_50852\\430125842.py:13: FutureWarning: Calling float on a single element Series is deprecated and will raise a TypeError in the future. Use float(ser.iloc[0]) instead\n",
      "  open_price     = float(df.iloc[1][\"Open\"])\n",
      "C:\\Users\\diego\\AppData\\Local\\Temp\\ipykernel_50852\\430125842.py:14: FutureWarning: Calling float on a single element Series is deprecated and will raise a TypeError in the future. Use float(ser.iloc[0]) instead\n",
      "  close_price    = float(df.iloc[1][\"Close\"])\n",
      "C:\\Users\\diego\\AppData\\Local\\Temp\\ipykernel_50852\\430125842.py:15: FutureWarning: Calling float on a single element Series is deprecated and will raise a TypeError in the future. Use float(ser.iloc[0]) instead\n",
      "  previous_open  = float(df.iloc[0][\"Open\"])\n",
      "C:\\Users\\diego\\AppData\\Local\\Temp\\ipykernel_50852\\430125842.py:16: FutureWarning: Calling float on a single element Series is deprecated and will raise a TypeError in the future. Use float(ser.iloc[0]) instead\n",
      "  previous_close = float(df.iloc[0][\"Close\"])\n"
     ]
    },
    {
     "name": "stdout",
     "output_type": "stream",
     "text": [
      "Fetching data for JKHY...\n"
     ]
    },
    {
     "name": "stderr",
     "output_type": "stream",
     "text": [
      "[*********************100%***********************]  1 of 1 completed\n",
      "C:\\Users\\diego\\AppData\\Local\\Temp\\ipykernel_50852\\430125842.py:13: FutureWarning: Calling float on a single element Series is deprecated and will raise a TypeError in the future. Use float(ser.iloc[0]) instead\n",
      "  open_price     = float(df.iloc[1][\"Open\"])\n",
      "C:\\Users\\diego\\AppData\\Local\\Temp\\ipykernel_50852\\430125842.py:14: FutureWarning: Calling float on a single element Series is deprecated and will raise a TypeError in the future. Use float(ser.iloc[0]) instead\n",
      "  close_price    = float(df.iloc[1][\"Close\"])\n",
      "C:\\Users\\diego\\AppData\\Local\\Temp\\ipykernel_50852\\430125842.py:15: FutureWarning: Calling float on a single element Series is deprecated and will raise a TypeError in the future. Use float(ser.iloc[0]) instead\n",
      "  previous_open  = float(df.iloc[0][\"Open\"])\n",
      "C:\\Users\\diego\\AppData\\Local\\Temp\\ipykernel_50852\\430125842.py:16: FutureWarning: Calling float on a single element Series is deprecated and will raise a TypeError in the future. Use float(ser.iloc[0]) instead\n",
      "  previous_close = float(df.iloc[0][\"Close\"])\n"
     ]
    },
    {
     "name": "stdout",
     "output_type": "stream",
     "text": [
      "Fetching data for J...\n"
     ]
    },
    {
     "name": "stderr",
     "output_type": "stream",
     "text": [
      "[*********************100%***********************]  1 of 1 completed\n",
      "C:\\Users\\diego\\AppData\\Local\\Temp\\ipykernel_50852\\430125842.py:13: FutureWarning: Calling float on a single element Series is deprecated and will raise a TypeError in the future. Use float(ser.iloc[0]) instead\n",
      "  open_price     = float(df.iloc[1][\"Open\"])\n",
      "C:\\Users\\diego\\AppData\\Local\\Temp\\ipykernel_50852\\430125842.py:14: FutureWarning: Calling float on a single element Series is deprecated and will raise a TypeError in the future. Use float(ser.iloc[0]) instead\n",
      "  close_price    = float(df.iloc[1][\"Close\"])\n",
      "C:\\Users\\diego\\AppData\\Local\\Temp\\ipykernel_50852\\430125842.py:15: FutureWarning: Calling float on a single element Series is deprecated and will raise a TypeError in the future. Use float(ser.iloc[0]) instead\n",
      "  previous_open  = float(df.iloc[0][\"Open\"])\n",
      "C:\\Users\\diego\\AppData\\Local\\Temp\\ipykernel_50852\\430125842.py:16: FutureWarning: Calling float on a single element Series is deprecated and will raise a TypeError in the future. Use float(ser.iloc[0]) instead\n",
      "  previous_close = float(df.iloc[0][\"Close\"])\n"
     ]
    },
    {
     "name": "stdout",
     "output_type": "stream",
     "text": [
      "Fetching data for JNJ...\n"
     ]
    },
    {
     "name": "stderr",
     "output_type": "stream",
     "text": [
      "[*********************100%***********************]  1 of 1 completed\n",
      "C:\\Users\\diego\\AppData\\Local\\Temp\\ipykernel_50852\\430125842.py:13: FutureWarning: Calling float on a single element Series is deprecated and will raise a TypeError in the future. Use float(ser.iloc[0]) instead\n",
      "  open_price     = float(df.iloc[1][\"Open\"])\n",
      "C:\\Users\\diego\\AppData\\Local\\Temp\\ipykernel_50852\\430125842.py:14: FutureWarning: Calling float on a single element Series is deprecated and will raise a TypeError in the future. Use float(ser.iloc[0]) instead\n",
      "  close_price    = float(df.iloc[1][\"Close\"])\n",
      "C:\\Users\\diego\\AppData\\Local\\Temp\\ipykernel_50852\\430125842.py:15: FutureWarning: Calling float on a single element Series is deprecated and will raise a TypeError in the future. Use float(ser.iloc[0]) instead\n",
      "  previous_open  = float(df.iloc[0][\"Open\"])\n",
      "C:\\Users\\diego\\AppData\\Local\\Temp\\ipykernel_50852\\430125842.py:16: FutureWarning: Calling float on a single element Series is deprecated and will raise a TypeError in the future. Use float(ser.iloc[0]) instead\n",
      "  previous_close = float(df.iloc[0][\"Close\"])\n"
     ]
    },
    {
     "name": "stdout",
     "output_type": "stream",
     "text": [
      "Fetching data for JCI...\n"
     ]
    },
    {
     "name": "stderr",
     "output_type": "stream",
     "text": [
      "[*********************100%***********************]  1 of 1 completed\n",
      "C:\\Users\\diego\\AppData\\Local\\Temp\\ipykernel_50852\\430125842.py:13: FutureWarning: Calling float on a single element Series is deprecated and will raise a TypeError in the future. Use float(ser.iloc[0]) instead\n",
      "  open_price     = float(df.iloc[1][\"Open\"])\n",
      "C:\\Users\\diego\\AppData\\Local\\Temp\\ipykernel_50852\\430125842.py:14: FutureWarning: Calling float on a single element Series is deprecated and will raise a TypeError in the future. Use float(ser.iloc[0]) instead\n",
      "  close_price    = float(df.iloc[1][\"Close\"])\n",
      "C:\\Users\\diego\\AppData\\Local\\Temp\\ipykernel_50852\\430125842.py:15: FutureWarning: Calling float on a single element Series is deprecated and will raise a TypeError in the future. Use float(ser.iloc[0]) instead\n",
      "  previous_open  = float(df.iloc[0][\"Open\"])\n",
      "C:\\Users\\diego\\AppData\\Local\\Temp\\ipykernel_50852\\430125842.py:16: FutureWarning: Calling float on a single element Series is deprecated and will raise a TypeError in the future. Use float(ser.iloc[0]) instead\n",
      "  previous_close = float(df.iloc[0][\"Close\"])\n"
     ]
    },
    {
     "name": "stdout",
     "output_type": "stream",
     "text": [
      "Fetching data for JPM...\n"
     ]
    },
    {
     "name": "stderr",
     "output_type": "stream",
     "text": [
      "[*********************100%***********************]  1 of 1 completed\n",
      "C:\\Users\\diego\\AppData\\Local\\Temp\\ipykernel_50852\\430125842.py:13: FutureWarning: Calling float on a single element Series is deprecated and will raise a TypeError in the future. Use float(ser.iloc[0]) instead\n",
      "  open_price     = float(df.iloc[1][\"Open\"])\n",
      "C:\\Users\\diego\\AppData\\Local\\Temp\\ipykernel_50852\\430125842.py:14: FutureWarning: Calling float on a single element Series is deprecated and will raise a TypeError in the future. Use float(ser.iloc[0]) instead\n",
      "  close_price    = float(df.iloc[1][\"Close\"])\n",
      "C:\\Users\\diego\\AppData\\Local\\Temp\\ipykernel_50852\\430125842.py:15: FutureWarning: Calling float on a single element Series is deprecated and will raise a TypeError in the future. Use float(ser.iloc[0]) instead\n",
      "  previous_open  = float(df.iloc[0][\"Open\"])\n",
      "C:\\Users\\diego\\AppData\\Local\\Temp\\ipykernel_50852\\430125842.py:16: FutureWarning: Calling float on a single element Series is deprecated and will raise a TypeError in the future. Use float(ser.iloc[0]) instead\n",
      "  previous_close = float(df.iloc[0][\"Close\"])\n"
     ]
    },
    {
     "name": "stdout",
     "output_type": "stream",
     "text": [
      "Fetching data for JNPR...\n"
     ]
    },
    {
     "name": "stderr",
     "output_type": "stream",
     "text": [
      "[*********************100%***********************]  1 of 1 completed\n",
      "C:\\Users\\diego\\AppData\\Local\\Temp\\ipykernel_50852\\430125842.py:13: FutureWarning: Calling float on a single element Series is deprecated and will raise a TypeError in the future. Use float(ser.iloc[0]) instead\n",
      "  open_price     = float(df.iloc[1][\"Open\"])\n",
      "C:\\Users\\diego\\AppData\\Local\\Temp\\ipykernel_50852\\430125842.py:14: FutureWarning: Calling float on a single element Series is deprecated and will raise a TypeError in the future. Use float(ser.iloc[0]) instead\n",
      "  close_price    = float(df.iloc[1][\"Close\"])\n",
      "C:\\Users\\diego\\AppData\\Local\\Temp\\ipykernel_50852\\430125842.py:15: FutureWarning: Calling float on a single element Series is deprecated and will raise a TypeError in the future. Use float(ser.iloc[0]) instead\n",
      "  previous_open  = float(df.iloc[0][\"Open\"])\n",
      "C:\\Users\\diego\\AppData\\Local\\Temp\\ipykernel_50852\\430125842.py:16: FutureWarning: Calling float on a single element Series is deprecated and will raise a TypeError in the future. Use float(ser.iloc[0]) instead\n",
      "  previous_close = float(df.iloc[0][\"Close\"])\n"
     ]
    },
    {
     "name": "stdout",
     "output_type": "stream",
     "text": [
      "Fetching data for K...\n"
     ]
    },
    {
     "name": "stderr",
     "output_type": "stream",
     "text": [
      "[*********************100%***********************]  1 of 1 completed\n",
      "C:\\Users\\diego\\AppData\\Local\\Temp\\ipykernel_50852\\430125842.py:13: FutureWarning: Calling float on a single element Series is deprecated and will raise a TypeError in the future. Use float(ser.iloc[0]) instead\n",
      "  open_price     = float(df.iloc[1][\"Open\"])\n",
      "C:\\Users\\diego\\AppData\\Local\\Temp\\ipykernel_50852\\430125842.py:14: FutureWarning: Calling float on a single element Series is deprecated and will raise a TypeError in the future. Use float(ser.iloc[0]) instead\n",
      "  close_price    = float(df.iloc[1][\"Close\"])\n",
      "C:\\Users\\diego\\AppData\\Local\\Temp\\ipykernel_50852\\430125842.py:15: FutureWarning: Calling float on a single element Series is deprecated and will raise a TypeError in the future. Use float(ser.iloc[0]) instead\n",
      "  previous_open  = float(df.iloc[0][\"Open\"])\n",
      "C:\\Users\\diego\\AppData\\Local\\Temp\\ipykernel_50852\\430125842.py:16: FutureWarning: Calling float on a single element Series is deprecated and will raise a TypeError in the future. Use float(ser.iloc[0]) instead\n",
      "  previous_close = float(df.iloc[0][\"Close\"])\n"
     ]
    },
    {
     "name": "stdout",
     "output_type": "stream",
     "text": [
      "Fetching data for KVUE...\n"
     ]
    },
    {
     "name": "stderr",
     "output_type": "stream",
     "text": [
      "[*********************100%***********************]  1 of 1 completed\n",
      "C:\\Users\\diego\\AppData\\Local\\Temp\\ipykernel_50852\\430125842.py:13: FutureWarning: Calling float on a single element Series is deprecated and will raise a TypeError in the future. Use float(ser.iloc[0]) instead\n",
      "  open_price     = float(df.iloc[1][\"Open\"])\n",
      "C:\\Users\\diego\\AppData\\Local\\Temp\\ipykernel_50852\\430125842.py:14: FutureWarning: Calling float on a single element Series is deprecated and will raise a TypeError in the future. Use float(ser.iloc[0]) instead\n",
      "  close_price    = float(df.iloc[1][\"Close\"])\n",
      "C:\\Users\\diego\\AppData\\Local\\Temp\\ipykernel_50852\\430125842.py:15: FutureWarning: Calling float on a single element Series is deprecated and will raise a TypeError in the future. Use float(ser.iloc[0]) instead\n",
      "  previous_open  = float(df.iloc[0][\"Open\"])\n",
      "C:\\Users\\diego\\AppData\\Local\\Temp\\ipykernel_50852\\430125842.py:16: FutureWarning: Calling float on a single element Series is deprecated and will raise a TypeError in the future. Use float(ser.iloc[0]) instead\n",
      "  previous_close = float(df.iloc[0][\"Close\"])\n"
     ]
    },
    {
     "name": "stdout",
     "output_type": "stream",
     "text": [
      "Fetching data for KDP...\n"
     ]
    },
    {
     "name": "stderr",
     "output_type": "stream",
     "text": [
      "[*********************100%***********************]  1 of 1 completed\n",
      "C:\\Users\\diego\\AppData\\Local\\Temp\\ipykernel_50852\\430125842.py:13: FutureWarning: Calling float on a single element Series is deprecated and will raise a TypeError in the future. Use float(ser.iloc[0]) instead\n",
      "  open_price     = float(df.iloc[1][\"Open\"])\n",
      "C:\\Users\\diego\\AppData\\Local\\Temp\\ipykernel_50852\\430125842.py:14: FutureWarning: Calling float on a single element Series is deprecated and will raise a TypeError in the future. Use float(ser.iloc[0]) instead\n",
      "  close_price    = float(df.iloc[1][\"Close\"])\n",
      "C:\\Users\\diego\\AppData\\Local\\Temp\\ipykernel_50852\\430125842.py:15: FutureWarning: Calling float on a single element Series is deprecated and will raise a TypeError in the future. Use float(ser.iloc[0]) instead\n",
      "  previous_open  = float(df.iloc[0][\"Open\"])\n",
      "C:\\Users\\diego\\AppData\\Local\\Temp\\ipykernel_50852\\430125842.py:16: FutureWarning: Calling float on a single element Series is deprecated and will raise a TypeError in the future. Use float(ser.iloc[0]) instead\n",
      "  previous_close = float(df.iloc[0][\"Close\"])\n"
     ]
    },
    {
     "name": "stdout",
     "output_type": "stream",
     "text": [
      "Fetching data for KEY...\n"
     ]
    },
    {
     "name": "stderr",
     "output_type": "stream",
     "text": [
      "[*********************100%***********************]  1 of 1 completed\n",
      "C:\\Users\\diego\\AppData\\Local\\Temp\\ipykernel_50852\\430125842.py:13: FutureWarning: Calling float on a single element Series is deprecated and will raise a TypeError in the future. Use float(ser.iloc[0]) instead\n",
      "  open_price     = float(df.iloc[1][\"Open\"])\n",
      "C:\\Users\\diego\\AppData\\Local\\Temp\\ipykernel_50852\\430125842.py:14: FutureWarning: Calling float on a single element Series is deprecated and will raise a TypeError in the future. Use float(ser.iloc[0]) instead\n",
      "  close_price    = float(df.iloc[1][\"Close\"])\n",
      "C:\\Users\\diego\\AppData\\Local\\Temp\\ipykernel_50852\\430125842.py:15: FutureWarning: Calling float on a single element Series is deprecated and will raise a TypeError in the future. Use float(ser.iloc[0]) instead\n",
      "  previous_open  = float(df.iloc[0][\"Open\"])\n",
      "C:\\Users\\diego\\AppData\\Local\\Temp\\ipykernel_50852\\430125842.py:16: FutureWarning: Calling float on a single element Series is deprecated and will raise a TypeError in the future. Use float(ser.iloc[0]) instead\n",
      "  previous_close = float(df.iloc[0][\"Close\"])\n"
     ]
    },
    {
     "name": "stdout",
     "output_type": "stream",
     "text": [
      "Fetching data for KEYS...\n"
     ]
    },
    {
     "name": "stderr",
     "output_type": "stream",
     "text": [
      "[*********************100%***********************]  1 of 1 completed\n",
      "C:\\Users\\diego\\AppData\\Local\\Temp\\ipykernel_50852\\430125842.py:13: FutureWarning: Calling float on a single element Series is deprecated and will raise a TypeError in the future. Use float(ser.iloc[0]) instead\n",
      "  open_price     = float(df.iloc[1][\"Open\"])\n",
      "C:\\Users\\diego\\AppData\\Local\\Temp\\ipykernel_50852\\430125842.py:14: FutureWarning: Calling float on a single element Series is deprecated and will raise a TypeError in the future. Use float(ser.iloc[0]) instead\n",
      "  close_price    = float(df.iloc[1][\"Close\"])\n",
      "C:\\Users\\diego\\AppData\\Local\\Temp\\ipykernel_50852\\430125842.py:15: FutureWarning: Calling float on a single element Series is deprecated and will raise a TypeError in the future. Use float(ser.iloc[0]) instead\n",
      "  previous_open  = float(df.iloc[0][\"Open\"])\n",
      "C:\\Users\\diego\\AppData\\Local\\Temp\\ipykernel_50852\\430125842.py:16: FutureWarning: Calling float on a single element Series is deprecated and will raise a TypeError in the future. Use float(ser.iloc[0]) instead\n",
      "  previous_close = float(df.iloc[0][\"Close\"])\n"
     ]
    },
    {
     "name": "stdout",
     "output_type": "stream",
     "text": [
      "Fetching data for KMB...\n"
     ]
    },
    {
     "name": "stderr",
     "output_type": "stream",
     "text": [
      "[*********************100%***********************]  1 of 1 completed\n",
      "C:\\Users\\diego\\AppData\\Local\\Temp\\ipykernel_50852\\430125842.py:13: FutureWarning: Calling float on a single element Series is deprecated and will raise a TypeError in the future. Use float(ser.iloc[0]) instead\n",
      "  open_price     = float(df.iloc[1][\"Open\"])\n",
      "C:\\Users\\diego\\AppData\\Local\\Temp\\ipykernel_50852\\430125842.py:14: FutureWarning: Calling float on a single element Series is deprecated and will raise a TypeError in the future. Use float(ser.iloc[0]) instead\n",
      "  close_price    = float(df.iloc[1][\"Close\"])\n",
      "C:\\Users\\diego\\AppData\\Local\\Temp\\ipykernel_50852\\430125842.py:15: FutureWarning: Calling float on a single element Series is deprecated and will raise a TypeError in the future. Use float(ser.iloc[0]) instead\n",
      "  previous_open  = float(df.iloc[0][\"Open\"])\n",
      "C:\\Users\\diego\\AppData\\Local\\Temp\\ipykernel_50852\\430125842.py:16: FutureWarning: Calling float on a single element Series is deprecated and will raise a TypeError in the future. Use float(ser.iloc[0]) instead\n",
      "  previous_close = float(df.iloc[0][\"Close\"])\n"
     ]
    },
    {
     "name": "stdout",
     "output_type": "stream",
     "text": [
      "Fetching data for KIM...\n"
     ]
    },
    {
     "name": "stderr",
     "output_type": "stream",
     "text": [
      "[*********************100%***********************]  1 of 1 completed\n",
      "C:\\Users\\diego\\AppData\\Local\\Temp\\ipykernel_50852\\430125842.py:13: FutureWarning: Calling float on a single element Series is deprecated and will raise a TypeError in the future. Use float(ser.iloc[0]) instead\n",
      "  open_price     = float(df.iloc[1][\"Open\"])\n",
      "C:\\Users\\diego\\AppData\\Local\\Temp\\ipykernel_50852\\430125842.py:14: FutureWarning: Calling float on a single element Series is deprecated and will raise a TypeError in the future. Use float(ser.iloc[0]) instead\n",
      "  close_price    = float(df.iloc[1][\"Close\"])\n",
      "C:\\Users\\diego\\AppData\\Local\\Temp\\ipykernel_50852\\430125842.py:15: FutureWarning: Calling float on a single element Series is deprecated and will raise a TypeError in the future. Use float(ser.iloc[0]) instead\n",
      "  previous_open  = float(df.iloc[0][\"Open\"])\n",
      "C:\\Users\\diego\\AppData\\Local\\Temp\\ipykernel_50852\\430125842.py:16: FutureWarning: Calling float on a single element Series is deprecated and will raise a TypeError in the future. Use float(ser.iloc[0]) instead\n",
      "  previous_close = float(df.iloc[0][\"Close\"])\n"
     ]
    },
    {
     "name": "stdout",
     "output_type": "stream",
     "text": [
      "Fetching data for KMI...\n"
     ]
    },
    {
     "name": "stderr",
     "output_type": "stream",
     "text": [
      "[*********************100%***********************]  1 of 1 completed\n",
      "C:\\Users\\diego\\AppData\\Local\\Temp\\ipykernel_50852\\430125842.py:13: FutureWarning: Calling float on a single element Series is deprecated and will raise a TypeError in the future. Use float(ser.iloc[0]) instead\n",
      "  open_price     = float(df.iloc[1][\"Open\"])\n",
      "C:\\Users\\diego\\AppData\\Local\\Temp\\ipykernel_50852\\430125842.py:14: FutureWarning: Calling float on a single element Series is deprecated and will raise a TypeError in the future. Use float(ser.iloc[0]) instead\n",
      "  close_price    = float(df.iloc[1][\"Close\"])\n",
      "C:\\Users\\diego\\AppData\\Local\\Temp\\ipykernel_50852\\430125842.py:15: FutureWarning: Calling float on a single element Series is deprecated and will raise a TypeError in the future. Use float(ser.iloc[0]) instead\n",
      "  previous_open  = float(df.iloc[0][\"Open\"])\n",
      "C:\\Users\\diego\\AppData\\Local\\Temp\\ipykernel_50852\\430125842.py:16: FutureWarning: Calling float on a single element Series is deprecated and will raise a TypeError in the future. Use float(ser.iloc[0]) instead\n",
      "  previous_close = float(df.iloc[0][\"Close\"])\n"
     ]
    },
    {
     "name": "stdout",
     "output_type": "stream",
     "text": [
      "Fetching data for KKR...\n"
     ]
    },
    {
     "name": "stderr",
     "output_type": "stream",
     "text": [
      "[*********************100%***********************]  1 of 1 completed\n",
      "C:\\Users\\diego\\AppData\\Local\\Temp\\ipykernel_50852\\430125842.py:13: FutureWarning: Calling float on a single element Series is deprecated and will raise a TypeError in the future. Use float(ser.iloc[0]) instead\n",
      "  open_price     = float(df.iloc[1][\"Open\"])\n",
      "C:\\Users\\diego\\AppData\\Local\\Temp\\ipykernel_50852\\430125842.py:14: FutureWarning: Calling float on a single element Series is deprecated and will raise a TypeError in the future. Use float(ser.iloc[0]) instead\n",
      "  close_price    = float(df.iloc[1][\"Close\"])\n",
      "C:\\Users\\diego\\AppData\\Local\\Temp\\ipykernel_50852\\430125842.py:15: FutureWarning: Calling float on a single element Series is deprecated and will raise a TypeError in the future. Use float(ser.iloc[0]) instead\n",
      "  previous_open  = float(df.iloc[0][\"Open\"])\n",
      "C:\\Users\\diego\\AppData\\Local\\Temp\\ipykernel_50852\\430125842.py:16: FutureWarning: Calling float on a single element Series is deprecated and will raise a TypeError in the future. Use float(ser.iloc[0]) instead\n",
      "  previous_close = float(df.iloc[0][\"Close\"])\n"
     ]
    },
    {
     "name": "stdout",
     "output_type": "stream",
     "text": [
      "Fetching data for KLAC...\n"
     ]
    },
    {
     "name": "stderr",
     "output_type": "stream",
     "text": [
      "[*********************100%***********************]  1 of 1 completed\n",
      "C:\\Users\\diego\\AppData\\Local\\Temp\\ipykernel_50852\\430125842.py:13: FutureWarning: Calling float on a single element Series is deprecated and will raise a TypeError in the future. Use float(ser.iloc[0]) instead\n",
      "  open_price     = float(df.iloc[1][\"Open\"])\n",
      "C:\\Users\\diego\\AppData\\Local\\Temp\\ipykernel_50852\\430125842.py:14: FutureWarning: Calling float on a single element Series is deprecated and will raise a TypeError in the future. Use float(ser.iloc[0]) instead\n",
      "  close_price    = float(df.iloc[1][\"Close\"])\n",
      "C:\\Users\\diego\\AppData\\Local\\Temp\\ipykernel_50852\\430125842.py:15: FutureWarning: Calling float on a single element Series is deprecated and will raise a TypeError in the future. Use float(ser.iloc[0]) instead\n",
      "  previous_open  = float(df.iloc[0][\"Open\"])\n",
      "C:\\Users\\diego\\AppData\\Local\\Temp\\ipykernel_50852\\430125842.py:16: FutureWarning: Calling float on a single element Series is deprecated and will raise a TypeError in the future. Use float(ser.iloc[0]) instead\n",
      "  previous_close = float(df.iloc[0][\"Close\"])\n"
     ]
    },
    {
     "name": "stdout",
     "output_type": "stream",
     "text": [
      "Fetching data for KHC...\n"
     ]
    },
    {
     "name": "stderr",
     "output_type": "stream",
     "text": [
      "[*********************100%***********************]  1 of 1 completed\n",
      "C:\\Users\\diego\\AppData\\Local\\Temp\\ipykernel_50852\\430125842.py:13: FutureWarning: Calling float on a single element Series is deprecated and will raise a TypeError in the future. Use float(ser.iloc[0]) instead\n",
      "  open_price     = float(df.iloc[1][\"Open\"])\n",
      "C:\\Users\\diego\\AppData\\Local\\Temp\\ipykernel_50852\\430125842.py:14: FutureWarning: Calling float on a single element Series is deprecated and will raise a TypeError in the future. Use float(ser.iloc[0]) instead\n",
      "  close_price    = float(df.iloc[1][\"Close\"])\n",
      "C:\\Users\\diego\\AppData\\Local\\Temp\\ipykernel_50852\\430125842.py:15: FutureWarning: Calling float on a single element Series is deprecated and will raise a TypeError in the future. Use float(ser.iloc[0]) instead\n",
      "  previous_open  = float(df.iloc[0][\"Open\"])\n",
      "C:\\Users\\diego\\AppData\\Local\\Temp\\ipykernel_50852\\430125842.py:16: FutureWarning: Calling float on a single element Series is deprecated and will raise a TypeError in the future. Use float(ser.iloc[0]) instead\n",
      "  previous_close = float(df.iloc[0][\"Close\"])\n"
     ]
    },
    {
     "name": "stdout",
     "output_type": "stream",
     "text": [
      "Fetching data for KR...\n"
     ]
    },
    {
     "name": "stderr",
     "output_type": "stream",
     "text": [
      "[*********************100%***********************]  1 of 1 completed\n",
      "C:\\Users\\diego\\AppData\\Local\\Temp\\ipykernel_50852\\430125842.py:13: FutureWarning: Calling float on a single element Series is deprecated and will raise a TypeError in the future. Use float(ser.iloc[0]) instead\n",
      "  open_price     = float(df.iloc[1][\"Open\"])\n",
      "C:\\Users\\diego\\AppData\\Local\\Temp\\ipykernel_50852\\430125842.py:14: FutureWarning: Calling float on a single element Series is deprecated and will raise a TypeError in the future. Use float(ser.iloc[0]) instead\n",
      "  close_price    = float(df.iloc[1][\"Close\"])\n",
      "C:\\Users\\diego\\AppData\\Local\\Temp\\ipykernel_50852\\430125842.py:15: FutureWarning: Calling float on a single element Series is deprecated and will raise a TypeError in the future. Use float(ser.iloc[0]) instead\n",
      "  previous_open  = float(df.iloc[0][\"Open\"])\n",
      "C:\\Users\\diego\\AppData\\Local\\Temp\\ipykernel_50852\\430125842.py:16: FutureWarning: Calling float on a single element Series is deprecated and will raise a TypeError in the future. Use float(ser.iloc[0]) instead\n",
      "  previous_close = float(df.iloc[0][\"Close\"])\n"
     ]
    },
    {
     "name": "stdout",
     "output_type": "stream",
     "text": [
      "Fetching data for LHX...\n"
     ]
    },
    {
     "name": "stderr",
     "output_type": "stream",
     "text": [
      "[*********************100%***********************]  1 of 1 completed\n",
      "C:\\Users\\diego\\AppData\\Local\\Temp\\ipykernel_50852\\430125842.py:13: FutureWarning: Calling float on a single element Series is deprecated and will raise a TypeError in the future. Use float(ser.iloc[0]) instead\n",
      "  open_price     = float(df.iloc[1][\"Open\"])\n",
      "C:\\Users\\diego\\AppData\\Local\\Temp\\ipykernel_50852\\430125842.py:14: FutureWarning: Calling float on a single element Series is deprecated and will raise a TypeError in the future. Use float(ser.iloc[0]) instead\n",
      "  close_price    = float(df.iloc[1][\"Close\"])\n",
      "C:\\Users\\diego\\AppData\\Local\\Temp\\ipykernel_50852\\430125842.py:15: FutureWarning: Calling float on a single element Series is deprecated and will raise a TypeError in the future. Use float(ser.iloc[0]) instead\n",
      "  previous_open  = float(df.iloc[0][\"Open\"])\n",
      "C:\\Users\\diego\\AppData\\Local\\Temp\\ipykernel_50852\\430125842.py:16: FutureWarning: Calling float on a single element Series is deprecated and will raise a TypeError in the future. Use float(ser.iloc[0]) instead\n",
      "  previous_close = float(df.iloc[0][\"Close\"])\n"
     ]
    },
    {
     "name": "stdout",
     "output_type": "stream",
     "text": [
      "Fetching data for LH...\n"
     ]
    },
    {
     "name": "stderr",
     "output_type": "stream",
     "text": [
      "[*********************100%***********************]  1 of 1 completed\n",
      "C:\\Users\\diego\\AppData\\Local\\Temp\\ipykernel_50852\\430125842.py:13: FutureWarning: Calling float on a single element Series is deprecated and will raise a TypeError in the future. Use float(ser.iloc[0]) instead\n",
      "  open_price     = float(df.iloc[1][\"Open\"])\n",
      "C:\\Users\\diego\\AppData\\Local\\Temp\\ipykernel_50852\\430125842.py:14: FutureWarning: Calling float on a single element Series is deprecated and will raise a TypeError in the future. Use float(ser.iloc[0]) instead\n",
      "  close_price    = float(df.iloc[1][\"Close\"])\n",
      "C:\\Users\\diego\\AppData\\Local\\Temp\\ipykernel_50852\\430125842.py:15: FutureWarning: Calling float on a single element Series is deprecated and will raise a TypeError in the future. Use float(ser.iloc[0]) instead\n",
      "  previous_open  = float(df.iloc[0][\"Open\"])\n",
      "C:\\Users\\diego\\AppData\\Local\\Temp\\ipykernel_50852\\430125842.py:16: FutureWarning: Calling float on a single element Series is deprecated and will raise a TypeError in the future. Use float(ser.iloc[0]) instead\n",
      "  previous_close = float(df.iloc[0][\"Close\"])\n"
     ]
    },
    {
     "name": "stdout",
     "output_type": "stream",
     "text": [
      "Fetching data for LRCX...\n"
     ]
    },
    {
     "name": "stderr",
     "output_type": "stream",
     "text": [
      "[*********************100%***********************]  1 of 1 completed\n",
      "C:\\Users\\diego\\AppData\\Local\\Temp\\ipykernel_50852\\430125842.py:13: FutureWarning: Calling float on a single element Series is deprecated and will raise a TypeError in the future. Use float(ser.iloc[0]) instead\n",
      "  open_price     = float(df.iloc[1][\"Open\"])\n",
      "C:\\Users\\diego\\AppData\\Local\\Temp\\ipykernel_50852\\430125842.py:14: FutureWarning: Calling float on a single element Series is deprecated and will raise a TypeError in the future. Use float(ser.iloc[0]) instead\n",
      "  close_price    = float(df.iloc[1][\"Close\"])\n",
      "C:\\Users\\diego\\AppData\\Local\\Temp\\ipykernel_50852\\430125842.py:15: FutureWarning: Calling float on a single element Series is deprecated and will raise a TypeError in the future. Use float(ser.iloc[0]) instead\n",
      "  previous_open  = float(df.iloc[0][\"Open\"])\n",
      "C:\\Users\\diego\\AppData\\Local\\Temp\\ipykernel_50852\\430125842.py:16: FutureWarning: Calling float on a single element Series is deprecated and will raise a TypeError in the future. Use float(ser.iloc[0]) instead\n",
      "  previous_close = float(df.iloc[0][\"Close\"])\n"
     ]
    },
    {
     "name": "stdout",
     "output_type": "stream",
     "text": [
      "Fetching data for LW...\n"
     ]
    },
    {
     "name": "stderr",
     "output_type": "stream",
     "text": [
      "[*********************100%***********************]  1 of 1 completed\n",
      "C:\\Users\\diego\\AppData\\Local\\Temp\\ipykernel_50852\\430125842.py:13: FutureWarning: Calling float on a single element Series is deprecated and will raise a TypeError in the future. Use float(ser.iloc[0]) instead\n",
      "  open_price     = float(df.iloc[1][\"Open\"])\n",
      "C:\\Users\\diego\\AppData\\Local\\Temp\\ipykernel_50852\\430125842.py:14: FutureWarning: Calling float on a single element Series is deprecated and will raise a TypeError in the future. Use float(ser.iloc[0]) instead\n",
      "  close_price    = float(df.iloc[1][\"Close\"])\n",
      "C:\\Users\\diego\\AppData\\Local\\Temp\\ipykernel_50852\\430125842.py:15: FutureWarning: Calling float on a single element Series is deprecated and will raise a TypeError in the future. Use float(ser.iloc[0]) instead\n",
      "  previous_open  = float(df.iloc[0][\"Open\"])\n",
      "C:\\Users\\diego\\AppData\\Local\\Temp\\ipykernel_50852\\430125842.py:16: FutureWarning: Calling float on a single element Series is deprecated and will raise a TypeError in the future. Use float(ser.iloc[0]) instead\n",
      "  previous_close = float(df.iloc[0][\"Close\"])\n"
     ]
    },
    {
     "name": "stdout",
     "output_type": "stream",
     "text": [
      "Fetching data for LVS...\n"
     ]
    },
    {
     "name": "stderr",
     "output_type": "stream",
     "text": [
      "[*********************100%***********************]  1 of 1 completed\n",
      "C:\\Users\\diego\\AppData\\Local\\Temp\\ipykernel_50852\\430125842.py:13: FutureWarning: Calling float on a single element Series is deprecated and will raise a TypeError in the future. Use float(ser.iloc[0]) instead\n",
      "  open_price     = float(df.iloc[1][\"Open\"])\n",
      "C:\\Users\\diego\\AppData\\Local\\Temp\\ipykernel_50852\\430125842.py:14: FutureWarning: Calling float on a single element Series is deprecated and will raise a TypeError in the future. Use float(ser.iloc[0]) instead\n",
      "  close_price    = float(df.iloc[1][\"Close\"])\n",
      "C:\\Users\\diego\\AppData\\Local\\Temp\\ipykernel_50852\\430125842.py:15: FutureWarning: Calling float on a single element Series is deprecated and will raise a TypeError in the future. Use float(ser.iloc[0]) instead\n",
      "  previous_open  = float(df.iloc[0][\"Open\"])\n",
      "C:\\Users\\diego\\AppData\\Local\\Temp\\ipykernel_50852\\430125842.py:16: FutureWarning: Calling float on a single element Series is deprecated and will raise a TypeError in the future. Use float(ser.iloc[0]) instead\n",
      "  previous_close = float(df.iloc[0][\"Close\"])\n"
     ]
    },
    {
     "name": "stdout",
     "output_type": "stream",
     "text": [
      "Fetching data for LDOS...\n"
     ]
    },
    {
     "name": "stderr",
     "output_type": "stream",
     "text": [
      "[*********************100%***********************]  1 of 1 completed\n",
      "C:\\Users\\diego\\AppData\\Local\\Temp\\ipykernel_50852\\430125842.py:13: FutureWarning: Calling float on a single element Series is deprecated and will raise a TypeError in the future. Use float(ser.iloc[0]) instead\n",
      "  open_price     = float(df.iloc[1][\"Open\"])\n",
      "C:\\Users\\diego\\AppData\\Local\\Temp\\ipykernel_50852\\430125842.py:14: FutureWarning: Calling float on a single element Series is deprecated and will raise a TypeError in the future. Use float(ser.iloc[0]) instead\n",
      "  close_price    = float(df.iloc[1][\"Close\"])\n",
      "C:\\Users\\diego\\AppData\\Local\\Temp\\ipykernel_50852\\430125842.py:15: FutureWarning: Calling float on a single element Series is deprecated and will raise a TypeError in the future. Use float(ser.iloc[0]) instead\n",
      "  previous_open  = float(df.iloc[0][\"Open\"])\n",
      "C:\\Users\\diego\\AppData\\Local\\Temp\\ipykernel_50852\\430125842.py:16: FutureWarning: Calling float on a single element Series is deprecated and will raise a TypeError in the future. Use float(ser.iloc[0]) instead\n",
      "  previous_close = float(df.iloc[0][\"Close\"])\n"
     ]
    },
    {
     "name": "stdout",
     "output_type": "stream",
     "text": [
      "Fetching data for LEN...\n"
     ]
    },
    {
     "name": "stderr",
     "output_type": "stream",
     "text": [
      "[*********************100%***********************]  1 of 1 completed\n",
      "C:\\Users\\diego\\AppData\\Local\\Temp\\ipykernel_50852\\430125842.py:13: FutureWarning: Calling float on a single element Series is deprecated and will raise a TypeError in the future. Use float(ser.iloc[0]) instead\n",
      "  open_price     = float(df.iloc[1][\"Open\"])\n",
      "C:\\Users\\diego\\AppData\\Local\\Temp\\ipykernel_50852\\430125842.py:14: FutureWarning: Calling float on a single element Series is deprecated and will raise a TypeError in the future. Use float(ser.iloc[0]) instead\n",
      "  close_price    = float(df.iloc[1][\"Close\"])\n",
      "C:\\Users\\diego\\AppData\\Local\\Temp\\ipykernel_50852\\430125842.py:15: FutureWarning: Calling float on a single element Series is deprecated and will raise a TypeError in the future. Use float(ser.iloc[0]) instead\n",
      "  previous_open  = float(df.iloc[0][\"Open\"])\n",
      "C:\\Users\\diego\\AppData\\Local\\Temp\\ipykernel_50852\\430125842.py:16: FutureWarning: Calling float on a single element Series is deprecated and will raise a TypeError in the future. Use float(ser.iloc[0]) instead\n",
      "  previous_close = float(df.iloc[0][\"Close\"])\n"
     ]
    },
    {
     "name": "stdout",
     "output_type": "stream",
     "text": [
      "Fetching data for LII...\n"
     ]
    },
    {
     "name": "stderr",
     "output_type": "stream",
     "text": [
      "[*********************100%***********************]  1 of 1 completed\n",
      "C:\\Users\\diego\\AppData\\Local\\Temp\\ipykernel_50852\\430125842.py:13: FutureWarning: Calling float on a single element Series is deprecated and will raise a TypeError in the future. Use float(ser.iloc[0]) instead\n",
      "  open_price     = float(df.iloc[1][\"Open\"])\n",
      "C:\\Users\\diego\\AppData\\Local\\Temp\\ipykernel_50852\\430125842.py:14: FutureWarning: Calling float on a single element Series is deprecated and will raise a TypeError in the future. Use float(ser.iloc[0]) instead\n",
      "  close_price    = float(df.iloc[1][\"Close\"])\n",
      "C:\\Users\\diego\\AppData\\Local\\Temp\\ipykernel_50852\\430125842.py:15: FutureWarning: Calling float on a single element Series is deprecated and will raise a TypeError in the future. Use float(ser.iloc[0]) instead\n",
      "  previous_open  = float(df.iloc[0][\"Open\"])\n",
      "C:\\Users\\diego\\AppData\\Local\\Temp\\ipykernel_50852\\430125842.py:16: FutureWarning: Calling float on a single element Series is deprecated and will raise a TypeError in the future. Use float(ser.iloc[0]) instead\n",
      "  previous_close = float(df.iloc[0][\"Close\"])\n"
     ]
    },
    {
     "name": "stdout",
     "output_type": "stream",
     "text": [
      "Fetching data for LLY...\n"
     ]
    },
    {
     "name": "stderr",
     "output_type": "stream",
     "text": [
      "[*********************100%***********************]  1 of 1 completed\n",
      "C:\\Users\\diego\\AppData\\Local\\Temp\\ipykernel_50852\\430125842.py:13: FutureWarning: Calling float on a single element Series is deprecated and will raise a TypeError in the future. Use float(ser.iloc[0]) instead\n",
      "  open_price     = float(df.iloc[1][\"Open\"])\n",
      "C:\\Users\\diego\\AppData\\Local\\Temp\\ipykernel_50852\\430125842.py:14: FutureWarning: Calling float on a single element Series is deprecated and will raise a TypeError in the future. Use float(ser.iloc[0]) instead\n",
      "  close_price    = float(df.iloc[1][\"Close\"])\n",
      "C:\\Users\\diego\\AppData\\Local\\Temp\\ipykernel_50852\\430125842.py:15: FutureWarning: Calling float on a single element Series is deprecated and will raise a TypeError in the future. Use float(ser.iloc[0]) instead\n",
      "  previous_open  = float(df.iloc[0][\"Open\"])\n",
      "C:\\Users\\diego\\AppData\\Local\\Temp\\ipykernel_50852\\430125842.py:16: FutureWarning: Calling float on a single element Series is deprecated and will raise a TypeError in the future. Use float(ser.iloc[0]) instead\n",
      "  previous_close = float(df.iloc[0][\"Close\"])\n"
     ]
    },
    {
     "name": "stdout",
     "output_type": "stream",
     "text": [
      "Fetching data for LIN...\n"
     ]
    },
    {
     "name": "stderr",
     "output_type": "stream",
     "text": [
      "[*********************100%***********************]  1 of 1 completed\n",
      "C:\\Users\\diego\\AppData\\Local\\Temp\\ipykernel_50852\\430125842.py:13: FutureWarning: Calling float on a single element Series is deprecated and will raise a TypeError in the future. Use float(ser.iloc[0]) instead\n",
      "  open_price     = float(df.iloc[1][\"Open\"])\n",
      "C:\\Users\\diego\\AppData\\Local\\Temp\\ipykernel_50852\\430125842.py:14: FutureWarning: Calling float on a single element Series is deprecated and will raise a TypeError in the future. Use float(ser.iloc[0]) instead\n",
      "  close_price    = float(df.iloc[1][\"Close\"])\n",
      "C:\\Users\\diego\\AppData\\Local\\Temp\\ipykernel_50852\\430125842.py:15: FutureWarning: Calling float on a single element Series is deprecated and will raise a TypeError in the future. Use float(ser.iloc[0]) instead\n",
      "  previous_open  = float(df.iloc[0][\"Open\"])\n",
      "C:\\Users\\diego\\AppData\\Local\\Temp\\ipykernel_50852\\430125842.py:16: FutureWarning: Calling float on a single element Series is deprecated and will raise a TypeError in the future. Use float(ser.iloc[0]) instead\n",
      "  previous_close = float(df.iloc[0][\"Close\"])\n"
     ]
    },
    {
     "name": "stdout",
     "output_type": "stream",
     "text": [
      "Fetching data for LYV...\n"
     ]
    },
    {
     "name": "stderr",
     "output_type": "stream",
     "text": [
      "[*********************100%***********************]  1 of 1 completed\n",
      "C:\\Users\\diego\\AppData\\Local\\Temp\\ipykernel_50852\\430125842.py:13: FutureWarning: Calling float on a single element Series is deprecated and will raise a TypeError in the future. Use float(ser.iloc[0]) instead\n",
      "  open_price     = float(df.iloc[1][\"Open\"])\n",
      "C:\\Users\\diego\\AppData\\Local\\Temp\\ipykernel_50852\\430125842.py:14: FutureWarning: Calling float on a single element Series is deprecated and will raise a TypeError in the future. Use float(ser.iloc[0]) instead\n",
      "  close_price    = float(df.iloc[1][\"Close\"])\n",
      "C:\\Users\\diego\\AppData\\Local\\Temp\\ipykernel_50852\\430125842.py:15: FutureWarning: Calling float on a single element Series is deprecated and will raise a TypeError in the future. Use float(ser.iloc[0]) instead\n",
      "  previous_open  = float(df.iloc[0][\"Open\"])\n",
      "C:\\Users\\diego\\AppData\\Local\\Temp\\ipykernel_50852\\430125842.py:16: FutureWarning: Calling float on a single element Series is deprecated and will raise a TypeError in the future. Use float(ser.iloc[0]) instead\n",
      "  previous_close = float(df.iloc[0][\"Close\"])\n"
     ]
    },
    {
     "name": "stdout",
     "output_type": "stream",
     "text": [
      "Fetching data for LKQ...\n"
     ]
    },
    {
     "name": "stderr",
     "output_type": "stream",
     "text": [
      "[*********************100%***********************]  1 of 1 completed\n",
      "C:\\Users\\diego\\AppData\\Local\\Temp\\ipykernel_50852\\430125842.py:13: FutureWarning: Calling float on a single element Series is deprecated and will raise a TypeError in the future. Use float(ser.iloc[0]) instead\n",
      "  open_price     = float(df.iloc[1][\"Open\"])\n",
      "C:\\Users\\diego\\AppData\\Local\\Temp\\ipykernel_50852\\430125842.py:14: FutureWarning: Calling float on a single element Series is deprecated and will raise a TypeError in the future. Use float(ser.iloc[0]) instead\n",
      "  close_price    = float(df.iloc[1][\"Close\"])\n",
      "C:\\Users\\diego\\AppData\\Local\\Temp\\ipykernel_50852\\430125842.py:15: FutureWarning: Calling float on a single element Series is deprecated and will raise a TypeError in the future. Use float(ser.iloc[0]) instead\n",
      "  previous_open  = float(df.iloc[0][\"Open\"])\n",
      "C:\\Users\\diego\\AppData\\Local\\Temp\\ipykernel_50852\\430125842.py:16: FutureWarning: Calling float on a single element Series is deprecated and will raise a TypeError in the future. Use float(ser.iloc[0]) instead\n",
      "  previous_close = float(df.iloc[0][\"Close\"])\n"
     ]
    },
    {
     "name": "stdout",
     "output_type": "stream",
     "text": [
      "Fetching data for LMT...\n"
     ]
    },
    {
     "name": "stderr",
     "output_type": "stream",
     "text": [
      "[*********************100%***********************]  1 of 1 completed\n",
      "C:\\Users\\diego\\AppData\\Local\\Temp\\ipykernel_50852\\430125842.py:13: FutureWarning: Calling float on a single element Series is deprecated and will raise a TypeError in the future. Use float(ser.iloc[0]) instead\n",
      "  open_price     = float(df.iloc[1][\"Open\"])\n",
      "C:\\Users\\diego\\AppData\\Local\\Temp\\ipykernel_50852\\430125842.py:14: FutureWarning: Calling float on a single element Series is deprecated and will raise a TypeError in the future. Use float(ser.iloc[0]) instead\n",
      "  close_price    = float(df.iloc[1][\"Close\"])\n",
      "C:\\Users\\diego\\AppData\\Local\\Temp\\ipykernel_50852\\430125842.py:15: FutureWarning: Calling float on a single element Series is deprecated and will raise a TypeError in the future. Use float(ser.iloc[0]) instead\n",
      "  previous_open  = float(df.iloc[0][\"Open\"])\n",
      "C:\\Users\\diego\\AppData\\Local\\Temp\\ipykernel_50852\\430125842.py:16: FutureWarning: Calling float on a single element Series is deprecated and will raise a TypeError in the future. Use float(ser.iloc[0]) instead\n",
      "  previous_close = float(df.iloc[0][\"Close\"])\n"
     ]
    },
    {
     "name": "stdout",
     "output_type": "stream",
     "text": [
      "Fetching data for L...\n"
     ]
    },
    {
     "name": "stderr",
     "output_type": "stream",
     "text": [
      "[*********************100%***********************]  1 of 1 completed\n",
      "C:\\Users\\diego\\AppData\\Local\\Temp\\ipykernel_50852\\430125842.py:13: FutureWarning: Calling float on a single element Series is deprecated and will raise a TypeError in the future. Use float(ser.iloc[0]) instead\n",
      "  open_price     = float(df.iloc[1][\"Open\"])\n",
      "C:\\Users\\diego\\AppData\\Local\\Temp\\ipykernel_50852\\430125842.py:14: FutureWarning: Calling float on a single element Series is deprecated and will raise a TypeError in the future. Use float(ser.iloc[0]) instead\n",
      "  close_price    = float(df.iloc[1][\"Close\"])\n",
      "C:\\Users\\diego\\AppData\\Local\\Temp\\ipykernel_50852\\430125842.py:15: FutureWarning: Calling float on a single element Series is deprecated and will raise a TypeError in the future. Use float(ser.iloc[0]) instead\n",
      "  previous_open  = float(df.iloc[0][\"Open\"])\n",
      "C:\\Users\\diego\\AppData\\Local\\Temp\\ipykernel_50852\\430125842.py:16: FutureWarning: Calling float on a single element Series is deprecated and will raise a TypeError in the future. Use float(ser.iloc[0]) instead\n",
      "  previous_close = float(df.iloc[0][\"Close\"])\n"
     ]
    },
    {
     "name": "stdout",
     "output_type": "stream",
     "text": [
      "Fetching data for LOW...\n"
     ]
    },
    {
     "name": "stderr",
     "output_type": "stream",
     "text": [
      "[*********************100%***********************]  1 of 1 completed\n",
      "C:\\Users\\diego\\AppData\\Local\\Temp\\ipykernel_50852\\430125842.py:13: FutureWarning: Calling float on a single element Series is deprecated and will raise a TypeError in the future. Use float(ser.iloc[0]) instead\n",
      "  open_price     = float(df.iloc[1][\"Open\"])\n",
      "C:\\Users\\diego\\AppData\\Local\\Temp\\ipykernel_50852\\430125842.py:14: FutureWarning: Calling float on a single element Series is deprecated and will raise a TypeError in the future. Use float(ser.iloc[0]) instead\n",
      "  close_price    = float(df.iloc[1][\"Close\"])\n",
      "C:\\Users\\diego\\AppData\\Local\\Temp\\ipykernel_50852\\430125842.py:15: FutureWarning: Calling float on a single element Series is deprecated and will raise a TypeError in the future. Use float(ser.iloc[0]) instead\n",
      "  previous_open  = float(df.iloc[0][\"Open\"])\n",
      "C:\\Users\\diego\\AppData\\Local\\Temp\\ipykernel_50852\\430125842.py:16: FutureWarning: Calling float on a single element Series is deprecated and will raise a TypeError in the future. Use float(ser.iloc[0]) instead\n",
      "  previous_close = float(df.iloc[0][\"Close\"])\n"
     ]
    },
    {
     "name": "stdout",
     "output_type": "stream",
     "text": [
      "Fetching data for LULU...\n"
     ]
    },
    {
     "name": "stderr",
     "output_type": "stream",
     "text": [
      "[*********************100%***********************]  1 of 1 completed\n",
      "C:\\Users\\diego\\AppData\\Local\\Temp\\ipykernel_50852\\430125842.py:13: FutureWarning: Calling float on a single element Series is deprecated and will raise a TypeError in the future. Use float(ser.iloc[0]) instead\n",
      "  open_price     = float(df.iloc[1][\"Open\"])\n",
      "C:\\Users\\diego\\AppData\\Local\\Temp\\ipykernel_50852\\430125842.py:14: FutureWarning: Calling float on a single element Series is deprecated and will raise a TypeError in the future. Use float(ser.iloc[0]) instead\n",
      "  close_price    = float(df.iloc[1][\"Close\"])\n",
      "C:\\Users\\diego\\AppData\\Local\\Temp\\ipykernel_50852\\430125842.py:15: FutureWarning: Calling float on a single element Series is deprecated and will raise a TypeError in the future. Use float(ser.iloc[0]) instead\n",
      "  previous_open  = float(df.iloc[0][\"Open\"])\n",
      "C:\\Users\\diego\\AppData\\Local\\Temp\\ipykernel_50852\\430125842.py:16: FutureWarning: Calling float on a single element Series is deprecated and will raise a TypeError in the future. Use float(ser.iloc[0]) instead\n",
      "  previous_close = float(df.iloc[0][\"Close\"])\n"
     ]
    },
    {
     "name": "stdout",
     "output_type": "stream",
     "text": [
      "Fetching data for LYB...\n"
     ]
    },
    {
     "name": "stderr",
     "output_type": "stream",
     "text": [
      "[*********************100%***********************]  1 of 1 completed\n",
      "C:\\Users\\diego\\AppData\\Local\\Temp\\ipykernel_50852\\430125842.py:13: FutureWarning: Calling float on a single element Series is deprecated and will raise a TypeError in the future. Use float(ser.iloc[0]) instead\n",
      "  open_price     = float(df.iloc[1][\"Open\"])\n",
      "C:\\Users\\diego\\AppData\\Local\\Temp\\ipykernel_50852\\430125842.py:14: FutureWarning: Calling float on a single element Series is deprecated and will raise a TypeError in the future. Use float(ser.iloc[0]) instead\n",
      "  close_price    = float(df.iloc[1][\"Close\"])\n",
      "C:\\Users\\diego\\AppData\\Local\\Temp\\ipykernel_50852\\430125842.py:15: FutureWarning: Calling float on a single element Series is deprecated and will raise a TypeError in the future. Use float(ser.iloc[0]) instead\n",
      "  previous_open  = float(df.iloc[0][\"Open\"])\n",
      "C:\\Users\\diego\\AppData\\Local\\Temp\\ipykernel_50852\\430125842.py:16: FutureWarning: Calling float on a single element Series is deprecated and will raise a TypeError in the future. Use float(ser.iloc[0]) instead\n",
      "  previous_close = float(df.iloc[0][\"Close\"])\n"
     ]
    },
    {
     "name": "stdout",
     "output_type": "stream",
     "text": [
      "Fetching data for MTB...\n"
     ]
    },
    {
     "name": "stderr",
     "output_type": "stream",
     "text": [
      "[*********************100%***********************]  1 of 1 completed\n",
      "C:\\Users\\diego\\AppData\\Local\\Temp\\ipykernel_50852\\430125842.py:13: FutureWarning: Calling float on a single element Series is deprecated and will raise a TypeError in the future. Use float(ser.iloc[0]) instead\n",
      "  open_price     = float(df.iloc[1][\"Open\"])\n",
      "C:\\Users\\diego\\AppData\\Local\\Temp\\ipykernel_50852\\430125842.py:14: FutureWarning: Calling float on a single element Series is deprecated and will raise a TypeError in the future. Use float(ser.iloc[0]) instead\n",
      "  close_price    = float(df.iloc[1][\"Close\"])\n",
      "C:\\Users\\diego\\AppData\\Local\\Temp\\ipykernel_50852\\430125842.py:15: FutureWarning: Calling float on a single element Series is deprecated and will raise a TypeError in the future. Use float(ser.iloc[0]) instead\n",
      "  previous_open  = float(df.iloc[0][\"Open\"])\n",
      "C:\\Users\\diego\\AppData\\Local\\Temp\\ipykernel_50852\\430125842.py:16: FutureWarning: Calling float on a single element Series is deprecated and will raise a TypeError in the future. Use float(ser.iloc[0]) instead\n",
      "  previous_close = float(df.iloc[0][\"Close\"])\n"
     ]
    },
    {
     "name": "stdout",
     "output_type": "stream",
     "text": [
      "Fetching data for MPC...\n"
     ]
    },
    {
     "name": "stderr",
     "output_type": "stream",
     "text": [
      "[*********************100%***********************]  1 of 1 completed\n",
      "C:\\Users\\diego\\AppData\\Local\\Temp\\ipykernel_50852\\430125842.py:13: FutureWarning: Calling float on a single element Series is deprecated and will raise a TypeError in the future. Use float(ser.iloc[0]) instead\n",
      "  open_price     = float(df.iloc[1][\"Open\"])\n",
      "C:\\Users\\diego\\AppData\\Local\\Temp\\ipykernel_50852\\430125842.py:14: FutureWarning: Calling float on a single element Series is deprecated and will raise a TypeError in the future. Use float(ser.iloc[0]) instead\n",
      "  close_price    = float(df.iloc[1][\"Close\"])\n",
      "C:\\Users\\diego\\AppData\\Local\\Temp\\ipykernel_50852\\430125842.py:15: FutureWarning: Calling float on a single element Series is deprecated and will raise a TypeError in the future. Use float(ser.iloc[0]) instead\n",
      "  previous_open  = float(df.iloc[0][\"Open\"])\n",
      "C:\\Users\\diego\\AppData\\Local\\Temp\\ipykernel_50852\\430125842.py:16: FutureWarning: Calling float on a single element Series is deprecated and will raise a TypeError in the future. Use float(ser.iloc[0]) instead\n",
      "  previous_close = float(df.iloc[0][\"Close\"])\n"
     ]
    },
    {
     "name": "stdout",
     "output_type": "stream",
     "text": [
      "Fetching data for MKTX...\n"
     ]
    },
    {
     "name": "stderr",
     "output_type": "stream",
     "text": [
      "[*********************100%***********************]  1 of 1 completed\n",
      "C:\\Users\\diego\\AppData\\Local\\Temp\\ipykernel_50852\\430125842.py:13: FutureWarning: Calling float on a single element Series is deprecated and will raise a TypeError in the future. Use float(ser.iloc[0]) instead\n",
      "  open_price     = float(df.iloc[1][\"Open\"])\n",
      "C:\\Users\\diego\\AppData\\Local\\Temp\\ipykernel_50852\\430125842.py:14: FutureWarning: Calling float on a single element Series is deprecated and will raise a TypeError in the future. Use float(ser.iloc[0]) instead\n",
      "  close_price    = float(df.iloc[1][\"Close\"])\n",
      "C:\\Users\\diego\\AppData\\Local\\Temp\\ipykernel_50852\\430125842.py:15: FutureWarning: Calling float on a single element Series is deprecated and will raise a TypeError in the future. Use float(ser.iloc[0]) instead\n",
      "  previous_open  = float(df.iloc[0][\"Open\"])\n",
      "C:\\Users\\diego\\AppData\\Local\\Temp\\ipykernel_50852\\430125842.py:16: FutureWarning: Calling float on a single element Series is deprecated and will raise a TypeError in the future. Use float(ser.iloc[0]) instead\n",
      "  previous_close = float(df.iloc[0][\"Close\"])\n"
     ]
    },
    {
     "name": "stdout",
     "output_type": "stream",
     "text": [
      "Fetching data for MAR...\n"
     ]
    },
    {
     "name": "stderr",
     "output_type": "stream",
     "text": [
      "[*********************100%***********************]  1 of 1 completed\n",
      "C:\\Users\\diego\\AppData\\Local\\Temp\\ipykernel_50852\\430125842.py:13: FutureWarning: Calling float on a single element Series is deprecated and will raise a TypeError in the future. Use float(ser.iloc[0]) instead\n",
      "  open_price     = float(df.iloc[1][\"Open\"])\n",
      "C:\\Users\\diego\\AppData\\Local\\Temp\\ipykernel_50852\\430125842.py:14: FutureWarning: Calling float on a single element Series is deprecated and will raise a TypeError in the future. Use float(ser.iloc[0]) instead\n",
      "  close_price    = float(df.iloc[1][\"Close\"])\n",
      "C:\\Users\\diego\\AppData\\Local\\Temp\\ipykernel_50852\\430125842.py:15: FutureWarning: Calling float on a single element Series is deprecated and will raise a TypeError in the future. Use float(ser.iloc[0]) instead\n",
      "  previous_open  = float(df.iloc[0][\"Open\"])\n",
      "C:\\Users\\diego\\AppData\\Local\\Temp\\ipykernel_50852\\430125842.py:16: FutureWarning: Calling float on a single element Series is deprecated and will raise a TypeError in the future. Use float(ser.iloc[0]) instead\n",
      "  previous_close = float(df.iloc[0][\"Close\"])\n"
     ]
    },
    {
     "name": "stdout",
     "output_type": "stream",
     "text": [
      "Fetching data for MMC...\n"
     ]
    },
    {
     "name": "stderr",
     "output_type": "stream",
     "text": [
      "[*********************100%***********************]  1 of 1 completed\n",
      "C:\\Users\\diego\\AppData\\Local\\Temp\\ipykernel_50852\\430125842.py:13: FutureWarning: Calling float on a single element Series is deprecated and will raise a TypeError in the future. Use float(ser.iloc[0]) instead\n",
      "  open_price     = float(df.iloc[1][\"Open\"])\n",
      "C:\\Users\\diego\\AppData\\Local\\Temp\\ipykernel_50852\\430125842.py:14: FutureWarning: Calling float on a single element Series is deprecated and will raise a TypeError in the future. Use float(ser.iloc[0]) instead\n",
      "  close_price    = float(df.iloc[1][\"Close\"])\n",
      "C:\\Users\\diego\\AppData\\Local\\Temp\\ipykernel_50852\\430125842.py:15: FutureWarning: Calling float on a single element Series is deprecated and will raise a TypeError in the future. Use float(ser.iloc[0]) instead\n",
      "  previous_open  = float(df.iloc[0][\"Open\"])\n",
      "C:\\Users\\diego\\AppData\\Local\\Temp\\ipykernel_50852\\430125842.py:16: FutureWarning: Calling float on a single element Series is deprecated and will raise a TypeError in the future. Use float(ser.iloc[0]) instead\n",
      "  previous_close = float(df.iloc[0][\"Close\"])\n"
     ]
    },
    {
     "name": "stdout",
     "output_type": "stream",
     "text": [
      "Fetching data for MLM...\n"
     ]
    },
    {
     "name": "stderr",
     "output_type": "stream",
     "text": [
      "[*********************100%***********************]  1 of 1 completed\n",
      "C:\\Users\\diego\\AppData\\Local\\Temp\\ipykernel_50852\\430125842.py:13: FutureWarning: Calling float on a single element Series is deprecated and will raise a TypeError in the future. Use float(ser.iloc[0]) instead\n",
      "  open_price     = float(df.iloc[1][\"Open\"])\n",
      "C:\\Users\\diego\\AppData\\Local\\Temp\\ipykernel_50852\\430125842.py:14: FutureWarning: Calling float on a single element Series is deprecated and will raise a TypeError in the future. Use float(ser.iloc[0]) instead\n",
      "  close_price    = float(df.iloc[1][\"Close\"])\n",
      "C:\\Users\\diego\\AppData\\Local\\Temp\\ipykernel_50852\\430125842.py:15: FutureWarning: Calling float on a single element Series is deprecated and will raise a TypeError in the future. Use float(ser.iloc[0]) instead\n",
      "  previous_open  = float(df.iloc[0][\"Open\"])\n",
      "C:\\Users\\diego\\AppData\\Local\\Temp\\ipykernel_50852\\430125842.py:16: FutureWarning: Calling float on a single element Series is deprecated and will raise a TypeError in the future. Use float(ser.iloc[0]) instead\n",
      "  previous_close = float(df.iloc[0][\"Close\"])\n"
     ]
    },
    {
     "name": "stdout",
     "output_type": "stream",
     "text": [
      "Fetching data for MAS...\n"
     ]
    },
    {
     "name": "stderr",
     "output_type": "stream",
     "text": [
      "[*********************100%***********************]  1 of 1 completed\n",
      "C:\\Users\\diego\\AppData\\Local\\Temp\\ipykernel_50852\\430125842.py:13: FutureWarning: Calling float on a single element Series is deprecated and will raise a TypeError in the future. Use float(ser.iloc[0]) instead\n",
      "  open_price     = float(df.iloc[1][\"Open\"])\n",
      "C:\\Users\\diego\\AppData\\Local\\Temp\\ipykernel_50852\\430125842.py:14: FutureWarning: Calling float on a single element Series is deprecated and will raise a TypeError in the future. Use float(ser.iloc[0]) instead\n",
      "  close_price    = float(df.iloc[1][\"Close\"])\n",
      "C:\\Users\\diego\\AppData\\Local\\Temp\\ipykernel_50852\\430125842.py:15: FutureWarning: Calling float on a single element Series is deprecated and will raise a TypeError in the future. Use float(ser.iloc[0]) instead\n",
      "  previous_open  = float(df.iloc[0][\"Open\"])\n",
      "C:\\Users\\diego\\AppData\\Local\\Temp\\ipykernel_50852\\430125842.py:16: FutureWarning: Calling float on a single element Series is deprecated and will raise a TypeError in the future. Use float(ser.iloc[0]) instead\n",
      "  previous_close = float(df.iloc[0][\"Close\"])\n"
     ]
    },
    {
     "name": "stdout",
     "output_type": "stream",
     "text": [
      "Fetching data for MA...\n"
     ]
    },
    {
     "name": "stderr",
     "output_type": "stream",
     "text": [
      "[*********************100%***********************]  1 of 1 completed\n",
      "C:\\Users\\diego\\AppData\\Local\\Temp\\ipykernel_50852\\430125842.py:13: FutureWarning: Calling float on a single element Series is deprecated and will raise a TypeError in the future. Use float(ser.iloc[0]) instead\n",
      "  open_price     = float(df.iloc[1][\"Open\"])\n",
      "C:\\Users\\diego\\AppData\\Local\\Temp\\ipykernel_50852\\430125842.py:14: FutureWarning: Calling float on a single element Series is deprecated and will raise a TypeError in the future. Use float(ser.iloc[0]) instead\n",
      "  close_price    = float(df.iloc[1][\"Close\"])\n",
      "C:\\Users\\diego\\AppData\\Local\\Temp\\ipykernel_50852\\430125842.py:15: FutureWarning: Calling float on a single element Series is deprecated and will raise a TypeError in the future. Use float(ser.iloc[0]) instead\n",
      "  previous_open  = float(df.iloc[0][\"Open\"])\n",
      "C:\\Users\\diego\\AppData\\Local\\Temp\\ipykernel_50852\\430125842.py:16: FutureWarning: Calling float on a single element Series is deprecated and will raise a TypeError in the future. Use float(ser.iloc[0]) instead\n",
      "  previous_close = float(df.iloc[0][\"Close\"])\n"
     ]
    },
    {
     "name": "stdout",
     "output_type": "stream",
     "text": [
      "Fetching data for MTCH...\n"
     ]
    },
    {
     "name": "stderr",
     "output_type": "stream",
     "text": [
      "[*********************100%***********************]  1 of 1 completed\n",
      "C:\\Users\\diego\\AppData\\Local\\Temp\\ipykernel_50852\\430125842.py:13: FutureWarning: Calling float on a single element Series is deprecated and will raise a TypeError in the future. Use float(ser.iloc[0]) instead\n",
      "  open_price     = float(df.iloc[1][\"Open\"])\n",
      "C:\\Users\\diego\\AppData\\Local\\Temp\\ipykernel_50852\\430125842.py:14: FutureWarning: Calling float on a single element Series is deprecated and will raise a TypeError in the future. Use float(ser.iloc[0]) instead\n",
      "  close_price    = float(df.iloc[1][\"Close\"])\n",
      "C:\\Users\\diego\\AppData\\Local\\Temp\\ipykernel_50852\\430125842.py:15: FutureWarning: Calling float on a single element Series is deprecated and will raise a TypeError in the future. Use float(ser.iloc[0]) instead\n",
      "  previous_open  = float(df.iloc[0][\"Open\"])\n",
      "C:\\Users\\diego\\AppData\\Local\\Temp\\ipykernel_50852\\430125842.py:16: FutureWarning: Calling float on a single element Series is deprecated and will raise a TypeError in the future. Use float(ser.iloc[0]) instead\n",
      "  previous_close = float(df.iloc[0][\"Close\"])\n"
     ]
    },
    {
     "name": "stdout",
     "output_type": "stream",
     "text": [
      "Fetching data for MKC...\n"
     ]
    },
    {
     "name": "stderr",
     "output_type": "stream",
     "text": [
      "[*********************100%***********************]  1 of 1 completed\n",
      "C:\\Users\\diego\\AppData\\Local\\Temp\\ipykernel_50852\\430125842.py:13: FutureWarning: Calling float on a single element Series is deprecated and will raise a TypeError in the future. Use float(ser.iloc[0]) instead\n",
      "  open_price     = float(df.iloc[1][\"Open\"])\n",
      "C:\\Users\\diego\\AppData\\Local\\Temp\\ipykernel_50852\\430125842.py:14: FutureWarning: Calling float on a single element Series is deprecated and will raise a TypeError in the future. Use float(ser.iloc[0]) instead\n",
      "  close_price    = float(df.iloc[1][\"Close\"])\n",
      "C:\\Users\\diego\\AppData\\Local\\Temp\\ipykernel_50852\\430125842.py:15: FutureWarning: Calling float on a single element Series is deprecated and will raise a TypeError in the future. Use float(ser.iloc[0]) instead\n",
      "  previous_open  = float(df.iloc[0][\"Open\"])\n",
      "C:\\Users\\diego\\AppData\\Local\\Temp\\ipykernel_50852\\430125842.py:16: FutureWarning: Calling float on a single element Series is deprecated and will raise a TypeError in the future. Use float(ser.iloc[0]) instead\n",
      "  previous_close = float(df.iloc[0][\"Close\"])\n"
     ]
    },
    {
     "name": "stdout",
     "output_type": "stream",
     "text": [
      "Fetching data for MCD...\n"
     ]
    },
    {
     "name": "stderr",
     "output_type": "stream",
     "text": [
      "[*********************100%***********************]  1 of 1 completed\n",
      "C:\\Users\\diego\\AppData\\Local\\Temp\\ipykernel_50852\\430125842.py:13: FutureWarning: Calling float on a single element Series is deprecated and will raise a TypeError in the future. Use float(ser.iloc[0]) instead\n",
      "  open_price     = float(df.iloc[1][\"Open\"])\n",
      "C:\\Users\\diego\\AppData\\Local\\Temp\\ipykernel_50852\\430125842.py:14: FutureWarning: Calling float on a single element Series is deprecated and will raise a TypeError in the future. Use float(ser.iloc[0]) instead\n",
      "  close_price    = float(df.iloc[1][\"Close\"])\n",
      "C:\\Users\\diego\\AppData\\Local\\Temp\\ipykernel_50852\\430125842.py:15: FutureWarning: Calling float on a single element Series is deprecated and will raise a TypeError in the future. Use float(ser.iloc[0]) instead\n",
      "  previous_open  = float(df.iloc[0][\"Open\"])\n",
      "C:\\Users\\diego\\AppData\\Local\\Temp\\ipykernel_50852\\430125842.py:16: FutureWarning: Calling float on a single element Series is deprecated and will raise a TypeError in the future. Use float(ser.iloc[0]) instead\n",
      "  previous_close = float(df.iloc[0][\"Close\"])\n"
     ]
    },
    {
     "name": "stdout",
     "output_type": "stream",
     "text": [
      "Fetching data for MCK...\n"
     ]
    },
    {
     "name": "stderr",
     "output_type": "stream",
     "text": [
      "[*********************100%***********************]  1 of 1 completed\n",
      "C:\\Users\\diego\\AppData\\Local\\Temp\\ipykernel_50852\\430125842.py:13: FutureWarning: Calling float on a single element Series is deprecated and will raise a TypeError in the future. Use float(ser.iloc[0]) instead\n",
      "  open_price     = float(df.iloc[1][\"Open\"])\n",
      "C:\\Users\\diego\\AppData\\Local\\Temp\\ipykernel_50852\\430125842.py:14: FutureWarning: Calling float on a single element Series is deprecated and will raise a TypeError in the future. Use float(ser.iloc[0]) instead\n",
      "  close_price    = float(df.iloc[1][\"Close\"])\n",
      "C:\\Users\\diego\\AppData\\Local\\Temp\\ipykernel_50852\\430125842.py:15: FutureWarning: Calling float on a single element Series is deprecated and will raise a TypeError in the future. Use float(ser.iloc[0]) instead\n",
      "  previous_open  = float(df.iloc[0][\"Open\"])\n",
      "C:\\Users\\diego\\AppData\\Local\\Temp\\ipykernel_50852\\430125842.py:16: FutureWarning: Calling float on a single element Series is deprecated and will raise a TypeError in the future. Use float(ser.iloc[0]) instead\n",
      "  previous_close = float(df.iloc[0][\"Close\"])\n"
     ]
    },
    {
     "name": "stdout",
     "output_type": "stream",
     "text": [
      "Fetching data for MDT...\n"
     ]
    },
    {
     "name": "stderr",
     "output_type": "stream",
     "text": [
      "[*********************100%***********************]  1 of 1 completed\n",
      "C:\\Users\\diego\\AppData\\Local\\Temp\\ipykernel_50852\\430125842.py:13: FutureWarning: Calling float on a single element Series is deprecated and will raise a TypeError in the future. Use float(ser.iloc[0]) instead\n",
      "  open_price     = float(df.iloc[1][\"Open\"])\n",
      "C:\\Users\\diego\\AppData\\Local\\Temp\\ipykernel_50852\\430125842.py:14: FutureWarning: Calling float on a single element Series is deprecated and will raise a TypeError in the future. Use float(ser.iloc[0]) instead\n",
      "  close_price    = float(df.iloc[1][\"Close\"])\n",
      "C:\\Users\\diego\\AppData\\Local\\Temp\\ipykernel_50852\\430125842.py:15: FutureWarning: Calling float on a single element Series is deprecated and will raise a TypeError in the future. Use float(ser.iloc[0]) instead\n",
      "  previous_open  = float(df.iloc[0][\"Open\"])\n",
      "C:\\Users\\diego\\AppData\\Local\\Temp\\ipykernel_50852\\430125842.py:16: FutureWarning: Calling float on a single element Series is deprecated and will raise a TypeError in the future. Use float(ser.iloc[0]) instead\n",
      "  previous_close = float(df.iloc[0][\"Close\"])\n"
     ]
    },
    {
     "name": "stdout",
     "output_type": "stream",
     "text": [
      "Fetching data for MRK...\n"
     ]
    },
    {
     "name": "stderr",
     "output_type": "stream",
     "text": [
      "[*********************100%***********************]  1 of 1 completed\n",
      "C:\\Users\\diego\\AppData\\Local\\Temp\\ipykernel_50852\\430125842.py:13: FutureWarning: Calling float on a single element Series is deprecated and will raise a TypeError in the future. Use float(ser.iloc[0]) instead\n",
      "  open_price     = float(df.iloc[1][\"Open\"])\n",
      "C:\\Users\\diego\\AppData\\Local\\Temp\\ipykernel_50852\\430125842.py:14: FutureWarning: Calling float on a single element Series is deprecated and will raise a TypeError in the future. Use float(ser.iloc[0]) instead\n",
      "  close_price    = float(df.iloc[1][\"Close\"])\n",
      "C:\\Users\\diego\\AppData\\Local\\Temp\\ipykernel_50852\\430125842.py:15: FutureWarning: Calling float on a single element Series is deprecated and will raise a TypeError in the future. Use float(ser.iloc[0]) instead\n",
      "  previous_open  = float(df.iloc[0][\"Open\"])\n",
      "C:\\Users\\diego\\AppData\\Local\\Temp\\ipykernel_50852\\430125842.py:16: FutureWarning: Calling float on a single element Series is deprecated and will raise a TypeError in the future. Use float(ser.iloc[0]) instead\n",
      "  previous_close = float(df.iloc[0][\"Close\"])\n"
     ]
    },
    {
     "name": "stdout",
     "output_type": "stream",
     "text": [
      "Fetching data for META...\n"
     ]
    },
    {
     "name": "stderr",
     "output_type": "stream",
     "text": [
      "[*********************100%***********************]  1 of 1 completed\n",
      "C:\\Users\\diego\\AppData\\Local\\Temp\\ipykernel_50852\\430125842.py:13: FutureWarning: Calling float on a single element Series is deprecated and will raise a TypeError in the future. Use float(ser.iloc[0]) instead\n",
      "  open_price     = float(df.iloc[1][\"Open\"])\n",
      "C:\\Users\\diego\\AppData\\Local\\Temp\\ipykernel_50852\\430125842.py:14: FutureWarning: Calling float on a single element Series is deprecated and will raise a TypeError in the future. Use float(ser.iloc[0]) instead\n",
      "  close_price    = float(df.iloc[1][\"Close\"])\n",
      "C:\\Users\\diego\\AppData\\Local\\Temp\\ipykernel_50852\\430125842.py:15: FutureWarning: Calling float on a single element Series is deprecated and will raise a TypeError in the future. Use float(ser.iloc[0]) instead\n",
      "  previous_open  = float(df.iloc[0][\"Open\"])\n",
      "C:\\Users\\diego\\AppData\\Local\\Temp\\ipykernel_50852\\430125842.py:16: FutureWarning: Calling float on a single element Series is deprecated and will raise a TypeError in the future. Use float(ser.iloc[0]) instead\n",
      "  previous_close = float(df.iloc[0][\"Close\"])\n"
     ]
    },
    {
     "name": "stdout",
     "output_type": "stream",
     "text": [
      "Fetching data for MET...\n"
     ]
    },
    {
     "name": "stderr",
     "output_type": "stream",
     "text": [
      "[*********************100%***********************]  1 of 1 completed\n",
      "C:\\Users\\diego\\AppData\\Local\\Temp\\ipykernel_50852\\430125842.py:13: FutureWarning: Calling float on a single element Series is deprecated and will raise a TypeError in the future. Use float(ser.iloc[0]) instead\n",
      "  open_price     = float(df.iloc[1][\"Open\"])\n",
      "C:\\Users\\diego\\AppData\\Local\\Temp\\ipykernel_50852\\430125842.py:14: FutureWarning: Calling float on a single element Series is deprecated and will raise a TypeError in the future. Use float(ser.iloc[0]) instead\n",
      "  close_price    = float(df.iloc[1][\"Close\"])\n",
      "C:\\Users\\diego\\AppData\\Local\\Temp\\ipykernel_50852\\430125842.py:15: FutureWarning: Calling float on a single element Series is deprecated and will raise a TypeError in the future. Use float(ser.iloc[0]) instead\n",
      "  previous_open  = float(df.iloc[0][\"Open\"])\n",
      "C:\\Users\\diego\\AppData\\Local\\Temp\\ipykernel_50852\\430125842.py:16: FutureWarning: Calling float on a single element Series is deprecated and will raise a TypeError in the future. Use float(ser.iloc[0]) instead\n",
      "  previous_close = float(df.iloc[0][\"Close\"])\n"
     ]
    },
    {
     "name": "stdout",
     "output_type": "stream",
     "text": [
      "Fetching data for MTD...\n"
     ]
    },
    {
     "name": "stderr",
     "output_type": "stream",
     "text": [
      "[*********************100%***********************]  1 of 1 completed\n",
      "C:\\Users\\diego\\AppData\\Local\\Temp\\ipykernel_50852\\430125842.py:13: FutureWarning: Calling float on a single element Series is deprecated and will raise a TypeError in the future. Use float(ser.iloc[0]) instead\n",
      "  open_price     = float(df.iloc[1][\"Open\"])\n",
      "C:\\Users\\diego\\AppData\\Local\\Temp\\ipykernel_50852\\430125842.py:14: FutureWarning: Calling float on a single element Series is deprecated and will raise a TypeError in the future. Use float(ser.iloc[0]) instead\n",
      "  close_price    = float(df.iloc[1][\"Close\"])\n",
      "C:\\Users\\diego\\AppData\\Local\\Temp\\ipykernel_50852\\430125842.py:15: FutureWarning: Calling float on a single element Series is deprecated and will raise a TypeError in the future. Use float(ser.iloc[0]) instead\n",
      "  previous_open  = float(df.iloc[0][\"Open\"])\n",
      "C:\\Users\\diego\\AppData\\Local\\Temp\\ipykernel_50852\\430125842.py:16: FutureWarning: Calling float on a single element Series is deprecated and will raise a TypeError in the future. Use float(ser.iloc[0]) instead\n",
      "  previous_close = float(df.iloc[0][\"Close\"])\n"
     ]
    },
    {
     "name": "stdout",
     "output_type": "stream",
     "text": [
      "Fetching data for MGM...\n"
     ]
    },
    {
     "name": "stderr",
     "output_type": "stream",
     "text": [
      "[*********************100%***********************]  1 of 1 completed\n",
      "C:\\Users\\diego\\AppData\\Local\\Temp\\ipykernel_50852\\430125842.py:13: FutureWarning: Calling float on a single element Series is deprecated and will raise a TypeError in the future. Use float(ser.iloc[0]) instead\n",
      "  open_price     = float(df.iloc[1][\"Open\"])\n",
      "C:\\Users\\diego\\AppData\\Local\\Temp\\ipykernel_50852\\430125842.py:14: FutureWarning: Calling float on a single element Series is deprecated and will raise a TypeError in the future. Use float(ser.iloc[0]) instead\n",
      "  close_price    = float(df.iloc[1][\"Close\"])\n",
      "C:\\Users\\diego\\AppData\\Local\\Temp\\ipykernel_50852\\430125842.py:15: FutureWarning: Calling float on a single element Series is deprecated and will raise a TypeError in the future. Use float(ser.iloc[0]) instead\n",
      "  previous_open  = float(df.iloc[0][\"Open\"])\n",
      "C:\\Users\\diego\\AppData\\Local\\Temp\\ipykernel_50852\\430125842.py:16: FutureWarning: Calling float on a single element Series is deprecated and will raise a TypeError in the future. Use float(ser.iloc[0]) instead\n",
      "  previous_close = float(df.iloc[0][\"Close\"])\n"
     ]
    },
    {
     "name": "stdout",
     "output_type": "stream",
     "text": [
      "Fetching data for MCHP...\n"
     ]
    },
    {
     "name": "stderr",
     "output_type": "stream",
     "text": [
      "[*********************100%***********************]  1 of 1 completed\n",
      "C:\\Users\\diego\\AppData\\Local\\Temp\\ipykernel_50852\\430125842.py:13: FutureWarning: Calling float on a single element Series is deprecated and will raise a TypeError in the future. Use float(ser.iloc[0]) instead\n",
      "  open_price     = float(df.iloc[1][\"Open\"])\n",
      "C:\\Users\\diego\\AppData\\Local\\Temp\\ipykernel_50852\\430125842.py:14: FutureWarning: Calling float on a single element Series is deprecated and will raise a TypeError in the future. Use float(ser.iloc[0]) instead\n",
      "  close_price    = float(df.iloc[1][\"Close\"])\n",
      "C:\\Users\\diego\\AppData\\Local\\Temp\\ipykernel_50852\\430125842.py:15: FutureWarning: Calling float on a single element Series is deprecated and will raise a TypeError in the future. Use float(ser.iloc[0]) instead\n",
      "  previous_open  = float(df.iloc[0][\"Open\"])\n",
      "C:\\Users\\diego\\AppData\\Local\\Temp\\ipykernel_50852\\430125842.py:16: FutureWarning: Calling float on a single element Series is deprecated and will raise a TypeError in the future. Use float(ser.iloc[0]) instead\n",
      "  previous_close = float(df.iloc[0][\"Close\"])\n"
     ]
    },
    {
     "name": "stdout",
     "output_type": "stream",
     "text": [
      "Fetching data for MU...\n"
     ]
    },
    {
     "name": "stderr",
     "output_type": "stream",
     "text": [
      "[*********************100%***********************]  1 of 1 completed\n",
      "C:\\Users\\diego\\AppData\\Local\\Temp\\ipykernel_50852\\430125842.py:13: FutureWarning: Calling float on a single element Series is deprecated and will raise a TypeError in the future. Use float(ser.iloc[0]) instead\n",
      "  open_price     = float(df.iloc[1][\"Open\"])\n",
      "C:\\Users\\diego\\AppData\\Local\\Temp\\ipykernel_50852\\430125842.py:14: FutureWarning: Calling float on a single element Series is deprecated and will raise a TypeError in the future. Use float(ser.iloc[0]) instead\n",
      "  close_price    = float(df.iloc[1][\"Close\"])\n",
      "C:\\Users\\diego\\AppData\\Local\\Temp\\ipykernel_50852\\430125842.py:15: FutureWarning: Calling float on a single element Series is deprecated and will raise a TypeError in the future. Use float(ser.iloc[0]) instead\n",
      "  previous_open  = float(df.iloc[0][\"Open\"])\n",
      "C:\\Users\\diego\\AppData\\Local\\Temp\\ipykernel_50852\\430125842.py:16: FutureWarning: Calling float on a single element Series is deprecated and will raise a TypeError in the future. Use float(ser.iloc[0]) instead\n",
      "  previous_close = float(df.iloc[0][\"Close\"])\n"
     ]
    },
    {
     "name": "stdout",
     "output_type": "stream",
     "text": [
      "Fetching data for MSFT...\n"
     ]
    },
    {
     "name": "stderr",
     "output_type": "stream",
     "text": [
      "[*********************100%***********************]  1 of 1 completed\n",
      "C:\\Users\\diego\\AppData\\Local\\Temp\\ipykernel_50852\\430125842.py:13: FutureWarning: Calling float on a single element Series is deprecated and will raise a TypeError in the future. Use float(ser.iloc[0]) instead\n",
      "  open_price     = float(df.iloc[1][\"Open\"])\n",
      "C:\\Users\\diego\\AppData\\Local\\Temp\\ipykernel_50852\\430125842.py:14: FutureWarning: Calling float on a single element Series is deprecated and will raise a TypeError in the future. Use float(ser.iloc[0]) instead\n",
      "  close_price    = float(df.iloc[1][\"Close\"])\n",
      "C:\\Users\\diego\\AppData\\Local\\Temp\\ipykernel_50852\\430125842.py:15: FutureWarning: Calling float on a single element Series is deprecated and will raise a TypeError in the future. Use float(ser.iloc[0]) instead\n",
      "  previous_open  = float(df.iloc[0][\"Open\"])\n",
      "C:\\Users\\diego\\AppData\\Local\\Temp\\ipykernel_50852\\430125842.py:16: FutureWarning: Calling float on a single element Series is deprecated and will raise a TypeError in the future. Use float(ser.iloc[0]) instead\n",
      "  previous_close = float(df.iloc[0][\"Close\"])\n"
     ]
    },
    {
     "name": "stdout",
     "output_type": "stream",
     "text": [
      "Fetching data for MAA...\n"
     ]
    },
    {
     "name": "stderr",
     "output_type": "stream",
     "text": [
      "[*********************100%***********************]  1 of 1 completed\n",
      "C:\\Users\\diego\\AppData\\Local\\Temp\\ipykernel_50852\\430125842.py:13: FutureWarning: Calling float on a single element Series is deprecated and will raise a TypeError in the future. Use float(ser.iloc[0]) instead\n",
      "  open_price     = float(df.iloc[1][\"Open\"])\n",
      "C:\\Users\\diego\\AppData\\Local\\Temp\\ipykernel_50852\\430125842.py:14: FutureWarning: Calling float on a single element Series is deprecated and will raise a TypeError in the future. Use float(ser.iloc[0]) instead\n",
      "  close_price    = float(df.iloc[1][\"Close\"])\n",
      "C:\\Users\\diego\\AppData\\Local\\Temp\\ipykernel_50852\\430125842.py:15: FutureWarning: Calling float on a single element Series is deprecated and will raise a TypeError in the future. Use float(ser.iloc[0]) instead\n",
      "  previous_open  = float(df.iloc[0][\"Open\"])\n",
      "C:\\Users\\diego\\AppData\\Local\\Temp\\ipykernel_50852\\430125842.py:16: FutureWarning: Calling float on a single element Series is deprecated and will raise a TypeError in the future. Use float(ser.iloc[0]) instead\n",
      "  previous_close = float(df.iloc[0][\"Close\"])\n"
     ]
    },
    {
     "name": "stdout",
     "output_type": "stream",
     "text": [
      "Fetching data for MRNA...\n"
     ]
    },
    {
     "name": "stderr",
     "output_type": "stream",
     "text": [
      "[*********************100%***********************]  1 of 1 completed\n",
      "C:\\Users\\diego\\AppData\\Local\\Temp\\ipykernel_50852\\430125842.py:13: FutureWarning: Calling float on a single element Series is deprecated and will raise a TypeError in the future. Use float(ser.iloc[0]) instead\n",
      "  open_price     = float(df.iloc[1][\"Open\"])\n",
      "C:\\Users\\diego\\AppData\\Local\\Temp\\ipykernel_50852\\430125842.py:14: FutureWarning: Calling float on a single element Series is deprecated and will raise a TypeError in the future. Use float(ser.iloc[0]) instead\n",
      "  close_price    = float(df.iloc[1][\"Close\"])\n",
      "C:\\Users\\diego\\AppData\\Local\\Temp\\ipykernel_50852\\430125842.py:15: FutureWarning: Calling float on a single element Series is deprecated and will raise a TypeError in the future. Use float(ser.iloc[0]) instead\n",
      "  previous_open  = float(df.iloc[0][\"Open\"])\n",
      "C:\\Users\\diego\\AppData\\Local\\Temp\\ipykernel_50852\\430125842.py:16: FutureWarning: Calling float on a single element Series is deprecated and will raise a TypeError in the future. Use float(ser.iloc[0]) instead\n",
      "  previous_close = float(df.iloc[0][\"Close\"])\n"
     ]
    },
    {
     "name": "stdout",
     "output_type": "stream",
     "text": [
      "Fetching data for MHK...\n"
     ]
    },
    {
     "name": "stderr",
     "output_type": "stream",
     "text": [
      "[*********************100%***********************]  1 of 1 completed\n",
      "C:\\Users\\diego\\AppData\\Local\\Temp\\ipykernel_50852\\430125842.py:13: FutureWarning: Calling float on a single element Series is deprecated and will raise a TypeError in the future. Use float(ser.iloc[0]) instead\n",
      "  open_price     = float(df.iloc[1][\"Open\"])\n",
      "C:\\Users\\diego\\AppData\\Local\\Temp\\ipykernel_50852\\430125842.py:14: FutureWarning: Calling float on a single element Series is deprecated and will raise a TypeError in the future. Use float(ser.iloc[0]) instead\n",
      "  close_price    = float(df.iloc[1][\"Close\"])\n",
      "C:\\Users\\diego\\AppData\\Local\\Temp\\ipykernel_50852\\430125842.py:15: FutureWarning: Calling float on a single element Series is deprecated and will raise a TypeError in the future. Use float(ser.iloc[0]) instead\n",
      "  previous_open  = float(df.iloc[0][\"Open\"])\n",
      "C:\\Users\\diego\\AppData\\Local\\Temp\\ipykernel_50852\\430125842.py:16: FutureWarning: Calling float on a single element Series is deprecated and will raise a TypeError in the future. Use float(ser.iloc[0]) instead\n",
      "  previous_close = float(df.iloc[0][\"Close\"])\n"
     ]
    },
    {
     "name": "stdout",
     "output_type": "stream",
     "text": [
      "Fetching data for MOH...\n"
     ]
    },
    {
     "name": "stderr",
     "output_type": "stream",
     "text": [
      "[*********************100%***********************]  1 of 1 completed\n",
      "C:\\Users\\diego\\AppData\\Local\\Temp\\ipykernel_50852\\430125842.py:13: FutureWarning: Calling float on a single element Series is deprecated and will raise a TypeError in the future. Use float(ser.iloc[0]) instead\n",
      "  open_price     = float(df.iloc[1][\"Open\"])\n",
      "C:\\Users\\diego\\AppData\\Local\\Temp\\ipykernel_50852\\430125842.py:14: FutureWarning: Calling float on a single element Series is deprecated and will raise a TypeError in the future. Use float(ser.iloc[0]) instead\n",
      "  close_price    = float(df.iloc[1][\"Close\"])\n",
      "C:\\Users\\diego\\AppData\\Local\\Temp\\ipykernel_50852\\430125842.py:15: FutureWarning: Calling float on a single element Series is deprecated and will raise a TypeError in the future. Use float(ser.iloc[0]) instead\n",
      "  previous_open  = float(df.iloc[0][\"Open\"])\n",
      "C:\\Users\\diego\\AppData\\Local\\Temp\\ipykernel_50852\\430125842.py:16: FutureWarning: Calling float on a single element Series is deprecated and will raise a TypeError in the future. Use float(ser.iloc[0]) instead\n",
      "  previous_close = float(df.iloc[0][\"Close\"])\n"
     ]
    },
    {
     "name": "stdout",
     "output_type": "stream",
     "text": [
      "Fetching data for TAP...\n"
     ]
    },
    {
     "name": "stderr",
     "output_type": "stream",
     "text": [
      "[*********************100%***********************]  1 of 1 completed\n",
      "C:\\Users\\diego\\AppData\\Local\\Temp\\ipykernel_50852\\430125842.py:13: FutureWarning: Calling float on a single element Series is deprecated and will raise a TypeError in the future. Use float(ser.iloc[0]) instead\n",
      "  open_price     = float(df.iloc[1][\"Open\"])\n",
      "C:\\Users\\diego\\AppData\\Local\\Temp\\ipykernel_50852\\430125842.py:14: FutureWarning: Calling float on a single element Series is deprecated and will raise a TypeError in the future. Use float(ser.iloc[0]) instead\n",
      "  close_price    = float(df.iloc[1][\"Close\"])\n",
      "C:\\Users\\diego\\AppData\\Local\\Temp\\ipykernel_50852\\430125842.py:15: FutureWarning: Calling float on a single element Series is deprecated and will raise a TypeError in the future. Use float(ser.iloc[0]) instead\n",
      "  previous_open  = float(df.iloc[0][\"Open\"])\n",
      "C:\\Users\\diego\\AppData\\Local\\Temp\\ipykernel_50852\\430125842.py:16: FutureWarning: Calling float on a single element Series is deprecated and will raise a TypeError in the future. Use float(ser.iloc[0]) instead\n",
      "  previous_close = float(df.iloc[0][\"Close\"])\n"
     ]
    },
    {
     "name": "stdout",
     "output_type": "stream",
     "text": [
      "Fetching data for MDLZ...\n"
     ]
    },
    {
     "name": "stderr",
     "output_type": "stream",
     "text": [
      "[*********************100%***********************]  1 of 1 completed\n",
      "C:\\Users\\diego\\AppData\\Local\\Temp\\ipykernel_50852\\430125842.py:13: FutureWarning: Calling float on a single element Series is deprecated and will raise a TypeError in the future. Use float(ser.iloc[0]) instead\n",
      "  open_price     = float(df.iloc[1][\"Open\"])\n",
      "C:\\Users\\diego\\AppData\\Local\\Temp\\ipykernel_50852\\430125842.py:14: FutureWarning: Calling float on a single element Series is deprecated and will raise a TypeError in the future. Use float(ser.iloc[0]) instead\n",
      "  close_price    = float(df.iloc[1][\"Close\"])\n",
      "C:\\Users\\diego\\AppData\\Local\\Temp\\ipykernel_50852\\430125842.py:15: FutureWarning: Calling float on a single element Series is deprecated and will raise a TypeError in the future. Use float(ser.iloc[0]) instead\n",
      "  previous_open  = float(df.iloc[0][\"Open\"])\n",
      "C:\\Users\\diego\\AppData\\Local\\Temp\\ipykernel_50852\\430125842.py:16: FutureWarning: Calling float on a single element Series is deprecated and will raise a TypeError in the future. Use float(ser.iloc[0]) instead\n",
      "  previous_close = float(df.iloc[0][\"Close\"])\n"
     ]
    },
    {
     "name": "stdout",
     "output_type": "stream",
     "text": [
      "Fetching data for MPWR...\n"
     ]
    },
    {
     "name": "stderr",
     "output_type": "stream",
     "text": [
      "[*********************100%***********************]  1 of 1 completed\n",
      "C:\\Users\\diego\\AppData\\Local\\Temp\\ipykernel_50852\\430125842.py:13: FutureWarning: Calling float on a single element Series is deprecated and will raise a TypeError in the future. Use float(ser.iloc[0]) instead\n",
      "  open_price     = float(df.iloc[1][\"Open\"])\n",
      "C:\\Users\\diego\\AppData\\Local\\Temp\\ipykernel_50852\\430125842.py:14: FutureWarning: Calling float on a single element Series is deprecated and will raise a TypeError in the future. Use float(ser.iloc[0]) instead\n",
      "  close_price    = float(df.iloc[1][\"Close\"])\n",
      "C:\\Users\\diego\\AppData\\Local\\Temp\\ipykernel_50852\\430125842.py:15: FutureWarning: Calling float on a single element Series is deprecated and will raise a TypeError in the future. Use float(ser.iloc[0]) instead\n",
      "  previous_open  = float(df.iloc[0][\"Open\"])\n",
      "C:\\Users\\diego\\AppData\\Local\\Temp\\ipykernel_50852\\430125842.py:16: FutureWarning: Calling float on a single element Series is deprecated and will raise a TypeError in the future. Use float(ser.iloc[0]) instead\n",
      "  previous_close = float(df.iloc[0][\"Close\"])\n"
     ]
    },
    {
     "name": "stdout",
     "output_type": "stream",
     "text": [
      "Fetching data for MNST...\n"
     ]
    },
    {
     "name": "stderr",
     "output_type": "stream",
     "text": [
      "[*********************100%***********************]  1 of 1 completed\n",
      "C:\\Users\\diego\\AppData\\Local\\Temp\\ipykernel_50852\\430125842.py:13: FutureWarning: Calling float on a single element Series is deprecated and will raise a TypeError in the future. Use float(ser.iloc[0]) instead\n",
      "  open_price     = float(df.iloc[1][\"Open\"])\n",
      "C:\\Users\\diego\\AppData\\Local\\Temp\\ipykernel_50852\\430125842.py:14: FutureWarning: Calling float on a single element Series is deprecated and will raise a TypeError in the future. Use float(ser.iloc[0]) instead\n",
      "  close_price    = float(df.iloc[1][\"Close\"])\n",
      "C:\\Users\\diego\\AppData\\Local\\Temp\\ipykernel_50852\\430125842.py:15: FutureWarning: Calling float on a single element Series is deprecated and will raise a TypeError in the future. Use float(ser.iloc[0]) instead\n",
      "  previous_open  = float(df.iloc[0][\"Open\"])\n",
      "C:\\Users\\diego\\AppData\\Local\\Temp\\ipykernel_50852\\430125842.py:16: FutureWarning: Calling float on a single element Series is deprecated and will raise a TypeError in the future. Use float(ser.iloc[0]) instead\n",
      "  previous_close = float(df.iloc[0][\"Close\"])\n"
     ]
    },
    {
     "name": "stdout",
     "output_type": "stream",
     "text": [
      "Fetching data for MCO...\n"
     ]
    },
    {
     "name": "stderr",
     "output_type": "stream",
     "text": [
      "[*********************100%***********************]  1 of 1 completed\n",
      "C:\\Users\\diego\\AppData\\Local\\Temp\\ipykernel_50852\\430125842.py:13: FutureWarning: Calling float on a single element Series is deprecated and will raise a TypeError in the future. Use float(ser.iloc[0]) instead\n",
      "  open_price     = float(df.iloc[1][\"Open\"])\n",
      "C:\\Users\\diego\\AppData\\Local\\Temp\\ipykernel_50852\\430125842.py:14: FutureWarning: Calling float on a single element Series is deprecated and will raise a TypeError in the future. Use float(ser.iloc[0]) instead\n",
      "  close_price    = float(df.iloc[1][\"Close\"])\n",
      "C:\\Users\\diego\\AppData\\Local\\Temp\\ipykernel_50852\\430125842.py:15: FutureWarning: Calling float on a single element Series is deprecated and will raise a TypeError in the future. Use float(ser.iloc[0]) instead\n",
      "  previous_open  = float(df.iloc[0][\"Open\"])\n",
      "C:\\Users\\diego\\AppData\\Local\\Temp\\ipykernel_50852\\430125842.py:16: FutureWarning: Calling float on a single element Series is deprecated and will raise a TypeError in the future. Use float(ser.iloc[0]) instead\n",
      "  previous_close = float(df.iloc[0][\"Close\"])\n"
     ]
    },
    {
     "name": "stdout",
     "output_type": "stream",
     "text": [
      "Fetching data for MS...\n"
     ]
    },
    {
     "name": "stderr",
     "output_type": "stream",
     "text": [
      "[*********************100%***********************]  1 of 1 completed\n",
      "C:\\Users\\diego\\AppData\\Local\\Temp\\ipykernel_50852\\430125842.py:13: FutureWarning: Calling float on a single element Series is deprecated and will raise a TypeError in the future. Use float(ser.iloc[0]) instead\n",
      "  open_price     = float(df.iloc[1][\"Open\"])\n",
      "C:\\Users\\diego\\AppData\\Local\\Temp\\ipykernel_50852\\430125842.py:14: FutureWarning: Calling float on a single element Series is deprecated and will raise a TypeError in the future. Use float(ser.iloc[0]) instead\n",
      "  close_price    = float(df.iloc[1][\"Close\"])\n",
      "C:\\Users\\diego\\AppData\\Local\\Temp\\ipykernel_50852\\430125842.py:15: FutureWarning: Calling float on a single element Series is deprecated and will raise a TypeError in the future. Use float(ser.iloc[0]) instead\n",
      "  previous_open  = float(df.iloc[0][\"Open\"])\n",
      "C:\\Users\\diego\\AppData\\Local\\Temp\\ipykernel_50852\\430125842.py:16: FutureWarning: Calling float on a single element Series is deprecated and will raise a TypeError in the future. Use float(ser.iloc[0]) instead\n",
      "  previous_close = float(df.iloc[0][\"Close\"])\n"
     ]
    },
    {
     "name": "stdout",
     "output_type": "stream",
     "text": [
      "Fetching data for MOS...\n"
     ]
    },
    {
     "name": "stderr",
     "output_type": "stream",
     "text": [
      "[*********************100%***********************]  1 of 1 completed\n",
      "C:\\Users\\diego\\AppData\\Local\\Temp\\ipykernel_50852\\430125842.py:13: FutureWarning: Calling float on a single element Series is deprecated and will raise a TypeError in the future. Use float(ser.iloc[0]) instead\n",
      "  open_price     = float(df.iloc[1][\"Open\"])\n",
      "C:\\Users\\diego\\AppData\\Local\\Temp\\ipykernel_50852\\430125842.py:14: FutureWarning: Calling float on a single element Series is deprecated and will raise a TypeError in the future. Use float(ser.iloc[0]) instead\n",
      "  close_price    = float(df.iloc[1][\"Close\"])\n",
      "C:\\Users\\diego\\AppData\\Local\\Temp\\ipykernel_50852\\430125842.py:15: FutureWarning: Calling float on a single element Series is deprecated and will raise a TypeError in the future. Use float(ser.iloc[0]) instead\n",
      "  previous_open  = float(df.iloc[0][\"Open\"])\n",
      "C:\\Users\\diego\\AppData\\Local\\Temp\\ipykernel_50852\\430125842.py:16: FutureWarning: Calling float on a single element Series is deprecated and will raise a TypeError in the future. Use float(ser.iloc[0]) instead\n",
      "  previous_close = float(df.iloc[0][\"Close\"])\n"
     ]
    },
    {
     "name": "stdout",
     "output_type": "stream",
     "text": [
      "Fetching data for MSI...\n"
     ]
    },
    {
     "name": "stderr",
     "output_type": "stream",
     "text": [
      "[*********************100%***********************]  1 of 1 completed\n",
      "C:\\Users\\diego\\AppData\\Local\\Temp\\ipykernel_50852\\430125842.py:13: FutureWarning: Calling float on a single element Series is deprecated and will raise a TypeError in the future. Use float(ser.iloc[0]) instead\n",
      "  open_price     = float(df.iloc[1][\"Open\"])\n",
      "C:\\Users\\diego\\AppData\\Local\\Temp\\ipykernel_50852\\430125842.py:14: FutureWarning: Calling float on a single element Series is deprecated and will raise a TypeError in the future. Use float(ser.iloc[0]) instead\n",
      "  close_price    = float(df.iloc[1][\"Close\"])\n",
      "C:\\Users\\diego\\AppData\\Local\\Temp\\ipykernel_50852\\430125842.py:15: FutureWarning: Calling float on a single element Series is deprecated and will raise a TypeError in the future. Use float(ser.iloc[0]) instead\n",
      "  previous_open  = float(df.iloc[0][\"Open\"])\n",
      "C:\\Users\\diego\\AppData\\Local\\Temp\\ipykernel_50852\\430125842.py:16: FutureWarning: Calling float on a single element Series is deprecated and will raise a TypeError in the future. Use float(ser.iloc[0]) instead\n",
      "  previous_close = float(df.iloc[0][\"Close\"])\n"
     ]
    },
    {
     "name": "stdout",
     "output_type": "stream",
     "text": [
      "Fetching data for MSCI...\n"
     ]
    },
    {
     "name": "stderr",
     "output_type": "stream",
     "text": [
      "[*********************100%***********************]  1 of 1 completed\n",
      "C:\\Users\\diego\\AppData\\Local\\Temp\\ipykernel_50852\\430125842.py:13: FutureWarning: Calling float on a single element Series is deprecated and will raise a TypeError in the future. Use float(ser.iloc[0]) instead\n",
      "  open_price     = float(df.iloc[1][\"Open\"])\n",
      "C:\\Users\\diego\\AppData\\Local\\Temp\\ipykernel_50852\\430125842.py:14: FutureWarning: Calling float on a single element Series is deprecated and will raise a TypeError in the future. Use float(ser.iloc[0]) instead\n",
      "  close_price    = float(df.iloc[1][\"Close\"])\n",
      "C:\\Users\\diego\\AppData\\Local\\Temp\\ipykernel_50852\\430125842.py:15: FutureWarning: Calling float on a single element Series is deprecated and will raise a TypeError in the future. Use float(ser.iloc[0]) instead\n",
      "  previous_open  = float(df.iloc[0][\"Open\"])\n",
      "C:\\Users\\diego\\AppData\\Local\\Temp\\ipykernel_50852\\430125842.py:16: FutureWarning: Calling float on a single element Series is deprecated and will raise a TypeError in the future. Use float(ser.iloc[0]) instead\n",
      "  previous_close = float(df.iloc[0][\"Close\"])\n"
     ]
    },
    {
     "name": "stdout",
     "output_type": "stream",
     "text": [
      "Fetching data for NDAQ...\n"
     ]
    },
    {
     "name": "stderr",
     "output_type": "stream",
     "text": [
      "[*********************100%***********************]  1 of 1 completed\n",
      "C:\\Users\\diego\\AppData\\Local\\Temp\\ipykernel_50852\\430125842.py:13: FutureWarning: Calling float on a single element Series is deprecated and will raise a TypeError in the future. Use float(ser.iloc[0]) instead\n",
      "  open_price     = float(df.iloc[1][\"Open\"])\n",
      "C:\\Users\\diego\\AppData\\Local\\Temp\\ipykernel_50852\\430125842.py:14: FutureWarning: Calling float on a single element Series is deprecated and will raise a TypeError in the future. Use float(ser.iloc[0]) instead\n",
      "  close_price    = float(df.iloc[1][\"Close\"])\n",
      "C:\\Users\\diego\\AppData\\Local\\Temp\\ipykernel_50852\\430125842.py:15: FutureWarning: Calling float on a single element Series is deprecated and will raise a TypeError in the future. Use float(ser.iloc[0]) instead\n",
      "  previous_open  = float(df.iloc[0][\"Open\"])\n",
      "C:\\Users\\diego\\AppData\\Local\\Temp\\ipykernel_50852\\430125842.py:16: FutureWarning: Calling float on a single element Series is deprecated and will raise a TypeError in the future. Use float(ser.iloc[0]) instead\n",
      "  previous_close = float(df.iloc[0][\"Close\"])\n"
     ]
    },
    {
     "name": "stdout",
     "output_type": "stream",
     "text": [
      "Fetching data for NTAP...\n"
     ]
    },
    {
     "name": "stderr",
     "output_type": "stream",
     "text": [
      "[*********************100%***********************]  1 of 1 completed\n",
      "C:\\Users\\diego\\AppData\\Local\\Temp\\ipykernel_50852\\430125842.py:13: FutureWarning: Calling float on a single element Series is deprecated and will raise a TypeError in the future. Use float(ser.iloc[0]) instead\n",
      "  open_price     = float(df.iloc[1][\"Open\"])\n",
      "C:\\Users\\diego\\AppData\\Local\\Temp\\ipykernel_50852\\430125842.py:14: FutureWarning: Calling float on a single element Series is deprecated and will raise a TypeError in the future. Use float(ser.iloc[0]) instead\n",
      "  close_price    = float(df.iloc[1][\"Close\"])\n",
      "C:\\Users\\diego\\AppData\\Local\\Temp\\ipykernel_50852\\430125842.py:15: FutureWarning: Calling float on a single element Series is deprecated and will raise a TypeError in the future. Use float(ser.iloc[0]) instead\n",
      "  previous_open  = float(df.iloc[0][\"Open\"])\n",
      "C:\\Users\\diego\\AppData\\Local\\Temp\\ipykernel_50852\\430125842.py:16: FutureWarning: Calling float on a single element Series is deprecated and will raise a TypeError in the future. Use float(ser.iloc[0]) instead\n",
      "  previous_close = float(df.iloc[0][\"Close\"])\n"
     ]
    },
    {
     "name": "stdout",
     "output_type": "stream",
     "text": [
      "Fetching data for NFLX...\n"
     ]
    },
    {
     "name": "stderr",
     "output_type": "stream",
     "text": [
      "[*********************100%***********************]  1 of 1 completed\n",
      "C:\\Users\\diego\\AppData\\Local\\Temp\\ipykernel_50852\\430125842.py:13: FutureWarning: Calling float on a single element Series is deprecated and will raise a TypeError in the future. Use float(ser.iloc[0]) instead\n",
      "  open_price     = float(df.iloc[1][\"Open\"])\n",
      "C:\\Users\\diego\\AppData\\Local\\Temp\\ipykernel_50852\\430125842.py:14: FutureWarning: Calling float on a single element Series is deprecated and will raise a TypeError in the future. Use float(ser.iloc[0]) instead\n",
      "  close_price    = float(df.iloc[1][\"Close\"])\n",
      "C:\\Users\\diego\\AppData\\Local\\Temp\\ipykernel_50852\\430125842.py:15: FutureWarning: Calling float on a single element Series is deprecated and will raise a TypeError in the future. Use float(ser.iloc[0]) instead\n",
      "  previous_open  = float(df.iloc[0][\"Open\"])\n",
      "C:\\Users\\diego\\AppData\\Local\\Temp\\ipykernel_50852\\430125842.py:16: FutureWarning: Calling float on a single element Series is deprecated and will raise a TypeError in the future. Use float(ser.iloc[0]) instead\n",
      "  previous_close = float(df.iloc[0][\"Close\"])\n"
     ]
    },
    {
     "name": "stdout",
     "output_type": "stream",
     "text": [
      "Fetching data for NEM...\n"
     ]
    },
    {
     "name": "stderr",
     "output_type": "stream",
     "text": [
      "[*********************100%***********************]  1 of 1 completed\n",
      "\n",
      "1 Failed download:\n",
      "['NEM']: ConnectionError(ReadTimeoutError(\"HTTPSConnectionPool(host='query2.finance.yahoo.com', port=443): Read timed out.\"))\n"
     ]
    },
    {
     "name": "stdout",
     "output_type": "stream",
     "text": [
      "Not enough data for NEM. Skipping.\n",
      "Failed tickers: ['GEV', 'NEM']\n",
      "Fetching data for NWSA...\n"
     ]
    },
    {
     "name": "stderr",
     "output_type": "stream",
     "text": [
      "[*********************100%***********************]  1 of 1 completed\n",
      "\n",
      "1 Failed download:\n",
      "['NWSA']: ConnectionError(MaxRetryError('HTTPSConnectionPool(host=\\'query2.finance.yahoo.com\\', port=443): Max retries exceeded with url: /v8/finance/chart/%ticker%?period1=1570420800&period2=1701752400&interval=1d&includePrePost=False&events=div%2Csplits%2CcapitalGains&crumb=KiRdLnILVdY (Caused by NameResolutionError(\"<urllib3.connection.HTTPSConnection object at 0x000001A9F077F4D0>: Failed to resolve \\'query2.finance.yahoo.com\\' ([Errno 11001] getaddrinfo failed)\"))'))\n"
     ]
    },
    {
     "name": "stdout",
     "output_type": "stream",
     "text": [
      "Not enough data for NWSA. Skipping.\n",
      "Failed tickers: ['GEV', 'NEM', 'NWSA']\n",
      "Fetching data for NWS...\n"
     ]
    },
    {
     "name": "stderr",
     "output_type": "stream",
     "text": [
      "[*********************100%***********************]  1 of 1 completed\n",
      "\n",
      "1 Failed download:\n",
      "['NWS']: ConnectionError(MaxRetryError('HTTPSConnectionPool(host=\\'query2.finance.yahoo.com\\', port=443): Max retries exceeded with url: /v8/finance/chart/%ticker%?period1=1570420800&period2=1701752400&interval=1d&includePrePost=False&events=div%2Csplits%2CcapitalGains&crumb=KiRdLnILVdY (Caused by NameResolutionError(\"<urllib3.connection.HTTPSConnection object at 0x000001A9F137EAE0>: Failed to resolve \\'query2.finance.yahoo.com\\' ([Errno 11001] getaddrinfo failed)\"))'))\n"
     ]
    },
    {
     "name": "stdout",
     "output_type": "stream",
     "text": [
      "Not enough data for NWS. Skipping.\n",
      "Failed tickers: ['GEV', 'NEM', 'NWSA', 'NWS']\n",
      "Fetching data for NEE...\n"
     ]
    },
    {
     "name": "stderr",
     "output_type": "stream",
     "text": [
      "[*********************100%***********************]  1 of 1 completed\n",
      "C:\\Users\\diego\\AppData\\Local\\Temp\\ipykernel_50852\\430125842.py:13: FutureWarning: Calling float on a single element Series is deprecated and will raise a TypeError in the future. Use float(ser.iloc[0]) instead\n",
      "  open_price     = float(df.iloc[1][\"Open\"])\n",
      "C:\\Users\\diego\\AppData\\Local\\Temp\\ipykernel_50852\\430125842.py:14: FutureWarning: Calling float on a single element Series is deprecated and will raise a TypeError in the future. Use float(ser.iloc[0]) instead\n",
      "  close_price    = float(df.iloc[1][\"Close\"])\n",
      "C:\\Users\\diego\\AppData\\Local\\Temp\\ipykernel_50852\\430125842.py:15: FutureWarning: Calling float on a single element Series is deprecated and will raise a TypeError in the future. Use float(ser.iloc[0]) instead\n",
      "  previous_open  = float(df.iloc[0][\"Open\"])\n",
      "C:\\Users\\diego\\AppData\\Local\\Temp\\ipykernel_50852\\430125842.py:16: FutureWarning: Calling float on a single element Series is deprecated and will raise a TypeError in the future. Use float(ser.iloc[0]) instead\n",
      "  previous_close = float(df.iloc[0][\"Close\"])\n"
     ]
    },
    {
     "name": "stdout",
     "output_type": "stream",
     "text": [
      "Fetching data for NKE...\n"
     ]
    },
    {
     "name": "stderr",
     "output_type": "stream",
     "text": [
      "[*********************100%***********************]  1 of 1 completed\n",
      "C:\\Users\\diego\\AppData\\Local\\Temp\\ipykernel_50852\\430125842.py:13: FutureWarning: Calling float on a single element Series is deprecated and will raise a TypeError in the future. Use float(ser.iloc[0]) instead\n",
      "  open_price     = float(df.iloc[1][\"Open\"])\n",
      "C:\\Users\\diego\\AppData\\Local\\Temp\\ipykernel_50852\\430125842.py:14: FutureWarning: Calling float on a single element Series is deprecated and will raise a TypeError in the future. Use float(ser.iloc[0]) instead\n",
      "  close_price    = float(df.iloc[1][\"Close\"])\n",
      "C:\\Users\\diego\\AppData\\Local\\Temp\\ipykernel_50852\\430125842.py:15: FutureWarning: Calling float on a single element Series is deprecated and will raise a TypeError in the future. Use float(ser.iloc[0]) instead\n",
      "  previous_open  = float(df.iloc[0][\"Open\"])\n",
      "C:\\Users\\diego\\AppData\\Local\\Temp\\ipykernel_50852\\430125842.py:16: FutureWarning: Calling float on a single element Series is deprecated and will raise a TypeError in the future. Use float(ser.iloc[0]) instead\n",
      "  previous_close = float(df.iloc[0][\"Close\"])\n"
     ]
    },
    {
     "name": "stdout",
     "output_type": "stream",
     "text": [
      "Fetching data for NI...\n"
     ]
    },
    {
     "name": "stderr",
     "output_type": "stream",
     "text": [
      "[*********************100%***********************]  1 of 1 completed\n",
      "C:\\Users\\diego\\AppData\\Local\\Temp\\ipykernel_50852\\430125842.py:13: FutureWarning: Calling float on a single element Series is deprecated and will raise a TypeError in the future. Use float(ser.iloc[0]) instead\n",
      "  open_price     = float(df.iloc[1][\"Open\"])\n",
      "C:\\Users\\diego\\AppData\\Local\\Temp\\ipykernel_50852\\430125842.py:14: FutureWarning: Calling float on a single element Series is deprecated and will raise a TypeError in the future. Use float(ser.iloc[0]) instead\n",
      "  close_price    = float(df.iloc[1][\"Close\"])\n",
      "C:\\Users\\diego\\AppData\\Local\\Temp\\ipykernel_50852\\430125842.py:15: FutureWarning: Calling float on a single element Series is deprecated and will raise a TypeError in the future. Use float(ser.iloc[0]) instead\n",
      "  previous_open  = float(df.iloc[0][\"Open\"])\n",
      "C:\\Users\\diego\\AppData\\Local\\Temp\\ipykernel_50852\\430125842.py:16: FutureWarning: Calling float on a single element Series is deprecated and will raise a TypeError in the future. Use float(ser.iloc[0]) instead\n",
      "  previous_close = float(df.iloc[0][\"Close\"])\n"
     ]
    },
    {
     "name": "stdout",
     "output_type": "stream",
     "text": [
      "Fetching data for NDSN...\n"
     ]
    },
    {
     "name": "stderr",
     "output_type": "stream",
     "text": [
      "[*********************100%***********************]  1 of 1 completed\n",
      "C:\\Users\\diego\\AppData\\Local\\Temp\\ipykernel_50852\\430125842.py:13: FutureWarning: Calling float on a single element Series is deprecated and will raise a TypeError in the future. Use float(ser.iloc[0]) instead\n",
      "  open_price     = float(df.iloc[1][\"Open\"])\n",
      "C:\\Users\\diego\\AppData\\Local\\Temp\\ipykernel_50852\\430125842.py:14: FutureWarning: Calling float on a single element Series is deprecated and will raise a TypeError in the future. Use float(ser.iloc[0]) instead\n",
      "  close_price    = float(df.iloc[1][\"Close\"])\n",
      "C:\\Users\\diego\\AppData\\Local\\Temp\\ipykernel_50852\\430125842.py:15: FutureWarning: Calling float on a single element Series is deprecated and will raise a TypeError in the future. Use float(ser.iloc[0]) instead\n",
      "  previous_open  = float(df.iloc[0][\"Open\"])\n",
      "C:\\Users\\diego\\AppData\\Local\\Temp\\ipykernel_50852\\430125842.py:16: FutureWarning: Calling float on a single element Series is deprecated and will raise a TypeError in the future. Use float(ser.iloc[0]) instead\n",
      "  previous_close = float(df.iloc[0][\"Close\"])\n"
     ]
    },
    {
     "name": "stdout",
     "output_type": "stream",
     "text": [
      "Fetching data for NSC...\n"
     ]
    },
    {
     "name": "stderr",
     "output_type": "stream",
     "text": [
      "[*********************100%***********************]  1 of 1 completed\n",
      "C:\\Users\\diego\\AppData\\Local\\Temp\\ipykernel_50852\\430125842.py:13: FutureWarning: Calling float on a single element Series is deprecated and will raise a TypeError in the future. Use float(ser.iloc[0]) instead\n",
      "  open_price     = float(df.iloc[1][\"Open\"])\n",
      "C:\\Users\\diego\\AppData\\Local\\Temp\\ipykernel_50852\\430125842.py:14: FutureWarning: Calling float on a single element Series is deprecated and will raise a TypeError in the future. Use float(ser.iloc[0]) instead\n",
      "  close_price    = float(df.iloc[1][\"Close\"])\n",
      "C:\\Users\\diego\\AppData\\Local\\Temp\\ipykernel_50852\\430125842.py:15: FutureWarning: Calling float on a single element Series is deprecated and will raise a TypeError in the future. Use float(ser.iloc[0]) instead\n",
      "  previous_open  = float(df.iloc[0][\"Open\"])\n",
      "C:\\Users\\diego\\AppData\\Local\\Temp\\ipykernel_50852\\430125842.py:16: FutureWarning: Calling float on a single element Series is deprecated and will raise a TypeError in the future. Use float(ser.iloc[0]) instead\n",
      "  previous_close = float(df.iloc[0][\"Close\"])\n"
     ]
    },
    {
     "name": "stdout",
     "output_type": "stream",
     "text": [
      "Fetching data for NTRS...\n"
     ]
    },
    {
     "name": "stderr",
     "output_type": "stream",
     "text": [
      "[*********************100%***********************]  1 of 1 completed\n",
      "C:\\Users\\diego\\AppData\\Local\\Temp\\ipykernel_50852\\430125842.py:13: FutureWarning: Calling float on a single element Series is deprecated and will raise a TypeError in the future. Use float(ser.iloc[0]) instead\n",
      "  open_price     = float(df.iloc[1][\"Open\"])\n",
      "C:\\Users\\diego\\AppData\\Local\\Temp\\ipykernel_50852\\430125842.py:14: FutureWarning: Calling float on a single element Series is deprecated and will raise a TypeError in the future. Use float(ser.iloc[0]) instead\n",
      "  close_price    = float(df.iloc[1][\"Close\"])\n",
      "C:\\Users\\diego\\AppData\\Local\\Temp\\ipykernel_50852\\430125842.py:15: FutureWarning: Calling float on a single element Series is deprecated and will raise a TypeError in the future. Use float(ser.iloc[0]) instead\n",
      "  previous_open  = float(df.iloc[0][\"Open\"])\n",
      "C:\\Users\\diego\\AppData\\Local\\Temp\\ipykernel_50852\\430125842.py:16: FutureWarning: Calling float on a single element Series is deprecated and will raise a TypeError in the future. Use float(ser.iloc[0]) instead\n",
      "  previous_close = float(df.iloc[0][\"Close\"])\n"
     ]
    },
    {
     "name": "stdout",
     "output_type": "stream",
     "text": [
      "Fetching data for NOC...\n"
     ]
    },
    {
     "name": "stderr",
     "output_type": "stream",
     "text": [
      "[*********************100%***********************]  1 of 1 completed\n",
      "C:\\Users\\diego\\AppData\\Local\\Temp\\ipykernel_50852\\430125842.py:13: FutureWarning: Calling float on a single element Series is deprecated and will raise a TypeError in the future. Use float(ser.iloc[0]) instead\n",
      "  open_price     = float(df.iloc[1][\"Open\"])\n",
      "C:\\Users\\diego\\AppData\\Local\\Temp\\ipykernel_50852\\430125842.py:14: FutureWarning: Calling float on a single element Series is deprecated and will raise a TypeError in the future. Use float(ser.iloc[0]) instead\n",
      "  close_price    = float(df.iloc[1][\"Close\"])\n",
      "C:\\Users\\diego\\AppData\\Local\\Temp\\ipykernel_50852\\430125842.py:15: FutureWarning: Calling float on a single element Series is deprecated and will raise a TypeError in the future. Use float(ser.iloc[0]) instead\n",
      "  previous_open  = float(df.iloc[0][\"Open\"])\n",
      "C:\\Users\\diego\\AppData\\Local\\Temp\\ipykernel_50852\\430125842.py:16: FutureWarning: Calling float on a single element Series is deprecated and will raise a TypeError in the future. Use float(ser.iloc[0]) instead\n",
      "  previous_close = float(df.iloc[0][\"Close\"])\n"
     ]
    },
    {
     "name": "stdout",
     "output_type": "stream",
     "text": [
      "Fetching data for NCLH...\n"
     ]
    },
    {
     "name": "stderr",
     "output_type": "stream",
     "text": [
      "[*********************100%***********************]  1 of 1 completed\n",
      "C:\\Users\\diego\\AppData\\Local\\Temp\\ipykernel_50852\\430125842.py:13: FutureWarning: Calling float on a single element Series is deprecated and will raise a TypeError in the future. Use float(ser.iloc[0]) instead\n",
      "  open_price     = float(df.iloc[1][\"Open\"])\n",
      "C:\\Users\\diego\\AppData\\Local\\Temp\\ipykernel_50852\\430125842.py:14: FutureWarning: Calling float on a single element Series is deprecated and will raise a TypeError in the future. Use float(ser.iloc[0]) instead\n",
      "  close_price    = float(df.iloc[1][\"Close\"])\n",
      "C:\\Users\\diego\\AppData\\Local\\Temp\\ipykernel_50852\\430125842.py:15: FutureWarning: Calling float on a single element Series is deprecated and will raise a TypeError in the future. Use float(ser.iloc[0]) instead\n",
      "  previous_open  = float(df.iloc[0][\"Open\"])\n",
      "C:\\Users\\diego\\AppData\\Local\\Temp\\ipykernel_50852\\430125842.py:16: FutureWarning: Calling float on a single element Series is deprecated and will raise a TypeError in the future. Use float(ser.iloc[0]) instead\n",
      "  previous_close = float(df.iloc[0][\"Close\"])\n"
     ]
    },
    {
     "name": "stdout",
     "output_type": "stream",
     "text": [
      "Fetching data for NRG...\n"
     ]
    },
    {
     "name": "stderr",
     "output_type": "stream",
     "text": [
      "[*********************100%***********************]  1 of 1 completed\n",
      "C:\\Users\\diego\\AppData\\Local\\Temp\\ipykernel_50852\\430125842.py:13: FutureWarning: Calling float on a single element Series is deprecated and will raise a TypeError in the future. Use float(ser.iloc[0]) instead\n",
      "  open_price     = float(df.iloc[1][\"Open\"])\n",
      "C:\\Users\\diego\\AppData\\Local\\Temp\\ipykernel_50852\\430125842.py:14: FutureWarning: Calling float on a single element Series is deprecated and will raise a TypeError in the future. Use float(ser.iloc[0]) instead\n",
      "  close_price    = float(df.iloc[1][\"Close\"])\n",
      "C:\\Users\\diego\\AppData\\Local\\Temp\\ipykernel_50852\\430125842.py:15: FutureWarning: Calling float on a single element Series is deprecated and will raise a TypeError in the future. Use float(ser.iloc[0]) instead\n",
      "  previous_open  = float(df.iloc[0][\"Open\"])\n",
      "C:\\Users\\diego\\AppData\\Local\\Temp\\ipykernel_50852\\430125842.py:16: FutureWarning: Calling float on a single element Series is deprecated and will raise a TypeError in the future. Use float(ser.iloc[0]) instead\n",
      "  previous_close = float(df.iloc[0][\"Close\"])\n"
     ]
    },
    {
     "name": "stdout",
     "output_type": "stream",
     "text": [
      "Fetching data for NUE...\n"
     ]
    },
    {
     "name": "stderr",
     "output_type": "stream",
     "text": [
      "[*********************100%***********************]  1 of 1 completed\n",
      "C:\\Users\\diego\\AppData\\Local\\Temp\\ipykernel_50852\\430125842.py:13: FutureWarning: Calling float on a single element Series is deprecated and will raise a TypeError in the future. Use float(ser.iloc[0]) instead\n",
      "  open_price     = float(df.iloc[1][\"Open\"])\n",
      "C:\\Users\\diego\\AppData\\Local\\Temp\\ipykernel_50852\\430125842.py:14: FutureWarning: Calling float on a single element Series is deprecated and will raise a TypeError in the future. Use float(ser.iloc[0]) instead\n",
      "  close_price    = float(df.iloc[1][\"Close\"])\n",
      "C:\\Users\\diego\\AppData\\Local\\Temp\\ipykernel_50852\\430125842.py:15: FutureWarning: Calling float on a single element Series is deprecated and will raise a TypeError in the future. Use float(ser.iloc[0]) instead\n",
      "  previous_open  = float(df.iloc[0][\"Open\"])\n",
      "C:\\Users\\diego\\AppData\\Local\\Temp\\ipykernel_50852\\430125842.py:16: FutureWarning: Calling float on a single element Series is deprecated and will raise a TypeError in the future. Use float(ser.iloc[0]) instead\n",
      "  previous_close = float(df.iloc[0][\"Close\"])\n"
     ]
    },
    {
     "name": "stdout",
     "output_type": "stream",
     "text": [
      "Fetching data for NVDA...\n"
     ]
    },
    {
     "name": "stderr",
     "output_type": "stream",
     "text": [
      "[*********************100%***********************]  1 of 1 completed\n",
      "C:\\Users\\diego\\AppData\\Local\\Temp\\ipykernel_50852\\430125842.py:13: FutureWarning: Calling float on a single element Series is deprecated and will raise a TypeError in the future. Use float(ser.iloc[0]) instead\n",
      "  open_price     = float(df.iloc[1][\"Open\"])\n",
      "C:\\Users\\diego\\AppData\\Local\\Temp\\ipykernel_50852\\430125842.py:14: FutureWarning: Calling float on a single element Series is deprecated and will raise a TypeError in the future. Use float(ser.iloc[0]) instead\n",
      "  close_price    = float(df.iloc[1][\"Close\"])\n",
      "C:\\Users\\diego\\AppData\\Local\\Temp\\ipykernel_50852\\430125842.py:15: FutureWarning: Calling float on a single element Series is deprecated and will raise a TypeError in the future. Use float(ser.iloc[0]) instead\n",
      "  previous_open  = float(df.iloc[0][\"Open\"])\n",
      "C:\\Users\\diego\\AppData\\Local\\Temp\\ipykernel_50852\\430125842.py:16: FutureWarning: Calling float on a single element Series is deprecated and will raise a TypeError in the future. Use float(ser.iloc[0]) instead\n",
      "  previous_close = float(df.iloc[0][\"Close\"])\n"
     ]
    },
    {
     "name": "stdout",
     "output_type": "stream",
     "text": [
      "Fetching data for NVR...\n"
     ]
    },
    {
     "name": "stderr",
     "output_type": "stream",
     "text": [
      "[*********************100%***********************]  1 of 1 completed\n",
      "C:\\Users\\diego\\AppData\\Local\\Temp\\ipykernel_50852\\430125842.py:13: FutureWarning: Calling float on a single element Series is deprecated and will raise a TypeError in the future. Use float(ser.iloc[0]) instead\n",
      "  open_price     = float(df.iloc[1][\"Open\"])\n",
      "C:\\Users\\diego\\AppData\\Local\\Temp\\ipykernel_50852\\430125842.py:14: FutureWarning: Calling float on a single element Series is deprecated and will raise a TypeError in the future. Use float(ser.iloc[0]) instead\n",
      "  close_price    = float(df.iloc[1][\"Close\"])\n",
      "C:\\Users\\diego\\AppData\\Local\\Temp\\ipykernel_50852\\430125842.py:15: FutureWarning: Calling float on a single element Series is deprecated and will raise a TypeError in the future. Use float(ser.iloc[0]) instead\n",
      "  previous_open  = float(df.iloc[0][\"Open\"])\n",
      "C:\\Users\\diego\\AppData\\Local\\Temp\\ipykernel_50852\\430125842.py:16: FutureWarning: Calling float on a single element Series is deprecated and will raise a TypeError in the future. Use float(ser.iloc[0]) instead\n",
      "  previous_close = float(df.iloc[0][\"Close\"])\n"
     ]
    },
    {
     "name": "stdout",
     "output_type": "stream",
     "text": [
      "Fetching data for NXPI...\n"
     ]
    },
    {
     "name": "stderr",
     "output_type": "stream",
     "text": [
      "[*********************100%***********************]  1 of 1 completed\n",
      "C:\\Users\\diego\\AppData\\Local\\Temp\\ipykernel_50852\\430125842.py:13: FutureWarning: Calling float on a single element Series is deprecated and will raise a TypeError in the future. Use float(ser.iloc[0]) instead\n",
      "  open_price     = float(df.iloc[1][\"Open\"])\n",
      "C:\\Users\\diego\\AppData\\Local\\Temp\\ipykernel_50852\\430125842.py:14: FutureWarning: Calling float on a single element Series is deprecated and will raise a TypeError in the future. Use float(ser.iloc[0]) instead\n",
      "  close_price    = float(df.iloc[1][\"Close\"])\n",
      "C:\\Users\\diego\\AppData\\Local\\Temp\\ipykernel_50852\\430125842.py:15: FutureWarning: Calling float on a single element Series is deprecated and will raise a TypeError in the future. Use float(ser.iloc[0]) instead\n",
      "  previous_open  = float(df.iloc[0][\"Open\"])\n",
      "C:\\Users\\diego\\AppData\\Local\\Temp\\ipykernel_50852\\430125842.py:16: FutureWarning: Calling float on a single element Series is deprecated and will raise a TypeError in the future. Use float(ser.iloc[0]) instead\n",
      "  previous_close = float(df.iloc[0][\"Close\"])\n"
     ]
    },
    {
     "name": "stdout",
     "output_type": "stream",
     "text": [
      "Fetching data for ORLY...\n"
     ]
    },
    {
     "name": "stderr",
     "output_type": "stream",
     "text": [
      "[*********************100%***********************]  1 of 1 completed\n",
      "C:\\Users\\diego\\AppData\\Local\\Temp\\ipykernel_50852\\430125842.py:13: FutureWarning: Calling float on a single element Series is deprecated and will raise a TypeError in the future. Use float(ser.iloc[0]) instead\n",
      "  open_price     = float(df.iloc[1][\"Open\"])\n",
      "C:\\Users\\diego\\AppData\\Local\\Temp\\ipykernel_50852\\430125842.py:14: FutureWarning: Calling float on a single element Series is deprecated and will raise a TypeError in the future. Use float(ser.iloc[0]) instead\n",
      "  close_price    = float(df.iloc[1][\"Close\"])\n",
      "C:\\Users\\diego\\AppData\\Local\\Temp\\ipykernel_50852\\430125842.py:15: FutureWarning: Calling float on a single element Series is deprecated and will raise a TypeError in the future. Use float(ser.iloc[0]) instead\n",
      "  previous_open  = float(df.iloc[0][\"Open\"])\n",
      "C:\\Users\\diego\\AppData\\Local\\Temp\\ipykernel_50852\\430125842.py:16: FutureWarning: Calling float on a single element Series is deprecated and will raise a TypeError in the future. Use float(ser.iloc[0]) instead\n",
      "  previous_close = float(df.iloc[0][\"Close\"])\n"
     ]
    },
    {
     "name": "stdout",
     "output_type": "stream",
     "text": [
      "Fetching data for OXY...\n"
     ]
    },
    {
     "name": "stderr",
     "output_type": "stream",
     "text": [
      "[*********************100%***********************]  1 of 1 completed\n",
      "C:\\Users\\diego\\AppData\\Local\\Temp\\ipykernel_50852\\430125842.py:13: FutureWarning: Calling float on a single element Series is deprecated and will raise a TypeError in the future. Use float(ser.iloc[0]) instead\n",
      "  open_price     = float(df.iloc[1][\"Open\"])\n",
      "C:\\Users\\diego\\AppData\\Local\\Temp\\ipykernel_50852\\430125842.py:14: FutureWarning: Calling float on a single element Series is deprecated and will raise a TypeError in the future. Use float(ser.iloc[0]) instead\n",
      "  close_price    = float(df.iloc[1][\"Close\"])\n",
      "C:\\Users\\diego\\AppData\\Local\\Temp\\ipykernel_50852\\430125842.py:15: FutureWarning: Calling float on a single element Series is deprecated and will raise a TypeError in the future. Use float(ser.iloc[0]) instead\n",
      "  previous_open  = float(df.iloc[0][\"Open\"])\n",
      "C:\\Users\\diego\\AppData\\Local\\Temp\\ipykernel_50852\\430125842.py:16: FutureWarning: Calling float on a single element Series is deprecated and will raise a TypeError in the future. Use float(ser.iloc[0]) instead\n",
      "  previous_close = float(df.iloc[0][\"Close\"])\n"
     ]
    },
    {
     "name": "stdout",
     "output_type": "stream",
     "text": [
      "Fetching data for ODFL...\n"
     ]
    },
    {
     "name": "stderr",
     "output_type": "stream",
     "text": [
      "[*********************100%***********************]  1 of 1 completed\n",
      "C:\\Users\\diego\\AppData\\Local\\Temp\\ipykernel_50852\\430125842.py:13: FutureWarning: Calling float on a single element Series is deprecated and will raise a TypeError in the future. Use float(ser.iloc[0]) instead\n",
      "  open_price     = float(df.iloc[1][\"Open\"])\n",
      "C:\\Users\\diego\\AppData\\Local\\Temp\\ipykernel_50852\\430125842.py:14: FutureWarning: Calling float on a single element Series is deprecated and will raise a TypeError in the future. Use float(ser.iloc[0]) instead\n",
      "  close_price    = float(df.iloc[1][\"Close\"])\n",
      "C:\\Users\\diego\\AppData\\Local\\Temp\\ipykernel_50852\\430125842.py:15: FutureWarning: Calling float on a single element Series is deprecated and will raise a TypeError in the future. Use float(ser.iloc[0]) instead\n",
      "  previous_open  = float(df.iloc[0][\"Open\"])\n",
      "C:\\Users\\diego\\AppData\\Local\\Temp\\ipykernel_50852\\430125842.py:16: FutureWarning: Calling float on a single element Series is deprecated and will raise a TypeError in the future. Use float(ser.iloc[0]) instead\n",
      "  previous_close = float(df.iloc[0][\"Close\"])\n"
     ]
    },
    {
     "name": "stdout",
     "output_type": "stream",
     "text": [
      "Fetching data for OMC...\n"
     ]
    },
    {
     "name": "stderr",
     "output_type": "stream",
     "text": [
      "[*********************100%***********************]  1 of 1 completed\n",
      "C:\\Users\\diego\\AppData\\Local\\Temp\\ipykernel_50852\\430125842.py:13: FutureWarning: Calling float on a single element Series is deprecated and will raise a TypeError in the future. Use float(ser.iloc[0]) instead\n",
      "  open_price     = float(df.iloc[1][\"Open\"])\n",
      "C:\\Users\\diego\\AppData\\Local\\Temp\\ipykernel_50852\\430125842.py:14: FutureWarning: Calling float on a single element Series is deprecated and will raise a TypeError in the future. Use float(ser.iloc[0]) instead\n",
      "  close_price    = float(df.iloc[1][\"Close\"])\n",
      "C:\\Users\\diego\\AppData\\Local\\Temp\\ipykernel_50852\\430125842.py:15: FutureWarning: Calling float on a single element Series is deprecated and will raise a TypeError in the future. Use float(ser.iloc[0]) instead\n",
      "  previous_open  = float(df.iloc[0][\"Open\"])\n",
      "C:\\Users\\diego\\AppData\\Local\\Temp\\ipykernel_50852\\430125842.py:16: FutureWarning: Calling float on a single element Series is deprecated and will raise a TypeError in the future. Use float(ser.iloc[0]) instead\n",
      "  previous_close = float(df.iloc[0][\"Close\"])\n"
     ]
    },
    {
     "name": "stdout",
     "output_type": "stream",
     "text": [
      "Fetching data for ON...\n"
     ]
    },
    {
     "name": "stderr",
     "output_type": "stream",
     "text": [
      "[*********************100%***********************]  1 of 1 completed\n",
      "C:\\Users\\diego\\AppData\\Local\\Temp\\ipykernel_50852\\430125842.py:13: FutureWarning: Calling float on a single element Series is deprecated and will raise a TypeError in the future. Use float(ser.iloc[0]) instead\n",
      "  open_price     = float(df.iloc[1][\"Open\"])\n",
      "C:\\Users\\diego\\AppData\\Local\\Temp\\ipykernel_50852\\430125842.py:14: FutureWarning: Calling float on a single element Series is deprecated and will raise a TypeError in the future. Use float(ser.iloc[0]) instead\n",
      "  close_price    = float(df.iloc[1][\"Close\"])\n",
      "C:\\Users\\diego\\AppData\\Local\\Temp\\ipykernel_50852\\430125842.py:15: FutureWarning: Calling float on a single element Series is deprecated and will raise a TypeError in the future. Use float(ser.iloc[0]) instead\n",
      "  previous_open  = float(df.iloc[0][\"Open\"])\n",
      "C:\\Users\\diego\\AppData\\Local\\Temp\\ipykernel_50852\\430125842.py:16: FutureWarning: Calling float on a single element Series is deprecated and will raise a TypeError in the future. Use float(ser.iloc[0]) instead\n",
      "  previous_close = float(df.iloc[0][\"Close\"])\n"
     ]
    },
    {
     "name": "stdout",
     "output_type": "stream",
     "text": [
      "Fetching data for OKE...\n"
     ]
    },
    {
     "name": "stderr",
     "output_type": "stream",
     "text": [
      "[*********************100%***********************]  1 of 1 completed\n",
      "C:\\Users\\diego\\AppData\\Local\\Temp\\ipykernel_50852\\430125842.py:13: FutureWarning: Calling float on a single element Series is deprecated and will raise a TypeError in the future. Use float(ser.iloc[0]) instead\n",
      "  open_price     = float(df.iloc[1][\"Open\"])\n",
      "C:\\Users\\diego\\AppData\\Local\\Temp\\ipykernel_50852\\430125842.py:14: FutureWarning: Calling float on a single element Series is deprecated and will raise a TypeError in the future. Use float(ser.iloc[0]) instead\n",
      "  close_price    = float(df.iloc[1][\"Close\"])\n",
      "C:\\Users\\diego\\AppData\\Local\\Temp\\ipykernel_50852\\430125842.py:15: FutureWarning: Calling float on a single element Series is deprecated and will raise a TypeError in the future. Use float(ser.iloc[0]) instead\n",
      "  previous_open  = float(df.iloc[0][\"Open\"])\n",
      "C:\\Users\\diego\\AppData\\Local\\Temp\\ipykernel_50852\\430125842.py:16: FutureWarning: Calling float on a single element Series is deprecated and will raise a TypeError in the future. Use float(ser.iloc[0]) instead\n",
      "  previous_close = float(df.iloc[0][\"Close\"])\n"
     ]
    },
    {
     "name": "stdout",
     "output_type": "stream",
     "text": [
      "Fetching data for ORCL...\n"
     ]
    },
    {
     "name": "stderr",
     "output_type": "stream",
     "text": [
      "[*********************100%***********************]  1 of 1 completed\n",
      "C:\\Users\\diego\\AppData\\Local\\Temp\\ipykernel_50852\\430125842.py:13: FutureWarning: Calling float on a single element Series is deprecated and will raise a TypeError in the future. Use float(ser.iloc[0]) instead\n",
      "  open_price     = float(df.iloc[1][\"Open\"])\n",
      "C:\\Users\\diego\\AppData\\Local\\Temp\\ipykernel_50852\\430125842.py:14: FutureWarning: Calling float on a single element Series is deprecated and will raise a TypeError in the future. Use float(ser.iloc[0]) instead\n",
      "  close_price    = float(df.iloc[1][\"Close\"])\n",
      "C:\\Users\\diego\\AppData\\Local\\Temp\\ipykernel_50852\\430125842.py:15: FutureWarning: Calling float on a single element Series is deprecated and will raise a TypeError in the future. Use float(ser.iloc[0]) instead\n",
      "  previous_open  = float(df.iloc[0][\"Open\"])\n",
      "C:\\Users\\diego\\AppData\\Local\\Temp\\ipykernel_50852\\430125842.py:16: FutureWarning: Calling float on a single element Series is deprecated and will raise a TypeError in the future. Use float(ser.iloc[0]) instead\n",
      "  previous_close = float(df.iloc[0][\"Close\"])\n"
     ]
    },
    {
     "name": "stdout",
     "output_type": "stream",
     "text": [
      "Fetching data for OTIS...\n"
     ]
    },
    {
     "name": "stderr",
     "output_type": "stream",
     "text": [
      "[*********************100%***********************]  1 of 1 completed\n",
      "C:\\Users\\diego\\AppData\\Local\\Temp\\ipykernel_50852\\430125842.py:13: FutureWarning: Calling float on a single element Series is deprecated and will raise a TypeError in the future. Use float(ser.iloc[0]) instead\n",
      "  open_price     = float(df.iloc[1][\"Open\"])\n",
      "C:\\Users\\diego\\AppData\\Local\\Temp\\ipykernel_50852\\430125842.py:14: FutureWarning: Calling float on a single element Series is deprecated and will raise a TypeError in the future. Use float(ser.iloc[0]) instead\n",
      "  close_price    = float(df.iloc[1][\"Close\"])\n",
      "C:\\Users\\diego\\AppData\\Local\\Temp\\ipykernel_50852\\430125842.py:15: FutureWarning: Calling float on a single element Series is deprecated and will raise a TypeError in the future. Use float(ser.iloc[0]) instead\n",
      "  previous_open  = float(df.iloc[0][\"Open\"])\n",
      "C:\\Users\\diego\\AppData\\Local\\Temp\\ipykernel_50852\\430125842.py:16: FutureWarning: Calling float on a single element Series is deprecated and will raise a TypeError in the future. Use float(ser.iloc[0]) instead\n",
      "  previous_close = float(df.iloc[0][\"Close\"])\n"
     ]
    },
    {
     "name": "stdout",
     "output_type": "stream",
     "text": [
      "Fetching data for PCAR...\n"
     ]
    },
    {
     "name": "stderr",
     "output_type": "stream",
     "text": [
      "[*********************100%***********************]  1 of 1 completed\n",
      "C:\\Users\\diego\\AppData\\Local\\Temp\\ipykernel_50852\\430125842.py:13: FutureWarning: Calling float on a single element Series is deprecated and will raise a TypeError in the future. Use float(ser.iloc[0]) instead\n",
      "  open_price     = float(df.iloc[1][\"Open\"])\n",
      "C:\\Users\\diego\\AppData\\Local\\Temp\\ipykernel_50852\\430125842.py:14: FutureWarning: Calling float on a single element Series is deprecated and will raise a TypeError in the future. Use float(ser.iloc[0]) instead\n",
      "  close_price    = float(df.iloc[1][\"Close\"])\n",
      "C:\\Users\\diego\\AppData\\Local\\Temp\\ipykernel_50852\\430125842.py:15: FutureWarning: Calling float on a single element Series is deprecated and will raise a TypeError in the future. Use float(ser.iloc[0]) instead\n",
      "  previous_open  = float(df.iloc[0][\"Open\"])\n",
      "C:\\Users\\diego\\AppData\\Local\\Temp\\ipykernel_50852\\430125842.py:16: FutureWarning: Calling float on a single element Series is deprecated and will raise a TypeError in the future. Use float(ser.iloc[0]) instead\n",
      "  previous_close = float(df.iloc[0][\"Close\"])\n"
     ]
    },
    {
     "name": "stdout",
     "output_type": "stream",
     "text": [
      "Fetching data for PKG...\n"
     ]
    },
    {
     "name": "stderr",
     "output_type": "stream",
     "text": [
      "[*********************100%***********************]  1 of 1 completed\n",
      "C:\\Users\\diego\\AppData\\Local\\Temp\\ipykernel_50852\\430125842.py:13: FutureWarning: Calling float on a single element Series is deprecated and will raise a TypeError in the future. Use float(ser.iloc[0]) instead\n",
      "  open_price     = float(df.iloc[1][\"Open\"])\n",
      "C:\\Users\\diego\\AppData\\Local\\Temp\\ipykernel_50852\\430125842.py:14: FutureWarning: Calling float on a single element Series is deprecated and will raise a TypeError in the future. Use float(ser.iloc[0]) instead\n",
      "  close_price    = float(df.iloc[1][\"Close\"])\n",
      "C:\\Users\\diego\\AppData\\Local\\Temp\\ipykernel_50852\\430125842.py:15: FutureWarning: Calling float on a single element Series is deprecated and will raise a TypeError in the future. Use float(ser.iloc[0]) instead\n",
      "  previous_open  = float(df.iloc[0][\"Open\"])\n",
      "C:\\Users\\diego\\AppData\\Local\\Temp\\ipykernel_50852\\430125842.py:16: FutureWarning: Calling float on a single element Series is deprecated and will raise a TypeError in the future. Use float(ser.iloc[0]) instead\n",
      "  previous_close = float(df.iloc[0][\"Close\"])\n"
     ]
    },
    {
     "name": "stdout",
     "output_type": "stream",
     "text": [
      "Fetching data for PLTR...\n"
     ]
    },
    {
     "name": "stderr",
     "output_type": "stream",
     "text": [
      "[*********************100%***********************]  1 of 1 completed\n",
      "C:\\Users\\diego\\AppData\\Local\\Temp\\ipykernel_50852\\430125842.py:13: FutureWarning: Calling float on a single element Series is deprecated and will raise a TypeError in the future. Use float(ser.iloc[0]) instead\n",
      "  open_price     = float(df.iloc[1][\"Open\"])\n",
      "C:\\Users\\diego\\AppData\\Local\\Temp\\ipykernel_50852\\430125842.py:14: FutureWarning: Calling float on a single element Series is deprecated and will raise a TypeError in the future. Use float(ser.iloc[0]) instead\n",
      "  close_price    = float(df.iloc[1][\"Close\"])\n",
      "C:\\Users\\diego\\AppData\\Local\\Temp\\ipykernel_50852\\430125842.py:15: FutureWarning: Calling float on a single element Series is deprecated and will raise a TypeError in the future. Use float(ser.iloc[0]) instead\n",
      "  previous_open  = float(df.iloc[0][\"Open\"])\n",
      "C:\\Users\\diego\\AppData\\Local\\Temp\\ipykernel_50852\\430125842.py:16: FutureWarning: Calling float on a single element Series is deprecated and will raise a TypeError in the future. Use float(ser.iloc[0]) instead\n",
      "  previous_close = float(df.iloc[0][\"Close\"])\n"
     ]
    },
    {
     "name": "stdout",
     "output_type": "stream",
     "text": [
      "Fetching data for PANW...\n"
     ]
    },
    {
     "name": "stderr",
     "output_type": "stream",
     "text": [
      "[*********************100%***********************]  1 of 1 completed\n",
      "C:\\Users\\diego\\AppData\\Local\\Temp\\ipykernel_50852\\430125842.py:13: FutureWarning: Calling float on a single element Series is deprecated and will raise a TypeError in the future. Use float(ser.iloc[0]) instead\n",
      "  open_price     = float(df.iloc[1][\"Open\"])\n",
      "C:\\Users\\diego\\AppData\\Local\\Temp\\ipykernel_50852\\430125842.py:14: FutureWarning: Calling float on a single element Series is deprecated and will raise a TypeError in the future. Use float(ser.iloc[0]) instead\n",
      "  close_price    = float(df.iloc[1][\"Close\"])\n",
      "C:\\Users\\diego\\AppData\\Local\\Temp\\ipykernel_50852\\430125842.py:15: FutureWarning: Calling float on a single element Series is deprecated and will raise a TypeError in the future. Use float(ser.iloc[0]) instead\n",
      "  previous_open  = float(df.iloc[0][\"Open\"])\n",
      "C:\\Users\\diego\\AppData\\Local\\Temp\\ipykernel_50852\\430125842.py:16: FutureWarning: Calling float on a single element Series is deprecated and will raise a TypeError in the future. Use float(ser.iloc[0]) instead\n",
      "  previous_close = float(df.iloc[0][\"Close\"])\n"
     ]
    },
    {
     "name": "stdout",
     "output_type": "stream",
     "text": [
      "Fetching data for PARA...\n"
     ]
    },
    {
     "name": "stderr",
     "output_type": "stream",
     "text": [
      "[*********************100%***********************]  1 of 1 completed\n",
      "C:\\Users\\diego\\AppData\\Local\\Temp\\ipykernel_50852\\430125842.py:13: FutureWarning: Calling float on a single element Series is deprecated and will raise a TypeError in the future. Use float(ser.iloc[0]) instead\n",
      "  open_price     = float(df.iloc[1][\"Open\"])\n",
      "C:\\Users\\diego\\AppData\\Local\\Temp\\ipykernel_50852\\430125842.py:14: FutureWarning: Calling float on a single element Series is deprecated and will raise a TypeError in the future. Use float(ser.iloc[0]) instead\n",
      "  close_price    = float(df.iloc[1][\"Close\"])\n",
      "C:\\Users\\diego\\AppData\\Local\\Temp\\ipykernel_50852\\430125842.py:15: FutureWarning: Calling float on a single element Series is deprecated and will raise a TypeError in the future. Use float(ser.iloc[0]) instead\n",
      "  previous_open  = float(df.iloc[0][\"Open\"])\n",
      "C:\\Users\\diego\\AppData\\Local\\Temp\\ipykernel_50852\\430125842.py:16: FutureWarning: Calling float on a single element Series is deprecated and will raise a TypeError in the future. Use float(ser.iloc[0]) instead\n",
      "  previous_close = float(df.iloc[0][\"Close\"])\n"
     ]
    },
    {
     "name": "stdout",
     "output_type": "stream",
     "text": [
      "Fetching data for PH...\n"
     ]
    },
    {
     "name": "stderr",
     "output_type": "stream",
     "text": [
      "[*********************100%***********************]  1 of 1 completed\n",
      "C:\\Users\\diego\\AppData\\Local\\Temp\\ipykernel_50852\\430125842.py:13: FutureWarning: Calling float on a single element Series is deprecated and will raise a TypeError in the future. Use float(ser.iloc[0]) instead\n",
      "  open_price     = float(df.iloc[1][\"Open\"])\n",
      "C:\\Users\\diego\\AppData\\Local\\Temp\\ipykernel_50852\\430125842.py:14: FutureWarning: Calling float on a single element Series is deprecated and will raise a TypeError in the future. Use float(ser.iloc[0]) instead\n",
      "  close_price    = float(df.iloc[1][\"Close\"])\n",
      "C:\\Users\\diego\\AppData\\Local\\Temp\\ipykernel_50852\\430125842.py:15: FutureWarning: Calling float on a single element Series is deprecated and will raise a TypeError in the future. Use float(ser.iloc[0]) instead\n",
      "  previous_open  = float(df.iloc[0][\"Open\"])\n",
      "C:\\Users\\diego\\AppData\\Local\\Temp\\ipykernel_50852\\430125842.py:16: FutureWarning: Calling float on a single element Series is deprecated and will raise a TypeError in the future. Use float(ser.iloc[0]) instead\n",
      "  previous_close = float(df.iloc[0][\"Close\"])\n"
     ]
    },
    {
     "name": "stdout",
     "output_type": "stream",
     "text": [
      "Fetching data for PAYX...\n"
     ]
    },
    {
     "name": "stderr",
     "output_type": "stream",
     "text": [
      "[*********************100%***********************]  1 of 1 completed\n",
      "C:\\Users\\diego\\AppData\\Local\\Temp\\ipykernel_50852\\430125842.py:13: FutureWarning: Calling float on a single element Series is deprecated and will raise a TypeError in the future. Use float(ser.iloc[0]) instead\n",
      "  open_price     = float(df.iloc[1][\"Open\"])\n",
      "C:\\Users\\diego\\AppData\\Local\\Temp\\ipykernel_50852\\430125842.py:14: FutureWarning: Calling float on a single element Series is deprecated and will raise a TypeError in the future. Use float(ser.iloc[0]) instead\n",
      "  close_price    = float(df.iloc[1][\"Close\"])\n",
      "C:\\Users\\diego\\AppData\\Local\\Temp\\ipykernel_50852\\430125842.py:15: FutureWarning: Calling float on a single element Series is deprecated and will raise a TypeError in the future. Use float(ser.iloc[0]) instead\n",
      "  previous_open  = float(df.iloc[0][\"Open\"])\n",
      "C:\\Users\\diego\\AppData\\Local\\Temp\\ipykernel_50852\\430125842.py:16: FutureWarning: Calling float on a single element Series is deprecated and will raise a TypeError in the future. Use float(ser.iloc[0]) instead\n",
      "  previous_close = float(df.iloc[0][\"Close\"])\n"
     ]
    },
    {
     "name": "stdout",
     "output_type": "stream",
     "text": [
      "Fetching data for PAYC...\n"
     ]
    },
    {
     "name": "stderr",
     "output_type": "stream",
     "text": [
      "[*********************100%***********************]  1 of 1 completed\n",
      "C:\\Users\\diego\\AppData\\Local\\Temp\\ipykernel_50852\\430125842.py:13: FutureWarning: Calling float on a single element Series is deprecated and will raise a TypeError in the future. Use float(ser.iloc[0]) instead\n",
      "  open_price     = float(df.iloc[1][\"Open\"])\n",
      "C:\\Users\\diego\\AppData\\Local\\Temp\\ipykernel_50852\\430125842.py:14: FutureWarning: Calling float on a single element Series is deprecated and will raise a TypeError in the future. Use float(ser.iloc[0]) instead\n",
      "  close_price    = float(df.iloc[1][\"Close\"])\n",
      "C:\\Users\\diego\\AppData\\Local\\Temp\\ipykernel_50852\\430125842.py:15: FutureWarning: Calling float on a single element Series is deprecated and will raise a TypeError in the future. Use float(ser.iloc[0]) instead\n",
      "  previous_open  = float(df.iloc[0][\"Open\"])\n",
      "C:\\Users\\diego\\AppData\\Local\\Temp\\ipykernel_50852\\430125842.py:16: FutureWarning: Calling float on a single element Series is deprecated and will raise a TypeError in the future. Use float(ser.iloc[0]) instead\n",
      "  previous_close = float(df.iloc[0][\"Close\"])\n"
     ]
    },
    {
     "name": "stdout",
     "output_type": "stream",
     "text": [
      "Fetching data for PYPL...\n"
     ]
    },
    {
     "name": "stderr",
     "output_type": "stream",
     "text": [
      "[*********************100%***********************]  1 of 1 completed\n",
      "C:\\Users\\diego\\AppData\\Local\\Temp\\ipykernel_50852\\430125842.py:13: FutureWarning: Calling float on a single element Series is deprecated and will raise a TypeError in the future. Use float(ser.iloc[0]) instead\n",
      "  open_price     = float(df.iloc[1][\"Open\"])\n",
      "C:\\Users\\diego\\AppData\\Local\\Temp\\ipykernel_50852\\430125842.py:14: FutureWarning: Calling float on a single element Series is deprecated and will raise a TypeError in the future. Use float(ser.iloc[0]) instead\n",
      "  close_price    = float(df.iloc[1][\"Close\"])\n",
      "C:\\Users\\diego\\AppData\\Local\\Temp\\ipykernel_50852\\430125842.py:15: FutureWarning: Calling float on a single element Series is deprecated and will raise a TypeError in the future. Use float(ser.iloc[0]) instead\n",
      "  previous_open  = float(df.iloc[0][\"Open\"])\n",
      "C:\\Users\\diego\\AppData\\Local\\Temp\\ipykernel_50852\\430125842.py:16: FutureWarning: Calling float on a single element Series is deprecated and will raise a TypeError in the future. Use float(ser.iloc[0]) instead\n",
      "  previous_close = float(df.iloc[0][\"Close\"])\n"
     ]
    },
    {
     "name": "stdout",
     "output_type": "stream",
     "text": [
      "Fetching data for PNR...\n"
     ]
    },
    {
     "name": "stderr",
     "output_type": "stream",
     "text": [
      "[*********************100%***********************]  1 of 1 completed\n",
      "C:\\Users\\diego\\AppData\\Local\\Temp\\ipykernel_50852\\430125842.py:13: FutureWarning: Calling float on a single element Series is deprecated and will raise a TypeError in the future. Use float(ser.iloc[0]) instead\n",
      "  open_price     = float(df.iloc[1][\"Open\"])\n",
      "C:\\Users\\diego\\AppData\\Local\\Temp\\ipykernel_50852\\430125842.py:14: FutureWarning: Calling float on a single element Series is deprecated and will raise a TypeError in the future. Use float(ser.iloc[0]) instead\n",
      "  close_price    = float(df.iloc[1][\"Close\"])\n",
      "C:\\Users\\diego\\AppData\\Local\\Temp\\ipykernel_50852\\430125842.py:15: FutureWarning: Calling float on a single element Series is deprecated and will raise a TypeError in the future. Use float(ser.iloc[0]) instead\n",
      "  previous_open  = float(df.iloc[0][\"Open\"])\n",
      "C:\\Users\\diego\\AppData\\Local\\Temp\\ipykernel_50852\\430125842.py:16: FutureWarning: Calling float on a single element Series is deprecated and will raise a TypeError in the future. Use float(ser.iloc[0]) instead\n",
      "  previous_close = float(df.iloc[0][\"Close\"])\n"
     ]
    },
    {
     "name": "stdout",
     "output_type": "stream",
     "text": [
      "Fetching data for PEP...\n"
     ]
    },
    {
     "name": "stderr",
     "output_type": "stream",
     "text": [
      "[*********************100%***********************]  1 of 1 completed\n",
      "C:\\Users\\diego\\AppData\\Local\\Temp\\ipykernel_50852\\430125842.py:13: FutureWarning: Calling float on a single element Series is deprecated and will raise a TypeError in the future. Use float(ser.iloc[0]) instead\n",
      "  open_price     = float(df.iloc[1][\"Open\"])\n",
      "C:\\Users\\diego\\AppData\\Local\\Temp\\ipykernel_50852\\430125842.py:14: FutureWarning: Calling float on a single element Series is deprecated and will raise a TypeError in the future. Use float(ser.iloc[0]) instead\n",
      "  close_price    = float(df.iloc[1][\"Close\"])\n",
      "C:\\Users\\diego\\AppData\\Local\\Temp\\ipykernel_50852\\430125842.py:15: FutureWarning: Calling float on a single element Series is deprecated and will raise a TypeError in the future. Use float(ser.iloc[0]) instead\n",
      "  previous_open  = float(df.iloc[0][\"Open\"])\n",
      "C:\\Users\\diego\\AppData\\Local\\Temp\\ipykernel_50852\\430125842.py:16: FutureWarning: Calling float on a single element Series is deprecated and will raise a TypeError in the future. Use float(ser.iloc[0]) instead\n",
      "  previous_close = float(df.iloc[0][\"Close\"])\n"
     ]
    },
    {
     "name": "stdout",
     "output_type": "stream",
     "text": [
      "Fetching data for PFE...\n"
     ]
    },
    {
     "name": "stderr",
     "output_type": "stream",
     "text": [
      "[*********************100%***********************]  1 of 1 completed\n",
      "C:\\Users\\diego\\AppData\\Local\\Temp\\ipykernel_50852\\430125842.py:13: FutureWarning: Calling float on a single element Series is deprecated and will raise a TypeError in the future. Use float(ser.iloc[0]) instead\n",
      "  open_price     = float(df.iloc[1][\"Open\"])\n",
      "C:\\Users\\diego\\AppData\\Local\\Temp\\ipykernel_50852\\430125842.py:14: FutureWarning: Calling float on a single element Series is deprecated and will raise a TypeError in the future. Use float(ser.iloc[0]) instead\n",
      "  close_price    = float(df.iloc[1][\"Close\"])\n",
      "C:\\Users\\diego\\AppData\\Local\\Temp\\ipykernel_50852\\430125842.py:15: FutureWarning: Calling float on a single element Series is deprecated and will raise a TypeError in the future. Use float(ser.iloc[0]) instead\n",
      "  previous_open  = float(df.iloc[0][\"Open\"])\n",
      "C:\\Users\\diego\\AppData\\Local\\Temp\\ipykernel_50852\\430125842.py:16: FutureWarning: Calling float on a single element Series is deprecated and will raise a TypeError in the future. Use float(ser.iloc[0]) instead\n",
      "  previous_close = float(df.iloc[0][\"Close\"])\n"
     ]
    },
    {
     "name": "stdout",
     "output_type": "stream",
     "text": [
      "Fetching data for PCG...\n"
     ]
    },
    {
     "name": "stderr",
     "output_type": "stream",
     "text": [
      "[*********************100%***********************]  1 of 1 completed\n",
      "C:\\Users\\diego\\AppData\\Local\\Temp\\ipykernel_50852\\430125842.py:13: FutureWarning: Calling float on a single element Series is deprecated and will raise a TypeError in the future. Use float(ser.iloc[0]) instead\n",
      "  open_price     = float(df.iloc[1][\"Open\"])\n",
      "C:\\Users\\diego\\AppData\\Local\\Temp\\ipykernel_50852\\430125842.py:14: FutureWarning: Calling float on a single element Series is deprecated and will raise a TypeError in the future. Use float(ser.iloc[0]) instead\n",
      "  close_price    = float(df.iloc[1][\"Close\"])\n",
      "C:\\Users\\diego\\AppData\\Local\\Temp\\ipykernel_50852\\430125842.py:15: FutureWarning: Calling float on a single element Series is deprecated and will raise a TypeError in the future. Use float(ser.iloc[0]) instead\n",
      "  previous_open  = float(df.iloc[0][\"Open\"])\n",
      "C:\\Users\\diego\\AppData\\Local\\Temp\\ipykernel_50852\\430125842.py:16: FutureWarning: Calling float on a single element Series is deprecated and will raise a TypeError in the future. Use float(ser.iloc[0]) instead\n",
      "  previous_close = float(df.iloc[0][\"Close\"])\n"
     ]
    },
    {
     "name": "stdout",
     "output_type": "stream",
     "text": [
      "Fetching data for PM...\n"
     ]
    },
    {
     "name": "stderr",
     "output_type": "stream",
     "text": [
      "[*********************100%***********************]  1 of 1 completed\n",
      "C:\\Users\\diego\\AppData\\Local\\Temp\\ipykernel_50852\\430125842.py:13: FutureWarning: Calling float on a single element Series is deprecated and will raise a TypeError in the future. Use float(ser.iloc[0]) instead\n",
      "  open_price     = float(df.iloc[1][\"Open\"])\n",
      "C:\\Users\\diego\\AppData\\Local\\Temp\\ipykernel_50852\\430125842.py:14: FutureWarning: Calling float on a single element Series is deprecated and will raise a TypeError in the future. Use float(ser.iloc[0]) instead\n",
      "  close_price    = float(df.iloc[1][\"Close\"])\n",
      "C:\\Users\\diego\\AppData\\Local\\Temp\\ipykernel_50852\\430125842.py:15: FutureWarning: Calling float on a single element Series is deprecated and will raise a TypeError in the future. Use float(ser.iloc[0]) instead\n",
      "  previous_open  = float(df.iloc[0][\"Open\"])\n",
      "C:\\Users\\diego\\AppData\\Local\\Temp\\ipykernel_50852\\430125842.py:16: FutureWarning: Calling float on a single element Series is deprecated and will raise a TypeError in the future. Use float(ser.iloc[0]) instead\n",
      "  previous_close = float(df.iloc[0][\"Close\"])\n"
     ]
    },
    {
     "name": "stdout",
     "output_type": "stream",
     "text": [
      "Fetching data for PSX...\n"
     ]
    },
    {
     "name": "stderr",
     "output_type": "stream",
     "text": [
      "[*********************100%***********************]  1 of 1 completed\n",
      "C:\\Users\\diego\\AppData\\Local\\Temp\\ipykernel_50852\\430125842.py:13: FutureWarning: Calling float on a single element Series is deprecated and will raise a TypeError in the future. Use float(ser.iloc[0]) instead\n",
      "  open_price     = float(df.iloc[1][\"Open\"])\n",
      "C:\\Users\\diego\\AppData\\Local\\Temp\\ipykernel_50852\\430125842.py:14: FutureWarning: Calling float on a single element Series is deprecated and will raise a TypeError in the future. Use float(ser.iloc[0]) instead\n",
      "  close_price    = float(df.iloc[1][\"Close\"])\n",
      "C:\\Users\\diego\\AppData\\Local\\Temp\\ipykernel_50852\\430125842.py:15: FutureWarning: Calling float on a single element Series is deprecated and will raise a TypeError in the future. Use float(ser.iloc[0]) instead\n",
      "  previous_open  = float(df.iloc[0][\"Open\"])\n",
      "C:\\Users\\diego\\AppData\\Local\\Temp\\ipykernel_50852\\430125842.py:16: FutureWarning: Calling float on a single element Series is deprecated and will raise a TypeError in the future. Use float(ser.iloc[0]) instead\n",
      "  previous_close = float(df.iloc[0][\"Close\"])\n"
     ]
    },
    {
     "name": "stdout",
     "output_type": "stream",
     "text": [
      "Fetching data for PNW...\n"
     ]
    },
    {
     "name": "stderr",
     "output_type": "stream",
     "text": [
      "[*********************100%***********************]  1 of 1 completed\n",
      "C:\\Users\\diego\\AppData\\Local\\Temp\\ipykernel_50852\\430125842.py:13: FutureWarning: Calling float on a single element Series is deprecated and will raise a TypeError in the future. Use float(ser.iloc[0]) instead\n",
      "  open_price     = float(df.iloc[1][\"Open\"])\n",
      "C:\\Users\\diego\\AppData\\Local\\Temp\\ipykernel_50852\\430125842.py:14: FutureWarning: Calling float on a single element Series is deprecated and will raise a TypeError in the future. Use float(ser.iloc[0]) instead\n",
      "  close_price    = float(df.iloc[1][\"Close\"])\n",
      "C:\\Users\\diego\\AppData\\Local\\Temp\\ipykernel_50852\\430125842.py:15: FutureWarning: Calling float on a single element Series is deprecated and will raise a TypeError in the future. Use float(ser.iloc[0]) instead\n",
      "  previous_open  = float(df.iloc[0][\"Open\"])\n",
      "C:\\Users\\diego\\AppData\\Local\\Temp\\ipykernel_50852\\430125842.py:16: FutureWarning: Calling float on a single element Series is deprecated and will raise a TypeError in the future. Use float(ser.iloc[0]) instead\n",
      "  previous_close = float(df.iloc[0][\"Close\"])\n"
     ]
    },
    {
     "name": "stdout",
     "output_type": "stream",
     "text": [
      "Fetching data for PNC...\n"
     ]
    },
    {
     "name": "stderr",
     "output_type": "stream",
     "text": [
      "[*********************100%***********************]  1 of 1 completed\n",
      "C:\\Users\\diego\\AppData\\Local\\Temp\\ipykernel_50852\\430125842.py:13: FutureWarning: Calling float on a single element Series is deprecated and will raise a TypeError in the future. Use float(ser.iloc[0]) instead\n",
      "  open_price     = float(df.iloc[1][\"Open\"])\n",
      "C:\\Users\\diego\\AppData\\Local\\Temp\\ipykernel_50852\\430125842.py:14: FutureWarning: Calling float on a single element Series is deprecated and will raise a TypeError in the future. Use float(ser.iloc[0]) instead\n",
      "  close_price    = float(df.iloc[1][\"Close\"])\n",
      "C:\\Users\\diego\\AppData\\Local\\Temp\\ipykernel_50852\\430125842.py:15: FutureWarning: Calling float on a single element Series is deprecated and will raise a TypeError in the future. Use float(ser.iloc[0]) instead\n",
      "  previous_open  = float(df.iloc[0][\"Open\"])\n",
      "C:\\Users\\diego\\AppData\\Local\\Temp\\ipykernel_50852\\430125842.py:16: FutureWarning: Calling float on a single element Series is deprecated and will raise a TypeError in the future. Use float(ser.iloc[0]) instead\n",
      "  previous_close = float(df.iloc[0][\"Close\"])\n"
     ]
    },
    {
     "name": "stdout",
     "output_type": "stream",
     "text": [
      "Fetching data for POOL...\n"
     ]
    },
    {
     "name": "stderr",
     "output_type": "stream",
     "text": [
      "[*********************100%***********************]  1 of 1 completed\n",
      "C:\\Users\\diego\\AppData\\Local\\Temp\\ipykernel_50852\\430125842.py:13: FutureWarning: Calling float on a single element Series is deprecated and will raise a TypeError in the future. Use float(ser.iloc[0]) instead\n",
      "  open_price     = float(df.iloc[1][\"Open\"])\n",
      "C:\\Users\\diego\\AppData\\Local\\Temp\\ipykernel_50852\\430125842.py:14: FutureWarning: Calling float on a single element Series is deprecated and will raise a TypeError in the future. Use float(ser.iloc[0]) instead\n",
      "  close_price    = float(df.iloc[1][\"Close\"])\n",
      "C:\\Users\\diego\\AppData\\Local\\Temp\\ipykernel_50852\\430125842.py:15: FutureWarning: Calling float on a single element Series is deprecated and will raise a TypeError in the future. Use float(ser.iloc[0]) instead\n",
      "  previous_open  = float(df.iloc[0][\"Open\"])\n",
      "C:\\Users\\diego\\AppData\\Local\\Temp\\ipykernel_50852\\430125842.py:16: FutureWarning: Calling float on a single element Series is deprecated and will raise a TypeError in the future. Use float(ser.iloc[0]) instead\n",
      "  previous_close = float(df.iloc[0][\"Close\"])\n"
     ]
    },
    {
     "name": "stdout",
     "output_type": "stream",
     "text": [
      "Fetching data for PPG...\n"
     ]
    },
    {
     "name": "stderr",
     "output_type": "stream",
     "text": [
      "[*********************100%***********************]  1 of 1 completed\n",
      "C:\\Users\\diego\\AppData\\Local\\Temp\\ipykernel_50852\\430125842.py:13: FutureWarning: Calling float on a single element Series is deprecated and will raise a TypeError in the future. Use float(ser.iloc[0]) instead\n",
      "  open_price     = float(df.iloc[1][\"Open\"])\n",
      "C:\\Users\\diego\\AppData\\Local\\Temp\\ipykernel_50852\\430125842.py:14: FutureWarning: Calling float on a single element Series is deprecated and will raise a TypeError in the future. Use float(ser.iloc[0]) instead\n",
      "  close_price    = float(df.iloc[1][\"Close\"])\n",
      "C:\\Users\\diego\\AppData\\Local\\Temp\\ipykernel_50852\\430125842.py:15: FutureWarning: Calling float on a single element Series is deprecated and will raise a TypeError in the future. Use float(ser.iloc[0]) instead\n",
      "  previous_open  = float(df.iloc[0][\"Open\"])\n",
      "C:\\Users\\diego\\AppData\\Local\\Temp\\ipykernel_50852\\430125842.py:16: FutureWarning: Calling float on a single element Series is deprecated and will raise a TypeError in the future. Use float(ser.iloc[0]) instead\n",
      "  previous_close = float(df.iloc[0][\"Close\"])\n"
     ]
    },
    {
     "name": "stdout",
     "output_type": "stream",
     "text": [
      "Fetching data for PPL...\n"
     ]
    },
    {
     "name": "stderr",
     "output_type": "stream",
     "text": [
      "[*********************100%***********************]  1 of 1 completed\n",
      "C:\\Users\\diego\\AppData\\Local\\Temp\\ipykernel_50852\\430125842.py:13: FutureWarning: Calling float on a single element Series is deprecated and will raise a TypeError in the future. Use float(ser.iloc[0]) instead\n",
      "  open_price     = float(df.iloc[1][\"Open\"])\n",
      "C:\\Users\\diego\\AppData\\Local\\Temp\\ipykernel_50852\\430125842.py:14: FutureWarning: Calling float on a single element Series is deprecated and will raise a TypeError in the future. Use float(ser.iloc[0]) instead\n",
      "  close_price    = float(df.iloc[1][\"Close\"])\n",
      "C:\\Users\\diego\\AppData\\Local\\Temp\\ipykernel_50852\\430125842.py:15: FutureWarning: Calling float on a single element Series is deprecated and will raise a TypeError in the future. Use float(ser.iloc[0]) instead\n",
      "  previous_open  = float(df.iloc[0][\"Open\"])\n",
      "C:\\Users\\diego\\AppData\\Local\\Temp\\ipykernel_50852\\430125842.py:16: FutureWarning: Calling float on a single element Series is deprecated and will raise a TypeError in the future. Use float(ser.iloc[0]) instead\n",
      "  previous_close = float(df.iloc[0][\"Close\"])\n"
     ]
    },
    {
     "name": "stdout",
     "output_type": "stream",
     "text": [
      "Fetching data for PFG...\n"
     ]
    },
    {
     "name": "stderr",
     "output_type": "stream",
     "text": [
      "[*********************100%***********************]  1 of 1 completed\n",
      "C:\\Users\\diego\\AppData\\Local\\Temp\\ipykernel_50852\\430125842.py:13: FutureWarning: Calling float on a single element Series is deprecated and will raise a TypeError in the future. Use float(ser.iloc[0]) instead\n",
      "  open_price     = float(df.iloc[1][\"Open\"])\n",
      "C:\\Users\\diego\\AppData\\Local\\Temp\\ipykernel_50852\\430125842.py:14: FutureWarning: Calling float on a single element Series is deprecated and will raise a TypeError in the future. Use float(ser.iloc[0]) instead\n",
      "  close_price    = float(df.iloc[1][\"Close\"])\n",
      "C:\\Users\\diego\\AppData\\Local\\Temp\\ipykernel_50852\\430125842.py:15: FutureWarning: Calling float on a single element Series is deprecated and will raise a TypeError in the future. Use float(ser.iloc[0]) instead\n",
      "  previous_open  = float(df.iloc[0][\"Open\"])\n",
      "C:\\Users\\diego\\AppData\\Local\\Temp\\ipykernel_50852\\430125842.py:16: FutureWarning: Calling float on a single element Series is deprecated and will raise a TypeError in the future. Use float(ser.iloc[0]) instead\n",
      "  previous_close = float(df.iloc[0][\"Close\"])\n"
     ]
    },
    {
     "name": "stdout",
     "output_type": "stream",
     "text": [
      "Fetching data for PG...\n"
     ]
    },
    {
     "name": "stderr",
     "output_type": "stream",
     "text": [
      "[*********************100%***********************]  1 of 1 completed\n",
      "C:\\Users\\diego\\AppData\\Local\\Temp\\ipykernel_50852\\430125842.py:13: FutureWarning: Calling float on a single element Series is deprecated and will raise a TypeError in the future. Use float(ser.iloc[0]) instead\n",
      "  open_price     = float(df.iloc[1][\"Open\"])\n",
      "C:\\Users\\diego\\AppData\\Local\\Temp\\ipykernel_50852\\430125842.py:14: FutureWarning: Calling float on a single element Series is deprecated and will raise a TypeError in the future. Use float(ser.iloc[0]) instead\n",
      "  close_price    = float(df.iloc[1][\"Close\"])\n",
      "C:\\Users\\diego\\AppData\\Local\\Temp\\ipykernel_50852\\430125842.py:15: FutureWarning: Calling float on a single element Series is deprecated and will raise a TypeError in the future. Use float(ser.iloc[0]) instead\n",
      "  previous_open  = float(df.iloc[0][\"Open\"])\n",
      "C:\\Users\\diego\\AppData\\Local\\Temp\\ipykernel_50852\\430125842.py:16: FutureWarning: Calling float on a single element Series is deprecated and will raise a TypeError in the future. Use float(ser.iloc[0]) instead\n",
      "  previous_close = float(df.iloc[0][\"Close\"])\n"
     ]
    },
    {
     "name": "stdout",
     "output_type": "stream",
     "text": [
      "Fetching data for PGR...\n"
     ]
    },
    {
     "name": "stderr",
     "output_type": "stream",
     "text": [
      "[*********************100%***********************]  1 of 1 completed\n",
      "C:\\Users\\diego\\AppData\\Local\\Temp\\ipykernel_50852\\430125842.py:13: FutureWarning: Calling float on a single element Series is deprecated and will raise a TypeError in the future. Use float(ser.iloc[0]) instead\n",
      "  open_price     = float(df.iloc[1][\"Open\"])\n",
      "C:\\Users\\diego\\AppData\\Local\\Temp\\ipykernel_50852\\430125842.py:14: FutureWarning: Calling float on a single element Series is deprecated and will raise a TypeError in the future. Use float(ser.iloc[0]) instead\n",
      "  close_price    = float(df.iloc[1][\"Close\"])\n",
      "C:\\Users\\diego\\AppData\\Local\\Temp\\ipykernel_50852\\430125842.py:15: FutureWarning: Calling float on a single element Series is deprecated and will raise a TypeError in the future. Use float(ser.iloc[0]) instead\n",
      "  previous_open  = float(df.iloc[0][\"Open\"])\n",
      "C:\\Users\\diego\\AppData\\Local\\Temp\\ipykernel_50852\\430125842.py:16: FutureWarning: Calling float on a single element Series is deprecated and will raise a TypeError in the future. Use float(ser.iloc[0]) instead\n",
      "  previous_close = float(df.iloc[0][\"Close\"])\n"
     ]
    },
    {
     "name": "stdout",
     "output_type": "stream",
     "text": [
      "Fetching data for PLD...\n"
     ]
    },
    {
     "name": "stderr",
     "output_type": "stream",
     "text": [
      "[*********************100%***********************]  1 of 1 completed\n",
      "C:\\Users\\diego\\AppData\\Local\\Temp\\ipykernel_50852\\430125842.py:13: FutureWarning: Calling float on a single element Series is deprecated and will raise a TypeError in the future. Use float(ser.iloc[0]) instead\n",
      "  open_price     = float(df.iloc[1][\"Open\"])\n",
      "C:\\Users\\diego\\AppData\\Local\\Temp\\ipykernel_50852\\430125842.py:14: FutureWarning: Calling float on a single element Series is deprecated and will raise a TypeError in the future. Use float(ser.iloc[0]) instead\n",
      "  close_price    = float(df.iloc[1][\"Close\"])\n",
      "C:\\Users\\diego\\AppData\\Local\\Temp\\ipykernel_50852\\430125842.py:15: FutureWarning: Calling float on a single element Series is deprecated and will raise a TypeError in the future. Use float(ser.iloc[0]) instead\n",
      "  previous_open  = float(df.iloc[0][\"Open\"])\n",
      "C:\\Users\\diego\\AppData\\Local\\Temp\\ipykernel_50852\\430125842.py:16: FutureWarning: Calling float on a single element Series is deprecated and will raise a TypeError in the future. Use float(ser.iloc[0]) instead\n",
      "  previous_close = float(df.iloc[0][\"Close\"])\n"
     ]
    },
    {
     "name": "stdout",
     "output_type": "stream",
     "text": [
      "Fetching data for PRU...\n"
     ]
    },
    {
     "name": "stderr",
     "output_type": "stream",
     "text": [
      "[*********************100%***********************]  1 of 1 completed\n",
      "C:\\Users\\diego\\AppData\\Local\\Temp\\ipykernel_50852\\430125842.py:13: FutureWarning: Calling float on a single element Series is deprecated and will raise a TypeError in the future. Use float(ser.iloc[0]) instead\n",
      "  open_price     = float(df.iloc[1][\"Open\"])\n",
      "C:\\Users\\diego\\AppData\\Local\\Temp\\ipykernel_50852\\430125842.py:14: FutureWarning: Calling float on a single element Series is deprecated and will raise a TypeError in the future. Use float(ser.iloc[0]) instead\n",
      "  close_price    = float(df.iloc[1][\"Close\"])\n",
      "C:\\Users\\diego\\AppData\\Local\\Temp\\ipykernel_50852\\430125842.py:15: FutureWarning: Calling float on a single element Series is deprecated and will raise a TypeError in the future. Use float(ser.iloc[0]) instead\n",
      "  previous_open  = float(df.iloc[0][\"Open\"])\n",
      "C:\\Users\\diego\\AppData\\Local\\Temp\\ipykernel_50852\\430125842.py:16: FutureWarning: Calling float on a single element Series is deprecated and will raise a TypeError in the future. Use float(ser.iloc[0]) instead\n",
      "  previous_close = float(df.iloc[0][\"Close\"])\n"
     ]
    },
    {
     "name": "stdout",
     "output_type": "stream",
     "text": [
      "Fetching data for PEG...\n"
     ]
    },
    {
     "name": "stderr",
     "output_type": "stream",
     "text": [
      "[*********************100%***********************]  1 of 1 completed\n",
      "C:\\Users\\diego\\AppData\\Local\\Temp\\ipykernel_50852\\430125842.py:13: FutureWarning: Calling float on a single element Series is deprecated and will raise a TypeError in the future. Use float(ser.iloc[0]) instead\n",
      "  open_price     = float(df.iloc[1][\"Open\"])\n",
      "C:\\Users\\diego\\AppData\\Local\\Temp\\ipykernel_50852\\430125842.py:14: FutureWarning: Calling float on a single element Series is deprecated and will raise a TypeError in the future. Use float(ser.iloc[0]) instead\n",
      "  close_price    = float(df.iloc[1][\"Close\"])\n",
      "C:\\Users\\diego\\AppData\\Local\\Temp\\ipykernel_50852\\430125842.py:15: FutureWarning: Calling float on a single element Series is deprecated and will raise a TypeError in the future. Use float(ser.iloc[0]) instead\n",
      "  previous_open  = float(df.iloc[0][\"Open\"])\n",
      "C:\\Users\\diego\\AppData\\Local\\Temp\\ipykernel_50852\\430125842.py:16: FutureWarning: Calling float on a single element Series is deprecated and will raise a TypeError in the future. Use float(ser.iloc[0]) instead\n",
      "  previous_close = float(df.iloc[0][\"Close\"])\n"
     ]
    },
    {
     "name": "stdout",
     "output_type": "stream",
     "text": [
      "Fetching data for PTC...\n"
     ]
    },
    {
     "name": "stderr",
     "output_type": "stream",
     "text": [
      "[*********************100%***********************]  1 of 1 completed\n",
      "C:\\Users\\diego\\AppData\\Local\\Temp\\ipykernel_50852\\430125842.py:13: FutureWarning: Calling float on a single element Series is deprecated and will raise a TypeError in the future. Use float(ser.iloc[0]) instead\n",
      "  open_price     = float(df.iloc[1][\"Open\"])\n",
      "C:\\Users\\diego\\AppData\\Local\\Temp\\ipykernel_50852\\430125842.py:14: FutureWarning: Calling float on a single element Series is deprecated and will raise a TypeError in the future. Use float(ser.iloc[0]) instead\n",
      "  close_price    = float(df.iloc[1][\"Close\"])\n",
      "C:\\Users\\diego\\AppData\\Local\\Temp\\ipykernel_50852\\430125842.py:15: FutureWarning: Calling float on a single element Series is deprecated and will raise a TypeError in the future. Use float(ser.iloc[0]) instead\n",
      "  previous_open  = float(df.iloc[0][\"Open\"])\n",
      "C:\\Users\\diego\\AppData\\Local\\Temp\\ipykernel_50852\\430125842.py:16: FutureWarning: Calling float on a single element Series is deprecated and will raise a TypeError in the future. Use float(ser.iloc[0]) instead\n",
      "  previous_close = float(df.iloc[0][\"Close\"])\n"
     ]
    },
    {
     "name": "stdout",
     "output_type": "stream",
     "text": [
      "Fetching data for PSA...\n"
     ]
    },
    {
     "name": "stderr",
     "output_type": "stream",
     "text": [
      "[*********************100%***********************]  1 of 1 completed\n",
      "C:\\Users\\diego\\AppData\\Local\\Temp\\ipykernel_50852\\430125842.py:13: FutureWarning: Calling float on a single element Series is deprecated and will raise a TypeError in the future. Use float(ser.iloc[0]) instead\n",
      "  open_price     = float(df.iloc[1][\"Open\"])\n",
      "C:\\Users\\diego\\AppData\\Local\\Temp\\ipykernel_50852\\430125842.py:14: FutureWarning: Calling float on a single element Series is deprecated and will raise a TypeError in the future. Use float(ser.iloc[0]) instead\n",
      "  close_price    = float(df.iloc[1][\"Close\"])\n",
      "C:\\Users\\diego\\AppData\\Local\\Temp\\ipykernel_50852\\430125842.py:15: FutureWarning: Calling float on a single element Series is deprecated and will raise a TypeError in the future. Use float(ser.iloc[0]) instead\n",
      "  previous_open  = float(df.iloc[0][\"Open\"])\n",
      "C:\\Users\\diego\\AppData\\Local\\Temp\\ipykernel_50852\\430125842.py:16: FutureWarning: Calling float on a single element Series is deprecated and will raise a TypeError in the future. Use float(ser.iloc[0]) instead\n",
      "  previous_close = float(df.iloc[0][\"Close\"])\n"
     ]
    },
    {
     "name": "stdout",
     "output_type": "stream",
     "text": [
      "Fetching data for PHM...\n"
     ]
    },
    {
     "name": "stderr",
     "output_type": "stream",
     "text": [
      "[*********************100%***********************]  1 of 1 completed\n",
      "C:\\Users\\diego\\AppData\\Local\\Temp\\ipykernel_50852\\430125842.py:13: FutureWarning: Calling float on a single element Series is deprecated and will raise a TypeError in the future. Use float(ser.iloc[0]) instead\n",
      "  open_price     = float(df.iloc[1][\"Open\"])\n",
      "C:\\Users\\diego\\AppData\\Local\\Temp\\ipykernel_50852\\430125842.py:14: FutureWarning: Calling float on a single element Series is deprecated and will raise a TypeError in the future. Use float(ser.iloc[0]) instead\n",
      "  close_price    = float(df.iloc[1][\"Close\"])\n",
      "C:\\Users\\diego\\AppData\\Local\\Temp\\ipykernel_50852\\430125842.py:15: FutureWarning: Calling float on a single element Series is deprecated and will raise a TypeError in the future. Use float(ser.iloc[0]) instead\n",
      "  previous_open  = float(df.iloc[0][\"Open\"])\n",
      "C:\\Users\\diego\\AppData\\Local\\Temp\\ipykernel_50852\\430125842.py:16: FutureWarning: Calling float on a single element Series is deprecated and will raise a TypeError in the future. Use float(ser.iloc[0]) instead\n",
      "  previous_close = float(df.iloc[0][\"Close\"])\n"
     ]
    },
    {
     "name": "stdout",
     "output_type": "stream",
     "text": [
      "Fetching data for PWR...\n"
     ]
    },
    {
     "name": "stderr",
     "output_type": "stream",
     "text": [
      "[*********************100%***********************]  1 of 1 completed\n",
      "C:\\Users\\diego\\AppData\\Local\\Temp\\ipykernel_50852\\430125842.py:13: FutureWarning: Calling float on a single element Series is deprecated and will raise a TypeError in the future. Use float(ser.iloc[0]) instead\n",
      "  open_price     = float(df.iloc[1][\"Open\"])\n",
      "C:\\Users\\diego\\AppData\\Local\\Temp\\ipykernel_50852\\430125842.py:14: FutureWarning: Calling float on a single element Series is deprecated and will raise a TypeError in the future. Use float(ser.iloc[0]) instead\n",
      "  close_price    = float(df.iloc[1][\"Close\"])\n",
      "C:\\Users\\diego\\AppData\\Local\\Temp\\ipykernel_50852\\430125842.py:15: FutureWarning: Calling float on a single element Series is deprecated and will raise a TypeError in the future. Use float(ser.iloc[0]) instead\n",
      "  previous_open  = float(df.iloc[0][\"Open\"])\n",
      "C:\\Users\\diego\\AppData\\Local\\Temp\\ipykernel_50852\\430125842.py:16: FutureWarning: Calling float on a single element Series is deprecated and will raise a TypeError in the future. Use float(ser.iloc[0]) instead\n",
      "  previous_close = float(df.iloc[0][\"Close\"])\n"
     ]
    },
    {
     "name": "stdout",
     "output_type": "stream",
     "text": [
      "Fetching data for QCOM...\n"
     ]
    },
    {
     "name": "stderr",
     "output_type": "stream",
     "text": [
      "[*********************100%***********************]  1 of 1 completed\n",
      "C:\\Users\\diego\\AppData\\Local\\Temp\\ipykernel_50852\\430125842.py:13: FutureWarning: Calling float on a single element Series is deprecated and will raise a TypeError in the future. Use float(ser.iloc[0]) instead\n",
      "  open_price     = float(df.iloc[1][\"Open\"])\n",
      "C:\\Users\\diego\\AppData\\Local\\Temp\\ipykernel_50852\\430125842.py:14: FutureWarning: Calling float on a single element Series is deprecated and will raise a TypeError in the future. Use float(ser.iloc[0]) instead\n",
      "  close_price    = float(df.iloc[1][\"Close\"])\n",
      "C:\\Users\\diego\\AppData\\Local\\Temp\\ipykernel_50852\\430125842.py:15: FutureWarning: Calling float on a single element Series is deprecated and will raise a TypeError in the future. Use float(ser.iloc[0]) instead\n",
      "  previous_open  = float(df.iloc[0][\"Open\"])\n",
      "C:\\Users\\diego\\AppData\\Local\\Temp\\ipykernel_50852\\430125842.py:16: FutureWarning: Calling float on a single element Series is deprecated and will raise a TypeError in the future. Use float(ser.iloc[0]) instead\n",
      "  previous_close = float(df.iloc[0][\"Close\"])\n"
     ]
    },
    {
     "name": "stdout",
     "output_type": "stream",
     "text": [
      "Fetching data for DGX...\n"
     ]
    },
    {
     "name": "stderr",
     "output_type": "stream",
     "text": [
      "[*********************100%***********************]  1 of 1 completed\n",
      "C:\\Users\\diego\\AppData\\Local\\Temp\\ipykernel_50852\\430125842.py:13: FutureWarning: Calling float on a single element Series is deprecated and will raise a TypeError in the future. Use float(ser.iloc[0]) instead\n",
      "  open_price     = float(df.iloc[1][\"Open\"])\n",
      "C:\\Users\\diego\\AppData\\Local\\Temp\\ipykernel_50852\\430125842.py:14: FutureWarning: Calling float on a single element Series is deprecated and will raise a TypeError in the future. Use float(ser.iloc[0]) instead\n",
      "  close_price    = float(df.iloc[1][\"Close\"])\n",
      "C:\\Users\\diego\\AppData\\Local\\Temp\\ipykernel_50852\\430125842.py:15: FutureWarning: Calling float on a single element Series is deprecated and will raise a TypeError in the future. Use float(ser.iloc[0]) instead\n",
      "  previous_open  = float(df.iloc[0][\"Open\"])\n",
      "C:\\Users\\diego\\AppData\\Local\\Temp\\ipykernel_50852\\430125842.py:16: FutureWarning: Calling float on a single element Series is deprecated and will raise a TypeError in the future. Use float(ser.iloc[0]) instead\n",
      "  previous_close = float(df.iloc[0][\"Close\"])\n"
     ]
    },
    {
     "name": "stdout",
     "output_type": "stream",
     "text": [
      "Fetching data for RL...\n"
     ]
    },
    {
     "name": "stderr",
     "output_type": "stream",
     "text": [
      "[*********************100%***********************]  1 of 1 completed\n",
      "C:\\Users\\diego\\AppData\\Local\\Temp\\ipykernel_50852\\430125842.py:13: FutureWarning: Calling float on a single element Series is deprecated and will raise a TypeError in the future. Use float(ser.iloc[0]) instead\n",
      "  open_price     = float(df.iloc[1][\"Open\"])\n",
      "C:\\Users\\diego\\AppData\\Local\\Temp\\ipykernel_50852\\430125842.py:14: FutureWarning: Calling float on a single element Series is deprecated and will raise a TypeError in the future. Use float(ser.iloc[0]) instead\n",
      "  close_price    = float(df.iloc[1][\"Close\"])\n",
      "C:\\Users\\diego\\AppData\\Local\\Temp\\ipykernel_50852\\430125842.py:15: FutureWarning: Calling float on a single element Series is deprecated and will raise a TypeError in the future. Use float(ser.iloc[0]) instead\n",
      "  previous_open  = float(df.iloc[0][\"Open\"])\n",
      "C:\\Users\\diego\\AppData\\Local\\Temp\\ipykernel_50852\\430125842.py:16: FutureWarning: Calling float on a single element Series is deprecated and will raise a TypeError in the future. Use float(ser.iloc[0]) instead\n",
      "  previous_close = float(df.iloc[0][\"Close\"])\n"
     ]
    },
    {
     "name": "stdout",
     "output_type": "stream",
     "text": [
      "Fetching data for RJF...\n"
     ]
    },
    {
     "name": "stderr",
     "output_type": "stream",
     "text": [
      "[*********************100%***********************]  1 of 1 completed\n",
      "C:\\Users\\diego\\AppData\\Local\\Temp\\ipykernel_50852\\430125842.py:13: FutureWarning: Calling float on a single element Series is deprecated and will raise a TypeError in the future. Use float(ser.iloc[0]) instead\n",
      "  open_price     = float(df.iloc[1][\"Open\"])\n",
      "C:\\Users\\diego\\AppData\\Local\\Temp\\ipykernel_50852\\430125842.py:14: FutureWarning: Calling float on a single element Series is deprecated and will raise a TypeError in the future. Use float(ser.iloc[0]) instead\n",
      "  close_price    = float(df.iloc[1][\"Close\"])\n",
      "C:\\Users\\diego\\AppData\\Local\\Temp\\ipykernel_50852\\430125842.py:15: FutureWarning: Calling float on a single element Series is deprecated and will raise a TypeError in the future. Use float(ser.iloc[0]) instead\n",
      "  previous_open  = float(df.iloc[0][\"Open\"])\n",
      "C:\\Users\\diego\\AppData\\Local\\Temp\\ipykernel_50852\\430125842.py:16: FutureWarning: Calling float on a single element Series is deprecated and will raise a TypeError in the future. Use float(ser.iloc[0]) instead\n",
      "  previous_close = float(df.iloc[0][\"Close\"])\n"
     ]
    },
    {
     "name": "stdout",
     "output_type": "stream",
     "text": [
      "Fetching data for RTX...\n"
     ]
    },
    {
     "name": "stderr",
     "output_type": "stream",
     "text": [
      "[*********************100%***********************]  1 of 1 completed\n",
      "C:\\Users\\diego\\AppData\\Local\\Temp\\ipykernel_50852\\430125842.py:13: FutureWarning: Calling float on a single element Series is deprecated and will raise a TypeError in the future. Use float(ser.iloc[0]) instead\n",
      "  open_price     = float(df.iloc[1][\"Open\"])\n",
      "C:\\Users\\diego\\AppData\\Local\\Temp\\ipykernel_50852\\430125842.py:14: FutureWarning: Calling float on a single element Series is deprecated and will raise a TypeError in the future. Use float(ser.iloc[0]) instead\n",
      "  close_price    = float(df.iloc[1][\"Close\"])\n",
      "C:\\Users\\diego\\AppData\\Local\\Temp\\ipykernel_50852\\430125842.py:15: FutureWarning: Calling float on a single element Series is deprecated and will raise a TypeError in the future. Use float(ser.iloc[0]) instead\n",
      "  previous_open  = float(df.iloc[0][\"Open\"])\n",
      "C:\\Users\\diego\\AppData\\Local\\Temp\\ipykernel_50852\\430125842.py:16: FutureWarning: Calling float on a single element Series is deprecated and will raise a TypeError in the future. Use float(ser.iloc[0]) instead\n",
      "  previous_close = float(df.iloc[0][\"Close\"])\n"
     ]
    },
    {
     "name": "stdout",
     "output_type": "stream",
     "text": [
      "Fetching data for O...\n"
     ]
    },
    {
     "name": "stderr",
     "output_type": "stream",
     "text": [
      "[*********************100%***********************]  1 of 1 completed\n",
      "C:\\Users\\diego\\AppData\\Local\\Temp\\ipykernel_50852\\430125842.py:13: FutureWarning: Calling float on a single element Series is deprecated and will raise a TypeError in the future. Use float(ser.iloc[0]) instead\n",
      "  open_price     = float(df.iloc[1][\"Open\"])\n",
      "C:\\Users\\diego\\AppData\\Local\\Temp\\ipykernel_50852\\430125842.py:14: FutureWarning: Calling float on a single element Series is deprecated and will raise a TypeError in the future. Use float(ser.iloc[0]) instead\n",
      "  close_price    = float(df.iloc[1][\"Close\"])\n",
      "C:\\Users\\diego\\AppData\\Local\\Temp\\ipykernel_50852\\430125842.py:15: FutureWarning: Calling float on a single element Series is deprecated and will raise a TypeError in the future. Use float(ser.iloc[0]) instead\n",
      "  previous_open  = float(df.iloc[0][\"Open\"])\n",
      "C:\\Users\\diego\\AppData\\Local\\Temp\\ipykernel_50852\\430125842.py:16: FutureWarning: Calling float on a single element Series is deprecated and will raise a TypeError in the future. Use float(ser.iloc[0]) instead\n",
      "  previous_close = float(df.iloc[0][\"Close\"])\n"
     ]
    },
    {
     "name": "stdout",
     "output_type": "stream",
     "text": [
      "Fetching data for REG...\n"
     ]
    },
    {
     "name": "stderr",
     "output_type": "stream",
     "text": [
      "[*********************100%***********************]  1 of 1 completed\n",
      "C:\\Users\\diego\\AppData\\Local\\Temp\\ipykernel_50852\\430125842.py:13: FutureWarning: Calling float on a single element Series is deprecated and will raise a TypeError in the future. Use float(ser.iloc[0]) instead\n",
      "  open_price     = float(df.iloc[1][\"Open\"])\n",
      "C:\\Users\\diego\\AppData\\Local\\Temp\\ipykernel_50852\\430125842.py:14: FutureWarning: Calling float on a single element Series is deprecated and will raise a TypeError in the future. Use float(ser.iloc[0]) instead\n",
      "  close_price    = float(df.iloc[1][\"Close\"])\n",
      "C:\\Users\\diego\\AppData\\Local\\Temp\\ipykernel_50852\\430125842.py:15: FutureWarning: Calling float on a single element Series is deprecated and will raise a TypeError in the future. Use float(ser.iloc[0]) instead\n",
      "  previous_open  = float(df.iloc[0][\"Open\"])\n",
      "C:\\Users\\diego\\AppData\\Local\\Temp\\ipykernel_50852\\430125842.py:16: FutureWarning: Calling float on a single element Series is deprecated and will raise a TypeError in the future. Use float(ser.iloc[0]) instead\n",
      "  previous_close = float(df.iloc[0][\"Close\"])\n"
     ]
    },
    {
     "name": "stdout",
     "output_type": "stream",
     "text": [
      "Fetching data for REGN...\n"
     ]
    },
    {
     "name": "stderr",
     "output_type": "stream",
     "text": [
      "[*********************100%***********************]  1 of 1 completed\n",
      "C:\\Users\\diego\\AppData\\Local\\Temp\\ipykernel_50852\\430125842.py:13: FutureWarning: Calling float on a single element Series is deprecated and will raise a TypeError in the future. Use float(ser.iloc[0]) instead\n",
      "  open_price     = float(df.iloc[1][\"Open\"])\n",
      "C:\\Users\\diego\\AppData\\Local\\Temp\\ipykernel_50852\\430125842.py:14: FutureWarning: Calling float on a single element Series is deprecated and will raise a TypeError in the future. Use float(ser.iloc[0]) instead\n",
      "  close_price    = float(df.iloc[1][\"Close\"])\n",
      "C:\\Users\\diego\\AppData\\Local\\Temp\\ipykernel_50852\\430125842.py:15: FutureWarning: Calling float on a single element Series is deprecated and will raise a TypeError in the future. Use float(ser.iloc[0]) instead\n",
      "  previous_open  = float(df.iloc[0][\"Open\"])\n",
      "C:\\Users\\diego\\AppData\\Local\\Temp\\ipykernel_50852\\430125842.py:16: FutureWarning: Calling float on a single element Series is deprecated and will raise a TypeError in the future. Use float(ser.iloc[0]) instead\n",
      "  previous_close = float(df.iloc[0][\"Close\"])\n"
     ]
    },
    {
     "name": "stdout",
     "output_type": "stream",
     "text": [
      "Fetching data for RF...\n"
     ]
    },
    {
     "name": "stderr",
     "output_type": "stream",
     "text": [
      "[*********************100%***********************]  1 of 1 completed\n",
      "C:\\Users\\diego\\AppData\\Local\\Temp\\ipykernel_50852\\430125842.py:13: FutureWarning: Calling float on a single element Series is deprecated and will raise a TypeError in the future. Use float(ser.iloc[0]) instead\n",
      "  open_price     = float(df.iloc[1][\"Open\"])\n",
      "C:\\Users\\diego\\AppData\\Local\\Temp\\ipykernel_50852\\430125842.py:14: FutureWarning: Calling float on a single element Series is deprecated and will raise a TypeError in the future. Use float(ser.iloc[0]) instead\n",
      "  close_price    = float(df.iloc[1][\"Close\"])\n",
      "C:\\Users\\diego\\AppData\\Local\\Temp\\ipykernel_50852\\430125842.py:15: FutureWarning: Calling float on a single element Series is deprecated and will raise a TypeError in the future. Use float(ser.iloc[0]) instead\n",
      "  previous_open  = float(df.iloc[0][\"Open\"])\n",
      "C:\\Users\\diego\\AppData\\Local\\Temp\\ipykernel_50852\\430125842.py:16: FutureWarning: Calling float on a single element Series is deprecated and will raise a TypeError in the future. Use float(ser.iloc[0]) instead\n",
      "  previous_close = float(df.iloc[0][\"Close\"])\n"
     ]
    },
    {
     "name": "stdout",
     "output_type": "stream",
     "text": [
      "Fetching data for RSG...\n"
     ]
    },
    {
     "name": "stderr",
     "output_type": "stream",
     "text": [
      "[*********************100%***********************]  1 of 1 completed\n",
      "C:\\Users\\diego\\AppData\\Local\\Temp\\ipykernel_50852\\430125842.py:13: FutureWarning: Calling float on a single element Series is deprecated and will raise a TypeError in the future. Use float(ser.iloc[0]) instead\n",
      "  open_price     = float(df.iloc[1][\"Open\"])\n",
      "C:\\Users\\diego\\AppData\\Local\\Temp\\ipykernel_50852\\430125842.py:14: FutureWarning: Calling float on a single element Series is deprecated and will raise a TypeError in the future. Use float(ser.iloc[0]) instead\n",
      "  close_price    = float(df.iloc[1][\"Close\"])\n",
      "C:\\Users\\diego\\AppData\\Local\\Temp\\ipykernel_50852\\430125842.py:15: FutureWarning: Calling float on a single element Series is deprecated and will raise a TypeError in the future. Use float(ser.iloc[0]) instead\n",
      "  previous_open  = float(df.iloc[0][\"Open\"])\n",
      "C:\\Users\\diego\\AppData\\Local\\Temp\\ipykernel_50852\\430125842.py:16: FutureWarning: Calling float on a single element Series is deprecated and will raise a TypeError in the future. Use float(ser.iloc[0]) instead\n",
      "  previous_close = float(df.iloc[0][\"Close\"])\n"
     ]
    },
    {
     "name": "stdout",
     "output_type": "stream",
     "text": [
      "Fetching data for RMD...\n"
     ]
    },
    {
     "name": "stderr",
     "output_type": "stream",
     "text": [
      "[*********************100%***********************]  1 of 1 completed\n",
      "C:\\Users\\diego\\AppData\\Local\\Temp\\ipykernel_50852\\430125842.py:13: FutureWarning: Calling float on a single element Series is deprecated and will raise a TypeError in the future. Use float(ser.iloc[0]) instead\n",
      "  open_price     = float(df.iloc[1][\"Open\"])\n",
      "C:\\Users\\diego\\AppData\\Local\\Temp\\ipykernel_50852\\430125842.py:14: FutureWarning: Calling float on a single element Series is deprecated and will raise a TypeError in the future. Use float(ser.iloc[0]) instead\n",
      "  close_price    = float(df.iloc[1][\"Close\"])\n",
      "C:\\Users\\diego\\AppData\\Local\\Temp\\ipykernel_50852\\430125842.py:15: FutureWarning: Calling float on a single element Series is deprecated and will raise a TypeError in the future. Use float(ser.iloc[0]) instead\n",
      "  previous_open  = float(df.iloc[0][\"Open\"])\n",
      "C:\\Users\\diego\\AppData\\Local\\Temp\\ipykernel_50852\\430125842.py:16: FutureWarning: Calling float on a single element Series is deprecated and will raise a TypeError in the future. Use float(ser.iloc[0]) instead\n",
      "  previous_close = float(df.iloc[0][\"Close\"])\n"
     ]
    },
    {
     "name": "stdout",
     "output_type": "stream",
     "text": [
      "Fetching data for RVTY...\n"
     ]
    },
    {
     "name": "stderr",
     "output_type": "stream",
     "text": [
      "[*********************100%***********************]  1 of 1 completed\n",
      "C:\\Users\\diego\\AppData\\Local\\Temp\\ipykernel_50852\\430125842.py:13: FutureWarning: Calling float on a single element Series is deprecated and will raise a TypeError in the future. Use float(ser.iloc[0]) instead\n",
      "  open_price     = float(df.iloc[1][\"Open\"])\n",
      "C:\\Users\\diego\\AppData\\Local\\Temp\\ipykernel_50852\\430125842.py:14: FutureWarning: Calling float on a single element Series is deprecated and will raise a TypeError in the future. Use float(ser.iloc[0]) instead\n",
      "  close_price    = float(df.iloc[1][\"Close\"])\n",
      "C:\\Users\\diego\\AppData\\Local\\Temp\\ipykernel_50852\\430125842.py:15: FutureWarning: Calling float on a single element Series is deprecated and will raise a TypeError in the future. Use float(ser.iloc[0]) instead\n",
      "  previous_open  = float(df.iloc[0][\"Open\"])\n",
      "C:\\Users\\diego\\AppData\\Local\\Temp\\ipykernel_50852\\430125842.py:16: FutureWarning: Calling float on a single element Series is deprecated and will raise a TypeError in the future. Use float(ser.iloc[0]) instead\n",
      "  previous_close = float(df.iloc[0][\"Close\"])\n"
     ]
    },
    {
     "name": "stdout",
     "output_type": "stream",
     "text": [
      "Fetching data for ROK...\n"
     ]
    },
    {
     "name": "stderr",
     "output_type": "stream",
     "text": [
      "[*********************100%***********************]  1 of 1 completed\n",
      "C:\\Users\\diego\\AppData\\Local\\Temp\\ipykernel_50852\\430125842.py:13: FutureWarning: Calling float on a single element Series is deprecated and will raise a TypeError in the future. Use float(ser.iloc[0]) instead\n",
      "  open_price     = float(df.iloc[1][\"Open\"])\n",
      "C:\\Users\\diego\\AppData\\Local\\Temp\\ipykernel_50852\\430125842.py:14: FutureWarning: Calling float on a single element Series is deprecated and will raise a TypeError in the future. Use float(ser.iloc[0]) instead\n",
      "  close_price    = float(df.iloc[1][\"Close\"])\n",
      "C:\\Users\\diego\\AppData\\Local\\Temp\\ipykernel_50852\\430125842.py:15: FutureWarning: Calling float on a single element Series is deprecated and will raise a TypeError in the future. Use float(ser.iloc[0]) instead\n",
      "  previous_open  = float(df.iloc[0][\"Open\"])\n",
      "C:\\Users\\diego\\AppData\\Local\\Temp\\ipykernel_50852\\430125842.py:16: FutureWarning: Calling float on a single element Series is deprecated and will raise a TypeError in the future. Use float(ser.iloc[0]) instead\n",
      "  previous_close = float(df.iloc[0][\"Close\"])\n"
     ]
    },
    {
     "name": "stdout",
     "output_type": "stream",
     "text": [
      "Fetching data for ROL...\n"
     ]
    },
    {
     "name": "stderr",
     "output_type": "stream",
     "text": [
      "[*********************100%***********************]  1 of 1 completed\n",
      "C:\\Users\\diego\\AppData\\Local\\Temp\\ipykernel_50852\\430125842.py:13: FutureWarning: Calling float on a single element Series is deprecated and will raise a TypeError in the future. Use float(ser.iloc[0]) instead\n",
      "  open_price     = float(df.iloc[1][\"Open\"])\n",
      "C:\\Users\\diego\\AppData\\Local\\Temp\\ipykernel_50852\\430125842.py:14: FutureWarning: Calling float on a single element Series is deprecated and will raise a TypeError in the future. Use float(ser.iloc[0]) instead\n",
      "  close_price    = float(df.iloc[1][\"Close\"])\n",
      "C:\\Users\\diego\\AppData\\Local\\Temp\\ipykernel_50852\\430125842.py:15: FutureWarning: Calling float on a single element Series is deprecated and will raise a TypeError in the future. Use float(ser.iloc[0]) instead\n",
      "  previous_open  = float(df.iloc[0][\"Open\"])\n",
      "C:\\Users\\diego\\AppData\\Local\\Temp\\ipykernel_50852\\430125842.py:16: FutureWarning: Calling float on a single element Series is deprecated and will raise a TypeError in the future. Use float(ser.iloc[0]) instead\n",
      "  previous_close = float(df.iloc[0][\"Close\"])\n"
     ]
    },
    {
     "name": "stdout",
     "output_type": "stream",
     "text": [
      "Fetching data for ROP...\n"
     ]
    },
    {
     "name": "stderr",
     "output_type": "stream",
     "text": [
      "[*********************100%***********************]  1 of 1 completed\n",
      "C:\\Users\\diego\\AppData\\Local\\Temp\\ipykernel_50852\\430125842.py:13: FutureWarning: Calling float on a single element Series is deprecated and will raise a TypeError in the future. Use float(ser.iloc[0]) instead\n",
      "  open_price     = float(df.iloc[1][\"Open\"])\n",
      "C:\\Users\\diego\\AppData\\Local\\Temp\\ipykernel_50852\\430125842.py:14: FutureWarning: Calling float on a single element Series is deprecated and will raise a TypeError in the future. Use float(ser.iloc[0]) instead\n",
      "  close_price    = float(df.iloc[1][\"Close\"])\n",
      "C:\\Users\\diego\\AppData\\Local\\Temp\\ipykernel_50852\\430125842.py:15: FutureWarning: Calling float on a single element Series is deprecated and will raise a TypeError in the future. Use float(ser.iloc[0]) instead\n",
      "  previous_open  = float(df.iloc[0][\"Open\"])\n",
      "C:\\Users\\diego\\AppData\\Local\\Temp\\ipykernel_50852\\430125842.py:16: FutureWarning: Calling float on a single element Series is deprecated and will raise a TypeError in the future. Use float(ser.iloc[0]) instead\n",
      "  previous_close = float(df.iloc[0][\"Close\"])\n"
     ]
    },
    {
     "name": "stdout",
     "output_type": "stream",
     "text": [
      "Fetching data for ROST...\n"
     ]
    },
    {
     "name": "stderr",
     "output_type": "stream",
     "text": [
      "[*********************100%***********************]  1 of 1 completed\n",
      "C:\\Users\\diego\\AppData\\Local\\Temp\\ipykernel_50852\\430125842.py:13: FutureWarning: Calling float on a single element Series is deprecated and will raise a TypeError in the future. Use float(ser.iloc[0]) instead\n",
      "  open_price     = float(df.iloc[1][\"Open\"])\n",
      "C:\\Users\\diego\\AppData\\Local\\Temp\\ipykernel_50852\\430125842.py:14: FutureWarning: Calling float on a single element Series is deprecated and will raise a TypeError in the future. Use float(ser.iloc[0]) instead\n",
      "  close_price    = float(df.iloc[1][\"Close\"])\n",
      "C:\\Users\\diego\\AppData\\Local\\Temp\\ipykernel_50852\\430125842.py:15: FutureWarning: Calling float on a single element Series is deprecated and will raise a TypeError in the future. Use float(ser.iloc[0]) instead\n",
      "  previous_open  = float(df.iloc[0][\"Open\"])\n",
      "C:\\Users\\diego\\AppData\\Local\\Temp\\ipykernel_50852\\430125842.py:16: FutureWarning: Calling float on a single element Series is deprecated and will raise a TypeError in the future. Use float(ser.iloc[0]) instead\n",
      "  previous_close = float(df.iloc[0][\"Close\"])\n"
     ]
    },
    {
     "name": "stdout",
     "output_type": "stream",
     "text": [
      "Fetching data for RCL...\n"
     ]
    },
    {
     "name": "stderr",
     "output_type": "stream",
     "text": [
      "[*********************100%***********************]  1 of 1 completed\n",
      "C:\\Users\\diego\\AppData\\Local\\Temp\\ipykernel_50852\\430125842.py:13: FutureWarning: Calling float on a single element Series is deprecated and will raise a TypeError in the future. Use float(ser.iloc[0]) instead\n",
      "  open_price     = float(df.iloc[1][\"Open\"])\n",
      "C:\\Users\\diego\\AppData\\Local\\Temp\\ipykernel_50852\\430125842.py:14: FutureWarning: Calling float on a single element Series is deprecated and will raise a TypeError in the future. Use float(ser.iloc[0]) instead\n",
      "  close_price    = float(df.iloc[1][\"Close\"])\n",
      "C:\\Users\\diego\\AppData\\Local\\Temp\\ipykernel_50852\\430125842.py:15: FutureWarning: Calling float on a single element Series is deprecated and will raise a TypeError in the future. Use float(ser.iloc[0]) instead\n",
      "  previous_open  = float(df.iloc[0][\"Open\"])\n",
      "C:\\Users\\diego\\AppData\\Local\\Temp\\ipykernel_50852\\430125842.py:16: FutureWarning: Calling float on a single element Series is deprecated and will raise a TypeError in the future. Use float(ser.iloc[0]) instead\n",
      "  previous_close = float(df.iloc[0][\"Close\"])\n"
     ]
    },
    {
     "name": "stdout",
     "output_type": "stream",
     "text": [
      "Fetching data for SPGI...\n"
     ]
    },
    {
     "name": "stderr",
     "output_type": "stream",
     "text": [
      "[*********************100%***********************]  1 of 1 completed\n",
      "C:\\Users\\diego\\AppData\\Local\\Temp\\ipykernel_50852\\430125842.py:13: FutureWarning: Calling float on a single element Series is deprecated and will raise a TypeError in the future. Use float(ser.iloc[0]) instead\n",
      "  open_price     = float(df.iloc[1][\"Open\"])\n",
      "C:\\Users\\diego\\AppData\\Local\\Temp\\ipykernel_50852\\430125842.py:14: FutureWarning: Calling float on a single element Series is deprecated and will raise a TypeError in the future. Use float(ser.iloc[0]) instead\n",
      "  close_price    = float(df.iloc[1][\"Close\"])\n",
      "C:\\Users\\diego\\AppData\\Local\\Temp\\ipykernel_50852\\430125842.py:15: FutureWarning: Calling float on a single element Series is deprecated and will raise a TypeError in the future. Use float(ser.iloc[0]) instead\n",
      "  previous_open  = float(df.iloc[0][\"Open\"])\n",
      "C:\\Users\\diego\\AppData\\Local\\Temp\\ipykernel_50852\\430125842.py:16: FutureWarning: Calling float on a single element Series is deprecated and will raise a TypeError in the future. Use float(ser.iloc[0]) instead\n",
      "  previous_close = float(df.iloc[0][\"Close\"])\n"
     ]
    },
    {
     "name": "stdout",
     "output_type": "stream",
     "text": [
      "Fetching data for CRM...\n"
     ]
    },
    {
     "name": "stderr",
     "output_type": "stream",
     "text": [
      "[*********************100%***********************]  1 of 1 completed\n",
      "C:\\Users\\diego\\AppData\\Local\\Temp\\ipykernel_50852\\430125842.py:13: FutureWarning: Calling float on a single element Series is deprecated and will raise a TypeError in the future. Use float(ser.iloc[0]) instead\n",
      "  open_price     = float(df.iloc[1][\"Open\"])\n",
      "C:\\Users\\diego\\AppData\\Local\\Temp\\ipykernel_50852\\430125842.py:14: FutureWarning: Calling float on a single element Series is deprecated and will raise a TypeError in the future. Use float(ser.iloc[0]) instead\n",
      "  close_price    = float(df.iloc[1][\"Close\"])\n",
      "C:\\Users\\diego\\AppData\\Local\\Temp\\ipykernel_50852\\430125842.py:15: FutureWarning: Calling float on a single element Series is deprecated and will raise a TypeError in the future. Use float(ser.iloc[0]) instead\n",
      "  previous_open  = float(df.iloc[0][\"Open\"])\n",
      "C:\\Users\\diego\\AppData\\Local\\Temp\\ipykernel_50852\\430125842.py:16: FutureWarning: Calling float on a single element Series is deprecated and will raise a TypeError in the future. Use float(ser.iloc[0]) instead\n",
      "  previous_close = float(df.iloc[0][\"Close\"])\n"
     ]
    },
    {
     "name": "stdout",
     "output_type": "stream",
     "text": [
      "Fetching data for SBAC...\n"
     ]
    },
    {
     "name": "stderr",
     "output_type": "stream",
     "text": [
      "[*********************100%***********************]  1 of 1 completed\n",
      "C:\\Users\\diego\\AppData\\Local\\Temp\\ipykernel_50852\\430125842.py:13: FutureWarning: Calling float on a single element Series is deprecated and will raise a TypeError in the future. Use float(ser.iloc[0]) instead\n",
      "  open_price     = float(df.iloc[1][\"Open\"])\n",
      "C:\\Users\\diego\\AppData\\Local\\Temp\\ipykernel_50852\\430125842.py:14: FutureWarning: Calling float on a single element Series is deprecated and will raise a TypeError in the future. Use float(ser.iloc[0]) instead\n",
      "  close_price    = float(df.iloc[1][\"Close\"])\n",
      "C:\\Users\\diego\\AppData\\Local\\Temp\\ipykernel_50852\\430125842.py:15: FutureWarning: Calling float on a single element Series is deprecated and will raise a TypeError in the future. Use float(ser.iloc[0]) instead\n",
      "  previous_open  = float(df.iloc[0][\"Open\"])\n",
      "C:\\Users\\diego\\AppData\\Local\\Temp\\ipykernel_50852\\430125842.py:16: FutureWarning: Calling float on a single element Series is deprecated and will raise a TypeError in the future. Use float(ser.iloc[0]) instead\n",
      "  previous_close = float(df.iloc[0][\"Close\"])\n"
     ]
    },
    {
     "name": "stdout",
     "output_type": "stream",
     "text": [
      "Fetching data for SLB...\n"
     ]
    },
    {
     "name": "stderr",
     "output_type": "stream",
     "text": [
      "[*********************100%***********************]  1 of 1 completed\n",
      "C:\\Users\\diego\\AppData\\Local\\Temp\\ipykernel_50852\\430125842.py:13: FutureWarning: Calling float on a single element Series is deprecated and will raise a TypeError in the future. Use float(ser.iloc[0]) instead\n",
      "  open_price     = float(df.iloc[1][\"Open\"])\n",
      "C:\\Users\\diego\\AppData\\Local\\Temp\\ipykernel_50852\\430125842.py:14: FutureWarning: Calling float on a single element Series is deprecated and will raise a TypeError in the future. Use float(ser.iloc[0]) instead\n",
      "  close_price    = float(df.iloc[1][\"Close\"])\n",
      "C:\\Users\\diego\\AppData\\Local\\Temp\\ipykernel_50852\\430125842.py:15: FutureWarning: Calling float on a single element Series is deprecated and will raise a TypeError in the future. Use float(ser.iloc[0]) instead\n",
      "  previous_open  = float(df.iloc[0][\"Open\"])\n",
      "C:\\Users\\diego\\AppData\\Local\\Temp\\ipykernel_50852\\430125842.py:16: FutureWarning: Calling float on a single element Series is deprecated and will raise a TypeError in the future. Use float(ser.iloc[0]) instead\n",
      "  previous_close = float(df.iloc[0][\"Close\"])\n"
     ]
    },
    {
     "name": "stdout",
     "output_type": "stream",
     "text": [
      "Fetching data for STX...\n"
     ]
    },
    {
     "name": "stderr",
     "output_type": "stream",
     "text": [
      "[*********************100%***********************]  1 of 1 completed\n",
      "C:\\Users\\diego\\AppData\\Local\\Temp\\ipykernel_50852\\430125842.py:13: FutureWarning: Calling float on a single element Series is deprecated and will raise a TypeError in the future. Use float(ser.iloc[0]) instead\n",
      "  open_price     = float(df.iloc[1][\"Open\"])\n",
      "C:\\Users\\diego\\AppData\\Local\\Temp\\ipykernel_50852\\430125842.py:14: FutureWarning: Calling float on a single element Series is deprecated and will raise a TypeError in the future. Use float(ser.iloc[0]) instead\n",
      "  close_price    = float(df.iloc[1][\"Close\"])\n",
      "C:\\Users\\diego\\AppData\\Local\\Temp\\ipykernel_50852\\430125842.py:15: FutureWarning: Calling float on a single element Series is deprecated and will raise a TypeError in the future. Use float(ser.iloc[0]) instead\n",
      "  previous_open  = float(df.iloc[0][\"Open\"])\n",
      "C:\\Users\\diego\\AppData\\Local\\Temp\\ipykernel_50852\\430125842.py:16: FutureWarning: Calling float on a single element Series is deprecated and will raise a TypeError in the future. Use float(ser.iloc[0]) instead\n",
      "  previous_close = float(df.iloc[0][\"Close\"])\n"
     ]
    },
    {
     "name": "stdout",
     "output_type": "stream",
     "text": [
      "Fetching data for SRE...\n"
     ]
    },
    {
     "name": "stderr",
     "output_type": "stream",
     "text": [
      "[*********************100%***********************]  1 of 1 completed\n",
      "C:\\Users\\diego\\AppData\\Local\\Temp\\ipykernel_50852\\430125842.py:13: FutureWarning: Calling float on a single element Series is deprecated and will raise a TypeError in the future. Use float(ser.iloc[0]) instead\n",
      "  open_price     = float(df.iloc[1][\"Open\"])\n",
      "C:\\Users\\diego\\AppData\\Local\\Temp\\ipykernel_50852\\430125842.py:14: FutureWarning: Calling float on a single element Series is deprecated and will raise a TypeError in the future. Use float(ser.iloc[0]) instead\n",
      "  close_price    = float(df.iloc[1][\"Close\"])\n",
      "C:\\Users\\diego\\AppData\\Local\\Temp\\ipykernel_50852\\430125842.py:15: FutureWarning: Calling float on a single element Series is deprecated and will raise a TypeError in the future. Use float(ser.iloc[0]) instead\n",
      "  previous_open  = float(df.iloc[0][\"Open\"])\n",
      "C:\\Users\\diego\\AppData\\Local\\Temp\\ipykernel_50852\\430125842.py:16: FutureWarning: Calling float on a single element Series is deprecated and will raise a TypeError in the future. Use float(ser.iloc[0]) instead\n",
      "  previous_close = float(df.iloc[0][\"Close\"])\n"
     ]
    },
    {
     "name": "stdout",
     "output_type": "stream",
     "text": [
      "Fetching data for NOW...\n"
     ]
    },
    {
     "name": "stderr",
     "output_type": "stream",
     "text": [
      "[*********************100%***********************]  1 of 1 completed\n",
      "C:\\Users\\diego\\AppData\\Local\\Temp\\ipykernel_50852\\430125842.py:13: FutureWarning: Calling float on a single element Series is deprecated and will raise a TypeError in the future. Use float(ser.iloc[0]) instead\n",
      "  open_price     = float(df.iloc[1][\"Open\"])\n",
      "C:\\Users\\diego\\AppData\\Local\\Temp\\ipykernel_50852\\430125842.py:14: FutureWarning: Calling float on a single element Series is deprecated and will raise a TypeError in the future. Use float(ser.iloc[0]) instead\n",
      "  close_price    = float(df.iloc[1][\"Close\"])\n",
      "C:\\Users\\diego\\AppData\\Local\\Temp\\ipykernel_50852\\430125842.py:15: FutureWarning: Calling float on a single element Series is deprecated and will raise a TypeError in the future. Use float(ser.iloc[0]) instead\n",
      "  previous_open  = float(df.iloc[0][\"Open\"])\n",
      "C:\\Users\\diego\\AppData\\Local\\Temp\\ipykernel_50852\\430125842.py:16: FutureWarning: Calling float on a single element Series is deprecated and will raise a TypeError in the future. Use float(ser.iloc[0]) instead\n",
      "  previous_close = float(df.iloc[0][\"Close\"])\n"
     ]
    },
    {
     "name": "stdout",
     "output_type": "stream",
     "text": [
      "Fetching data for SHW...\n"
     ]
    },
    {
     "name": "stderr",
     "output_type": "stream",
     "text": [
      "[*********************100%***********************]  1 of 1 completed\n",
      "C:\\Users\\diego\\AppData\\Local\\Temp\\ipykernel_50852\\430125842.py:13: FutureWarning: Calling float on a single element Series is deprecated and will raise a TypeError in the future. Use float(ser.iloc[0]) instead\n",
      "  open_price     = float(df.iloc[1][\"Open\"])\n",
      "C:\\Users\\diego\\AppData\\Local\\Temp\\ipykernel_50852\\430125842.py:14: FutureWarning: Calling float on a single element Series is deprecated and will raise a TypeError in the future. Use float(ser.iloc[0]) instead\n",
      "  close_price    = float(df.iloc[1][\"Close\"])\n",
      "C:\\Users\\diego\\AppData\\Local\\Temp\\ipykernel_50852\\430125842.py:15: FutureWarning: Calling float on a single element Series is deprecated and will raise a TypeError in the future. Use float(ser.iloc[0]) instead\n",
      "  previous_open  = float(df.iloc[0][\"Open\"])\n",
      "C:\\Users\\diego\\AppData\\Local\\Temp\\ipykernel_50852\\430125842.py:16: FutureWarning: Calling float on a single element Series is deprecated and will raise a TypeError in the future. Use float(ser.iloc[0]) instead\n",
      "  previous_close = float(df.iloc[0][\"Close\"])\n"
     ]
    },
    {
     "name": "stdout",
     "output_type": "stream",
     "text": [
      "Fetching data for SPG...\n"
     ]
    },
    {
     "name": "stderr",
     "output_type": "stream",
     "text": [
      "[*********************100%***********************]  1 of 1 completed\n",
      "C:\\Users\\diego\\AppData\\Local\\Temp\\ipykernel_50852\\430125842.py:13: FutureWarning: Calling float on a single element Series is deprecated and will raise a TypeError in the future. Use float(ser.iloc[0]) instead\n",
      "  open_price     = float(df.iloc[1][\"Open\"])\n",
      "C:\\Users\\diego\\AppData\\Local\\Temp\\ipykernel_50852\\430125842.py:14: FutureWarning: Calling float on a single element Series is deprecated and will raise a TypeError in the future. Use float(ser.iloc[0]) instead\n",
      "  close_price    = float(df.iloc[1][\"Close\"])\n",
      "C:\\Users\\diego\\AppData\\Local\\Temp\\ipykernel_50852\\430125842.py:15: FutureWarning: Calling float on a single element Series is deprecated and will raise a TypeError in the future. Use float(ser.iloc[0]) instead\n",
      "  previous_open  = float(df.iloc[0][\"Open\"])\n",
      "C:\\Users\\diego\\AppData\\Local\\Temp\\ipykernel_50852\\430125842.py:16: FutureWarning: Calling float on a single element Series is deprecated and will raise a TypeError in the future. Use float(ser.iloc[0]) instead\n",
      "  previous_close = float(df.iloc[0][\"Close\"])\n"
     ]
    },
    {
     "name": "stdout",
     "output_type": "stream",
     "text": [
      "Fetching data for SWKS...\n"
     ]
    },
    {
     "name": "stderr",
     "output_type": "stream",
     "text": [
      "[*********************100%***********************]  1 of 1 completed\n",
      "C:\\Users\\diego\\AppData\\Local\\Temp\\ipykernel_50852\\430125842.py:13: FutureWarning: Calling float on a single element Series is deprecated and will raise a TypeError in the future. Use float(ser.iloc[0]) instead\n",
      "  open_price     = float(df.iloc[1][\"Open\"])\n",
      "C:\\Users\\diego\\AppData\\Local\\Temp\\ipykernel_50852\\430125842.py:14: FutureWarning: Calling float on a single element Series is deprecated and will raise a TypeError in the future. Use float(ser.iloc[0]) instead\n",
      "  close_price    = float(df.iloc[1][\"Close\"])\n",
      "C:\\Users\\diego\\AppData\\Local\\Temp\\ipykernel_50852\\430125842.py:15: FutureWarning: Calling float on a single element Series is deprecated and will raise a TypeError in the future. Use float(ser.iloc[0]) instead\n",
      "  previous_open  = float(df.iloc[0][\"Open\"])\n",
      "C:\\Users\\diego\\AppData\\Local\\Temp\\ipykernel_50852\\430125842.py:16: FutureWarning: Calling float on a single element Series is deprecated and will raise a TypeError in the future. Use float(ser.iloc[0]) instead\n",
      "  previous_close = float(df.iloc[0][\"Close\"])\n"
     ]
    },
    {
     "name": "stdout",
     "output_type": "stream",
     "text": [
      "Fetching data for SJM...\n"
     ]
    },
    {
     "name": "stderr",
     "output_type": "stream",
     "text": [
      "[*********************100%***********************]  1 of 1 completed\n",
      "C:\\Users\\diego\\AppData\\Local\\Temp\\ipykernel_50852\\430125842.py:13: FutureWarning: Calling float on a single element Series is deprecated and will raise a TypeError in the future. Use float(ser.iloc[0]) instead\n",
      "  open_price     = float(df.iloc[1][\"Open\"])\n",
      "C:\\Users\\diego\\AppData\\Local\\Temp\\ipykernel_50852\\430125842.py:14: FutureWarning: Calling float on a single element Series is deprecated and will raise a TypeError in the future. Use float(ser.iloc[0]) instead\n",
      "  close_price    = float(df.iloc[1][\"Close\"])\n",
      "C:\\Users\\diego\\AppData\\Local\\Temp\\ipykernel_50852\\430125842.py:15: FutureWarning: Calling float on a single element Series is deprecated and will raise a TypeError in the future. Use float(ser.iloc[0]) instead\n",
      "  previous_open  = float(df.iloc[0][\"Open\"])\n",
      "C:\\Users\\diego\\AppData\\Local\\Temp\\ipykernel_50852\\430125842.py:16: FutureWarning: Calling float on a single element Series is deprecated and will raise a TypeError in the future. Use float(ser.iloc[0]) instead\n",
      "  previous_close = float(df.iloc[0][\"Close\"])\n"
     ]
    },
    {
     "name": "stdout",
     "output_type": "stream",
     "text": [
      "Fetching data for SW...\n"
     ]
    },
    {
     "name": "stderr",
     "output_type": "stream",
     "text": [
      "[*********************100%***********************]  1 of 1 completed\n",
      "\n",
      "1 Failed download:\n",
      "['SW']: YFPricesMissingError('$%ticker%: possibly delisted; no price data found  (1d 2019-10-07 -> 2023-12-05) (Yahoo error = \"Data doesn\\'t exist for startDate = 1570420800, endDate = 1701752400\")')\n"
     ]
    },
    {
     "name": "stdout",
     "output_type": "stream",
     "text": [
      "Not enough data for SW. Skipping.\n",
      "Failed tickers: ['GEV', 'NEM', 'NWSA', 'NWS', 'SW']\n",
      "Fetching data for SNA...\n"
     ]
    },
    {
     "name": "stderr",
     "output_type": "stream",
     "text": [
      "[*********************100%***********************]  1 of 1 completed\n",
      "C:\\Users\\diego\\AppData\\Local\\Temp\\ipykernel_50852\\430125842.py:13: FutureWarning: Calling float on a single element Series is deprecated and will raise a TypeError in the future. Use float(ser.iloc[0]) instead\n",
      "  open_price     = float(df.iloc[1][\"Open\"])\n",
      "C:\\Users\\diego\\AppData\\Local\\Temp\\ipykernel_50852\\430125842.py:14: FutureWarning: Calling float on a single element Series is deprecated and will raise a TypeError in the future. Use float(ser.iloc[0]) instead\n",
      "  close_price    = float(df.iloc[1][\"Close\"])\n",
      "C:\\Users\\diego\\AppData\\Local\\Temp\\ipykernel_50852\\430125842.py:15: FutureWarning: Calling float on a single element Series is deprecated and will raise a TypeError in the future. Use float(ser.iloc[0]) instead\n",
      "  previous_open  = float(df.iloc[0][\"Open\"])\n",
      "C:\\Users\\diego\\AppData\\Local\\Temp\\ipykernel_50852\\430125842.py:16: FutureWarning: Calling float on a single element Series is deprecated and will raise a TypeError in the future. Use float(ser.iloc[0]) instead\n",
      "  previous_close = float(df.iloc[0][\"Close\"])\n"
     ]
    },
    {
     "name": "stdout",
     "output_type": "stream",
     "text": [
      "Fetching data for SOLV...\n"
     ]
    },
    {
     "name": "stderr",
     "output_type": "stream",
     "text": [
      "[*********************100%***********************]  1 of 1 completed\n",
      "\n",
      "1 Failed download:\n",
      "['SOLV']: YFPricesMissingError('$%ticker%: possibly delisted; no price data found  (1d 2019-10-07 -> 2023-12-05) (Yahoo error = \"Data doesn\\'t exist for startDate = 1570420800, endDate = 1701752400\")')\n"
     ]
    },
    {
     "name": "stdout",
     "output_type": "stream",
     "text": [
      "Not enough data for SOLV. Skipping.\n",
      "Failed tickers: ['GEV', 'NEM', 'NWSA', 'NWS', 'SW', 'SOLV']\n",
      "Fetching data for SO...\n"
     ]
    },
    {
     "name": "stderr",
     "output_type": "stream",
     "text": [
      "[*********************100%***********************]  1 of 1 completed\n",
      "C:\\Users\\diego\\AppData\\Local\\Temp\\ipykernel_50852\\430125842.py:13: FutureWarning: Calling float on a single element Series is deprecated and will raise a TypeError in the future. Use float(ser.iloc[0]) instead\n",
      "  open_price     = float(df.iloc[1][\"Open\"])\n",
      "C:\\Users\\diego\\AppData\\Local\\Temp\\ipykernel_50852\\430125842.py:14: FutureWarning: Calling float on a single element Series is deprecated and will raise a TypeError in the future. Use float(ser.iloc[0]) instead\n",
      "  close_price    = float(df.iloc[1][\"Close\"])\n",
      "C:\\Users\\diego\\AppData\\Local\\Temp\\ipykernel_50852\\430125842.py:15: FutureWarning: Calling float on a single element Series is deprecated and will raise a TypeError in the future. Use float(ser.iloc[0]) instead\n",
      "  previous_open  = float(df.iloc[0][\"Open\"])\n",
      "C:\\Users\\diego\\AppData\\Local\\Temp\\ipykernel_50852\\430125842.py:16: FutureWarning: Calling float on a single element Series is deprecated and will raise a TypeError in the future. Use float(ser.iloc[0]) instead\n",
      "  previous_close = float(df.iloc[0][\"Close\"])\n"
     ]
    },
    {
     "name": "stdout",
     "output_type": "stream",
     "text": [
      "Fetching data for LUV...\n"
     ]
    },
    {
     "name": "stderr",
     "output_type": "stream",
     "text": [
      "[*********************100%***********************]  1 of 1 completed\n",
      "C:\\Users\\diego\\AppData\\Local\\Temp\\ipykernel_50852\\430125842.py:13: FutureWarning: Calling float on a single element Series is deprecated and will raise a TypeError in the future. Use float(ser.iloc[0]) instead\n",
      "  open_price     = float(df.iloc[1][\"Open\"])\n",
      "C:\\Users\\diego\\AppData\\Local\\Temp\\ipykernel_50852\\430125842.py:14: FutureWarning: Calling float on a single element Series is deprecated and will raise a TypeError in the future. Use float(ser.iloc[0]) instead\n",
      "  close_price    = float(df.iloc[1][\"Close\"])\n",
      "C:\\Users\\diego\\AppData\\Local\\Temp\\ipykernel_50852\\430125842.py:15: FutureWarning: Calling float on a single element Series is deprecated and will raise a TypeError in the future. Use float(ser.iloc[0]) instead\n",
      "  previous_open  = float(df.iloc[0][\"Open\"])\n",
      "C:\\Users\\diego\\AppData\\Local\\Temp\\ipykernel_50852\\430125842.py:16: FutureWarning: Calling float on a single element Series is deprecated and will raise a TypeError in the future. Use float(ser.iloc[0]) instead\n",
      "  previous_close = float(df.iloc[0][\"Close\"])\n"
     ]
    },
    {
     "name": "stdout",
     "output_type": "stream",
     "text": [
      "Fetching data for SWK...\n"
     ]
    },
    {
     "name": "stderr",
     "output_type": "stream",
     "text": [
      "[*********************100%***********************]  1 of 1 completed\n",
      "C:\\Users\\diego\\AppData\\Local\\Temp\\ipykernel_50852\\430125842.py:13: FutureWarning: Calling float on a single element Series is deprecated and will raise a TypeError in the future. Use float(ser.iloc[0]) instead\n",
      "  open_price     = float(df.iloc[1][\"Open\"])\n",
      "C:\\Users\\diego\\AppData\\Local\\Temp\\ipykernel_50852\\430125842.py:14: FutureWarning: Calling float on a single element Series is deprecated and will raise a TypeError in the future. Use float(ser.iloc[0]) instead\n",
      "  close_price    = float(df.iloc[1][\"Close\"])\n",
      "C:\\Users\\diego\\AppData\\Local\\Temp\\ipykernel_50852\\430125842.py:15: FutureWarning: Calling float on a single element Series is deprecated and will raise a TypeError in the future. Use float(ser.iloc[0]) instead\n",
      "  previous_open  = float(df.iloc[0][\"Open\"])\n",
      "C:\\Users\\diego\\AppData\\Local\\Temp\\ipykernel_50852\\430125842.py:16: FutureWarning: Calling float on a single element Series is deprecated and will raise a TypeError in the future. Use float(ser.iloc[0]) instead\n",
      "  previous_close = float(df.iloc[0][\"Close\"])\n"
     ]
    },
    {
     "name": "stdout",
     "output_type": "stream",
     "text": [
      "Fetching data for SBUX...\n"
     ]
    },
    {
     "name": "stderr",
     "output_type": "stream",
     "text": [
      "[*********************100%***********************]  1 of 1 completed\n",
      "C:\\Users\\diego\\AppData\\Local\\Temp\\ipykernel_50852\\430125842.py:13: FutureWarning: Calling float on a single element Series is deprecated and will raise a TypeError in the future. Use float(ser.iloc[0]) instead\n",
      "  open_price     = float(df.iloc[1][\"Open\"])\n",
      "C:\\Users\\diego\\AppData\\Local\\Temp\\ipykernel_50852\\430125842.py:14: FutureWarning: Calling float on a single element Series is deprecated and will raise a TypeError in the future. Use float(ser.iloc[0]) instead\n",
      "  close_price    = float(df.iloc[1][\"Close\"])\n",
      "C:\\Users\\diego\\AppData\\Local\\Temp\\ipykernel_50852\\430125842.py:15: FutureWarning: Calling float on a single element Series is deprecated and will raise a TypeError in the future. Use float(ser.iloc[0]) instead\n",
      "  previous_open  = float(df.iloc[0][\"Open\"])\n",
      "C:\\Users\\diego\\AppData\\Local\\Temp\\ipykernel_50852\\430125842.py:16: FutureWarning: Calling float on a single element Series is deprecated and will raise a TypeError in the future. Use float(ser.iloc[0]) instead\n",
      "  previous_close = float(df.iloc[0][\"Close\"])\n"
     ]
    },
    {
     "name": "stdout",
     "output_type": "stream",
     "text": [
      "Fetching data for STT...\n"
     ]
    },
    {
     "name": "stderr",
     "output_type": "stream",
     "text": [
      "[*********************100%***********************]  1 of 1 completed\n",
      "C:\\Users\\diego\\AppData\\Local\\Temp\\ipykernel_50852\\430125842.py:13: FutureWarning: Calling float on a single element Series is deprecated and will raise a TypeError in the future. Use float(ser.iloc[0]) instead\n",
      "  open_price     = float(df.iloc[1][\"Open\"])\n",
      "C:\\Users\\diego\\AppData\\Local\\Temp\\ipykernel_50852\\430125842.py:14: FutureWarning: Calling float on a single element Series is deprecated and will raise a TypeError in the future. Use float(ser.iloc[0]) instead\n",
      "  close_price    = float(df.iloc[1][\"Close\"])\n",
      "C:\\Users\\diego\\AppData\\Local\\Temp\\ipykernel_50852\\430125842.py:15: FutureWarning: Calling float on a single element Series is deprecated and will raise a TypeError in the future. Use float(ser.iloc[0]) instead\n",
      "  previous_open  = float(df.iloc[0][\"Open\"])\n",
      "C:\\Users\\diego\\AppData\\Local\\Temp\\ipykernel_50852\\430125842.py:16: FutureWarning: Calling float on a single element Series is deprecated and will raise a TypeError in the future. Use float(ser.iloc[0]) instead\n",
      "  previous_close = float(df.iloc[0][\"Close\"])\n"
     ]
    },
    {
     "name": "stdout",
     "output_type": "stream",
     "text": [
      "Fetching data for STLD...\n"
     ]
    },
    {
     "name": "stderr",
     "output_type": "stream",
     "text": [
      "[*********************100%***********************]  1 of 1 completed\n",
      "C:\\Users\\diego\\AppData\\Local\\Temp\\ipykernel_50852\\430125842.py:13: FutureWarning: Calling float on a single element Series is deprecated and will raise a TypeError in the future. Use float(ser.iloc[0]) instead\n",
      "  open_price     = float(df.iloc[1][\"Open\"])\n",
      "C:\\Users\\diego\\AppData\\Local\\Temp\\ipykernel_50852\\430125842.py:14: FutureWarning: Calling float on a single element Series is deprecated and will raise a TypeError in the future. Use float(ser.iloc[0]) instead\n",
      "  close_price    = float(df.iloc[1][\"Close\"])\n",
      "C:\\Users\\diego\\AppData\\Local\\Temp\\ipykernel_50852\\430125842.py:15: FutureWarning: Calling float on a single element Series is deprecated and will raise a TypeError in the future. Use float(ser.iloc[0]) instead\n",
      "  previous_open  = float(df.iloc[0][\"Open\"])\n",
      "C:\\Users\\diego\\AppData\\Local\\Temp\\ipykernel_50852\\430125842.py:16: FutureWarning: Calling float on a single element Series is deprecated and will raise a TypeError in the future. Use float(ser.iloc[0]) instead\n",
      "  previous_close = float(df.iloc[0][\"Close\"])\n"
     ]
    },
    {
     "name": "stdout",
     "output_type": "stream",
     "text": [
      "Fetching data for STE...\n"
     ]
    },
    {
     "name": "stderr",
     "output_type": "stream",
     "text": [
      "[*********************100%***********************]  1 of 1 completed\n",
      "C:\\Users\\diego\\AppData\\Local\\Temp\\ipykernel_50852\\430125842.py:13: FutureWarning: Calling float on a single element Series is deprecated and will raise a TypeError in the future. Use float(ser.iloc[0]) instead\n",
      "  open_price     = float(df.iloc[1][\"Open\"])\n",
      "C:\\Users\\diego\\AppData\\Local\\Temp\\ipykernel_50852\\430125842.py:14: FutureWarning: Calling float on a single element Series is deprecated and will raise a TypeError in the future. Use float(ser.iloc[0]) instead\n",
      "  close_price    = float(df.iloc[1][\"Close\"])\n",
      "C:\\Users\\diego\\AppData\\Local\\Temp\\ipykernel_50852\\430125842.py:15: FutureWarning: Calling float on a single element Series is deprecated and will raise a TypeError in the future. Use float(ser.iloc[0]) instead\n",
      "  previous_open  = float(df.iloc[0][\"Open\"])\n",
      "C:\\Users\\diego\\AppData\\Local\\Temp\\ipykernel_50852\\430125842.py:16: FutureWarning: Calling float on a single element Series is deprecated and will raise a TypeError in the future. Use float(ser.iloc[0]) instead\n",
      "  previous_close = float(df.iloc[0][\"Close\"])\n"
     ]
    },
    {
     "name": "stdout",
     "output_type": "stream",
     "text": [
      "Fetching data for SYK...\n"
     ]
    },
    {
     "name": "stderr",
     "output_type": "stream",
     "text": [
      "[*********************100%***********************]  1 of 1 completed\n",
      "C:\\Users\\diego\\AppData\\Local\\Temp\\ipykernel_50852\\430125842.py:13: FutureWarning: Calling float on a single element Series is deprecated and will raise a TypeError in the future. Use float(ser.iloc[0]) instead\n",
      "  open_price     = float(df.iloc[1][\"Open\"])\n",
      "C:\\Users\\diego\\AppData\\Local\\Temp\\ipykernel_50852\\430125842.py:14: FutureWarning: Calling float on a single element Series is deprecated and will raise a TypeError in the future. Use float(ser.iloc[0]) instead\n",
      "  close_price    = float(df.iloc[1][\"Close\"])\n",
      "C:\\Users\\diego\\AppData\\Local\\Temp\\ipykernel_50852\\430125842.py:15: FutureWarning: Calling float on a single element Series is deprecated and will raise a TypeError in the future. Use float(ser.iloc[0]) instead\n",
      "  previous_open  = float(df.iloc[0][\"Open\"])\n",
      "C:\\Users\\diego\\AppData\\Local\\Temp\\ipykernel_50852\\430125842.py:16: FutureWarning: Calling float on a single element Series is deprecated and will raise a TypeError in the future. Use float(ser.iloc[0]) instead\n",
      "  previous_close = float(df.iloc[0][\"Close\"])\n"
     ]
    },
    {
     "name": "stdout",
     "output_type": "stream",
     "text": [
      "Fetching data for SMCI...\n"
     ]
    },
    {
     "name": "stderr",
     "output_type": "stream",
     "text": [
      "[*********************100%***********************]  1 of 1 completed\n",
      "C:\\Users\\diego\\AppData\\Local\\Temp\\ipykernel_50852\\430125842.py:13: FutureWarning: Calling float on a single element Series is deprecated and will raise a TypeError in the future. Use float(ser.iloc[0]) instead\n",
      "  open_price     = float(df.iloc[1][\"Open\"])\n",
      "C:\\Users\\diego\\AppData\\Local\\Temp\\ipykernel_50852\\430125842.py:14: FutureWarning: Calling float on a single element Series is deprecated and will raise a TypeError in the future. Use float(ser.iloc[0]) instead\n",
      "  close_price    = float(df.iloc[1][\"Close\"])\n",
      "C:\\Users\\diego\\AppData\\Local\\Temp\\ipykernel_50852\\430125842.py:15: FutureWarning: Calling float on a single element Series is deprecated and will raise a TypeError in the future. Use float(ser.iloc[0]) instead\n",
      "  previous_open  = float(df.iloc[0][\"Open\"])\n",
      "C:\\Users\\diego\\AppData\\Local\\Temp\\ipykernel_50852\\430125842.py:16: FutureWarning: Calling float on a single element Series is deprecated and will raise a TypeError in the future. Use float(ser.iloc[0]) instead\n",
      "  previous_close = float(df.iloc[0][\"Close\"])\n"
     ]
    },
    {
     "name": "stdout",
     "output_type": "stream",
     "text": [
      "Fetching data for SYF...\n"
     ]
    },
    {
     "name": "stderr",
     "output_type": "stream",
     "text": [
      "[*********************100%***********************]  1 of 1 completed\n",
      "C:\\Users\\diego\\AppData\\Local\\Temp\\ipykernel_50852\\430125842.py:13: FutureWarning: Calling float on a single element Series is deprecated and will raise a TypeError in the future. Use float(ser.iloc[0]) instead\n",
      "  open_price     = float(df.iloc[1][\"Open\"])\n",
      "C:\\Users\\diego\\AppData\\Local\\Temp\\ipykernel_50852\\430125842.py:14: FutureWarning: Calling float on a single element Series is deprecated and will raise a TypeError in the future. Use float(ser.iloc[0]) instead\n",
      "  close_price    = float(df.iloc[1][\"Close\"])\n",
      "C:\\Users\\diego\\AppData\\Local\\Temp\\ipykernel_50852\\430125842.py:15: FutureWarning: Calling float on a single element Series is deprecated and will raise a TypeError in the future. Use float(ser.iloc[0]) instead\n",
      "  previous_open  = float(df.iloc[0][\"Open\"])\n",
      "C:\\Users\\diego\\AppData\\Local\\Temp\\ipykernel_50852\\430125842.py:16: FutureWarning: Calling float on a single element Series is deprecated and will raise a TypeError in the future. Use float(ser.iloc[0]) instead\n",
      "  previous_close = float(df.iloc[0][\"Close\"])\n"
     ]
    },
    {
     "name": "stdout",
     "output_type": "stream",
     "text": [
      "Fetching data for SNPS...\n"
     ]
    },
    {
     "name": "stderr",
     "output_type": "stream",
     "text": [
      "[*********************100%***********************]  1 of 1 completed\n",
      "C:\\Users\\diego\\AppData\\Local\\Temp\\ipykernel_50852\\430125842.py:13: FutureWarning: Calling float on a single element Series is deprecated and will raise a TypeError in the future. Use float(ser.iloc[0]) instead\n",
      "  open_price     = float(df.iloc[1][\"Open\"])\n",
      "C:\\Users\\diego\\AppData\\Local\\Temp\\ipykernel_50852\\430125842.py:14: FutureWarning: Calling float on a single element Series is deprecated and will raise a TypeError in the future. Use float(ser.iloc[0]) instead\n",
      "  close_price    = float(df.iloc[1][\"Close\"])\n",
      "C:\\Users\\diego\\AppData\\Local\\Temp\\ipykernel_50852\\430125842.py:15: FutureWarning: Calling float on a single element Series is deprecated and will raise a TypeError in the future. Use float(ser.iloc[0]) instead\n",
      "  previous_open  = float(df.iloc[0][\"Open\"])\n",
      "C:\\Users\\diego\\AppData\\Local\\Temp\\ipykernel_50852\\430125842.py:16: FutureWarning: Calling float on a single element Series is deprecated and will raise a TypeError in the future. Use float(ser.iloc[0]) instead\n",
      "  previous_close = float(df.iloc[0][\"Close\"])\n"
     ]
    },
    {
     "name": "stdout",
     "output_type": "stream",
     "text": [
      "Fetching data for SYY...\n"
     ]
    },
    {
     "name": "stderr",
     "output_type": "stream",
     "text": [
      "[*********************100%***********************]  1 of 1 completed\n",
      "C:\\Users\\diego\\AppData\\Local\\Temp\\ipykernel_50852\\430125842.py:13: FutureWarning: Calling float on a single element Series is deprecated and will raise a TypeError in the future. Use float(ser.iloc[0]) instead\n",
      "  open_price     = float(df.iloc[1][\"Open\"])\n",
      "C:\\Users\\diego\\AppData\\Local\\Temp\\ipykernel_50852\\430125842.py:14: FutureWarning: Calling float on a single element Series is deprecated and will raise a TypeError in the future. Use float(ser.iloc[0]) instead\n",
      "  close_price    = float(df.iloc[1][\"Close\"])\n",
      "C:\\Users\\diego\\AppData\\Local\\Temp\\ipykernel_50852\\430125842.py:15: FutureWarning: Calling float on a single element Series is deprecated and will raise a TypeError in the future. Use float(ser.iloc[0]) instead\n",
      "  previous_open  = float(df.iloc[0][\"Open\"])\n",
      "C:\\Users\\diego\\AppData\\Local\\Temp\\ipykernel_50852\\430125842.py:16: FutureWarning: Calling float on a single element Series is deprecated and will raise a TypeError in the future. Use float(ser.iloc[0]) instead\n",
      "  previous_close = float(df.iloc[0][\"Close\"])\n"
     ]
    },
    {
     "name": "stdout",
     "output_type": "stream",
     "text": [
      "Fetching data for TMUS...\n"
     ]
    },
    {
     "name": "stderr",
     "output_type": "stream",
     "text": [
      "[*********************100%***********************]  1 of 1 completed\n",
      "C:\\Users\\diego\\AppData\\Local\\Temp\\ipykernel_50852\\430125842.py:13: FutureWarning: Calling float on a single element Series is deprecated and will raise a TypeError in the future. Use float(ser.iloc[0]) instead\n",
      "  open_price     = float(df.iloc[1][\"Open\"])\n",
      "C:\\Users\\diego\\AppData\\Local\\Temp\\ipykernel_50852\\430125842.py:14: FutureWarning: Calling float on a single element Series is deprecated and will raise a TypeError in the future. Use float(ser.iloc[0]) instead\n",
      "  close_price    = float(df.iloc[1][\"Close\"])\n",
      "C:\\Users\\diego\\AppData\\Local\\Temp\\ipykernel_50852\\430125842.py:15: FutureWarning: Calling float on a single element Series is deprecated and will raise a TypeError in the future. Use float(ser.iloc[0]) instead\n",
      "  previous_open  = float(df.iloc[0][\"Open\"])\n",
      "C:\\Users\\diego\\AppData\\Local\\Temp\\ipykernel_50852\\430125842.py:16: FutureWarning: Calling float on a single element Series is deprecated and will raise a TypeError in the future. Use float(ser.iloc[0]) instead\n",
      "  previous_close = float(df.iloc[0][\"Close\"])\n"
     ]
    },
    {
     "name": "stdout",
     "output_type": "stream",
     "text": [
      "Fetching data for TROW...\n"
     ]
    },
    {
     "name": "stderr",
     "output_type": "stream",
     "text": [
      "[*********************100%***********************]  1 of 1 completed\n",
      "C:\\Users\\diego\\AppData\\Local\\Temp\\ipykernel_50852\\430125842.py:13: FutureWarning: Calling float on a single element Series is deprecated and will raise a TypeError in the future. Use float(ser.iloc[0]) instead\n",
      "  open_price     = float(df.iloc[1][\"Open\"])\n",
      "C:\\Users\\diego\\AppData\\Local\\Temp\\ipykernel_50852\\430125842.py:14: FutureWarning: Calling float on a single element Series is deprecated and will raise a TypeError in the future. Use float(ser.iloc[0]) instead\n",
      "  close_price    = float(df.iloc[1][\"Close\"])\n",
      "C:\\Users\\diego\\AppData\\Local\\Temp\\ipykernel_50852\\430125842.py:15: FutureWarning: Calling float on a single element Series is deprecated and will raise a TypeError in the future. Use float(ser.iloc[0]) instead\n",
      "  previous_open  = float(df.iloc[0][\"Open\"])\n",
      "C:\\Users\\diego\\AppData\\Local\\Temp\\ipykernel_50852\\430125842.py:16: FutureWarning: Calling float on a single element Series is deprecated and will raise a TypeError in the future. Use float(ser.iloc[0]) instead\n",
      "  previous_close = float(df.iloc[0][\"Close\"])\n"
     ]
    },
    {
     "name": "stdout",
     "output_type": "stream",
     "text": [
      "Fetching data for TTWO...\n"
     ]
    },
    {
     "name": "stderr",
     "output_type": "stream",
     "text": [
      "[*********************100%***********************]  1 of 1 completed\n",
      "C:\\Users\\diego\\AppData\\Local\\Temp\\ipykernel_50852\\430125842.py:13: FutureWarning: Calling float on a single element Series is deprecated and will raise a TypeError in the future. Use float(ser.iloc[0]) instead\n",
      "  open_price     = float(df.iloc[1][\"Open\"])\n",
      "C:\\Users\\diego\\AppData\\Local\\Temp\\ipykernel_50852\\430125842.py:14: FutureWarning: Calling float on a single element Series is deprecated and will raise a TypeError in the future. Use float(ser.iloc[0]) instead\n",
      "  close_price    = float(df.iloc[1][\"Close\"])\n",
      "C:\\Users\\diego\\AppData\\Local\\Temp\\ipykernel_50852\\430125842.py:15: FutureWarning: Calling float on a single element Series is deprecated and will raise a TypeError in the future. Use float(ser.iloc[0]) instead\n",
      "  previous_open  = float(df.iloc[0][\"Open\"])\n",
      "C:\\Users\\diego\\AppData\\Local\\Temp\\ipykernel_50852\\430125842.py:16: FutureWarning: Calling float on a single element Series is deprecated and will raise a TypeError in the future. Use float(ser.iloc[0]) instead\n",
      "  previous_close = float(df.iloc[0][\"Close\"])\n"
     ]
    },
    {
     "name": "stdout",
     "output_type": "stream",
     "text": [
      "Fetching data for TPR...\n"
     ]
    },
    {
     "name": "stderr",
     "output_type": "stream",
     "text": [
      "[*********************100%***********************]  1 of 1 completed\n",
      "C:\\Users\\diego\\AppData\\Local\\Temp\\ipykernel_50852\\430125842.py:13: FutureWarning: Calling float on a single element Series is deprecated and will raise a TypeError in the future. Use float(ser.iloc[0]) instead\n",
      "  open_price     = float(df.iloc[1][\"Open\"])\n",
      "C:\\Users\\diego\\AppData\\Local\\Temp\\ipykernel_50852\\430125842.py:14: FutureWarning: Calling float on a single element Series is deprecated and will raise a TypeError in the future. Use float(ser.iloc[0]) instead\n",
      "  close_price    = float(df.iloc[1][\"Close\"])\n",
      "C:\\Users\\diego\\AppData\\Local\\Temp\\ipykernel_50852\\430125842.py:15: FutureWarning: Calling float on a single element Series is deprecated and will raise a TypeError in the future. Use float(ser.iloc[0]) instead\n",
      "  previous_open  = float(df.iloc[0][\"Open\"])\n",
      "C:\\Users\\diego\\AppData\\Local\\Temp\\ipykernel_50852\\430125842.py:16: FutureWarning: Calling float on a single element Series is deprecated and will raise a TypeError in the future. Use float(ser.iloc[0]) instead\n",
      "  previous_close = float(df.iloc[0][\"Close\"])\n"
     ]
    },
    {
     "name": "stdout",
     "output_type": "stream",
     "text": [
      "Fetching data for TRGP...\n"
     ]
    },
    {
     "name": "stderr",
     "output_type": "stream",
     "text": [
      "[*********************100%***********************]  1 of 1 completed\n",
      "C:\\Users\\diego\\AppData\\Local\\Temp\\ipykernel_50852\\430125842.py:13: FutureWarning: Calling float on a single element Series is deprecated and will raise a TypeError in the future. Use float(ser.iloc[0]) instead\n",
      "  open_price     = float(df.iloc[1][\"Open\"])\n",
      "C:\\Users\\diego\\AppData\\Local\\Temp\\ipykernel_50852\\430125842.py:14: FutureWarning: Calling float on a single element Series is deprecated and will raise a TypeError in the future. Use float(ser.iloc[0]) instead\n",
      "  close_price    = float(df.iloc[1][\"Close\"])\n",
      "C:\\Users\\diego\\AppData\\Local\\Temp\\ipykernel_50852\\430125842.py:15: FutureWarning: Calling float on a single element Series is deprecated and will raise a TypeError in the future. Use float(ser.iloc[0]) instead\n",
      "  previous_open  = float(df.iloc[0][\"Open\"])\n",
      "C:\\Users\\diego\\AppData\\Local\\Temp\\ipykernel_50852\\430125842.py:16: FutureWarning: Calling float on a single element Series is deprecated and will raise a TypeError in the future. Use float(ser.iloc[0]) instead\n",
      "  previous_close = float(df.iloc[0][\"Close\"])\n"
     ]
    },
    {
     "name": "stdout",
     "output_type": "stream",
     "text": [
      "Fetching data for TGT...\n"
     ]
    },
    {
     "name": "stderr",
     "output_type": "stream",
     "text": [
      "[*********************100%***********************]  1 of 1 completed\n",
      "C:\\Users\\diego\\AppData\\Local\\Temp\\ipykernel_50852\\430125842.py:13: FutureWarning: Calling float on a single element Series is deprecated and will raise a TypeError in the future. Use float(ser.iloc[0]) instead\n",
      "  open_price     = float(df.iloc[1][\"Open\"])\n",
      "C:\\Users\\diego\\AppData\\Local\\Temp\\ipykernel_50852\\430125842.py:14: FutureWarning: Calling float on a single element Series is deprecated and will raise a TypeError in the future. Use float(ser.iloc[0]) instead\n",
      "  close_price    = float(df.iloc[1][\"Close\"])\n",
      "C:\\Users\\diego\\AppData\\Local\\Temp\\ipykernel_50852\\430125842.py:15: FutureWarning: Calling float on a single element Series is deprecated and will raise a TypeError in the future. Use float(ser.iloc[0]) instead\n",
      "  previous_open  = float(df.iloc[0][\"Open\"])\n",
      "C:\\Users\\diego\\AppData\\Local\\Temp\\ipykernel_50852\\430125842.py:16: FutureWarning: Calling float on a single element Series is deprecated and will raise a TypeError in the future. Use float(ser.iloc[0]) instead\n",
      "  previous_close = float(df.iloc[0][\"Close\"])\n"
     ]
    },
    {
     "name": "stdout",
     "output_type": "stream",
     "text": [
      "Fetching data for TEL...\n"
     ]
    },
    {
     "name": "stderr",
     "output_type": "stream",
     "text": [
      "[*********************100%***********************]  1 of 1 completed\n",
      "C:\\Users\\diego\\AppData\\Local\\Temp\\ipykernel_50852\\430125842.py:13: FutureWarning: Calling float on a single element Series is deprecated and will raise a TypeError in the future. Use float(ser.iloc[0]) instead\n",
      "  open_price     = float(df.iloc[1][\"Open\"])\n",
      "C:\\Users\\diego\\AppData\\Local\\Temp\\ipykernel_50852\\430125842.py:14: FutureWarning: Calling float on a single element Series is deprecated and will raise a TypeError in the future. Use float(ser.iloc[0]) instead\n",
      "  close_price    = float(df.iloc[1][\"Close\"])\n",
      "C:\\Users\\diego\\AppData\\Local\\Temp\\ipykernel_50852\\430125842.py:15: FutureWarning: Calling float on a single element Series is deprecated and will raise a TypeError in the future. Use float(ser.iloc[0]) instead\n",
      "  previous_open  = float(df.iloc[0][\"Open\"])\n",
      "C:\\Users\\diego\\AppData\\Local\\Temp\\ipykernel_50852\\430125842.py:16: FutureWarning: Calling float on a single element Series is deprecated and will raise a TypeError in the future. Use float(ser.iloc[0]) instead\n",
      "  previous_close = float(df.iloc[0][\"Close\"])\n"
     ]
    },
    {
     "name": "stdout",
     "output_type": "stream",
     "text": [
      "Fetching data for TDY...\n"
     ]
    },
    {
     "name": "stderr",
     "output_type": "stream",
     "text": [
      "[*********************100%***********************]  1 of 1 completed\n",
      "C:\\Users\\diego\\AppData\\Local\\Temp\\ipykernel_50852\\430125842.py:13: FutureWarning: Calling float on a single element Series is deprecated and will raise a TypeError in the future. Use float(ser.iloc[0]) instead\n",
      "  open_price     = float(df.iloc[1][\"Open\"])\n",
      "C:\\Users\\diego\\AppData\\Local\\Temp\\ipykernel_50852\\430125842.py:14: FutureWarning: Calling float on a single element Series is deprecated and will raise a TypeError in the future. Use float(ser.iloc[0]) instead\n",
      "  close_price    = float(df.iloc[1][\"Close\"])\n",
      "C:\\Users\\diego\\AppData\\Local\\Temp\\ipykernel_50852\\430125842.py:15: FutureWarning: Calling float on a single element Series is deprecated and will raise a TypeError in the future. Use float(ser.iloc[0]) instead\n",
      "  previous_open  = float(df.iloc[0][\"Open\"])\n",
      "C:\\Users\\diego\\AppData\\Local\\Temp\\ipykernel_50852\\430125842.py:16: FutureWarning: Calling float on a single element Series is deprecated and will raise a TypeError in the future. Use float(ser.iloc[0]) instead\n",
      "  previous_close = float(df.iloc[0][\"Close\"])\n"
     ]
    },
    {
     "name": "stdout",
     "output_type": "stream",
     "text": [
      "Fetching data for TFX...\n"
     ]
    },
    {
     "name": "stderr",
     "output_type": "stream",
     "text": [
      "[*********************100%***********************]  1 of 1 completed\n",
      "C:\\Users\\diego\\AppData\\Local\\Temp\\ipykernel_50852\\430125842.py:13: FutureWarning: Calling float on a single element Series is deprecated and will raise a TypeError in the future. Use float(ser.iloc[0]) instead\n",
      "  open_price     = float(df.iloc[1][\"Open\"])\n",
      "C:\\Users\\diego\\AppData\\Local\\Temp\\ipykernel_50852\\430125842.py:14: FutureWarning: Calling float on a single element Series is deprecated and will raise a TypeError in the future. Use float(ser.iloc[0]) instead\n",
      "  close_price    = float(df.iloc[1][\"Close\"])\n",
      "C:\\Users\\diego\\AppData\\Local\\Temp\\ipykernel_50852\\430125842.py:15: FutureWarning: Calling float on a single element Series is deprecated and will raise a TypeError in the future. Use float(ser.iloc[0]) instead\n",
      "  previous_open  = float(df.iloc[0][\"Open\"])\n",
      "C:\\Users\\diego\\AppData\\Local\\Temp\\ipykernel_50852\\430125842.py:16: FutureWarning: Calling float on a single element Series is deprecated and will raise a TypeError in the future. Use float(ser.iloc[0]) instead\n",
      "  previous_close = float(df.iloc[0][\"Close\"])\n"
     ]
    },
    {
     "name": "stdout",
     "output_type": "stream",
     "text": [
      "Fetching data for TER...\n"
     ]
    },
    {
     "name": "stderr",
     "output_type": "stream",
     "text": [
      "[*********************100%***********************]  1 of 1 completed\n",
      "C:\\Users\\diego\\AppData\\Local\\Temp\\ipykernel_50852\\430125842.py:13: FutureWarning: Calling float on a single element Series is deprecated and will raise a TypeError in the future. Use float(ser.iloc[0]) instead\n",
      "  open_price     = float(df.iloc[1][\"Open\"])\n",
      "C:\\Users\\diego\\AppData\\Local\\Temp\\ipykernel_50852\\430125842.py:14: FutureWarning: Calling float on a single element Series is deprecated and will raise a TypeError in the future. Use float(ser.iloc[0]) instead\n",
      "  close_price    = float(df.iloc[1][\"Close\"])\n",
      "C:\\Users\\diego\\AppData\\Local\\Temp\\ipykernel_50852\\430125842.py:15: FutureWarning: Calling float on a single element Series is deprecated and will raise a TypeError in the future. Use float(ser.iloc[0]) instead\n",
      "  previous_open  = float(df.iloc[0][\"Open\"])\n",
      "C:\\Users\\diego\\AppData\\Local\\Temp\\ipykernel_50852\\430125842.py:16: FutureWarning: Calling float on a single element Series is deprecated and will raise a TypeError in the future. Use float(ser.iloc[0]) instead\n",
      "  previous_close = float(df.iloc[0][\"Close\"])\n"
     ]
    },
    {
     "name": "stdout",
     "output_type": "stream",
     "text": [
      "Fetching data for TSLA...\n"
     ]
    },
    {
     "name": "stderr",
     "output_type": "stream",
     "text": [
      "[*********************100%***********************]  1 of 1 completed\n",
      "C:\\Users\\diego\\AppData\\Local\\Temp\\ipykernel_50852\\430125842.py:13: FutureWarning: Calling float on a single element Series is deprecated and will raise a TypeError in the future. Use float(ser.iloc[0]) instead\n",
      "  open_price     = float(df.iloc[1][\"Open\"])\n",
      "C:\\Users\\diego\\AppData\\Local\\Temp\\ipykernel_50852\\430125842.py:14: FutureWarning: Calling float on a single element Series is deprecated and will raise a TypeError in the future. Use float(ser.iloc[0]) instead\n",
      "  close_price    = float(df.iloc[1][\"Close\"])\n",
      "C:\\Users\\diego\\AppData\\Local\\Temp\\ipykernel_50852\\430125842.py:15: FutureWarning: Calling float on a single element Series is deprecated and will raise a TypeError in the future. Use float(ser.iloc[0]) instead\n",
      "  previous_open  = float(df.iloc[0][\"Open\"])\n",
      "C:\\Users\\diego\\AppData\\Local\\Temp\\ipykernel_50852\\430125842.py:16: FutureWarning: Calling float on a single element Series is deprecated and will raise a TypeError in the future. Use float(ser.iloc[0]) instead\n",
      "  previous_close = float(df.iloc[0][\"Close\"])\n"
     ]
    },
    {
     "name": "stdout",
     "output_type": "stream",
     "text": [
      "Fetching data for TXN...\n"
     ]
    },
    {
     "name": "stderr",
     "output_type": "stream",
     "text": [
      "[*********************100%***********************]  1 of 1 completed\n",
      "C:\\Users\\diego\\AppData\\Local\\Temp\\ipykernel_50852\\430125842.py:13: FutureWarning: Calling float on a single element Series is deprecated and will raise a TypeError in the future. Use float(ser.iloc[0]) instead\n",
      "  open_price     = float(df.iloc[1][\"Open\"])\n",
      "C:\\Users\\diego\\AppData\\Local\\Temp\\ipykernel_50852\\430125842.py:14: FutureWarning: Calling float on a single element Series is deprecated and will raise a TypeError in the future. Use float(ser.iloc[0]) instead\n",
      "  close_price    = float(df.iloc[1][\"Close\"])\n",
      "C:\\Users\\diego\\AppData\\Local\\Temp\\ipykernel_50852\\430125842.py:15: FutureWarning: Calling float on a single element Series is deprecated and will raise a TypeError in the future. Use float(ser.iloc[0]) instead\n",
      "  previous_open  = float(df.iloc[0][\"Open\"])\n",
      "C:\\Users\\diego\\AppData\\Local\\Temp\\ipykernel_50852\\430125842.py:16: FutureWarning: Calling float on a single element Series is deprecated and will raise a TypeError in the future. Use float(ser.iloc[0]) instead\n",
      "  previous_close = float(df.iloc[0][\"Close\"])\n"
     ]
    },
    {
     "name": "stdout",
     "output_type": "stream",
     "text": [
      "Fetching data for TPL...\n"
     ]
    },
    {
     "name": "stderr",
     "output_type": "stream",
     "text": [
      "[*********************100%***********************]  1 of 1 completed\n",
      "C:\\Users\\diego\\AppData\\Local\\Temp\\ipykernel_50852\\430125842.py:13: FutureWarning: Calling float on a single element Series is deprecated and will raise a TypeError in the future. Use float(ser.iloc[0]) instead\n",
      "  open_price     = float(df.iloc[1][\"Open\"])\n",
      "C:\\Users\\diego\\AppData\\Local\\Temp\\ipykernel_50852\\430125842.py:14: FutureWarning: Calling float on a single element Series is deprecated and will raise a TypeError in the future. Use float(ser.iloc[0]) instead\n",
      "  close_price    = float(df.iloc[1][\"Close\"])\n",
      "C:\\Users\\diego\\AppData\\Local\\Temp\\ipykernel_50852\\430125842.py:15: FutureWarning: Calling float on a single element Series is deprecated and will raise a TypeError in the future. Use float(ser.iloc[0]) instead\n",
      "  previous_open  = float(df.iloc[0][\"Open\"])\n",
      "C:\\Users\\diego\\AppData\\Local\\Temp\\ipykernel_50852\\430125842.py:16: FutureWarning: Calling float on a single element Series is deprecated and will raise a TypeError in the future. Use float(ser.iloc[0]) instead\n",
      "  previous_close = float(df.iloc[0][\"Close\"])\n"
     ]
    },
    {
     "name": "stdout",
     "output_type": "stream",
     "text": [
      "Fetching data for TXT...\n"
     ]
    },
    {
     "name": "stderr",
     "output_type": "stream",
     "text": [
      "[*********************100%***********************]  1 of 1 completed\n",
      "C:\\Users\\diego\\AppData\\Local\\Temp\\ipykernel_50852\\430125842.py:13: FutureWarning: Calling float on a single element Series is deprecated and will raise a TypeError in the future. Use float(ser.iloc[0]) instead\n",
      "  open_price     = float(df.iloc[1][\"Open\"])\n",
      "C:\\Users\\diego\\AppData\\Local\\Temp\\ipykernel_50852\\430125842.py:14: FutureWarning: Calling float on a single element Series is deprecated and will raise a TypeError in the future. Use float(ser.iloc[0]) instead\n",
      "  close_price    = float(df.iloc[1][\"Close\"])\n",
      "C:\\Users\\diego\\AppData\\Local\\Temp\\ipykernel_50852\\430125842.py:15: FutureWarning: Calling float on a single element Series is deprecated and will raise a TypeError in the future. Use float(ser.iloc[0]) instead\n",
      "  previous_open  = float(df.iloc[0][\"Open\"])\n",
      "C:\\Users\\diego\\AppData\\Local\\Temp\\ipykernel_50852\\430125842.py:16: FutureWarning: Calling float on a single element Series is deprecated and will raise a TypeError in the future. Use float(ser.iloc[0]) instead\n",
      "  previous_close = float(df.iloc[0][\"Close\"])\n"
     ]
    },
    {
     "name": "stdout",
     "output_type": "stream",
     "text": [
      "Fetching data for TMO...\n"
     ]
    },
    {
     "name": "stderr",
     "output_type": "stream",
     "text": [
      "[*********************100%***********************]  1 of 1 completed\n",
      "C:\\Users\\diego\\AppData\\Local\\Temp\\ipykernel_50852\\430125842.py:13: FutureWarning: Calling float on a single element Series is deprecated and will raise a TypeError in the future. Use float(ser.iloc[0]) instead\n",
      "  open_price     = float(df.iloc[1][\"Open\"])\n",
      "C:\\Users\\diego\\AppData\\Local\\Temp\\ipykernel_50852\\430125842.py:14: FutureWarning: Calling float on a single element Series is deprecated and will raise a TypeError in the future. Use float(ser.iloc[0]) instead\n",
      "  close_price    = float(df.iloc[1][\"Close\"])\n",
      "C:\\Users\\diego\\AppData\\Local\\Temp\\ipykernel_50852\\430125842.py:15: FutureWarning: Calling float on a single element Series is deprecated and will raise a TypeError in the future. Use float(ser.iloc[0]) instead\n",
      "  previous_open  = float(df.iloc[0][\"Open\"])\n",
      "C:\\Users\\diego\\AppData\\Local\\Temp\\ipykernel_50852\\430125842.py:16: FutureWarning: Calling float on a single element Series is deprecated and will raise a TypeError in the future. Use float(ser.iloc[0]) instead\n",
      "  previous_close = float(df.iloc[0][\"Close\"])\n"
     ]
    },
    {
     "name": "stdout",
     "output_type": "stream",
     "text": [
      "Fetching data for TJX...\n"
     ]
    },
    {
     "name": "stderr",
     "output_type": "stream",
     "text": [
      "[*********************100%***********************]  1 of 1 completed\n",
      "C:\\Users\\diego\\AppData\\Local\\Temp\\ipykernel_50852\\430125842.py:13: FutureWarning: Calling float on a single element Series is deprecated and will raise a TypeError in the future. Use float(ser.iloc[0]) instead\n",
      "  open_price     = float(df.iloc[1][\"Open\"])\n",
      "C:\\Users\\diego\\AppData\\Local\\Temp\\ipykernel_50852\\430125842.py:14: FutureWarning: Calling float on a single element Series is deprecated and will raise a TypeError in the future. Use float(ser.iloc[0]) instead\n",
      "  close_price    = float(df.iloc[1][\"Close\"])\n",
      "C:\\Users\\diego\\AppData\\Local\\Temp\\ipykernel_50852\\430125842.py:15: FutureWarning: Calling float on a single element Series is deprecated and will raise a TypeError in the future. Use float(ser.iloc[0]) instead\n",
      "  previous_open  = float(df.iloc[0][\"Open\"])\n",
      "C:\\Users\\diego\\AppData\\Local\\Temp\\ipykernel_50852\\430125842.py:16: FutureWarning: Calling float on a single element Series is deprecated and will raise a TypeError in the future. Use float(ser.iloc[0]) instead\n",
      "  previous_close = float(df.iloc[0][\"Close\"])\n"
     ]
    },
    {
     "name": "stdout",
     "output_type": "stream",
     "text": [
      "Fetching data for TSCO...\n"
     ]
    },
    {
     "name": "stderr",
     "output_type": "stream",
     "text": [
      "[*********************100%***********************]  1 of 1 completed\n",
      "C:\\Users\\diego\\AppData\\Local\\Temp\\ipykernel_50852\\430125842.py:13: FutureWarning: Calling float on a single element Series is deprecated and will raise a TypeError in the future. Use float(ser.iloc[0]) instead\n",
      "  open_price     = float(df.iloc[1][\"Open\"])\n",
      "C:\\Users\\diego\\AppData\\Local\\Temp\\ipykernel_50852\\430125842.py:14: FutureWarning: Calling float on a single element Series is deprecated and will raise a TypeError in the future. Use float(ser.iloc[0]) instead\n",
      "  close_price    = float(df.iloc[1][\"Close\"])\n",
      "C:\\Users\\diego\\AppData\\Local\\Temp\\ipykernel_50852\\430125842.py:15: FutureWarning: Calling float on a single element Series is deprecated and will raise a TypeError in the future. Use float(ser.iloc[0]) instead\n",
      "  previous_open  = float(df.iloc[0][\"Open\"])\n",
      "C:\\Users\\diego\\AppData\\Local\\Temp\\ipykernel_50852\\430125842.py:16: FutureWarning: Calling float on a single element Series is deprecated and will raise a TypeError in the future. Use float(ser.iloc[0]) instead\n",
      "  previous_close = float(df.iloc[0][\"Close\"])\n"
     ]
    },
    {
     "name": "stdout",
     "output_type": "stream",
     "text": [
      "Fetching data for TT...\n"
     ]
    },
    {
     "name": "stderr",
     "output_type": "stream",
     "text": [
      "[*********************100%***********************]  1 of 1 completed\n",
      "C:\\Users\\diego\\AppData\\Local\\Temp\\ipykernel_50852\\430125842.py:13: FutureWarning: Calling float on a single element Series is deprecated and will raise a TypeError in the future. Use float(ser.iloc[0]) instead\n",
      "  open_price     = float(df.iloc[1][\"Open\"])\n",
      "C:\\Users\\diego\\AppData\\Local\\Temp\\ipykernel_50852\\430125842.py:14: FutureWarning: Calling float on a single element Series is deprecated and will raise a TypeError in the future. Use float(ser.iloc[0]) instead\n",
      "  close_price    = float(df.iloc[1][\"Close\"])\n",
      "C:\\Users\\diego\\AppData\\Local\\Temp\\ipykernel_50852\\430125842.py:15: FutureWarning: Calling float on a single element Series is deprecated and will raise a TypeError in the future. Use float(ser.iloc[0]) instead\n",
      "  previous_open  = float(df.iloc[0][\"Open\"])\n",
      "C:\\Users\\diego\\AppData\\Local\\Temp\\ipykernel_50852\\430125842.py:16: FutureWarning: Calling float on a single element Series is deprecated and will raise a TypeError in the future. Use float(ser.iloc[0]) instead\n",
      "  previous_close = float(df.iloc[0][\"Close\"])\n"
     ]
    },
    {
     "name": "stdout",
     "output_type": "stream",
     "text": [
      "Fetching data for TDG...\n"
     ]
    },
    {
     "name": "stderr",
     "output_type": "stream",
     "text": [
      "[*********************100%***********************]  1 of 1 completed\n",
      "C:\\Users\\diego\\AppData\\Local\\Temp\\ipykernel_50852\\430125842.py:13: FutureWarning: Calling float on a single element Series is deprecated and will raise a TypeError in the future. Use float(ser.iloc[0]) instead\n",
      "  open_price     = float(df.iloc[1][\"Open\"])\n",
      "C:\\Users\\diego\\AppData\\Local\\Temp\\ipykernel_50852\\430125842.py:14: FutureWarning: Calling float on a single element Series is deprecated and will raise a TypeError in the future. Use float(ser.iloc[0]) instead\n",
      "  close_price    = float(df.iloc[1][\"Close\"])\n",
      "C:\\Users\\diego\\AppData\\Local\\Temp\\ipykernel_50852\\430125842.py:15: FutureWarning: Calling float on a single element Series is deprecated and will raise a TypeError in the future. Use float(ser.iloc[0]) instead\n",
      "  previous_open  = float(df.iloc[0][\"Open\"])\n",
      "C:\\Users\\diego\\AppData\\Local\\Temp\\ipykernel_50852\\430125842.py:16: FutureWarning: Calling float on a single element Series is deprecated and will raise a TypeError in the future. Use float(ser.iloc[0]) instead\n",
      "  previous_close = float(df.iloc[0][\"Close\"])\n"
     ]
    },
    {
     "name": "stdout",
     "output_type": "stream",
     "text": [
      "Fetching data for TRV...\n"
     ]
    },
    {
     "name": "stderr",
     "output_type": "stream",
     "text": [
      "[*********************100%***********************]  1 of 1 completed\n",
      "C:\\Users\\diego\\AppData\\Local\\Temp\\ipykernel_50852\\430125842.py:13: FutureWarning: Calling float on a single element Series is deprecated and will raise a TypeError in the future. Use float(ser.iloc[0]) instead\n",
      "  open_price     = float(df.iloc[1][\"Open\"])\n",
      "C:\\Users\\diego\\AppData\\Local\\Temp\\ipykernel_50852\\430125842.py:14: FutureWarning: Calling float on a single element Series is deprecated and will raise a TypeError in the future. Use float(ser.iloc[0]) instead\n",
      "  close_price    = float(df.iloc[1][\"Close\"])\n",
      "C:\\Users\\diego\\AppData\\Local\\Temp\\ipykernel_50852\\430125842.py:15: FutureWarning: Calling float on a single element Series is deprecated and will raise a TypeError in the future. Use float(ser.iloc[0]) instead\n",
      "  previous_open  = float(df.iloc[0][\"Open\"])\n",
      "C:\\Users\\diego\\AppData\\Local\\Temp\\ipykernel_50852\\430125842.py:16: FutureWarning: Calling float on a single element Series is deprecated and will raise a TypeError in the future. Use float(ser.iloc[0]) instead\n",
      "  previous_close = float(df.iloc[0][\"Close\"])\n"
     ]
    },
    {
     "name": "stdout",
     "output_type": "stream",
     "text": [
      "Fetching data for TRMB...\n"
     ]
    },
    {
     "name": "stderr",
     "output_type": "stream",
     "text": [
      "[*********************100%***********************]  1 of 1 completed\n",
      "C:\\Users\\diego\\AppData\\Local\\Temp\\ipykernel_50852\\430125842.py:13: FutureWarning: Calling float on a single element Series is deprecated and will raise a TypeError in the future. Use float(ser.iloc[0]) instead\n",
      "  open_price     = float(df.iloc[1][\"Open\"])\n",
      "C:\\Users\\diego\\AppData\\Local\\Temp\\ipykernel_50852\\430125842.py:14: FutureWarning: Calling float on a single element Series is deprecated and will raise a TypeError in the future. Use float(ser.iloc[0]) instead\n",
      "  close_price    = float(df.iloc[1][\"Close\"])\n",
      "C:\\Users\\diego\\AppData\\Local\\Temp\\ipykernel_50852\\430125842.py:15: FutureWarning: Calling float on a single element Series is deprecated and will raise a TypeError in the future. Use float(ser.iloc[0]) instead\n",
      "  previous_open  = float(df.iloc[0][\"Open\"])\n",
      "C:\\Users\\diego\\AppData\\Local\\Temp\\ipykernel_50852\\430125842.py:16: FutureWarning: Calling float on a single element Series is deprecated and will raise a TypeError in the future. Use float(ser.iloc[0]) instead\n",
      "  previous_close = float(df.iloc[0][\"Close\"])\n"
     ]
    },
    {
     "name": "stdout",
     "output_type": "stream",
     "text": [
      "Fetching data for TFC...\n"
     ]
    },
    {
     "name": "stderr",
     "output_type": "stream",
     "text": [
      "[*********************100%***********************]  1 of 1 completed\n",
      "C:\\Users\\diego\\AppData\\Local\\Temp\\ipykernel_50852\\430125842.py:13: FutureWarning: Calling float on a single element Series is deprecated and will raise a TypeError in the future. Use float(ser.iloc[0]) instead\n",
      "  open_price     = float(df.iloc[1][\"Open\"])\n",
      "C:\\Users\\diego\\AppData\\Local\\Temp\\ipykernel_50852\\430125842.py:14: FutureWarning: Calling float on a single element Series is deprecated and will raise a TypeError in the future. Use float(ser.iloc[0]) instead\n",
      "  close_price    = float(df.iloc[1][\"Close\"])\n",
      "C:\\Users\\diego\\AppData\\Local\\Temp\\ipykernel_50852\\430125842.py:15: FutureWarning: Calling float on a single element Series is deprecated and will raise a TypeError in the future. Use float(ser.iloc[0]) instead\n",
      "  previous_open  = float(df.iloc[0][\"Open\"])\n",
      "C:\\Users\\diego\\AppData\\Local\\Temp\\ipykernel_50852\\430125842.py:16: FutureWarning: Calling float on a single element Series is deprecated and will raise a TypeError in the future. Use float(ser.iloc[0]) instead\n",
      "  previous_close = float(df.iloc[0][\"Close\"])\n"
     ]
    },
    {
     "name": "stdout",
     "output_type": "stream",
     "text": [
      "Fetching data for TYL...\n"
     ]
    },
    {
     "name": "stderr",
     "output_type": "stream",
     "text": [
      "[*********************100%***********************]  1 of 1 completed\n",
      "C:\\Users\\diego\\AppData\\Local\\Temp\\ipykernel_50852\\430125842.py:13: FutureWarning: Calling float on a single element Series is deprecated and will raise a TypeError in the future. Use float(ser.iloc[0]) instead\n",
      "  open_price     = float(df.iloc[1][\"Open\"])\n",
      "C:\\Users\\diego\\AppData\\Local\\Temp\\ipykernel_50852\\430125842.py:14: FutureWarning: Calling float on a single element Series is deprecated and will raise a TypeError in the future. Use float(ser.iloc[0]) instead\n",
      "  close_price    = float(df.iloc[1][\"Close\"])\n",
      "C:\\Users\\diego\\AppData\\Local\\Temp\\ipykernel_50852\\430125842.py:15: FutureWarning: Calling float on a single element Series is deprecated and will raise a TypeError in the future. Use float(ser.iloc[0]) instead\n",
      "  previous_open  = float(df.iloc[0][\"Open\"])\n",
      "C:\\Users\\diego\\AppData\\Local\\Temp\\ipykernel_50852\\430125842.py:16: FutureWarning: Calling float on a single element Series is deprecated and will raise a TypeError in the future. Use float(ser.iloc[0]) instead\n",
      "  previous_close = float(df.iloc[0][\"Close\"])\n"
     ]
    },
    {
     "name": "stdout",
     "output_type": "stream",
     "text": [
      "Fetching data for TSN...\n"
     ]
    },
    {
     "name": "stderr",
     "output_type": "stream",
     "text": [
      "[*********************100%***********************]  1 of 1 completed\n",
      "C:\\Users\\diego\\AppData\\Local\\Temp\\ipykernel_50852\\430125842.py:13: FutureWarning: Calling float on a single element Series is deprecated and will raise a TypeError in the future. Use float(ser.iloc[0]) instead\n",
      "  open_price     = float(df.iloc[1][\"Open\"])\n",
      "C:\\Users\\diego\\AppData\\Local\\Temp\\ipykernel_50852\\430125842.py:14: FutureWarning: Calling float on a single element Series is deprecated and will raise a TypeError in the future. Use float(ser.iloc[0]) instead\n",
      "  close_price    = float(df.iloc[1][\"Close\"])\n",
      "C:\\Users\\diego\\AppData\\Local\\Temp\\ipykernel_50852\\430125842.py:15: FutureWarning: Calling float on a single element Series is deprecated and will raise a TypeError in the future. Use float(ser.iloc[0]) instead\n",
      "  previous_open  = float(df.iloc[0][\"Open\"])\n",
      "C:\\Users\\diego\\AppData\\Local\\Temp\\ipykernel_50852\\430125842.py:16: FutureWarning: Calling float on a single element Series is deprecated and will raise a TypeError in the future. Use float(ser.iloc[0]) instead\n",
      "  previous_close = float(df.iloc[0][\"Close\"])\n"
     ]
    },
    {
     "name": "stdout",
     "output_type": "stream",
     "text": [
      "Fetching data for USB...\n"
     ]
    },
    {
     "name": "stderr",
     "output_type": "stream",
     "text": [
      "[*********************100%***********************]  1 of 1 completed\n",
      "C:\\Users\\diego\\AppData\\Local\\Temp\\ipykernel_50852\\430125842.py:13: FutureWarning: Calling float on a single element Series is deprecated and will raise a TypeError in the future. Use float(ser.iloc[0]) instead\n",
      "  open_price     = float(df.iloc[1][\"Open\"])\n",
      "C:\\Users\\diego\\AppData\\Local\\Temp\\ipykernel_50852\\430125842.py:14: FutureWarning: Calling float on a single element Series is deprecated and will raise a TypeError in the future. Use float(ser.iloc[0]) instead\n",
      "  close_price    = float(df.iloc[1][\"Close\"])\n",
      "C:\\Users\\diego\\AppData\\Local\\Temp\\ipykernel_50852\\430125842.py:15: FutureWarning: Calling float on a single element Series is deprecated and will raise a TypeError in the future. Use float(ser.iloc[0]) instead\n",
      "  previous_open  = float(df.iloc[0][\"Open\"])\n",
      "C:\\Users\\diego\\AppData\\Local\\Temp\\ipykernel_50852\\430125842.py:16: FutureWarning: Calling float on a single element Series is deprecated and will raise a TypeError in the future. Use float(ser.iloc[0]) instead\n",
      "  previous_close = float(df.iloc[0][\"Close\"])\n"
     ]
    },
    {
     "name": "stdout",
     "output_type": "stream",
     "text": [
      "Fetching data for UBER...\n"
     ]
    },
    {
     "name": "stderr",
     "output_type": "stream",
     "text": [
      "[*********************100%***********************]  1 of 1 completed\n",
      "C:\\Users\\diego\\AppData\\Local\\Temp\\ipykernel_50852\\430125842.py:13: FutureWarning: Calling float on a single element Series is deprecated and will raise a TypeError in the future. Use float(ser.iloc[0]) instead\n",
      "  open_price     = float(df.iloc[1][\"Open\"])\n",
      "C:\\Users\\diego\\AppData\\Local\\Temp\\ipykernel_50852\\430125842.py:14: FutureWarning: Calling float on a single element Series is deprecated and will raise a TypeError in the future. Use float(ser.iloc[0]) instead\n",
      "  close_price    = float(df.iloc[1][\"Close\"])\n",
      "C:\\Users\\diego\\AppData\\Local\\Temp\\ipykernel_50852\\430125842.py:15: FutureWarning: Calling float on a single element Series is deprecated and will raise a TypeError in the future. Use float(ser.iloc[0]) instead\n",
      "  previous_open  = float(df.iloc[0][\"Open\"])\n",
      "C:\\Users\\diego\\AppData\\Local\\Temp\\ipykernel_50852\\430125842.py:16: FutureWarning: Calling float on a single element Series is deprecated and will raise a TypeError in the future. Use float(ser.iloc[0]) instead\n",
      "  previous_close = float(df.iloc[0][\"Close\"])\n"
     ]
    },
    {
     "name": "stdout",
     "output_type": "stream",
     "text": [
      "Fetching data for UDR...\n"
     ]
    },
    {
     "name": "stderr",
     "output_type": "stream",
     "text": [
      "[*********************100%***********************]  1 of 1 completed\n",
      "C:\\Users\\diego\\AppData\\Local\\Temp\\ipykernel_50852\\430125842.py:13: FutureWarning: Calling float on a single element Series is deprecated and will raise a TypeError in the future. Use float(ser.iloc[0]) instead\n",
      "  open_price     = float(df.iloc[1][\"Open\"])\n",
      "C:\\Users\\diego\\AppData\\Local\\Temp\\ipykernel_50852\\430125842.py:14: FutureWarning: Calling float on a single element Series is deprecated and will raise a TypeError in the future. Use float(ser.iloc[0]) instead\n",
      "  close_price    = float(df.iloc[1][\"Close\"])\n",
      "C:\\Users\\diego\\AppData\\Local\\Temp\\ipykernel_50852\\430125842.py:15: FutureWarning: Calling float on a single element Series is deprecated and will raise a TypeError in the future. Use float(ser.iloc[0]) instead\n",
      "  previous_open  = float(df.iloc[0][\"Open\"])\n",
      "C:\\Users\\diego\\AppData\\Local\\Temp\\ipykernel_50852\\430125842.py:16: FutureWarning: Calling float on a single element Series is deprecated and will raise a TypeError in the future. Use float(ser.iloc[0]) instead\n",
      "  previous_close = float(df.iloc[0][\"Close\"])\n"
     ]
    },
    {
     "name": "stdout",
     "output_type": "stream",
     "text": [
      "Fetching data for ULTA...\n"
     ]
    },
    {
     "name": "stderr",
     "output_type": "stream",
     "text": [
      "[*********************100%***********************]  1 of 1 completed\n",
      "C:\\Users\\diego\\AppData\\Local\\Temp\\ipykernel_50852\\430125842.py:13: FutureWarning: Calling float on a single element Series is deprecated and will raise a TypeError in the future. Use float(ser.iloc[0]) instead\n",
      "  open_price     = float(df.iloc[1][\"Open\"])\n",
      "C:\\Users\\diego\\AppData\\Local\\Temp\\ipykernel_50852\\430125842.py:14: FutureWarning: Calling float on a single element Series is deprecated and will raise a TypeError in the future. Use float(ser.iloc[0]) instead\n",
      "  close_price    = float(df.iloc[1][\"Close\"])\n",
      "C:\\Users\\diego\\AppData\\Local\\Temp\\ipykernel_50852\\430125842.py:15: FutureWarning: Calling float on a single element Series is deprecated and will raise a TypeError in the future. Use float(ser.iloc[0]) instead\n",
      "  previous_open  = float(df.iloc[0][\"Open\"])\n",
      "C:\\Users\\diego\\AppData\\Local\\Temp\\ipykernel_50852\\430125842.py:16: FutureWarning: Calling float on a single element Series is deprecated and will raise a TypeError in the future. Use float(ser.iloc[0]) instead\n",
      "  previous_close = float(df.iloc[0][\"Close\"])\n"
     ]
    },
    {
     "name": "stdout",
     "output_type": "stream",
     "text": [
      "Fetching data for UNP...\n"
     ]
    },
    {
     "name": "stderr",
     "output_type": "stream",
     "text": [
      "[*********************100%***********************]  1 of 1 completed\n",
      "C:\\Users\\diego\\AppData\\Local\\Temp\\ipykernel_50852\\430125842.py:13: FutureWarning: Calling float on a single element Series is deprecated and will raise a TypeError in the future. Use float(ser.iloc[0]) instead\n",
      "  open_price     = float(df.iloc[1][\"Open\"])\n",
      "C:\\Users\\diego\\AppData\\Local\\Temp\\ipykernel_50852\\430125842.py:14: FutureWarning: Calling float on a single element Series is deprecated and will raise a TypeError in the future. Use float(ser.iloc[0]) instead\n",
      "  close_price    = float(df.iloc[1][\"Close\"])\n",
      "C:\\Users\\diego\\AppData\\Local\\Temp\\ipykernel_50852\\430125842.py:15: FutureWarning: Calling float on a single element Series is deprecated and will raise a TypeError in the future. Use float(ser.iloc[0]) instead\n",
      "  previous_open  = float(df.iloc[0][\"Open\"])\n",
      "C:\\Users\\diego\\AppData\\Local\\Temp\\ipykernel_50852\\430125842.py:16: FutureWarning: Calling float on a single element Series is deprecated and will raise a TypeError in the future. Use float(ser.iloc[0]) instead\n",
      "  previous_close = float(df.iloc[0][\"Close\"])\n"
     ]
    },
    {
     "name": "stdout",
     "output_type": "stream",
     "text": [
      "Fetching data for UAL...\n"
     ]
    },
    {
     "name": "stderr",
     "output_type": "stream",
     "text": [
      "[*********************100%***********************]  1 of 1 completed\n",
      "C:\\Users\\diego\\AppData\\Local\\Temp\\ipykernel_50852\\430125842.py:13: FutureWarning: Calling float on a single element Series is deprecated and will raise a TypeError in the future. Use float(ser.iloc[0]) instead\n",
      "  open_price     = float(df.iloc[1][\"Open\"])\n",
      "C:\\Users\\diego\\AppData\\Local\\Temp\\ipykernel_50852\\430125842.py:14: FutureWarning: Calling float on a single element Series is deprecated and will raise a TypeError in the future. Use float(ser.iloc[0]) instead\n",
      "  close_price    = float(df.iloc[1][\"Close\"])\n",
      "C:\\Users\\diego\\AppData\\Local\\Temp\\ipykernel_50852\\430125842.py:15: FutureWarning: Calling float on a single element Series is deprecated and will raise a TypeError in the future. Use float(ser.iloc[0]) instead\n",
      "  previous_open  = float(df.iloc[0][\"Open\"])\n",
      "C:\\Users\\diego\\AppData\\Local\\Temp\\ipykernel_50852\\430125842.py:16: FutureWarning: Calling float on a single element Series is deprecated and will raise a TypeError in the future. Use float(ser.iloc[0]) instead\n",
      "  previous_close = float(df.iloc[0][\"Close\"])\n"
     ]
    },
    {
     "name": "stdout",
     "output_type": "stream",
     "text": [
      "Fetching data for UPS...\n"
     ]
    },
    {
     "name": "stderr",
     "output_type": "stream",
     "text": [
      "[*********************100%***********************]  1 of 1 completed\n",
      "C:\\Users\\diego\\AppData\\Local\\Temp\\ipykernel_50852\\430125842.py:13: FutureWarning: Calling float on a single element Series is deprecated and will raise a TypeError in the future. Use float(ser.iloc[0]) instead\n",
      "  open_price     = float(df.iloc[1][\"Open\"])\n",
      "C:\\Users\\diego\\AppData\\Local\\Temp\\ipykernel_50852\\430125842.py:14: FutureWarning: Calling float on a single element Series is deprecated and will raise a TypeError in the future. Use float(ser.iloc[0]) instead\n",
      "  close_price    = float(df.iloc[1][\"Close\"])\n",
      "C:\\Users\\diego\\AppData\\Local\\Temp\\ipykernel_50852\\430125842.py:15: FutureWarning: Calling float on a single element Series is deprecated and will raise a TypeError in the future. Use float(ser.iloc[0]) instead\n",
      "  previous_open  = float(df.iloc[0][\"Open\"])\n",
      "C:\\Users\\diego\\AppData\\Local\\Temp\\ipykernel_50852\\430125842.py:16: FutureWarning: Calling float on a single element Series is deprecated and will raise a TypeError in the future. Use float(ser.iloc[0]) instead\n",
      "  previous_close = float(df.iloc[0][\"Close\"])\n"
     ]
    },
    {
     "name": "stdout",
     "output_type": "stream",
     "text": [
      "Fetching data for URI...\n"
     ]
    },
    {
     "name": "stderr",
     "output_type": "stream",
     "text": [
      "[*********************100%***********************]  1 of 1 completed\n",
      "C:\\Users\\diego\\AppData\\Local\\Temp\\ipykernel_50852\\430125842.py:13: FutureWarning: Calling float on a single element Series is deprecated and will raise a TypeError in the future. Use float(ser.iloc[0]) instead\n",
      "  open_price     = float(df.iloc[1][\"Open\"])\n",
      "C:\\Users\\diego\\AppData\\Local\\Temp\\ipykernel_50852\\430125842.py:14: FutureWarning: Calling float on a single element Series is deprecated and will raise a TypeError in the future. Use float(ser.iloc[0]) instead\n",
      "  close_price    = float(df.iloc[1][\"Close\"])\n",
      "C:\\Users\\diego\\AppData\\Local\\Temp\\ipykernel_50852\\430125842.py:15: FutureWarning: Calling float on a single element Series is deprecated and will raise a TypeError in the future. Use float(ser.iloc[0]) instead\n",
      "  previous_open  = float(df.iloc[0][\"Open\"])\n",
      "C:\\Users\\diego\\AppData\\Local\\Temp\\ipykernel_50852\\430125842.py:16: FutureWarning: Calling float on a single element Series is deprecated and will raise a TypeError in the future. Use float(ser.iloc[0]) instead\n",
      "  previous_close = float(df.iloc[0][\"Close\"])\n"
     ]
    },
    {
     "name": "stdout",
     "output_type": "stream",
     "text": [
      "Fetching data for UNH...\n"
     ]
    },
    {
     "name": "stderr",
     "output_type": "stream",
     "text": [
      "[*********************100%***********************]  1 of 1 completed\n",
      "C:\\Users\\diego\\AppData\\Local\\Temp\\ipykernel_50852\\430125842.py:13: FutureWarning: Calling float on a single element Series is deprecated and will raise a TypeError in the future. Use float(ser.iloc[0]) instead\n",
      "  open_price     = float(df.iloc[1][\"Open\"])\n",
      "C:\\Users\\diego\\AppData\\Local\\Temp\\ipykernel_50852\\430125842.py:14: FutureWarning: Calling float on a single element Series is deprecated and will raise a TypeError in the future. Use float(ser.iloc[0]) instead\n",
      "  close_price    = float(df.iloc[1][\"Close\"])\n",
      "C:\\Users\\diego\\AppData\\Local\\Temp\\ipykernel_50852\\430125842.py:15: FutureWarning: Calling float on a single element Series is deprecated and will raise a TypeError in the future. Use float(ser.iloc[0]) instead\n",
      "  previous_open  = float(df.iloc[0][\"Open\"])\n",
      "C:\\Users\\diego\\AppData\\Local\\Temp\\ipykernel_50852\\430125842.py:16: FutureWarning: Calling float on a single element Series is deprecated and will raise a TypeError in the future. Use float(ser.iloc[0]) instead\n",
      "  previous_close = float(df.iloc[0][\"Close\"])\n"
     ]
    },
    {
     "name": "stdout",
     "output_type": "stream",
     "text": [
      "Fetching data for UHS...\n"
     ]
    },
    {
     "name": "stderr",
     "output_type": "stream",
     "text": [
      "[*********************100%***********************]  1 of 1 completed\n",
      "C:\\Users\\diego\\AppData\\Local\\Temp\\ipykernel_50852\\430125842.py:13: FutureWarning: Calling float on a single element Series is deprecated and will raise a TypeError in the future. Use float(ser.iloc[0]) instead\n",
      "  open_price     = float(df.iloc[1][\"Open\"])\n",
      "C:\\Users\\diego\\AppData\\Local\\Temp\\ipykernel_50852\\430125842.py:14: FutureWarning: Calling float on a single element Series is deprecated and will raise a TypeError in the future. Use float(ser.iloc[0]) instead\n",
      "  close_price    = float(df.iloc[1][\"Close\"])\n",
      "C:\\Users\\diego\\AppData\\Local\\Temp\\ipykernel_50852\\430125842.py:15: FutureWarning: Calling float on a single element Series is deprecated and will raise a TypeError in the future. Use float(ser.iloc[0]) instead\n",
      "  previous_open  = float(df.iloc[0][\"Open\"])\n",
      "C:\\Users\\diego\\AppData\\Local\\Temp\\ipykernel_50852\\430125842.py:16: FutureWarning: Calling float on a single element Series is deprecated and will raise a TypeError in the future. Use float(ser.iloc[0]) instead\n",
      "  previous_close = float(df.iloc[0][\"Close\"])\n"
     ]
    },
    {
     "name": "stdout",
     "output_type": "stream",
     "text": [
      "Fetching data for VLO...\n"
     ]
    },
    {
     "name": "stderr",
     "output_type": "stream",
     "text": [
      "[*********************100%***********************]  1 of 1 completed\n",
      "C:\\Users\\diego\\AppData\\Local\\Temp\\ipykernel_50852\\430125842.py:13: FutureWarning: Calling float on a single element Series is deprecated and will raise a TypeError in the future. Use float(ser.iloc[0]) instead\n",
      "  open_price     = float(df.iloc[1][\"Open\"])\n",
      "C:\\Users\\diego\\AppData\\Local\\Temp\\ipykernel_50852\\430125842.py:14: FutureWarning: Calling float on a single element Series is deprecated and will raise a TypeError in the future. Use float(ser.iloc[0]) instead\n",
      "  close_price    = float(df.iloc[1][\"Close\"])\n",
      "C:\\Users\\diego\\AppData\\Local\\Temp\\ipykernel_50852\\430125842.py:15: FutureWarning: Calling float on a single element Series is deprecated and will raise a TypeError in the future. Use float(ser.iloc[0]) instead\n",
      "  previous_open  = float(df.iloc[0][\"Open\"])\n",
      "C:\\Users\\diego\\AppData\\Local\\Temp\\ipykernel_50852\\430125842.py:16: FutureWarning: Calling float on a single element Series is deprecated and will raise a TypeError in the future. Use float(ser.iloc[0]) instead\n",
      "  previous_close = float(df.iloc[0][\"Close\"])\n"
     ]
    },
    {
     "name": "stdout",
     "output_type": "stream",
     "text": [
      "Fetching data for VTR...\n"
     ]
    },
    {
     "name": "stderr",
     "output_type": "stream",
     "text": [
      "[*********************100%***********************]  1 of 1 completed\n",
      "C:\\Users\\diego\\AppData\\Local\\Temp\\ipykernel_50852\\430125842.py:13: FutureWarning: Calling float on a single element Series is deprecated and will raise a TypeError in the future. Use float(ser.iloc[0]) instead\n",
      "  open_price     = float(df.iloc[1][\"Open\"])\n",
      "C:\\Users\\diego\\AppData\\Local\\Temp\\ipykernel_50852\\430125842.py:14: FutureWarning: Calling float on a single element Series is deprecated and will raise a TypeError in the future. Use float(ser.iloc[0]) instead\n",
      "  close_price    = float(df.iloc[1][\"Close\"])\n",
      "C:\\Users\\diego\\AppData\\Local\\Temp\\ipykernel_50852\\430125842.py:15: FutureWarning: Calling float on a single element Series is deprecated and will raise a TypeError in the future. Use float(ser.iloc[0]) instead\n",
      "  previous_open  = float(df.iloc[0][\"Open\"])\n",
      "C:\\Users\\diego\\AppData\\Local\\Temp\\ipykernel_50852\\430125842.py:16: FutureWarning: Calling float on a single element Series is deprecated and will raise a TypeError in the future. Use float(ser.iloc[0]) instead\n",
      "  previous_close = float(df.iloc[0][\"Close\"])\n",
      "[*********************100%***********************]  1 of 1 completed"
     ]
    },
    {
     "name": "stdout",
     "output_type": "stream",
     "text": [
      "Fetching data for VLTO...\n"
     ]
    },
    {
     "name": "stderr",
     "output_type": "stream",
     "text": [
      "\n",
      "C:\\Users\\diego\\AppData\\Local\\Temp\\ipykernel_50852\\430125842.py:13: FutureWarning: Calling float on a single element Series is deprecated and will raise a TypeError in the future. Use float(ser.iloc[0]) instead\n",
      "  open_price     = float(df.iloc[1][\"Open\"])\n",
      "C:\\Users\\diego\\AppData\\Local\\Temp\\ipykernel_50852\\430125842.py:14: FutureWarning: Calling float on a single element Series is deprecated and will raise a TypeError in the future. Use float(ser.iloc[0]) instead\n",
      "  close_price    = float(df.iloc[1][\"Close\"])\n",
      "C:\\Users\\diego\\AppData\\Local\\Temp\\ipykernel_50852\\430125842.py:15: FutureWarning: Calling float on a single element Series is deprecated and will raise a TypeError in the future. Use float(ser.iloc[0]) instead\n",
      "  previous_open  = float(df.iloc[0][\"Open\"])\n",
      "C:\\Users\\diego\\AppData\\Local\\Temp\\ipykernel_50852\\430125842.py:16: FutureWarning: Calling float on a single element Series is deprecated and will raise a TypeError in the future. Use float(ser.iloc[0]) instead\n",
      "  previous_close = float(df.iloc[0][\"Close\"])\n"
     ]
    },
    {
     "name": "stdout",
     "output_type": "stream",
     "text": [
      "Fetching data for VRSN...\n"
     ]
    },
    {
     "name": "stderr",
     "output_type": "stream",
     "text": [
      "[*********************100%***********************]  1 of 1 completed\n",
      "C:\\Users\\diego\\AppData\\Local\\Temp\\ipykernel_50852\\430125842.py:13: FutureWarning: Calling float on a single element Series is deprecated and will raise a TypeError in the future. Use float(ser.iloc[0]) instead\n",
      "  open_price     = float(df.iloc[1][\"Open\"])\n",
      "C:\\Users\\diego\\AppData\\Local\\Temp\\ipykernel_50852\\430125842.py:14: FutureWarning: Calling float on a single element Series is deprecated and will raise a TypeError in the future. Use float(ser.iloc[0]) instead\n",
      "  close_price    = float(df.iloc[1][\"Close\"])\n",
      "C:\\Users\\diego\\AppData\\Local\\Temp\\ipykernel_50852\\430125842.py:15: FutureWarning: Calling float on a single element Series is deprecated and will raise a TypeError in the future. Use float(ser.iloc[0]) instead\n",
      "  previous_open  = float(df.iloc[0][\"Open\"])\n",
      "C:\\Users\\diego\\AppData\\Local\\Temp\\ipykernel_50852\\430125842.py:16: FutureWarning: Calling float on a single element Series is deprecated and will raise a TypeError in the future. Use float(ser.iloc[0]) instead\n",
      "  previous_close = float(df.iloc[0][\"Close\"])\n"
     ]
    },
    {
     "name": "stdout",
     "output_type": "stream",
     "text": [
      "Fetching data for VRSK...\n"
     ]
    },
    {
     "name": "stderr",
     "output_type": "stream",
     "text": [
      "[*********************100%***********************]  1 of 1 completed\n",
      "C:\\Users\\diego\\AppData\\Local\\Temp\\ipykernel_50852\\430125842.py:13: FutureWarning: Calling float on a single element Series is deprecated and will raise a TypeError in the future. Use float(ser.iloc[0]) instead\n",
      "  open_price     = float(df.iloc[1][\"Open\"])\n",
      "C:\\Users\\diego\\AppData\\Local\\Temp\\ipykernel_50852\\430125842.py:14: FutureWarning: Calling float on a single element Series is deprecated and will raise a TypeError in the future. Use float(ser.iloc[0]) instead\n",
      "  close_price    = float(df.iloc[1][\"Close\"])\n",
      "C:\\Users\\diego\\AppData\\Local\\Temp\\ipykernel_50852\\430125842.py:15: FutureWarning: Calling float on a single element Series is deprecated and will raise a TypeError in the future. Use float(ser.iloc[0]) instead\n",
      "  previous_open  = float(df.iloc[0][\"Open\"])\n",
      "C:\\Users\\diego\\AppData\\Local\\Temp\\ipykernel_50852\\430125842.py:16: FutureWarning: Calling float on a single element Series is deprecated and will raise a TypeError in the future. Use float(ser.iloc[0]) instead\n",
      "  previous_close = float(df.iloc[0][\"Close\"])\n"
     ]
    },
    {
     "name": "stdout",
     "output_type": "stream",
     "text": [
      "Fetching data for VZ...\n"
     ]
    },
    {
     "name": "stderr",
     "output_type": "stream",
     "text": [
      "[*********************100%***********************]  1 of 1 completed\n",
      "C:\\Users\\diego\\AppData\\Local\\Temp\\ipykernel_50852\\430125842.py:13: FutureWarning: Calling float on a single element Series is deprecated and will raise a TypeError in the future. Use float(ser.iloc[0]) instead\n",
      "  open_price     = float(df.iloc[1][\"Open\"])\n",
      "C:\\Users\\diego\\AppData\\Local\\Temp\\ipykernel_50852\\430125842.py:14: FutureWarning: Calling float on a single element Series is deprecated and will raise a TypeError in the future. Use float(ser.iloc[0]) instead\n",
      "  close_price    = float(df.iloc[1][\"Close\"])\n",
      "C:\\Users\\diego\\AppData\\Local\\Temp\\ipykernel_50852\\430125842.py:15: FutureWarning: Calling float on a single element Series is deprecated and will raise a TypeError in the future. Use float(ser.iloc[0]) instead\n",
      "  previous_open  = float(df.iloc[0][\"Open\"])\n",
      "C:\\Users\\diego\\AppData\\Local\\Temp\\ipykernel_50852\\430125842.py:16: FutureWarning: Calling float on a single element Series is deprecated and will raise a TypeError in the future. Use float(ser.iloc[0]) instead\n",
      "  previous_close = float(df.iloc[0][\"Close\"])\n"
     ]
    },
    {
     "name": "stdout",
     "output_type": "stream",
     "text": [
      "Fetching data for VRTX...\n"
     ]
    },
    {
     "name": "stderr",
     "output_type": "stream",
     "text": [
      "[*********************100%***********************]  1 of 1 completed\n",
      "C:\\Users\\diego\\AppData\\Local\\Temp\\ipykernel_50852\\430125842.py:13: FutureWarning: Calling float on a single element Series is deprecated and will raise a TypeError in the future. Use float(ser.iloc[0]) instead\n",
      "  open_price     = float(df.iloc[1][\"Open\"])\n",
      "C:\\Users\\diego\\AppData\\Local\\Temp\\ipykernel_50852\\430125842.py:14: FutureWarning: Calling float on a single element Series is deprecated and will raise a TypeError in the future. Use float(ser.iloc[0]) instead\n",
      "  close_price    = float(df.iloc[1][\"Close\"])\n",
      "C:\\Users\\diego\\AppData\\Local\\Temp\\ipykernel_50852\\430125842.py:15: FutureWarning: Calling float on a single element Series is deprecated and will raise a TypeError in the future. Use float(ser.iloc[0]) instead\n",
      "  previous_open  = float(df.iloc[0][\"Open\"])\n",
      "C:\\Users\\diego\\AppData\\Local\\Temp\\ipykernel_50852\\430125842.py:16: FutureWarning: Calling float on a single element Series is deprecated and will raise a TypeError in the future. Use float(ser.iloc[0]) instead\n",
      "  previous_close = float(df.iloc[0][\"Close\"])\n"
     ]
    },
    {
     "name": "stdout",
     "output_type": "stream",
     "text": [
      "Fetching data for VTRS...\n"
     ]
    },
    {
     "name": "stderr",
     "output_type": "stream",
     "text": [
      "[*********************100%***********************]  1 of 1 completed\n",
      "C:\\Users\\diego\\AppData\\Local\\Temp\\ipykernel_50852\\430125842.py:13: FutureWarning: Calling float on a single element Series is deprecated and will raise a TypeError in the future. Use float(ser.iloc[0]) instead\n",
      "  open_price     = float(df.iloc[1][\"Open\"])\n",
      "C:\\Users\\diego\\AppData\\Local\\Temp\\ipykernel_50852\\430125842.py:14: FutureWarning: Calling float on a single element Series is deprecated and will raise a TypeError in the future. Use float(ser.iloc[0]) instead\n",
      "  close_price    = float(df.iloc[1][\"Close\"])\n",
      "C:\\Users\\diego\\AppData\\Local\\Temp\\ipykernel_50852\\430125842.py:15: FutureWarning: Calling float on a single element Series is deprecated and will raise a TypeError in the future. Use float(ser.iloc[0]) instead\n",
      "  previous_open  = float(df.iloc[0][\"Open\"])\n",
      "C:\\Users\\diego\\AppData\\Local\\Temp\\ipykernel_50852\\430125842.py:16: FutureWarning: Calling float on a single element Series is deprecated and will raise a TypeError in the future. Use float(ser.iloc[0]) instead\n",
      "  previous_close = float(df.iloc[0][\"Close\"])\n"
     ]
    },
    {
     "name": "stdout",
     "output_type": "stream",
     "text": [
      "Fetching data for VICI...\n"
     ]
    },
    {
     "name": "stderr",
     "output_type": "stream",
     "text": [
      "[*********************100%***********************]  1 of 1 completed\n",
      "C:\\Users\\diego\\AppData\\Local\\Temp\\ipykernel_50852\\430125842.py:13: FutureWarning: Calling float on a single element Series is deprecated and will raise a TypeError in the future. Use float(ser.iloc[0]) instead\n",
      "  open_price     = float(df.iloc[1][\"Open\"])\n",
      "C:\\Users\\diego\\AppData\\Local\\Temp\\ipykernel_50852\\430125842.py:14: FutureWarning: Calling float on a single element Series is deprecated and will raise a TypeError in the future. Use float(ser.iloc[0]) instead\n",
      "  close_price    = float(df.iloc[1][\"Close\"])\n",
      "C:\\Users\\diego\\AppData\\Local\\Temp\\ipykernel_50852\\430125842.py:15: FutureWarning: Calling float on a single element Series is deprecated and will raise a TypeError in the future. Use float(ser.iloc[0]) instead\n",
      "  previous_open  = float(df.iloc[0][\"Open\"])\n",
      "C:\\Users\\diego\\AppData\\Local\\Temp\\ipykernel_50852\\430125842.py:16: FutureWarning: Calling float on a single element Series is deprecated and will raise a TypeError in the future. Use float(ser.iloc[0]) instead\n",
      "  previous_close = float(df.iloc[0][\"Close\"])\n"
     ]
    },
    {
     "name": "stdout",
     "output_type": "stream",
     "text": [
      "Fetching data for V...\n"
     ]
    },
    {
     "name": "stderr",
     "output_type": "stream",
     "text": [
      "[*********************100%***********************]  1 of 1 completed\n",
      "C:\\Users\\diego\\AppData\\Local\\Temp\\ipykernel_50852\\430125842.py:13: FutureWarning: Calling float on a single element Series is deprecated and will raise a TypeError in the future. Use float(ser.iloc[0]) instead\n",
      "  open_price     = float(df.iloc[1][\"Open\"])\n",
      "C:\\Users\\diego\\AppData\\Local\\Temp\\ipykernel_50852\\430125842.py:14: FutureWarning: Calling float on a single element Series is deprecated and will raise a TypeError in the future. Use float(ser.iloc[0]) instead\n",
      "  close_price    = float(df.iloc[1][\"Close\"])\n",
      "C:\\Users\\diego\\AppData\\Local\\Temp\\ipykernel_50852\\430125842.py:15: FutureWarning: Calling float on a single element Series is deprecated and will raise a TypeError in the future. Use float(ser.iloc[0]) instead\n",
      "  previous_open  = float(df.iloc[0][\"Open\"])\n",
      "C:\\Users\\diego\\AppData\\Local\\Temp\\ipykernel_50852\\430125842.py:16: FutureWarning: Calling float on a single element Series is deprecated and will raise a TypeError in the future. Use float(ser.iloc[0]) instead\n",
      "  previous_close = float(df.iloc[0][\"Close\"])\n"
     ]
    },
    {
     "name": "stdout",
     "output_type": "stream",
     "text": [
      "Fetching data for VST...\n"
     ]
    },
    {
     "name": "stderr",
     "output_type": "stream",
     "text": [
      "[*********************100%***********************]  1 of 1 completed\n",
      "C:\\Users\\diego\\AppData\\Local\\Temp\\ipykernel_50852\\430125842.py:13: FutureWarning: Calling float on a single element Series is deprecated and will raise a TypeError in the future. Use float(ser.iloc[0]) instead\n",
      "  open_price     = float(df.iloc[1][\"Open\"])\n",
      "C:\\Users\\diego\\AppData\\Local\\Temp\\ipykernel_50852\\430125842.py:14: FutureWarning: Calling float on a single element Series is deprecated and will raise a TypeError in the future. Use float(ser.iloc[0]) instead\n",
      "  close_price    = float(df.iloc[1][\"Close\"])\n",
      "C:\\Users\\diego\\AppData\\Local\\Temp\\ipykernel_50852\\430125842.py:15: FutureWarning: Calling float on a single element Series is deprecated and will raise a TypeError in the future. Use float(ser.iloc[0]) instead\n",
      "  previous_open  = float(df.iloc[0][\"Open\"])\n",
      "C:\\Users\\diego\\AppData\\Local\\Temp\\ipykernel_50852\\430125842.py:16: FutureWarning: Calling float on a single element Series is deprecated and will raise a TypeError in the future. Use float(ser.iloc[0]) instead\n",
      "  previous_close = float(df.iloc[0][\"Close\"])\n"
     ]
    },
    {
     "name": "stdout",
     "output_type": "stream",
     "text": [
      "Fetching data for VMC...\n"
     ]
    },
    {
     "name": "stderr",
     "output_type": "stream",
     "text": [
      "[*********************100%***********************]  1 of 1 completed\n",
      "C:\\Users\\diego\\AppData\\Local\\Temp\\ipykernel_50852\\430125842.py:13: FutureWarning: Calling float on a single element Series is deprecated and will raise a TypeError in the future. Use float(ser.iloc[0]) instead\n",
      "  open_price     = float(df.iloc[1][\"Open\"])\n",
      "C:\\Users\\diego\\AppData\\Local\\Temp\\ipykernel_50852\\430125842.py:14: FutureWarning: Calling float on a single element Series is deprecated and will raise a TypeError in the future. Use float(ser.iloc[0]) instead\n",
      "  close_price    = float(df.iloc[1][\"Close\"])\n",
      "C:\\Users\\diego\\AppData\\Local\\Temp\\ipykernel_50852\\430125842.py:15: FutureWarning: Calling float on a single element Series is deprecated and will raise a TypeError in the future. Use float(ser.iloc[0]) instead\n",
      "  previous_open  = float(df.iloc[0][\"Open\"])\n",
      "C:\\Users\\diego\\AppData\\Local\\Temp\\ipykernel_50852\\430125842.py:16: FutureWarning: Calling float on a single element Series is deprecated and will raise a TypeError in the future. Use float(ser.iloc[0]) instead\n",
      "  previous_close = float(df.iloc[0][\"Close\"])\n"
     ]
    },
    {
     "name": "stdout",
     "output_type": "stream",
     "text": [
      "Fetching data for WRB...\n"
     ]
    },
    {
     "name": "stderr",
     "output_type": "stream",
     "text": [
      "[*********************100%***********************]  1 of 1 completed\n",
      "C:\\Users\\diego\\AppData\\Local\\Temp\\ipykernel_50852\\430125842.py:13: FutureWarning: Calling float on a single element Series is deprecated and will raise a TypeError in the future. Use float(ser.iloc[0]) instead\n",
      "  open_price     = float(df.iloc[1][\"Open\"])\n",
      "C:\\Users\\diego\\AppData\\Local\\Temp\\ipykernel_50852\\430125842.py:14: FutureWarning: Calling float on a single element Series is deprecated and will raise a TypeError in the future. Use float(ser.iloc[0]) instead\n",
      "  close_price    = float(df.iloc[1][\"Close\"])\n",
      "C:\\Users\\diego\\AppData\\Local\\Temp\\ipykernel_50852\\430125842.py:15: FutureWarning: Calling float on a single element Series is deprecated and will raise a TypeError in the future. Use float(ser.iloc[0]) instead\n",
      "  previous_open  = float(df.iloc[0][\"Open\"])\n",
      "C:\\Users\\diego\\AppData\\Local\\Temp\\ipykernel_50852\\430125842.py:16: FutureWarning: Calling float on a single element Series is deprecated and will raise a TypeError in the future. Use float(ser.iloc[0]) instead\n",
      "  previous_close = float(df.iloc[0][\"Close\"])\n"
     ]
    },
    {
     "name": "stdout",
     "output_type": "stream",
     "text": [
      "Fetching data for GWW...\n"
     ]
    },
    {
     "name": "stderr",
     "output_type": "stream",
     "text": [
      "[*********************100%***********************]  1 of 1 completed\n",
      "C:\\Users\\diego\\AppData\\Local\\Temp\\ipykernel_50852\\430125842.py:13: FutureWarning: Calling float on a single element Series is deprecated and will raise a TypeError in the future. Use float(ser.iloc[0]) instead\n",
      "  open_price     = float(df.iloc[1][\"Open\"])\n",
      "C:\\Users\\diego\\AppData\\Local\\Temp\\ipykernel_50852\\430125842.py:14: FutureWarning: Calling float on a single element Series is deprecated and will raise a TypeError in the future. Use float(ser.iloc[0]) instead\n",
      "  close_price    = float(df.iloc[1][\"Close\"])\n",
      "C:\\Users\\diego\\AppData\\Local\\Temp\\ipykernel_50852\\430125842.py:15: FutureWarning: Calling float on a single element Series is deprecated and will raise a TypeError in the future. Use float(ser.iloc[0]) instead\n",
      "  previous_open  = float(df.iloc[0][\"Open\"])\n",
      "C:\\Users\\diego\\AppData\\Local\\Temp\\ipykernel_50852\\430125842.py:16: FutureWarning: Calling float on a single element Series is deprecated and will raise a TypeError in the future. Use float(ser.iloc[0]) instead\n",
      "  previous_close = float(df.iloc[0][\"Close\"])\n"
     ]
    },
    {
     "name": "stdout",
     "output_type": "stream",
     "text": [
      "Fetching data for WAB...\n"
     ]
    },
    {
     "name": "stderr",
     "output_type": "stream",
     "text": [
      "[*********************100%***********************]  1 of 1 completed\n",
      "C:\\Users\\diego\\AppData\\Local\\Temp\\ipykernel_50852\\430125842.py:13: FutureWarning: Calling float on a single element Series is deprecated and will raise a TypeError in the future. Use float(ser.iloc[0]) instead\n",
      "  open_price     = float(df.iloc[1][\"Open\"])\n",
      "C:\\Users\\diego\\AppData\\Local\\Temp\\ipykernel_50852\\430125842.py:14: FutureWarning: Calling float on a single element Series is deprecated and will raise a TypeError in the future. Use float(ser.iloc[0]) instead\n",
      "  close_price    = float(df.iloc[1][\"Close\"])\n",
      "C:\\Users\\diego\\AppData\\Local\\Temp\\ipykernel_50852\\430125842.py:15: FutureWarning: Calling float on a single element Series is deprecated and will raise a TypeError in the future. Use float(ser.iloc[0]) instead\n",
      "  previous_open  = float(df.iloc[0][\"Open\"])\n",
      "C:\\Users\\diego\\AppData\\Local\\Temp\\ipykernel_50852\\430125842.py:16: FutureWarning: Calling float on a single element Series is deprecated and will raise a TypeError in the future. Use float(ser.iloc[0]) instead\n",
      "  previous_close = float(df.iloc[0][\"Close\"])\n"
     ]
    },
    {
     "name": "stdout",
     "output_type": "stream",
     "text": [
      "Fetching data for WBA...\n"
     ]
    },
    {
     "name": "stderr",
     "output_type": "stream",
     "text": [
      "[*********************100%***********************]  1 of 1 completed\n",
      "C:\\Users\\diego\\AppData\\Local\\Temp\\ipykernel_50852\\430125842.py:13: FutureWarning: Calling float on a single element Series is deprecated and will raise a TypeError in the future. Use float(ser.iloc[0]) instead\n",
      "  open_price     = float(df.iloc[1][\"Open\"])\n",
      "C:\\Users\\diego\\AppData\\Local\\Temp\\ipykernel_50852\\430125842.py:14: FutureWarning: Calling float on a single element Series is deprecated and will raise a TypeError in the future. Use float(ser.iloc[0]) instead\n",
      "  close_price    = float(df.iloc[1][\"Close\"])\n",
      "C:\\Users\\diego\\AppData\\Local\\Temp\\ipykernel_50852\\430125842.py:15: FutureWarning: Calling float on a single element Series is deprecated and will raise a TypeError in the future. Use float(ser.iloc[0]) instead\n",
      "  previous_open  = float(df.iloc[0][\"Open\"])\n",
      "C:\\Users\\diego\\AppData\\Local\\Temp\\ipykernel_50852\\430125842.py:16: FutureWarning: Calling float on a single element Series is deprecated and will raise a TypeError in the future. Use float(ser.iloc[0]) instead\n",
      "  previous_close = float(df.iloc[0][\"Close\"])\n"
     ]
    },
    {
     "name": "stdout",
     "output_type": "stream",
     "text": [
      "Fetching data for WMT...\n"
     ]
    },
    {
     "name": "stderr",
     "output_type": "stream",
     "text": [
      "[*********************100%***********************]  1 of 1 completed\n",
      "C:\\Users\\diego\\AppData\\Local\\Temp\\ipykernel_50852\\430125842.py:13: FutureWarning: Calling float on a single element Series is deprecated and will raise a TypeError in the future. Use float(ser.iloc[0]) instead\n",
      "  open_price     = float(df.iloc[1][\"Open\"])\n",
      "C:\\Users\\diego\\AppData\\Local\\Temp\\ipykernel_50852\\430125842.py:14: FutureWarning: Calling float on a single element Series is deprecated and will raise a TypeError in the future. Use float(ser.iloc[0]) instead\n",
      "  close_price    = float(df.iloc[1][\"Close\"])\n",
      "C:\\Users\\diego\\AppData\\Local\\Temp\\ipykernel_50852\\430125842.py:15: FutureWarning: Calling float on a single element Series is deprecated and will raise a TypeError in the future. Use float(ser.iloc[0]) instead\n",
      "  previous_open  = float(df.iloc[0][\"Open\"])\n",
      "C:\\Users\\diego\\AppData\\Local\\Temp\\ipykernel_50852\\430125842.py:16: FutureWarning: Calling float on a single element Series is deprecated and will raise a TypeError in the future. Use float(ser.iloc[0]) instead\n",
      "  previous_close = float(df.iloc[0][\"Close\"])\n"
     ]
    },
    {
     "name": "stdout",
     "output_type": "stream",
     "text": [
      "Fetching data for DIS...\n"
     ]
    },
    {
     "name": "stderr",
     "output_type": "stream",
     "text": [
      "[*********************100%***********************]  1 of 1 completed\n",
      "C:\\Users\\diego\\AppData\\Local\\Temp\\ipykernel_50852\\430125842.py:13: FutureWarning: Calling float on a single element Series is deprecated and will raise a TypeError in the future. Use float(ser.iloc[0]) instead\n",
      "  open_price     = float(df.iloc[1][\"Open\"])\n",
      "C:\\Users\\diego\\AppData\\Local\\Temp\\ipykernel_50852\\430125842.py:14: FutureWarning: Calling float on a single element Series is deprecated and will raise a TypeError in the future. Use float(ser.iloc[0]) instead\n",
      "  close_price    = float(df.iloc[1][\"Close\"])\n",
      "C:\\Users\\diego\\AppData\\Local\\Temp\\ipykernel_50852\\430125842.py:15: FutureWarning: Calling float on a single element Series is deprecated and will raise a TypeError in the future. Use float(ser.iloc[0]) instead\n",
      "  previous_open  = float(df.iloc[0][\"Open\"])\n",
      "C:\\Users\\diego\\AppData\\Local\\Temp\\ipykernel_50852\\430125842.py:16: FutureWarning: Calling float on a single element Series is deprecated and will raise a TypeError in the future. Use float(ser.iloc[0]) instead\n",
      "  previous_close = float(df.iloc[0][\"Close\"])\n"
     ]
    },
    {
     "name": "stdout",
     "output_type": "stream",
     "text": [
      "Fetching data for WBD...\n"
     ]
    },
    {
     "name": "stderr",
     "output_type": "stream",
     "text": [
      "[*********************100%***********************]  1 of 1 completed\n",
      "C:\\Users\\diego\\AppData\\Local\\Temp\\ipykernel_50852\\430125842.py:13: FutureWarning: Calling float on a single element Series is deprecated and will raise a TypeError in the future. Use float(ser.iloc[0]) instead\n",
      "  open_price     = float(df.iloc[1][\"Open\"])\n",
      "C:\\Users\\diego\\AppData\\Local\\Temp\\ipykernel_50852\\430125842.py:14: FutureWarning: Calling float on a single element Series is deprecated and will raise a TypeError in the future. Use float(ser.iloc[0]) instead\n",
      "  close_price    = float(df.iloc[1][\"Close\"])\n",
      "C:\\Users\\diego\\AppData\\Local\\Temp\\ipykernel_50852\\430125842.py:15: FutureWarning: Calling float on a single element Series is deprecated and will raise a TypeError in the future. Use float(ser.iloc[0]) instead\n",
      "  previous_open  = float(df.iloc[0][\"Open\"])\n",
      "C:\\Users\\diego\\AppData\\Local\\Temp\\ipykernel_50852\\430125842.py:16: FutureWarning: Calling float on a single element Series is deprecated and will raise a TypeError in the future. Use float(ser.iloc[0]) instead\n",
      "  previous_close = float(df.iloc[0][\"Close\"])\n"
     ]
    },
    {
     "name": "stdout",
     "output_type": "stream",
     "text": [
      "Fetching data for WM...\n"
     ]
    },
    {
     "name": "stderr",
     "output_type": "stream",
     "text": [
      "[*********************100%***********************]  1 of 1 completed\n",
      "C:\\Users\\diego\\AppData\\Local\\Temp\\ipykernel_50852\\430125842.py:13: FutureWarning: Calling float on a single element Series is deprecated and will raise a TypeError in the future. Use float(ser.iloc[0]) instead\n",
      "  open_price     = float(df.iloc[1][\"Open\"])\n",
      "C:\\Users\\diego\\AppData\\Local\\Temp\\ipykernel_50852\\430125842.py:14: FutureWarning: Calling float on a single element Series is deprecated and will raise a TypeError in the future. Use float(ser.iloc[0]) instead\n",
      "  close_price    = float(df.iloc[1][\"Close\"])\n",
      "C:\\Users\\diego\\AppData\\Local\\Temp\\ipykernel_50852\\430125842.py:15: FutureWarning: Calling float on a single element Series is deprecated and will raise a TypeError in the future. Use float(ser.iloc[0]) instead\n",
      "  previous_open  = float(df.iloc[0][\"Open\"])\n",
      "C:\\Users\\diego\\AppData\\Local\\Temp\\ipykernel_50852\\430125842.py:16: FutureWarning: Calling float on a single element Series is deprecated and will raise a TypeError in the future. Use float(ser.iloc[0]) instead\n",
      "  previous_close = float(df.iloc[0][\"Close\"])\n"
     ]
    },
    {
     "name": "stdout",
     "output_type": "stream",
     "text": [
      "Fetching data for WAT...\n"
     ]
    },
    {
     "name": "stderr",
     "output_type": "stream",
     "text": [
      "[*********************100%***********************]  1 of 1 completed\n",
      "C:\\Users\\diego\\AppData\\Local\\Temp\\ipykernel_50852\\430125842.py:13: FutureWarning: Calling float on a single element Series is deprecated and will raise a TypeError in the future. Use float(ser.iloc[0]) instead\n",
      "  open_price     = float(df.iloc[1][\"Open\"])\n",
      "C:\\Users\\diego\\AppData\\Local\\Temp\\ipykernel_50852\\430125842.py:14: FutureWarning: Calling float on a single element Series is deprecated and will raise a TypeError in the future. Use float(ser.iloc[0]) instead\n",
      "  close_price    = float(df.iloc[1][\"Close\"])\n",
      "C:\\Users\\diego\\AppData\\Local\\Temp\\ipykernel_50852\\430125842.py:15: FutureWarning: Calling float on a single element Series is deprecated and will raise a TypeError in the future. Use float(ser.iloc[0]) instead\n",
      "  previous_open  = float(df.iloc[0][\"Open\"])\n",
      "C:\\Users\\diego\\AppData\\Local\\Temp\\ipykernel_50852\\430125842.py:16: FutureWarning: Calling float on a single element Series is deprecated and will raise a TypeError in the future. Use float(ser.iloc[0]) instead\n",
      "  previous_close = float(df.iloc[0][\"Close\"])\n"
     ]
    },
    {
     "name": "stdout",
     "output_type": "stream",
     "text": [
      "Fetching data for WEC...\n"
     ]
    },
    {
     "name": "stderr",
     "output_type": "stream",
     "text": [
      "[*********************100%***********************]  1 of 1 completed\n",
      "C:\\Users\\diego\\AppData\\Local\\Temp\\ipykernel_50852\\430125842.py:13: FutureWarning: Calling float on a single element Series is deprecated and will raise a TypeError in the future. Use float(ser.iloc[0]) instead\n",
      "  open_price     = float(df.iloc[1][\"Open\"])\n",
      "C:\\Users\\diego\\AppData\\Local\\Temp\\ipykernel_50852\\430125842.py:14: FutureWarning: Calling float on a single element Series is deprecated and will raise a TypeError in the future. Use float(ser.iloc[0]) instead\n",
      "  close_price    = float(df.iloc[1][\"Close\"])\n",
      "C:\\Users\\diego\\AppData\\Local\\Temp\\ipykernel_50852\\430125842.py:15: FutureWarning: Calling float on a single element Series is deprecated and will raise a TypeError in the future. Use float(ser.iloc[0]) instead\n",
      "  previous_open  = float(df.iloc[0][\"Open\"])\n",
      "C:\\Users\\diego\\AppData\\Local\\Temp\\ipykernel_50852\\430125842.py:16: FutureWarning: Calling float on a single element Series is deprecated and will raise a TypeError in the future. Use float(ser.iloc[0]) instead\n",
      "  previous_close = float(df.iloc[0][\"Close\"])\n"
     ]
    },
    {
     "name": "stdout",
     "output_type": "stream",
     "text": [
      "Fetching data for WFC...\n"
     ]
    },
    {
     "name": "stderr",
     "output_type": "stream",
     "text": [
      "[*********************100%***********************]  1 of 1 completed\n",
      "C:\\Users\\diego\\AppData\\Local\\Temp\\ipykernel_50852\\430125842.py:13: FutureWarning: Calling float on a single element Series is deprecated and will raise a TypeError in the future. Use float(ser.iloc[0]) instead\n",
      "  open_price     = float(df.iloc[1][\"Open\"])\n",
      "C:\\Users\\diego\\AppData\\Local\\Temp\\ipykernel_50852\\430125842.py:14: FutureWarning: Calling float on a single element Series is deprecated and will raise a TypeError in the future. Use float(ser.iloc[0]) instead\n",
      "  close_price    = float(df.iloc[1][\"Close\"])\n",
      "C:\\Users\\diego\\AppData\\Local\\Temp\\ipykernel_50852\\430125842.py:15: FutureWarning: Calling float on a single element Series is deprecated and will raise a TypeError in the future. Use float(ser.iloc[0]) instead\n",
      "  previous_open  = float(df.iloc[0][\"Open\"])\n",
      "C:\\Users\\diego\\AppData\\Local\\Temp\\ipykernel_50852\\430125842.py:16: FutureWarning: Calling float on a single element Series is deprecated and will raise a TypeError in the future. Use float(ser.iloc[0]) instead\n",
      "  previous_close = float(df.iloc[0][\"Close\"])\n"
     ]
    },
    {
     "name": "stdout",
     "output_type": "stream",
     "text": [
      "Fetching data for WELL...\n"
     ]
    },
    {
     "name": "stderr",
     "output_type": "stream",
     "text": [
      "[*********************100%***********************]  1 of 1 completed\n",
      "C:\\Users\\diego\\AppData\\Local\\Temp\\ipykernel_50852\\430125842.py:13: FutureWarning: Calling float on a single element Series is deprecated and will raise a TypeError in the future. Use float(ser.iloc[0]) instead\n",
      "  open_price     = float(df.iloc[1][\"Open\"])\n",
      "C:\\Users\\diego\\AppData\\Local\\Temp\\ipykernel_50852\\430125842.py:14: FutureWarning: Calling float on a single element Series is deprecated and will raise a TypeError in the future. Use float(ser.iloc[0]) instead\n",
      "  close_price    = float(df.iloc[1][\"Close\"])\n",
      "C:\\Users\\diego\\AppData\\Local\\Temp\\ipykernel_50852\\430125842.py:15: FutureWarning: Calling float on a single element Series is deprecated and will raise a TypeError in the future. Use float(ser.iloc[0]) instead\n",
      "  previous_open  = float(df.iloc[0][\"Open\"])\n",
      "C:\\Users\\diego\\AppData\\Local\\Temp\\ipykernel_50852\\430125842.py:16: FutureWarning: Calling float on a single element Series is deprecated and will raise a TypeError in the future. Use float(ser.iloc[0]) instead\n",
      "  previous_close = float(df.iloc[0][\"Close\"])\n"
     ]
    },
    {
     "name": "stdout",
     "output_type": "stream",
     "text": [
      "Fetching data for WST...\n"
     ]
    },
    {
     "name": "stderr",
     "output_type": "stream",
     "text": [
      "[*********************100%***********************]  1 of 1 completed\n",
      "C:\\Users\\diego\\AppData\\Local\\Temp\\ipykernel_50852\\430125842.py:13: FutureWarning: Calling float on a single element Series is deprecated and will raise a TypeError in the future. Use float(ser.iloc[0]) instead\n",
      "  open_price     = float(df.iloc[1][\"Open\"])\n",
      "C:\\Users\\diego\\AppData\\Local\\Temp\\ipykernel_50852\\430125842.py:14: FutureWarning: Calling float on a single element Series is deprecated and will raise a TypeError in the future. Use float(ser.iloc[0]) instead\n",
      "  close_price    = float(df.iloc[1][\"Close\"])\n",
      "C:\\Users\\diego\\AppData\\Local\\Temp\\ipykernel_50852\\430125842.py:15: FutureWarning: Calling float on a single element Series is deprecated and will raise a TypeError in the future. Use float(ser.iloc[0]) instead\n",
      "  previous_open  = float(df.iloc[0][\"Open\"])\n",
      "C:\\Users\\diego\\AppData\\Local\\Temp\\ipykernel_50852\\430125842.py:16: FutureWarning: Calling float on a single element Series is deprecated and will raise a TypeError in the future. Use float(ser.iloc[0]) instead\n",
      "  previous_close = float(df.iloc[0][\"Close\"])\n"
     ]
    },
    {
     "name": "stdout",
     "output_type": "stream",
     "text": [
      "Fetching data for WDC...\n"
     ]
    },
    {
     "name": "stderr",
     "output_type": "stream",
     "text": [
      "[*********************100%***********************]  1 of 1 completed\n",
      "C:\\Users\\diego\\AppData\\Local\\Temp\\ipykernel_50852\\430125842.py:13: FutureWarning: Calling float on a single element Series is deprecated and will raise a TypeError in the future. Use float(ser.iloc[0]) instead\n",
      "  open_price     = float(df.iloc[1][\"Open\"])\n",
      "C:\\Users\\diego\\AppData\\Local\\Temp\\ipykernel_50852\\430125842.py:14: FutureWarning: Calling float on a single element Series is deprecated and will raise a TypeError in the future. Use float(ser.iloc[0]) instead\n",
      "  close_price    = float(df.iloc[1][\"Close\"])\n",
      "C:\\Users\\diego\\AppData\\Local\\Temp\\ipykernel_50852\\430125842.py:15: FutureWarning: Calling float on a single element Series is deprecated and will raise a TypeError in the future. Use float(ser.iloc[0]) instead\n",
      "  previous_open  = float(df.iloc[0][\"Open\"])\n",
      "C:\\Users\\diego\\AppData\\Local\\Temp\\ipykernel_50852\\430125842.py:16: FutureWarning: Calling float on a single element Series is deprecated and will raise a TypeError in the future. Use float(ser.iloc[0]) instead\n",
      "  previous_close = float(df.iloc[0][\"Close\"])\n"
     ]
    },
    {
     "name": "stdout",
     "output_type": "stream",
     "text": [
      "Fetching data for WY...\n"
     ]
    },
    {
     "name": "stderr",
     "output_type": "stream",
     "text": [
      "[*********************100%***********************]  1 of 1 completed\n",
      "C:\\Users\\diego\\AppData\\Local\\Temp\\ipykernel_50852\\430125842.py:13: FutureWarning: Calling float on a single element Series is deprecated and will raise a TypeError in the future. Use float(ser.iloc[0]) instead\n",
      "  open_price     = float(df.iloc[1][\"Open\"])\n",
      "C:\\Users\\diego\\AppData\\Local\\Temp\\ipykernel_50852\\430125842.py:14: FutureWarning: Calling float on a single element Series is deprecated and will raise a TypeError in the future. Use float(ser.iloc[0]) instead\n",
      "  close_price    = float(df.iloc[1][\"Close\"])\n",
      "C:\\Users\\diego\\AppData\\Local\\Temp\\ipykernel_50852\\430125842.py:15: FutureWarning: Calling float on a single element Series is deprecated and will raise a TypeError in the future. Use float(ser.iloc[0]) instead\n",
      "  previous_open  = float(df.iloc[0][\"Open\"])\n",
      "C:\\Users\\diego\\AppData\\Local\\Temp\\ipykernel_50852\\430125842.py:16: FutureWarning: Calling float on a single element Series is deprecated and will raise a TypeError in the future. Use float(ser.iloc[0]) instead\n",
      "  previous_close = float(df.iloc[0][\"Close\"])\n"
     ]
    },
    {
     "name": "stdout",
     "output_type": "stream",
     "text": [
      "Fetching data for WMB...\n"
     ]
    },
    {
     "name": "stderr",
     "output_type": "stream",
     "text": [
      "[*********************100%***********************]  1 of 1 completed\n",
      "C:\\Users\\diego\\AppData\\Local\\Temp\\ipykernel_50852\\430125842.py:13: FutureWarning: Calling float on a single element Series is deprecated and will raise a TypeError in the future. Use float(ser.iloc[0]) instead\n",
      "  open_price     = float(df.iloc[1][\"Open\"])\n",
      "C:\\Users\\diego\\AppData\\Local\\Temp\\ipykernel_50852\\430125842.py:14: FutureWarning: Calling float on a single element Series is deprecated and will raise a TypeError in the future. Use float(ser.iloc[0]) instead\n",
      "  close_price    = float(df.iloc[1][\"Close\"])\n",
      "C:\\Users\\diego\\AppData\\Local\\Temp\\ipykernel_50852\\430125842.py:15: FutureWarning: Calling float on a single element Series is deprecated and will raise a TypeError in the future. Use float(ser.iloc[0]) instead\n",
      "  previous_open  = float(df.iloc[0][\"Open\"])\n",
      "C:\\Users\\diego\\AppData\\Local\\Temp\\ipykernel_50852\\430125842.py:16: FutureWarning: Calling float on a single element Series is deprecated and will raise a TypeError in the future. Use float(ser.iloc[0]) instead\n",
      "  previous_close = float(df.iloc[0][\"Close\"])\n"
     ]
    },
    {
     "name": "stdout",
     "output_type": "stream",
     "text": [
      "Fetching data for WTW...\n"
     ]
    },
    {
     "name": "stderr",
     "output_type": "stream",
     "text": [
      "[*********************100%***********************]  1 of 1 completed\n",
      "C:\\Users\\diego\\AppData\\Local\\Temp\\ipykernel_50852\\430125842.py:13: FutureWarning: Calling float on a single element Series is deprecated and will raise a TypeError in the future. Use float(ser.iloc[0]) instead\n",
      "  open_price     = float(df.iloc[1][\"Open\"])\n",
      "C:\\Users\\diego\\AppData\\Local\\Temp\\ipykernel_50852\\430125842.py:14: FutureWarning: Calling float on a single element Series is deprecated and will raise a TypeError in the future. Use float(ser.iloc[0]) instead\n",
      "  close_price    = float(df.iloc[1][\"Close\"])\n",
      "C:\\Users\\diego\\AppData\\Local\\Temp\\ipykernel_50852\\430125842.py:15: FutureWarning: Calling float on a single element Series is deprecated and will raise a TypeError in the future. Use float(ser.iloc[0]) instead\n",
      "  previous_open  = float(df.iloc[0][\"Open\"])\n",
      "C:\\Users\\diego\\AppData\\Local\\Temp\\ipykernel_50852\\430125842.py:16: FutureWarning: Calling float on a single element Series is deprecated and will raise a TypeError in the future. Use float(ser.iloc[0]) instead\n",
      "  previous_close = float(df.iloc[0][\"Close\"])\n"
     ]
    },
    {
     "name": "stdout",
     "output_type": "stream",
     "text": [
      "Fetching data for WDAY...\n"
     ]
    },
    {
     "name": "stderr",
     "output_type": "stream",
     "text": [
      "[*********************100%***********************]  1 of 1 completed\n",
      "C:\\Users\\diego\\AppData\\Local\\Temp\\ipykernel_50852\\430125842.py:13: FutureWarning: Calling float on a single element Series is deprecated and will raise a TypeError in the future. Use float(ser.iloc[0]) instead\n",
      "  open_price     = float(df.iloc[1][\"Open\"])\n",
      "C:\\Users\\diego\\AppData\\Local\\Temp\\ipykernel_50852\\430125842.py:14: FutureWarning: Calling float on a single element Series is deprecated and will raise a TypeError in the future. Use float(ser.iloc[0]) instead\n",
      "  close_price    = float(df.iloc[1][\"Close\"])\n",
      "C:\\Users\\diego\\AppData\\Local\\Temp\\ipykernel_50852\\430125842.py:15: FutureWarning: Calling float on a single element Series is deprecated and will raise a TypeError in the future. Use float(ser.iloc[0]) instead\n",
      "  previous_open  = float(df.iloc[0][\"Open\"])\n",
      "C:\\Users\\diego\\AppData\\Local\\Temp\\ipykernel_50852\\430125842.py:16: FutureWarning: Calling float on a single element Series is deprecated and will raise a TypeError in the future. Use float(ser.iloc[0]) instead\n",
      "  previous_close = float(df.iloc[0][\"Close\"])\n"
     ]
    },
    {
     "name": "stdout",
     "output_type": "stream",
     "text": [
      "Fetching data for WYNN...\n"
     ]
    },
    {
     "name": "stderr",
     "output_type": "stream",
     "text": [
      "[*********************100%***********************]  1 of 1 completed\n",
      "C:\\Users\\diego\\AppData\\Local\\Temp\\ipykernel_50852\\430125842.py:13: FutureWarning: Calling float on a single element Series is deprecated and will raise a TypeError in the future. Use float(ser.iloc[0]) instead\n",
      "  open_price     = float(df.iloc[1][\"Open\"])\n",
      "C:\\Users\\diego\\AppData\\Local\\Temp\\ipykernel_50852\\430125842.py:14: FutureWarning: Calling float on a single element Series is deprecated and will raise a TypeError in the future. Use float(ser.iloc[0]) instead\n",
      "  close_price    = float(df.iloc[1][\"Close\"])\n",
      "C:\\Users\\diego\\AppData\\Local\\Temp\\ipykernel_50852\\430125842.py:15: FutureWarning: Calling float on a single element Series is deprecated and will raise a TypeError in the future. Use float(ser.iloc[0]) instead\n",
      "  previous_open  = float(df.iloc[0][\"Open\"])\n",
      "C:\\Users\\diego\\AppData\\Local\\Temp\\ipykernel_50852\\430125842.py:16: FutureWarning: Calling float on a single element Series is deprecated and will raise a TypeError in the future. Use float(ser.iloc[0]) instead\n",
      "  previous_close = float(df.iloc[0][\"Close\"])\n"
     ]
    },
    {
     "name": "stdout",
     "output_type": "stream",
     "text": [
      "Fetching data for XEL...\n"
     ]
    },
    {
     "name": "stderr",
     "output_type": "stream",
     "text": [
      "[*********************100%***********************]  1 of 1 completed\n",
      "C:\\Users\\diego\\AppData\\Local\\Temp\\ipykernel_50852\\430125842.py:13: FutureWarning: Calling float on a single element Series is deprecated and will raise a TypeError in the future. Use float(ser.iloc[0]) instead\n",
      "  open_price     = float(df.iloc[1][\"Open\"])\n",
      "C:\\Users\\diego\\AppData\\Local\\Temp\\ipykernel_50852\\430125842.py:14: FutureWarning: Calling float on a single element Series is deprecated and will raise a TypeError in the future. Use float(ser.iloc[0]) instead\n",
      "  close_price    = float(df.iloc[1][\"Close\"])\n",
      "C:\\Users\\diego\\AppData\\Local\\Temp\\ipykernel_50852\\430125842.py:15: FutureWarning: Calling float on a single element Series is deprecated and will raise a TypeError in the future. Use float(ser.iloc[0]) instead\n",
      "  previous_open  = float(df.iloc[0][\"Open\"])\n",
      "C:\\Users\\diego\\AppData\\Local\\Temp\\ipykernel_50852\\430125842.py:16: FutureWarning: Calling float on a single element Series is deprecated and will raise a TypeError in the future. Use float(ser.iloc[0]) instead\n",
      "  previous_close = float(df.iloc[0][\"Close\"])\n"
     ]
    },
    {
     "name": "stdout",
     "output_type": "stream",
     "text": [
      "Fetching data for XYL...\n"
     ]
    },
    {
     "name": "stderr",
     "output_type": "stream",
     "text": [
      "[*********************100%***********************]  1 of 1 completed\n",
      "C:\\Users\\diego\\AppData\\Local\\Temp\\ipykernel_50852\\430125842.py:13: FutureWarning: Calling float on a single element Series is deprecated and will raise a TypeError in the future. Use float(ser.iloc[0]) instead\n",
      "  open_price     = float(df.iloc[1][\"Open\"])\n",
      "C:\\Users\\diego\\AppData\\Local\\Temp\\ipykernel_50852\\430125842.py:14: FutureWarning: Calling float on a single element Series is deprecated and will raise a TypeError in the future. Use float(ser.iloc[0]) instead\n",
      "  close_price    = float(df.iloc[1][\"Close\"])\n",
      "C:\\Users\\diego\\AppData\\Local\\Temp\\ipykernel_50852\\430125842.py:15: FutureWarning: Calling float on a single element Series is deprecated and will raise a TypeError in the future. Use float(ser.iloc[0]) instead\n",
      "  previous_open  = float(df.iloc[0][\"Open\"])\n",
      "C:\\Users\\diego\\AppData\\Local\\Temp\\ipykernel_50852\\430125842.py:16: FutureWarning: Calling float on a single element Series is deprecated and will raise a TypeError in the future. Use float(ser.iloc[0]) instead\n",
      "  previous_close = float(df.iloc[0][\"Close\"])\n"
     ]
    },
    {
     "name": "stdout",
     "output_type": "stream",
     "text": [
      "Fetching data for YUM...\n"
     ]
    },
    {
     "name": "stderr",
     "output_type": "stream",
     "text": [
      "[*********************100%***********************]  1 of 1 completed\n",
      "C:\\Users\\diego\\AppData\\Local\\Temp\\ipykernel_50852\\430125842.py:13: FutureWarning: Calling float on a single element Series is deprecated and will raise a TypeError in the future. Use float(ser.iloc[0]) instead\n",
      "  open_price     = float(df.iloc[1][\"Open\"])\n",
      "C:\\Users\\diego\\AppData\\Local\\Temp\\ipykernel_50852\\430125842.py:14: FutureWarning: Calling float on a single element Series is deprecated and will raise a TypeError in the future. Use float(ser.iloc[0]) instead\n",
      "  close_price    = float(df.iloc[1][\"Close\"])\n",
      "C:\\Users\\diego\\AppData\\Local\\Temp\\ipykernel_50852\\430125842.py:15: FutureWarning: Calling float on a single element Series is deprecated and will raise a TypeError in the future. Use float(ser.iloc[0]) instead\n",
      "  previous_open  = float(df.iloc[0][\"Open\"])\n",
      "C:\\Users\\diego\\AppData\\Local\\Temp\\ipykernel_50852\\430125842.py:16: FutureWarning: Calling float on a single element Series is deprecated and will raise a TypeError in the future. Use float(ser.iloc[0]) instead\n",
      "  previous_close = float(df.iloc[0][\"Close\"])\n"
     ]
    },
    {
     "name": "stdout",
     "output_type": "stream",
     "text": [
      "Fetching data for ZBRA...\n"
     ]
    },
    {
     "name": "stderr",
     "output_type": "stream",
     "text": [
      "[*********************100%***********************]  1 of 1 completed\n",
      "C:\\Users\\diego\\AppData\\Local\\Temp\\ipykernel_50852\\430125842.py:13: FutureWarning: Calling float on a single element Series is deprecated and will raise a TypeError in the future. Use float(ser.iloc[0]) instead\n",
      "  open_price     = float(df.iloc[1][\"Open\"])\n",
      "C:\\Users\\diego\\AppData\\Local\\Temp\\ipykernel_50852\\430125842.py:14: FutureWarning: Calling float on a single element Series is deprecated and will raise a TypeError in the future. Use float(ser.iloc[0]) instead\n",
      "  close_price    = float(df.iloc[1][\"Close\"])\n",
      "C:\\Users\\diego\\AppData\\Local\\Temp\\ipykernel_50852\\430125842.py:15: FutureWarning: Calling float on a single element Series is deprecated and will raise a TypeError in the future. Use float(ser.iloc[0]) instead\n",
      "  previous_open  = float(df.iloc[0][\"Open\"])\n",
      "C:\\Users\\diego\\AppData\\Local\\Temp\\ipykernel_50852\\430125842.py:16: FutureWarning: Calling float on a single element Series is deprecated and will raise a TypeError in the future. Use float(ser.iloc[0]) instead\n",
      "  previous_close = float(df.iloc[0][\"Close\"])\n"
     ]
    },
    {
     "name": "stdout",
     "output_type": "stream",
     "text": [
      "Fetching data for ZBH...\n"
     ]
    },
    {
     "name": "stderr",
     "output_type": "stream",
     "text": [
      "[*********************100%***********************]  1 of 1 completed\n",
      "C:\\Users\\diego\\AppData\\Local\\Temp\\ipykernel_50852\\430125842.py:13: FutureWarning: Calling float on a single element Series is deprecated and will raise a TypeError in the future. Use float(ser.iloc[0]) instead\n",
      "  open_price     = float(df.iloc[1][\"Open\"])\n",
      "C:\\Users\\diego\\AppData\\Local\\Temp\\ipykernel_50852\\430125842.py:14: FutureWarning: Calling float on a single element Series is deprecated and will raise a TypeError in the future. Use float(ser.iloc[0]) instead\n",
      "  close_price    = float(df.iloc[1][\"Close\"])\n",
      "C:\\Users\\diego\\AppData\\Local\\Temp\\ipykernel_50852\\430125842.py:15: FutureWarning: Calling float on a single element Series is deprecated and will raise a TypeError in the future. Use float(ser.iloc[0]) instead\n",
      "  previous_open  = float(df.iloc[0][\"Open\"])\n",
      "C:\\Users\\diego\\AppData\\Local\\Temp\\ipykernel_50852\\430125842.py:16: FutureWarning: Calling float on a single element Series is deprecated and will raise a TypeError in the future. Use float(ser.iloc[0]) instead\n",
      "  previous_close = float(df.iloc[0][\"Close\"])\n"
     ]
    },
    {
     "name": "stdout",
     "output_type": "stream",
     "text": [
      "Fetching data for ZTS...\n"
     ]
    },
    {
     "name": "stderr",
     "output_type": "stream",
     "text": [
      "[*********************100%***********************]  1 of 1 completed\n",
      "C:\\Users\\diego\\AppData\\Local\\Temp\\ipykernel_50852\\430125842.py:13: FutureWarning: Calling float on a single element Series is deprecated and will raise a TypeError in the future. Use float(ser.iloc[0]) instead\n",
      "  open_price     = float(df.iloc[1][\"Open\"])\n",
      "C:\\Users\\diego\\AppData\\Local\\Temp\\ipykernel_50852\\430125842.py:14: FutureWarning: Calling float on a single element Series is deprecated and will raise a TypeError in the future. Use float(ser.iloc[0]) instead\n",
      "  close_price    = float(df.iloc[1][\"Close\"])\n",
      "C:\\Users\\diego\\AppData\\Local\\Temp\\ipykernel_50852\\430125842.py:15: FutureWarning: Calling float on a single element Series is deprecated and will raise a TypeError in the future. Use float(ser.iloc[0]) instead\n",
      "  previous_open  = float(df.iloc[0][\"Open\"])\n",
      "C:\\Users\\diego\\AppData\\Local\\Temp\\ipykernel_50852\\430125842.py:16: FutureWarning: Calling float on a single element Series is deprecated and will raise a TypeError in the future. Use float(ser.iloc[0]) instead\n",
      "  previous_close = float(df.iloc[0][\"Close\"])\n",
      "C:\\Users\\diego\\AppData\\Local\\Temp\\ipykernel_50852\\3126419726.py:35: FutureWarning: Calling float on a single element Series is deprecated and will raise a TypeError in the future. Use float(ser.iloc[0]) instead\n",
      "  close_price = float(data.loc[date, \"Close\"])  # Ensure a float value\n"
     ]
    },
    {
     "ename": "KeyError",
     "evalue": "Timestamp('2019-10-07 00:00:00+0000', tz='UTC')",
     "output_type": "error",
     "traceback": [
      "\u001b[1;31m---------------------------------------------------------------------------\u001b[0m",
      "\u001b[1;31mKeyError\u001b[0m                                  Traceback (most recent call last)",
      "File \u001b[1;32mindex.pyx:598\u001b[0m, in \u001b[0;36mpandas._libs.index.DatetimeEngine.get_loc\u001b[1;34m()\u001b[0m\n",
      "File \u001b[1;32mpandas\\_libs\\hashtable_class_helper.pxi:2606\u001b[0m, in \u001b[0;36mpandas._libs.hashtable.Int64HashTable.get_item\u001b[1;34m()\u001b[0m\n",
      "File \u001b[1;32mpandas\\_libs\\hashtable_class_helper.pxi:2630\u001b[0m, in \u001b[0;36mpandas._libs.hashtable.Int64HashTable.get_item\u001b[1;34m()\u001b[0m\n",
      "\u001b[1;31mKeyError\u001b[0m: 1570406400000000000",
      "\nDuring handling of the above exception, another exception occurred:\n",
      "\u001b[1;31mKeyError\u001b[0m                                  Traceback (most recent call last)",
      "File \u001b[1;32mc:\\Users\\diego\\anaconda3\\Lib\\site-packages\\pandas\\core\\indexes\\base.py:3791\u001b[0m, in \u001b[0;36mIndex.get_loc\u001b[1;34m(self, key)\u001b[0m\n\u001b[0;32m   3790\u001b[0m \u001b[38;5;28;01mtry\u001b[39;00m:\n\u001b[1;32m-> 3791\u001b[0m     \u001b[38;5;28;01mreturn\u001b[39;00m \u001b[38;5;28mself\u001b[39m\u001b[38;5;241m.\u001b[39m_engine\u001b[38;5;241m.\u001b[39mget_loc(casted_key)\n\u001b[0;32m   3792\u001b[0m \u001b[38;5;28;01mexcept\u001b[39;00m \u001b[38;5;167;01mKeyError\u001b[39;00m \u001b[38;5;28;01mas\u001b[39;00m err:\n",
      "File \u001b[1;32mindex.pyx:566\u001b[0m, in \u001b[0;36mpandas._libs.index.DatetimeEngine.get_loc\u001b[1;34m()\u001b[0m\n",
      "File \u001b[1;32mindex.pyx:600\u001b[0m, in \u001b[0;36mpandas._libs.index.DatetimeEngine.get_loc\u001b[1;34m()\u001b[0m\n",
      "\u001b[1;31mKeyError\u001b[0m: Timestamp('2019-10-07 00:00:00+0000', tz='UTC')",
      "\nThe above exception was the direct cause of the following exception:\n",
      "\u001b[1;31mKeyError\u001b[0m                                  Traceback (most recent call last)",
      "File \u001b[1;32mc:\\Users\\diego\\anaconda3\\Lib\\site-packages\\pandas\\core\\indexes\\datetimes.py:631\u001b[0m, in \u001b[0;36mDatetimeIndex.get_loc\u001b[1;34m(self, key)\u001b[0m\n\u001b[0;32m    630\u001b[0m \u001b[38;5;28;01mtry\u001b[39;00m:\n\u001b[1;32m--> 631\u001b[0m     \u001b[38;5;28;01mreturn\u001b[39;00m Index\u001b[38;5;241m.\u001b[39mget_loc(\u001b[38;5;28mself\u001b[39m, key)\n\u001b[0;32m    632\u001b[0m \u001b[38;5;28;01mexcept\u001b[39;00m \u001b[38;5;167;01mKeyError\u001b[39;00m \u001b[38;5;28;01mas\u001b[39;00m err:\n",
      "File \u001b[1;32mc:\\Users\\diego\\anaconda3\\Lib\\site-packages\\pandas\\core\\indexes\\base.py:3798\u001b[0m, in \u001b[0;36mIndex.get_loc\u001b[1;34m(self, key)\u001b[0m\n\u001b[0;32m   3797\u001b[0m         \u001b[38;5;28;01mraise\u001b[39;00m InvalidIndexError(key)\n\u001b[1;32m-> 3798\u001b[0m     \u001b[38;5;28;01mraise\u001b[39;00m \u001b[38;5;167;01mKeyError\u001b[39;00m(key) \u001b[38;5;28;01mfrom\u001b[39;00m \u001b[38;5;21;01merr\u001b[39;00m\n\u001b[0;32m   3799\u001b[0m \u001b[38;5;28;01mexcept\u001b[39;00m \u001b[38;5;167;01mTypeError\u001b[39;00m:\n\u001b[0;32m   3800\u001b[0m     \u001b[38;5;66;03m# If we have a listlike key, _check_indexing_error will raise\u001b[39;00m\n\u001b[0;32m   3801\u001b[0m     \u001b[38;5;66;03m#  InvalidIndexError. Otherwise we fall through and re-raise\u001b[39;00m\n\u001b[0;32m   3802\u001b[0m     \u001b[38;5;66;03m#  the TypeError.\u001b[39;00m\n",
      "\u001b[1;31mKeyError\u001b[0m: Timestamp('2019-10-07 00:00:00+0000', tz='UTC')",
      "\nThe above exception was the direct cause of the following exception:\n",
      "\u001b[1;31mKeyError\u001b[0m                                  Traceback (most recent call last)",
      "Cell \u001b[1;32mIn[19], line 1\u001b[0m\n\u001b[1;32m----> 1\u001b[0m main()\n",
      "Cell \u001b[1;32mIn[18], line 13\u001b[0m, in \u001b[0;36mmain\u001b[1;34m()\u001b[0m\n\u001b[0;32m     10\u001b[0m initial_capital \u001b[38;5;241m=\u001b[39m get_portfolio_size()\n\u001b[0;32m     12\u001b[0m \u001b[38;5;66;03m# Track portfolio performance over time\u001b[39;00m\n\u001b[1;32m---> 13\u001b[0m portfolio_value_df, portfolio_composition_df, asset_value_df \u001b[38;5;241m=\u001b[39m track_portfolio_over_time(price_data, initial_capital)\n\u001b[0;32m     15\u001b[0m \u001b[38;5;66;03m# Calculate returns\u001b[39;00m\n\u001b[0;32m     16\u001b[0m portfolio_value_df[\u001b[38;5;124m\"\u001b[39m\u001b[38;5;124mDaily Return\u001b[39m\u001b[38;5;124m\"\u001b[39m] \u001b[38;5;241m=\u001b[39m portfolio_value_df[\u001b[38;5;124m\"\u001b[39m\u001b[38;5;124mPortfolio Value\u001b[39m\u001b[38;5;124m\"\u001b[39m]\u001b[38;5;241m.\u001b[39mpct_change()\n",
      "Cell \u001b[1;32mIn[17], line 61\u001b[0m, in \u001b[0;36mtrack_portfolio_over_time\u001b[1;34m(price_data, initial_capital)\u001b[0m\n\u001b[0;32m     57\u001b[0m     daily_asset_values[ticker] \u001b[38;5;241m=\u001b[39m holdings[ticker] \u001b[38;5;241m*\u001b[39m close_price  \u001b[38;5;66;03m# Track asset value\u001b[39;00m\n\u001b[0;32m     59\u001b[0m \u001b[38;5;66;03m# Compute percentage allocation\u001b[39;00m\n\u001b[0;32m     60\u001b[0m allocation \u001b[38;5;241m=\u001b[39m {\n\u001b[1;32m---> 61\u001b[0m     ticker: (holdings[ticker] \u001b[38;5;241m*\u001b[39m price_data[ticker]\u001b[38;5;241m.\u001b[39mloc[date, \u001b[38;5;124m\"\u001b[39m\u001b[38;5;124mClose\u001b[39m\u001b[38;5;124m\"\u001b[39m]) \u001b[38;5;241m/\u001b[39m total_value \n\u001b[0;32m     62\u001b[0m     \u001b[38;5;28;01mif\u001b[39;00m total_value \u001b[38;5;241m>\u001b[39m \u001b[38;5;241m0\u001b[39m \u001b[38;5;28;01melse\u001b[39;00m \u001b[38;5;241m0\u001b[39m\n\u001b[0;32m     63\u001b[0m     \u001b[38;5;28;01mfor\u001b[39;00m ticker \u001b[38;5;129;01min\u001b[39;00m holdings\n\u001b[0;32m     64\u001b[0m }\n\u001b[0;32m     66\u001b[0m \u001b[38;5;66;03m# Store daily portfolio value\u001b[39;00m\n\u001b[0;32m     67\u001b[0m portfolio_value_data\u001b[38;5;241m.\u001b[39mappend({\n\u001b[0;32m     68\u001b[0m     \u001b[38;5;124m\"\u001b[39m\u001b[38;5;124mDate\u001b[39m\u001b[38;5;124m\"\u001b[39m: date,\n\u001b[0;32m     69\u001b[0m     \u001b[38;5;124m\"\u001b[39m\u001b[38;5;124mPortfolio Value\u001b[39m\u001b[38;5;124m\"\u001b[39m: total_value,\n\u001b[0;32m     70\u001b[0m     \u001b[38;5;124m\"\u001b[39m\u001b[38;5;124mCash Balance\u001b[39m\u001b[38;5;124m\"\u001b[39m: cash_balance\n\u001b[0;32m     71\u001b[0m })\n",
      "File \u001b[1;32mc:\\Users\\diego\\anaconda3\\Lib\\site-packages\\pandas\\core\\indexing.py:1147\u001b[0m, in \u001b[0;36m_LocationIndexer.__getitem__\u001b[1;34m(self, key)\u001b[0m\n\u001b[0;32m   1145\u001b[0m     \u001b[38;5;28;01mif\u001b[39;00m \u001b[38;5;28mself\u001b[39m\u001b[38;5;241m.\u001b[39m_is_scalar_access(key):\n\u001b[0;32m   1146\u001b[0m         \u001b[38;5;28;01mreturn\u001b[39;00m \u001b[38;5;28mself\u001b[39m\u001b[38;5;241m.\u001b[39mobj\u001b[38;5;241m.\u001b[39m_get_value(\u001b[38;5;241m*\u001b[39mkey, takeable\u001b[38;5;241m=\u001b[39m\u001b[38;5;28mself\u001b[39m\u001b[38;5;241m.\u001b[39m_takeable)\n\u001b[1;32m-> 1147\u001b[0m     \u001b[38;5;28;01mreturn\u001b[39;00m \u001b[38;5;28mself\u001b[39m\u001b[38;5;241m.\u001b[39m_getitem_tuple(key)\n\u001b[0;32m   1148\u001b[0m \u001b[38;5;28;01melse\u001b[39;00m:\n\u001b[0;32m   1149\u001b[0m     \u001b[38;5;66;03m# we by definition only have the 0th axis\u001b[39;00m\n\u001b[0;32m   1150\u001b[0m     axis \u001b[38;5;241m=\u001b[39m \u001b[38;5;28mself\u001b[39m\u001b[38;5;241m.\u001b[39maxis \u001b[38;5;129;01mor\u001b[39;00m \u001b[38;5;241m0\u001b[39m\n",
      "File \u001b[1;32mc:\\Users\\diego\\anaconda3\\Lib\\site-packages\\pandas\\core\\indexing.py:1330\u001b[0m, in \u001b[0;36m_LocIndexer._getitem_tuple\u001b[1;34m(self, tup)\u001b[0m\n\u001b[0;32m   1328\u001b[0m \u001b[38;5;28;01mwith\u001b[39;00m suppress(IndexingError):\n\u001b[0;32m   1329\u001b[0m     tup \u001b[38;5;241m=\u001b[39m \u001b[38;5;28mself\u001b[39m\u001b[38;5;241m.\u001b[39m_expand_ellipsis(tup)\n\u001b[1;32m-> 1330\u001b[0m     \u001b[38;5;28;01mreturn\u001b[39;00m \u001b[38;5;28mself\u001b[39m\u001b[38;5;241m.\u001b[39m_getitem_lowerdim(tup)\n\u001b[0;32m   1332\u001b[0m \u001b[38;5;66;03m# no multi-index, so validate all of the indexers\u001b[39;00m\n\u001b[0;32m   1333\u001b[0m tup \u001b[38;5;241m=\u001b[39m \u001b[38;5;28mself\u001b[39m\u001b[38;5;241m.\u001b[39m_validate_tuple_indexer(tup)\n",
      "File \u001b[1;32mc:\\Users\\diego\\anaconda3\\Lib\\site-packages\\pandas\\core\\indexing.py:1039\u001b[0m, in \u001b[0;36m_LocationIndexer._getitem_lowerdim\u001b[1;34m(self, tup)\u001b[0m\n\u001b[0;32m   1035\u001b[0m \u001b[38;5;28;01mfor\u001b[39;00m i, key \u001b[38;5;129;01min\u001b[39;00m \u001b[38;5;28menumerate\u001b[39m(tup):\n\u001b[0;32m   1036\u001b[0m     \u001b[38;5;28;01mif\u001b[39;00m is_label_like(key):\n\u001b[0;32m   1037\u001b[0m         \u001b[38;5;66;03m# We don't need to check for tuples here because those are\u001b[39;00m\n\u001b[0;32m   1038\u001b[0m         \u001b[38;5;66;03m#  caught by the _is_nested_tuple_indexer check above.\u001b[39;00m\n\u001b[1;32m-> 1039\u001b[0m         section \u001b[38;5;241m=\u001b[39m \u001b[38;5;28mself\u001b[39m\u001b[38;5;241m.\u001b[39m_getitem_axis(key, axis\u001b[38;5;241m=\u001b[39mi)\n\u001b[0;32m   1041\u001b[0m         \u001b[38;5;66;03m# We should never have a scalar section here, because\u001b[39;00m\n\u001b[0;32m   1042\u001b[0m         \u001b[38;5;66;03m#  _getitem_lowerdim is only called after a check for\u001b[39;00m\n\u001b[0;32m   1043\u001b[0m         \u001b[38;5;66;03m#  is_scalar_access, which that would be.\u001b[39;00m\n\u001b[0;32m   1044\u001b[0m         \u001b[38;5;28;01mif\u001b[39;00m section\u001b[38;5;241m.\u001b[39mndim \u001b[38;5;241m==\u001b[39m \u001b[38;5;28mself\u001b[39m\u001b[38;5;241m.\u001b[39mndim:\n\u001b[0;32m   1045\u001b[0m             \u001b[38;5;66;03m# we're in the middle of slicing through a MultiIndex\u001b[39;00m\n\u001b[0;32m   1046\u001b[0m             \u001b[38;5;66;03m# revise the key wrt to `section` by inserting an _NS\u001b[39;00m\n",
      "File \u001b[1;32mc:\\Users\\diego\\anaconda3\\Lib\\site-packages\\pandas\\core\\indexing.py:1393\u001b[0m, in \u001b[0;36m_LocIndexer._getitem_axis\u001b[1;34m(self, key, axis)\u001b[0m\n\u001b[0;32m   1391\u001b[0m \u001b[38;5;66;03m# fall thru to straight lookup\u001b[39;00m\n\u001b[0;32m   1392\u001b[0m \u001b[38;5;28mself\u001b[39m\u001b[38;5;241m.\u001b[39m_validate_key(key, axis)\n\u001b[1;32m-> 1393\u001b[0m \u001b[38;5;28;01mreturn\u001b[39;00m \u001b[38;5;28mself\u001b[39m\u001b[38;5;241m.\u001b[39m_get_label(key, axis\u001b[38;5;241m=\u001b[39maxis)\n",
      "File \u001b[1;32mc:\\Users\\diego\\anaconda3\\Lib\\site-packages\\pandas\\core\\indexing.py:1343\u001b[0m, in \u001b[0;36m_LocIndexer._get_label\u001b[1;34m(self, label, axis)\u001b[0m\n\u001b[0;32m   1341\u001b[0m \u001b[38;5;28;01mdef\u001b[39;00m \u001b[38;5;21m_get_label\u001b[39m(\u001b[38;5;28mself\u001b[39m, label, axis: AxisInt):\n\u001b[0;32m   1342\u001b[0m     \u001b[38;5;66;03m# GH#5567 this will fail if the label is not present in the axis.\u001b[39;00m\n\u001b[1;32m-> 1343\u001b[0m     \u001b[38;5;28;01mreturn\u001b[39;00m \u001b[38;5;28mself\u001b[39m\u001b[38;5;241m.\u001b[39mobj\u001b[38;5;241m.\u001b[39mxs(label, axis\u001b[38;5;241m=\u001b[39maxis)\n",
      "File \u001b[1;32mc:\\Users\\diego\\anaconda3\\Lib\\site-packages\\pandas\\core\\generic.py:4236\u001b[0m, in \u001b[0;36mNDFrame.xs\u001b[1;34m(self, key, axis, level, drop_level)\u001b[0m\n\u001b[0;32m   4234\u001b[0m             new_index \u001b[38;5;241m=\u001b[39m index[loc]\n\u001b[0;32m   4235\u001b[0m \u001b[38;5;28;01melse\u001b[39;00m:\n\u001b[1;32m-> 4236\u001b[0m     loc \u001b[38;5;241m=\u001b[39m index\u001b[38;5;241m.\u001b[39mget_loc(key)\n\u001b[0;32m   4238\u001b[0m     \u001b[38;5;28;01mif\u001b[39;00m \u001b[38;5;28misinstance\u001b[39m(loc, np\u001b[38;5;241m.\u001b[39mndarray):\n\u001b[0;32m   4239\u001b[0m         \u001b[38;5;28;01mif\u001b[39;00m loc\u001b[38;5;241m.\u001b[39mdtype \u001b[38;5;241m==\u001b[39m np\u001b[38;5;241m.\u001b[39mbool_:\n",
      "File \u001b[1;32mc:\\Users\\diego\\anaconda3\\Lib\\site-packages\\pandas\\core\\indexes\\datetimes.py:633\u001b[0m, in \u001b[0;36mDatetimeIndex.get_loc\u001b[1;34m(self, key)\u001b[0m\n\u001b[0;32m    631\u001b[0m     \u001b[38;5;28;01mreturn\u001b[39;00m Index\u001b[38;5;241m.\u001b[39mget_loc(\u001b[38;5;28mself\u001b[39m, key)\n\u001b[0;32m    632\u001b[0m \u001b[38;5;28;01mexcept\u001b[39;00m \u001b[38;5;167;01mKeyError\u001b[39;00m \u001b[38;5;28;01mas\u001b[39;00m err:\n\u001b[1;32m--> 633\u001b[0m     \u001b[38;5;28;01mraise\u001b[39;00m \u001b[38;5;167;01mKeyError\u001b[39;00m(orig_key) \u001b[38;5;28;01mfrom\u001b[39;00m \u001b[38;5;21;01merr\u001b[39;00m\n",
      "\u001b[1;31mKeyError\u001b[0m: Timestamp('2019-10-07 00:00:00+0000', tz='UTC')"
     ]
    }
   ],
   "source": [
    "main()"
   ]
  },
  {
   "cell_type": "code",
   "execution_count": null,
   "metadata": {},
   "outputs": [],
   "source": []
  }
 ],
 "metadata": {
  "kernelspec": {
   "display_name": "base",
   "language": "python",
   "name": "python3"
  },
  "language_info": {
   "codemirror_mode": {
    "name": "ipython",
    "version": 3
   },
   "file_extension": ".py",
   "mimetype": "text/x-python",
   "name": "python",
   "nbconvert_exporter": "python",
   "pygments_lexer": "ipython3",
   "version": "3.12.4"
  }
 },
 "nbformat": 4,
 "nbformat_minor": 4
}
