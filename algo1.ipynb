{
 "cells": [
  {
   "cell_type": "code",
   "execution_count": 1,
   "metadata": {},
   "outputs": [],
   "source": [
    "# -*- coding: utf-8 -*-\n",
    "import yfinance as yf\n",
    "import pandas as pd\n",
    "import math"
   ]
  },
  {
   "cell_type": "markdown",
   "metadata": {},
   "source": [
    "# First Trading-Bot"
   ]
  },
  {
   "cell_type": "markdown",
   "metadata": {
    "jp-MarkdownHeadingCollapsed": true
   },
   "source": [
    "## Logic behind the algorithm"
   ]
  },
  {
   "cell_type": "code",
   "execution_count": 17,
   "metadata": {},
   "outputs": [],
   "source": [
    "# Portfolio tickers: List of stocks and bonds\n",
    "portfolio_tickers = [\"AAPL\", \"MSFT\", \"TLT\", \"SPY\"]  # Example tickers\n",
    "\n",
    "def signal_generator(df):\n",
    "    # Extract scalar values (ensure they're floats, not Series)\n",
    "    open_price = float(df.iloc[1][\"Open\"])\n",
    "    close_price = float(df.iloc[1][\"Close\"])\n",
    "    previous_open = float(df.iloc[0][\"Open\"])\n",
    "    previous_close = float(df.iloc[0][\"Close\"])\n",
    "\n",
    "    # Bearish Pattern\n",
    "    if open_price > close_price and previous_open < previous_close and close_price < previous_open and open_price >= previous_close:\n",
    "        return 1  # Bearish (Sell signal)\n",
    "\n",
    "    # Bullish Pattern\n",
    "    elif open_price < close_price and previous_open > previous_close and close_price > previous_open and open_price <= previous_close:\n",
    "        return 2  # Bullish (Buy signal)\n",
    "\n",
    "    # No clear pattern\n",
    "    else:\n",
    "        return 0\n",
    "\n",
    "\n",
    "# Fetch data for all portfolio assets\n",
    "def fetch_data(ticker, start_date, end_date):\n",
    "    print(f\"Fetching data for {ticker}...\")\n",
    "    data = yf.download(ticker, start=start_date, end=end_date)\n",
    "    return data\n",
    "\n",
    "def evaluate_algorithm():\n",
    "    start_date = \"2022-10-07\"\n",
    "    end_date = \"2022-12-05\"\n",
    "\n",
    "    # Results storage\n",
    "    evaluation_results = []\n",
    "\n",
    "    for ticker in portfolio_tickers:\n",
    "        # Fetch data for the asset\n",
    "        dataF = fetch_data(ticker, start_date, end_date)\n",
    "        if dataF.empty or len(dataF) < 2:\n",
    "            print(f\"Not enough data for {ticker}. Skipping.\")\n",
    "            continue\n",
    "\n",
    "        # Generate signals for all candles\n",
    "        signals = []\n",
    "        signals.append(0)  # First candle cannot have a signal\n",
    "        for i in range(1, len(dataF)):\n",
    "            df_slice = dataF.iloc[i - 1:i + 1]  # Two rows for signal calculation\n",
    "            signals.append(signal_generator(df_slice))\n",
    "        \n",
    "        # Add signals to the dataframe\n",
    "        dataF[\"Signal\"] = signals\n",
    "\n",
    "        # Analyze signal distribution\n",
    "        signal_counts = dataF[\"Signal\"].value_counts()\n",
    "        print(f\"{ticker} Signal Distribution:\")\n",
    "        print(signal_counts)\n",
    "\n",
    "        # Save results for the evaluation\n",
    "        evaluation_results.append({\n",
    "            \"Ticker\": ticker,\n",
    "            \"Signal Distribution\": signal_counts.to_dict()\n",
    "        })\n",
    "\n",
    "    # Return evaluation results\n",
    "    return evaluation_results\n",
    "\n"
   ]
  },
  {
   "cell_type": "code",
   "execution_count": 18,
   "metadata": {},
   "outputs": [
    {
     "name": "stderr",
     "output_type": "stream",
     "text": [
      "[*********************100%***********************]  1 of 1 completed"
     ]
    },
    {
     "name": "stdout",
     "output_type": "stream",
     "text": [
      "Fetching data for AAPL...\n"
     ]
    },
    {
     "name": "stderr",
     "output_type": "stream",
     "text": [
      "\n",
      "C:\\Users\\diego\\AppData\\Local\\Temp\\ipykernel_10760\\4194218566.py:6: FutureWarning: Calling float on a single element Series is deprecated and will raise a TypeError in the future. Use float(ser.iloc[0]) instead\n",
      "  open_price = float(df.iloc[1][\"Open\"])\n",
      "C:\\Users\\diego\\AppData\\Local\\Temp\\ipykernel_10760\\4194218566.py:7: FutureWarning: Calling float on a single element Series is deprecated and will raise a TypeError in the future. Use float(ser.iloc[0]) instead\n",
      "  close_price = float(df.iloc[1][\"Close\"])\n",
      "C:\\Users\\diego\\AppData\\Local\\Temp\\ipykernel_10760\\4194218566.py:8: FutureWarning: Calling float on a single element Series is deprecated and will raise a TypeError in the future. Use float(ser.iloc[0]) instead\n",
      "  previous_open = float(df.iloc[0][\"Open\"])\n",
      "C:\\Users\\diego\\AppData\\Local\\Temp\\ipykernel_10760\\4194218566.py:9: FutureWarning: Calling float on a single element Series is deprecated and will raise a TypeError in the future. Use float(ser.iloc[0]) instead\n",
      "  previous_close = float(df.iloc[0][\"Close\"])\n"
     ]
    },
    {
     "name": "stdout",
     "output_type": "stream",
     "text": [
      "AAPL Signal Distribution:\n",
      "Signal\n",
      "0    37\n",
      "2     2\n",
      "1     1\n",
      "Name: count, dtype: int64\n",
      "Fetching data for MSFT...\n"
     ]
    },
    {
     "name": "stderr",
     "output_type": "stream",
     "text": [
      "[*********************100%***********************]  1 of 1 completed\n",
      "C:\\Users\\diego\\AppData\\Local\\Temp\\ipykernel_10760\\4194218566.py:6: FutureWarning: Calling float on a single element Series is deprecated and will raise a TypeError in the future. Use float(ser.iloc[0]) instead\n",
      "  open_price = float(df.iloc[1][\"Open\"])\n",
      "C:\\Users\\diego\\AppData\\Local\\Temp\\ipykernel_10760\\4194218566.py:7: FutureWarning: Calling float on a single element Series is deprecated and will raise a TypeError in the future. Use float(ser.iloc[0]) instead\n",
      "  close_price = float(df.iloc[1][\"Close\"])\n",
      "C:\\Users\\diego\\AppData\\Local\\Temp\\ipykernel_10760\\4194218566.py:8: FutureWarning: Calling float on a single element Series is deprecated and will raise a TypeError in the future. Use float(ser.iloc[0]) instead\n",
      "  previous_open = float(df.iloc[0][\"Open\"])\n",
      "C:\\Users\\diego\\AppData\\Local\\Temp\\ipykernel_10760\\4194218566.py:9: FutureWarning: Calling float on a single element Series is deprecated and will raise a TypeError in the future. Use float(ser.iloc[0]) instead\n",
      "  previous_close = float(df.iloc[0][\"Close\"])\n"
     ]
    },
    {
     "name": "stdout",
     "output_type": "stream",
     "text": [
      "MSFT Signal Distribution:\n",
      "Signal\n",
      "0    39\n",
      "2     1\n",
      "Name: count, dtype: int64\n",
      "Fetching data for TLT...\n"
     ]
    },
    {
     "name": "stderr",
     "output_type": "stream",
     "text": [
      "[*********************100%***********************]  1 of 1 completed\n",
      "C:\\Users\\diego\\AppData\\Local\\Temp\\ipykernel_10760\\4194218566.py:6: FutureWarning: Calling float on a single element Series is deprecated and will raise a TypeError in the future. Use float(ser.iloc[0]) instead\n",
      "  open_price = float(df.iloc[1][\"Open\"])\n",
      "C:\\Users\\diego\\AppData\\Local\\Temp\\ipykernel_10760\\4194218566.py:7: FutureWarning: Calling float on a single element Series is deprecated and will raise a TypeError in the future. Use float(ser.iloc[0]) instead\n",
      "  close_price = float(df.iloc[1][\"Close\"])\n",
      "C:\\Users\\diego\\AppData\\Local\\Temp\\ipykernel_10760\\4194218566.py:8: FutureWarning: Calling float on a single element Series is deprecated and will raise a TypeError in the future. Use float(ser.iloc[0]) instead\n",
      "  previous_open = float(df.iloc[0][\"Open\"])\n",
      "C:\\Users\\diego\\AppData\\Local\\Temp\\ipykernel_10760\\4194218566.py:9: FutureWarning: Calling float on a single element Series is deprecated and will raise a TypeError in the future. Use float(ser.iloc[0]) instead\n",
      "  previous_close = float(df.iloc[0][\"Close\"])\n"
     ]
    },
    {
     "name": "stdout",
     "output_type": "stream",
     "text": [
      "TLT Signal Distribution:\n",
      "Signal\n",
      "0    38\n",
      "1     1\n",
      "2     1\n",
      "Name: count, dtype: int64\n",
      "Fetching data for SPY...\n"
     ]
    },
    {
     "name": "stderr",
     "output_type": "stream",
     "text": [
      "[*********************100%***********************]  1 of 1 completed\n",
      "C:\\Users\\diego\\AppData\\Local\\Temp\\ipykernel_10760\\4194218566.py:6: FutureWarning: Calling float on a single element Series is deprecated and will raise a TypeError in the future. Use float(ser.iloc[0]) instead\n",
      "  open_price = float(df.iloc[1][\"Open\"])\n",
      "C:\\Users\\diego\\AppData\\Local\\Temp\\ipykernel_10760\\4194218566.py:7: FutureWarning: Calling float on a single element Series is deprecated and will raise a TypeError in the future. Use float(ser.iloc[0]) instead\n",
      "  close_price = float(df.iloc[1][\"Close\"])\n",
      "C:\\Users\\diego\\AppData\\Local\\Temp\\ipykernel_10760\\4194218566.py:8: FutureWarning: Calling float on a single element Series is deprecated and will raise a TypeError in the future. Use float(ser.iloc[0]) instead\n",
      "  previous_open = float(df.iloc[0][\"Open\"])\n",
      "C:\\Users\\diego\\AppData\\Local\\Temp\\ipykernel_10760\\4194218566.py:9: FutureWarning: Calling float on a single element Series is deprecated and will raise a TypeError in the future. Use float(ser.iloc[0]) instead\n",
      "  previous_close = float(df.iloc[0][\"Close\"])\n"
     ]
    },
    {
     "name": "stdout",
     "output_type": "stream",
     "text": [
      "SPY Signal Distribution:\n",
      "Signal\n",
      "0    36\n",
      "2     3\n",
      "1     1\n",
      "Name: count, dtype: int64\n",
      "\n",
      "Evaluation for AAPL:\n",
      "Signal Distribution: {0: 37, 2: 2, 1: 1}\n",
      "\n",
      "Evaluation for MSFT:\n",
      "Signal Distribution: {0: 39, 2: 1}\n",
      "\n",
      "Evaluation for TLT:\n",
      "Signal Distribution: {0: 38, 1: 1, 2: 1}\n",
      "\n",
      "Evaluation for SPY:\n",
      "Signal Distribution: {0: 36, 2: 3, 1: 1}\n"
     ]
    }
   ],
   "source": [
    "# Run the evaluation\n",
    "results = evaluate_algorithm()\n",
    "\n",
    "# Display results\n",
    "for result in results:\n",
    "    print(f\"\\nEvaluation for {result['Ticker']}:\")\n",
    "    print(f\"Signal Distribution: {result['Signal Distribution']}\")"
   ]
  },
  {
   "cell_type": "markdown",
   "metadata": {
    "jp-MarkdownHeadingCollapsed": true
   },
   "source": [
    "## Sample"
   ]
  },
  {
   "cell_type": "code",
   "execution_count": 36,
   "metadata": {},
   "outputs": [
    {
     "name": "stderr",
     "output_type": "stream",
     "text": [
      "[*********************100%***********************]  1 of 1 completed"
     ]
    },
    {
     "name": "stdout",
     "output_type": "stream",
     "text": [
      "Fetching data for AAPL...\n"
     ]
    },
    {
     "name": "stderr",
     "output_type": "stream",
     "text": [
      "\n",
      "C:\\Users\\diego\\AppData\\Local\\Temp\\ipykernel_10760\\3817118178.py:9: FutureWarning: Calling float on a single element Series is deprecated and will raise a TypeError in the future. Use float(ser.iloc[0]) instead\n",
      "  open_price = float(df.iloc[1][\"Open\"])\n",
      "C:\\Users\\diego\\AppData\\Local\\Temp\\ipykernel_10760\\3817118178.py:10: FutureWarning: Calling float on a single element Series is deprecated and will raise a TypeError in the future. Use float(ser.iloc[0]) instead\n",
      "  close_price = float(df.iloc[1][\"Close\"])\n",
      "C:\\Users\\diego\\AppData\\Local\\Temp\\ipykernel_10760\\3817118178.py:11: FutureWarning: Calling float on a single element Series is deprecated and will raise a TypeError in the future. Use float(ser.iloc[0]) instead\n",
      "  previous_open = float(df.iloc[0][\"Open\"])\n",
      "C:\\Users\\diego\\AppData\\Local\\Temp\\ipykernel_10760\\3817118178.py:12: FutureWarning: Calling float on a single element Series is deprecated and will raise a TypeError in the future. Use float(ser.iloc[0]) instead\n",
      "  previous_close = float(df.iloc[0][\"Close\"])\n",
      "C:\\Users\\diego\\AppData\\Local\\Temp\\ipykernel_10760\\3817118178.py:66: FutureWarning: The default fill_method='pad' in DataFrame.pct_change is deprecated and will be removed in a future version. Either fill in any non-leading NA values prior to calling pct_change or specify 'fill_method=None' to not fill NA values.\n",
      "  price_pct_change = dataF[\"Close\"].pct_change().squeeze()\n",
      "[*********************100%***********************]  1 of 1 completed\n",
      "C:\\Users\\diego\\AppData\\Local\\Temp\\ipykernel_10760\\3817118178.py:9: FutureWarning: Calling float on a single element Series is deprecated and will raise a TypeError in the future. Use float(ser.iloc[0]) instead\n",
      "  open_price = float(df.iloc[1][\"Open\"])\n",
      "C:\\Users\\diego\\AppData\\Local\\Temp\\ipykernel_10760\\3817118178.py:10: FutureWarning: Calling float on a single element Series is deprecated and will raise a TypeError in the future. Use float(ser.iloc[0]) instead\n",
      "  close_price = float(df.iloc[1][\"Close\"])\n",
      "C:\\Users\\diego\\AppData\\Local\\Temp\\ipykernel_10760\\3817118178.py:11: FutureWarning: Calling float on a single element Series is deprecated and will raise a TypeError in the future. Use float(ser.iloc[0]) instead\n",
      "  previous_open = float(df.iloc[0][\"Open\"])\n",
      "C:\\Users\\diego\\AppData\\Local\\Temp\\ipykernel_10760\\3817118178.py:12: FutureWarning: Calling float on a single element Series is deprecated and will raise a TypeError in the future. Use float(ser.iloc[0]) instead\n",
      "  previous_close = float(df.iloc[0][\"Close\"])\n"
     ]
    },
    {
     "name": "stdout",
     "output_type": "stream",
     "text": [
      "Signal Column:\n",
      "Signal\n",
      "0.0    1170\n",
      "1.0      51\n",
      "2.0      37\n",
      "Name: count, dtype: int64\n",
      "Shifted Position (Series):\n",
      "Date\n",
      "2019-01-02 00:00:00+00:00    NaN\n",
      "2019-01-03 00:00:00+00:00    0.0\n",
      "2019-01-04 00:00:00+00:00    0.0\n",
      "2019-01-07 00:00:00+00:00    0.0\n",
      "2019-01-08 00:00:00+00:00    0.0\n",
      "Name: Position, dtype: float64\n",
      "Price Percentage Change (Series):\n",
      "Date\n",
      "2019-01-02 00:00:00+00:00         NaN\n",
      "2019-01-03 00:00:00+00:00   -0.099607\n",
      "2019-01-04 00:00:00+00:00    0.042689\n",
      "2019-01-07 00:00:00+00:00   -0.002226\n",
      "2019-01-08 00:00:00+00:00    0.019063\n",
      "Name: AAPL, dtype: float64\n",
      "daily returns:\n",
      "Date\n",
      "2019-01-02 00:00:00+00:00    NaN\n",
      "2019-01-03 00:00:00+00:00   -0.0\n",
      "2019-01-04 00:00:00+00:00    0.0\n",
      "2019-01-07 00:00:00+00:00   -0.0\n",
      "2019-01-08 00:00:00+00:00    0.0\n",
      "Name: Daily Return, dtype: float64\n",
      "Fetching data for MSFT...\n",
      "Signal Column:\n",
      "Signal\n",
      "0.0    1166\n",
      "1.0      52\n",
      "2.0      40\n",
      "Name: count, dtype: int64\n",
      "Shifted Position (Series):\n",
      "Date\n",
      "2019-01-02 00:00:00+00:00    NaN\n",
      "2019-01-03 00:00:00+00:00    0.0\n",
      "2019-01-04 00:00:00+00:00    0.0\n",
      "2019-01-07 00:00:00+00:00    0.0\n",
      "2019-01-08 00:00:00+00:00    0.0\n",
      "Name: Position, dtype: float64\n",
      "Price Percentage Change (Series):\n",
      "Date\n",
      "2019-01-02 00:00:00+00:00         NaN\n",
      "2019-01-03 00:00:00+00:00   -0.036788\n",
      "2019-01-04 00:00:00+00:00    0.046509\n",
      "2019-01-07 00:00:00+00:00    0.001275\n",
      "2019-01-08 00:00:00+00:00    0.007251\n",
      "Name: MSFT, dtype: float64\n",
      "daily returns:\n",
      "Date\n",
      "2019-01-02 00:00:00+00:00    NaN\n",
      "2019-01-03 00:00:00+00:00   -0.0\n",
      "2019-01-04 00:00:00+00:00    0.0\n",
      "2019-01-07 00:00:00+00:00    0.0\n",
      "2019-01-08 00:00:00+00:00    0.0\n",
      "Name: Daily Return, dtype: float64\n"
     ]
    },
    {
     "name": "stderr",
     "output_type": "stream",
     "text": [
      "C:\\Users\\diego\\AppData\\Local\\Temp\\ipykernel_10760\\3817118178.py:66: FutureWarning: The default fill_method='pad' in DataFrame.pct_change is deprecated and will be removed in a future version. Either fill in any non-leading NA values prior to calling pct_change or specify 'fill_method=None' to not fill NA values.\n",
      "  price_pct_change = dataF[\"Close\"].pct_change().squeeze()\n"
     ]
    },
    {
     "ename": "ValueError",
     "evalue": "('Lengths must match to compare', (1346,), (0,))",
     "output_type": "error",
     "traceback": [
      "\u001b[1;31m---------------------------------------------------------------------------\u001b[0m",
      "\u001b[1;31mValueError\u001b[0m                                Traceback (most recent call last)",
      "Cell \u001b[1;32mIn[36], line 126\u001b[0m\n\u001b[0;32m    124\u001b[0m \u001b[38;5;66;03m# Main function\u001b[39;00m\n\u001b[0;32m    125\u001b[0m initial_capital \u001b[38;5;241m=\u001b[39m \u001b[38;5;241m10000\u001b[39m\n\u001b[1;32m--> 126\u001b[0m final_value, portfolio_history, daily_returns \u001b[38;5;241m=\u001b[39m simulate_portfolio(initial_capital)\n\u001b[0;32m    128\u001b[0m \u001b[38;5;28mprint\u001b[39m(\u001b[38;5;124mf\u001b[39m\u001b[38;5;124m\"\u001b[39m\u001b[38;5;124mInitial Portfolio Value: $\u001b[39m\u001b[38;5;132;01m{\u001b[39;00minitial_capital\u001b[38;5;132;01m:\u001b[39;00m\u001b[38;5;124m.2f\u001b[39m\u001b[38;5;132;01m}\u001b[39;00m\u001b[38;5;124m\"\u001b[39m)\n\u001b[0;32m    129\u001b[0m \u001b[38;5;28mprint\u001b[39m(\u001b[38;5;124mf\u001b[39m\u001b[38;5;124m\"\u001b[39m\u001b[38;5;124mFinal Portfolio Value: $\u001b[39m\u001b[38;5;132;01m{\u001b[39;00mfinal_value\u001b[38;5;132;01m:\u001b[39;00m\u001b[38;5;124m.2f\u001b[39m\u001b[38;5;132;01m}\u001b[39;00m\u001b[38;5;124m\"\u001b[39m)\n",
      "Cell \u001b[1;32mIn[36], line 91\u001b[0m, in \u001b[0;36msimulate_portfolio\u001b[1;34m(initial_capital, start_date, end_date, interval)\u001b[0m\n\u001b[0;32m     88\u001b[0m     portfolio_history \u001b[38;5;241m+\u001b[39m\u001b[38;5;241m=\u001b[39m dataF[\u001b[38;5;124m\"\u001b[39m\u001b[38;5;124mWeighted Return\u001b[39m\u001b[38;5;124m\"\u001b[39m]\u001b[38;5;241m.\u001b[39mcumsum()\n\u001b[0;32m     90\u001b[0m \u001b[38;5;66;03m# Combine daily returns\u001b[39;00m\n\u001b[1;32m---> 91\u001b[0m \u001b[38;5;28;01mif\u001b[39;00m daily_returns \u001b[38;5;241m==\u001b[39m []:\n\u001b[0;32m     92\u001b[0m     daily_returns \u001b[38;5;241m=\u001b[39m dataF[\u001b[38;5;124m\"\u001b[39m\u001b[38;5;124mWeighted Return\u001b[39m\u001b[38;5;124m\"\u001b[39m]\u001b[38;5;241m.\u001b[39mfillna(\u001b[38;5;241m0\u001b[39m)\n\u001b[0;32m     93\u001b[0m \u001b[38;5;28;01melse\u001b[39;00m:\n",
      "File \u001b[1;32mc:\\Users\\diego\\anaconda3\\Lib\\site-packages\\pandas\\core\\ops\\common.py:76\u001b[0m, in \u001b[0;36m_unpack_zerodim_and_defer.<locals>.new_method\u001b[1;34m(self, other)\u001b[0m\n\u001b[0;32m     72\u001b[0m             \u001b[38;5;28;01mreturn\u001b[39;00m \u001b[38;5;28mNotImplemented\u001b[39m\n\u001b[0;32m     74\u001b[0m other \u001b[38;5;241m=\u001b[39m item_from_zerodim(other)\n\u001b[1;32m---> 76\u001b[0m \u001b[38;5;28;01mreturn\u001b[39;00m method(\u001b[38;5;28mself\u001b[39m, other)\n",
      "File \u001b[1;32mc:\\Users\\diego\\anaconda3\\Lib\\site-packages\\pandas\\core\\arraylike.py:40\u001b[0m, in \u001b[0;36mOpsMixin.__eq__\u001b[1;34m(self, other)\u001b[0m\n\u001b[0;32m     38\u001b[0m \u001b[38;5;129m@unpack_zerodim_and_defer\u001b[39m(\u001b[38;5;124m\"\u001b[39m\u001b[38;5;124m__eq__\u001b[39m\u001b[38;5;124m\"\u001b[39m)\n\u001b[0;32m     39\u001b[0m \u001b[38;5;28;01mdef\u001b[39;00m \u001b[38;5;21m__eq__\u001b[39m(\u001b[38;5;28mself\u001b[39m, other):\n\u001b[1;32m---> 40\u001b[0m     \u001b[38;5;28;01mreturn\u001b[39;00m \u001b[38;5;28mself\u001b[39m\u001b[38;5;241m.\u001b[39m_cmp_method(other, operator\u001b[38;5;241m.\u001b[39meq)\n",
      "File \u001b[1;32mc:\\Users\\diego\\anaconda3\\Lib\\site-packages\\pandas\\core\\series.py:5803\u001b[0m, in \u001b[0;36mSeries._cmp_method\u001b[1;34m(self, other, op)\u001b[0m\n\u001b[0;32m   5800\u001b[0m lvalues \u001b[38;5;241m=\u001b[39m \u001b[38;5;28mself\u001b[39m\u001b[38;5;241m.\u001b[39m_values\n\u001b[0;32m   5801\u001b[0m rvalues \u001b[38;5;241m=\u001b[39m extract_array(other, extract_numpy\u001b[38;5;241m=\u001b[39m\u001b[38;5;28;01mTrue\u001b[39;00m, extract_range\u001b[38;5;241m=\u001b[39m\u001b[38;5;28;01mTrue\u001b[39;00m)\n\u001b[1;32m-> 5803\u001b[0m res_values \u001b[38;5;241m=\u001b[39m ops\u001b[38;5;241m.\u001b[39mcomparison_op(lvalues, rvalues, op)\n\u001b[0;32m   5805\u001b[0m \u001b[38;5;28;01mreturn\u001b[39;00m \u001b[38;5;28mself\u001b[39m\u001b[38;5;241m.\u001b[39m_construct_result(res_values, name\u001b[38;5;241m=\u001b[39mres_name)\n",
      "File \u001b[1;32mc:\\Users\\diego\\anaconda3\\Lib\\site-packages\\pandas\\core\\ops\\array_ops.py:323\u001b[0m, in \u001b[0;36mcomparison_op\u001b[1;34m(left, right, op)\u001b[0m\n\u001b[0;32m    318\u001b[0m \u001b[38;5;28;01mif\u001b[39;00m \u001b[38;5;28misinstance\u001b[39m(rvalues, (np\u001b[38;5;241m.\u001b[39mndarray, ABCExtensionArray)):\n\u001b[0;32m    319\u001b[0m     \u001b[38;5;66;03m# TODO: make this treatment consistent across ops and classes.\u001b[39;00m\n\u001b[0;32m    320\u001b[0m     \u001b[38;5;66;03m#  We are not catching all listlikes here (e.g. frozenset, tuple)\u001b[39;00m\n\u001b[0;32m    321\u001b[0m     \u001b[38;5;66;03m#  The ambiguous case is object-dtype.  See GH#27803\u001b[39;00m\n\u001b[0;32m    322\u001b[0m     \u001b[38;5;28;01mif\u001b[39;00m \u001b[38;5;28mlen\u001b[39m(lvalues) \u001b[38;5;241m!=\u001b[39m \u001b[38;5;28mlen\u001b[39m(rvalues):\n\u001b[1;32m--> 323\u001b[0m         \u001b[38;5;28;01mraise\u001b[39;00m \u001b[38;5;167;01mValueError\u001b[39;00m(\n\u001b[0;32m    324\u001b[0m             \u001b[38;5;124m\"\u001b[39m\u001b[38;5;124mLengths must match to compare\u001b[39m\u001b[38;5;124m\"\u001b[39m, lvalues\u001b[38;5;241m.\u001b[39mshape, rvalues\u001b[38;5;241m.\u001b[39mshape\n\u001b[0;32m    325\u001b[0m         )\n\u001b[0;32m    327\u001b[0m \u001b[38;5;28;01mif\u001b[39;00m should_extension_dispatch(lvalues, rvalues) \u001b[38;5;129;01mor\u001b[39;00m (\n\u001b[0;32m    328\u001b[0m     (\u001b[38;5;28misinstance\u001b[39m(rvalues, (Timedelta, BaseOffset, Timestamp)) \u001b[38;5;129;01mor\u001b[39;00m right \u001b[38;5;129;01mis\u001b[39;00m NaT)\n\u001b[0;32m    329\u001b[0m     \u001b[38;5;129;01mand\u001b[39;00m lvalues\u001b[38;5;241m.\u001b[39mdtype \u001b[38;5;241m!=\u001b[39m \u001b[38;5;28mobject\u001b[39m\n\u001b[0;32m    330\u001b[0m ):\n\u001b[0;32m    331\u001b[0m     \u001b[38;5;66;03m# Call the method on lvalues\u001b[39;00m\n\u001b[0;32m    332\u001b[0m     res_values \u001b[38;5;241m=\u001b[39m op(lvalues, rvalues)\n",
      "\u001b[1;31mValueError\u001b[0m: ('Lengths must match to compare', (1346,), (0,))"
     ]
    }
   ],
   "source": [
    "import matplotlib.pyplot as plt\n",
    "import numpy as np\n",
    "\n",
    "# Portfolio tickers\n",
    "portfolio_tickers = [\"AAPL\", \"MSFT\", \"TLT\", \"SPY\"]\n",
    "\n",
    "# Signal generator function (unchanged)\n",
    "def signal_generator(df):\n",
    "    open_price = float(df.iloc[1][\"Open\"])\n",
    "    close_price = float(df.iloc[1][\"Close\"])\n",
    "    previous_open = float(df.iloc[0][\"Open\"])\n",
    "    previous_close = float(df.iloc[0][\"Close\"])\n",
    "\n",
    "    # Bearish Pattern\n",
    "    if open_price > close_price and previous_open < previous_close and close_price < previous_open and open_price >= previous_close:\n",
    "        return 1  # Bearish (Sell signal)\n",
    "\n",
    "    # Bullish Pattern\n",
    "    elif open_price < close_price and previous_open > previous_close and close_price > previous_open and open_price <= previous_close:\n",
    "        return 2  # Bullish (Buy signal)\n",
    "\n",
    "    # No clear pattern\n",
    "    else:\n",
    "        return 0\n",
    "\n",
    "# Fetch data for all portfolio assets\n",
    "def fetch_data(ticker, start_date, end_date, interval='1d'):\n",
    "    print(f\"Fetching data for {ticker}...\")\n",
    "    data = yf.download(ticker, start=start_date, end=end_date, interval=interval)\n",
    "    return data\n",
    "\n",
    "# Simulate portfolio performance\n",
    "def simulate_portfolio(initial_capital=10000, start_date=\"2019-01-01\", end_date=\"2023-12-31\", interval='1d'):\n",
    "    portfolio_value = initial_capital\n",
    "    portfolio_history = []  # To track portfolio value over time\n",
    "    daily_returns = []  # To track daily returns\n",
    "    allocation = {}  # To track position size for each asset\n",
    "\n",
    "    for ticker in portfolio_tickers:\n",
    "        # Fetch data\n",
    "        dataF = fetch_data(ticker, start_date, end_date, interval)\n",
    "        if dataF.empty or len(dataF) < 2:\n",
    "            print(f\"Not enough data for {ticker}. Skipping.\")\n",
    "            continue\n",
    "\n",
    "        # Generate signals\n",
    "        signals = [0]  # No signal for the first row\n",
    "        for i in range(1, len(dataF)):\n",
    "            df_slice = dataF.iloc[i - 1:i + 1]\n",
    "            signals.append(signal_generator(df_slice))\n",
    "        dataF[\"Signal\"] = signals\n",
    "\n",
    "        # Simulate trades based on signals\n",
    "        dataF[\"Position\"] = 0  # Position in the asset (positive for buy, negative for sell)\n",
    "        for i in range(1, len(dataF)):\n",
    "            if dataF[\"Signal\"].iloc[i] == 2:  # Buy signal\n",
    "                dataF.at[i, \"Position\"] = 1  # Long 1 unit\n",
    "            elif dataF[\"Signal\"].iloc[i] == 1:  # Sell signal\n",
    "                dataF.at[i, \"Position\"] = -1  # Short 1 unit\n",
    "\n",
    "        # Calculate daily returns for this asset\n",
    "        # Ensure 'Position' is numeric and properly shifted\n",
    "        shifted_position = dataF[\"Position\"].shift(1).squeeze()\n",
    "\n",
    "        # Ensure 'Close' percentage change is a single-column numeric Series\n",
    "        price_pct_change = dataF[\"Close\"].pct_change().squeeze()\n",
    "\n",
    "        # Calculate daily return as the product (element-wise)\n",
    "        dataF[\"Daily Return\"] = shifted_position * price_pct_change\n",
    "\n",
    "        # Add asset returns to portfolio\n",
    "        allocation[ticker] = portfolio_value / len(portfolio_tickers)  # Equal allocation\n",
    "        dataF[\"Weighted Return\"] = allocation[ticker] * dataF[\"Daily Return\"]\n",
    "\n",
    "        # Track portfolio history\n",
    "        if \"Portfolio Value\" not in locals():\n",
    "            portfolio_history = dataF[\"Weighted Return\"].cumsum() + portfolio_value\n",
    "        else:\n",
    "            portfolio_history += dataF[\"Weighted Return\"].cumsum()\n",
    "\n",
    "        # Combine daily returns\n",
    "        if daily_returns == []:\n",
    "            daily_returns = dataF[\"Weighted Return\"].fillna(0)\n",
    "        else:\n",
    "            daily_returns += dataF[\"Weighted Return\"].fillna(0)\n",
    "\n",
    "    # Final portfolio value\n",
    "    final_value = portfolio_value + daily_returns.sum()\n",
    "\n",
    "    return final_value, portfolio_history, daily_returns\n",
    "\n",
    "# Visualization\n",
    "def visualize_performance(portfolio_history, daily_returns):    \n",
    "    # Plot portfolio value over time\n",
    "    plt.figure(figsize=(12, 6))\n",
    "    plt.plot(portfolio_history, label=\"Portfolio Value\")\n",
    "    plt.title(\"Portfolio Value Over Time\")\n",
    "    plt.xlabel(\"Time\")\n",
    "    plt.ylabel(\"Portfolio Value ($)\")\n",
    "    plt.legend()\n",
    "    plt.grid()\n",
    "    plt.show()\n",
    "\n",
    "    # Plot daily returns\n",
    "    plt.figure(figsize=(12, 6))\n",
    "    plt.plot(daily_returns, label=\"Daily Returns\")\n",
    "    plt.title(\"Daily Returns Over Time\")\n",
    "    plt.xlabel(\"Time\")\n",
    "    plt.ylabel(\"Daily Returns\")\n",
    "    plt.axhline(y=0, color='red', linestyle='--', linewidth=1)\n",
    "    plt.legend()\n",
    "    plt.grid()\n",
    "    plt.show()\n",
    "\n",
    "# Main function\n",
    "initial_capital = 10000\n",
    "final_value, portfolio_history, daily_returns = simulate_portfolio(initial_capital)\n",
    "\n",
    "print(f\"Initial Portfolio Value: ${initial_capital:.2f}\")\n",
    "print(f\"Final Portfolio Value: ${final_value:.2f}\")\n",
    "\n",
    "visualize_performance(portfolio_history, daily_returns)\n"
   ]
  },
  {
   "cell_type": "code",
   "execution_count": 27,
   "metadata": {},
   "outputs": [
    {
     "ename": "NameError",
     "evalue": "name 'dataF' is not defined",
     "output_type": "error",
     "traceback": [
      "\u001b[1;31m---------------------------------------------------------------------------\u001b[0m",
      "\u001b[1;31mNameError\u001b[0m                                 Traceback (most recent call last)",
      "Cell \u001b[1;32mIn[27], line 1\u001b[0m\n\u001b[1;32m----> 1\u001b[0m \u001b[38;5;28mprint\u001b[39m(dataF\u001b[38;5;241m.\u001b[39mcolumns)  \u001b[38;5;66;03m# Check for 'Position' and 'Close'\u001b[39;00m\n\u001b[0;32m      2\u001b[0m \u001b[38;5;28mprint\u001b[39m(dataF\u001b[38;5;241m.\u001b[39mhead())\n",
      "\u001b[1;31mNameError\u001b[0m: name 'dataF' is not defined"
     ]
    }
   ],
   "source": [
    "print(dataF.columns)  # Check for 'Position' and 'Close'\n",
    "print(dataF.head())  # Inspect the first few rows\n"
   ]
  },
  {
   "cell_type": "code",
   "execution_count": 3,
   "metadata": {},
   "outputs": [
    {
     "ename": "NameError",
     "evalue": "name 'ticker' is not defined",
     "output_type": "error",
     "traceback": [
      "\u001b[0;31m---------------------------------------------------------------------------\u001b[0m",
      "\u001b[0;31mNameError\u001b[0m                                 Traceback (most recent call last)",
      "Cell \u001b[0;32mIn[3], line 1\u001b[0m\n\u001b[0;32m----> 1\u001b[0m data \u001b[38;5;241m=\u001b[39m yf\u001b[38;5;241m.\u001b[39mdownload(ticker, start\u001b[38;5;241m=\u001b[39mstart_date, end\u001b[38;5;241m=\u001b[39mend_date, interval\u001b[38;5;241m=\u001b[39minterval)\n",
      "\u001b[0;31mNameError\u001b[0m: name 'ticker' is not defined"
     ]
    }
   ],
   "source": [
    "data = yf.download(ticker, start=start_date, end=end_date, interval=interval)"
   ]
  },
  {
   "cell_type": "markdown",
   "metadata": {
    "jp-MarkdownHeadingCollapsed": true
   },
   "source": [
    "## Sample 2"
   ]
  },
  {
   "cell_type": "code",
   "execution_count": null,
   "metadata": {},
   "outputs": [],
   "source": [
    "# Example data\n",
    "tickles = [\"AAPL\", \"MSFT\", \"TSLA\"]\n",
    "prices = [130.36, 270.17, 722.25]\n",
    "\n",
    "# Create a DataFrame\n",
    "df = pd.DataFrame({\n",
    "    \"tickle\": tickles,\n",
    "    \"Price\": prices\n",
    "})\n",
    "\n",
    "def get_portfolio_size():\n",
    "    \"\"\"\n",
    "    Prompt user for a portfolio size and convert it to float.\n",
    "    Retries if user does not provide a valid number.\n",
    "    \"\"\"\n",
    "    while True:\n",
    "        try:\n",
    "            val = float(input(\"Enter the value of your portfolio: \"))\n",
    "            return val\n",
    "        except ValueError:\n",
    "            print(\"That's not a number! Try again.\\n\")\n",
    "\n",
    "# Get the total portfolio value from the user\n",
    "portfolio_size = get_portfolio_size()\n",
    "\n",
    "# Divide the total portfolio evenly by the number of stocks\n",
    "position_size = portfolio_size / len(df.index)\n",
    "\n",
    "# Calculate the number of whole shares you can buy in each\n",
    "# (i.e., position_size ÷ stock price, rounded down).\n",
    "df[\"Number of Actions\"] = df[\"Price\"].apply(\n",
    "    lambda price: math.floor(position_size / price)\n",
    ")\n",
    "\n",
    "print(df)"
   ]
  },
  {
   "cell_type": "code",
   "execution_count": 2,
   "metadata": {},
   "outputs": [],
   "source": [
    "# Example data\n",
    "tickles = [\"AAPL\", \"MSFT\", \"TSLA\"]\n",
    "prices = [130.36, 270.17, 722.25]\n",
    "\n",
    "# Create a DataFrame\n",
    "df = pd.DataFrame({\n",
    "    \"tickle\": tickles,\n",
    "    \"Price\": prices\n",
    "})\n"
   ]
  },
  {
   "cell_type": "code",
   "execution_count": 3,
   "metadata": {},
   "outputs": [],
   "source": [
    "def get_portfolio_size():\n",
    "    \"\"\"\n",
    "    Prompt user for a portfolio size and convert it to float.\n",
    "    Retries if user does not provide a valid number.\n",
    "    \"\"\"\n",
    "    while True:\n",
    "        try:\n",
    "            val = float(input(\"Enter the value of your portfolio: \"))\n",
    "            return val\n",
    "        except ValueError:\n",
    "            print(\"That's not a number! Try again.\\n\")\n"
   ]
  },
  {
   "cell_type": "code",
   "execution_count": 5,
   "metadata": {},
   "outputs": [
    {
     "name": "stdin",
     "output_type": "stream",
     "text": [
      "Enter the value of your portfolio:  10000\n"
     ]
    }
   ],
   "source": [
    "# Get the total portfolio value from the user\n",
    "portfolio_size = get_portfolio_size()\n",
    "\n",
    "# Divide the total portfolio evenly by the number of stocks\n",
    "position_size = portfolio_size / len(df.index)"
   ]
  },
  {
   "cell_type": "code",
   "execution_count": 6,
   "metadata": {},
   "outputs": [
    {
     "name": "stdout",
     "output_type": "stream",
     "text": [
      "  tickle   Price  Number of Actions\n",
      "0   AAPL  130.36                 25\n",
      "1   MSFT  270.17                 12\n",
      "2   TSLA  722.25                  4\n"
     ]
    }
   ],
   "source": [
    "# Calculate the number of whole shares you can buy in each\n",
    "# (i.e., position_size ÷ stock price, rounded down).\n",
    "df[\"Number of Actions\"] = df[\"Price\"].apply(\n",
    "    lambda price: math.floor(position_size / price)\n",
    ")\n",
    "\n",
    "print(df)"
   ]
  },
  {
   "cell_type": "markdown",
   "metadata": {
    "jp-MarkdownHeadingCollapsed": true
   },
   "source": [
    "## Data Frame combine with the algorithm"
   ]
  },
  {
   "cell_type": "code",
   "execution_count": 7,
   "metadata": {},
   "outputs": [],
   "source": [
    "# ------------------------------------\n",
    "# 1) Define your portfolio tickers\n",
    "# ------------------------------------\n",
    "portfolio_tickers = [\"AAPL\", \"MSFT\", \"TLT\", \"SPY\"]  # Example tickers"
   ]
  },
  {
   "cell_type": "code",
   "execution_count": 8,
   "metadata": {},
   "outputs": [],
   "source": [
    "# ------------------------------------\n",
    "# 2) Signal generation function\n",
    "# ------------------------------------\n",
    "def signal_generator(df):\n",
    "    \"\"\"\n",
    "    Given two consecutive rows (df.iloc[0] and df.iloc[1]),\n",
    "    return:\n",
    "        1 for a Bearish pattern  (Sell),\n",
    "        2 for a Bullish pattern (Buy),\n",
    "        0 otherwise.\n",
    "    \"\"\"\n",
    "    # Extract scalar values (ensure they're floats)\n",
    "    open_price     = float(df.iloc[1][\"Open\"])\n",
    "    close_price    = float(df.iloc[1][\"Close\"])\n",
    "    previous_open  = float(df.iloc[0][\"Open\"])\n",
    "    previous_close = float(df.iloc[0][\"Close\"])\n",
    "\n",
    "    # Bearish Pattern\n",
    "    if (open_price > close_price\n",
    "        and previous_open < previous_close\n",
    "        and close_price < previous_open\n",
    "        and open_price >= previous_close):\n",
    "        return 1  # Bearish (Sell signal)\n",
    "\n",
    "    # Bullish Pattern\n",
    "    elif (open_price < close_price\n",
    "          and previous_open > previous_close\n",
    "          and close_price > previous_open\n",
    "          and open_price <= previous_close):\n",
    "        return 2  # Bullish (Buy signal)\n",
    "\n",
    "    # No clear pattern\n",
    "    else:\n",
    "        return 0\n"
   ]
  },
  {
   "cell_type": "code",
   "execution_count": 9,
   "metadata": {},
   "outputs": [],
   "source": [
    "# 3) Fetch data for a given ticker\n",
    "# ------------------------------------\n",
    "def fetch_data(ticker, start_date, end_date):\n",
    "    print(f\"Fetching data for {ticker}...\")\n",
    "    data = yf.download(ticker, start=start_date, end=end_date)\n",
    "    return data\n"
   ]
  },
  {
   "cell_type": "code",
   "execution_count": 10,
   "metadata": {},
   "outputs": [],
   "source": [
    "# ------------------------------------\n",
    "# 4) Evaluate signals for all tickers\n",
    "# ------------------------------------\n",
    "def evaluate_algorithm(start_date=\"2022-10-07\", end_date=\"2022-12-05\"):\n",
    "    \"\"\"\n",
    "    For each ticker, fetch data and generate signals.\n",
    "    Return a list of dictionaries with:\n",
    "        - \"Ticker\"\n",
    "        - \"Signal Distribution\" (counts)\n",
    "        - \"Latest Close\" (float)\n",
    "    \"\"\"\n",
    "    evaluation_results = []\n",
    "\n",
    "    for ticker in portfolio_tickers:\n",
    "        # Fetch data for the asset\n",
    "        dataF = fetch_data(ticker, start_date, end_date)\n",
    "        if dataF.empty or len(dataF) < 2:\n",
    "            print(f\"Not enough data for {ticker}. Skipping.\")\n",
    "            continue\n",
    "\n",
    "        # Generate signals for all candles\n",
    "        signals = [0]  # First candle cannot have a signal\n",
    "        for i in range(1, len(dataF)):\n",
    "            df_slice = dataF.iloc[i - 1 : i + 1]  # Two rows for signal calculation\n",
    "            signals.append(signal_generator(df_slice))\n",
    "\n",
    "        # Insert signals into the dataframe\n",
    "        dataF[\"Signal\"] = signals\n",
    "\n",
    "        # Analyze signal distribution\n",
    "        signal_counts = dataF[\"Signal\"].value_counts()\n",
    "        print(f\"\\n{ticker} Signal Distribution:\")\n",
    "        print(signal_counts)\n",
    "\n",
    "        # Get the last close for potential \"buy\" calculations\n",
    "        latest_close = dataF[\"Close\"].iloc[-1]\n",
    "\n",
    "        # Save results for the evaluation\n",
    "        evaluation_results.append({\n",
    "            \"Ticker\": ticker,\n",
    "            \"Signal Distribution\": signal_counts.to_dict(),\n",
    "            \"Latest Close\": latest_close\n",
    "        })\n",
    "\n",
    "    return evaluation_results"
   ]
  },
  {
   "cell_type": "code",
   "execution_count": 11,
   "metadata": {},
   "outputs": [],
   "source": [
    "# ------------------------------------\n",
    "# 5) Prompt for portfolio size\n",
    "# ------------------------------------\n",
    "def get_portfolio_size():\n",
    "    \"\"\"\n",
    "    Prompt user for a portfolio size and convert it to float.\n",
    "    Retries if user does not provide a valid number.\n",
    "    \"\"\"\n",
    "    while True:\n",
    "        try:\n",
    "            val = float(input(\"Enter the value of your portfolio: \"))\n",
    "            return val\n",
    "        except ValueError:\n",
    "            print(\"That's not a number! Try again.\\n\")\n"
   ]
  },
  {
   "cell_type": "code",
   "execution_count": 14,
   "metadata": {},
   "outputs": [],
   "source": [
    "# ------------------------------------\n",
    "# 6) MAIN: Run everything and build final DataFrame\n",
    "# ------------------------------------\n",
    "def main():\n",
    "    # Evaluate signals (all tickers)\n",
    "    results = evaluate_algorithm()\n",
    "\n",
    "    # Ask user for the total portfolio size\n",
    "    total_portfolio = get_portfolio_size()\n",
    "\n",
    "    # We'll split the portfolio evenly among all *successfully fetched* tickers\n",
    "    number_of_valid_tickers = len(results)\n",
    "    if number_of_valid_tickers == 0:\n",
    "        print(\"No valid tickers found—nothing to do.\")\n",
    "        return\n",
    "\n",
    "    position_size = total_portfolio / number_of_valid_tickers\n",
    "\n",
    "    # Build a new DataFrame with columns: \"tickle\", \"Price\", \"Number of Actions\"\n",
    "    final_rows = []\n",
    "    for r in results:\n",
    "        ticker       = r[\"Ticker\"]\n",
    "        latest_price = r[\"Latest Close\"]\n",
    "        # Number of shares (round down to nearest whole share)\n",
    "        number_of_shares = math.floor(position_size / latest_price)\n",
    "\n",
    "        final_rows.append({\n",
    "            \"tickle\": ticker,\n",
    "            \"Price\": latest_price,\n",
    "            \"Number of Actions\": number_of_shares\n",
    "        })\n",
    "\n",
    "    final_df = pd.DataFrame(final_rows)\n",
    "    # Optional: remove the index, just to print \"cleanly.\"\n",
    "    final_df.reset_index(drop=True, inplace=True)\n",
    "\n",
    "    print(\"\\nFINAL ALLOCATION DATAFRAME:\")\n",
    "    print(final_df.to_string(index=False))\n"
   ]
  },
  {
   "cell_type": "code",
   "execution_count": 15,
   "metadata": {},
   "outputs": [
    {
     "name": "stderr",
     "output_type": "stream",
     "text": [
      "[*********************100%***********************]  1 of 1 completed\n",
      "/tmp/ipykernel_43124/3006703877.py:13: FutureWarning: Calling float on a single element Series is deprecated and will raise a TypeError in the future. Use float(ser.iloc[0]) instead\n",
      "  open_price     = float(df.iloc[1][\"Open\"])\n",
      "/tmp/ipykernel_43124/3006703877.py:14: FutureWarning: Calling float on a single element Series is deprecated and will raise a TypeError in the future. Use float(ser.iloc[0]) instead\n",
      "  close_price    = float(df.iloc[1][\"Close\"])\n",
      "/tmp/ipykernel_43124/3006703877.py:15: FutureWarning: Calling float on a single element Series is deprecated and will raise a TypeError in the future. Use float(ser.iloc[0]) instead\n",
      "  previous_open  = float(df.iloc[0][\"Open\"])\n",
      "/tmp/ipykernel_43124/3006703877.py:16: FutureWarning: Calling float on a single element Series is deprecated and will raise a TypeError in the future. Use float(ser.iloc[0]) instead\n",
      "  previous_close = float(df.iloc[0][\"Close\"])\n",
      "[*********************100%***********************]  1 of 1 completed"
     ]
    },
    {
     "name": "stdout",
     "output_type": "stream",
     "text": [
      "Fetching data for AAPL...\n",
      "\n",
      "AAPL Signal Distribution:\n",
      "Signal\n",
      "0    37\n",
      "2     2\n",
      "1     1\n",
      "Name: count, dtype: int64\n",
      "Fetching data for MSFT...\n"
     ]
    },
    {
     "name": "stderr",
     "output_type": "stream",
     "text": [
      "\n",
      "/tmp/ipykernel_43124/3006703877.py:13: FutureWarning: Calling float on a single element Series is deprecated and will raise a TypeError in the future. Use float(ser.iloc[0]) instead\n",
      "  open_price     = float(df.iloc[1][\"Open\"])\n",
      "/tmp/ipykernel_43124/3006703877.py:14: FutureWarning: Calling float on a single element Series is deprecated and will raise a TypeError in the future. Use float(ser.iloc[0]) instead\n",
      "  close_price    = float(df.iloc[1][\"Close\"])\n",
      "/tmp/ipykernel_43124/3006703877.py:15: FutureWarning: Calling float on a single element Series is deprecated and will raise a TypeError in the future. Use float(ser.iloc[0]) instead\n",
      "  previous_open  = float(df.iloc[0][\"Open\"])\n",
      "/tmp/ipykernel_43124/3006703877.py:16: FutureWarning: Calling float on a single element Series is deprecated and will raise a TypeError in the future. Use float(ser.iloc[0]) instead\n",
      "  previous_close = float(df.iloc[0][\"Close\"])\n",
      "[*********************100%***********************]  1 of 1 completed\n",
      "/tmp/ipykernel_43124/3006703877.py:13: FutureWarning: Calling float on a single element Series is deprecated and will raise a TypeError in the future. Use float(ser.iloc[0]) instead\n",
      "  open_price     = float(df.iloc[1][\"Open\"])\n",
      "/tmp/ipykernel_43124/3006703877.py:14: FutureWarning: Calling float on a single element Series is deprecated and will raise a TypeError in the future. Use float(ser.iloc[0]) instead\n",
      "  close_price    = float(df.iloc[1][\"Close\"])\n",
      "/tmp/ipykernel_43124/3006703877.py:15: FutureWarning: Calling float on a single element Series is deprecated and will raise a TypeError in the future. Use float(ser.iloc[0]) instead\n",
      "  previous_open  = float(df.iloc[0][\"Open\"])\n",
      "/tmp/ipykernel_43124/3006703877.py:16: FutureWarning: Calling float on a single element Series is deprecated and will raise a TypeError in the future. Use float(ser.iloc[0]) instead\n",
      "  previous_close = float(df.iloc[0][\"Close\"])\n",
      "[*********************100%***********************]  1 of 1 completed\n",
      "/tmp/ipykernel_43124/3006703877.py:13: FutureWarning: Calling float on a single element Series is deprecated and will raise a TypeError in the future. Use float(ser.iloc[0]) instead\n",
      "  open_price     = float(df.iloc[1][\"Open\"])\n",
      "/tmp/ipykernel_43124/3006703877.py:14: FutureWarning: Calling float on a single element Series is deprecated and will raise a TypeError in the future. Use float(ser.iloc[0]) instead\n",
      "  close_price    = float(df.iloc[1][\"Close\"])\n",
      "/tmp/ipykernel_43124/3006703877.py:15: FutureWarning: Calling float on a single element Series is deprecated and will raise a TypeError in the future. Use float(ser.iloc[0]) instead\n",
      "  previous_open  = float(df.iloc[0][\"Open\"])\n",
      "/tmp/ipykernel_43124/3006703877.py:16: FutureWarning: Calling float on a single element Series is deprecated and will raise a TypeError in the future. Use float(ser.iloc[0]) instead\n",
      "  previous_close = float(df.iloc[0][\"Close\"])\n"
     ]
    },
    {
     "name": "stdout",
     "output_type": "stream",
     "text": [
      "\n",
      "MSFT Signal Distribution:\n",
      "Signal\n",
      "0    39\n",
      "2     1\n",
      "Name: count, dtype: int64\n",
      "Fetching data for TLT...\n",
      "\n",
      "TLT Signal Distribution:\n",
      "Signal\n",
      "0    38\n",
      "1     1\n",
      "2     1\n",
      "Name: count, dtype: int64\n",
      "Fetching data for SPY...\n",
      "\n",
      "SPY Signal Distribution:\n",
      "Signal\n",
      "0    36\n",
      "2     3\n",
      "1     1\n",
      "Name: count, dtype: int64\n"
     ]
    },
    {
     "name": "stdin",
     "output_type": "stream",
     "text": [
      "Enter the value of your portfolio:  10000\n"
     ]
    },
    {
     "name": "stdout",
     "output_type": "stream",
     "text": [
      "\n",
      "FINAL ALLOCATION DATAFRAME:\n",
      "tickle                                                                     Price  Number of Actions\n",
      "  AAPL Ticker\n",
      "AAPL    147.809998\n",
      "Name: 2022-12-02 00:00:00+00:00, dtype: float64                 16\n",
      "  MSFT Ticker\n",
      "MSFT    255.020004\n",
      "Name: 2022-12-02 00:00:00+00:00, dtype: float64                  9\n",
      "   TLT  Ticker\n",
      "TLT    107.089996\n",
      "Name: 2022-12-02 00:00:00+00:00, dtype: float64                 23\n",
      "   SPY  Ticker\n",
      "SPY    406.910004\n",
      "Name: 2022-12-02 00:00:00+00:00, dtype: float64                  6\n"
     ]
    },
    {
     "name": "stderr",
     "output_type": "stream",
     "text": [
      "/tmp/ipykernel_43124/569880333.py:25: FutureWarning: Calling float on a single element Series is deprecated and will raise a TypeError in the future. Use float(ser.iloc[0]) instead\n",
      "  number_of_shares = math.floor(position_size / latest_price)\n"
     ]
    }
   ],
   "source": [
    "main()\n"
   ]
  },
  {
   "cell_type": "code",
   "execution_count": null,
   "metadata": {},
   "outputs": [],
   "source": []
  }
 ],
 "metadata": {
  "kernelspec": {
   "display_name": "Python 3 (ipykernel)",
   "language": "python",
   "name": "python3"
  },
  "language_info": {
   "codemirror_mode": {
    "name": "ipython",
    "version": 3
   },
   "file_extension": ".py",
   "mimetype": "text/x-python",
   "name": "python",
   "nbconvert_exporter": "python",
   "pygments_lexer": "ipython3",
   "version": "3.12.5"
  }
 },
 "nbformat": 4,
 "nbformat_minor": 4
}
