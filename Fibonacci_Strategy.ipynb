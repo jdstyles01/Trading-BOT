{
 "cells": [
  {
   "cell_type": "code",
   "execution_count": 5,
   "metadata": {},
   "outputs": [],
   "source": [
    "import pandas as pd\n",
    "import numpy as np\n",
    "import yfinance as yf\n",
    "import matplotlib.pyplot as plt\n",
    "from datetime import datetime\n"
   ]
  },
  {
   "cell_type": "code",
   "execution_count": 6,
   "metadata": {},
   "outputs": [],
   "source": [
    "# ------------------------------------\n",
    "# 1) Define your portfolio tickers\n",
    "# ------------------------------------\n",
    "\n",
    "# Define your portfolio tickers\n",
    "portfolio_ticker = [\n",
    "    \"AAPL\", \"JPM\", \"NFLX\", \"CSCO\", \"GE\", \"DHR\", \"ANET\", \"UNP\", \"FI\", \"VRTX\",\n",
    "    \"NVDA\", \"LLY\", \"BAC\", \"MS\", \"AMD\", \"INTU\", \"C\", \"UBER\", \"MU\", \"MRVL\",\n",
    "    \"MSFT\", \"V\", \"JNJ\", \"NOW\", \"ABT\", \"PLTR\", \"PFE\", \"CMCSA\", \"LMT\", \"SBUX\",\n",
    "    \"GOOG\", \"XOM\", \"CRM\", \"AXP\", \"GS\", \"VZ\", \"LOW\", \"KKR\", \"PANW\", \"MMC\",\n",
    "    \"AMZN\", \"MA\", \"ABBV\", \"BX\", \"DIS\", \"BKNG\", \"AMGN\", \"SCHW\", \"APP\", \"NKE\",\n",
    "    \"META\", \"UNH\", \"CVX\", \"TMO\", \"PM\", \"RTX\", \"SYK\", \"TJX\", \"GILD\", \"PLD\",\n",
    "    \"TSLA\", \"ORCL\", \"KO\", \"ISRG\", \"ADBE\", \"T\", \"NEE\", \"COP\", \"BMY\", \"LRCX\",\n",
    "    \"AVGO\", \"COST\", \"WFC\", \"IBM\", \"CAT\", \"AMAT\", \"BSX\", \"BA\", \"UPS\", \"KLAC\",\n",
    "    \"BRK-B\", \"HD\", \"TMUS\", \"PEP\", \"QCOM\", \"SPGI\", \"HON\", \"DE\", \"GEV\", \"CHTR\",\n",
    "    \"WMT\", \"PG\", \"MRK\", \"MCD\", \"TXN\", \"BLK\", \"PGR\", \"ADP\", \"ADI\", \"CEG\"\n",
    "]\n"
   ]
  },
  {
   "cell_type": "code",
   "execution_count": 9,
   "metadata": {},
   "outputs": [],
   "source": [
    "# ------------------------------------\n",
    "# 3) Fetch data from yfinance\n",
    "# ------------------------------------\n",
    "def fetch_data(ticker, interval, period):\n",
    "    \"\"\"\n",
    "    Fetch historical stock data for a given ticker using Yahoo Finance.\n",
    "    \"\"\"\n",
    "    try:\n",
    "        stock = yf.Ticker(ticker)\n",
    "        print(f\"📥 Fetching historical data for {ticker}...\")\n",
    "        data = stock.history(interval=interval, period=period)  \n",
    "\n",
    "        if data.empty:\n",
    "            print(f\"⚠️ No data found for {ticker}.\")\n",
    "            return None\n",
    "        return data\n",
    "\n",
    "    except Exception as e:\n",
    "        print(f\"❌ Could not fetch data for {ticker}: {e}\")\n",
    "        return None\n"
   ]
  },
  {
   "cell_type": "code",
   "execution_count": 1,
   "metadata": {},
   "outputs": [],
   "source": [
    "def fractal_pivots(df, n=2):\n",
    "    df[\"PivotHigh\"] = np.nan\n",
    "    df[\"PivotLow\"] = np.nan\n",
    "    for i in range(n, len(df) - n):\n",
    "        high_window = df[\"High\"].iloc[i - n: i + n + 1]\n",
    "        low_window = df[\"Low\"].iloc[i - n: i + n + 1]\n",
    "        if df[\"High\"].iloc[i] == high_window.max():\n",
    "            df.at[df.index[i], \"PivotHigh\"] = df[\"High\"].iloc[i]\n",
    "        if df[\"Low\"].iloc[i] == low_window.min():\n",
    "            df.at[df.index[i], \"PivotLow\"] = df[\"Low\"].iloc[i]\n",
    "    return df\n"
   ]
  },
  {
   "cell_type": "code",
   "execution_count": null,
   "metadata": {},
   "outputs": [],
   "source": [
    "def zigzag_indicator(df, zigzag_threshold=0.05):\n",
    "    df[\"ZigZag\"] = np.nan\n",
    "    last_pivot = None  \n",
    "    direction = None  \n",
    "\n",
    "    for i in range(len(df)):\n",
    "        if not pd.isna(df[\"PivotHigh\"].iloc[i]) or not pd.isna(df[\"PivotLow\"].iloc[i]):\n",
    "            current_price = float(df[\"Close\"].iloc[i])\n",
    "            if last_pivot is None:\n",
    "                last_pivot = current_price\n",
    "                df.at[df.index[i], \"ZigZag\"] = current_price\n",
    "            else:\n",
    "                change = (float(current_price) - float(last_pivot)) / float(last_pivot)\n",
    "\n",
    "                if direction is None:\n",
    "                    if abs(change) >= zigzag_threshold:\n",
    "                        direction = \"up\" if change > 0 else \"down\"\n",
    "                        last_pivot = current_price\n",
    "                        df.at[df.index[i], \"ZigZag\"] = current_price\n",
    "                else:\n",
    "                    if direction == \"up\" and current_price < last_pivot * (1 - zigzag_threshold):\n",
    "                        direction = \"down\"\n",
    "                        last_pivot = current_price\n",
    "                        df.at[df.index[i], \"ZigZag\"] = current_price\n",
    "                    elif direction == \"down\" and current_price > last_pivot * (1 + zigzag_threshold):\n",
    "                        direction = \"up\"\n",
    "                        last_pivot = current_price\n",
    "                        df.at[df.index[i], \"ZigZag\"] = current_price\n",
    "\n",
    "    return df\n"
   ]
  },
  {
   "cell_type": "code",
   "execution_count": 3,
   "metadata": {},
   "outputs": [],
   "source": [
    "def fib_levels(high, low):\n",
    "    if pd.isna(high) or pd.isna(low):\n",
    "        return pd.Series([np.nan] * 5, index=[\"Fib_0.236\", \"Fib_0.382\", \"Fib_0.500\", \"Fib_0.618\", \"Fib_0.786\"])\n",
    "    diff = high - low\n",
    "    return pd.Series({\n",
    "        \"Fib_0.236\": high - 0.236 * diff,\n",
    "        \"Fib_0.382\": high - 0.382 * diff,\n",
    "        \"Fib_0.500\": high - 0.500 * diff,\n",
    "        \"Fib_0.618\": high - 0.618 * diff,\n",
    "        \"Fib_0.786\": high - 0.786 * diff,\n",
    "    })\n"
   ]
  },
  {
   "cell_type": "code",
   "execution_count": 4,
   "metadata": {},
   "outputs": [],
   "source": [
    "def evaluate_algorithm(interval='60m', period=\"1mo\"):\n",
    "    failed_tickers = []\n",
    "    price_data = {}\n",
    "\n",
    "    for ticker in portfolio_ticker:\n",
    "        dataF = fetch_data(ticker, interval, period)\n",
    "\n",
    "        # ✅ Check for missing data\n",
    "        if dataF is None or dataF.empty or len(dataF) < 2:\n",
    "            print(f\"⚠️ Not enough data for {ticker}. Skipping.\")\n",
    "            failed_tickers.append(ticker)\n",
    "            continue\n",
    "\n",
    "        # ✅ Compute Pivot Points & ZigZag\n",
    "        dataF = fractal_pivots(dataF)\n",
    "        dataF = zigzag_indicator(dataF)\n",
    "\n",
    "        # ✅ Compute Swing High/Low\n",
    "        dataF[\"SwingHigh\"] = dataF[\"ZigZag\"].ffill()\n",
    "        dataF[\"SwingLow\"] = dataF[\"ZigZag\"].bfill()\n",
    "\n",
    "        # ✅ Compute Fibonacci Levels\n",
    "        fib_df = dataF.apply(lambda row: fib_levels(row[\"SwingHigh\"], row[\"SwingLow\"]), axis=1)\n",
    "        dataF = pd.concat([dataF, fib_df], axis=1)\n",
    "\n",
    "        # ✅ Store price data\n",
    "        price_data[ticker] = dataF[[\"Close\", \"Fib_0.382\", \"Fib_0.618\", \"Fib_0.786\"]]\n",
    "\n",
    "    return price_data\n"
   ]
  },
  {
   "cell_type": "code",
   "execution_count": 12,
   "metadata": {},
   "outputs": [],
   "source": [
    "# ------------------------------------\n",
    "# 5) Prompt for portfolio size\n",
    "# ------------------------------------\n",
    "def get_portfolio_size():\n",
    "    \"\"\"\n",
    "    Prompt user for a portfolio size and convert it to float.\n",
    "    Retries if user does not provide a valid number.\n",
    "    \"\"\"\n",
    "    while True:\n",
    "        try:\n",
    "            val = float(input(\"Enter the value of your portfolio: \"))\n",
    "            return val\n",
    "        except ValueError:\n",
    "            print(\"That's not a number! Try again.\\n\")"
   ]
  },
  {
   "cell_type": "code",
   "execution_count": null,
   "metadata": {},
   "outputs": [],
   "source": [
    "# ------------------------------------\n",
    "# 6) Dynamic portfolio alocation following\n",
    "# the long or short signals for every stock \n",
    "# ------------------------------------\n",
    "\n",
    "def calculate_atr(data, window=14):\n",
    "    \"\"\"\n",
    "    Computes the Average True Range (ATR) for volatility-based risk management.\n",
    "    \"\"\"\n",
    "    high_low = data[\"High\"] - data[\"Low\"]\n",
    "    high_close = abs(data[\"High\"] - data[\"Close\"].shift())\n",
    "    low_close = abs(data[\"Low\"] - data[\"Close\"].shift())\n",
    "\n",
    "    true_range = pd.concat([high_low, high_close, low_close], axis=1).max(axis=1)\n",
    "    atr = true_range.rolling(window=window).mean()\n",
    "    \n",
    "    return atr\n",
    "\n"
   ]
  },
  {
   "cell_type": "code",
   "execution_count": null,
   "metadata": {},
   "outputs": [],
   "source": [
    "def track_portfolio_over_time(price_data, initial_capital):\n",
    "    \"\"\"\n",
    "    Simulates portfolio performance with:\n",
    "    - ATR-based stop-loss.\n",
    "    - Fibonacci retracement strategy.\n",
    "    - Dynamic position sizing.\n",
    "    \"\"\"\n",
    "    portfolio_value_data = []\n",
    "    portfolio_composition_data = []\n",
    "\n",
    "    cash_balance = float(initial_capital)\n",
    "    holdings = {ticker: 0 for ticker in price_data.keys()}\n",
    "    buy_prices = {ticker: 0 for ticker in price_data.keys()}  \n",
    "    atr_values = {ticker: calculate_atr(price_data[ticker]) for ticker in price_data.keys()}\n",
    "\n",
    "    all_dates = sorted(set(date for data in price_data.values() for date in data.index))\n",
    "    risk_per_trade = 0.02  # Risk 2% of capital per trade\n",
    "\n",
    "    for date in all_dates:\n",
    "        date = pd.Timestamp(date)\n",
    "        total_value = cash_balance\n",
    "        daily_holdings = {ticker: 0 for ticker in price_data.keys()}\n",
    "\n",
    "        for ticker, data in price_data.items():\n",
    "            if date not in data.index:\n",
    "                continue  # Skip missing data\n",
    "\n",
    "            close_price = float(data.loc[date, \"Close\"])\n",
    "            fib_618 = data.loc[date, \"Fib_0.618\"]\n",
    "            fib_786 = data.loc[date, \"Fib_0.786\"]\n",
    "            fib_382 = data.loc[date, \"Fib_0.382\"]\n",
    "            atr = atr_values[ticker].loc[date] if date in atr_values[ticker].index else None\n",
    "\n",
    "            if atr is None:\n",
    "                continue  # Skip if ATR data is unavailable\n",
    "\n",
    "            stop_loss_level = close_price - (1.5 * atr)\n",
    "            position_size = (cash_balance * risk_per_trade) / (1.5 * atr)  # ATR-based sizing\n",
    "\n",
    "            # ✅ Fibonacci-Based Trading Logic\n",
    "            if holdings[ticker] == 0 and close_price <= fib_618:\n",
    "                shares_to_buy = position_size / close_price\n",
    "                holdings[ticker] += shares_to_buy\n",
    "                buy_prices[ticker] = close_price\n",
    "                cash_balance -= shares_to_buy * close_price\n",
    "                print(f\"✅ Bought {ticker} at {close_price}\")\n",
    "\n",
    "            elif holdings[ticker] > 0:  \n",
    "                if close_price > fib_382 or close_price < stop_loss_level:  # ATR-based stop-loss\n",
    "                    cash_balance += holdings[ticker] * close_price\n",
    "                    holdings[ticker] = 0\n",
    "                    print(f\"❌ Sold {ticker} at {close_price}\")\n",
    "\n",
    "            total_value += holdings[ticker] * close_price\n",
    "            daily_holdings[ticker] = holdings[ticker]\n",
    "\n",
    "        # ✅ Compute Allocation\n",
    "        allocation = {\n",
    "            ticker: (holdings[ticker] * close_price) / total_value \n",
    "            if total_value > 0 else 0\n",
    "            for ticker in holdings\n",
    "        }\n",
    "\n",
    "        # ✅ Store Portfolio Data\n",
    "        portfolio_value_data.append({\"Date\": date, \"Portfolio Value\": total_value, \"Cash Balance\": cash_balance})\n",
    "        portfolio_composition_data.append({\n",
    "            \"Date\": date, **daily_holdings, \n",
    "            **{f\"Alloc_{ticker}\": round(alloc, 4) for ticker, alloc in allocation.items()}\n",
    "        })\n",
    "\n",
    "    # ✅ Convert to DataFrames\n",
    "    portfolio_value_df = pd.DataFrame(portfolio_value_data).set_index(\"Date\")\n",
    "    portfolio_composition_df = pd.DataFrame(portfolio_composition_data).set_index(\"Date\")\n",
    "\n",
    "    return portfolio_value_df, portfolio_composition_df\n"
   ]
  },
  {
   "cell_type": "code",
   "execution_count": null,
   "metadata": {},
   "outputs": [],
   "source": [
    "import requests\n",
    "# Extract free risk rate from the 10-year US Treasury yield\n",
    "def get_risk_free_rate(API_KEY=\"0J2S8H8ZNHTX1MRR\"):\n",
    "    url = f\"https://www.alphavantage.co/query?function=TREASURY_YIELD&interval=daily&maturity=10year&apikey={API_KEY}\"\n",
    "    response = requests.get(url).json()\n",
    "\n",
    "    if \"data\" not in response:\n",
    "        print(\"❌ Error fetching Treasury yield data.\")\n",
    "        return None\n",
    "    \n",
    "    # Extract latest 10-year yield (most recent entry)\n",
    "    latest_yield = float(response[\"data\"][0][\"value\"]) / 100  # Convert percentage to decimal\n",
    "    print(f\"📉 US 10-Year Treasury Yield (Risk-Free Rate): {latest_yield:.4%}\")\n",
    "    \n",
    "    return latest_yield \n",
    "\n",
    "free_risk_rate = get_risk_free_rate()\n",
    "free_risk_rate_daily = free_risk_rate / 252  # Daily risk-free rate"
   ]
  },
  {
   "cell_type": "code",
   "execution_count": null,
   "metadata": {},
   "outputs": [],
   "source": [
    "def compute_performance_metrics(portfolio_df):\n",
    "    \"\"\"\n",
    "    Computes Sharpe Ratio, cumulative returns, and drawdown.\n",
    "    \"\"\"\n",
    "    portfolio_df[\"Daily Return\"] = portfolio_df[\"Portfolio Value\"].pct_change() # Not daily returns, but portfolio value changes every t\n",
    "    portfolio_df[\"Cumulative Return\"] = (1 + portfolio_df[\"Daily Return\"]).cumprod() # Cumulative returns\n",
    "    \n",
    "    # Sharpe Ratio Calculation\n",
    "    excess_daily_return = portfolio_df[\"Daily Return\"] - (free_risk_rate_daily) # Ojo con esto\n",
    "    sharpe_ratio = excess_daily_return.mean() / excess_daily_return.std() * np.sqrt(252) if excess_daily_return.std() != 0 else np.nan # Asumming a daily frecuency of the portfolio\n",
    "\n",
    "    # Maximum Drawdown\n",
    "    cumulative_max = portfolio_df[\"Cumulative Return\"].cummax()\n",
    "    drawdown = portfolio_df[\"Cumulative Return\"] / cumulative_max - 1\n",
    "    max_drawdown = drawdown.min()\n",
    "\n",
    "    print(f\"\\n📊 Performance Metrics:\")\n",
    "    print(f\"🔹 Sharpe Ratio: {sharpe_ratio:.2f}\")\n",
    "    print(f\"🔹 Max Drawdown: {max_drawdown:.2%}\")\n",
    "\n",
    "    return sharpe_ratio, max_drawdown\n"
   ]
  },
  {
   "cell_type": "code",
   "execution_count": null,
   "metadata": {},
   "outputs": [],
   "source": [
    "import matplotlib.pyplot as plt\n",
    "\n",
    "def plot_portfolio_allocation(portfolio_composition_df):\n",
    "    \"\"\"\n",
    "    Plots the evolution of portfolio allocation over time.\n",
    "    \"\"\"\n",
    "    allocation_cols = [col for col in portfolio_composition_df.columns if col.startswith(\"Alloc_\")]\n",
    "    portfolio_composition_df[allocation_cols].plot(figsize=(12, 6), title=\"Portfolio Allocation Over Time\", stacked=True)\n",
    "    plt.ylabel(\"Percentage Allocation\")\n",
    "    plt.xlabel(\"Date\")\n",
    "    plt.legend(loc=\"upper left\", bbox_to_anchor=(1, 1))\n",
    "    plt.show()\n"
   ]
  },
  {
   "cell_type": "code",
   "execution_count": null,
   "metadata": {},
   "outputs": [],
   "source": [
    "def main():\n",
    "    # Fetch signals and price data\n",
    "    price_data = evaluate_algorithm()\n",
    "\n",
    "    # Ask user for initial capital\n",
    "    initial_capital = get_portfolio_size()\n",
    "\n",
    "    # Run portfolio tracking with ATR risk management\n",
    "    portfolio_value_df, portfolio_composition_df = track_portfolio_over_time(price_data, initial_capital)\n",
    "\n",
    "    # Compute Performance Metrics\n",
    "    sharpe_ratio, max_drawdown = compute_performance_metrics(portfolio_value_df)\n",
    "\n",
    "    # Plot Portfolio Allocation Over Time\n",
    "    plot_portfolio_allocation(portfolio_composition_df)\n",
    "\n",
    "    # Plot Portfolio Value Over Time\n",
    "    portfolio_value_df[\"Portfolio Value\"].plot(figsize=(12, 6), title=\"Portfolio Value Over Time\")\n",
    "    plt.ylabel(\"Portfolio Value ($)\")\n",
    "    plt.xlabel(\"Date\")\n",
    "    plt.show()\n",
    "\n",
    "    # Plot Cumulative Returns\n",
    "    portfolio_value_df[\"Cumulative Return\"].plot(figsize=(12, 6), title=\"Cumulative Returns Over Time\")\n",
    "    plt.ylabel(\"Cumulative Returns\")\n",
    "    plt.xlabel(\"Date\")\n",
    "    plt.show()\n",
    "\n",
    "    # Plot every t return\n",
    "    portfolio_value_df[\"Daily Return\"].plot(figsize=(12, 6), title=\"Daily Returns Over Time\")   \n",
    "    plt.ylabel(\"Every t Return\")\n",
    "    plt.xlabel(\"Date\")\n",
    "    plt.show()\n",
    "\n",
    "    # ✅ Return DataFrames\n",
    "    return portfolio_value_df, portfolio_composition_df\n",
    "\n",
    "# Run the script\n",
    "portfolio_value_df, portfolio_composition_df = main()\n"
   ]
  },
  {
   "cell_type": "code",
   "execution_count": 16,
   "metadata": {},
   "outputs": [
    {
     "name": "stdout",
     "output_type": "stream",
     "text": [
      "📥 Fetching historical data for AAPL...\n"
     ]
    },
    {
     "name": "stderr",
     "output_type": "stream",
     "text": [
      "$AAPL: possibly delisted; no price data found  (period=1mo)\n"
     ]
    },
    {
     "name": "stdout",
     "output_type": "stream",
     "text": [
      "⚠️ No data found for AAPL.\n",
      "⚠️ Not enough data for AAPL. Skipping.\n",
      "📥 Fetching historical data for JPM...\n"
     ]
    },
    {
     "name": "stderr",
     "output_type": "stream",
     "text": [
      "$JPM: possibly delisted; no price data found  (period=1mo)\n"
     ]
    },
    {
     "name": "stdout",
     "output_type": "stream",
     "text": [
      "⚠️ No data found for JPM.\n",
      "⚠️ Not enough data for JPM. Skipping.\n",
      "📥 Fetching historical data for NFLX...\n"
     ]
    },
    {
     "name": "stderr",
     "output_type": "stream",
     "text": [
      "$NFLX: possibly delisted; no price data found  (period=1mo)\n"
     ]
    },
    {
     "name": "stdout",
     "output_type": "stream",
     "text": [
      "⚠️ No data found for NFLX.\n",
      "⚠️ Not enough data for NFLX. Skipping.\n",
      "📥 Fetching historical data for CSCO...\n"
     ]
    },
    {
     "name": "stderr",
     "output_type": "stream",
     "text": [
      "$CSCO: possibly delisted; no price data found  (period=1mo)\n"
     ]
    },
    {
     "name": "stdout",
     "output_type": "stream",
     "text": [
      "⚠️ No data found for CSCO.\n",
      "⚠️ Not enough data for CSCO. Skipping.\n",
      "📥 Fetching historical data for GE...\n"
     ]
    },
    {
     "name": "stderr",
     "output_type": "stream",
     "text": [
      "$GE: possibly delisted; no price data found  (period=1mo)\n"
     ]
    },
    {
     "name": "stdout",
     "output_type": "stream",
     "text": [
      "⚠️ No data found for GE.\n",
      "⚠️ Not enough data for GE. Skipping.\n",
      "📥 Fetching historical data for DHR...\n"
     ]
    },
    {
     "name": "stderr",
     "output_type": "stream",
     "text": [
      "$DHR: possibly delisted; no price data found  (period=1mo)\n"
     ]
    },
    {
     "name": "stdout",
     "output_type": "stream",
     "text": [
      "⚠️ No data found for DHR.\n",
      "⚠️ Not enough data for DHR. Skipping.\n",
      "📥 Fetching historical data for ANET...\n"
     ]
    },
    {
     "name": "stderr",
     "output_type": "stream",
     "text": [
      "$ANET: possibly delisted; no price data found  (period=1mo)\n"
     ]
    },
    {
     "name": "stdout",
     "output_type": "stream",
     "text": [
      "⚠️ No data found for ANET.\n",
      "⚠️ Not enough data for ANET. Skipping.\n",
      "📥 Fetching historical data for UNP...\n"
     ]
    },
    {
     "name": "stderr",
     "output_type": "stream",
     "text": [
      "$UNP: possibly delisted; no price data found  (period=1mo)\n"
     ]
    },
    {
     "name": "stdout",
     "output_type": "stream",
     "text": [
      "⚠️ No data found for UNP.\n",
      "⚠️ Not enough data for UNP. Skipping.\n",
      "📥 Fetching historical data for FI...\n"
     ]
    },
    {
     "name": "stderr",
     "output_type": "stream",
     "text": [
      "$FI: possibly delisted; no price data found  (period=1mo)\n"
     ]
    },
    {
     "name": "stdout",
     "output_type": "stream",
     "text": [
      "⚠️ No data found for FI.\n",
      "⚠️ Not enough data for FI. Skipping.\n",
      "📥 Fetching historical data for VRTX...\n"
     ]
    },
    {
     "name": "stderr",
     "output_type": "stream",
     "text": [
      "$VRTX: possibly delisted; no price data found  (period=1mo)\n"
     ]
    },
    {
     "name": "stdout",
     "output_type": "stream",
     "text": [
      "⚠️ No data found for VRTX.\n",
      "⚠️ Not enough data for VRTX. Skipping.\n",
      "📥 Fetching historical data for NVDA...\n"
     ]
    },
    {
     "name": "stderr",
     "output_type": "stream",
     "text": [
      "$NVDA: possibly delisted; no price data found  (period=1mo)\n"
     ]
    },
    {
     "name": "stdout",
     "output_type": "stream",
     "text": [
      "⚠️ No data found for NVDA.\n",
      "⚠️ Not enough data for NVDA. Skipping.\n",
      "📥 Fetching historical data for LLY...\n"
     ]
    },
    {
     "name": "stderr",
     "output_type": "stream",
     "text": [
      "$LLY: possibly delisted; no price data found  (period=1mo)\n"
     ]
    },
    {
     "name": "stdout",
     "output_type": "stream",
     "text": [
      "⚠️ No data found for LLY.\n",
      "⚠️ Not enough data for LLY. Skipping.\n",
      "📥 Fetching historical data for BAC...\n"
     ]
    },
    {
     "name": "stderr",
     "output_type": "stream",
     "text": [
      "$BAC: possibly delisted; no price data found  (period=1mo)\n"
     ]
    },
    {
     "name": "stdout",
     "output_type": "stream",
     "text": [
      "⚠️ No data found for BAC.\n",
      "⚠️ Not enough data for BAC. Skipping.\n",
      "📥 Fetching historical data for MS...\n"
     ]
    },
    {
     "name": "stderr",
     "output_type": "stream",
     "text": [
      "$MS: possibly delisted; no price data found  (period=1mo)\n"
     ]
    },
    {
     "name": "stdout",
     "output_type": "stream",
     "text": [
      "⚠️ No data found for MS.\n",
      "⚠️ Not enough data for MS. Skipping.\n",
      "📥 Fetching historical data for AMD...\n"
     ]
    },
    {
     "name": "stderr",
     "output_type": "stream",
     "text": [
      "$AMD: possibly delisted; no price data found  (period=1mo)\n"
     ]
    },
    {
     "name": "stdout",
     "output_type": "stream",
     "text": [
      "⚠️ No data found for AMD.\n",
      "⚠️ Not enough data for AMD. Skipping.\n",
      "📥 Fetching historical data for INTU...\n"
     ]
    },
    {
     "name": "stderr",
     "output_type": "stream",
     "text": [
      "$INTU: possibly delisted; no price data found  (period=1mo)\n"
     ]
    },
    {
     "name": "stdout",
     "output_type": "stream",
     "text": [
      "⚠️ No data found for INTU.\n",
      "⚠️ Not enough data for INTU. Skipping.\n",
      "📥 Fetching historical data for C...\n"
     ]
    },
    {
     "name": "stderr",
     "output_type": "stream",
     "text": [
      "$C: possibly delisted; no price data found  (period=1mo)\n"
     ]
    },
    {
     "name": "stdout",
     "output_type": "stream",
     "text": [
      "⚠️ No data found for C.\n",
      "⚠️ Not enough data for C. Skipping.\n",
      "📥 Fetching historical data for UBER...\n"
     ]
    },
    {
     "name": "stderr",
     "output_type": "stream",
     "text": [
      "$UBER: possibly delisted; no price data found  (period=1mo)\n"
     ]
    },
    {
     "name": "stdout",
     "output_type": "stream",
     "text": [
      "⚠️ No data found for UBER.\n",
      "⚠️ Not enough data for UBER. Skipping.\n",
      "📥 Fetching historical data for MU...\n"
     ]
    },
    {
     "name": "stderr",
     "output_type": "stream",
     "text": [
      "$MU: possibly delisted; no price data found  (period=1mo)\n"
     ]
    },
    {
     "name": "stdout",
     "output_type": "stream",
     "text": [
      "⚠️ No data found for MU.\n",
      "⚠️ Not enough data for MU. Skipping.\n",
      "📥 Fetching historical data for MRVL...\n"
     ]
    },
    {
     "name": "stderr",
     "output_type": "stream",
     "text": [
      "$MRVL: possibly delisted; no price data found  (period=1mo)\n"
     ]
    },
    {
     "name": "stdout",
     "output_type": "stream",
     "text": [
      "⚠️ No data found for MRVL.\n",
      "⚠️ Not enough data for MRVL. Skipping.\n",
      "📥 Fetching historical data for MSFT...\n"
     ]
    },
    {
     "name": "stderr",
     "output_type": "stream",
     "text": [
      "$MSFT: possibly delisted; no price data found  (period=1mo)\n"
     ]
    },
    {
     "name": "stdout",
     "output_type": "stream",
     "text": [
      "⚠️ No data found for MSFT.\n",
      "⚠️ Not enough data for MSFT. Skipping.\n",
      "📥 Fetching historical data for V...\n"
     ]
    },
    {
     "name": "stderr",
     "output_type": "stream",
     "text": [
      "$V: possibly delisted; no price data found  (period=1mo)\n"
     ]
    },
    {
     "name": "stdout",
     "output_type": "stream",
     "text": [
      "⚠️ No data found for V.\n",
      "⚠️ Not enough data for V. Skipping.\n",
      "📥 Fetching historical data for JNJ...\n"
     ]
    },
    {
     "name": "stderr",
     "output_type": "stream",
     "text": [
      "$JNJ: possibly delisted; no price data found  (period=1mo)\n"
     ]
    },
    {
     "name": "stdout",
     "output_type": "stream",
     "text": [
      "⚠️ No data found for JNJ.\n",
      "⚠️ Not enough data for JNJ. Skipping.\n",
      "📥 Fetching historical data for NOW...\n"
     ]
    },
    {
     "name": "stderr",
     "output_type": "stream",
     "text": [
      "$NOW: possibly delisted; no price data found  (period=1mo)\n"
     ]
    },
    {
     "name": "stdout",
     "output_type": "stream",
     "text": [
      "⚠️ No data found for NOW.\n",
      "⚠️ Not enough data for NOW. Skipping.\n",
      "📥 Fetching historical data for ABT...\n"
     ]
    },
    {
     "name": "stderr",
     "output_type": "stream",
     "text": [
      "$ABT: possibly delisted; no price data found  (period=1mo)\n"
     ]
    },
    {
     "name": "stdout",
     "output_type": "stream",
     "text": [
      "⚠️ No data found for ABT.\n",
      "⚠️ Not enough data for ABT. Skipping.\n",
      "📥 Fetching historical data for PLTR...\n"
     ]
    },
    {
     "name": "stderr",
     "output_type": "stream",
     "text": [
      "$PLTR: possibly delisted; no price data found  (period=1mo)\n"
     ]
    },
    {
     "name": "stdout",
     "output_type": "stream",
     "text": [
      "⚠️ No data found for PLTR.\n",
      "⚠️ Not enough data for PLTR. Skipping.\n",
      "📥 Fetching historical data for PFE...\n"
     ]
    },
    {
     "name": "stderr",
     "output_type": "stream",
     "text": [
      "$PFE: possibly delisted; no price data found  (period=1mo)\n"
     ]
    },
    {
     "name": "stdout",
     "output_type": "stream",
     "text": [
      "⚠️ No data found for PFE.\n",
      "⚠️ Not enough data for PFE. Skipping.\n",
      "📥 Fetching historical data for CMCSA...\n"
     ]
    },
    {
     "name": "stderr",
     "output_type": "stream",
     "text": [
      "$CMCSA: possibly delisted; no price data found  (period=1mo)\n"
     ]
    },
    {
     "name": "stdout",
     "output_type": "stream",
     "text": [
      "⚠️ No data found for CMCSA.\n",
      "⚠️ Not enough data for CMCSA. Skipping.\n",
      "📥 Fetching historical data for LMT...\n"
     ]
    },
    {
     "name": "stderr",
     "output_type": "stream",
     "text": [
      "$LMT: possibly delisted; no price data found  (period=1mo)\n"
     ]
    },
    {
     "name": "stdout",
     "output_type": "stream",
     "text": [
      "⚠️ No data found for LMT.\n",
      "⚠️ Not enough data for LMT. Skipping.\n",
      "📥 Fetching historical data for SBUX...\n"
     ]
    },
    {
     "name": "stderr",
     "output_type": "stream",
     "text": [
      "$SBUX: possibly delisted; no price data found  (period=1mo)\n"
     ]
    },
    {
     "name": "stdout",
     "output_type": "stream",
     "text": [
      "⚠️ No data found for SBUX.\n",
      "⚠️ Not enough data for SBUX. Skipping.\n",
      "📥 Fetching historical data for GOOG...\n"
     ]
    },
    {
     "name": "stderr",
     "output_type": "stream",
     "text": [
      "$GOOG: possibly delisted; no price data found  (period=1mo)\n"
     ]
    },
    {
     "name": "stdout",
     "output_type": "stream",
     "text": [
      "⚠️ No data found for GOOG.\n",
      "⚠️ Not enough data for GOOG. Skipping.\n",
      "📥 Fetching historical data for XOM...\n"
     ]
    },
    {
     "name": "stderr",
     "output_type": "stream",
     "text": [
      "$XOM: possibly delisted; no price data found  (period=1mo)\n"
     ]
    },
    {
     "name": "stdout",
     "output_type": "stream",
     "text": [
      "⚠️ No data found for XOM.\n",
      "⚠️ Not enough data for XOM. Skipping.\n",
      "📥 Fetching historical data for CRM...\n"
     ]
    },
    {
     "name": "stderr",
     "output_type": "stream",
     "text": [
      "$CRM: possibly delisted; no price data found  (period=1mo)\n"
     ]
    },
    {
     "name": "stdout",
     "output_type": "stream",
     "text": [
      "⚠️ No data found for CRM.\n",
      "⚠️ Not enough data for CRM. Skipping.\n",
      "📥 Fetching historical data for AXP...\n"
     ]
    },
    {
     "name": "stderr",
     "output_type": "stream",
     "text": [
      "$AXP: possibly delisted; no price data found  (period=1mo)\n"
     ]
    },
    {
     "name": "stdout",
     "output_type": "stream",
     "text": [
      "⚠️ No data found for AXP.\n",
      "⚠️ Not enough data for AXP. Skipping.\n",
      "📥 Fetching historical data for GS...\n"
     ]
    },
    {
     "name": "stderr",
     "output_type": "stream",
     "text": [
      "$GS: possibly delisted; no price data found  (period=1mo)\n"
     ]
    },
    {
     "name": "stdout",
     "output_type": "stream",
     "text": [
      "⚠️ No data found for GS.\n",
      "⚠️ Not enough data for GS. Skipping.\n",
      "📥 Fetching historical data for VZ...\n"
     ]
    },
    {
     "name": "stderr",
     "output_type": "stream",
     "text": [
      "$VZ: possibly delisted; no price data found  (period=1mo)\n"
     ]
    },
    {
     "name": "stdout",
     "output_type": "stream",
     "text": [
      "⚠️ No data found for VZ.\n",
      "⚠️ Not enough data for VZ. Skipping.\n",
      "📥 Fetching historical data for LOW...\n"
     ]
    },
    {
     "name": "stderr",
     "output_type": "stream",
     "text": [
      "$LOW: possibly delisted; no price data found  (period=1mo)\n"
     ]
    },
    {
     "name": "stdout",
     "output_type": "stream",
     "text": [
      "⚠️ No data found for LOW.\n",
      "⚠️ Not enough data for LOW. Skipping.\n",
      "📥 Fetching historical data for KKR...\n"
     ]
    },
    {
     "name": "stderr",
     "output_type": "stream",
     "text": [
      "$KKR: possibly delisted; no price data found  (period=1mo)\n"
     ]
    },
    {
     "name": "stdout",
     "output_type": "stream",
     "text": [
      "⚠️ No data found for KKR.\n",
      "⚠️ Not enough data for KKR. Skipping.\n",
      "📥 Fetching historical data for PANW...\n"
     ]
    },
    {
     "name": "stderr",
     "output_type": "stream",
     "text": [
      "$PANW: possibly delisted; no price data found  (period=1mo)\n"
     ]
    },
    {
     "name": "stdout",
     "output_type": "stream",
     "text": [
      "⚠️ No data found for PANW.\n",
      "⚠️ Not enough data for PANW. Skipping.\n",
      "📥 Fetching historical data for MMC...\n"
     ]
    },
    {
     "name": "stderr",
     "output_type": "stream",
     "text": [
      "$MMC: possibly delisted; no price data found  (period=1mo)\n"
     ]
    },
    {
     "name": "stdout",
     "output_type": "stream",
     "text": [
      "⚠️ No data found for MMC.\n",
      "⚠️ Not enough data for MMC. Skipping.\n",
      "📥 Fetching historical data for AMZN...\n"
     ]
    },
    {
     "name": "stderr",
     "output_type": "stream",
     "text": [
      "$AMZN: possibly delisted; no price data found  (period=1mo)\n"
     ]
    },
    {
     "name": "stdout",
     "output_type": "stream",
     "text": [
      "⚠️ No data found for AMZN.\n",
      "⚠️ Not enough data for AMZN. Skipping.\n",
      "📥 Fetching historical data for MA...\n"
     ]
    },
    {
     "name": "stderr",
     "output_type": "stream",
     "text": [
      "$MA: possibly delisted; no price data found  (period=1mo)\n"
     ]
    },
    {
     "name": "stdout",
     "output_type": "stream",
     "text": [
      "⚠️ No data found for MA.\n",
      "⚠️ Not enough data for MA. Skipping.\n",
      "📥 Fetching historical data for ABBV...\n"
     ]
    },
    {
     "name": "stderr",
     "output_type": "stream",
     "text": [
      "$ABBV: possibly delisted; no price data found  (period=1mo)\n"
     ]
    },
    {
     "name": "stdout",
     "output_type": "stream",
     "text": [
      "⚠️ No data found for ABBV.\n",
      "⚠️ Not enough data for ABBV. Skipping.\n",
      "📥 Fetching historical data for BX...\n"
     ]
    },
    {
     "name": "stderr",
     "output_type": "stream",
     "text": [
      "$BX: possibly delisted; no price data found  (period=1mo)\n"
     ]
    },
    {
     "name": "stdout",
     "output_type": "stream",
     "text": [
      "⚠️ No data found for BX.\n",
      "⚠️ Not enough data for BX. Skipping.\n",
      "📥 Fetching historical data for DIS...\n"
     ]
    },
    {
     "name": "stderr",
     "output_type": "stream",
     "text": [
      "$DIS: possibly delisted; no price data found  (period=1mo)\n"
     ]
    },
    {
     "name": "stdout",
     "output_type": "stream",
     "text": [
      "⚠️ No data found for DIS.\n",
      "⚠️ Not enough data for DIS. Skipping.\n",
      "📥 Fetching historical data for BKNG...\n"
     ]
    },
    {
     "name": "stderr",
     "output_type": "stream",
     "text": [
      "$BKNG: possibly delisted; no price data found  (period=1mo)\n"
     ]
    },
    {
     "name": "stdout",
     "output_type": "stream",
     "text": [
      "⚠️ No data found for BKNG.\n",
      "⚠️ Not enough data for BKNG. Skipping.\n",
      "📥 Fetching historical data for AMGN...\n"
     ]
    },
    {
     "name": "stderr",
     "output_type": "stream",
     "text": [
      "$AMGN: possibly delisted; no price data found  (period=1mo)\n"
     ]
    },
    {
     "name": "stdout",
     "output_type": "stream",
     "text": [
      "⚠️ No data found for AMGN.\n",
      "⚠️ Not enough data for AMGN. Skipping.\n",
      "📥 Fetching historical data for SCHW...\n"
     ]
    },
    {
     "name": "stderr",
     "output_type": "stream",
     "text": [
      "$SCHW: possibly delisted; no price data found  (period=1mo)\n"
     ]
    },
    {
     "name": "stdout",
     "output_type": "stream",
     "text": [
      "⚠️ No data found for SCHW.\n",
      "⚠️ Not enough data for SCHW. Skipping.\n",
      "📥 Fetching historical data for APP...\n"
     ]
    },
    {
     "name": "stderr",
     "output_type": "stream",
     "text": [
      "$APP: possibly delisted; no price data found  (period=1mo)\n"
     ]
    },
    {
     "name": "stdout",
     "output_type": "stream",
     "text": [
      "⚠️ No data found for APP.\n",
      "⚠️ Not enough data for APP. Skipping.\n",
      "📥 Fetching historical data for NKE...\n"
     ]
    },
    {
     "name": "stderr",
     "output_type": "stream",
     "text": [
      "$NKE: possibly delisted; no price data found  (period=1mo)\n"
     ]
    },
    {
     "name": "stdout",
     "output_type": "stream",
     "text": [
      "⚠️ No data found for NKE.\n",
      "⚠️ Not enough data for NKE. Skipping.\n",
      "📥 Fetching historical data for META...\n"
     ]
    },
    {
     "name": "stderr",
     "output_type": "stream",
     "text": [
      "$META: possibly delisted; no price data found  (period=1mo)\n"
     ]
    },
    {
     "name": "stdout",
     "output_type": "stream",
     "text": [
      "⚠️ No data found for META.\n",
      "⚠️ Not enough data for META. Skipping.\n",
      "📥 Fetching historical data for UNH...\n"
     ]
    },
    {
     "name": "stderr",
     "output_type": "stream",
     "text": [
      "$UNH: possibly delisted; no price data found  (period=1mo)\n"
     ]
    },
    {
     "name": "stdout",
     "output_type": "stream",
     "text": [
      "⚠️ No data found for UNH.\n",
      "⚠️ Not enough data for UNH. Skipping.\n",
      "📥 Fetching historical data for CVX...\n"
     ]
    },
    {
     "name": "stderr",
     "output_type": "stream",
     "text": [
      "$CVX: possibly delisted; no price data found  (period=1mo)\n"
     ]
    },
    {
     "name": "stdout",
     "output_type": "stream",
     "text": [
      "⚠️ No data found for CVX.\n",
      "⚠️ Not enough data for CVX. Skipping.\n",
      "📥 Fetching historical data for TMO...\n"
     ]
    },
    {
     "name": "stderr",
     "output_type": "stream",
     "text": [
      "$TMO: possibly delisted; no price data found  (period=1mo)\n"
     ]
    },
    {
     "name": "stdout",
     "output_type": "stream",
     "text": [
      "⚠️ No data found for TMO.\n",
      "⚠️ Not enough data for TMO. Skipping.\n",
      "📥 Fetching historical data for PM...\n"
     ]
    },
    {
     "name": "stderr",
     "output_type": "stream",
     "text": [
      "$PM: possibly delisted; no price data found  (period=1mo)\n"
     ]
    },
    {
     "name": "stdout",
     "output_type": "stream",
     "text": [
      "⚠️ No data found for PM.\n",
      "⚠️ Not enough data for PM. Skipping.\n",
      "📥 Fetching historical data for RTX...\n"
     ]
    },
    {
     "name": "stderr",
     "output_type": "stream",
     "text": [
      "$RTX: possibly delisted; no price data found  (period=1mo)\n"
     ]
    },
    {
     "name": "stdout",
     "output_type": "stream",
     "text": [
      "⚠️ No data found for RTX.\n",
      "⚠️ Not enough data for RTX. Skipping.\n",
      "📥 Fetching historical data for SYK...\n"
     ]
    },
    {
     "name": "stderr",
     "output_type": "stream",
     "text": [
      "$SYK: possibly delisted; no price data found  (period=1mo)\n"
     ]
    },
    {
     "name": "stdout",
     "output_type": "stream",
     "text": [
      "⚠️ No data found for SYK.\n",
      "⚠️ Not enough data for SYK. Skipping.\n",
      "📥 Fetching historical data for TJX...\n"
     ]
    },
    {
     "name": "stderr",
     "output_type": "stream",
     "text": [
      "$TJX: possibly delisted; no price data found  (period=1mo)\n"
     ]
    },
    {
     "name": "stdout",
     "output_type": "stream",
     "text": [
      "⚠️ No data found for TJX.\n",
      "⚠️ Not enough data for TJX. Skipping.\n",
      "📥 Fetching historical data for GILD...\n"
     ]
    },
    {
     "name": "stderr",
     "output_type": "stream",
     "text": [
      "$GILD: possibly delisted; no price data found  (period=1mo)\n"
     ]
    },
    {
     "name": "stdout",
     "output_type": "stream",
     "text": [
      "⚠️ No data found for GILD.\n",
      "⚠️ Not enough data for GILD. Skipping.\n",
      "📥 Fetching historical data for PLD...\n"
     ]
    },
    {
     "name": "stderr",
     "output_type": "stream",
     "text": [
      "$PLD: possibly delisted; no price data found  (period=1mo)\n"
     ]
    },
    {
     "name": "stdout",
     "output_type": "stream",
     "text": [
      "⚠️ No data found for PLD.\n",
      "⚠️ Not enough data for PLD. Skipping.\n",
      "📥 Fetching historical data for TSLA...\n"
     ]
    },
    {
     "name": "stderr",
     "output_type": "stream",
     "text": [
      "$TSLA: possibly delisted; no price data found  (period=1mo)\n"
     ]
    },
    {
     "name": "stdout",
     "output_type": "stream",
     "text": [
      "⚠️ No data found for TSLA.\n",
      "⚠️ Not enough data for TSLA. Skipping.\n",
      "📥 Fetching historical data for ORCL...\n"
     ]
    },
    {
     "name": "stderr",
     "output_type": "stream",
     "text": [
      "$ORCL: possibly delisted; no price data found  (period=1mo)\n"
     ]
    },
    {
     "name": "stdout",
     "output_type": "stream",
     "text": [
      "⚠️ No data found for ORCL.\n",
      "⚠️ Not enough data for ORCL. Skipping.\n",
      "📥 Fetching historical data for KO...\n"
     ]
    },
    {
     "name": "stderr",
     "output_type": "stream",
     "text": [
      "$KO: possibly delisted; no price data found  (period=1mo)\n"
     ]
    },
    {
     "name": "stdout",
     "output_type": "stream",
     "text": [
      "⚠️ No data found for KO.\n",
      "⚠️ Not enough data for KO. Skipping.\n",
      "📥 Fetching historical data for ISRG...\n"
     ]
    },
    {
     "name": "stderr",
     "output_type": "stream",
     "text": [
      "$ISRG: possibly delisted; no price data found  (period=1mo)\n"
     ]
    },
    {
     "name": "stdout",
     "output_type": "stream",
     "text": [
      "⚠️ No data found for ISRG.\n",
      "⚠️ Not enough data for ISRG. Skipping.\n",
      "📥 Fetching historical data for ADBE...\n"
     ]
    },
    {
     "name": "stderr",
     "output_type": "stream",
     "text": [
      "$ADBE: possibly delisted; no price data found  (period=1mo)\n"
     ]
    },
    {
     "name": "stdout",
     "output_type": "stream",
     "text": [
      "⚠️ No data found for ADBE.\n",
      "⚠️ Not enough data for ADBE. Skipping.\n",
      "📥 Fetching historical data for T...\n"
     ]
    },
    {
     "name": "stderr",
     "output_type": "stream",
     "text": [
      "$T: possibly delisted; no price data found  (period=1mo)\n"
     ]
    },
    {
     "name": "stdout",
     "output_type": "stream",
     "text": [
      "⚠️ No data found for T.\n",
      "⚠️ Not enough data for T. Skipping.\n",
      "📥 Fetching historical data for NEE...\n"
     ]
    },
    {
     "name": "stderr",
     "output_type": "stream",
     "text": [
      "$NEE: possibly delisted; no price data found  (period=1mo)\n"
     ]
    },
    {
     "name": "stdout",
     "output_type": "stream",
     "text": [
      "⚠️ No data found for NEE.\n",
      "⚠️ Not enough data for NEE. Skipping.\n",
      "📥 Fetching historical data for COP...\n"
     ]
    },
    {
     "name": "stderr",
     "output_type": "stream",
     "text": [
      "$COP: possibly delisted; no price data found  (period=1mo)\n"
     ]
    },
    {
     "name": "stdout",
     "output_type": "stream",
     "text": [
      "⚠️ No data found for COP.\n",
      "⚠️ Not enough data for COP. Skipping.\n",
      "📥 Fetching historical data for BMY...\n"
     ]
    },
    {
     "name": "stderr",
     "output_type": "stream",
     "text": [
      "$BMY: possibly delisted; no price data found  (period=1mo)\n"
     ]
    },
    {
     "name": "stdout",
     "output_type": "stream",
     "text": [
      "⚠️ No data found for BMY.\n",
      "⚠️ Not enough data for BMY. Skipping.\n",
      "📥 Fetching historical data for LRCX...\n"
     ]
    },
    {
     "name": "stderr",
     "output_type": "stream",
     "text": [
      "$LRCX: possibly delisted; no price data found  (period=1mo)\n"
     ]
    },
    {
     "name": "stdout",
     "output_type": "stream",
     "text": [
      "⚠️ No data found for LRCX.\n",
      "⚠️ Not enough data for LRCX. Skipping.\n",
      "📥 Fetching historical data for AVGO...\n"
     ]
    },
    {
     "name": "stderr",
     "output_type": "stream",
     "text": [
      "$AVGO: possibly delisted; no price data found  (period=1mo)\n"
     ]
    },
    {
     "name": "stdout",
     "output_type": "stream",
     "text": [
      "⚠️ No data found for AVGO.\n",
      "⚠️ Not enough data for AVGO. Skipping.\n",
      "📥 Fetching historical data for COST...\n"
     ]
    },
    {
     "name": "stderr",
     "output_type": "stream",
     "text": [
      "$COST: possibly delisted; no price data found  (period=1mo)\n"
     ]
    },
    {
     "name": "stdout",
     "output_type": "stream",
     "text": [
      "⚠️ No data found for COST.\n",
      "⚠️ Not enough data for COST. Skipping.\n",
      "📥 Fetching historical data for WFC...\n"
     ]
    },
    {
     "name": "stderr",
     "output_type": "stream",
     "text": [
      "$WFC: possibly delisted; no price data found  (period=1mo)\n"
     ]
    },
    {
     "name": "stdout",
     "output_type": "stream",
     "text": [
      "⚠️ No data found for WFC.\n",
      "⚠️ Not enough data for WFC. Skipping.\n",
      "📥 Fetching historical data for IBM...\n"
     ]
    },
    {
     "name": "stderr",
     "output_type": "stream",
     "text": [
      "$IBM: possibly delisted; no price data found  (period=1mo)\n"
     ]
    },
    {
     "name": "stdout",
     "output_type": "stream",
     "text": [
      "⚠️ No data found for IBM.\n",
      "⚠️ Not enough data for IBM. Skipping.\n",
      "📥 Fetching historical data for CAT...\n"
     ]
    },
    {
     "name": "stderr",
     "output_type": "stream",
     "text": [
      "$CAT: possibly delisted; no price data found  (period=1mo)\n"
     ]
    },
    {
     "name": "stdout",
     "output_type": "stream",
     "text": [
      "⚠️ No data found for CAT.\n",
      "⚠️ Not enough data for CAT. Skipping.\n",
      "📥 Fetching historical data for AMAT...\n"
     ]
    },
    {
     "name": "stderr",
     "output_type": "stream",
     "text": [
      "$AMAT: possibly delisted; no price data found  (period=1mo)\n"
     ]
    },
    {
     "name": "stdout",
     "output_type": "stream",
     "text": [
      "⚠️ No data found for AMAT.\n",
      "⚠️ Not enough data for AMAT. Skipping.\n",
      "📥 Fetching historical data for BSX...\n"
     ]
    },
    {
     "name": "stderr",
     "output_type": "stream",
     "text": [
      "$BSX: possibly delisted; no price data found  (period=1mo)\n"
     ]
    },
    {
     "name": "stdout",
     "output_type": "stream",
     "text": [
      "⚠️ No data found for BSX.\n",
      "⚠️ Not enough data for BSX. Skipping.\n",
      "📥 Fetching historical data for BA...\n"
     ]
    },
    {
     "name": "stderr",
     "output_type": "stream",
     "text": [
      "$BA: possibly delisted; no price data found  (period=1mo)\n"
     ]
    },
    {
     "name": "stdout",
     "output_type": "stream",
     "text": [
      "⚠️ No data found for BA.\n",
      "⚠️ Not enough data for BA. Skipping.\n",
      "📥 Fetching historical data for UPS...\n"
     ]
    },
    {
     "name": "stderr",
     "output_type": "stream",
     "text": [
      "$UPS: possibly delisted; no price data found  (period=1mo)\n"
     ]
    },
    {
     "name": "stdout",
     "output_type": "stream",
     "text": [
      "⚠️ No data found for UPS.\n",
      "⚠️ Not enough data for UPS. Skipping.\n",
      "📥 Fetching historical data for KLAC...\n"
     ]
    },
    {
     "name": "stderr",
     "output_type": "stream",
     "text": [
      "$KLAC: possibly delisted; no price data found  (period=1mo)\n"
     ]
    },
    {
     "name": "stdout",
     "output_type": "stream",
     "text": [
      "⚠️ No data found for KLAC.\n",
      "⚠️ Not enough data for KLAC. Skipping.\n",
      "📥 Fetching historical data for BRK-B...\n"
     ]
    },
    {
     "name": "stderr",
     "output_type": "stream",
     "text": [
      "$BRK-B: possibly delisted; no price data found  (period=1mo)\n"
     ]
    },
    {
     "name": "stdout",
     "output_type": "stream",
     "text": [
      "⚠️ No data found for BRK-B.\n",
      "⚠️ Not enough data for BRK-B. Skipping.\n",
      "📥 Fetching historical data for HD...\n"
     ]
    },
    {
     "name": "stderr",
     "output_type": "stream",
     "text": [
      "$HD: possibly delisted; no price data found  (period=1mo)\n"
     ]
    },
    {
     "name": "stdout",
     "output_type": "stream",
     "text": [
      "⚠️ No data found for HD.\n",
      "⚠️ Not enough data for HD. Skipping.\n",
      "📥 Fetching historical data for TMUS...\n"
     ]
    },
    {
     "name": "stderr",
     "output_type": "stream",
     "text": [
      "$TMUS: possibly delisted; no price data found  (period=1mo)\n"
     ]
    },
    {
     "name": "stdout",
     "output_type": "stream",
     "text": [
      "⚠️ No data found for TMUS.\n",
      "⚠️ Not enough data for TMUS. Skipping.\n",
      "📥 Fetching historical data for PEP...\n"
     ]
    },
    {
     "name": "stderr",
     "output_type": "stream",
     "text": [
      "$PEP: possibly delisted; no price data found  (period=1mo)\n"
     ]
    },
    {
     "name": "stdout",
     "output_type": "stream",
     "text": [
      "⚠️ No data found for PEP.\n",
      "⚠️ Not enough data for PEP. Skipping.\n",
      "📥 Fetching historical data for QCOM...\n"
     ]
    },
    {
     "name": "stderr",
     "output_type": "stream",
     "text": [
      "$QCOM: possibly delisted; no price data found  (period=1mo)\n"
     ]
    },
    {
     "name": "stdout",
     "output_type": "stream",
     "text": [
      "⚠️ No data found for QCOM.\n",
      "⚠️ Not enough data for QCOM. Skipping.\n",
      "📥 Fetching historical data for SPGI...\n"
     ]
    },
    {
     "name": "stderr",
     "output_type": "stream",
     "text": [
      "$SPGI: possibly delisted; no price data found  (period=1mo)\n"
     ]
    },
    {
     "name": "stdout",
     "output_type": "stream",
     "text": [
      "⚠️ No data found for SPGI.\n",
      "⚠️ Not enough data for SPGI. Skipping.\n",
      "📥 Fetching historical data for HON...\n"
     ]
    },
    {
     "name": "stderr",
     "output_type": "stream",
     "text": [
      "$HON: possibly delisted; no price data found  (period=1mo)\n"
     ]
    },
    {
     "name": "stdout",
     "output_type": "stream",
     "text": [
      "⚠️ No data found for HON.\n",
      "⚠️ Not enough data for HON. Skipping.\n",
      "📥 Fetching historical data for DE...\n"
     ]
    },
    {
     "name": "stderr",
     "output_type": "stream",
     "text": [
      "$DE: possibly delisted; no price data found  (period=1mo)\n"
     ]
    },
    {
     "name": "stdout",
     "output_type": "stream",
     "text": [
      "⚠️ No data found for DE.\n",
      "⚠️ Not enough data for DE. Skipping.\n",
      "📥 Fetching historical data for GEV...\n"
     ]
    },
    {
     "name": "stderr",
     "output_type": "stream",
     "text": [
      "$GEV: possibly delisted; no price data found  (period=1mo)\n"
     ]
    },
    {
     "name": "stdout",
     "output_type": "stream",
     "text": [
      "⚠️ No data found for GEV.\n",
      "⚠️ Not enough data for GEV. Skipping.\n",
      "📥 Fetching historical data for CHTR...\n"
     ]
    },
    {
     "name": "stderr",
     "output_type": "stream",
     "text": [
      "$CHTR: possibly delisted; no price data found  (period=1mo)\n"
     ]
    },
    {
     "name": "stdout",
     "output_type": "stream",
     "text": [
      "⚠️ No data found for CHTR.\n",
      "⚠️ Not enough data for CHTR. Skipping.\n",
      "📥 Fetching historical data for WMT...\n"
     ]
    },
    {
     "name": "stderr",
     "output_type": "stream",
     "text": [
      "$WMT: possibly delisted; no price data found  (period=1mo)\n"
     ]
    },
    {
     "name": "stdout",
     "output_type": "stream",
     "text": [
      "⚠️ No data found for WMT.\n",
      "⚠️ Not enough data for WMT. Skipping.\n",
      "📥 Fetching historical data for PG...\n"
     ]
    },
    {
     "name": "stderr",
     "output_type": "stream",
     "text": [
      "$PG: possibly delisted; no price data found  (period=1mo)\n"
     ]
    },
    {
     "name": "stdout",
     "output_type": "stream",
     "text": [
      "⚠️ No data found for PG.\n",
      "⚠️ Not enough data for PG. Skipping.\n",
      "📥 Fetching historical data for MRK...\n"
     ]
    },
    {
     "name": "stderr",
     "output_type": "stream",
     "text": [
      "$MRK: possibly delisted; no price data found  (period=1mo)\n"
     ]
    },
    {
     "name": "stdout",
     "output_type": "stream",
     "text": [
      "⚠️ No data found for MRK.\n",
      "⚠️ Not enough data for MRK. Skipping.\n",
      "📥 Fetching historical data for MCD...\n"
     ]
    },
    {
     "name": "stderr",
     "output_type": "stream",
     "text": [
      "$MCD: possibly delisted; no price data found  (period=1mo)\n"
     ]
    },
    {
     "name": "stdout",
     "output_type": "stream",
     "text": [
      "⚠️ No data found for MCD.\n",
      "⚠️ Not enough data for MCD. Skipping.\n",
      "📥 Fetching historical data for TXN...\n"
     ]
    },
    {
     "name": "stderr",
     "output_type": "stream",
     "text": [
      "$TXN: possibly delisted; no price data found  (period=1mo)\n"
     ]
    },
    {
     "name": "stdout",
     "output_type": "stream",
     "text": [
      "⚠️ No data found for TXN.\n",
      "⚠️ Not enough data for TXN. Skipping.\n",
      "📥 Fetching historical data for BLK...\n"
     ]
    },
    {
     "name": "stderr",
     "output_type": "stream",
     "text": [
      "$BLK: possibly delisted; no price data found  (period=1mo)\n"
     ]
    },
    {
     "name": "stdout",
     "output_type": "stream",
     "text": [
      "⚠️ No data found for BLK.\n",
      "⚠️ Not enough data for BLK. Skipping.\n",
      "📥 Fetching historical data for PGR...\n"
     ]
    },
    {
     "name": "stderr",
     "output_type": "stream",
     "text": [
      "$PGR: possibly delisted; no price data found  (period=1mo)\n"
     ]
    },
    {
     "name": "stdout",
     "output_type": "stream",
     "text": [
      "⚠️ No data found for PGR.\n",
      "⚠️ Not enough data for PGR. Skipping.\n",
      "📥 Fetching historical data for ADP...\n"
     ]
    },
    {
     "name": "stderr",
     "output_type": "stream",
     "text": [
      "$ADP: possibly delisted; no price data found  (period=1mo)\n"
     ]
    },
    {
     "name": "stdout",
     "output_type": "stream",
     "text": [
      "⚠️ No data found for ADP.\n",
      "⚠️ Not enough data for ADP. Skipping.\n",
      "📥 Fetching historical data for ADI...\n"
     ]
    },
    {
     "name": "stderr",
     "output_type": "stream",
     "text": [
      "$ADI: possibly delisted; no price data found  (period=1mo)\n"
     ]
    },
    {
     "name": "stdout",
     "output_type": "stream",
     "text": [
      "⚠️ No data found for ADI.\n",
      "⚠️ Not enough data for ADI. Skipping.\n",
      "📥 Fetching historical data for CEG...\n"
     ]
    },
    {
     "name": "stderr",
     "output_type": "stream",
     "text": [
      "$CEG: possibly delisted; no price data found  (period=1mo)\n"
     ]
    },
    {
     "name": "stdout",
     "output_type": "stream",
     "text": [
      "⚠️ No data found for CEG.\n",
      "⚠️ Not enough data for CEG. Skipping.\n"
     ]
    },
    {
     "ename": "KeyError",
     "evalue": "\"None of ['Date'] are in the columns\"",
     "output_type": "error",
     "traceback": [
      "\u001b[1;31m---------------------------------------------------------------------------\u001b[0m",
      "\u001b[1;31mKeyError\u001b[0m                                  Traceback (most recent call last)",
      "\u001b[1;32m~\\AppData\\Local\\Temp\\ipykernel_77296\\451043146.py\u001b[0m in \u001b[0;36m?\u001b[1;34m()\u001b[0m\n\u001b[1;32m----> 1\u001b[1;33m \u001b[0mmain\u001b[0m\u001b[1;33m(\u001b[0m\u001b[1;33m)\u001b[0m\u001b[1;33m\u001b[0m\u001b[1;33m\u001b[0m\u001b[0m\n\u001b[0m",
      "\u001b[1;32m~\\AppData\\Local\\Temp\\ipykernel_77296\\2908154050.py\u001b[0m in \u001b[0;36m?\u001b[1;34m()\u001b[0m\n\u001b[0;32m      9\u001b[0m     \u001b[1;31m# Ask user for initial capital\u001b[0m\u001b[1;33m\u001b[0m\u001b[1;33m\u001b[0m\u001b[0m\n\u001b[0;32m     10\u001b[0m     \u001b[0minitial_capital\u001b[0m \u001b[1;33m=\u001b[0m \u001b[0mget_portfolio_size\u001b[0m\u001b[1;33m(\u001b[0m\u001b[1;33m)\u001b[0m\u001b[1;33m\u001b[0m\u001b[1;33m\u001b[0m\u001b[0m\n\u001b[0;32m     11\u001b[0m \u001b[1;33m\u001b[0m\u001b[0m\n\u001b[0;32m     12\u001b[0m     \u001b[1;31m# Track portfolio performance over time\u001b[0m\u001b[1;33m\u001b[0m\u001b[1;33m\u001b[0m\u001b[0m\n\u001b[1;32m---> 13\u001b[1;33m     \u001b[0mportfolio_value_df\u001b[0m\u001b[1;33m,\u001b[0m \u001b[0mportfolio_composition_df\u001b[0m\u001b[1;33m,\u001b[0m \u001b[0masset_value_df\u001b[0m \u001b[1;33m=\u001b[0m \u001b[0mtrack_portfolio_over_time\u001b[0m\u001b[1;33m(\u001b[0m\u001b[0mprice_data\u001b[0m\u001b[1;33m,\u001b[0m \u001b[0minitial_capital\u001b[0m\u001b[1;33m)\u001b[0m\u001b[1;33m\u001b[0m\u001b[1;33m\u001b[0m\u001b[0m\n\u001b[0m\u001b[0;32m     14\u001b[0m \u001b[1;33m\u001b[0m\u001b[0m\n\u001b[0;32m     15\u001b[0m     \u001b[1;31m# Calculate returns\u001b[0m\u001b[1;33m\u001b[0m\u001b[1;33m\u001b[0m\u001b[0m\n\u001b[0;32m     16\u001b[0m     \u001b[0mportfolio_value_df\u001b[0m\u001b[1;33m[\u001b[0m\u001b[1;34m\"Daily Return\"\u001b[0m\u001b[1;33m]\u001b[0m \u001b[1;33m=\u001b[0m \u001b[0mportfolio_value_df\u001b[0m\u001b[1;33m[\u001b[0m\u001b[1;34m\"Portfolio Value\"\u001b[0m\u001b[1;33m]\u001b[0m\u001b[1;33m.\u001b[0m\u001b[0mpct_change\u001b[0m\u001b[1;33m(\u001b[0m\u001b[1;33m)\u001b[0m\u001b[1;33m\u001b[0m\u001b[1;33m\u001b[0m\u001b[0m\n",
      "\u001b[1;32m~\\AppData\\Local\\Temp\\ipykernel_77296\\3197770652.py\u001b[0m in \u001b[0;36m?\u001b[1;34m(price_data, initial_capital)\u001b[0m\n\u001b[0;32m     62\u001b[0m             \u001b[1;33m**\u001b[0m\u001b[1;33m{\u001b[0m\u001b[1;33mf\"\u001b[0m\u001b[1;33mAlloc_\u001b[0m\u001b[1;33m{\u001b[0m\u001b[0mticker\u001b[0m\u001b[1;33m}\u001b[0m\u001b[1;33m\"\u001b[0m\u001b[1;33m:\u001b[0m \u001b[0mround\u001b[0m\u001b[1;33m(\u001b[0m\u001b[0malloc\u001b[0m\u001b[1;33m,\u001b[0m \u001b[1;36m4\u001b[0m\u001b[1;33m)\u001b[0m \u001b[1;32mfor\u001b[0m \u001b[0mticker\u001b[0m\u001b[1;33m,\u001b[0m \u001b[0malloc\u001b[0m \u001b[1;32min\u001b[0m \u001b[0mallocation\u001b[0m\u001b[1;33m.\u001b[0m\u001b[0mitems\u001b[0m\u001b[1;33m(\u001b[0m\u001b[1;33m)\u001b[0m\u001b[1;33m}\u001b[0m  \u001b[1;31m# Allocation %\u001b[0m\u001b[1;33m\u001b[0m\u001b[1;33m\u001b[0m\u001b[0m\n\u001b[0;32m     63\u001b[0m         \u001b[1;33m}\u001b[0m\u001b[1;33m)\u001b[0m\u001b[1;33m\u001b[0m\u001b[1;33m\u001b[0m\u001b[0m\n\u001b[0;32m     64\u001b[0m \u001b[1;33m\u001b[0m\u001b[0m\n\u001b[0;32m     65\u001b[0m     \u001b[1;31m# ✅ Convert to DataFrames\u001b[0m\u001b[1;33m\u001b[0m\u001b[1;33m\u001b[0m\u001b[0m\n\u001b[1;32m---> 66\u001b[1;33m     \u001b[0mportfolio_value_df\u001b[0m \u001b[1;33m=\u001b[0m \u001b[0mpd\u001b[0m\u001b[1;33m.\u001b[0m\u001b[0mDataFrame\u001b[0m\u001b[1;33m(\u001b[0m\u001b[0mportfolio_value_data\u001b[0m\u001b[1;33m)\u001b[0m\u001b[1;33m.\u001b[0m\u001b[0mset_index\u001b[0m\u001b[1;33m(\u001b[0m\u001b[1;34m\"Date\"\u001b[0m\u001b[1;33m)\u001b[0m\u001b[1;33m\u001b[0m\u001b[1;33m\u001b[0m\u001b[0m\n\u001b[0m\u001b[0;32m     67\u001b[0m     \u001b[0mportfolio_composition_df\u001b[0m \u001b[1;33m=\u001b[0m \u001b[0mpd\u001b[0m\u001b[1;33m.\u001b[0m\u001b[0mDataFrame\u001b[0m\u001b[1;33m(\u001b[0m\u001b[0mportfolio_composition_data\u001b[0m\u001b[1;33m)\u001b[0m\u001b[1;33m.\u001b[0m\u001b[0mset_index\u001b[0m\u001b[1;33m(\u001b[0m\u001b[1;34m\"Date\"\u001b[0m\u001b[1;33m)\u001b[0m\u001b[1;33m\u001b[0m\u001b[1;33m\u001b[0m\u001b[0m\n\u001b[0;32m     68\u001b[0m \u001b[1;33m\u001b[0m\u001b[0m\n\u001b[0;32m     69\u001b[0m     \u001b[1;32mreturn\u001b[0m \u001b[0mportfolio_value_df\u001b[0m\u001b[1;33m,\u001b[0m \u001b[0mportfolio_composition_df\u001b[0m\u001b[1;33m\u001b[0m\u001b[1;33m\u001b[0m\u001b[0m\n",
      "\u001b[1;32mc:\\Users\\diego\\anaconda3\\Lib\\site-packages\\pandas\\core\\frame.py\u001b[0m in \u001b[0;36m?\u001b[1;34m(self, keys, drop, append, inplace, verify_integrity)\u001b[0m\n\u001b[0;32m   5866\u001b[0m                     \u001b[1;32mif\u001b[0m \u001b[1;32mnot\u001b[0m \u001b[0mfound\u001b[0m\u001b[1;33m:\u001b[0m\u001b[1;33m\u001b[0m\u001b[1;33m\u001b[0m\u001b[0m\n\u001b[0;32m   5867\u001b[0m                         \u001b[0mmissing\u001b[0m\u001b[1;33m.\u001b[0m\u001b[0mappend\u001b[0m\u001b[1;33m(\u001b[0m\u001b[0mcol\u001b[0m\u001b[1;33m)\u001b[0m\u001b[1;33m\u001b[0m\u001b[1;33m\u001b[0m\u001b[0m\n\u001b[0;32m   5868\u001b[0m \u001b[1;33m\u001b[0m\u001b[0m\n\u001b[0;32m   5869\u001b[0m         \u001b[1;32mif\u001b[0m \u001b[0mmissing\u001b[0m\u001b[1;33m:\u001b[0m\u001b[1;33m\u001b[0m\u001b[1;33m\u001b[0m\u001b[0m\n\u001b[1;32m-> 5870\u001b[1;33m             \u001b[1;32mraise\u001b[0m \u001b[0mKeyError\u001b[0m\u001b[1;33m(\u001b[0m\u001b[1;33mf\"\u001b[0m\u001b[1;33mNone of \u001b[0m\u001b[1;33m{\u001b[0m\u001b[0mmissing\u001b[0m\u001b[1;33m}\u001b[0m\u001b[1;33m are in the columns\u001b[0m\u001b[1;33m\"\u001b[0m\u001b[1;33m)\u001b[0m\u001b[1;33m\u001b[0m\u001b[1;33m\u001b[0m\u001b[0m\n\u001b[0m\u001b[0;32m   5871\u001b[0m \u001b[1;33m\u001b[0m\u001b[0m\n\u001b[0;32m   5872\u001b[0m         \u001b[1;32mif\u001b[0m \u001b[0minplace\u001b[0m\u001b[1;33m:\u001b[0m\u001b[1;33m\u001b[0m\u001b[1;33m\u001b[0m\u001b[0m\n\u001b[0;32m   5873\u001b[0m             \u001b[0mframe\u001b[0m \u001b[1;33m=\u001b[0m \u001b[0mself\u001b[0m\u001b[1;33m\u001b[0m\u001b[1;33m\u001b[0m\u001b[0m\n",
      "\u001b[1;31mKeyError\u001b[0m: \"None of ['Date'] are in the columns\""
     ]
    }
   ],
   "source": [
    "main()"
   ]
  },
  {
   "cell_type": "code",
   "execution_count": null,
   "metadata": {},
   "outputs": [],
   "source": []
  }
 ],
 "metadata": {
  "kernelspec": {
   "display_name": "base",
   "language": "python",
   "name": "python3"
  },
  "language_info": {
   "codemirror_mode": {
    "name": "ipython",
    "version": 3
   },
   "file_extension": ".py",
   "mimetype": "text/x-python",
   "name": "python",
   "nbconvert_exporter": "python",
   "pygments_lexer": "ipython3",
   "version": "3.12.4"
  }
 },
 "nbformat": 4,
 "nbformat_minor": 2
}
